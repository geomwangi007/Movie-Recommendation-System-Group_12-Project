{
  "cells": [
    {
      "cell_type": "markdown",
      "metadata": {
        "id": "TSaelpnkiT9r"
      },
      "source": [
        "# \"Intelligent Movie Recommendations with Neural Networks and NLP\""
      ]
    },
    {
      "cell_type": "markdown",
      "metadata": {
        "id": "hCJisvfIiT9r"
      },
      "source": [
        "## Problem Statement\n",
        "In today's digital age, the sheer volume of available movies has grown exponentially, leading to an overwhelming choice paralysis for viewers seeking content that aligns with their personal tastes. Traditional recommendation systems often fall short by providing generic suggestions based on popularity or simplistic user behaviors, failing to capture the nuanced preferences of individual users. This lack of personalization results in a suboptimal viewing experience, where users spend more time searching for movies than enjoying them.\n",
        "\n",
        "The FlickPick Engine aims to solve this problem by developing an intelligent movie recommendation system that delivers highly personalized and relevant suggestions to users. By leveraging advanced machine learning techniques—specifically neural networks for collaborative filtering and Natural Language Processing (NLP) for content analysis—the system can understand and interpret both user preferences and movie attributes on a deeper level.\n",
        "\n",
        "By addressing the challenges of information overload and impersonal recommendations, the FlickPick Engine enhances the movie discovery process. It empowers users to effortlessly find films that resonate with their unique tastes, thereby improving user satisfaction and engagement with the platform."
      ]
    },
    {
      "cell_type": "markdown",
      "metadata": {
        "id": "Ypp8pJA_iT9w"
      },
      "source": [
        "## Data Understanding\n",
        "To develop the FlickPick Engine, we utilized the MovieLens 20M Dataset, a widely recognized dataset in the recommendation systems domain. This dataset provides a rich source of user ratings, movie metadata, and user-generated tags, enabling the creation of a robust and personalized movie recommendation system.\n",
        "\n",
        "### Data Sources\n",
        "1. Ratings Data (ratings.csv): Contains 25 million ratings ranging from 0.5 to 5.0, provided by 162,541 users on 62,423 movies.\n",
        "2. Movies Data (movies.csv): Includes movie IDs, titles, and genres for all movies rated in the dataset.\n",
        "3. Tags Data (tags.csv): Consists of 1.1 million user-generated tags applied to movies, offering additional contextual information.\n",
        "4. Links Data (links.csv): Provides identifiers that link MovieLens movie IDs with IDs from other databases like IMDb and TMDb."
      ]
    },
    {
      "cell_type": "markdown",
      "metadata": {
        "id": "II_QbxsEiT9x"
      },
      "source": [
        "## Data Loading"
      ]
    },
    {
      "cell_type": "code",
      "execution_count": 38,
      "metadata": {
        "colab": {
          "base_uri": "https://localhost:8080/"
        },
        "id": "6HoCYzw1U4xR",
        "outputId": "d6165551-eaa5-4ecc-e7e2-2bbd68528c1d"
      },
      "outputs": [
        {
          "name": "stdout",
          "output_type": "stream",
          "text": [
            "Requirement already satisfied: wordcloud in c:\\users\\hp\\appdata\\local\\anaconda3\\envs\\learn-env\\lib\\site-packages (1.9.3)\n",
            "Requirement already satisfied: matplotlib in c:\\users\\hp\\appdata\\local\\anaconda3\\envs\\learn-env\\lib\\site-packages (from wordcloud) (3.3.1)\n",
            "Requirement already satisfied: numpy>=1.6.1 in c:\\users\\hp\\appdata\\local\\anaconda3\\envs\\learn-env\\lib\\site-packages (from wordcloud) (1.22.0)\n",
            "Requirement already satisfied: pillow in c:\\users\\hp\\appdata\\local\\anaconda3\\envs\\learn-env\\lib\\site-packages (from wordcloud) (8.0.0)\n",
            "Requirement already satisfied: certifi>=2020.06.20 in c:\\users\\hp\\appdata\\local\\anaconda3\\envs\\learn-env\\lib\\site-packages (from matplotlib->wordcloud) (2020.6.20)\n",
            "Requirement already satisfied: pyparsing!=2.0.4,!=2.1.2,!=2.1.6,>=2.0.3 in c:\\users\\hp\\appdata\\local\\anaconda3\\envs\\learn-env\\lib\\site-packages (from matplotlib->wordcloud) (2.4.7)\n",
            "Requirement already satisfied: kiwisolver>=1.0.1 in c:\\users\\hp\\appdata\\local\\anaconda3\\envs\\learn-env\\lib\\site-packages (from matplotlib->wordcloud) (1.2.0)\n",
            "Requirement already satisfied: python-dateutil>=2.1 in c:\\users\\hp\\appdata\\local\\anaconda3\\envs\\learn-env\\lib\\site-packages (from matplotlib->wordcloud) (2.9.0.post0)\n",
            "Requirement already satisfied: cycler>=0.10 in c:\\users\\hp\\appdata\\local\\anaconda3\\envs\\learn-env\\lib\\site-packages (from matplotlib->wordcloud) (0.10.0)\n",
            "Requirement already satisfied: six>=1.5 in c:\\users\\hp\\appdata\\local\\anaconda3\\envs\\learn-env\\lib\\site-packages (from python-dateutil>=2.1->matplotlib->wordcloud) (1.15.0)\n",
            "Note: you may need to restart the kernel to use updated packages.\n"
          ]
        }
      ],
      "source": [
        "pip install wordcloud"
      ]
    },
    {
      "cell_type": "code",
      "execution_count": 39,
      "metadata": {
        "colab": {
          "base_uri": "https://localhost:8080/"
        },
        "id": "gLZMXPRThiNl",
        "outputId": "72dedc6c-e463-4820-a201-86b5d99d9fd4"
      },
      "outputs": [
        {
          "name": "stdout",
          "output_type": "stream",
          "text": [
            "Requirement already satisfied: scikit-surprise in c:\\users\\hp\\appdata\\local\\anaconda3\\envs\\learn-env\\lib\\site-packages (1.1.1)\n",
            "Requirement already satisfied: joblib>=0.11 in c:\\users\\hp\\appdata\\local\\anaconda3\\envs\\learn-env\\lib\\site-packages (from scikit-surprise) (0.17.0)\n",
            "Requirement already satisfied: numpy>=1.11.2 in c:\\users\\hp\\appdata\\local\\anaconda3\\envs\\learn-env\\lib\\site-packages (from scikit-surprise) (1.22.0)\n",
            "Requirement already satisfied: scipy>=1.0.0 in c:\\users\\hp\\appdata\\local\\anaconda3\\envs\\learn-env\\lib\\site-packages (from scikit-surprise) (1.10.1)\n",
            "Requirement already satisfied: six>=1.10.0 in c:\\users\\hp\\appdata\\local\\anaconda3\\envs\\learn-env\\lib\\site-packages (from scikit-surprise) (1.15.0)\n",
            "Note: you may need to restart the kernel to use updated packages.\n"
          ]
        }
      ],
      "source": [
        "pip install scikit-surprise"
      ]
    },
    {
      "cell_type": "code",
      "execution_count": 40,
      "metadata": {
        "id": "z1TZVjJniT9y"
      },
      "outputs": [],
      "source": [
        "# Importing the necessary libraries\n",
        "import pandas as pd\n",
        "import numpy as np\n",
        "import matplotlib.pyplot as plt\n",
        "import seaborn as sns\n",
        "from wordcloud import WordCloud\n",
        "from scipy.stats import ttest_rel\n",
        "from collections import defaultdict\n",
        "from sklearn.model_selection import train_test_split\n",
        "from surprise import Prediction,accuracy,Dataset, Reader, SVD,SVDpp,KNNBasic,KNNWithMeans,KNNBaseline,KNNWithZScore\n",
        "from sklearn.metrics.pairwise import cosine_similarity,linear_kernel\n",
        "import re\n",
        "import nltk\n",
        "from nltk.corpus import stopwords\n",
        "from nltk.stem import WordNetLemmatizer\n",
        "from nltk.tokenize import word_tokenize\n",
        "from sklearn.metrics import mean_squared_error,recall_score\n",
        "from surprise.model_selection import GridSearchCV,train_test_split\n",
        "from sklearn.feature_extraction.text import TfidfVectorizer\n",
        "import warnings\n",
        "warnings.filterwarnings('ignore')"
      ]
    },
    {
      "cell_type": "code",
      "execution_count": 41,
      "metadata": {
        "id": "M2dkol19iT91"
      },
      "outputs": [],
      "source": [
        "# load the datasets\n",
        "links_df = pd.read_csv('Data/ml-latest-small/links.csv')\n",
        "movies_df = pd.read_csv('Data/ml-latest-small/movies.csv')\n",
        "ratings_df = pd.read_csv('Data/ml-latest-small/ratings.csv')\n",
        "tags_df = pd.read_csv('Data/ml-latest-small/tags.csv')"
      ]
    },
    {
      "cell_type": "markdown",
      "metadata": {
        "id": "gN3EWREjiT93"
      },
      "source": [
        "### Inspecting the structure of the datasets"
      ]
    },
    {
      "cell_type": "code",
      "execution_count": 42,
      "metadata": {
        "colab": {
          "base_uri": "https://localhost:8080/"
        },
        "id": "JF_zJ7MfiT94",
        "outputId": "c710c497-0790-460b-bd93-595ba8a239a1"
      },
      "outputs": [
        {
          "name": "stdout",
          "output_type": "stream",
          "text": [
            "<class 'pandas.core.frame.DataFrame'>\n",
            "RangeIndex: 9742 entries, 0 to 9741\n",
            "Data columns (total 3 columns):\n",
            " #   Column   Non-Null Count  Dtype  \n",
            "---  ------   --------------  -----  \n",
            " 0   movieId  9742 non-null   int64  \n",
            " 1   imdbId   9742 non-null   int64  \n",
            " 2   tmdbId   9734 non-null   float64\n",
            "dtypes: float64(1), int64(2)\n",
            "memory usage: 228.5 KB\n"
          ]
        }
      ],
      "source": [
        "links_df.info()"
      ]
    },
    {
      "cell_type": "code",
      "execution_count": 43,
      "metadata": {
        "colab": {
          "base_uri": "https://localhost:8080/"
        },
        "id": "KCIgaBX7iT95",
        "outputId": "dcb4b7d3-219c-49a9-8d4b-7b98e440ae9b"
      },
      "outputs": [
        {
          "name": "stdout",
          "output_type": "stream",
          "text": [
            "<class 'pandas.core.frame.DataFrame'>\n",
            "RangeIndex: 9742 entries, 0 to 9741\n",
            "Data columns (total 3 columns):\n",
            " #   Column   Non-Null Count  Dtype \n",
            "---  ------   --------------  ----- \n",
            " 0   movieId  9742 non-null   int64 \n",
            " 1   title    9742 non-null   object\n",
            " 2   genres   9742 non-null   object\n",
            "dtypes: int64(1), object(2)\n",
            "memory usage: 228.5+ KB\n"
          ]
        }
      ],
      "source": [
        "movies_df.info()"
      ]
    },
    {
      "cell_type": "code",
      "execution_count": 44,
      "metadata": {
        "colab": {
          "base_uri": "https://localhost:8080/"
        },
        "id": "CFuLrcSiiT96",
        "outputId": "2cc1181b-2154-40c7-be26-c205d1d0ea09"
      },
      "outputs": [
        {
          "name": "stdout",
          "output_type": "stream",
          "text": [
            "<class 'pandas.core.frame.DataFrame'>\n",
            "RangeIndex: 100836 entries, 0 to 100835\n",
            "Data columns (total 4 columns):\n",
            " #   Column     Non-Null Count   Dtype  \n",
            "---  ------     --------------   -----  \n",
            " 0   userId     100836 non-null  int64  \n",
            " 1   movieId    100836 non-null  int64  \n",
            " 2   rating     100836 non-null  float64\n",
            " 3   timestamp  100836 non-null  int64  \n",
            "dtypes: float64(1), int64(3)\n",
            "memory usage: 3.1 MB\n"
          ]
        }
      ],
      "source": [
        "ratings_df.info()"
      ]
    },
    {
      "cell_type": "code",
      "execution_count": 45,
      "metadata": {
        "colab": {
          "base_uri": "https://localhost:8080/"
        },
        "id": "ffWHcbHFiT96",
        "outputId": "2195bd2c-a543-4854-efc9-b76d20dc66b4"
      },
      "outputs": [
        {
          "name": "stdout",
          "output_type": "stream",
          "text": [
            "<class 'pandas.core.frame.DataFrame'>\n",
            "RangeIndex: 3683 entries, 0 to 3682\n",
            "Data columns (total 4 columns):\n",
            " #   Column     Non-Null Count  Dtype \n",
            "---  ------     --------------  ----- \n",
            " 0   userId     3683 non-null   int64 \n",
            " 1   movieId    3683 non-null   int64 \n",
            " 2   tag        3683 non-null   object\n",
            " 3   timestamp  3683 non-null   int64 \n",
            "dtypes: int64(3), object(1)\n",
            "memory usage: 115.2+ KB\n"
          ]
        }
      ],
      "source": [
        "tags_df.info()"
      ]
    },
    {
      "cell_type": "markdown",
      "metadata": {
        "id": "fFM507EBiT97"
      },
      "source": [
        "### Checking for missing values and duplicates"
      ]
    },
    {
      "cell_type": "code",
      "execution_count": 46,
      "metadata": {
        "colab": {
          "base_uri": "https://localhost:8080/"
        },
        "id": "igWeK27XiT97",
        "outputId": "b3c89717-d7a1-4d5b-82c4-bf0ec0e8e11b"
      },
      "outputs": [
        {
          "data": {
            "text/plain": [
              "({'missing_values': movieId    0\n",
              "  imdbId     0\n",
              "  tmdbId     8\n",
              "  dtype: int64,\n",
              "  'duplicates': 0},\n",
              " {'missing_values': movieId    0\n",
              "  title      0\n",
              "  genres     0\n",
              "  dtype: int64,\n",
              "  'duplicates': 0},\n",
              " {'missing_values': userId       0\n",
              "  movieId      0\n",
              "  rating       0\n",
              "  timestamp    0\n",
              "  dtype: int64,\n",
              "  'duplicates': 0,\n",
              "  'invalid_ratings': 0},\n",
              " {'missing_values': userId       0\n",
              "  movieId      0\n",
              "  tag          0\n",
              "  timestamp    0\n",
              "  dtype: int64,\n",
              "  'duplicates': 0})"
            ]
          },
          "execution_count": 46,
          "metadata": {},
          "output_type": "execute_result"
        }
      ],
      "source": [
        "# Check for missing values and duplicates\n",
        "\n",
        "links_info = {\n",
        "    \"missing_values\": links_df.isnull().sum(),\n",
        "    \"duplicates\": links_df.duplicated().sum()\n",
        "}\n",
        "\n",
        "movies_info = {\n",
        "    \"missing_values\": movies_df.isnull().sum(),\n",
        "    \"duplicates\": movies_df.duplicated().sum()\n",
        "}\n",
        "\n",
        "ratings_info = {\n",
        "    \"missing_values\": ratings_df.isnull().sum(),\n",
        "    \"duplicates\": ratings_df.duplicated().sum(),\n",
        "    \"invalid_ratings\": ratings_df[~ratings_df['rating'].between(0.5, 5)].shape[0]\n",
        "}\n",
        "\n",
        "tags_info = {\n",
        "    \"missing_values\": tags_df.isnull().sum(),\n",
        "    \"duplicates\": tags_df.duplicated().sum()\n",
        "}\n",
        "\n",
        "\n",
        "links_info, movies_info, ratings_info, tags_info"
      ]
    },
    {
      "cell_type": "markdown",
      "metadata": {
        "id": "EtBQ8ZB7iT98"
      },
      "source": [
        "1. links.csv:\n",
        "\n",
        "- Missing Values: There are 8 missing values in the tmdbId column.\n",
        "- Duplicates: There are no duplicate rows.\n",
        "2. movies.csv:\n",
        "\n",
        "- Missing Values: No missing values were found.\n",
        "- Duplicates: There are no duplicate rows.\n",
        "3. ratings.csv:\n",
        "\n",
        "- Missing Values: No missing values were found.\n",
        "- Duplicates: There are no duplicate rows.\n",
        "- Invalid Ratings: All ratings are valid, meaning they fall within the expected range (0.5 to 5).\n",
        "4. tags.csv:\n",
        "\n",
        "- Missing Values: No missing values were found.\n",
        "- Duplicates: There are no duplicate rows."
      ]
    },
    {
      "cell_type": "code",
      "execution_count": 47,
      "metadata": {
        "id": "w3cPZg-4iT98"
      },
      "outputs": [],
      "source": [
        "# Droping rows with missing tmdbId\n",
        "links_df = links_df.dropna(subset=['tmdbId'])"
      ]
    },
    {
      "cell_type": "code",
      "execution_count": 48,
      "metadata": {
        "colab": {
          "base_uri": "https://localhost:8080/"
        },
        "id": "OaFNzujliT99",
        "outputId": "8bf82d9e-e6ca-4aa2-979f-716b8ebc966a"
      },
      "outputs": [
        {
          "data": {
            "text/plain": [
              "(movieId      int64\n",
              " imdbId       int64\n",
              " tmdbId     float64\n",
              " dtype: object,\n",
              " movieId     int64\n",
              " title      object\n",
              " genres     object\n",
              " dtype: object,\n",
              " userId         int64\n",
              " movieId        int64\n",
              " rating       float64\n",
              " timestamp      int64\n",
              " dtype: object,\n",
              " userId        int64\n",
              " movieId       int64\n",
              " tag          object\n",
              " timestamp     int64\n",
              " dtype: object)"
            ]
          },
          "execution_count": 48,
          "metadata": {},
          "output_type": "execute_result"
        }
      ],
      "source": [
        "# Checking the current data types of each column in the datasets\n",
        "links_dtypes = links_df.dtypes\n",
        "movies_dtypes = movies_df.dtypes\n",
        "ratings_dtypes = ratings_df.dtypes\n",
        "tags_dtypes = tags_df.dtypes\n",
        "\n",
        "# Reviewing data types\n",
        "links_dtypes, movies_dtypes, ratings_dtypes, tags_dtypes"
      ]
    },
    {
      "cell_type": "markdown",
      "metadata": {
        "id": "rHEugvBeiT-B"
      },
      "source": [
        "1. links.csv:\n",
        "\n",
        "- movieId: int64 (appropriate)\n",
        "- imdbId: int64 (appropriate)\n",
        "- tmdbId: float64 (should be int64, as tmdbId is an identifier and doesn't need decimal precision)\n",
        "2. movies.csv:\n",
        "\n",
        "- movieId: int64 (appropriate)\n",
        "- title: object (appropriate for movie titles)\n",
        "- genres: object (appropriate for genres, which are stored as strings)\n",
        "3. ratings.csv:\n",
        "\n",
        "- userId: int64 (appropriate)\n",
        "- movieId: int64 (appropriate)\n",
        "- rating: float64 (appropriate since ratings have decimal points)\n",
        "- timestamp: int64 (appropriate for Unix timestamps)\n",
        "4. tags.csv:\n",
        "\n",
        "- userId: int64 (appropriate)\n",
        "- movieId: int64 (appropriate)\n",
        "- tag: object (appropriate for textual tags)\n",
        "- timestamp: int64 (appropriate for Unix timestamps)\n",
        "\n",
        "Adjustment:\n",
        "\n",
        "In links.csv, the tmdbId column should be converted to int64 because it represents a unique identifier"
      ]
    },
    {
      "cell_type": "code",
      "execution_count": 49,
      "metadata": {
        "id": "M_wrhYo6iT-C"
      },
      "outputs": [],
      "source": [
        "# Converting tmdbId to int64\n",
        "links_df['tmdbId'] = links_df['tmdbId'].astype('int64')"
      ]
    },
    {
      "cell_type": "code",
      "execution_count": 50,
      "metadata": {
        "colab": {
          "base_uri": "https://localhost:8080/"
        },
        "id": "TMI4XXq1Yu0F",
        "outputId": "210c2fe0-109e-4d10-a487-ad593553ea30"
      },
      "outputs": [
        {
          "name": "stdout",
          "output_type": "stream",
          "text": [
            "object\n"
          ]
        }
      ],
      "source": [
        "print(movies_df['genres'].dtype)"
      ]
    },
    {
      "cell_type": "code",
      "execution_count": 51,
      "metadata": {
        "id": "ty-TdDMYYz0c"
      },
      "outputs": [],
      "source": [
        "movies_df['genres'] = movies_df['genres'].astype(str)"
      ]
    },
    {
      "cell_type": "code",
      "execution_count": 52,
      "metadata": {
        "colab": {
          "base_uri": "https://localhost:8080/"
        },
        "id": "OSDY8m2sY2e8",
        "outputId": "67d58027-72c2-4e48-ce31-140f4f19fd1e"
      },
      "outputs": [
        {
          "name": "stdout",
          "output_type": "stream",
          "text": [
            "object\n"
          ]
        }
      ],
      "source": [
        "print(movies_df['genres'].dtype)"
      ]
    },
    {
      "cell_type": "markdown",
      "metadata": {
        "id": "sxRji7PliT-C"
      },
      "source": [
        "## Data Visualization"
      ]
    },
    {
      "cell_type": "markdown",
      "metadata": {
        "id": "kKOmsfyqiT-D"
      },
      "source": [
        "First Lets look at the distribution of movie ratings\n",
        "\n",
        "**Purpose:**\n",
        "\n",
        "Understand the overall distribution of movie ratings.\n",
        "\n",
        "Identify any biases (e.g., users tending to give higher ratings).\n",
        "\n",
        "Identify the most common ratings (e.g., peaks at whole numbers like 4.0 or 5.0).\n",
        "\n",
        "Assess whether the distribution is skewed toward higher or lower ratings."
      ]
    },
    {
      "cell_type": "code",
      "execution_count": 53,
      "metadata": {
        "colab": {
          "base_uri": "https://localhost:8080/",
          "height": 564
        },
        "id": "nlpOlllyiT-D",
        "outputId": "1bc97295-d761-45f1-fdc5-e1a389f4d6d0"
      },
      "outputs": [
        {
          "data": {
            "image/png": "[encoded data removed]",
            "text/plain": [
              "<Figure size 576x432 with 1 Axes>"
            ]
          },
          "metadata": {
            "needs_background": "light"
          },
          "output_type": "display_data"
        }
      ],
      "source": [
        "# Ploting histogram\n",
        "plt.figure(figsize=(8, 6))\n",
        "sns.histplot(ratings_df['rating'], bins=10)\n",
        "plt.title('Distribution of Movie Ratings')\n",
        "plt.xlabel('Rating')\n",
        "plt.ylabel('Count')\n",
        "plt.savefig('Visualizations/Distribution of Movie Ratings')\n",
        "plt.show()"
      ]
    },
    {
      "cell_type": "markdown",
      "metadata": {
        "id": "fKANkqvTiT-E"
      },
      "source": [
        "- Skew Towards Higher Ratings: The distribution is right-skewed, with most ratings clustering around 3, 4, and 5. Ratings of 4 are the most frequent, indicating that users generally rate movies quite positively.\n",
        "\n",
        "- Few Low Ratings: There are relatively few ratings of 1 and 2, which suggests that users may be less likely to give movies extremely low scores, or that most of the movies in the dataset are well-regarded.\n",
        "\n",
        "- Peak at Rating 4: The highest count of ratings is around 4, suggesting that many users find the movies to be above average but not necessarily perfect.\n",
        "\n",
        "This type of distribution is common in user-driven ratings, where users tend to be more inclined to rate items positively than negatively.\n"
      ]
    },
    {
      "cell_type": "markdown",
      "metadata": {
        "id": "h_HXwwm-iT-E"
      },
      "source": [
        "Now let's have a look at the Distribution of Ratings per User\n",
        "\n",
        "Examine how many ratings each user has provided.\n",
        "\n",
        "Identify active users versus casual users."
      ]
    },
    {
      "cell_type": "code",
      "execution_count": 54,
      "metadata": {
        "colab": {
          "base_uri": "https://localhost:8080/",
          "height": 564
        },
        "id": "f8idP9aPiT-F",
        "outputId": "0840d077-a107-46a1-ebb3-027cd7bc718e"
      },
      "outputs": [
        {
          "data": {
            "image/png": "[encoded data removed]",
            "text/plain": [
              "<Figure size 720x432 with 1 Axes>"
            ]
          },
          "metadata": {
            "needs_background": "light"
          },
          "output_type": "display_data"
        }
      ],
      "source": [
        "# Calculating number of ratings per user\n",
        "user_rating_counts = ratings_df.groupby('userId')['rating'].count()\n",
        "\n",
        "# Ploting histogram\n",
        "plt.figure(figsize=(10, 6))\n",
        "sns.histplot(user_rating_counts, bins=50, log_scale=(False, True))\n",
        "plt.title('Number of Ratings per User')\n",
        "plt.xlabel('Number of Ratings')\n",
        "plt.ylabel('Number of Users (log scale)')\n",
        "plt.savefig('Visualizations/Number of Ratings per User')\n",
        "plt.show()\n"
      ]
    },
    {
      "cell_type": "markdown",
      "metadata": {
        "id": "F_Hb6a7KiT-F"
      },
      "source": [
        "The distribution is often long-tailed, with a few users providing many ratings and many users providing few ratings.\n",
        "- Power-Law Distribution: The distribution exhibits a power-law trend, where most users rate very few movies, and only a few users provide a large number of ratings. This type of behavior is typical in user-generated content datasets, often referred to as the \"long tail.\"\n",
        "\n",
        "- Majority Have Rated Few Movies: A significant number of users have rated fewer than 100 movies, which suggests that casual users dominate the dataset.\n",
        "\n",
        "- Heavy Users: There are a small number of users who have rated over 500 movies, with some even rating over 1000. These \"heavy users\" contribute disproportionately to the number of total ratings in the dataset."
      ]
    },
    {
      "cell_type": "markdown",
      "metadata": {
        "id": "IRkU7OfPiT-G"
      },
      "source": [
        "Next we look at the Distribution of Ratings per Movie\n",
        "\n",
        "To determine how many ratings each movie has received.and identify popular movies versus obscure ones."
      ]
    },
    {
      "cell_type": "code",
      "execution_count": 55,
      "metadata": {
        "colab": {
          "base_uri": "https://localhost:8080/",
          "height": 564
        },
        "id": "jPCKCUIViT-G",
        "outputId": "fa860329-828c-4dc0-d3ce-e961ba666ec8"
      },
      "outputs": [
        {
          "data": {
            "image/png": "[encoded data removed]",
            "text/plain": [
              "<Figure size 720x432 with 1 Axes>"
            ]
          },
          "metadata": {
            "needs_background": "light"
          },
          "output_type": "display_data"
        }
      ],
      "source": [
        "# Calculating number of ratings per movie\n",
        "movie_rating_counts = ratings_df.groupby('movieId')['rating'].count()\n",
        "\n",
        "# Ploting histogram\n",
        "plt.figure(figsize=(10, 6))\n",
        "sns.histplot(movie_rating_counts, bins=50, log_scale=(False, True))\n",
        "plt.title('Number of Ratings per Movie')\n",
        "plt.xlabel('Number of Ratings')\n",
        "plt.ylabel('Number of Movies (log scale)')\n",
        "plt.savefig('Visualizations/Number of Ratings per Movie')\n",
        "plt.show()\n"
      ]
    },
    {
      "cell_type": "markdown",
      "metadata": {
        "id": "adQXeL4SiT-H"
      },
      "source": [
        "Similar to users, movies often follow a long-tailed distribution.\n",
        "\n",
        "Important for understanding the sparsity of the dataset.\n",
        "\n",
        "- Many Movies with Few Ratings: There is a large count of movies that have fewer than 50 ratings, highlighting the long tail effect, where many niche or less popular movies do not receive much feedback.\n",
        "\n",
        "- Highly Rated Movies are Few: A smaller number of movies have received over 200 ratings. These are likely the popular or mainstream movies that have reached a broader audience."
      ]
    },
    {
      "cell_type": "markdown",
      "metadata": {
        "id": "ocoyKPsSiT-H"
      },
      "source": [
        "Genre Popularity\n",
        "\n",
        "To identify the most common genres in the dataset and understand genre distribution to inform content-based filtering."
      ]
    },
    {
      "cell_type": "code",
      "execution_count": 56,
      "metadata": {
        "colab": {
          "base_uri": "https://localhost:8080/",
          "height": 646
        },
        "id": "Czwqa2U4iT-I",
        "outputId": "36b1e7cf-10c6-4206-b537-7ccd267a55d4"
      },
      "outputs": [
        {
          "data": {
            "image/png": "[encoded data removed]",
            "text/plain": [
              "<Figure size 864x432 with 1 Axes>"
            ]
          },
          "metadata": {
            "needs_background": "light"
          },
          "output_type": "display_data"
        }
      ],
      "source": [
        "# Spliting genres and explode into individual rows\n",
        "movies_df['genres'] = movies_df['genres'].str.split('|')\n",
        "genres_exploded = movies_df.explode('genres')\n",
        "\n",
        "# Counting genres\n",
        "genre_counts = genres_exploded['genres'].value_counts()\n",
        "\n",
        "# Ploting bar chart\n",
        "plt.figure(figsize=(12, 6))\n",
        "sns.barplot(x=genre_counts.index, y=genre_counts.values)\n",
        "plt.title('Genre Popularity')\n",
        "plt.xlabel('Genre')\n",
        "plt.ylabel('Number of Movies')\n",
        "plt.xticks(rotation=45)\n",
        "plt.savefig('Visualizations/Genre Popularity')\n",
        "plt.show()"
      ]
    },
    {
      "cell_type": "markdown",
      "metadata": {
        "id": "0LycdYPliT-I"
      },
      "source": [
        "Identify dominant genres (e.g., Drama, Comedy).\n",
        "Helps in balancing genre representation in recommendations."
      ]
    },
    {
      "cell_type": "markdown",
      "metadata": {
        "id": "0WxLXNNdiT-I"
      },
      "source": [
        "Next lets look at the Genre Distribution Over Time and analyze how genre popularity has changed over the years.\n",
        "Spot trends in movie production."
      ]
    },
    {
      "cell_type": "code",
      "execution_count": 57,
      "metadata": {
        "colab": {
          "base_uri": "https://localhost:8080/",
          "height": 586
        },
        "id": "9yQdhhPRYRrR",
        "outputId": "bc5a92f4-0a00-45f2-c5cd-aecf3e5d4ffb"
      },
      "outputs": [
        {
          "data": {
            "image/png": "[encoded data removed]",
            "text/plain": [
              "<Figure size 864x432 with 1 Axes>"
            ]
          },
          "metadata": {
            "needs_background": "light"
          },
          "output_type": "display_data"
        }
      ],
      "source": [
        "\n",
        "\n",
        "# Extracting release year from title\n",
        "movies_df['year'] = movies_df['title'].str.extract(r'\\((\\d{4})\\)', expand=False)\n",
        "movies_df = movies_df.dropna(subset=['year'])\n",
        "movies_df['year'] = movies_df['year'].astype(int)\n",
        "\n",
        "# Splitting genres and exploding into individual rows\n",
        "movies_exploded = movies_df.explode('genres')\n",
        "\n",
        "# Filtering for specific genres\n",
        "selected_genres = ['Action', 'Drama', 'Comedy']\n",
        "genre_year = movies_exploded[movies_exploded['genres'].isin(selected_genres)]\n",
        "\n",
        "# Filtering for a specific year range\n",
        "genre_year = genre_year[(genre_year['year'] >= 1980) & (genre_year['year'] <= 2020)]\n",
        "\n",
        "# Ploting genre counts over time\n",
        "plt.figure(figsize=(12, 6))\n",
        "sns.countplot(data=genre_year, x='year', hue='genres', palette='tab10')\n",
        "\n",
        "plt.title('Genre Distribution Over Time')\n",
        "plt.xlabel('Year')\n",
        "plt.ylabel('Number of Movies')\n",
        "plt.xticks(rotation=90)\n",
        "plt.savefig('Visualizations/Genre Distribution Over Time')\n",
        "plt.show()\n"
      ]
    },
    {
      "cell_type": "markdown",
      "metadata": {
        "id": "C6BmE66FiT-J"
      },
      "source": [
        "- Growth and Decline in Movie Releases: There is a noticeable increase in the number of movies produced across all genres from 1980, peaking around the early 2000s, after which there is a gradual decline. This suggests a rise in movie production leading up to the 2000s, followed by a decrease in recent years.\n",
        "\n",
        "- Drama Dominates: Drama appears to be the most consistently produced genre, with the highest number of releases each year, particularly from the late 1990s to the mid-2000s. It often has more releases compared to Comedy and Action.\n",
        "\n",
        "- Comedy as the Second Leading Genre: Comedy is the second most produced genre over the years, closely following Drama in terms of the number of movies produced annually. It maintains a relatively steady presence throughout the period.\n",
        "\n",
        "- Action Genre: Action movies have consistently fewer releases compared to Drama and Comedy. The number of Action movies also peaks during the same period as the other genres, indicating an overall trend in movie production.\n",
        "\n",
        "- Overall Trends: The increase in production from 1980 until the early 2000s, followed by a decline, might indicate changes in the film industry, such as shifts in audience preferences, economic factors, or the impact of streaming services in recent years."
      ]
    },
    {
      "cell_type": "markdown",
      "metadata": {
        "id": "tNwNc7huiT-K"
      },
      "source": [
        "Now lets create aWord Cloud of Tags to visualize the most common words in user-generated tags and understand the themes and attributes users associate with movies."
      ]
    },
    {
      "cell_type": "code",
      "execution_count": 58,
      "metadata": {},
      "outputs": [],
      "source": [
        "from wordcloud import WordCloud\n",
        "import matplotlib.pyplot as plt"
      ]
    },
    {
      "cell_type": "code",
      "execution_count": 59,
      "metadata": {
        "colab": {
          "base_uri": "https://localhost:8080/",
          "height": 636
        },
        "id": "OPQMrJVziT-K",
        "outputId": "06c394fe-1ce4-46c4-d99a-69ad076d5e2a"
      },
      "outputs": [
        {
          "ename": "AttributeError",
          "evalue": "'TransposedFont' object has no attribute 'getbbox'",
          "output_type": "error",
          "traceback": [
            "\u001b[1;31m---------------------------------------------------------------------------\u001b[0m",
            "\u001b[1;31mAttributeError\u001b[0m                            Traceback (most recent call last)",
            "\u001b[1;32m<ipython-input-59-b797d5288e60>\u001b[0m in \u001b[0;36m<module>\u001b[1;34m\u001b[0m\n\u001b[0;32m      3\u001b[0m \u001b[1;33m\u001b[0m\u001b[0m\n\u001b[0;32m      4\u001b[0m \u001b[1;31m# Generating word cloud\u001b[0m\u001b[1;33m\u001b[0m\u001b[1;33m\u001b[0m\u001b[1;33m\u001b[0m\u001b[0m\n\u001b[1;32m----> 5\u001b[1;33m \u001b[0mwordcloud\u001b[0m \u001b[1;33m=\u001b[0m \u001b[0mWordCloud\u001b[0m\u001b[1;33m(\u001b[0m\u001b[0mwidth\u001b[0m\u001b[1;33m=\u001b[0m\u001b[1;36m800\u001b[0m\u001b[1;33m,\u001b[0m \u001b[0mheight\u001b[0m\u001b[1;33m=\u001b[0m\u001b[1;36m400\u001b[0m\u001b[1;33m,\u001b[0m \u001b[0mbackground_color\u001b[0m\u001b[1;33m=\u001b[0m\u001b[1;34m'white'\u001b[0m\u001b[1;33m)\u001b[0m\u001b[1;33m.\u001b[0m\u001b[0mgenerate\u001b[0m\u001b[1;33m(\u001b[0m\u001b[0mall_tags\u001b[0m\u001b[1;33m)\u001b[0m\u001b[1;33m\u001b[0m\u001b[1;33m\u001b[0m\u001b[0m\n\u001b[0m\u001b[0;32m      6\u001b[0m \u001b[1;33m\u001b[0m\u001b[0m\n\u001b[0;32m      7\u001b[0m \u001b[1;31m# Displaying the word cloud\u001b[0m\u001b[1;33m\u001b[0m\u001b[1;33m\u001b[0m\u001b[1;33m\u001b[0m\u001b[0m\n",
            "\u001b[1;32mc:\\Users\\Hp\\AppData\\Local\\anaconda3\\envs\\learn-env\\lib\\site-packages\\wordcloud\\wordcloud.py\u001b[0m in \u001b[0;36mgenerate\u001b[1;34m(self, text)\u001b[0m\n\u001b[0;32m    640\u001b[0m         \u001b[0mself\u001b[0m\u001b[1;33m\u001b[0m\u001b[1;33m\u001b[0m\u001b[0m\n\u001b[0;32m    641\u001b[0m         \"\"\"\n\u001b[1;32m--> 642\u001b[1;33m         \u001b[1;32mreturn\u001b[0m \u001b[0mself\u001b[0m\u001b[1;33m.\u001b[0m\u001b[0mgenerate_from_text\u001b[0m\u001b[1;33m(\u001b[0m\u001b[0mtext\u001b[0m\u001b[1;33m)\u001b[0m\u001b[1;33m\u001b[0m\u001b[1;33m\u001b[0m\u001b[0m\n\u001b[0m\u001b[0;32m    643\u001b[0m \u001b[1;33m\u001b[0m\u001b[0m\n\u001b[0;32m    644\u001b[0m     \u001b[1;32mdef\u001b[0m \u001b[0m_check_generated\u001b[0m\u001b[1;33m(\u001b[0m\u001b[0mself\u001b[0m\u001b[1;33m)\u001b[0m\u001b[1;33m:\u001b[0m\u001b[1;33m\u001b[0m\u001b[1;33m\u001b[0m\u001b[0m\n",
            "\u001b[1;32mc:\\Users\\Hp\\AppData\\Local\\anaconda3\\envs\\learn-env\\lib\\site-packages\\wordcloud\\wordcloud.py\u001b[0m in \u001b[0;36mgenerate_from_text\u001b[1;34m(self, text)\u001b[0m\n\u001b[0;32m    622\u001b[0m         \"\"\"\n\u001b[0;32m    623\u001b[0m         \u001b[0mwords\u001b[0m \u001b[1;33m=\u001b[0m \u001b[0mself\u001b[0m\u001b[1;33m.\u001b[0m\u001b[0mprocess_text\u001b[0m\u001b[1;33m(\u001b[0m\u001b[0mtext\u001b[0m\u001b[1;33m)\u001b[0m\u001b[1;33m\u001b[0m\u001b[1;33m\u001b[0m\u001b[0m\n\u001b[1;32m--> 624\u001b[1;33m         \u001b[0mself\u001b[0m\u001b[1;33m.\u001b[0m\u001b[0mgenerate_from_frequencies\u001b[0m\u001b[1;33m(\u001b[0m\u001b[0mwords\u001b[0m\u001b[1;33m)\u001b[0m\u001b[1;33m\u001b[0m\u001b[1;33m\u001b[0m\u001b[0m\n\u001b[0m\u001b[0;32m    625\u001b[0m         \u001b[1;32mreturn\u001b[0m \u001b[0mself\u001b[0m\u001b[1;33m\u001b[0m\u001b[1;33m\u001b[0m\u001b[0m\n\u001b[0;32m    626\u001b[0m \u001b[1;33m\u001b[0m\u001b[0m\n",
            "\u001b[1;32mc:\\Users\\Hp\\AppData\\Local\\anaconda3\\envs\\learn-env\\lib\\site-packages\\wordcloud\\wordcloud.py\u001b[0m in \u001b[0;36mgenerate_from_frequencies\u001b[1;34m(self, frequencies, max_font_size)\u001b[0m\n\u001b[0;32m    451\u001b[0m                 \u001b[0mfont_size\u001b[0m \u001b[1;33m=\u001b[0m \u001b[0mself\u001b[0m\u001b[1;33m.\u001b[0m\u001b[0mheight\u001b[0m\u001b[1;33m\u001b[0m\u001b[1;33m\u001b[0m\u001b[0m\n\u001b[0;32m    452\u001b[0m             \u001b[1;32melse\u001b[0m\u001b[1;33m:\u001b[0m\u001b[1;33m\u001b[0m\u001b[1;33m\u001b[0m\u001b[0m\n\u001b[1;32m--> 453\u001b[1;33m                 self.generate_from_frequencies(dict(frequencies[:2]),\n\u001b[0m\u001b[0;32m    454\u001b[0m                                                max_font_size=self.height)\n\u001b[0;32m    455\u001b[0m                 \u001b[1;31m# find font sizes\u001b[0m\u001b[1;33m\u001b[0m\u001b[1;33m\u001b[0m\u001b[1;33m\u001b[0m\u001b[0m\n",
            "\u001b[1;32mc:\\Users\\Hp\\AppData\\Local\\anaconda3\\envs\\learn-env\\lib\\site-packages\\wordcloud\\wordcloud.py\u001b[0m in \u001b[0;36mgenerate_from_frequencies\u001b[1;34m(self, frequencies, max_font_size)\u001b[0m\n\u001b[0;32m    509\u001b[0m                     font, orientation=orientation)\n\u001b[0;32m    510\u001b[0m                 \u001b[1;31m# get size of resulting text\u001b[0m\u001b[1;33m\u001b[0m\u001b[1;33m\u001b[0m\u001b[1;33m\u001b[0m\u001b[0m\n\u001b[1;32m--> 511\u001b[1;33m                 \u001b[0mbox_size\u001b[0m \u001b[1;33m=\u001b[0m \u001b[0mdraw\u001b[0m\u001b[1;33m.\u001b[0m\u001b[0mtextbbox\u001b[0m\u001b[1;33m(\u001b[0m\u001b[1;33m(\u001b[0m\u001b[1;36m0\u001b[0m\u001b[1;33m,\u001b[0m \u001b[1;36m0\u001b[0m\u001b[1;33m)\u001b[0m\u001b[1;33m,\u001b[0m \u001b[0mword\u001b[0m\u001b[1;33m,\u001b[0m \u001b[0mfont\u001b[0m\u001b[1;33m=\u001b[0m\u001b[0mtransposed_font\u001b[0m\u001b[1;33m,\u001b[0m \u001b[0manchor\u001b[0m\u001b[1;33m=\u001b[0m\u001b[1;34m\"lt\"\u001b[0m\u001b[1;33m)\u001b[0m\u001b[1;33m\u001b[0m\u001b[1;33m\u001b[0m\u001b[0m\n\u001b[0m\u001b[0;32m    512\u001b[0m                 \u001b[1;31m# find possible places using integral image:\u001b[0m\u001b[1;33m\u001b[0m\u001b[1;33m\u001b[0m\u001b[1;33m\u001b[0m\u001b[0m\n\u001b[0;32m    513\u001b[0m                 result = occupancy.sample_position(box_size[3] + self.margin,\n",
            "\u001b[1;32mc:\\Users\\Hp\\AppData\\Local\\anaconda3\\envs\\learn-env\\lib\\site-packages\\PIL\\ImageDraw.py\u001b[0m in \u001b[0;36mtextbbox\u001b[1;34m(self, xy, text, font, anchor, spacing, align, direction, features, language, stroke_width, embedded_color)\u001b[0m\n\u001b[0;32m    565\u001b[0m             \u001b[0mfont\u001b[0m \u001b[1;33m=\u001b[0m \u001b[0mself\u001b[0m\u001b[1;33m.\u001b[0m\u001b[0mgetfont\u001b[0m\u001b[1;33m(\u001b[0m\u001b[1;33m)\u001b[0m\u001b[1;33m\u001b[0m\u001b[1;33m\u001b[0m\u001b[0m\n\u001b[0;32m    566\u001b[0m         \u001b[0mmode\u001b[0m \u001b[1;33m=\u001b[0m \u001b[1;34m\"RGBA\"\u001b[0m \u001b[1;32mif\u001b[0m \u001b[0membedded_color\u001b[0m \u001b[1;32melse\u001b[0m \u001b[0mself\u001b[0m\u001b[1;33m.\u001b[0m\u001b[0mfontmode\u001b[0m\u001b[1;33m\u001b[0m\u001b[1;33m\u001b[0m\u001b[0m\n\u001b[1;32m--> 567\u001b[1;33m         bbox = font.getbbox(\n\u001b[0m\u001b[0;32m    568\u001b[0m             \u001b[0mtext\u001b[0m\u001b[1;33m,\u001b[0m \u001b[0mmode\u001b[0m\u001b[1;33m,\u001b[0m \u001b[0mdirection\u001b[0m\u001b[1;33m,\u001b[0m \u001b[0mfeatures\u001b[0m\u001b[1;33m,\u001b[0m \u001b[0mlanguage\u001b[0m\u001b[1;33m,\u001b[0m \u001b[0mstroke_width\u001b[0m\u001b[1;33m,\u001b[0m \u001b[0manchor\u001b[0m\u001b[1;33m\u001b[0m\u001b[1;33m\u001b[0m\u001b[0m\n\u001b[0;32m    569\u001b[0m         )\n",
            "\u001b[1;31mAttributeError\u001b[0m: 'TransposedFont' object has no attribute 'getbbox'"
          ]
        }
      ],
      "source": [
        "\n",
        "# Combining all tags into a single string\n",
        "all_tags = ' '.join(tags_df['tag'].astype(str))\n",
        "\n",
        "# Generating word cloud\n",
        "wordcloud = WordCloud(width=800, height=400, background_color='white').generate(all_tags)\n",
        "\n",
        "# Displaying the word cloud\n",
        "plt.figure(figsize=(15, 7.5))\n",
        "plt.imshow(wordcloud, interpolation='bilinear')\n",
        "plt.axis('off')\n",
        "plt.title('Word Cloud of Movie Tags')\n",
        "plt.savefig('Visualizations/Word Cloud of Movie Tags')\n",
        "plt.show()"
      ]
    },
    {
      "cell_type": "markdown",
      "metadata": {
        "id": "JRkTaZN8iT-K"
      },
      "source": [
        "1. Popular Tags:\n",
        "\n",
        "- \"Netflix queue\" is the most prominent tag, suggesting that users frequently associate movies with Netflix, likely indicating movies added to their watchlist.\n",
        "- Other large tags include \"classic,\" \"atmospheric,\" \"superhero,\" \"dark,\" \"action,\" \"comedy,\" and \"thought provoking,\" indicating these are common themes or descriptors that users find noteworthy.\n",
        "2. Diverse Themes:\n",
        "\n",
        "- The word cloud highlights a broad range of topics, including genres (e.g., \"sci-fi,\" \"comedy,\" \"action,\"), emotions (e.g., \"funny,\" \"disturbing,\" \"suspense,\"), and atmosphere (e.g., \"dark,\" \"dreamlike,\" \"quirky,\").\n",
        "- Tags like \"politics,\" \"psychology,\" \"religion,\" and \"music\" suggest that movies covering these topics are also frequently tagged, indicating user interest in thematic depth.\n",
        "3. Popular Genres and Elements:\n",
        "\n",
        "- The prevalence of tags like \"sci-fi,\" \"superhero,\" \"crime,\" and \"animation\" suggests that these genres are commonly represented in the dataset.\n",
        "- Descriptive terms like \"thought provoking,\" \"surreal,\" \"visually appealing,\" and \"twist ending\" reflect viewers' interests in movies that challenge perceptions or have notable cinematic qualities.\n",
        "4. Negative and Mixed Sentiments:\n",
        "\n",
        "- Tags like \"bad,\" \"dark,\" \"disturbing,\" and \"violence\" imply that some viewers also focus on negative aspects or intense themes of movies.\n",
        "\n",
        "Overall, this word cloud provides a snapshot of the wide variety of topics, genres, and characteristics that viewers find important or memorable in movies. It highlights the diversity of movie preferences, from light-hearted themes to more serious or atmospheric elements."
      ]
    },
    {
      "cell_type": "markdown",
      "metadata": {
        "id": "L-5zh6hbiT-L"
      },
      "source": [
        "Now lets create a User-Item Ratings Heatmap to visualize the sparsity of the user-item rating matrix and understand the distribution of ratings across users and movies."
      ]
    },
    {
      "cell_type": "code",
      "execution_count": 32,
      "metadata": {
        "colab": {
          "base_uri": "https://localhost:8080/",
          "height": 757
        },
        "id": "Yhupey4FiT-Y",
        "outputId": "f9baae5a-7d35-4b2f-d93a-1bc840741fe7"
      },
      "outputs": [
        {
          "data": {
            "image/png": "[encoded data removed]",
            "text/plain": [
              "<Figure size 864x576 with 2 Axes>"
            ]
          },
          "metadata": {
            "needs_background": "light"
          },
          "output_type": "display_data"
        }
      ],
      "source": [
        "# Creating a sample of users and movies\n",
        "sample_users = ratings_df['userId'].drop_duplicates().sample(100, random_state=42)\n",
        "sample_movies = ratings_df['movieId'].drop_duplicates().sample(100, random_state=42)\n",
        "\n",
        "# Creating a pivot table\n",
        "sample_ratings = ratings_df[ratings_df['userId'].isin(sample_users) & ratings_df['movieId'].isin(sample_movies)]\n",
        "user_item_matrix = sample_ratings.pivot(index='userId', columns='movieId', values='rating')\n",
        "\n",
        "# Ploting heatmap\n",
        "plt.figure(figsize=(12, 8))\n",
        "sns.heatmap(user_item_matrix, cmap='viridis')\n",
        "plt.title('User-Item Ratings Heatmap')\n",
        "plt.xlabel('Movies')\n",
        "plt.ylabel('Users')\n",
        "plt.savefig('Visualizations/User-Item Ratings Heatmap')\n",
        "plt.show()\n"
      ]
    },
    {
      "cell_type": "markdown",
      "metadata": {
        "id": "UhR_AHgniT-Y"
      },
      "source": [
        "Eeach cell indicates a user's rating for a specific movie, with colors ranging from dark (lower ratings) to bright yellow (higher ratings). Here are some insights:\n",
        "\n",
        "1. Sparse Matrix: The heatmap is quite sparse, indicating that most users rate only a small subset of available movies. This pattern is common in user-item rating matrices for movie recommendation systems.\n",
        "\n",
        "2. Ratings Distribution:\n",
        "\n",
        "- Ratings are distributed across a range of values from around 0.5 to 5.\n",
        "- The color gradient represents different ratings, with dark blue for low ratings (close to 0.5) and bright yellow for high ratings (close to 5).\n",
        "3. Few Highly Rated Items: There are only a few instances of bright yellow cells, implying that while there are high ratings, they are not very common. Users tend to rate movies more conservatively or moderately.\n",
        "\n",
        "4. Clusters of Activity: There are small clusters of ratings, which might indicate a group of popular movies that have been rated by multiple users. This suggests that some movies have broader appeal while many others have only a handful of ratings.\n",
        "\n",
        "5. Recommendation System Implication: The sparsity in the matrix is a common challenge in recommendation systems, making collaborative filtering techniques ideal since they can leverage the similarities between users or items to fill in the missing ratings."
      ]
    },
    {
      "cell_type": "markdown",
      "metadata": {
        "id": "mv7qWKJCiT-Z"
      },
      "source": [
        "Next lets look at the Ratings Over Time and analyze how the volume of ratings changes over time.\n",
        "\n",
        "Identify trends or seasonal patterns in user activity."
      ]
    },
    {
      "cell_type": "code",
      "execution_count": 55,
      "metadata": {
        "colab": {
          "base_uri": "https://localhost:8080/",
          "height": 585
        },
        "id": "OL1nRUKUiT-a",
        "outputId": "e346a614-70dd-4dc2-b20f-ea2809530078"
      },
      "outputs": [
        {
          "data": {
            "image/png": "[encoded data removed]",
            "text/plain": [
              "<Figure size 1200x600 with 1 Axes>"
            ]
          },
          "metadata": {},
          "output_type": "display_data"
        }
      ],
      "source": [
        "# Converting timestamp to datetime\n",
        "ratings_df['timestamp'] = pd.to_datetime(ratings_df['timestamp'], unit='s')\n",
        "\n",
        "# Aggregating ratings by month\n",
        "ratings_df['year_month'] = ratings_df['timestamp'].dt.to_period('M')\n",
        "\n",
        "# Counting number of ratings per month\n",
        "ratings_per_month = ratings_df.groupby('year_month').size().reset_index(name='num_ratings')\n",
        "\n",
        "# Converting 'year_month' to string or datetime\n",
        "ratings_per_month['year_month_str'] = ratings_per_month['year_month'].astype(str)\n",
        "# converting to datetime\n",
        "ratings_per_month['year_month_dt'] = ratings_per_month['year_month'].dt.to_timestamp()\n",
        "\n",
        "# Ensuring 'num_ratings' is numeric\n",
        "ratings_per_month['num_ratings'] = pd.to_numeric(ratings_per_month['num_ratings'], errors='coerce')\n",
        "ratings_per_month = ratings_per_month.dropna(subset=['num_ratings'])\n",
        "\n",
        "# Aggregating by year\n",
        "ratings_df['year'] = ratings_df['timestamp'].dt.year\n",
        "ratings_per_year = ratings_df.groupby('year').size().reset_index(name='num_ratings')\n",
        "\n",
        "# Plotting\n",
        "plt.figure(figsize=(12, 6))\n",
        "sns.lineplot(data=ratings_per_year, x='year', y='num_ratings')\n",
        "plt.title('Number of Ratings Over Years')\n",
        "plt.xlabel('Year')\n",
        "plt.ylabel('Number of Ratings')\n",
        "plt.xticks(rotation=45)\n",
        "plt.savefig('Visualizations/Number of Ratings Over Years')\n",
        "plt.show()\n"
      ]
    },
    {
      "cell_type": "markdown",
      "metadata": {
        "id": "mqeR6K1CiT-b"
      },
      "source": [
        "- Initial Spike Around Late 1990s: There is a significant increase in ratings leading up to the late 1990s, with a peak around the year 2000. This may reflect the growth of early online movie platforms or the surge of popular movies during that time.\n",
        "\n",
        "- Fluctuating Trends: After the peak around 2000, the number of ratings drops sharply and fluctuates over the years. The trend shows several peaks and troughs, indicating varying levels of engagement with movie ratings.\n",
        "\n",
        "- Decline Around 2010: There is a noticeable decline in the number of ratings around 2010, reaching one of the lowest points. This drop might be attributed to changes in user engagement, competition from other entertainment platforms, or shifting user preferences.\n",
        "\n",
        "- Recent Increase: Starting around 2015, there is an upward trend in ratings, suggesting renewed interest in movie rating activity, possibly driven by increased accessibility through streaming services like Netflix and user engagement through recommendation systems.\n",
        "\n",
        "- Volatile Engagement: The fluctuations indicate that the number of ratings has not been consistent over the years. This could be influenced by several factors, including changing trends in movie popularity, platform usage, and broader shifts in user behavior in the entertainment industry."
      ]
    },
    {
      "cell_type": "markdown",
      "metadata": {
        "id": "N5yOqk01iT-b"
      },
      "source": [
        "\n",
        "Next lets look at the Average Ratings per User and understand individual user rating tendencies.\n",
        "\n",
        "Identify harsh versus lenient raters."
      ]
    },
    {
      "cell_type": "code",
      "execution_count": 56,
      "metadata": {
        "colab": {
          "base_uri": "https://localhost:8080/",
          "height": 564
        },
        "id": "qOTDEfA_iT-b",
        "outputId": "3727ba22-b34e-4550-b5c6-f5ecdf3dc338"
      },
      "outputs": [
        {
          "data": {
            "image/png": "[encoded data removed]",
            "text/plain": [
              "<Figure size 1000x600 with 1 Axes>"
            ]
          },
          "metadata": {},
          "output_type": "display_data"
        }
      ],
      "source": [
        "# Calculating average rating per user\n",
        "user_avg_ratings = ratings_df.groupby('userId')['rating'].mean()\n",
        "\n",
        "# Plotting histogram\n",
        "plt.figure(figsize=(10, 6))\n",
        "sns.histplot(user_avg_ratings, bins=50)\n",
        "plt.title('Average User Ratings Distribution')\n",
        "plt.xlabel('Average Rating')\n",
        "plt.ylabel('Number of Users')\n",
        "plt.savefig('Visualizations/Average User Ratings Distribution')\n",
        "plt.show()\n"
      ]
    },
    {
      "cell_type": "markdown",
      "metadata": {
        "id": "aHCkzCyjiT-c"
      },
      "source": [
        "- The distribution indicates that users tend to rate movies positively, with a preference for ratings between 3 and 4, suggesting that the majority of movies are viewed as generally enjoyable or above average. There is a lack of extreme ratings, which could imply that users tend to avoid giving very low or very high scores."
      ]
    },
    {
      "cell_type": "markdown",
      "metadata": {
        "id": "mcVp4jbiiT-c"
      },
      "source": [
        "Now lets look at the Relationship Between Number of Ratings and Average Rating and explore whether popular movies tend to have higher or lower average ratings.\n",
        "\n",
        "Detect any correlations between popularity and perceived quality."
      ]
    },
    {
      "cell_type": "code",
      "execution_count": 57,
      "metadata": {
        "colab": {
          "base_uri": "https://localhost:8080/",
          "height": 569
        },
        "id": "vqriotGLiT-c",
        "outputId": "80f168e2-3bab-4e0d-a124-53135ddd39c3"
      },
      "outputs": [
        {
          "data": {
            "image/png": "[encoded data removed]",
            "text/plain": [
              "<Figure size 1000x600 with 1 Axes>"
            ]
          },
          "metadata": {},
          "output_type": "display_data"
        }
      ],
      "source": [
        "# Calculating average rating and number of ratings per movie\n",
        "movie_stats = ratings_df.groupby('movieId')['rating'].agg(['mean', 'count']).reset_index()\n",
        "movie_stats = movie_stats.merge(movies_df[['movieId', 'title']], on='movieId')\n",
        "\n",
        "# Plotting scatter plot\n",
        "plt.figure(figsize=(10, 6))\n",
        "sns.scatterplot(data=movie_stats, x='count', y='mean')\n",
        "plt.title('Number of Ratings vs. Average Rating')\n",
        "plt.xlabel('Number of Ratings')\n",
        "plt.ylabel('Average Rating')\n",
        "plt.xscale('log')\n",
        "plt.savefig('Visualizations/Number of Ratings vs. Average Rating')\n",
        "plt.show()\n"
      ]
    },
    {
      "cell_type": "markdown",
      "metadata": {
        "id": "quV_Lh3CiT-d"
      },
      "source": [
        "Highly Rated vs. Lowly Rated Movies:\n",
        "\n",
        "- Movies with very few ratings have more variability in their average ratings, often appearing as extremes (either very low or very high).\n",
        "- As the number of ratings increases, the average ratings converge more around a value between 3.0 and 4.0. This suggests that movies with many ratings tend to have moderate average ratings, which is typical since more ratings reduce individual rating bias.\n",
        "\n",
        "Popular Movies:\n",
        "\n",
        "- Popular movies (those with high rating counts) tend to have average ratings that are close to the middle of the scale (often around 3 to 4), indicating that as more users rate a movie, the ratings tend to balance out towards an average consensus.\n",
        "\n",
        "User Behavior:\n",
        "\n",
        "- The plot highlights the challenge of movie rating predictions. Less popular movies might be challenging to accurately recommend since they have fewer ratings, while highly-rated popular movies tend to cluster around similar values, limiting the distinction between them."
      ]
    },
    {
      "cell_type": "markdown",
      "metadata": {
        "id": "_cUqo3kIiT-d"
      },
      "source": [
        "\n",
        "\n",
        "\n",
        "# Modeling\n",
        "\n",
        "To ensure a solid foundation for model evaluation, we should split the dataset into three parts: training, validation, and testing.\n",
        "\n",
        "- Training Set: Used for fitting the model.\n",
        "- Validation Set: Used to tune hyperparameters and evaluate performance during training.\n",
        "- Test Set: Held out to assess the final performance after the model is tuned.\n",
        "\n",
        "We can split the data as follows:\n",
        "\n",
        "- 70% for training.\n",
        "- 15% for validation.\n",
        "- 15% for testing."
      ]
    },
    {
      "cell_type": "code",
      "execution_count": 60,
      "metadata": {
        "colab": {
          "base_uri": "https://localhost:8080/",
          "height": 356
        },
        "id": "oppsIWusmsZy",
        "outputId": "c62ac2dd-8bfa-4610-af5b-26ca38843221"
      },
      "outputs": [
        {
          "ename": "AttributeError",
          "evalue": "'list' object has no attribute 'raw_ratings'",
          "output_type": "error",
          "traceback": [
            "\u001b[1;31m---------------------------------------------------------------------------\u001b[0m",
            "\u001b[1;31mAttributeError\u001b[0m                            Traceback (most recent call last)",
            "\u001b[1;32m<ipython-input-60-9280b6b5eb6b>\u001b[0m in \u001b[0;36m<module>\u001b[1;34m\u001b[0m\n\u001b[0;32m      6\u001b[0m \u001b[1;33m\u001b[0m\u001b[0m\n\u001b[0;32m      7\u001b[0m \u001b[1;31m# Split temp: 15% validation, 15% test\u001b[0m\u001b[1;33m\u001b[0m\u001b[1;33m\u001b[0m\u001b[1;33m\u001b[0m\u001b[0m\n\u001b[1;32m----> 8\u001b[1;33m \u001b[0mvalidation_data\u001b[0m \u001b[1;33m,\u001b[0m \u001b[0mtest_data\u001b[0m \u001b[1;33m=\u001b[0m \u001b[0mtrain_test_split\u001b[0m\u001b[1;33m(\u001b[0m\u001b[0mtempset\u001b[0m\u001b[1;33m,\u001b[0m \u001b[0mtest_size\u001b[0m\u001b[1;33m=\u001b[0m\u001b[1;36m0.5\u001b[0m\u001b[1;33m,\u001b[0m \u001b[0mrandom_state\u001b[0m\u001b[1;33m=\u001b[0m\u001b[1;36m42\u001b[0m\u001b[1;33m)\u001b[0m\u001b[1;33m\u001b[0m\u001b[1;33m\u001b[0m\u001b[0m\n\u001b[0m\u001b[0;32m      9\u001b[0m \u001b[1;33m\u001b[0m\u001b[0m\n\u001b[0;32m     10\u001b[0m \u001b[1;31m# Calculate split sizes\u001b[0m\u001b[1;33m\u001b[0m\u001b[1;33m\u001b[0m\u001b[1;33m\u001b[0m\u001b[0m\n",
            "\u001b[1;32mc:\\Users\\Hp\\AppData\\Local\\anaconda3\\envs\\learn-env\\lib\\site-packages\\surprise\\model_selection\\split.py\u001b[0m in \u001b[0;36mtrain_test_split\u001b[1;34m(data, test_size, train_size, random_state, shuffle)\u001b[0m\n\u001b[0;32m    332\u001b[0m     ss = ShuffleSplit(n_splits=1, test_size=test_size, train_size=train_size,\n\u001b[0;32m    333\u001b[0m                       random_state=random_state, shuffle=shuffle)\n\u001b[1;32m--> 334\u001b[1;33m     \u001b[1;32mreturn\u001b[0m \u001b[0mnext\u001b[0m\u001b[1;33m(\u001b[0m\u001b[0mss\u001b[0m\u001b[1;33m.\u001b[0m\u001b[0msplit\u001b[0m\u001b[1;33m(\u001b[0m\u001b[0mdata\u001b[0m\u001b[1;33m)\u001b[0m\u001b[1;33m)\u001b[0m\u001b[1;33m\u001b[0m\u001b[1;33m\u001b[0m\u001b[0m\n\u001b[0m\u001b[0;32m    335\u001b[0m \u001b[1;33m\u001b[0m\u001b[0m\n\u001b[0;32m    336\u001b[0m \u001b[1;33m\u001b[0m\u001b[0m\n",
            "\u001b[1;32mc:\\Users\\Hp\\AppData\\Local\\anaconda3\\envs\\learn-env\\lib\\site-packages\\surprise\\model_selection\\split.py\u001b[0m in \u001b[0;36msplit\u001b[1;34m(self, data)\u001b[0m\n\u001b[0;32m    274\u001b[0m \u001b[1;33m\u001b[0m\u001b[0m\n\u001b[0;32m    275\u001b[0m         test_size, train_size = self.validate_train_test_sizes(\n\u001b[1;32m--> 276\u001b[1;33m             self.test_size, self.train_size, len(data.raw_ratings))\n\u001b[0m\u001b[0;32m    277\u001b[0m         \u001b[0mrng\u001b[0m \u001b[1;33m=\u001b[0m \u001b[0mget_rng\u001b[0m\u001b[1;33m(\u001b[0m\u001b[0mself\u001b[0m\u001b[1;33m.\u001b[0m\u001b[0mrandom_state\u001b[0m\u001b[1;33m)\u001b[0m\u001b[1;33m\u001b[0m\u001b[1;33m\u001b[0m\u001b[0m\n\u001b[0;32m    278\u001b[0m \u001b[1;33m\u001b[0m\u001b[0m\n",
            "\u001b[1;31mAttributeError\u001b[0m: 'list' object has no attribute 'raw_ratings'"
          ]
        }
      ],
      "source": [
        "\n",
        "\n",
        "reader = Reader(rating_scale=(1, 5))\n",
        "data = Dataset.load_from_df(ratings_df[['userId', 'movieId', 'rating']], reader)\n",
        "\n",
        "# Split data: 70% train, 30% temp (for validation and test)\n",
        "trainset, tempset = train_test_split(data, test_size=0.3, random_state=42)\n",
        "\n",
        "# Split temp: 15% validation, 15% test\n",
        "validation_data , test_data = train_test_split(tempset, test_size=0.5, random_state=42)\n",
        "\n",
        "# Calculate split sizes\n",
        "train_size = trainset.n_ratings / len(ratings_df)\n",
        "validation_size = validation_data.n_ratings / len(ratings_df)\n",
        "test_size = test_data.n_ratings / len(ratings_df)\n",
        "\n",
        "(train_size, validation_size, test_size)"
      ]
    },
    {
      "cell_type": "code",
      "execution_count": 60,
      "metadata": {
        "colab": {
          "base_uri": "https://localhost:8080/",
          "height": 356
        },
        "id": "B59Co7RIoGxB",
        "outputId": "8d1f93a9-001f-4642-db6a-87136007d010"
      },
      "outputs": [
        {
          "ename": "AttributeError",
          "evalue": "'DataFrame' object has no attribute 'raw_ratings'",
          "output_type": "error",
          "traceback": [
            "\u001b[0;31m---------------------------------------------------------------------------\u001b[0m",
            "\u001b[0;31mAttributeError\u001b[0m                            Traceback (most recent call last)",
            "\u001b[0;32m<ipython-input-60-6c85a296490c>\u001b[0m in \u001b[0;36m<cell line: 2>\u001b[0;34m()\u001b[0m\n\u001b[1;32m      1\u001b[0m \u001b[0;31m# Split into training (70%) and temp (30%) sets first\u001b[0m\u001b[0;34m\u001b[0m\u001b[0;34m\u001b[0m\u001b[0m\n\u001b[0;32m----> 2\u001b[0;31m \u001b[0mtrain_data\u001b[0m\u001b[0;34m,\u001b[0m \u001b[0mtemp_data\u001b[0m \u001b[0;34m=\u001b[0m \u001b[0mtrain_test_split\u001b[0m\u001b[0;34m(\u001b[0m\u001b[0mratings_df\u001b[0m\u001b[0;34m,\u001b[0m \u001b[0mtest_size\u001b[0m\u001b[0;34m=\u001b[0m\u001b[0;36m0.3\u001b[0m\u001b[0;34m,\u001b[0m \u001b[0mrandom_state\u001b[0m\u001b[0;34m=\u001b[0m\u001b[0;36m42\u001b[0m\u001b[0;34m)\u001b[0m\u001b[0;34m\u001b[0m\u001b[0;34m\u001b[0m\u001b[0m\n\u001b[0m\u001b[1;32m      3\u001b[0m \u001b[0;34m\u001b[0m\u001b[0m\n\u001b[1;32m      4\u001b[0m \u001b[0;31m# Split temp_data into validation (15% of the whole) and test (15% of the whole) sets\u001b[0m\u001b[0;34m\u001b[0m\u001b[0;34m\u001b[0m\u001b[0m\n\u001b[1;32m      5\u001b[0m \u001b[0mvalidation_data\u001b[0m\u001b[0;34m,\u001b[0m \u001b[0mtest_data\u001b[0m \u001b[0;34m=\u001b[0m \u001b[0mtrain_test_split\u001b[0m\u001b[0;34m(\u001b[0m\u001b[0mtemp_data\u001b[0m\u001b[0;34m,\u001b[0m \u001b[0mtest_size\u001b[0m\u001b[0;34m=\u001b[0m\u001b[0;36m0.5\u001b[0m\u001b[0;34m,\u001b[0m \u001b[0mrandom_state\u001b[0m\u001b[0;34m=\u001b[0m\u001b[0;36m42\u001b[0m\u001b[0;34m)\u001b[0m\u001b[0;34m\u001b[0m\u001b[0;34m\u001b[0m\u001b[0m\n",
            "\u001b[0;32m/usr/local/lib/python3.10/dist-packages/surprise/model_selection/split.py\u001b[0m in \u001b[0;36mtrain_test_split\u001b[0;34m(data, test_size, train_size, random_state, shuffle)\u001b[0m\n\u001b[1;32m    353\u001b[0m         \u001b[0mshuffle\u001b[0m\u001b[0;34m=\u001b[0m\u001b[0mshuffle\u001b[0m\u001b[0;34m,\u001b[0m\u001b[0;34m\u001b[0m\u001b[0;34m\u001b[0m\u001b[0m\n\u001b[1;32m    354\u001b[0m     )\n\u001b[0;32m--> 355\u001b[0;31m     \u001b[0;32mreturn\u001b[0m \u001b[0mnext\u001b[0m\u001b[0;34m(\u001b[0m\u001b[0mss\u001b[0m\u001b[0;34m.\u001b[0m\u001b[0msplit\u001b[0m\u001b[0;34m(\u001b[0m\u001b[0mdata\u001b[0m\u001b[0;34m)\u001b[0m\u001b[0;34m)\u001b[0m\u001b[0;34m\u001b[0m\u001b[0;34m\u001b[0m\u001b[0m\n\u001b[0m\u001b[1;32m    356\u001b[0m \u001b[0;34m\u001b[0m\u001b[0m\n\u001b[1;32m    357\u001b[0m \u001b[0;34m\u001b[0m\u001b[0m\n",
            "\u001b[0;32m/usr/local/lib/python3.10/dist-packages/surprise/model_selection/split.py\u001b[0m in \u001b[0;36msplit\u001b[0;34m(self, data)\u001b[0m\n\u001b[1;32m    287\u001b[0m \u001b[0;34m\u001b[0m\u001b[0m\n\u001b[1;32m    288\u001b[0m         test_size, train_size = self.validate_train_test_sizes(\n\u001b[0;32m--> 289\u001b[0;31m             \u001b[0mself\u001b[0m\u001b[0;34m.\u001b[0m\u001b[0mtest_size\u001b[0m\u001b[0;34m,\u001b[0m \u001b[0mself\u001b[0m\u001b[0;34m.\u001b[0m\u001b[0mtrain_size\u001b[0m\u001b[0;34m,\u001b[0m \u001b[0mlen\u001b[0m\u001b[0;34m(\u001b[0m\u001b[0mdata\u001b[0m\u001b[0;34m.\u001b[0m\u001b[0mraw_ratings\u001b[0m\u001b[0;34m)\u001b[0m\u001b[0;34m\u001b[0m\u001b[0;34m\u001b[0m\u001b[0m\n\u001b[0m\u001b[1;32m    290\u001b[0m         )\n\u001b[1;32m    291\u001b[0m         \u001b[0mrng\u001b[0m \u001b[0;34m=\u001b[0m \u001b[0mget_rng\u001b[0m\u001b[0;34m(\u001b[0m\u001b[0mself\u001b[0m\u001b[0;34m.\u001b[0m\u001b[0mrandom_state\u001b[0m\u001b[0;34m)\u001b[0m\u001b[0;34m\u001b[0m\u001b[0;34m\u001b[0m\u001b[0m\n",
            "\u001b[0;32m/usr/local/lib/python3.10/dist-packages/pandas/core/generic.py\u001b[0m in \u001b[0;36m__getattr__\u001b[0;34m(self, name)\u001b[0m\n\u001b[1;32m   6297\u001b[0m         ):\n\u001b[1;32m   6298\u001b[0m             \u001b[0;32mreturn\u001b[0m \u001b[0mself\u001b[0m\u001b[0;34m[\u001b[0m\u001b[0mname\u001b[0m\u001b[0;34m]\u001b[0m\u001b[0;34m\u001b[0m\u001b[0;34m\u001b[0m\u001b[0m\n\u001b[0;32m-> 6299\u001b[0;31m         \u001b[0;32mreturn\u001b[0m \u001b[0mobject\u001b[0m\u001b[0;34m.\u001b[0m\u001b[0m__getattribute__\u001b[0m\u001b[0;34m(\u001b[0m\u001b[0mself\u001b[0m\u001b[0;34m,\u001b[0m \u001b[0mname\u001b[0m\u001b[0;34m)\u001b[0m\u001b[0;34m\u001b[0m\u001b[0;34m\u001b[0m\u001b[0m\n\u001b[0m\u001b[1;32m   6300\u001b[0m \u001b[0;34m\u001b[0m\u001b[0m\n\u001b[1;32m   6301\u001b[0m     \u001b[0;34m@\u001b[0m\u001b[0mfinal\u001b[0m\u001b[0;34m\u001b[0m\u001b[0;34m\u001b[0m\u001b[0m\n",
            "\u001b[0;31mAttributeError\u001b[0m: 'DataFrame' object has no attribute 'raw_ratings'"
          ]
        }
      ],
      "source": [
        "# Split into training (70%) and temp (30%) sets first\n",
        "train_data, temp_data = train_test_split(ratings_df, test_size=0.3, random_state=42)\n",
        "\n",
        "# Split temp_data into validation (15% of the whole) and test (15% of the whole) sets\n",
        "validation_data, test_data = train_test_split(temp_data, test_size=0.5, random_state=42)\n",
        "\n",
        "# Verify the split sizes\n",
        "train_size = train_data.shape[0] / ratings_df.shape[0]\n",
        "validation_size = validation_data.shape[0] / ratings_df.shape[0]\n",
        "test_size = test_data.shape[0] / ratings_df.shape[0]\n",
        "\n",
        "(train_size, validation_size, test_size)\n"
      ]
    },
    {
      "cell_type": "markdown",
      "metadata": {
        "id": "UlPKU9UtiT-e"
      },
      "source": [
        "\n",
        "\n",
        "\n",
        "## SVD Base Model"
      ]
    },
    {
      "cell_type": "code",
      "execution_count": null,
      "metadata": {
        "id": "_8fc00NoiT-g"
      },
      "outputs": [],
      "source": [
        "\n",
        "# Preparing the data for 'surprise' from the split datasets\n",
        "reader = Reader(rating_scale=(0.5, 5.0))\n",
        "\n",
        "# Converting training, validation, and test data to the surprise format\n",
        "train_data_surprise = Dataset.load_from_df(train_data[['userId', 'movieId', 'rating']], reader)\n",
        "validation_data_surprise = Dataset.load_from_df(validation_data[['userId', 'movieId', 'rating']], reader)\n",
        "test_data_surprise = Dataset.load_from_df(test_data[['userId', 'movieId', 'rating']], reader)\n",
        "\n",
        "# Building the trainset for SVD model\n",
        "training_set = train_data_surprise.build_full_trainset()\n",
        "\n",
        "# Initializing and train the SVD model\n",
        "svd_model = SVD()\n",
        "svd_model.fit(training_set)\n",
        "\n",
        "# Building validation testset from validation_data (list of tuples of userId, movieId, and actual rating)\n",
        "validation_testset = validation_data[['userId', 'movieId', 'rating']].values.tolist()\n",
        "\n",
        "# Validating the model on the validation set\n",
        "validation_predictions = svd_model.test(validation_testset)\n",
        "\n",
        "# Calculating RMSE for validation set\n",
        "validation_rmse = accuracy.rmse(validation_predictions)\n",
        "\n",
        "# Building test testset from test_data (list of tuples of userId, movieId, and actual rating)\n",
        "test_testset = test_data[['userId', 'movieId', 'rating']].values.tolist()\n",
        "\n",
        "# Testing the model on the final test set\n",
        "test_predictions = svd_model.test(test_testset)\n",
        "\n",
        "# Calculating RMSE for test set\n",
        "test_rmse = accuracy.rmse(test_predictions)\n",
        "\n",
        "# Printing results with labels\n",
        "print(f\"RMSE for Validation Set: {validation_rmse:.4f}\")\n",
        "print(f\"RMSE for Test Set: {test_rmse:.4f}\")\n"
      ]
    },
    {
      "cell_type": "markdown",
      "metadata": {
        "id": "Yo-KsWbJiT-h"
      },
      "source": [
        "Performance Consistency:\n",
        "\n",
        "- The RMSE values for the validation and test sets are very close to each other (0.8833 and 0.8847).\n",
        "- This consistency suggests that the model generalizes well and that there is no significant overfitting or underfitting. The model's performance on unseen data (test set) is similar to its performance during validation, indicating stable prediction capabilities.\n",
        "\n",
        "Model Accuracy:\n",
        "\n",
        "- An RMSE of around 0.88 suggests that, on average, the model's predicted rating deviates from the actual rating by approximately 0.88 units on a scale of 0.5 to 5.\n",
        "- Given that the rating scale ranges from 0.5 to 5.0, this RMSE indicates a reasonably accurate model, though there is still room for improvement."
      ]
    },
    {
      "cell_type": "markdown",
      "metadata": {
        "id": "3bfBhvpGiT-i"
      },
      "source": [
        "## Hyperparameter Tuning of the SVD model\n",
        "\n",
        "To tune the hyperparameters of the SVD model and optimize its performance, we can use a grid search or random search method. The goal is to find the best combination of hyperparameters that minimize the Root Mean Squared Error (RMSE)."
      ]
    },
    {
      "cell_type": "code",
      "execution_count": null,
      "metadata": {
        "id": "IRGluOsDiT-i"
      },
      "outputs": [],
      "source": [
        "\n",
        "\n",
        "# Preparing the data in the 'surprise' format\n",
        "reader = Reader(rating_scale=(0.5, 5.0))\n",
        "ratings_data = Dataset.load_from_df(ratings_df[['userId', 'movieId', 'rating']], reader)\n",
        "\n",
        "# Defining the parameter grid for SVD\n",
        "param_grid = {\n",
        "    'n_factors': [20, 50, 100],\n",
        "    'n_epochs': [20, 50, 100],\n",
        "    'lr_all': [0.002, 0.005, 0.01],\n",
        "    'reg_all': [0.02, 0.1, 0.4]\n",
        "}\n",
        "\n",
        "# Performing grid search to find the best parameters\n",
        "grid_search = GridSearchCV(SVD, param_grid, measures=['rmse'], cv=5)\n",
        "grid_search.fit(ratings_data)\n",
        "\n",
        "# Extracting the best RMSE and corresponding hyperparameters\n",
        "best_rmse = grid_search.best_score['rmse']\n",
        "best_params = grid_search.best_params['rmse']\n",
        "\n",
        "print(f\"Best RMSE: {best_rmse:.4f}\")\n",
        "print(f\"Best Hyperparameters: {best_params}\")"
      ]
    },
    {
      "cell_type": "code",
      "execution_count": null,
      "metadata": {
        "id": "x5Bx-Gn5iT-j"
      },
      "outputs": [],
      "source": [
        "# Using the best parameters to train the final SVD model\n",
        "best_svd_model = SVD(n_factors=best_params['n_factors'],\n",
        "                     n_epochs=best_params['n_epochs'],\n",
        "                     lr_all=best_params['lr_all'],\n",
        "                     reg_all=best_params['reg_all'])\n",
        "\n",
        "# Training the model on the training set\n",
        "best_svd_model.fit(training_set)\n",
        "\n",
        "# Testing the model on the validation set\n",
        "validation_predictions = best_svd_model.test(validation_testset)\n",
        "\n",
        "# Calculating RMSE on the validation set\n",
        "validation_rmse = accuracy.rmse(validation_predictions)\n",
        "print(f\"Validation RMSE: {validation_rmse:.4f}\")\n",
        "\n",
        "# Testing the model on the test set\n",
        "test_predictions = best_svd_model.test(test_testset)\n",
        "\n",
        "# Calculating RMSE on the test set\n",
        "test_rmse = accuracy.rmse(test_predictions)\n",
        "print(f\"Final Test RMSE: {test_rmse:.4f}\")\n"
      ]
    },
    {
      "cell_type": "markdown",
      "metadata": {
        "id": "8MspDMvDiT-k"
      },
      "source": [
        "Now a Function to predict ratings using the SVD model"
      ]
    },
    {
      "cell_type": "code",
      "execution_count": null,
      "metadata": {
        "id": "5h8A0YPfiT-k"
      },
      "outputs": [],
      "source": [
        "# Predicting ratings for all user-item pairs\n",
        "def svd_predict(user_id, movie_id):\n",
        "    return best_svd_model.predict(user_id, movie_id).est"
      ]
    },
    {
      "cell_type": "code",
      "execution_count": null,
      "metadata": {
        "id": "2WNwjVBnj4Sl"
      },
      "outputs": [],
      "source": [
        "# prediction\n",
        "user_id = 1\n",
        "movie_id = 1\n",
        "predicted_rating = svd_predict(user_id, movie_id)\n",
        "print(f\"Predicted rating for user {user_id} on movie {movie_id}: {predicted_rating:.2f}\")"
      ]
    },
    {
      "cell_type": "markdown",
      "metadata": {
        "id": "l8YaUC7MiT-l"
      },
      "source": [
        "### Summary of Results\n",
        "Initial Model Performance:\n",
        "\n",
        "- Validation RMSE: 0.8822\n",
        "- Test RMSE: 0.8838\n",
        "\n",
        "Optimized Model Performance:\n",
        "\n",
        "- Best RMSE from Grid Search (Cross-Validation): 0.8504\n",
        "- Validation RMSE: 0.8589\n",
        "- Final Test RMSE: 0.8603\n",
        "\n",
        "Improvements\n",
        "\n",
        "The optimized model shows a significant reduction in RMSE on both validation and test sets.\n",
        "\n",
        "This improvement demonstrates that hyperparameter tuning can enhance the model's predictive accuracy."
      ]
    },
    {
      "cell_type": "markdown",
      "metadata": {
        "id": "SjqXOM-oiT-m"
      },
      "source": [
        "## KNNBaseline Model\n",
        "Let’s try a different collaborative filtering algorithm to compare its performance with the SVD model. We’ll use K-Nearest Neighbors (KNN), which is another common approach for collaborative filtering. Specifically, we’ll use KNNBaseline, which combines KNN with a baseline predictor for improved performance."
      ]
    },
    {
      "cell_type": "code",
      "execution_count": null,
      "metadata": {
        "id": "ufnKFI2GiT-m"
      },
      "outputs": [],
      "source": [
        "\n",
        "\n",
        "# Defining the parameter grid for KNNBaseline\n",
        "param_grid_knn = {\n",
        "    'k': [20, 40, 60],           # Number of neighbors\n",
        "    'min_k': [1, 3, 5],          # Minimum number of neighbors\n",
        "    'sim_options': {\n",
        "        'name': ['cosine', 'pearson_baseline'],  # Similarity metrics\n",
        "        'user_based': [True, False]              # User-based or Item-based\n",
        "    }\n",
        "}\n",
        "\n",
        "# Performing grid search to find the best parameters for KNNBaseline\n",
        "grid_search_knn = GridSearchCV(KNNBaseline, param_grid_knn, measures=['rmse'], cv=5)\n",
        "grid_search_knn.fit(ratings_data)\n",
        "\n",
        "# Extracting the best RMSE and corresponding hyperparameters for KNN\n",
        "best_rmse_knn = grid_search_knn.best_score['rmse']\n",
        "best_params_knn = grid_search_knn.best_params['rmse']\n",
        "\n",
        "print(f\"Best RMSE (KNN): {best_rmse_knn:.4f}\")\n",
        "print(f\"Best Hyperparameters (KNN): {best_params_knn}\")\n",
        "\n",
        "# Now, let's compare the performance of the best KNN model with the SVD model\n",
        "\n",
        "# Training the best KNN model\n",
        "best_knn_model = KNNBaseline(k=best_params_knn['k'],\n",
        "                             min_k=best_params_knn['min_k'],\n",
        "                             sim_options=best_params_knn['sim_options'])\n",
        "\n",
        "# Training the model on the training set\n",
        "best_knn_model.fit(training_set)\n",
        "\n",
        "# Testing the KNN model on the test set\n",
        "knn_test_predictions = best_knn_model.test(test_testset)\n",
        "\n",
        "# Calculating RMSE for the KNN model on the test set\n",
        "knn_test_rmse = accuracy.rmse(knn_test_predictions)\n",
        "print(f\"Test RMSE (KNN): {knn_test_rmse:.4f}\")\n",
        "\n",
        "# comparing with the SVD model's performance\n",
        "print(f\"Test RMSE (SVD): {test_rmse:.4f}\")\n"
      ]
    },
    {
      "cell_type": "markdown",
      "metadata": {
        "id": "aaHUGCV3iT-n"
      },
      "source": [
        "Interpretation:\n",
        "\n",
        "The KNNBaseline model's RMSE is 0.8598, which is almost identical to the SVD model's RMSE of 0.8597.\n",
        "\n",
        "The performance difference is negligible, indicating that both models perform similarly on this dataset."
      ]
    },
    {
      "cell_type": "code",
      "execution_count": null,
      "metadata": {
        "id": "KMzzUxa5iT-n"
      },
      "outputs": [],
      "source": [
        "# Predicting ratings for all user-item pairs\n",
        "def knn_predict(user_id, movie_id):\n",
        "    return best_knn_model.predict(user_id, movie_id).est\n",
        "\n"
      ]
    },
    {
      "cell_type": "code",
      "execution_count": null,
      "metadata": {
        "id": "qtL5ecL7kMPY"
      },
      "outputs": [],
      "source": [
        "\n",
        "user_id = 1\n",
        "movie_id = 1\n",
        "predicted_rating = svd_predict(user_id, movie_id)\n",
        "print(f\"Predicted rating for user {user_id} on movie {movie_id}: {predicted_rating:.2f}\")"
      ]
    },
    {
      "cell_type": "markdown",
      "metadata": {
        "id": "s58V4IcdiT-o"
      },
      "source": [
        "## SVD++ Model\n",
        "\n",
        "SVD++ is an extension of the standard SVD algorithm that incorporates implicit feedback by considering not only the ratings provided by users but also the items they have interacted with, regardless of whether they have rated them. This can lead to better accuracy in predictions."
      ]
    },
    {
      "cell_type": "code",
      "execution_count": null,
      "metadata": {
        "id": "e0ZSrHU-iT-o"
      },
      "outputs": [],
      "source": [
        "\n",
        "# Preparing the data in the 'surprise' format\n",
        "reader = Reader(rating_scale=(0.5, 5.0))\n",
        "ratings_data = Dataset.load_from_df(ratings_df[['userId', 'movieId', 'rating']], reader)\n",
        "\n",
        "# Defining the parameter grid for SVD++\n",
        "param_grid_svdpp = {\n",
        "    'n_factors': [20, 50, 100],      # Number of latent factors\n",
        "    'n_epochs': [10, 20, 30],        # Number of epochs\n",
        "    'lr_all': [0.002, 0.005],        # Learning rate\n",
        "    'reg_all': [0.02, 0.1]           # Regularization term\n",
        "}\n",
        "\n",
        "# Performing grid search to find the best parameters for SVD++\n",
        "grid_search_svdpp = GridSearchCV(SVDpp, param_grid_svdpp, measures=['rmse'], cv=3, n_jobs=-1)\n",
        "grid_search_svdpp.fit(ratings_data)\n",
        "\n",
        "# Extracting the best RMSE and corresponding hyperparameters for SVD++\n",
        "best_rmse_svdpp = grid_search_svdpp.best_score['rmse']\n",
        "best_params_svdpp = grid_search_svdpp.best_params['rmse']\n",
        "\n",
        "print(f\"Best RMSE (SVD++): {best_rmse_svdpp:.4f}\")\n",
        "print(f\"Best Hyperparameters (SVD++): {best_params_svdpp}\")\n",
        "\n",
        "# Using the best parameters to train the final SVD++ model\n",
        "best_svdpp_model = SVDpp(n_factors=best_params_svdpp['n_factors'],\n",
        "                         n_epochs=best_params_svdpp['n_epochs'],\n",
        "                         lr_all=best_params_svdpp['lr_all'],\n",
        "                         reg_all=best_params_svdpp['reg_all'])\n",
        "\n",
        "# Building the trainset for SVD++ model\n",
        "training_set = train_data_surprise.build_full_trainset()\n",
        "\n",
        "# Training the model on the training set\n",
        "best_svdpp_model.fit(training_set)\n",
        "\n",
        "# Building validation and test testsets\n",
        "validation_testset = validation_data[['userId', 'movieId', 'rating']].values.tolist()\n",
        "test_testset = test_data[['userId', 'movieId', 'rating']].values.tolist()\n",
        "\n",
        "# Testing the model on the validation set\n",
        "validation_predictions = best_svdpp_model.test(validation_testset)\n",
        "\n",
        "# Calculating RMSE on the validation set\n",
        "validation_rmse_svdpp = accuracy.rmse(validation_predictions)\n",
        "print(f\"Validation RMSE (SVD++): {validation_rmse_svdpp:.4f}\")\n",
        "\n",
        "# Testing the model on the test set\n",
        "test_predictions = best_svdpp_model.test(test_testset)\n",
        "\n",
        "# Calculating RMSE on the test set\n",
        "test_rmse_svdpp = accuracy.rmse(test_predictions)\n",
        "print(f\"Final Test RMSE (SVD++): {test_rmse_svdpp:.4f}\")\n"
      ]
    },
    {
      "cell_type": "code",
      "execution_count": null,
      "metadata": {
        "id": "uRfm1NiziT-p"
      },
      "outputs": [],
      "source": [
        "# Predicting ratings for all user-item pairs\n",
        "def svd_pp_predict(user_id, movie_id):\n",
        "    return best_svdpp_model.predict(user_id, movie_id).est\n",
        "\n"
      ]
    },
    {
      "cell_type": "code",
      "execution_count": null,
      "metadata": {
        "id": "x3YB1pY0keDd"
      },
      "outputs": [],
      "source": [
        "\n",
        "user_id = 1\n",
        "movie_id = 1\n",
        "predicted_rating = svd_predict(user_id, movie_id)\n",
        "print(f\"Predicted rating for user {user_id} on movie {movie_id}: {predicted_rating:.2f}\")"
      ]
    },
    {
      "cell_type": "markdown",
      "metadata": {
        "id": "no9IT3LhiT-p"
      },
      "source": [
        "## Creating a Hybrid Recommendation System\n",
        "\n",
        "- The SVD model performed the best among the three, achieving the lowest RMSE on both validation and test sets.\n",
        "- The KNNBaseline model performed slightly better than SVD on the test set, but the difference is minimal.\n",
        "- The SVD++ model did not outperform the SVD model, possibly due to overfitting or the complexity of the model given the data.\n",
        "\n",
        "Since the SVD and KNN models have similar performances, combining them might capture different latent factors and similarities, potentially improving recommendations.\n",
        "SVD++ considers implicit feedback (e.g., which items users have interacted with) but may not have added significant value in this case.\n",
        "\n",
        "- Complementary Strengths: SVD captures latent factors through matrix factorization, while KNN captures neighborhood-based similarities.\n",
        "- Mitigating Weaknesses: By blending models, we can mitigate individual weaknesses, such as overemphasis on popular items or sparsity issues.\n",
        "\n",
        "\n",
        "We'll proceed with the following steps:\n",
        "\n",
        "1. Generate Predictions from Each Model:\n",
        "Obtain predicted ratings for the test set from SVD and KNN models.\n",
        "2. Combine Predictions:\n",
        "Merge the predictions based on userId and movieId.\n",
        "Compute a weighted average of the predictions.\n",
        "3. Evaluate the Hybrid Model:\n",
        "Calculate RMSE for the hybrid predictions on the test set.\n",
        "Compare the performance with individual models."
      ]
    },
    {
      "cell_type": "code",
      "execution_count": null,
      "metadata": {
        "id": "Ro-J9EQHiT-q"
      },
      "outputs": [],
      "source": [
        "# Test the SVD model on the test set\n",
        "svd_test_predictions = best_svd_model.test(test_testset)\n",
        "\n",
        "# Test the KNN model on the test set\n",
        "knn_test_predictions = best_knn_model.test(test_testset)\n",
        "\n",
        "def predictions_to_df(predictions, model_name):\n",
        "    pred_df = pd.DataFrame(predictions, columns=['uid', 'iid', 'true_r', 'est', 'details'])\n",
        "    pred_df['model'] = model_name\n",
        "    return pred_df\n",
        "\n",
        "# Convert predictions to DataFrames\n",
        "svd_pred_df = predictions_to_df(svd_test_predictions, 'SVD')\n",
        "knn_pred_df = predictions_to_df(knn_test_predictions, 'KNN')\n",
        "\n",
        "# Merge SVD and KNN predictions\n",
        "merged_pred_df = pd.merge(svd_pred_df, knn_pred_df, on=['uid', 'iid', 'true_r'], suffixes=('_svd', '_knn'))\n",
        "\n",
        "# Assign weights\n",
        "weight_svd = 0.5\n",
        "weight_knn = 0.5\n",
        "\n",
        "# Compute the hybrid prediction\n",
        "merged_pred_df['est_hybrid'] = (weight_svd * merged_pred_df['est_svd']) + (weight_knn * merged_pred_df['est_knn'])\n",
        "\n",
        "# Create a list of Prediction objects for the hybrid model\n",
        "from surprise import Prediction\n",
        "\n",
        "hybrid_predictions = [\n",
        "    Prediction(uid=row['uid'], iid=row['iid'], r_ui=row['true_r'], est=row['est_hybrid'], details={})\n",
        "    for _, row in merged_pred_df.iterrows()\n",
        "]\n",
        "\n",
        "# Calculate RMSE for the hybrid model\n",
        "hybrid_rmse = accuracy.rmse(hybrid_predictions)\n",
        "print(f\"Hybrid Model RMSE: {hybrid_rmse:.4f}\")"
      ]
    },
    {
      "cell_type": "markdown",
      "metadata": {
        "id": "zfbcrho8iT-q"
      },
      "source": [
        "Next we can adjust weights to find the optimal combination that results in the lowest RMSE"
      ]
    },
    {
      "cell_type": "code",
      "execution_count": null,
      "metadata": {
        "id": "kR6KWYeyiT-r"
      },
      "outputs": [],
      "source": [
        "# Function to compute RMSE for given weights\n",
        "def compute_hybrid_rmse(weight_svd, weight_knn):\n",
        "    merged_pred_df['est_hybrid'] = (weight_svd * merged_pred_df['est_svd']) + (weight_knn * merged_pred_df['est_knn'])\n",
        "    hybrid_predictions = [\n",
        "        Prediction(uid=row['uid'], iid=row['iid'], r_ui=row['true_r'], est=row['est_hybrid'], details={})\n",
        "        for _, row in merged_pred_df.iterrows()\n",
        "    ]\n",
        "    hybrid_rmse = accuracy.rmse(hybrid_predictions, verbose=False)\n",
        "    return hybrid_rmse\n",
        "\n",
        "# Test different weight combinations\n",
        "weights = [(w / 10.0, 1 - w / 10.0) for w in range(11)]\n",
        "for w_svd, w_knn in weights:\n",
        "    rmse = compute_hybrid_rmse(w_svd, w_knn)\n",
        "    print(f\"Weights - SVD: {w_svd}, KNN: {w_knn} => Hybrid RMSE: {rmse:.4f}\")\n"
      ]
    },
    {
      "cell_type": "markdown",
      "metadata": {
        "id": "18d4UTMfiT-r"
      },
      "source": [
        "To evaluate how well the hybrid model performs in ranking items, you can compute Precision@K and Recall@K."
      ]
    },
    {
      "cell_type": "code",
      "execution_count": null,
      "metadata": {
        "id": "k1eSObMbiT-s"
      },
      "outputs": [],
      "source": [
        "def precision_recall_at_k(predictions, k=10, threshold=3.5):\n",
        "    from collections import defaultdict\n",
        "\n",
        "    # Map the predictions to each user\n",
        "    user_est_true = defaultdict(list)\n",
        "    for uid, _, true_r, est, _ in predictions:\n",
        "        user_est_true[uid].append((est, true_r))\n",
        "\n",
        "    precisions = dict()\n",
        "    recalls = dict()\n",
        "    for uid, user_ratings in user_est_true.items():\n",
        "        # Sort user ratings by estimated value\n",
        "        user_ratings.sort(key=lambda x: x[0], reverse=True)\n",
        "\n",
        "        # Number of relevant items\n",
        "        n_rel = sum((true_r >= threshold) for (_, true_r) in user_ratings)\n",
        "\n",
        "        # Number of recommended items in top k\n",
        "        n_rec_k = sum((est >= threshold) for (est, _) in user_ratings[:k])\n",
        "\n",
        "        # Number of relevant and recommended items in top k\n",
        "        n_rel_and_rec_k = sum(((true_r >= threshold) and (est >= threshold))\n",
        "                              for (est, true_r) in user_ratings[:k])\n",
        "\n",
        "        # Precision@K\n",
        "        precisions[uid] = n_rel_and_rec_k / n_rec_k if n_rec_k != 0 else 0\n",
        "\n",
        "        # Recall@K\n",
        "        recalls[uid] = n_rel_and_rec_k / n_rel if n_rel != 0 else 0\n",
        "\n",
        "    # Average precision and recall\n",
        "    avg_precision = sum(prec for prec in precisions.values()) / len(precisions)\n",
        "    avg_recall = sum(rec for rec in recalls.values()) / len(recalls)\n",
        "    return avg_precision, avg_recall\n",
        "\n",
        "# Compute Precision@K and Recall@K for the hybrid model\n",
        "precision, recall = precision_recall_at_k(hybrid_predictions, k=10, threshold=3.5)\n",
        "print(f\"Hybrid Model Precision@10: {precision:.4f}\")\n",
        "print(f\"Hybrid Model Recall@10: {recall:.4f}\")\n"
      ]
    },
    {
      "cell_type": "markdown",
      "metadata": {
        "id": "cS6oxxu_iT-s"
      },
      "source": [
        "# Adressing the Cold Start Problem\n",
        "Addressing the Cold Start Problem is crucial for building an effective recommendation system, especially for new users or items with little to no interaction data.\n",
        "\n",
        "## Content-Based Filtering\n",
        "This is an excellent approach to tackle this issue by utilizing the inherent features of the items and users.\n",
        "\n",
        "We have movie genres and movie tags to work with.\n",
        "\n",
        "First, let's combine genres and tags to create a comprehensive feature set for each movie."
      ]
    },
    {
      "cell_type": "code",
      "execution_count": null,
      "metadata": {
        "id": "ASOpDGIKiT-t"
      },
      "outputs": [],
      "source": [
        "# Merge tags with movies on 'movieId'\n",
        "movies_with_tags = pd.merge(movies_df, tags_df[['movieId', 'tag']], on='movieId', how='left')\n",
        "\n",
        "# Replace NaN tags with empty strings\n",
        "movies_with_tags['tag'] = movies_with_tags['tag'].fillna('')\n"
      ]
    },
    {
      "cell_type": "markdown",
      "metadata": {
        "id": "sQj5aRV7iT-t"
      },
      "source": [
        "Since genres are lists, we'll convert them into strings before combining them with tags.\n",
        "\n"
      ]
    },
    {
      "cell_type": "code",
      "execution_count": null,
      "metadata": {
        "id": "bsjS8NqyiT-t"
      },
      "outputs": [],
      "source": [
        "# Convert genres list to string\n",
        "movies_with_tags['genres_str'] = movies_with_tags['genres'].apply(lambda x: ' '.join(x))\n",
        "\n",
        "# Combine genres and tags into a single string\n",
        "movies_with_tags['genres_tags'] = movies_with_tags['genres_str'] + ' ' + movies_with_tags['tag']\n"
      ]
    },
    {
      "cell_type": "markdown",
      "metadata": {
        "id": "7x2uK71IiT-u"
      },
      "source": [
        "We'll preprocess the text data by converting it to lowercase and removing special characters.\n",
        "\n"
      ]
    },
    {
      "cell_type": "code",
      "execution_count": null,
      "metadata": {
        "id": "SiTE2TlxiT-u"
      },
      "outputs": [],
      "source": [
        "import re\n",
        "\n",
        "def preprocess(text):\n",
        "    # Convert to lowercase\n",
        "    text = text.lower()\n",
        "    # Remove special characters and digits\n",
        "    text = re.sub(r'[^a-zA-Z\\s]', '', text)\n",
        "    return text\n",
        "\n",
        "movies_with_tags['genres_tags'] = movies_with_tags['genres_tags'].apply(preprocess)\n"
      ]
    },
    {
      "cell_type": "markdown",
      "metadata": {
        "id": "FCqUyJRViT-v"
      },
      "source": [
        "We'll use TF-IDF Vectorization to convert the combined genres and tags text into numerical feature vectors."
      ]
    },
    {
      "cell_type": "code",
      "execution_count": null,
      "metadata": {
        "id": "avnE2VqAiT-x"
      },
      "outputs": [],
      "source": [
        "from sklearn.feature_extraction.text import TfidfVectorizer\n",
        "\n",
        "# Initialize the TF-IDF Vectorizer\n",
        "tfidf = TfidfVectorizer(stop_words='english')\n",
        "\n",
        "# Fit and transform the genres_tags column\n",
        "tfidf_matrix = tfidf.fit_transform(movies_with_tags['genres_tags'])\n",
        "\n",
        "# Check the shape of the TF-IDF matrix\n",
        "print(f'TF-IDF matrix shape: {tfidf_matrix.shape}')\n"
      ]
    },
    {
      "cell_type": "markdown",
      "metadata": {
        "id": "xninAacDiT-z"
      },
      "source": [
        "Collect User Preferences\n",
        "For new users, we'll simulate collecting their preferences. For example, let's assume a user likes \"Action\" and \"Sci-Fi\" movies and is interested in tags like \"space\" and \"future\"."
      ]
    },
    {
      "cell_type": "code",
      "execution_count": null,
      "metadata": {
        "id": "f91lkOgqiT-0"
      },
      "outputs": [],
      "source": [
        "# Example user preferences\n",
        "user_genres = ['Action', 'Sci-Fi']\n",
        "user_tags = ['space', 'future']\n",
        "\n",
        "# Combine preferences into a single string\n",
        "user_profile_text = ' '.join(user_genres + user_tags)\n",
        "user_profile_text = preprocess(user_profile_text)\n",
        "print(f'User profile text: {user_profile_text}')\n"
      ]
    },
    {
      "cell_type": "markdown",
      "metadata": {
        "id": "ik2uXBxfiT-0"
      },
      "source": [
        "Transform the user profile text into a TF-IDF vector using the same vectorizer we used for the movies."
      ]
    },
    {
      "cell_type": "code",
      "execution_count": null,
      "metadata": {
        "id": "deadjpWviT-1"
      },
      "outputs": [],
      "source": [
        "# Transform the user profile text using the TF-IDF vectorizer\n",
        "user_profile_vector = tfidf.transform([user_profile_text])\n"
      ]
    },
    {
      "cell_type": "markdown",
      "metadata": {
        "id": "s-awlI0niT-1"
      },
      "source": [
        "Compute the cosine similarity between the user profile vector and each movie's feature vector."
      ]
    },
    {
      "cell_type": "code",
      "execution_count": null,
      "metadata": {
        "id": "3ifSOPliiT-1"
      },
      "outputs": [],
      "source": [
        "from sklearn.metrics.pairwise import cosine_similarity\n",
        "\n",
        "# Calculate cosine similarity\n",
        "cosine_similarities = cosine_similarity(user_profile_vector, tfidf_matrix).flatten()\n"
      ]
    },
    {
      "cell_type": "code",
      "execution_count": null,
      "metadata": {
        "id": "9QbazakZiT-2"
      },
      "outputs": [],
      "source": [
        "# Add similarity scores to the movies DataFrame\n",
        "movies_with_tags['similarity_score'] = cosine_similarities\n",
        "\n",
        "# Sort movies based on similarity scores in descending order\n",
        "recommendations = movies_with_tags.sort_values(by='similarity_score', ascending=False)\n",
        "\n",
        "# Get the top 10 recommendations\n",
        "top_10_recommendations = recommendations[['title', 'genres', 'similarity_score']].head(10)\n",
        "\n",
        "print(\"Top 10 Movie Recommendations:\")\n",
        "print(top_10_recommendations)\n"
      ]
    },
    {
      "cell_type": "markdown",
      "metadata": {
        "id": "4aujbhBtiT-2"
      },
      "source": [
        "- Genres and Tags: We've utilized both genres and tags to create a rich feature representation of each movie. Since genres are categorical and tags are user-generated, combining them provides a comprehensive view of the movie's content.\n",
        "\n",
        "- User Profile: The user's preferences are encoded into the same feature space as the movies, allowing for direct comparison.\n",
        "\n",
        "- Cosine Similarity: By computing the cosine similarity, we measure how closely a movie's content aligns with the user's preferences."
      ]
    },
    {
      "cell_type": "markdown",
      "metadata": {
        "id": "oSAYIpb4iT-2"
      },
      "source": [
        "# Adding Content Based Filtering to our hybrid Collaborative filtering algorithm\n",
        "\n",
        "Combining both collaborative filtering and content-based filtering into a hybrid recommendation system can leverage the strengths of both approaches to provide more accurate and personalized recommendations.\n",
        "\n",
        "We can do this by blending predictions, combining the scores from both collaborative and content-based methods, and using weighted averages to adjust the influence of each method.\n",
        "\n",
        "Weights can be adjusted based on the amount of available data (e.g., number of ratings) to ensure that the more reliable method (collaborative filtering in this case) has a greater impact on the final recommendation."
      ]
    },
    {
      "cell_type": "markdown",
      "metadata": {
        "id": "_xKqGB3FiT-3"
      },
      "source": [
        "First, we predict the ratings of the items that the user has not rated before using collaborative filtering."
      ]
    },
    {
      "cell_type": "code",
      "execution_count": null,
      "metadata": {
        "id": "yLmtr5dziT-3"
      },
      "outputs": [],
      "source": [
        "# Get a list of all movie IDs\n",
        "all_movie_ids = movies_df['movieId'].unique()\n",
        "\n",
        "# Assume we have a target user\n",
        "target_user_id = 1  # Replace with the actual user ID\n",
        "\n",
        "# Get movies the user has already rated\n",
        "rated_movies = ratings_df[ratings_df['userId'] == target_user_id]['movieId'].tolist()\n",
        "\n",
        "# Get movies the user hasn't rated yet\n",
        "unrated_movies = [movie_id for movie_id in all_movie_ids if movie_id not in rated_movies]\n",
        "\n",
        "# Assign weights for SVD and KNN\n",
        "weight_svd = 0.5\n",
        "weight_knn = 0.5\n",
        "\n",
        "# Predict ratings for unrated movies using the hybrid CF model\n",
        "cf_predictions = []\n",
        "for movie_id in unrated_movies:\n",
        "    # Get SVD prediction\n",
        "    svd_pred = best_svd_model.predict(target_user_id, movie_id).est\n",
        "    # Get KNN prediction\n",
        "    knn_pred = best_knn_model.predict(target_user_id, movie_id).est\n",
        "    # Combine predictions using the assigned weights\n",
        "    cf_hybrid_pred = (weight_svd * svd_pred) + (weight_knn * knn_pred)\n",
        "    cf_predictions.append((movie_id, cf_hybrid_pred))\n"
      ]
    },
    {
      "cell_type": "markdown",
      "metadata": {
        "id": "8JKOHFUniT-4"
      },
      "source": [
        "Then we compute similarity scores between the user profile and all movies."
      ]
    },
    {
      "cell_type": "code",
      "execution_count": null,
      "metadata": {
        "id": "jzty0BChiT-4"
      },
      "outputs": [],
      "source": [
        "# Build user profile based on their rated movies\n",
        "user_ratings = ratings_df[ratings_df['userId'] == target_user_id]\n",
        "\n",
        "# Merge with movies to get genres and tags\n",
        "user_movies = pd.merge(user_ratings, movies_with_tags, on='movieId', how='left')\n",
        "\n",
        "# Weighted sum of TF-IDF vectors based on ratings\n",
        "user_profile_tfidf = np.zeros(tfidf_matrix.shape[1])\n",
        "\n",
        "for idx, row in user_movies.iterrows():\n",
        "    # Get the TF-IDF vector for this movie\n",
        "    movie_idx = movies_with_tags.index[movies_with_tags['movieId'] == row['movieId']][0]\n",
        "    movie_tfidf = tfidf_matrix[movie_idx].toarray().flatten()\n",
        "    # Weight by the user's rating\n",
        "    user_profile_tfidf += movie_tfidf * row['rating']\n",
        "\n",
        "# Normalize the user profile vector\n",
        "user_profile_tfidf = user_profile_tfidf / np.linalg.norm(user_profile_tfidf)\n",
        "\n",
        "# Compute cosine similarity between user profile and all movie vectors\n",
        "content_similarities = cosine_similarity([user_profile_tfidf], tfidf_matrix).flatten()\n",
        "\n",
        "# Create a list of content-based predictions for unrated movies\n",
        "cb_predictions = []\n",
        "for idx, movie_id in enumerate(movies_with_tags['movieId']):\n",
        "    if movie_id in unrated_movies:\n",
        "        cb_predictions.append((movie_id, content_similarities[idx]))\n"
      ]
    },
    {
      "cell_type": "markdown",
      "metadata": {
        "id": "By24br6piT-4"
      },
      "source": [
        "We'll combine the collaborative filtering and content-based predictions.\n",
        "\n"
      ]
    },
    {
      "cell_type": "code",
      "execution_count": null,
      "metadata": {
        "id": "grkRbPH6iT-5"
      },
      "outputs": [],
      "source": [
        "# Convert predictions to DataFrames\n",
        "cf_pred_df = pd.DataFrame(cf_predictions, columns=['movieId', 'cf_score'])\n",
        "cb_pred_df = pd.DataFrame(cb_predictions, columns=['movieId', 'cb_score'])\n",
        "\n",
        "# Merge the predictions on 'movieId'\n",
        "hybrid_pred_df = pd.merge(cf_pred_df, cb_pred_df, on='movieId', how='inner')\n"
      ]
    },
    {
      "cell_type": "markdown",
      "metadata": {
        "id": "tpE3ofOaiT-5"
      },
      "source": [
        "Since the CF scores (predicted ratings) and CB scores (cosine similarities) are on different scales, we need to normalize them to ensure fair weighting."
      ]
    },
    {
      "cell_type": "code",
      "execution_count": null,
      "metadata": {
        "id": "9aBqTBAciT-6"
      },
      "outputs": [],
      "source": [
        "# Normalize CF scores to range [0, 1]\n",
        "cf_min = cf_pred_df['cf_score'].min()\n",
        "cf_max = cf_pred_df['cf_score'].max()\n",
        "cf_pred_df['cf_score_normalized'] = (cf_pred_df['cf_score'] - cf_min) / (cf_max - cf_min)\n",
        "\n",
        "# CB scores are cosine similarities between 0 and 1 (ensure they are within this range)\n",
        "cb_pred_df['cb_score_normalized'] = cb_pred_df['cb_score']\n",
        "\n",
        "# Update the merged DataFrame with normalized scores\n",
        "hybrid_pred_df = pd.merge(cf_pred_df[['movieId', 'cf_score_normalized']], cb_pred_df[['movieId', 'cb_score_normalized']], on='movieId')\n"
      ]
    },
    {
      "cell_type": "markdown",
      "metadata": {
        "id": "cyasq_AjiT-6"
      },
      "source": [
        "Then we calculate the weighhts for CF and CB components based on user activity, i.e if the user has rated many movies, we give more weight to collaborative filtering.\n",
        "\n",
        "- Users with more ratings get a higher cf_weight since collaborative filtering is more effective with more data.\n",
        "- Conversely, users with fewer ratings rely more on content-based filtering."
      ]
    },
    {
      "cell_type": "code",
      "execution_count": null,
      "metadata": {
        "id": "8uHlA-_DiT-7"
      },
      "outputs": [],
      "source": [
        "# Calculate weights based on user activity\n",
        "num_user_ratings = len(user_ratings)\n",
        "max_ratings = ratings_df['userId'].value_counts().max()\n",
        "cf_weight = num_user_ratings / max_ratings\n",
        "cb_weight = 1 - cf_weight"
      ]
    },
    {
      "cell_type": "markdown",
      "metadata": {
        "id": "wjjhDaebiT-7"
      },
      "source": [
        "Then we compute the final hybrid score by combining the CF and CB predictions using the computed weights:"
      ]
    },
    {
      "cell_type": "code",
      "execution_count": null,
      "metadata": {
        "id": "gCphUjphiT-7"
      },
      "outputs": [],
      "source": [
        "# Compute the final hybrid score\n",
        "hybrid_pred_df['hybrid_score'] = (cf_weight * hybrid_pred_df['cf_score_normalized']) + (cb_weight * hybrid_pred_df['cb_score_normalized'])\n"
      ]
    },
    {
      "cell_type": "markdown",
      "metadata": {
        "id": "3tnIJqoeiT-8"
      },
      "source": [
        "Finally, we merge the hybrid predictions with the movies DataFrame to get the titles and sort the results by the hybrid score in descending order to get the top 10 recommendations."
      ]
    },
    {
      "cell_type": "code",
      "execution_count": null,
      "metadata": {
        "id": "o_4LUOH_iT-8"
      },
      "outputs": [],
      "source": [
        "# Merge with movies DataFrame to get titles\n",
        "hybrid_pred_df = pd.merge(hybrid_pred_df, movies_df[['movieId', 'title']], on='movieId', how='left')\n",
        "\n",
        "# Sort by hybrid score in descending order\n",
        "hybrid_pred_df = hybrid_pred_df.sort_values(by='hybrid_score', ascending=False)\n",
        "\n",
        "# Get top 10 recommendations\n",
        "top_10_recommendations = hybrid_pred_df.head(10)\n",
        "\n",
        "print(\"Top 10 Movie Recommendations:\")\n",
        "print(top_10_recommendations[['title', 'hybrid_score']])\n"
      ]
    },
    {
      "cell_type": "markdown",
      "metadata": {
        "id": "I7bzw5NCiT-9"
      },
      "source": [
        "Putting it all into a function"
      ]
    },
    {
      "cell_type": "markdown",
      "metadata": {
        "id": "AKPy-N_DiT-9"
      },
      "source": [
        "Now we can modify the get_user_recommendations() function to allow users to select preferred genres or tags, which will be used to generate movie recommendations.\n",
        "\n",
        "The function will accommodate three scenarios:\n",
        "\n",
        "1. Existing Users with Ratings: If a user_id is provided and exists in the dataset, the function will generate recommendations based on both the user's past ratings and the specified genres or tags.\n",
        "\n",
        "2. New Users or Users without Ratings: If a user_id is not provided or the user has no ratings, the function will rely solely on the preferred genres or tags to generate recommendations.\n",
        "\n",
        "3. Users Providing Only Preferences: If a user_id is not provided, but preferred genres or tags are specified, the function will use these preferences to generate recommendations."
      ]
    },
    {
      "cell_type": "code",
      "execution_count": null,
      "metadata": {
        "id": "pmt1IvBNiT--"
      },
      "outputs": [],
      "source": [
        "import pandas as pd\n",
        "import numpy as np\n",
        "from sklearn.metrics.pairwise import cosine_similarity\n",
        "from surprise import Prediction\n",
        "\n",
        "def get_user_recommendations(user_id=None, num_recommendations=10, preferred_genres=None, preferred_tags=None):\n",
        "    \"\"\"\n",
        "    Generate personalized movie recommendations for a given user or based on preferred genres/tags.\n",
        "\n",
        "    Parameters:\n",
        "    - user_id (int, optional): The ID of the user. If None, recommendations will be based on preferred genres/tags.\n",
        "    - num_recommendations (int): The number of recommendations to return.\n",
        "    - preferred_genres (list, optional): A list of preferred genres.\n",
        "    - preferred_tags (list, optional): A list of preferred tags.\n",
        "\n",
        "    Returns:\n",
        "    - recommendations_df (DataFrame): A DataFrame containing the recommended movies,\n",
        "      their hybrid scores, and explanations.\n",
        "    \"\"\"\n",
        "    # Validate inputs\n",
        "    if user_id is not None and user_id not in ratings_df['userId'].unique():\n",
        "        print(f\"User ID {user_id} not found. Recommendations will be based on preferred genres/tags.\")\n",
        "        user_id = None\n",
        "\n",
        "    # Initialize variables\n",
        "    all_movie_ids = movies_df['movieId'].unique()\n",
        "\n",
        "    # Movies the user has already rated\n",
        "    if user_id is not None:\n",
        "        user_ratings = ratings_df[ratings_df['userId'] == user_id]\n",
        "        rated_movies = user_ratings['movieId'].tolist()\n",
        "    else:\n",
        "        user_ratings = pd.DataFrame()\n",
        "        rated_movies = []\n",
        "\n",
        "    # Movies the user hasn't rated yet\n",
        "    unrated_movies = [movie_id for movie_id in all_movie_ids if movie_id not in rated_movies]\n",
        "\n",
        "    # **Collaborative Filtering Predictions using Hybrid CF (SVD + KNN)**\n",
        "    if user_id is not None and not user_ratings.empty:\n",
        "        cf_predictions = []\n",
        "        for movie_id in unrated_movies:\n",
        "            # Get SVD prediction\n",
        "            svd_pred = best_svd_model.predict(user_id, movie_id).est\n",
        "            # Get KNNBaseline prediction\n",
        "            knn_pred = best_knn_model.predict(user_id, movie_id).est\n",
        "            # Combine predictions using equal weights (can be adjusted)\n",
        "            cf_hybrid_pred = (0.5 * svd_pred) + (0.5 * knn_pred)\n",
        "            cf_predictions.append((movie_id, cf_hybrid_pred))\n",
        "        cf_pred_df = pd.DataFrame(cf_predictions, columns=['movieId', 'cf_score'])\n",
        "    else:\n",
        "        cf_pred_df = pd.DataFrame(columns=['movieId', 'cf_score'])\n",
        "\n",
        "    # **Content-Based Filtering Scores**\n",
        "    # Build user profile vector based on preferences\n",
        "    if not user_ratings.empty:\n",
        "        # Build profile from rated movies\n",
        "        user_movies = pd.merge(user_ratings, movies_with_tags, on='movieId', how='left')\n",
        "        user_profile_tfidf = np.zeros(tfidf_matrix.shape[1])\n",
        "        for _, row in user_movies.iterrows():\n",
        "            try:\n",
        "                # Get the index of the movie in movies_with_tags\n",
        "                movie_idx = movies_with_tags.index[movies_with_tags['movieId'] == row['movieId']][0]\n",
        "                movie_tfidf = tfidf_matrix[movie_idx].toarray().flatten()\n",
        "                user_profile_tfidf += movie_tfidf * row['rating']\n",
        "            except IndexError:\n",
        "                continue  # Skip if movie_id not found\n",
        "    else:\n",
        "        user_profile_tfidf = np.zeros(tfidf_matrix.shape[1])\n",
        "\n",
        "    # Incorporate preferred genres and tags\n",
        "    preference_text = ''\n",
        "    if preferred_genres:\n",
        "        preference_text += ' '.join(preferred_genres) + ' '\n",
        "    if preferred_tags:\n",
        "        preference_text += ' '.join(preferred_tags)\n",
        "    preference_text = preprocess(preference_text)\n",
        "\n",
        "    if preference_text:\n",
        "        # Transform preference text into TF-IDF vector\n",
        "        preference_vector = tfidf.transform([preference_text]).toarray().flatten()\n",
        "        # Combine with user profile\n",
        "        user_profile_tfidf += preference_vector * 2  # Weight preferences more heavily\n",
        "    else:\n",
        "        if user_profile_tfidf.sum() == 0:\n",
        "            print(\"No user ratings or preferences provided. Cannot generate recommendations.\")\n",
        "            return None\n",
        "\n",
        "    # Normalize the user profile vector\n",
        "    norm = np.linalg.norm(user_profile_tfidf)\n",
        "    if norm != 0:\n",
        "        user_profile_tfidf_normalized = user_profile_tfidf / norm\n",
        "    else:\n",
        "        user_profile_tfidf_normalized = user_profile_tfidf\n",
        "\n",
        "    # Compute cosine similarity between user profile and all movie vectors\n",
        "    content_similarities = cosine_similarity([user_profile_tfidf_normalized], tfidf_matrix).flatten()\n",
        "\n",
        "    # Create content-based predictions for unrated movies\n",
        "    cb_predictions = []\n",
        "    for idx, movie_id in enumerate(movies_with_tags['movieId']):\n",
        "        if movie_id in unrated_movies:\n",
        "            cb_predictions.append((movie_id, content_similarities[idx]))\n",
        "    cb_pred_df = pd.DataFrame(cb_predictions, columns=['movieId', 'cb_score'])\n",
        "\n",
        "    # **Normalize CF Scores to [0, 1]**\n",
        "    if not cf_pred_df.empty:\n",
        "        cf_min = cf_pred_df['cf_score'].min()\n",
        "        cf_max = cf_pred_df['cf_score'].max()\n",
        "        if cf_max - cf_min != 0:\n",
        "            cf_pred_df['cf_score_normalized'] = (cf_pred_df['cf_score'] - cf_min) / (cf_max - cf_min)\n",
        "        else:\n",
        "            cf_pred_df['cf_score_normalized'] = 0.5  # Assign middle value if no variance\n",
        "    else:\n",
        "        cf_pred_df['cf_score_normalized'] = 0.0  # Placeholder\n",
        "\n",
        "    # CB scores are already between 0 and 1 (cosine similarity)\n",
        "    cb_pred_df['cb_score_normalized'] = cb_pred_df['cb_score']\n",
        "\n",
        "    # **Merge Predictions**\n",
        "    if not cf_pred_df.empty:\n",
        "        hybrid_pred_df = pd.merge(cf_pred_df, cb_pred_df, on='movieId', how='inner')\n",
        "    else:\n",
        "        hybrid_pred_df = cb_pred_df.copy()\n",
        "        hybrid_pred_df['cf_score'] = np.nan  # Placeholder for consistency\n",
        "\n",
        "    # **Calculate Weights for CF and CB Components**\n",
        "    if user_id is not None and not user_ratings.empty:\n",
        "        num_user_ratings = len(user_ratings)\n",
        "        max_ratings = ratings_df['userId'].value_counts().max()\n",
        "        cf_weight = num_user_ratings / max_ratings\n",
        "        cb_weight = 1 - cf_weight\n",
        "        # Normalize weights to sum to 1\n",
        "        if (cf_weight + cb_weight) != 0:\n",
        "            cf_weight = cf_weight / (cf_weight + cb_weight)\n",
        "            cb_weight = cb_weight / (cf_weight + cb_weight)\n",
        "        else:\n",
        "            cf_weight = 0.5\n",
        "            cb_weight = 0.5\n",
        "    else:\n",
        "        cf_weight = 0.0\n",
        "        cb_weight = 1.0\n",
        "\n",
        "    # **Compute Hybrid Score**\n",
        "    hybrid_pred_df['hybrid_score'] = (cf_weight * hybrid_pred_df['cf_score'].fillna(0)) + \\\n",
        "                                     (cb_weight * hybrid_pred_df['cb_score'])\n",
        "\n",
        "    # **Merge with Movies DataFrame to Get Titles and Genres**\n",
        "    hybrid_pred_df = pd.merge(hybrid_pred_df, movies_df[['movieId', 'title', 'genres']], on='movieId', how='left')\n",
        "\n",
        "    # **Remove Duplicate Recommendations**\n",
        "    # Ensure that each movieId appears only once\n",
        "    hybrid_pred_df = hybrid_pred_df.drop_duplicates(subset=['movieId'], keep='first')\n",
        "\n",
        "    # **Sort by Hybrid Score in Descending Order**\n",
        "    hybrid_pred_df = hybrid_pred_df.sort_values(by='hybrid_score', ascending=False)\n",
        "\n",
        "    # **Select the Top N Recommendations**\n",
        "    top_recommendations = hybrid_pred_df.head(num_recommendations)\n",
        "\n",
        "    # **Generate Explanations**\n",
        "    explanations = []\n",
        "    for _, row in top_recommendations.iterrows():\n",
        "        explanation = \"\"\n",
        "        # High predicted CF score\n",
        "        if not np.isnan(row['cf_score']) and row['cf_score'] >= 4.0:\n",
        "            explanation += \"High predicted rating. \"\n",
        "        # Matching genres\n",
        "        if preferred_genres:\n",
        "            movie_genres = set(row['genres'].split('|'))\n",
        "            matching_genres = set(preferred_genres) & movie_genres\n",
        "            if matching_genres:\n",
        "                explanation += f\"Includes your preferred genres: {', '.join(matching_genres)}. \"\n",
        "        # Similar content\n",
        "        if row['cb_score'] >= 0.5:\n",
        "            explanation += \"Similar content based on your preferences. \"\n",
        "        explanations.append(explanation.strip())\n",
        "\n",
        "    # **Add Explanations to the DataFrame**\n",
        "    top_recommendations['explanation'] = explanations\n",
        "\n",
        "    # **Reorder and Select Relevant Columns**\n",
        "    recommendations_df = top_recommendations[['movieId', 'title', 'hybrid_score', 'explanation']]\n",
        "\n",
        "    return recommendations_df.reset_index(drop=True)\n"
      ]
    },
    {
      "cell_type": "markdown",
      "metadata": {
        "id": "NQkBXXTWiT-_"
      },
      "source": [
        "Usage Examples"
      ]
    },
    {
      "cell_type": "code",
      "execution_count": null,
      "metadata": {
        "id": "24AY8Z2ziT-_"
      },
      "outputs": [],
      "source": [
        "# Example Usage\n",
        "user_id = 1\n",
        "preferred_genres = ['Action', 'Sci-Fi']\n",
        "preferred_tags = ['space', 'future']\n",
        "num_recommendations = 10\n",
        "\n",
        "recommendations = get_user_recommendations(\n",
        "    user_id=user_id,\n",
        "    num_recommendations=num_recommendations,\n",
        "    preferred_genres=preferred_genres,\n",
        "    preferred_tags=preferred_tags\n",
        ")\n",
        "\n",
        "print(\"Top 10 Movie Recommendations:\")\n",
        "print(recommendations)\n"
      ]
    },
    {
      "cell_type": "code",
      "execution_count": null,
      "metadata": {
        "id": "GGEAN7oiiT-_"
      },
      "outputs": [],
      "source": [
        "# New user without a user ID, specifying preferred genres and tags\n",
        "preferred_genres = ['Comedy', 'Romance']\n",
        "preferred_tags = ['love', 'funny']\n",
        "num_recommendations = 5\n",
        "\n",
        "recommendations = get_user_recommendations(user_id=None, num_recommendations=num_recommendations,\n",
        "                                           preferred_genres=preferred_genres, preferred_tags=preferred_tags)\n",
        "\n",
        "print(\"Recommendations Based on Your Preferences:\")\n",
        "print(recommendations)\n"
      ]
    },
    {
      "cell_type": "code",
      "execution_count": null,
      "metadata": {
        "id": "inVKs1kpiT_A"
      },
      "outputs": [],
      "source": [
        "# Existing user relying solely on past ratings\n",
        "user_id = 1\n",
        "num_recommendations = 5\n",
        "\n",
        "recommendations = get_user_recommendations(user_id=user_id, num_recommendations=num_recommendations)\n",
        "\n",
        "print(\"Personalized Recommendations:\")\n",
        "print(recommendations)\n"
      ]
    },
    {
      "cell_type": "code",
      "execution_count": null,
      "metadata": {
        "id": "7pI1urHMiT_B"
      },
      "outputs": [],
      "source": [
        "from surprise import Prediction\n",
        "from surprise import accuracy\n",
        "\n",
        "def evaluate_hybrid_model(test_set):\n",
        "    \"\"\"\n",
        "    Evaluate the hybrid model using RMSE and MAE.\n",
        "\n",
        "    Parameters:\n",
        "    - test_set (list): A list of (user_id, movie_id, true_rating) tuples.\n",
        "\n",
        "    Returns:\n",
        "    - rmse (float): Root Mean Squared Error.\n",
        "    - mae (float): Mean Absolute Error.\n",
        "    \"\"\"\n",
        "    hybrid_predictions = []\n",
        "    for uid, iid, true_r in test_set:\n",
        "        # Get SVD prediction\n",
        "        svd_pred = best_svd_model.predict(uid, iid).est\n",
        "        # Get KNNBaseline prediction\n",
        "        knn_pred = best_knn_model.predict(uid, iid).est\n",
        "        # Combine predictions using equal weights\n",
        "        est_hybrid = (0.5 * svd_pred) + (0.5 * knn_pred)\n",
        "\n",
        "        hybrid_predictions = [\n",
        "            Prediction(uid=row['uid'], iid=row['iid'], r_ui=row['true_r'], est=row['est_hybrid'], details={})\n",
        "            for _, row in merged_pred_df.iterrows()\n",
        "        ]\n",
        "\n",
        "    # Calculate RMSE and MAE\n",
        "    rmse = accuracy.rmse(hybrid_predictions, verbose=True)\n",
        "    mae = accuracy.mae(hybrid_predictions, verbose=True)\n",
        "    return rmse, mae\n",
        "\n",
        "# Example Usage\n",
        "# Assume test_testset is your test set\n",
        "rmse, mae = evaluate_hybrid_model(test_testset)\n",
        "print(f\"Hybrid Model RMSE: {rmse:.4f}\")\n",
        "print(f\"Hybrid Model MAE: {mae:.4f}\")\n"
      ]
    },
    {
      "cell_type": "code",
      "execution_count": null,
      "metadata": {
        "id": "mJHLQDtGiT_B"
      },
      "outputs": [],
      "source": [
        "from collections import defaultdict\n",
        "\n",
        "def precision_recall_at_k(predictions, k=10, threshold=3.5):\n",
        "    \"\"\"\n",
        "    Return precision and recall at k metrics for each user.\n",
        "\n",
        "    Parameters:\n",
        "    - predictions (list of Prediction objects): The list of predictions.\n",
        "    - k (int): The number of top items to consider.\n",
        "    - threshold (float): The rating threshold to consider an item as relevant.\n",
        "\n",
        "    Returns:\n",
        "    - precision (float): Average precision at k.\n",
        "    - recall (float): Average recall at k.\n",
        "    \"\"\"\n",
        "    # Map the predictions to each user\n",
        "    user_est_true = defaultdict(list)\n",
        "    for pred in predictions:\n",
        "        user_est_true[pred.uid].append((pred.est, pred.r_ui))\n",
        "\n",
        "    precisions = dict()\n",
        "    recalls = dict()\n",
        "\n",
        "    for uid, user_ratings in user_est_true.items():\n",
        "        # Sort user ratings by estimated value\n",
        "        user_ratings.sort(key=lambda x: x[0], reverse=True)\n",
        "\n",
        "        # Number of relevant items\n",
        "        n_rel = sum((true_r >= threshold) for (_, true_r) in user_ratings)\n",
        "\n",
        "        # Number of recommended items in top k\n",
        "        n_rec_k = sum((est >= threshold) for (est, _) in user_ratings[:k])\n",
        "\n",
        "        # Number of relevant and recommended items in top k\n",
        "        n_rel_and_rec_k = sum(((true_r >= threshold) and (est >= threshold))\n",
        "                              for (est, true_r) in user_ratings[:k])\n",
        "\n",
        "        # Precision@K\n",
        "        precisions[uid] = n_rel_and_rec_k / n_rec_k if n_rec_k != 0 else 0\n",
        "\n",
        "        # Recall@K\n",
        "        recalls[uid] = n_rel_and_rec_k / n_rel if n_rel != 0 else 0\n",
        "\n",
        "    # Calculate average precision and recall\n",
        "    avg_precision = np.mean(list(precisions.values()))\n",
        "    avg_recall = np.mean(list(recalls.values()))\n",
        "\n",
        "    return avg_precision, avg_recall\n",
        "\n",
        "# Example Usage\n",
        "def evaluate_precision_recall(test_set):\n",
        "    hybrid_predictions = []\n",
        "    for uid, iid, true_r in test_set:\n",
        "        # Get SVD prediction\n",
        "        svd_pred = best_svd_model.predict(uid, iid).est\n",
        "        # Get KNNBaseline prediction\n",
        "        knn_pred = best_knn_model.predict(uid, iid).est\n",
        "        # Combine predictions using equal weights\n",
        "        est_hybrid = (0.5 * svd_pred) + (0.5 * knn_pred)\n",
        "        hybrid_predictions.append(Prediction(uid, iid, true_r, est_hybrid, {}))\n",
        "\n",
        "    precision, recall = precision_recall_at_k(hybrid_predictions, k=10, threshold=3.5)\n",
        "    print(f\"Hybrid Model Precision@10: {precision:.4f}\")\n",
        "    print(f\"Hybrid Model Recall@10: {recall:.4f}\")\n",
        "\n",
        "# Call the evaluation function\n",
        "evaluate_precision_recall(test_testset)\n"
      ]
    },
    {
      "cell_type": "code",
      "execution_count": null,
      "metadata": {
        "id": "rMrcMq0UiT_E"
      },
      "outputs": [],
      "source": [
        "from scipy.stats import ttest_rel\n",
        "\n",
        "def statistical_significance_test(test_set):\n",
        "    \"\"\"\n",
        "    Perform paired t-tests between the hybrid model and individual models.\n",
        "\n",
        "    Parameters:\n",
        "    - test_set (list): A list of (user_id, movie_id, true_rating) tuples.\n",
        "\n",
        "    Returns:\n",
        "    - None: Prints the test results.\n",
        "    \"\"\"\n",
        "    errors_hybrid = []\n",
        "    errors_svd = []\n",
        "    errors_knn = []\n",
        "\n",
        "    for uid, iid, true_r in test_set:\n",
        "        # Hybrid prediction\n",
        "        svd_pred = best_svd_model.predict(uid, iid).est\n",
        "        knn_pred = best_knn_model.predict(uid, iid).est\n",
        "        est_hybrid = (0.5 * svd_pred) + (0.5 * knn_pred)\n",
        "        errors_hybrid.append((true_r - est_hybrid) ** 2)\n",
        "\n",
        "        # Individual model errors\n",
        "        errors_svd.append((true_r - svd_pred) ** 2)\n",
        "        errors_knn.append((true_r - knn_pred) ** 2)\n",
        "\n",
        "    # Perform paired t-test between Hybrid and SVD\n",
        "    t_stat_svd, p_val_svd = ttest_rel(errors_hybrid, errors_svd)\n",
        "    print(f\"T-test between Hybrid and SVD: t={t_stat_svd:.4f}, p={p_val_svd:.4f}\")\n",
        "\n",
        "    # Perform paired t-test between Hybrid and KNN\n",
        "    t_stat_knn, p_val_knn = ttest_rel(errors_hybrid, errors_knn)\n",
        "    print(f\"T-test between Hybrid and KNN: t={t_stat_knn:.4f}, p={p_val_knn:.4f}\")\n",
        "\n",
        "    # Interpretation\n",
        "    alpha = 0.05\n",
        "    if p_val_svd < alpha:\n",
        "        print(\"The hybrid model significantly outperforms the SVD model.\")\n",
        "    else:\n",
        "        print(\"No significant difference between the hybrid and SVD models.\")\n",
        "\n",
        "    if p_val_knn < alpha:\n",
        "        print(\"The hybrid model significantly outperforms the KNN model.\")\n",
        "    else:\n",
        "        print(\"No significant difference between the hybrid and KNN models.\")\n",
        "\n",
        "# Example Usage\n",
        "statistical_significance_test(test_testset)\n"
      ]
    },
    {
      "cell_type": "markdown",
      "metadata": {
        "id": "x8brXX9jiT_E"
      },
      "source": [
        "Integration into a User Interface\n",
        "To make the function more interactive and user-friendly, consider integrating it into a user interface where users can:\n",
        "\n",
        "1. Select Preferred Genres and Tags:\n",
        "\n",
        "    - Provide checkboxes or dropdowns for users to select from available genres and tags.\n",
        "2. Receive Real-Time Recommendations:\n",
        "\n",
        "    - Display recommendations dynamically as users select their preferences.\n",
        "3. Provide Feedback:\n",
        "\n",
        "    - Allow users to rate the recommended movies, which can be used to update their profiles and improve future recommendations."
      ]
    },
    {
      "cell_type": "markdown",
      "metadata": {
        "id": "WHdIEUxciT_F"
      },
      "source": [
        "# Advanced Modeling, Incorporating Neural Networks\n",
        "\n",
        "Incorporating neural networks into recommendation systems can help capture complex, non-linear patterns in the data, potentially improving recommendation accuracy.\n",
        "\n",
        "We will implement:\n",
        "1. Autoencoders for Collaborative Filtering:\n",
        "2. Neural Collaborative Filtering (NCF) Models:\n",
        "3. Deep Learning for Content-Based Filtering:\n",
        "\n",
        "First, we create a user-item interaction matrix, which we will use to train our autoencoder."
      ]
    },
    {
      "cell_type": "code",
      "execution_count": null,
      "metadata": {
        "id": "jpf7U8YJiT_F"
      },
      "outputs": [],
      "source": [
        "# Create a user-item interaction matrix\n",
        "user_item_matrix = ratings_df.pivot(index='userId', columns='movieId', values='rating').fillna(0)\n",
        "\n",
        "# Normalize the ratings\n",
        "user_ratings_mean = np.mean(user_item_matrix.values, axis=1)\n",
        "user_item_matrix_normalized = user_item_matrix.values - user_ratings_mean.reshape(-1, 1)\n",
        "\n",
        "# Get user and item mappings\n",
        "user_ids = user_item_matrix.index.tolist()\n",
        "movie_ids = user_item_matrix.columns.tolist()\n",
        "user_id_to_idx = {user_id: idx for idx, user_id in enumerate(user_ids)}\n",
        "movie_id_to_idx = {movie_id: idx for idx, movie_id in enumerate(movie_ids)}"
      ]
    },
    {
      "cell_type": "markdown",
      "metadata": {
        "id": "VBqnShDaiT_F"
      },
      "source": [
        "We'll use Keras to build the autoencoder model.\n",
        "\n"
      ]
    },
    {
      "cell_type": "code",
      "execution_count": null,
      "metadata": {
        "id": "cp1cVmAYiT_G"
      },
      "outputs": [],
      "source": [
        "import tensorflow as tf\n",
        "from tensorflow.keras.layers import Input, Dense\n",
        "from tensorflow.keras.models import Model\n",
        "from tensorflow.keras.layers import Dropout\n",
        "from tensorflow.keras.callbacks import EarlyStopping\n",
        "\n",
        "num_items = user_item_matrix.shape[1]\n",
        "\n",
        "# Define the encoding dimension\n",
        "encoding_dim = 64\n",
        "\n",
        "# Input placeholder\n",
        "input_ratings = Input(shape=(num_items,))\n",
        "\n",
        "# Encoder layers\n",
        "encoded = Dense(512, activation='relu')(input_ratings)\n",
        "encoded = Dropout(0.3)(encoded)  # Dropout layer with a 30% rate\n",
        "encoded = Dense(256, activation='relu')(encoded)\n",
        "encoded = Dense(encoding_dim, activation='relu')(encoded)\n",
        "encoded = Dropout(0.3)(encoded)\n",
        "\n",
        "# Decoder layers\n",
        "decoded = Dense(256, activation='relu')(encoded)\n",
        "decoded = Dense(512, activation='relu')(decoded)\n",
        "decoded = Dense(num_items, activation='linear')(decoded)\n",
        "\n",
        "# Autoencoder model\n",
        "autoencoder = Model(inputs=input_ratings, outputs=decoded)\n",
        "\n",
        "# Compile the model\n",
        "autoencoder.compile(optimizer='adam', loss='mean_squared_error')\n",
        "\n",
        "# Implement Early stopping to prevent overfitting\n",
        "early_stopping = EarlyStopping(monitor='val_loss', patience=5, restore_best_weights=True)"
      ]
    },
    {
      "cell_type": "markdown",
      "metadata": {
        "id": "hAZv4gB2iT_G"
      },
      "source": [
        "Training the autoencoder"
      ]
    },
    {
      "cell_type": "code",
      "execution_count": null,
      "metadata": {
        "id": "tE1RELVFiT_G"
      },
      "outputs": [],
      "source": [
        "# Prepare training data\n",
        "X = user_item_matrix_normalized\n",
        "\n",
        "# Train the autoencoder\n",
        "history = autoencoder.fit(\n",
        "    X,\n",
        "    X,\n",
        "    epochs=50,\n",
        "    batch_size=64,\n",
        "    shuffle=True,\n",
        "    validation_split=0.1,\n",
        "    callbacks=[early_stopping]\n",
        ")"
      ]
    },
    {
      "cell_type": "markdown",
      "metadata": {
        "id": "SpDEyBMFiT_H"
      },
      "source": [
        "Evaluating the autoencoder"
      ]
    },
    {
      "cell_type": "code",
      "execution_count": null,
      "metadata": {
        "id": "Q66sjHeKiT_H"
      },
      "outputs": [],
      "source": [
        "plt.plot(history.history['loss'], label='Training Loss')\n",
        "plt.plot(history.history['val_loss'], label='Validation Loss')\n",
        "plt.xlabel('Epochs')\n",
        "plt.ylabel('Loss')\n",
        "plt.legend()\n",
        "plt.show()"
      ]
    },
    {
      "cell_type": "markdown",
      "metadata": {
        "id": "452gl23ciT_I"
      },
      "source": [
        "For a given user, generate recommendations by reconstructing their ratings."
      ]
    },
    {
      "cell_type": "code",
      "execution_count": null,
      "metadata": {
        "id": "UBLA14omiT_I"
      },
      "outputs": [],
      "source": [
        "def recommend_movies(user_id, user_item_matrix, model, user_id_to_idx, movie_ids, num_recommendations=10):\n",
        "    # Get the user index\n",
        "    user_idx = user_id_to_idx[user_id]\n",
        "\n",
        "    # Get the user's ratings\n",
        "    user_ratings = user_item_matrix.values[user_idx].reshape(1, -1)\n",
        "    user_ratings_mean = np.mean(user_ratings)\n",
        "    user_ratings_normalized = user_ratings - user_ratings_mean\n",
        "\n",
        "    # Predict ratings\n",
        "    reconstructed_ratings = model.predict(user_ratings_normalized)\n",
        "    reconstructed_ratings = reconstructed_ratings + user_ratings_mean\n",
        "\n",
        "    # Get unrated movies\n",
        "    unrated_items = np.where(user_ratings.flatten() == 0)[0]\n",
        "\n",
        "    # Get predicted ratings for unrated movies\n",
        "    predicted_ratings = reconstructed_ratings.flatten()[unrated_items]\n",
        "\n",
        "    # Get top recommendations\n",
        "    top_indices = unrated_items[np.argsort(predicted_ratings)[::-1][:num_recommendations]]\n",
        "    recommended_movie_ids = [movie_ids[i] for i in top_indices]\n",
        "\n",
        "    # Get movie titles\n",
        "    movies_df = pd.read_csv('movies.csv')\n",
        "    recommended_movies = movies_df[movies_df['movieId'].isin(recommended_movie_ids)]\n",
        "\n",
        "    return recommended_movies[['movieId', 'title', 'genres']]\n"
      ]
    },
    {
      "cell_type": "code",
      "execution_count": null,
      "metadata": {
        "id": "mu8fV6iTiT_J"
      },
      "outputs": [],
      "source": [
        "user_id = 1  # Replace with a valid user ID\n",
        "recommended_movies = recommend_movies(user_id, user_item_matrix, autoencoder, user_id_to_idx, movie_ids)\n",
        "print(\"Recommended Movies for User ID\", user_id)\n",
        "print(recommended_movies)\n"
      ]
    },
    {
      "cell_type": "markdown",
      "metadata": {
        "id": "tmDlH_v6iT_J"
      },
      "source": [
        "Implementing Neural Collaborative Filtering (NCF)\n",
        "\n",
        "This replaces traditional matrix factorization with neural networks to model non-linear user-item interactions."
      ]
    },
    {
      "cell_type": "code",
      "execution_count": null,
      "metadata": {
        "id": "bPozNAgEiT_J"
      },
      "outputs": [],
      "source": [
        "# Binarize ratings: 1 if rating >= 4.0, else 0 to create positive and negative interactions\n",
        "ratings_df['rating'] = ratings_df['rating'].apply(lambda x: 1 if x >= 4.0 else 0)\n",
        "\n",
        "# Map user and item IDs to indices\n",
        "user_ids = ratings_df['userId'].unique().tolist()\n",
        "movie_ids = ratings_df['movieId'].unique().tolist()\n",
        "user_id_to_idx = {user_id: idx for idx, user_id in enumerate(user_ids)}\n",
        "movie_id_to_idx = {movie_id: idx for idx, movie_id in enumerate(movie_ids)}\n"
      ]
    },
    {
      "cell_type": "markdown",
      "metadata": {
        "id": "2Xmtt4VciT_K"
      },
      "source": [
        "Generate negative interactions for training"
      ]
    },
    {
      "cell_type": "code",
      "execution_count": null,
      "metadata": {
        "id": "WHVZ0l7SiT_K"
      },
      "outputs": [],
      "source": [
        "import random\n",
        "random.seed(42)\n",
        "\n",
        "def get_negative_samples(ratings, num_negatives):\n",
        "    user_item_set = set(zip(ratings['userId'], ratings['movieId']))\n",
        "    all_items = set(movie_ids)\n",
        "    negative_samples = []\n",
        "    for user_id in user_ids:\n",
        "        user_negative_items = all_items - set(ratings_df[ratings_df['userId'] == user_id]['movieId'])\n",
        "        user_negative_items = random.sample(user_negative_items, num_negatives)\n",
        "        for item_id in user_negative_items:\n",
        "            negative_samples.append([user_id, item_id, 0])  # Negative sample\n",
        "    return negative_samples\n",
        "\n",
        "# Generate negative samples\n",
        "negative_samples = get_negative_samples(ratings_df[ratings_df['rating'] == 1], num_negatives=4)\n"
      ]
    },
    {
      "cell_type": "markdown",
      "metadata": {
        "id": "KZ8XF0N1iT_K"
      },
      "source": [
        "- Positive and Negative Interactions: In recommendation systems, especially those based on implicit feedback, it's common to have mostly positive interactions (e.g., likes or purchases) but very few explicit negative interactions. To address this, negative samples (items that the user has not interacted with) are generated artificially and labeled as negative (interaction value of 0).\n",
        "\n",
        "- Negative Sampling: For each user, the function randomly selects a fixed number of items (num_negatives) that the user has not interacted with, treating these as negative samples. This helps the model learn the difference between positive interactions (items the user likes) and negative interactions (items the user doesn't engage with).\n",
        "\n",
        "Possible Improvements:\n",
        "- Dynamic Number of Negative Samples: Instead of selecting a fixed number of negative samples (e.g., 4), you might want to vary this based on the user's activity. Users with more interactions could have more negative samples, while less active users might need fewer.\n",
        "\n",
        "- Weighted Sampling: You could improve the sampling process by biasing the selection towards items that are more popular or recently released, as users are more likely to encounter these in practice.\n",
        "\n",
        "- Negative Sample Filtering: Sometimes, negative samples might include items the user hasn't rated yet but may still like. Additional logic could be added to filter out items that are too similar to the positively rated items (e.g., based on genre or metadata)."
      ]
    },
    {
      "cell_type": "markdown",
      "metadata": {
        "id": "ZJfnx4lniT_L"
      },
      "source": [
        "- Weighted Sampling: Popular movies are more likely to be selected as negative samples, as users are more likely to encounter these items.\n",
        "- Efficiency: Since we're using numpy's random.choice with weights, the sampling is efficient even with large numbers of items.\n",
        "- Recency-based Sampling: This method can be adapted to use movie recency instead of popularity by calculating weights based on how recently the movies were released (e.g., movies released within the last year could get higher weights).\n",
        "\n",
        "Further Improvements:\n",
        "- Hybrid Weighting (Popularity + Recency): You can combine both popularity and recency into a single weighting scheme by, for example, multiplying the popularity score by a factor that decays based on the release date of the movie.\n",
        "\n",
        "- Dynamic num_negatives: You could dynamically adjust the number of negative samples based on the number of positive interactions each user has (more active users may require more negative samples)."
      ]
    },
    {
      "cell_type": "markdown",
      "metadata": {
        "id": "93GS4mchiT_L"
      },
      "source": [
        "- Dynamically Adjusted num_negatives: Users with more positive interactions will receive proportionally more negative samples, while users with fewer interactions will receive fewer negative samples. This approach ensures that more active users (who are likely to have engaged with more content) have a more balanced training set.\n",
        "\n",
        "- Weighted Sampling Based on Popularity: The negative samples are drawn using a weighted sampling mechanism, giving more popular movies a higher likelihood of being selected as negative samples.\n",
        "\n",
        "Customizations:\n",
        "- Recency Weighting: You can adjust the weights to incorporate recency along with popularity by calculating a combined score that includes both the popularity of a movie and how recently it was released.\n",
        "\n",
        "- User-specific Ratios: Instead of using a fixed neg_to_pos_ratio, you can define different ratios for different groups of users based on their behavior or interaction history.\n",
        "\n",
        "This approach helps in building a more representative dataset, ensuring that users with high activity levels (more positive interactions) receive an appropriate number of negative samples for training, while also incorporating the popularity of items in the selection process."
      ]
    },
    {
      "cell_type": "markdown",
      "metadata": {
        "id": "lprk5RGHiT_M"
      },
      "source": [
        "Combine Positive and Negative Samples"
      ]
    },
    {
      "cell_type": "code",
      "execution_count": null,
      "metadata": {
        "id": "DqS5vc4xiT_M"
      },
      "outputs": [],
      "source": [
        "positive_samples = ratings_df[ratings_df['rating'] == 1][['userId', 'movieId', 'rating']].values.tolist()\n",
        "all_samples = positive_samples + negative_samples\n",
        "all_samples_df = pd.DataFrame(all_samples, columns=['userId', 'movieId', 'rating'])\n",
        "\n",
        "# Shuffle the data\n",
        "all_samples_df = all_samples_df.sample(frac=1, random_state=42).reset_index(drop=True)\n"
      ]
    },
    {
      "cell_type": "markdown",
      "metadata": {
        "id": "3yGH1IE-iT_N"
      },
      "source": [
        "Split into Training and Test Sets\n"
      ]
    },
    {
      "cell_type": "code",
      "execution_count": null,
      "metadata": {
        "id": "g4XYnjKciT_N"
      },
      "outputs": [],
      "source": [
        "from sklearn.model_selection import train_test_split\n",
        "\n",
        "train_df, test_df = train_test_split(all_samples_df, test_size=0.2, random_state=42)"
      ]
    },
    {
      "cell_type": "markdown",
      "metadata": {
        "id": "UG_40PvCiT_O"
      },
      "source": [
        "Defining the NCF Model in Keras\n"
      ]
    },
    {
      "cell_type": "code",
      "execution_count": null,
      "metadata": {
        "id": "Pik1NwCriT_P"
      },
      "outputs": [],
      "source": [
        "from tensorflow.keras.layers import Input, Embedding, Flatten, Multiply, Concatenate, Dense\n",
        "from tensorflow.keras.models import Model\n",
        "\n",
        "num_users = len(user_ids)\n",
        "num_items = len(movie_ids)\n",
        "mf_dim = 10  # Dimensionality of the embeddings\n",
        "\n",
        "# Inputs\n",
        "user_input = Input(shape=(1,), name='user_input')\n",
        "item_input = Input(shape=(1,), name='item_input')\n",
        "\n",
        "# Embeddings for GMF\n",
        "user_embedding_gmf = Embedding(num_users, mf_dim, name='user_embedding_gmf')(user_input)\n",
        "item_embedding_gmf = Embedding(num_items, mf_dim, name='item_embedding_gmf')(item_input)\n",
        "\n",
        "# Flatten embeddings\n",
        "user_embedding_gmf = Flatten()(user_embedding_gmf)\n",
        "item_embedding_gmf = Flatten()(item_embedding_gmf)\n",
        "\n",
        "# Element-wise multiplication\n",
        "gmf_vector = Multiply()([user_embedding_gmf, item_embedding_gmf])\n",
        "\n",
        "# Embeddings for MLP\n",
        "user_embedding_mlp = Embedding(num_users, mf_dim * 2, name='user_embedding_mlp')(user_input)\n",
        "item_embedding_mlp = Embedding(num_items, mf_dim * 2, name='item_embedding_mlp')(item_input)\n",
        "\n",
        "user_embedding_mlp = Flatten()(user_embedding_mlp)\n",
        "item_embedding_mlp = Flatten()(item_embedding_mlp)\n",
        "\n",
        "# Concatenate user and item embeddings\n",
        "mlp_vector = Concatenate()([user_embedding_mlp, item_embedding_mlp])\n",
        "\n",
        "# MLP layers\n",
        "mlp_vector = Dense(64, activation='relu')(mlp_vector)\n",
        "mlp_vector = Dense(32, activation='relu')(mlp_vector)\n",
        "mlp_vector = Dense(16, activation='relu')(mlp_vector)\n",
        "mlp_vector = Dense(8, activation='relu')(mlp_vector)\n",
        "\n",
        "# Concatenate GMF and MLP parts\n",
        "neuMF_vector = Concatenate()([gmf_vector, mlp_vector])\n",
        "\n",
        "# Final output layer\n",
        "prediction = Dense(1, activation='sigmoid', name='prediction')(neuMF_vector)\n",
        "\n",
        "# Define the model\n",
        "model = Model(inputs=[user_input, item_input], outputs=prediction)\n",
        "\n",
        "# Compile the model\n",
        "model.compile(optimizer='adam', loss='binary_crossentropy')\n"
      ]
    },
    {
      "cell_type": "markdown",
      "metadata": {
        "id": "KKVQduEwiT_P"
      },
      "source": [
        "This code implements the NeuMF (Neural Matrix Factorization) model, which is a hybrid recommendation model combining Generalized Matrix Factorization (GMF) and Multi-Layer Perceptron (MLP):\n",
        "\n",
        "- The GMF branch captures linear interactions between users and items through element-wise multiplication of embeddings.\n",
        "- The MLP branch captures non-linear, complex interactions between users and items through a series of fully connected layers.\n",
        "- Both branches are concatenated to form a final interaction vector, which is passed through a sigmoid output layer to predict the probability of a user interacting with an item.\n",
        "\n",
        "The model is designed for tasks like implicit feedback in recommendation systems, where the goal is to predict whether a user will interact with (e.g., watch, rate, or like) a given item."
      ]
    },
    {
      "cell_type": "markdown",
      "metadata": {
        "id": "zNHpSWEdiT_Q"
      },
      "source": [
        "Preparing Input Data"
      ]
    },
    {
      "cell_type": "code",
      "execution_count": null,
      "metadata": {
        "id": "0u-OyxvliT_Q"
      },
      "outputs": [],
      "source": [
        "# Map IDs to indices\n",
        "train_user_indices = train_df['userId'].map(user_id_to_idx).values\n",
        "train_item_indices = train_df['movieId'].map(movie_id_to_idx).values\n",
        "train_labels = train_df['rating'].values\n",
        "\n",
        "test_user_indices = test_df['userId'].map(user_id_to_idx).values\n",
        "test_item_indices = test_df['movieId'].map(movie_id_to_idx).values\n",
        "test_labels = test_df['rating'].values\n"
      ]
    },
    {
      "cell_type": "markdown",
      "metadata": {
        "id": "uytnTk1siT_Q"
      },
      "source": [
        "Training the model"
      ]
    },
    {
      "cell_type": "code",
      "execution_count": null,
      "metadata": {
        "id": "pgCd0VGkiT_R"
      },
      "outputs": [],
      "source": [
        "# Define the batch size and epochs\n",
        "batch_size = 256\n",
        "epochs = 10\n",
        "\n",
        "# Train the model\n",
        "history = model.fit(\n",
        "    [train_user_indices, train_item_indices],  # Input: user and item indices\n",
        "    train_labels,  # Output: labels (ratings)\n",
        "    batch_size=batch_size,\n",
        "    epochs=epochs,\n",
        "    validation_data=([test_user_indices, test_item_indices], test_labels),\n",
        "    callbacks=[EarlyStopping(monitor='val_loss', patience=3, restore_best_weights=True)]\n",
        ")\n"
      ]
    },
    {
      "cell_type": "markdown",
      "metadata": {
        "id": "hPgyTCkgiT_U"
      },
      "source": [
        "Evaluating the NCF Model"
      ]
    },
    {
      "cell_type": "code",
      "execution_count": null,
      "metadata": {
        "id": "rY5MVoBLiT_V"
      },
      "outputs": [],
      "source": [
        "plt.plot(history.history['loss'], label='Training Loss')\n",
        "plt.plot(history.history['val_loss'], label='Validation Loss')\n",
        "plt.xlabel('Epochs')\n",
        "plt.ylabel('Loss')\n",
        "plt.legend()\n",
        "plt.show()\n"
      ]
    },
    {
      "cell_type": "markdown",
      "metadata": {
        "id": "Ul9bb7BWiT_Y"
      },
      "source": [
        "Generating Recommendations"
      ]
    },
    {
      "cell_type": "code",
      "execution_count": null,
      "metadata": {
        "id": "PhB-l4n3iT_Y"
      },
      "outputs": [],
      "source": [
        "def recommend_movies_ncf(user_id, model, user_id_to_idx, movie_id_to_idx, movies_df, num_recommendations=10):\n",
        "    user_idx = user_id_to_idx[user_id]\n",
        "\n",
        "    # Get items the user hasn't interacted with\n",
        "    user_rated_items = ratings_df[ratings_df['userId'] == user_id]['movieId'].tolist()\n",
        "    user_rated_item_indices = [movie_id_to_idx[i] for i in user_rated_items]\n",
        "    all_item_indices = list(movie_id_to_idx.values())\n",
        "    unrated_item_indices = [i for i in all_item_indices if i not in user_rated_item_indices]\n",
        "\n",
        "    # Prepare input data\n",
        "    user_indices = np.full(len(unrated_item_indices), user_idx)\n",
        "    item_indices = np.array(unrated_item_indices)\n",
        "\n",
        "    # Predict scores\n",
        "    predictions = model.predict([user_indices, item_indices], batch_size=1024).flatten()\n",
        "\n",
        "    # Get top recommendations\n",
        "    top_indices = predictions.argsort()[::-1][:num_recommendations]\n",
        "    recommended_item_indices = item_indices[top_indices]\n",
        "    recommended_movie_ids = [list(movie_id_to_idx.keys())[list(movie_id_to_idx.values()).index(i)] for i in recommended_item_indices]\n",
        "\n",
        "    recommended_movies = movies_df[movies_df['movieId'].isin(recommended_movie_ids)]\n",
        "    return recommended_movies[['movieId', 'title', 'genres']]\n"
      ]
    },
    {
      "cell_type": "markdown",
      "metadata": {
        "id": "VFd2EmcZiT_Z"
      },
      "source": [
        "Example Usage"
      ]
    },
    {
      "cell_type": "code",
      "execution_count": null,
      "metadata": {
        "id": "pkADAUMciT_Z"
      },
      "outputs": [],
      "source": [
        "user_id = 1  # Replace with a valid user ID\n",
        "movies_df = pd.read_csv('movies.csv')\n",
        "recommended_movies = recommend_movies_ncf(user_id, model, user_id_to_idx, movie_id_to_idx, movies_df)\n",
        "print(\"Recommended Movies for User ID\", user_id)\n",
        "print(recommended_movies)\n"
      ]
    },
    {
      "cell_type": "markdown",
      "metadata": {
        "id": "JezwGtAViT_a"
      },
      "source": [
        "Evaluating the Neural Network Model Using AUC"
      ]
    },
    {
      "cell_type": "code",
      "execution_count": null,
      "metadata": {
        "id": "-L_BBN4yiT_a"
      },
      "outputs": [],
      "source": [
        "# Prepare input data for testing\n",
        "test_user_indices = test_df['userId'].map(user_id_to_idx).values\n",
        "test_item_indices = test_df['movieId'].map(movie_id_to_idx).values\n",
        "test_labels = test_df['rating'].values"
      ]
    },
    {
      "cell_type": "markdown",
      "metadata": {
        "id": "jZLTGDFEiT_a"
      },
      "source": [
        "Use the trained NCF model to make predictions on the test set:"
      ]
    },
    {
      "cell_type": "code",
      "execution_count": null,
      "metadata": {
        "id": "-s7xmWcgiT_b"
      },
      "outputs": [],
      "source": [
        "# Make predictions\n",
        "test_predictions = model.predict([test_user_indices, test_item_indices], batch_size=1024).flatten()\n"
      ]
    },
    {
      "cell_type": "markdown",
      "metadata": {
        "id": "FxXn9a3LiT_b"
      },
      "source": [
        "Now let's modify the get_user_recommendations() function to use the neural network model (Neural Collaborative Filtering (NCF) implemented with TensorFlow/Keras) instead of the SVD model\n",
        "\n",
        "The function will:\n",
        "\n",
        "- Use the neural network model for collaborative filtering predictions.\n",
        "- Integrate content-based filtering as before.\n",
        "- Combine both methods to generate hybrid recommendations.\n",
        "- Provide explanations for the recommendations."
      ]
    },
    {
      "cell_type": "code",
      "execution_count": null,
      "metadata": {
        "id": "cw8yu5STiT_c"
      },
      "outputs": [],
      "source": [
        "def get_user_recommendations(user_id=None, num_recommendations=10, preferred_genres=None, preferred_tags=None):\n",
        "    \"\"\"\n",
        "    Generate personalized movie recommendations for a given user or based on preferred genres/tags.\n",
        "\n",
        "    Parameters:\n",
        "    - user_id (int, optional): The ID of the user. If None, recommendations will be based on preferred genres/tags.\n",
        "    - num_recommendations (int): The number of recommendations to return.\n",
        "    - preferred_genres (list, optional): A list of preferred genres.\n",
        "    - preferred_tags (list, optional): A list of preferred tags.\n",
        "\n",
        "    Returns:\n",
        "    - recommendations_df (DataFrame): A DataFrame containing the recommended movies,\n",
        "      their hybrid scores, and explanations.\n",
        "    \"\"\"\n",
        "    # Validate inputs\n",
        "    if user_id is not None and user_id not in ratings_df['userId'].unique():\n",
        "        print(f\"User ID {user_id} not found. Recommendations will be based on preferred genres/tags.\")\n",
        "        user_id = None\n",
        "\n",
        "    # Initialize variables\n",
        "    all_movie_ids = movies_df['movieId'].unique()\n",
        "\n",
        "    # Movies the user has already rated\n",
        "    if user_id is not None:\n",
        "        user_ratings = ratings_df[ratings_df['userId'] == user_id]\n",
        "        rated_movies = user_ratings['movieId'].tolist()\n",
        "    else:\n",
        "        user_ratings = pd.DataFrame()\n",
        "        rated_movies = []\n",
        "\n",
        "    # Movies the user hasn't rated yet\n",
        "    unrated_movies = [movie_id for movie_id in all_movie_ids if movie_id not in rated_movies]\n",
        "\n",
        "    # Collaborative Filtering Predictions using Neural Network Model\n",
        "    if user_id is not None and not user_ratings.empty:\n",
        "        # Map user_id to user_idx\n",
        "        if user_id in user_id_to_idx:\n",
        "            user_idx = user_id_to_idx[user_id]\n",
        "        else:\n",
        "            print(f\"User ID {user_id} not found in neural network model.\")\n",
        "            return None\n",
        "\n",
        "        # Map movie IDs to item indices\n",
        "        unrated_movie_indices = []\n",
        "        valid_movie_ids = []\n",
        "        for movie_id in unrated_movies:\n",
        "            if movie_id in movie_id_to_idx:\n",
        "                item_idx = movie_id_to_idx[movie_id]\n",
        "                unrated_movie_indices.append(item_idx)\n",
        "                valid_movie_ids.append(movie_id)\n",
        "\n",
        "        # Prepare input arrays\n",
        "        user_indices = np.full(len(unrated_movie_indices), user_idx)\n",
        "        item_indices = np.array(unrated_movie_indices)\n",
        "\n",
        "        # Make predictions using the neural network model\n",
        "        cf_scores = model.predict([user_indices, item_indices], batch_size=1024).flatten()\n",
        "\n",
        "        # Create DataFrame of predictions\n",
        "        cf_pred_df = pd.DataFrame({'movieId': valid_movie_ids, 'cf_score': cf_scores})\n",
        "    else:\n",
        "        cf_pred_df = pd.DataFrame(columns=['movieId', 'cf_score'])\n",
        "\n",
        "    # Content-Based Filtering Scores\n",
        "    # Build user profile vector based on preferences\n",
        "    # If user has ratings, combine their profile with preferred genres/tags\n",
        "    if not user_ratings.empty:\n",
        "        # Build profile from rated movies\n",
        "        user_movies = pd.merge(user_ratings, movies_with_tags, on='movieId', how='left')\n",
        "        user_profile_tfidf = np.zeros(tfidf_matrix.shape[1])\n",
        "        for idx, row in user_movies.iterrows():\n",
        "            movie_idx = movies_with_tags.index[movies_with_tags['movieId'] == row['movieId']][0]\n",
        "            movie_tfidf = tfidf_matrix[movie_idx].toarray().flatten()\n",
        "            user_profile_tfidf += movie_tfidf * row['rating']\n",
        "    else:\n",
        "        user_profile_tfidf = np.zeros(tfidf_matrix.shape[1])\n",
        "\n",
        "    # Incorporate preferred genres and tags\n",
        "    preference_text = ''\n",
        "    if preferred_genres:\n",
        "        preference_text += ' '.join(preferred_genres) + ' '\n",
        "    if preferred_tags:\n",
        "        preference_text += ' '.join(preferred_tags)\n",
        "    preference_text = preprocess(preference_text)\n",
        "\n",
        "    if preference_text:\n",
        "        # Transform preference text into TF-IDF vector\n",
        "        preference_vector = tfidf.transform([preference_text]).toarray().flatten()\n",
        "        # Combine with user profile\n",
        "        user_profile_tfidf += preference_vector * 2  # Weight preferences more heavily\n",
        "    else:\n",
        "        if user_profile_tfidf.sum() == 0:\n",
        "            print(\"No user ratings or preferences provided. Cannot generate recommendations.\")\n",
        "            return None\n",
        "\n",
        "    # Normalize the user profile vector\n",
        "    if np.linalg.norm(user_profile_tfidf) == 0:\n",
        "        user_profile_tfidf_normalized = user_profile_tfidf\n",
        "    else:\n",
        "        user_profile_tfidf_normalized = user_profile_tfidf / np.linalg.norm(user_profile_tfidf)\n",
        "\n",
        "    # Compute cosine similarity between user profile and all movie vectors\n",
        "    content_similarities = cosine_similarity([user_profile_tfidf_normalized], tfidf_matrix).flatten()\n",
        "\n",
        "    # Create content-based predictions for unrated movies\n",
        "    cb_predictions = []\n",
        "    for idx, movie_id in enumerate(movies_with_tags['movieId']):\n",
        "        if movie_id in unrated_movies:\n",
        "            cb_predictions.append((movie_id, content_similarities[idx]))\n",
        "    cb_pred_df = pd.DataFrame(cb_predictions, columns=['movieId', 'cb_score'])\n",
        "\n",
        "    # Merge predictions\n",
        "    if not cf_pred_df.empty:\n",
        "        hybrid_pred_df = pd.merge(cf_pred_df, cb_pred_df, on='movieId', how='inner')\n",
        "    else:\n",
        "        hybrid_pred_df = cb_pred_df.copy()\n",
        "        hybrid_pred_df['cf_score'] = np.nan  # Placeholder for consistency\n",
        "\n",
        "    # Calculate weights\n",
        "    if user_id is not None and not user_ratings.empty:\n",
        "        num_user_ratings = len(user_ratings)\n",
        "        max_ratings = ratings_df['userId'].value_counts().max()\n",
        "        cf_weight = num_user_ratings / max_ratings\n",
        "        cb_weight = 1 - cf_weight\n",
        "        # Ensure weights sum to 1\n",
        "        cf_weight = cf_weight / (cf_weight + cb_weight)\n",
        "        cb_weight = 1 - cf_weight\n",
        "    else:\n",
        "        cf_weight = 0.0\n",
        "        cb_weight = 1.0\n",
        "\n",
        "    # Compute hybrid score\n",
        "    hybrid_pred_df['hybrid_score'] = (cf_weight * hybrid_pred_df['cf_score'].fillna(0)) + (cb_weight * hybrid_pred_df['cb_score'])\n",
        "\n",
        "    # Merge with movies DataFrame to get titles and genres\n",
        "    hybrid_pred_df = pd.merge(hybrid_pred_df, movies_df[['movieId', 'title', 'genres']], on='movieId', how='left')\n",
        "\n",
        "    # Sort by hybrid score\n",
        "    hybrid_pred_df = hybrid_pred_df.sort_values(by='hybrid_score', ascending=False)\n",
        "\n",
        "    # Select the top N recommendations\n",
        "    top_recommendations = hybrid_pred_df.head(num_recommendations)\n",
        "\n",
        "    # Generate explanations\n",
        "    explanations = []\n",
        "    for idx, row in top_recommendations.iterrows():\n",
        "        explanation = \"\"\n",
        "        # High predicted rating\n",
        "        if not np.isnan(row['cf_score']) and row['cf_score'] >= 0.5:\n",
        "            explanation += \"High predicted preference score. \"\n",
        "        # Matching genres\n",
        "        movie_genres = set(row['genres'].split('|'))\n",
        "        matching_genres = set(preferred_genres or []) & movie_genres\n",
        "        if matching_genres:\n",
        "            explanation += f\"Includes your preferred genres: {', '.join(matching_genres)}. \"\n",
        "        # Similar content\n",
        "        if row['cb_score'] >= 0.5:\n",
        "            explanation += \"Similar content based on your preferences. \"\n",
        "        explanations.append(explanation.strip())\n",
        "\n",
        "    # Add explanations to the DataFrame\n",
        "    top_recommendations['explanation'] = explanations\n",
        "\n",
        "    # Reorder columns\n",
        "    recommendations_df = top_recommendations[['movieId', 'title', 'hybrid_score', 'explanation']]\n",
        "\n",
        "    return recommendations_df.reset_index(drop=True)\n"
      ]
    },
    {
      "cell_type": "code",
      "execution_count": null,
      "metadata": {
        "id": "lC0eCQeOiT_c"
      },
      "outputs": [],
      "source": [
        "# Example usage\n",
        "user_id = 1  # Replace with the target user ID\n",
        "preferred_genres = ['Action', 'Adventure']\n",
        "preferred_tags = ['space', 'future']\n",
        "num_recommendations = 5\n",
        "\n",
        "recommendations = get_user_recommendations(\n",
        "    user_id=user_id,\n",
        "    num_recommendations=num_recommendations,\n",
        "    preferred_genres=preferred_genres,\n",
        "    preferred_tags=preferred_tags\n",
        ")\n",
        "\n",
        "print(\"Personalized Recommendations:\")\n",
        "print(recommendations)"
      ]
    },
    {
      "cell_type": "markdown",
      "metadata": {
        "id": "NABaMT93iT_d"
      },
      "source": [
        "Extracting Valid Genres"
      ]
    },
    {
      "cell_type": "code",
      "execution_count": null,
      "metadata": {
        "id": "6fMA46T4iT_d"
      },
      "outputs": [],
      "source": [
        "unique_genres = set()\n",
        "for genres_list in movies_df['genres']:\n",
        "    unique_genres.update(genres_list)\n",
        "\n",
        "# Convert the set to a sorted list\n",
        "unique_genres = sorted(unique_genres)\n",
        "\n",
        "print(\"Available Genres:\")\n",
        "print(unique_genres)\n"
      ]
    },
    {
      "cell_type": "code",
      "execution_count": null,
      "metadata": {
        "id": "4IiAYNahiT_e"
      },
      "outputs": [],
      "source": [
        "len(unique_genres)"
      ]
    },
    {
      "cell_type": "markdown",
      "metadata": {
        "id": "j39FWTC9iT_e"
      },
      "source": [
        "Extracting valid tags"
      ]
    },
    {
      "cell_type": "code",
      "execution_count": null,
      "metadata": {
        "id": "m6o7-LDsiT_f"
      },
      "outputs": [],
      "source": [
        "# Fill NaN values in 'tag' column with empty strings\n",
        "tags_df['tag'] = tags_df['tag'].fillna('')\n",
        "\n",
        "# Convert tags to lowercase and strip whitespace\n",
        "tags_df['tag'] = tags_df['tag'].str.lower().str.strip()\n",
        "\n",
        "# Remove empty strings\n",
        "tags_df = tags_df[tags_df['tag'] != '']\n",
        "\n",
        "# Get unique tags\n",
        "unique_tags = tags_df['tag'].unique()\n",
        "\n",
        "# Convert to a list and sort\n",
        "unique_tags = sorted(unique_tags)\n",
        "\n",
        "print(\"Available Tags:\")\n",
        "print(unique_tags)\n"
      ]
    },
    {
      "cell_type": "code",
      "execution_count": null,
      "metadata": {
        "id": "NuUbf6kbiT_f"
      },
      "outputs": [],
      "source": [
        "len(unique_tags)"
      ]
    },
    {
      "cell_type": "markdown",
      "metadata": {
        "id": "R9cogwkViT_f"
      },
      "source": [
        "The available tags are numerous and sometimes overlapping or redundant, making it difficult for users to select from them.\n",
        "\n",
        "We can use NLP to analyze the tags and group them into meaningful categories or clusters, resulting in a condensed list of tags that users can easily select from.\n",
        "\n",
        "We will:\n",
        "\n",
        "1. Preprocess the Tags: Clean and normalize the tags for consistent processing.\n",
        "2. Represent Tags Using Word Embeddings: Convert tags into numerical vectors that capture semantic meaning.\n",
        "3. Cluster Similar Tags: Group tags based on their semantic similarity.\n",
        "4. Generate Condensed Tag List: Select representative tags or create labels for each cluster.\n",
        "5. Present the Condensed List: Provide the condensed list to the user."
      ]
    },
    {
      "cell_type": "markdown",
      "metadata": {
        "id": "5nNtgpgyiT_g"
      },
      "source": [
        "Preprocessing the Tags\n",
        "- Convert to Lowercase: Ensure all tags are in lowercase.\n",
        "- Remove Punctuation: Clean tags of any punctuation.\n",
        "- Tokenization: Split multi-word tags into individual words.\n",
        "- Lemmatization: Reduce words to their base form.\n",
        "- Remove Stopwords: Eliminate common words that don't add meaning.\n"
      ]
    },
    {
      "cell_type": "code",
      "execution_count": null,
      "metadata": {
        "id": "KT8L3tXNiT_g"
      },
      "outputs": [],
      "source": [
        "import nltk\n",
        "import string\n",
        "import pandas as pd\n",
        "import numpy as np\n",
        "import gensim.downloader as api\n",
        "from sklearn.cluster import AgglomerativeClustering\n",
        "from sklearn.metrics.pairwise import cosine_similarity\n",
        "\n",
        "# Download necessary NLTK data files\n",
        "nltk.download('punkt')\n",
        "nltk.download('wordnet')\n",
        "nltk.download('stopwords')\n",
        "\n",
        "from nltk.tokenize import word_tokenize\n",
        "from nltk.corpus import stopwords\n",
        "from nltk.stem import WordNetLemmatizer\n",
        "\n",
        "# Initialize lemmatizer and stopwords\n",
        "lemmatizer = WordNetLemmatizer()\n",
        "stop_words = set(stopwords.words('english'))\n",
        "\n",
        "# Sample list of tags (replace this with your actual list)\n",
        "tags_list = unique_tags\n",
        "\n",
        "# Preprocess tags\n",
        "def preprocess_tag(tag):\n",
        "    # Remove punctuation\n",
        "    tag = tag.translate(str.maketrans('', '', string.punctuation))\n",
        "    # Convert to lowercase\n",
        "    tag = tag.lower()\n",
        "    # Tokenize\n",
        "    tokens = word_tokenize(tag)\n",
        "    # Remove stopwords and lemmatize\n",
        "    tokens = [lemmatizer.lemmatize(word) for word in tokens if word not in stop_words]\n",
        "    # Rejoin tokens\n",
        "    preprocessed_tag = ' '.join(tokens)\n",
        "    return preprocessed_tag\n",
        "\n",
        "preprocessed_tags = [preprocess_tag(tag) for tag in tags_list]\n"
      ]
    },
    {
      "cell_type": "markdown",
      "metadata": {
        "id": "nbTsCDbxiT_h"
      },
      "source": [
        "Represent Tags Using Word Embeddings\n",
        "- We will use pre-trained word embeddings from Gensim's word2vec-google-news-300 model to represent each tag as a vector.\n",
        "\n",
        "- Handle Multi-word Tags: For tags with multiple words, we'll compute the average of the word vectors."
      ]
    },
    {
      "cell_type": "code",
      "execution_count": null,
      "metadata": {
        "id": "gIuU4mk9iT_m"
      },
      "outputs": [],
      "source": [
        "# Load pre-trained word2vec model (this may take a few minutes and requires internet access)\n",
        "model = api.load('word2vec-google-news-300')  # 300-dimensional vectors\n",
        "\n",
        "# Function to get vector for a tag\n",
        "def get_tag_vector(tag):\n",
        "    tokens = tag.split()\n",
        "    vectors = []\n",
        "    for token in tokens:\n",
        "        if token in model:\n",
        "            vectors.append(model[token])\n",
        "    if vectors:\n",
        "        # Compute average vector\n",
        "        tag_vector = np.mean(vectors, axis=0)\n",
        "        return tag_vector\n",
        "    else:\n",
        "        # If none of the words are in the model, return a zero vector\n",
        "        return np.zeros(model.vector_size)\n",
        "\n",
        "# Get vectors for all tags\n",
        "tag_vectors = []\n",
        "valid_tags = []\n",
        "for tag in preprocessed_tags:\n",
        "    vector = get_tag_vector(tag)\n",
        "    if np.any(vector):\n",
        "        tag_vectors.append(vector)\n",
        "        valid_tags.append(tag)\n",
        "    else:\n",
        "        # Skip tags that cannot be vectorized\n",
        "        pass\n",
        "\n",
        "# Convert list to numpy array\n",
        "tag_vectors = np.array(tag_vectors)\n"
      ]
    },
    {
      "cell_type": "markdown",
      "metadata": {
        "id": "Q4IBmlj0iT_n"
      },
      "source": [
        "Clustering Similar Tags\n",
        "- We'll use Agglomerative Hierarchical Clustering to cluster the tags based on their semantic similarity."
      ]
    },
    {
      "cell_type": "code",
      "execution_count": null,
      "metadata": {
        "id": "3vrvoMA-iT_n"
      },
      "outputs": [],
      "source": [
        "# Clustering Similar Tags\n",
        "from sklearn.cluster import AgglomerativeClustering\n",
        "\n",
        "# Decide on the number of clusters (adjust as needed)\n",
        "num_clusters = 50\n",
        "\n",
        "# Perform clustering\n",
        "clustering_model = AgglomerativeClustering(\n",
        "    n_clusters=num_clusters,\n",
        "    metric='euclidean',\n",
        "    linkage='ward'\n",
        ")\n",
        "clustering_model.fit(tag_vectors)\n",
        "\n",
        "# Get cluster labels\n",
        "labels = clustering_model.labels_\n",
        "\n",
        "# Create a DataFrame to hold tags and their cluster labels\n",
        "tag_cluster_df = pd.DataFrame({'tag': valid_tags, 'cluster': labels})\n",
        "\n",
        "print(f\"Number of clusters formed: {len(set(labels))}\")\n"
      ]
    },
    {
      "cell_type": "markdown",
      "metadata": {
        "id": "KQ8iGpfgiT_o"
      },
      "source": [
        "Generating Condensed Tag List\n",
        "- We'll select a representative tag for each cluster by finding the tag closest to the cluster centroid."
      ]
    },
    {
      "cell_type": "code",
      "execution_count": null,
      "metadata": {
        "id": "TCkt8i8riT_p"
      },
      "outputs": [],
      "source": [
        "from sklearn.metrics.pairwise import cosine_distances\n",
        "\n",
        "# Initialize list to store representative tags\n",
        "condensed_tags = []\n",
        "\n",
        "for cluster_num in range(num_clusters):\n",
        "    # Get all tags in this cluster\n",
        "    cluster_tags = tag_cluster_df[tag_cluster_df['cluster'] == cluster_num]\n",
        "    indices = cluster_tags.index\n",
        "    cluster_vectors = tag_vectors[indices]\n",
        "\n",
        "    # Compute the centroid of the cluster\n",
        "    centroid = np.mean(cluster_vectors, axis=0)\n",
        "\n",
        "    # Calculate distances from each tag vector to the centroid\n",
        "    distances = cosine_distances(cluster_vectors, [centroid]).flatten()\n",
        "\n",
        "    # Find the index of the tag closest to the centroid\n",
        "    closest_index = distances.argmin()\n",
        "    representative_tag = cluster_tags.iloc[closest_index]['tag']\n",
        "\n",
        "    condensed_tags.append(representative_tag)\n"
      ]
    },
    {
      "cell_type": "markdown",
      "metadata": {
        "id": "X0WXhRFQiT_p"
      },
      "source": [
        "Presenting the Condensed List\n",
        "- Displaying the Condensed Tag List"
      ]
    },
    {
      "cell_type": "code",
      "execution_count": null,
      "metadata": {
        "id": "tz0S6IAviT_p"
      },
      "outputs": [],
      "source": [
        "# Sort the condensed tags alphabetically\n",
        "condensed_tags_sorted = sorted(condensed_tags)\n",
        "\n",
        "print(\"Condensed Tag List:\")\n",
        "for tag in condensed_tags_sorted:\n",
        "    print(tag)\n"
      ]
    },
    {
      "cell_type": "code",
      "execution_count": null,
      "metadata": {
        "id": "4lhG__VeiT_q"
      },
      "outputs": [],
      "source": [
        "len(condensed_tags_sorted)"
      ]
    },
    {
      "cell_type": "code",
      "execution_count": null,
      "metadata": {
        "id": "kG79kl1eiT_q"
      },
      "outputs": [],
      "source": [
        "print(\"\\nClusters and Their Tags:\")\n",
        "for cluster_num in range(num_clusters):\n",
        "    cluster_tags = tag_cluster_df[tag_cluster_df['cluster'] == cluster_num]['tag'].tolist()\n",
        "    representative_tag = condensed_tags[cluster_num]\n",
        "    print(f\"Cluster {cluster_num}: Representative Tag - '{representative_tag}'\")\n",
        "    print(f\"Tags: {', '.join(cluster_tags)}\\n\")\n"
      ]
    },
    {
      "cell_type": "markdown",
      "metadata": {
        "id": "5KrliI6jiT_q"
      },
      "source": [
        "Using contextual embeddings like BERT can capture the semantic meaning of tags more effectively than traditional word embeddings. This can lead to more accurate clustering and a condensed tag list that makes sense."
      ]
    },
    {
      "cell_type": "markdown",
      "metadata": {
        "id": "HmZchAYTiT_r"
      },
      "source": [
        "Preprocess the Tags\n",
        "\n",
        "We'll start by preprocessing the tags to ensure consistency."
      ]
    },
    {
      "cell_type": "code",
      "execution_count": null,
      "metadata": {
        "id": "bt4wQT1biT_r"
      },
      "outputs": [],
      "source": [
        "import nltk\n",
        "import string\n",
        "import pandas as pd\n",
        "import numpy as np\n",
        "\n",
        "# Download necessary NLTK data files\n",
        "nltk.download('punkt')\n",
        "nltk.download('wordnet')\n",
        "nltk.download('stopwords')\n",
        "\n",
        "from nltk.tokenize import word_tokenize\n",
        "from nltk.corpus import stopwords\n",
        "from nltk.stem import WordNetLemmatizer\n",
        "\n",
        "# Initialize lemmatizer and stopwords\n",
        "lemmatizer = WordNetLemmatizer()\n",
        "stop_words = set(stopwords.words('english'))\n",
        "\n",
        "# Your list of unique tags (ensure 'unique_tags' is defined with your tags)\n",
        "tags_list = unique_tags  # Replace 'unique_tags' with your actual list\n",
        "\n",
        "# Preprocess tags\n",
        "def preprocess_tag(tag):\n",
        "    # Remove punctuation\n",
        "    tag = tag.translate(str.maketrans('', '', string.punctuation))\n",
        "    # Convert to lowercase\n",
        "    tag = tag.lower()\n",
        "    # Tokenize\n",
        "    tokens = word_tokenize(tag)\n",
        "    # Remove stopwords and lemmatize\n",
        "    tokens = [lemmatizer.lemmatize(word) for word in tokens if word not in stop_words]\n",
        "    # Rejoin tokens\n",
        "    preprocessed_tag = ' '.join(tokens)\n",
        "    return preprocessed_tag\n",
        "\n",
        "preprocessed_tags = [preprocess_tag(tag) for tag in tags_list]\n"
      ]
    },
    {
      "cell_type": "markdown",
      "metadata": {
        "id": "_7zT9juqiT_s"
      },
      "source": [
        "Generate BERT Embeddings for Tags\n",
        "\n",
        "We'll use the pre-trained BERT model from Hugging Face's transformers library to generate embeddings."
      ]
    },
    {
      "cell_type": "markdown",
      "metadata": {
        "id": "YKqeiZMWiT_s"
      },
      "source": [
        "Load BERT Model\n",
        "\n",
        "We'll use the sentence-transformers library, which simplifies obtaining embeddings for sentences or phrases using BERT."
      ]
    },
    {
      "cell_type": "code",
      "execution_count": null,
      "metadata": {
        "id": "15aQX673iT_t"
      },
      "outputs": [],
      "source": [
        "from sentence_transformers import SentenceTransformer\n",
        "\n",
        "# Load the pre-trained BERT model (this may take some time)\n",
        "model = SentenceTransformer('all-MiniLM-L6-v2')  # A smaller, efficient model\n"
      ]
    },
    {
      "cell_type": "markdown",
      "metadata": {
        "id": "swnrYfpPiT_t"
      },
      "source": [
        "Generate Embeddings"
      ]
    },
    {
      "cell_type": "code",
      "execution_count": null,
      "metadata": {
        "id": "t7kOh6sZiT_u"
      },
      "outputs": [],
      "source": [
        "# Generate embeddings for all preprocessed tags\n",
        "tag_embeddings = model.encode(preprocessed_tags)\n"
      ]
    },
    {
      "cell_type": "markdown",
      "metadata": {
        "id": "f3wtkZS2iT_u"
      },
      "source": [
        "Cluster Similar Tags\n",
        "\n",
        "- We'll use Agglomerative Hierarchical Clustering to cluster the tag embeddings.\n"
      ]
    },
    {
      "cell_type": "code",
      "execution_count": null,
      "metadata": {
        "id": "t8CKxEE_iT_u"
      },
      "outputs": [],
      "source": [
        "from sklearn.cluster import AgglomerativeClustering\n",
        "\n",
        "# Decide on the number of clusters (adjust as needed)\n",
        "num_clusters = 50\n",
        "\n",
        "# Perform clustering\n",
        "clustering_model = AgglomerativeClustering(\n",
        "    n_clusters=num_clusters,\n",
        "    metric='euclidean',\n",
        "    linkage='ward'\n",
        ")\n",
        "clustering_model.fit(tag_embeddings)\n",
        "\n",
        "# Get cluster labels\n",
        "labels = clustering_model.labels_\n",
        "\n",
        "# Create a DataFrame to hold tags and their cluster labels\n",
        "tag_cluster_df = pd.DataFrame({'tag': preprocessed_tags, 'cluster': labels})\n",
        "\n",
        "print(f\"Number of clusters formed: {len(set(labels))}\")\n"
      ]
    },
    {
      "cell_type": "markdown",
      "metadata": {
        "id": "a-q_Mo1-iT_v"
      },
      "source": [
        "Generate Condensed Tag List\n",
        "- We'll select a representative tag for each cluster."
      ]
    },
    {
      "cell_type": "code",
      "execution_count": null,
      "metadata": {
        "id": "zM7WcDY7iT_v"
      },
      "outputs": [],
      "source": [
        "from sklearn.metrics.pairwise import cosine_distances\n",
        "\n",
        "# Initialize list to store representative tags\n",
        "condensed_tags = []\n",
        "\n",
        "for cluster_num in range(num_clusters):\n",
        "    # Get all tags in this cluster\n",
        "    cluster_tags = tag_cluster_df[tag_cluster_df['cluster'] == cluster_num]\n",
        "    indices = cluster_tags.index\n",
        "    cluster_vectors = tag_embeddings[indices]\n",
        "\n",
        "    # Compute the centroid of the cluster\n",
        "    centroid = np.mean(cluster_vectors, axis=0)\n",
        "\n",
        "    # Calculate distances from each tag vector to the centroid\n",
        "    distances = cosine_distances(cluster_vectors, [centroid]).flatten()\n",
        "\n",
        "    # Find the index of the tag closest to the centroid\n",
        "    closest_index = distances.argmin()\n",
        "    representative_tag = cluster_tags.iloc[closest_index]['tag']\n",
        "\n",
        "    condensed_tags.append(representative_tag)\n"
      ]
    },
    {
      "cell_type": "markdown",
      "metadata": {
        "id": "CDFzBVAsiT_w"
      },
      "source": [
        "Display the Condensed Tag List"
      ]
    },
    {
      "cell_type": "code",
      "execution_count": null,
      "metadata": {
        "id": "6rq674CEiT_w"
      },
      "outputs": [],
      "source": [
        "# Sort the condensed tags alphabetically\n",
        "condensed_tags_sorted = sorted(condensed_tags)\n",
        "\n",
        "print(\"Condensed Tag List:\")\n",
        "for tag in condensed_tags_sorted:\n",
        "    print(tag)\n"
      ]
    },
    {
      "cell_type": "markdown",
      "metadata": {
        "id": "0lotekpniT_x"
      },
      "source": [
        "Display Clusters and Their Tags"
      ]
    },
    {
      "cell_type": "code",
      "execution_count": null,
      "metadata": {
        "id": "V9MUeIwJiT_x"
      },
      "outputs": [],
      "source": [
        "print(\"\\nClusters and Their Tags:\")\n",
        "for cluster_num in range(num_clusters):\n",
        "    cluster_tags_list = tag_cluster_df[tag_cluster_df['cluster'] == cluster_num]['tag'].tolist()\n",
        "    representative_tag = condensed_tags[cluster_num]\n",
        "    print(f\"Cluster {cluster_num}: Representative Tag - '{representative_tag}'\")\n",
        "    print(f\"Tags: {', '.join(cluster_tags_list)}\\n\")\n"
      ]
    },
    {
      "cell_type": "markdown",
      "metadata": {
        "id": "GERWisxUiT_x"
      },
      "source": [
        "Additional Considerations\n",
        "Adjusting Clustering Parameters: If the condensed tag list doesn't make sense, try adjusting num_clusters or using different clustering algorithms (e.g., KMeans, DBSCAN).\n",
        "Semantic Cohesion: Use metrics like Silhouette Score to evaluate the quality of the clusters.\n",
        "Interactive Visualization: Tools like t-SNE or UMAP can help visualize high-dimensional embeddings in 2D space for inspection.\n",
        "\n",
        "Final Thoughts\n",
        "\n",
        "By using BERT embeddings, we've improved the semantic representation of tags, leading to more meaningful clustering and a condensed tag list that makes sense. This list can enhance the user experience by simplifying the selection of tags for personalized recommendations.\n",
        "\n"
      ]
    },
    {
      "cell_type": "markdown",
      "metadata": {
        "id": "1vFXY2MZiT_y"
      },
      "source": [
        "Updated get_user_recommendations Function"
      ]
    },
    {
      "cell_type": "code",
      "execution_count": null,
      "metadata": {
        "id": "rRCKGxPxiT_z"
      },
      "outputs": [],
      "source": [
        "def get_user_recommendations(user_id=None, num_recommendations=10, preferred_genres=None, preferred_tags=None):\n",
        "    \"\"\"\n",
        "    Generate personalized movie recommendations for a given user or based on preferred genres/tags.\n",
        "\n",
        "    Parameters:\n",
        "    - user_id (int, optional): The ID of the user. If None, recommendations will be based on preferred genres/tags.\n",
        "    - num_recommendations (int): The number of recommendations to return.\n",
        "    - preferred_genres (list, optional): A list of preferred genres.\n",
        "    - preferred_tags (list, optional): A list of preferred tags.\n",
        "\n",
        "    Returns:\n",
        "    - recommendations_df (DataFrame): A DataFrame containing the recommended movies,\n",
        "      their hybrid scores, and explanations.\n",
        "    \"\"\"\n",
        "    # Validate inputs\n",
        "    if user_id is not None and user_id not in ratings_df['userId'].unique():\n",
        "        print(f\"User ID {user_id} not found. Recommendations will be based on preferred genres/tags.\")\n",
        "        user_id = None\n",
        "\n",
        "    # Initialize variables\n",
        "    all_movie_ids = movies_df['movieId'].unique()\n",
        "\n",
        "    # Movies the user has already rated\n",
        "    if user_id is not None:\n",
        "        user_ratings = ratings_df[ratings_df['userId'] == user_id]\n",
        "        rated_movies = user_ratings['movieId'].tolist()\n",
        "    else:\n",
        "        user_ratings = pd.DataFrame()\n",
        "        rated_movies = []\n",
        "\n",
        "    # Movies the user hasn't rated yet\n",
        "    unrated_movies = [movie_id for movie_id in all_movie_ids if movie_id not in rated_movies]\n",
        "\n",
        "    # Collaborative Filtering Predictions using Neural Network Model\n",
        "    if user_id is not None and not user_ratings.empty:\n",
        "        # Map user_id to user_idx\n",
        "        if user_id in user_id_to_idx:\n",
        "            user_idx = user_id_to_idx[user_id]\n",
        "        else:\n",
        "            print(f\"User ID {user_id} not found in neural network model.\")\n",
        "            return None\n",
        "\n",
        "        # Map movie IDs to item indices\n",
        "        unrated_movie_indices = []\n",
        "        valid_movie_ids = []\n",
        "        for movie_id in unrated_movies:\n",
        "            if movie_id in movie_id_to_idx:\n",
        "                item_idx = movie_id_to_idx[movie_id]\n",
        "                unrated_movie_indices.append(item_idx)\n",
        "                valid_movie_ids.append(movie_id)\n",
        "\n",
        "        # Prepare input arrays\n",
        "        user_indices = np.full(len(unrated_movie_indices), user_idx)\n",
        "        item_indices = np.array(unrated_movie_indices)\n",
        "\n",
        "        # Make predictions using the neural network model\n",
        "        cf_scores = model.predict([user_indices, item_indices], batch_size=1024).flatten()\n",
        "\n",
        "        # Create DataFrame of predictions\n",
        "        cf_pred_df = pd.DataFrame({'movieId': valid_movie_ids, 'cf_score': cf_scores})\n",
        "    else:\n",
        "        cf_pred_df = pd.DataFrame(columns=['movieId', 'cf_score'])\n",
        "\n",
        "    # Content-Based Filtering Scores\n",
        "    # Build user profile vector based on preferences\n",
        "    # If user has ratings, combine their profile with preferred genres/tags\n",
        "    user_profile_tfidf = np.zeros(tfidf_matrix.shape[1])\n",
        "\n",
        "    # Incorporate preferred genres and tags\n",
        "    preference_text = ''\n",
        "    if preferred_genres:\n",
        "        # Ensure genres are in the unique genres list\n",
        "        valid_genres = [genre for genre in preferred_genres if genre in unique_genres]\n",
        "        preference_text += ' '.join(valid_genres) + ' '\n",
        "    if preferred_tags:\n",
        "        # Ensure tags are in the condensed tags list\n",
        "        valid_tags = [tag for tag in preferred_tags if tag in condensed_tags]\n",
        "        preference_text += ' '.join(valid_tags)\n",
        "    preference_text = preprocess(preference_text)\n",
        "\n",
        "    if preference_text:\n",
        "        # Transform preference text into TF-IDF vector\n",
        "        preference_vector = tfidf.transform([preference_text]).toarray().flatten()\n",
        "        # Combine with user profile\n",
        "        user_profile_tfidf += preference_vector * 2  # Weight preferences more heavily\n",
        "    else:\n",
        "        if user_profile_tfidf.sum() == 0:\n",
        "            print(\"No user ratings or valid preferences provided. Cannot generate recommendations.\")\n",
        "            return None\n",
        "\n",
        "    # Normalize the user profile vector\n",
        "    if np.linalg.norm(user_profile_tfidf) == 0:\n",
        "        user_profile_tfidf_normalized = user_profile_tfidf\n",
        "    else:\n",
        "        user_profile_tfidf_normalized = user_profile_tfidf / np.linalg.norm(user_profile_tfidf)\n",
        "\n",
        "    # Compute cosine similarity between user profile and all movie vectors\n",
        "    content_similarities = cosine_similarity([user_profile_tfidf_normalized], tfidf_matrix).flatten()\n",
        "\n",
        "    # Create content-based predictions for unrated movies\n",
        "    cb_predictions = []\n",
        "    for idx, movie_id in enumerate(movies_with_tags['movieId']):\n",
        "        if movie_id in unrated_movies:\n",
        "            cb_predictions.append((movie_id, content_similarities[idx]))\n",
        "    cb_pred_df = pd.DataFrame(cb_predictions, columns=['movieId', 'cb_score'])\n",
        "\n",
        "    # Merge predictions\n",
        "    if not cf_pred_df.empty:\n",
        "        hybrid_pred_df = pd.merge(cf_pred_df, cb_pred_df, on='movieId', how='inner')\n",
        "    else:\n",
        "        hybrid_pred_df = cb_pred_df.copy()\n",
        "        hybrid_pred_df['cf_score'] = np.nan  # Placeholder for consistency\n",
        "\n",
        "    # Calculate weights\n",
        "    if user_id is not None and not user_ratings.empty:\n",
        "        num_user_ratings = len(user_ratings)\n",
        "        max_ratings = ratings_df['userId'].value_counts().max()\n",
        "        cf_weight = num_user_ratings / max_ratings\n",
        "        cb_weight = 1 - cf_weight\n",
        "        # Ensure weights sum to 1\n",
        "        cf_weight = cf_weight / (cf_weight + cb_weight)\n",
        "        cb_weight = 1 - cf_weight\n",
        "    else:\n",
        "        cf_weight = 0.0\n",
        "        cb_weight = 1.0\n",
        "\n",
        "    # Compute hybrid score\n",
        "    hybrid_pred_df['hybrid_score'] = (cf_weight * hybrid_pred_df['cf_score'].fillna(0)) + (cb_weight * hybrid_pred_df['cb_score'])\n",
        "\n",
        "    # Merge with movies DataFrame to get titles and genres\n",
        "    hybrid_pred_df = pd.merge(hybrid_pred_df, movies_df[['movieId', 'title', 'genres']], on='movieId', how='left')\n",
        "\n",
        "    # Sort by hybrid score\n",
        "    hybrid_pred_df = hybrid_pred_df.sort_values(by='hybrid_score', ascending=False)\n",
        "\n",
        "    # Select the top N recommendations\n",
        "    top_recommendations = hybrid_pred_df.head(num_recommendations)\n",
        "\n",
        "    # Generate explanations\n",
        "    explanations = []\n",
        "    for idx, row in top_recommendations.iterrows():\n",
        "        explanation = \"\"\n",
        "        # High predicted preference score\n",
        "        if not np.isnan(row['cf_score']) and row['cf_score'] >= 0.5:\n",
        "            explanation += \"High predicted preference score. \"\n",
        "        # Matching genres\n",
        "        movie_genres = set(row['genres'])\n",
        "        matching_genres = set(preferred_genres or []) & movie_genres\n",
        "        if matching_genres:\n",
        "            explanation += f\"Includes your preferred genres: {', '.join(matching_genres)}. \"\n",
        "        # Similar content\n",
        "        if row['cb_score'] >= 0.5:\n",
        "            explanation += \"Similar content based on your preferences. \"\n",
        "        explanations.append(explanation.strip())\n",
        "\n",
        "    # Add explanations to the DataFrame\n",
        "    top_recommendations['explanation'] = explanations\n",
        "\n",
        "    # Reorder columns\n",
        "    recommendations_df = top_recommendations[['movieId', 'title', 'hybrid_score', 'explanation']]\n",
        "\n",
        "    return recommendations_df.reset_index(drop=True)\n"
      ]
    },
    {
      "cell_type": "code",
      "execution_count": null,
      "metadata": {
        "id": "x9WdQopSiT_0"
      },
      "outputs": [],
      "source": [
        "condensed_tags"
      ]
    },
    {
      "cell_type": "code",
      "execution_count": null,
      "metadata": {
        "id": "_3ZNKLM0iT_2"
      },
      "outputs": [],
      "source": [
        "# Example usage\n",
        "preferred_genres = ['Romance', 'Action']  # User-selected genres\n",
        "preferred_tags = ['comedy']     # User-selected tags from condensed_tags\n",
        "num_recommendations = 10\n",
        "\n",
        "recommendations = get_user_recommendations(\n",
        "    user_id=None,  # or specify a user_id if available\n",
        "    num_recommendations=num_recommendations,\n",
        "    preferred_genres=preferred_genres,\n",
        "    preferred_tags=preferred_tags\n",
        ")\n",
        "\n",
        "print(\"Recommendations Based on Your Preferences:\")\n",
        "print(recommendations)"
      ]
    },
    {
      "cell_type": "markdown",
      "metadata": {
        "id": "6492Z_V0iT_4"
      },
      "source": [
        "Conclusion\n",
        "By incorporating the unique genres and the condensed tags into the get_user_recommendations function, we've enhanced its ability to generate personalized movie recommendations based on the user's specified interests. The function now:\n",
        "\n",
        "Validates and uses the user's preferred genres and tags.\n",
        "Combines collaborative filtering (if user ratings are available) with content-based filtering.\n",
        "Provides explanations for each recommendation, improving transparency and user trust."
      ]
    },
    {
      "cell_type": "code",
      "execution_count": null,
      "metadata": {
        "id": "XnPbH5TGiT_5"
      },
      "outputs": [],
      "source": []
    }
  ],
  "metadata": {
    "accelerator": "TPU",
    "colab": {
      "gpuType": "V28",
      "provenance": []
    },
    "kernelspec": {
      "display_name": "learn-env",
      "language": "python",
      "name": "python3"
    },
    "language_info": {
      "codemirror_mode": {
        "name": "ipython",
        "version": 3
      },
      "file_extension": ".py",
      "mimetype": "text/x-python",
      "name": "python",
      "nbconvert_exporter": "python",
      "pygments_lexer": "ipython3",
      "version": "3.8.5"
    }
  },
  "nbformat": 4,
  "nbformat_minor": 0
}
