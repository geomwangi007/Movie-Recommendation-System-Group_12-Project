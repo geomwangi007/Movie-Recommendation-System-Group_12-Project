{
  "cells": [
    {
      "cell_type": "markdown",
      "metadata": {
        "id": "C3IPhql9G2R0"
      },
      "source": [
        "# Hybrid Movie Recommendation System"
      ]
    },
    {
      "cell_type": "markdown",
      "metadata": {
        "id": "371U0z1NG2R-"
      },
      "source": [
        "### About Dataset\n",
        "\n",
        "Context\n",
        "The datasets describe ratings and free-text tagging activities from MovieLens, a movie recommendation service. It contains 20000263 ratings and 465564 tag applications across 27278 movies. These data were created by 138493 users between January 09, 1995 and March 31, 2015. This dataset was generated on October 17, 2016.\n",
        "\n",
        "Users were selected at random for inclusion. All selected users had rated at least 20 movies.\n",
        "\n",
        "Content\n",
        "\n",
        "No demographic information is included. Each user is represented by an id, and no other information is provided.\n",
        "\n",
        "The data are contained in six files.\n",
        "\n",
        "\n",
        "### tag.csv\n",
        "\n",
        "It contains tags applied to movies by users:\n",
        "\n",
        "userId ,movieId ,tag ,timestamp\n",
        "\n",
        "\n",
        "### rating.csv\n",
        "\n",
        "It contains ratings of movies by users:\n",
        "\n",
        "userId ,movieId ,rating ,timestamp\n",
        "\n",
        "\n",
        "### movie.csv\n",
        "\n",
        "It contains movie information:\n",
        "\n",
        "movieId ,title ,genres\n",
        "\n",
        "\n",
        "### link.csv\n",
        "\n",
        "It contains identifiers that can be used to link to other sources:\n",
        "\n",
        "movieId ,imdbId ,tmbdId\n",
        "\n",
        "\n",
        "### genome_scores.csv\n",
        "\n",
        "It ontains movie-tag relevance data:\n",
        "\n",
        "movieId ,tagId ,relevance\n",
        "\n",
        "\n",
        "\n",
        "### genome_tags.csv\n",
        "\n",
        "that contains tag descriptions:\n",
        "\n",
        "tagId ,tag\n",
        "\n"
      ]
    },
    {
      "cell_type": "markdown",
      "metadata": {
        "id": "1wAUHBrhG2SF"
      },
      "source": [
        "# Importing Libraries"
      ]
    },
    {
      "cell_type": "code",
      "execution_count": 170,
      "metadata": {
        "id": "flDRiQ8GG2SP"
      },
      "outputs": [],
      "source": [
        "import joblib\n",
        "import surprise\n",
        "import os\n",
        "import pandas as pd\n",
        "import numpy as np\n",
        "import matplotlib.pyplot as plt\n",
        "import seaborn as sns\n",
        "from sklearn.feature_extraction.text import TfidfVectorizer\n",
        "from sklearn.metrics.pairwise import cosine_similarity\n",
        "from surprise.model_selection import train_test_split\n",
        "import gensim\n",
        "from gensim.models import Word2Vec\n",
        "from surprise import SVD, Dataset, Reader\n",
        "import nltk\n",
        "from nltk.corpus import stopwords"
      ]
    },
    {
      "cell_type": "code",
      "execution_count": 134,
      "metadata": {
        "id": "-1oVdJaaIUHa"
      },
      "outputs": [],
      "source": [
        "# movies = pd.read_csv('/content/movies.csv')  # Example file\n",
        "# tags = pd.read_csv('/content/tags.csv')\n",
        "# ratings = pd.read_csv('/content/ratings.csv')"
      ]
    },
    {
      "cell_type": "code",
      "execution_count": 135,
      "metadata": {},
      "outputs": [
        {
          "name": "stdout",
          "output_type": "stream",
          "text": [
            "Movies DataFrame:\n",
            "   movieId                               title  \\\n",
            "0        1                    Toy Story (1995)   \n",
            "1        2                      Jumanji (1995)   \n",
            "2        3             Grumpier Old Men (1995)   \n",
            "3        4            Waiting to Exhale (1995)   \n",
            "4        5  Father of the Bride Part II (1995)   \n",
            "\n",
            "                                        genres  \n",
            "0  Adventure|Animation|Children|Comedy|Fantasy  \n",
            "1                   Adventure|Children|Fantasy  \n",
            "2                               Comedy|Romance  \n",
            "3                         Comedy|Drama|Romance  \n",
            "4                                       Comedy   \n",
            "\n",
            "**************************************************************************\n",
            "Ratings DataFrame:\n",
            "   userId  movieId  rating  timestamp\n",
            "0       1        1     4.0  964982703\n",
            "1       1        3     4.0  964981247\n",
            "2       1        6     4.0  964982224\n",
            "3       1       47     5.0  964983815\n",
            "4       1       50     5.0  964982931 \n",
            "\n",
            "**************************************************************************\n",
            "Tags DataFrame:\n",
            "   userId  movieId              tag   timestamp\n",
            "0       2    60756            funny  1445714994\n",
            "1       2    60756  Highly quotable  1445714996\n",
            "2       2    60756     will ferrell  1445714992\n",
            "3       2    89774     Boxing story  1445715207\n",
            "4       2    89774              MMA  1445715200\n",
            "**************************************************************************\n"
          ]
        }
      ],
      "source": [
        "# Defining the correct path to the Data directory (correct typo in folder name)\n",
        "data_path = 'c:/Users/Hp/Desktop/streamlit_app_recomm/ml-latest-small/'\n",
        "\n",
        "# Checking if the directory exists to avoid errors\n",
        "if os.path.exists(data_path):\n",
        "    # Loading datasets\n",
        "    movies = pd.read_csv(os.path.join(data_path, 'movies.csv'))\n",
        "    ratings = pd.read_csv(os.path.join(data_path, 'ratings.csv'))\n",
        "    tags = pd.read_csv(os.path.join(data_path, 'tags.csv'))\n",
        "\n",
        "    # Displaying the first few rows of each dataframe\n",
        "    print(\"Movies DataFrame:\")\n",
        "    print(movies.head(), \"\\n\")\n",
        "\n",
        "    print('**************************************************************************')\n",
        "\n",
        "    print(\"Ratings DataFrame:\")\n",
        "    print(ratings.head(), \"\\n\")\n",
        "\n",
        "    print('**************************************************************************')\n",
        "\n",
        "    print(\"Tags DataFrame:\")\n",
        "    print(tags.head())\n",
        "\n",
        "    print('**************************************************************************')\n",
        "else:\n",
        "    print(f\"Data path does not exist: {data_path}\")\n"
      ]
    },
    {
      "cell_type": "markdown",
      "metadata": {
        "id": "MCwIq3kWG2SS"
      },
      "source": [
        "# Data Cleaning and Preprocessing"
      ]
    },
    {
      "cell_type": "code",
      "execution_count": 136,
      "metadata": {
        "colab": {
          "base_uri": "https://localhost:8080/"
        },
        "id": "D6qy6M99G2ST",
        "outputId": "defd8dd3-6387-4830-abef-54245b749709"
      },
      "outputs": [
        {
          "name": "stdout",
          "output_type": "stream",
          "text": [
            "**************************************************************************\n",
            "movieId    0\n",
            "title      0\n",
            "genres     0\n",
            "dtype: int64\n",
            "**************************************************************************\n",
            "userId       0\n",
            "movieId      0\n",
            "rating       0\n",
            "timestamp    0\n",
            "dtype: int64\n",
            "**************************************************************************\n",
            "userId       0\n",
            "movieId      0\n",
            "tag          0\n",
            "timestamp    0\n",
            "dtype: int64\n",
            "**************************************************************************\n"
          ]
        }
      ],
      "source": [
        "\n",
        "# Checking for missing values\n",
        "print('**************************************************************************')\n",
        "print(movies.isnull().sum())\n",
        "print('**************************************************************************')\n",
        "print(ratings.isnull().sum())\n",
        "print('**************************************************************************')\n",
        "print(tags.isnull().sum())\n",
        "print('**************************************************************************')"
      ]
    },
    {
      "cell_type": "code",
      "execution_count": 137,
      "metadata": {
        "id": "95HwNQ0aG2SW"
      },
      "outputs": [],
      "source": [
        "# Dropping rows with missing values if necessary\n",
        "movies.dropna(inplace=True)\n",
        "ratings.dropna(inplace=True)\n",
        "tags.dropna(inplace=True)"
      ]
    },
    {
      "cell_type": "markdown",
      "metadata": {
        "id": "RMPV_wYqG2SX"
      },
      "source": [
        "# Exploratory Data Analysis (EDA)"
      ]
    },
    {
      "cell_type": "code",
      "execution_count": 138,
      "metadata": {
        "colab": {
          "base_uri": "https://localhost:8080/"
        },
        "id": "7d85CYwnG2SY",
        "outputId": "50fe879d-93e3-4232-ef99-f1be7a354ecf"
      },
      "outputs": [
        {
          "name": "stdout",
          "output_type": "stream",
          "text": [
            "<class 'pandas.core.frame.DataFrame'>\n",
            "Int64Index: 9742 entries, 0 to 9741\n",
            "Data columns (total 3 columns):\n",
            " #   Column   Non-Null Count  Dtype \n",
            "---  ------   --------------  ----- \n",
            " 0   movieId  9742 non-null   int64 \n",
            " 1   title    9742 non-null   object\n",
            " 2   genres   9742 non-null   object\n",
            "dtypes: int64(1), object(2)\n",
            "memory usage: 304.4+ KB\n",
            "None\n",
            "**************************************************************************\n",
            "   movieId                               title  \\\n",
            "0        1                    Toy Story (1995)   \n",
            "1        2                      Jumanji (1995)   \n",
            "2        3             Grumpier Old Men (1995)   \n",
            "3        4            Waiting to Exhale (1995)   \n",
            "4        5  Father of the Bride Part II (1995)   \n",
            "\n",
            "                                        genres  \n",
            "0  Adventure|Animation|Children|Comedy|Fantasy  \n",
            "1                   Adventure|Children|Fantasy  \n",
            "2                               Comedy|Romance  \n",
            "3                         Comedy|Drama|Romance  \n",
            "4                                       Comedy  \n"
          ]
        }
      ],
      "source": [
        "# Overview of movies\n",
        "print(movies.info())\n",
        "print('**************************************************************************')\n",
        "print(movies.head())"
      ]
    },
    {
      "cell_type": "code",
      "execution_count": 139,
      "metadata": {
        "colab": {
          "base_uri": "https://localhost:8080/",
          "height": 561
        },
        "id": "ueVaxC-7G2SZ",
        "outputId": "db7c63c1-a8ba-4bac-947e-7e8bb835b375"
      },
      "outputs": [
        {
          "data": {
            "image/png": "[encoded data removed]",
            "text/plain": [
              "<Figure size 720x432 with 1 Axes>"
            ]
          },
          "metadata": {
            "needs_background": "light"
          },
          "output_type": "display_data"
        }
      ],
      "source": [
        "# Genre Distribution\n",
        "movies['genres'] = movies['genres'].str.split('|')\n",
        "all_genres = [genre for sublist in movies['genres'] for genre in sublist]\n",
        "genre_freq = pd.Series(all_genres).value_counts()\n",
        "\n",
        "\n",
        "plt.figure(figsize=(10, 6))\n",
        "sns.barplot(x=genre_freq.values, y=genre_freq.index)\n",
        "plt.title('Number of Movies per Genre')\n",
        "plt.xlabel('Count')\n",
        "plt.ylabel('Genre')\n",
        "plt.show()"
      ]
    },
    {
      "cell_type": "markdown",
      "metadata": {},
      "source": [
        "The bar plot above shows the distribution of movies across various genres, based on the number of movies associated with each genre. Here's a detailed breakdown:\n",
        "\n",
        "Drama is the most frequent genre, with over 4,000 movies.\n",
        "\n",
        "Comedy follows closely behind, with around 3,500 movies.\n",
        "\n",
        "Other popular genres include Thriller, Action, Romance, and Adventure, all of which have around 2,000 to 3,000 movies.\n",
        "\n",
        "Genres like Sci-Fi, Horror, Fantasy, and Children have a moderate presence, with between 1,000 to 2,000 movies.\n",
        "\n",
        "Less frequent genres, such as Animation, Mystery, War, Musical, and Western, are represented by a few hundred to just over 1,000 movies.\n",
        "\n",
        "Film-Noir and IMAX are the least common genres, with a very small number of movies listed.\n",
        "\n",
        "A small number of movies have no genre listed."
      ]
    },
    {
      "cell_type": "code",
      "execution_count": 140,
      "metadata": {
        "colab": {
          "base_uri": "https://localhost:8080/",
          "height": 564
        },
        "id": "Ddhphly6G2Sa",
        "outputId": "007b8e90-76ea-4c98-c8a7-98ad11564097"
      },
      "outputs": [
        {
          "data": {
            "image/png": "[encoded data removed]",
            "text/plain": [
              "<Figure size 720x432 with 1 Axes>"
            ]
          },
          "metadata": {
            "needs_background": "light"
          },
          "output_type": "display_data"
        }
      ],
      "source": [
        "# Ratings Distribution\n",
        "plt.figure(figsize=(10, 6))\n",
        "sns.histplot(ratings['rating'], bins=10, kde=True)\n",
        "plt.title('Distribution of Ratings')\n",
        "plt.xlabel('Rating')\n",
        "plt.ylabel('Frequency')\n",
        "plt.show()"
      ]
    },
    {
      "cell_type": "code",
      "execution_count": 141,
      "metadata": {
        "colab": {
          "base_uri": "https://localhost:8080/",
          "height": 482
        },
        "id": "0fEhKLHeG2Sb",
        "outputId": "81d10ef5-4c25-46df-dcf1-381622a72d58"
      },
      "outputs": [
        {
          "data": {
            "image/png": "[encoded data removed]",
            "text/plain": [
              "<Figure size 864x432 with 1 Axes>"
            ]
          },
          "metadata": {
            "needs_background": "light"
          },
          "output_type": "display_data"
        }
      ],
      "source": [
        "# Tag Analysis\n",
        "top_tags = tags['tag'].value_counts().head(20)\n",
        "\n",
        "plt.figure(figsize=(12, 6))\n",
        "sns.barplot(x=top_tags.values, y=top_tags.index)\n",
        "plt.title('Top 20 Most Frequent Tags')\n",
        "plt.xlabel('Frequency')\n",
        "plt.ylabel('Tag')\n",
        "plt.show()"
      ]
    },
    {
      "cell_type": "markdown",
      "metadata": {
        "id": "rdVXRGc6G2Sc"
      },
      "source": [
        "#  Content-Based Filtering Using NLP"
      ]
    },
    {
      "cell_type": "markdown",
      "metadata": {
        "id": "cQuXKAnYG2Sd"
      },
      "source": [
        "### TF-IDF (Term Frequency-Inverse Document Frequency)"
      ]
    },
    {
      "cell_type": "code",
      "execution_count": 142,
      "metadata": {
        "id": "hLj0qozRG2Sd"
      },
      "outputs": [],
      "source": [
        "#Converting tags to lowercase\n",
        "tags['tag'] = tags['tag'].str.lower()\n",
        "\n",
        "#Grouping tags by movieId\n",
        "tags_grouped = tags.groupby('movieId')['tag'].apply(lambda x: ' '.join(x)).reset_index()\n",
        "\n",
        "#Creating the TF-IDF matrix while removing stopwords\n",
        "tfidf = TfidfVectorizer(stop_words='english')  # Adding stopwords removal\n",
        "tfidf_matrix = tfidf.fit_transform(tags_grouped['tag'])"
      ]
    },
    {
      "cell_type": "markdown",
      "metadata": {
        "id": "5bnK0dMpG2Se"
      },
      "source": [
        "### Word2Vec"
      ]
    },
    {
      "cell_type": "code",
      "execution_count": 143,
      "metadata": {
        "id": "mceq6reiIyqe"
      },
      "outputs": [
        {
          "name": "stderr",
          "output_type": "stream",
          "text": [
            "[nltk_data] Downloading package stopwords to\n",
            "[nltk_data]     C:\\Users\\Hp\\AppData\\Roaming\\nltk_data...\n",
            "[nltk_data]   Package stopwords is already up-to-date!\n"
          ]
        }
      ],
      "source": [
        "nltk.download('stopwords')\n",
        "stop_words = set(stopwords.words('english'))\n",
        "\n",
        "#Converting tags to lowercase\n",
        "tags['tag'] = tags['tag'].str.lower()\n",
        "\n",
        "#Removing stopwords from the 'tag' column\n",
        "tags['tag'] = tags['tag'].apply(lambda x: ' '.join([word for word in x.split() if word not in stop_words]))\n",
        "\n",
        "#Grouping tags by userId and movieId and tokenizing them\n",
        "tagged_data = tags.groupby(['userId', 'movieId'])['tag'].apply(lambda x: x.str.split()).reset_index()\n",
        "\n",
        "#Training the Word2Vec model on the tokenized data\n",
        "model = Word2Vec(tagged_data['tag'], vector_size=100, window=5, min_count=1, workers=4)\n"
      ]
    },
    {
      "cell_type": "code",
      "execution_count": 163,
      "metadata": {
        "id": "JdrdGeg_G2Sj"
      },
      "outputs": [],
      "source": [
        "def get_tag_vector(tag):\n",
        "    \"\"\"\n",
        "    Given a tag (which might be a phrase), return the averaged Word2Vec vector for all words in the tag.\n",
        "    If a word is not in the vocabulary, it is ignored.\n",
        "    \n",
        "    Args:\n",
        "    - tag (str): A tag or phrase consisting of multiple words\n",
        "    \n",
        "    Returns:\n",
        "    - numpy.ndarray: The averaged vector representation of the tag\n",
        "    \"\"\"\n",
        "    words = tag.split()  # Tokenize the tag into individual words\n",
        "    word_vectors = []\n",
        "\n",
        "    for word in words:\n",
        "        if word in model.wv:\n",
        "            word_vectors.append(model.wv[word])\n",
        "        else:\n",
        "            print(f\"Word '{word}' not in vocabulary.\")\n",
        "\n",
        "    # If no words from the tag exist in the vocabulary, return a zero vector\n",
        "    if len(word_vectors) == 0:\n",
        "        return np.zeros(model.vector_size)\n",
        "\n",
        "    # Return the average of the vectors for words in the tag\n",
        "    return np.mean(word_vectors, axis=0)\n"
      ]
    },
    {
      "cell_type": "code",
      "execution_count": 165,
      "metadata": {},
      "outputs": [
        {
          "name": "stdout",
          "output_type": "stream",
          "text": [
            "[-1.6850404e-03 -2.2208269e-03 -9.6157147e-03  9.4254110e-03\n",
            "  4.4080766e-04  6.2190699e-03 -2.2281173e-03  2.2460879e-03\n",
            " -9.3329530e-03  5.3710444e-03 -6.0744290e-03  8.0729378e-03\n",
            "  1.0004341e-02 -9.5659373e-03 -8.0332663e-03  3.6186904e-03\n",
            "  8.4193889e-03  6.8864180e-03 -7.0057530e-03  9.7843166e-03\n",
            "  1.5856344e-03  9.8318774e-03  3.7462814e-04 -8.7394370e-03\n",
            "  6.5002763e-03 -7.9171462e-03 -7.2051687e-03 -1.7532415e-03\n",
            "  2.2766322e-03 -8.9126453e-03 -1.1326385e-03  5.9798663e-03\n",
            " -7.6684952e-03 -9.3873693e-03 -4.0367614e-03  6.0613230e-03\n",
            " -3.4701370e-03 -1.6559511e-03 -3.7426769e-03 -8.8735754e-03\n",
            "  5.9259506e-03 -8.6155097e-04 -9.1995671e-04  1.5301255e-03\n",
            " -2.0757227e-03 -7.8047267e-03 -8.2960539e-03 -4.9839946e-03\n",
            "  7.6657049e-03 -6.4659765e-04  9.0268049e-03  6.3322410e-03\n",
            "  4.8124101e-03  8.1822127e-03  7.9084476e-03 -3.3359698e-04\n",
            " -2.5385190e-03  2.8552900e-03  2.1103281e-03 -1.5901441e-03\n",
            "  2.0834166e-03  2.8798946e-03  7.0577394e-03 -8.3693909e-03\n",
            " -1.3220948e-03  9.4163558e-03  3.7750215e-03 -3.8565807e-03\n",
            " -6.8888320e-03  7.1340813e-03 -8.3155641e-03 -6.5537784e-03\n",
            " -8.2320228e-05  8.7661147e-03  4.8002442e-03 -8.4350416e-03\n",
            "  8.0531556e-03  3.9237645e-03  4.8542349e-03 -8.0911573e-03\n",
            "  7.4856629e-04 -5.6828419e-03 -9.2015266e-03 -4.8485505e-03\n",
            " -6.1086654e-03 -9.3403859e-03 -7.2061219e-03  1.7024451e-03\n",
            " -4.6834094e-03  6.6361553e-03  3.0979788e-04  5.3201402e-03\n",
            "  5.4566017e-03  6.0887989e-03 -4.6426994e-03 -9.8510990e-03\n",
            " -9.3507571e-03 -2.5592274e-03 -2.5996722e-03 -3.8775597e-03]\n"
          ]
        }
      ],
      "source": [
        "tag = \"science \"\n",
        "tag_vector = get_tag_vector(tag)\n",
        "print(tag_vector)\n"
      ]
    },
    {
      "cell_type": "markdown",
      "metadata": {
        "id": "r2Qrs9A5G2Sk"
      },
      "source": [
        "### TF-IDF and Word2Vec Comparison"
      ]
    },
    {
      "cell_type": "code",
      "execution_count": 147,
      "metadata": {
        "colab": {
          "base_uri": "https://localhost:8080/"
        },
        "id": "ObUlGZtEG2Sl",
        "outputId": "37fff7c1-39c2-4fef-d379-eb849e2ec15d"
      },
      "outputs": [
        {
          "name": "stdout",
          "output_type": "stream",
          "text": [
            "Tag '['in', 'netflix', 'queue', 'jane', 'austen']' not in vocabulary.\n",
            "Tag '['animal', 'movie', 'pigs', 'villain', 'nonexistent', 'or', 'not', 'needed', 'for', 'good', 'story']' not in vocabulary.\n",
            "Tag '['chick', 'flick', 'funny', 'paul', 'rudd', 'quotable', 'seen', 'more', 'than', 'once', 'emma', 'jane', 'austen']' not in vocabulary.\n",
            "Tag '['in', 'netflix', 'queue', 'south', 'africa']' not in vocabulary.\n",
            "Tag '['jekyll', 'and', 'hyde']' not in vocabulary.\n",
            "Tag '['in', 'netflix', 'queue']' not in vocabulary.\n",
            "Tag '['made', 'me', 'cry']' not in vocabulary.\n",
            "Tag '['school', 'adam', 'sandler', 'stop', 'looking', 'at', 'me', 'swan']' not in vocabulary.\n",
            "Tag '['in', 'netflix', 'queue']' not in vocabulary.\n",
            "Tag '['classic', 'space', 'action', 'action', 'sci-fi', 'epic', 'great', 'soundtrack', 'classic', 'sci-fi', 'engrossing', 'adventure', 'epic', 'classic', 'nerd', 'classic', 'sci-fi', 'space', 'action', 'space', 'epic', 'oldie', 'but', 'goodie', 'sci-fi', 'star', 'wars', 'robots', 'and', 'androids', 'space', 'classic', 'sci-fi', 'sci-fi', 'space', 'adventure', 'star', 'wars', 'darth', 'vader', 'luke', 'skywalker', 'space', 'opera']' not in vocabulary.\n",
            "Tag '['in', 'netflix', 'queue']' not in vocabulary.\n",
            "Tag '['in', 'netflix', 'queue']' not in vocabulary.\n",
            "Tag '['good', 'dialogue', 'great', 'soundtrack', 'non-linear', 'cult', 'film', 'drugs', 'quentin', 'tarantino', 'tarantino', 'hit', 'men', '1990s', 'achronological', 'action', 'action', 'packed', 'aggressive', 'amazing', 'amazing', 'dialogues', 'anthology', 'assassin', 'atmospheric', 'awesome', 'bad', 'ass', 'bad', 'language', 'bad-ass', 'bible', 'biblical', 'references', 'big', 'boys', 'with', 'guns', 'big', 'name', 'actors', 'black', 'comedy', 'black', 'humor', 'black', 'humour', 'blood', 'blood', 'splatters', 'bloody', 'bruce', 'willis', 'brutality', 'casual', 'violence', 'character', 'development', 'characters', 'classic', 'classic', 'movie', 'coke', 'comedy', 'conversation', 'cool', 'cool', 'style', 'crime', 'crime', 'scene', 'scrubbing', 'cult', 'cult', 'classic', 'cult', 'film', 'dance', 'dancing', 'dark', 'dark', 'comedy', 'dark', 'humor', 'dialogue', 'different', 'diner', 'disjointed', 'timeline', 'disturbing', 'drama', 'drug', 'overdose', 'drugs', 'drugs', '&', 'music', 'ensemble', 'cast', 'entertaining', 'entirely', 'dialogue', 'episodic', 'exciting', 'fast', 'paced', 'fast-paced', 'film', 'noir', 'film-noir', 'foul', 'language', 'fun', 'funny', 'gangster', 'gangsters', 'genius', 'golden', 'watch', 'good', 'dialogue', 'good', 'music', 'gore', 'great', 'acting', 'great', 'dialogue', 'great', 'soundtrack', 'gritty', 'guns', 'harvey', 'keitel', 'heroin', 'highly', 'quotable', 'hit', 'men', 'hitman', 'homosexuality', 'humour', 'iconic', 'imdb', 'top', '250', 'innovative', 'intellectual', 'intelligent', 'intense', 'interesting', 'intertwining', 'storylines', 'interwoven', 'storylines', 'ironic', 'irony', 'john', 'travolta', 'killer-as-protagonist', 'los', 'angeles', 'mafia', 'masterpiece', 'meaningless', 'violence', 'milkshake', 'mobster', 'mobsters', 'monologue', 'motherfucker', 'multiple', 'stories', 'multiple', 'storylines', 'neo-noir', 'noir', 'non-linear', 'non-linear', 'timeline', 'nonlinear', 'nonlinear', 'narrative', 'nonlinear', 'storyline', 'nonlinear', 'timeline', 'notable', 'soundtrack', 'offensive', 'organised', 'crime', 'organized', 'crime', 'original', 'original', 'plot', 'out', 'of', 'order', 'palme', \"d'or\", 'parody', 'philosophical', 'pop', 'culture', 'references', 'psychological', 'pulp', 'quentin', 'tarantino', 'quirky', 'quotable', 'r:disturbing', 'violent', 'content', 'including', 'rape', 'r:disturbing', 'violent', 'images', 'r:graphic', 'sexuality', 'r:some', 'violence', 'r:strong', 'bloody', 'violence', 'r:strong', 'language', 'r:sustained', 'strong', 'stylized', 'violence', 'r:violence', 'random', 'rape', 'retro', 'roger', 'avary', 'royal', 'with', 'cheese', 'samuel', 'l.', 'jackson', 'sarcasm', 'satire', 'sexy', 'smart', 'writing', 'sophisticated', 'soundtrack', 'splatter', 'steve', 'buscemi', 'storytelling', 'stylish', 'stylized', 'suspense', 'tarantino', 'thought-provoking', 'thriller', 'travolta', 'twist', 'ending', 'uma', 'thurman', 'unique', 'unpredictable', 'unusual', 'very', 'funny', 'violence', 'violent', 'witty']' not in vocabulary.\n",
            "Tag '['in', 'netflix', 'queue']' not in vocabulary.\n",
            "Tag '['cross', 'dressing', 'men', 'in', 'drag', 'remade']' not in vocabulary.\n",
            "Tag '['shrimp', 'vietnam', 'bubba', 'gump', 'shrimp', 'lieutenant', 'dan', 'stupid', 'is', 'as', 'stupid', 'does', 'bittersweet', 'emotional', 'heartwarming', 'touching']' not in vocabulary.\n",
            "Tag '['holocaust', 'in', 'netflix', 'queue']' not in vocabulary.\n",
            "Tag '['based', 'on', 'a', 'tv', 'show']' not in vocabulary.\n",
            "Tag '['cross', 'dressing', 'divorce', 'men', 'in', 'drag']' not in vocabulary.\n",
            "Tag '['moving', 'thought-provoking', 'holocaust', 'based', 'on', 'a', 'true', 'story', 'biography', 'disturbing', 'holocaust']' not in vocabulary.\n",
            "Tag '['in', 'netflix', 'queue']' not in vocabulary.\n",
            "Tag '['based', 'on', 'a', 'true', 'story', 'dark', 'comedy', 'kidnapping', 'steve', 'buscemi', 'coen', 'brothers']' not in vocabulary.\n",
            "Tag '['based', 'on', 'a', 'tv', 'show']' not in vocabulary.\n",
            "Tag '['in', 'netflix', 'queue']' not in vocabulary.\n",
            "Tag '['dark', 'comedy', 'atomic', 'bomb', 'black', 'comedy', 'dark', 'comedy', 'satire', 'purity', 'of', 'essence', 'slim', 'pickens', 'black', 'comedy', 'dark', 'comedy', 'quirky']' not in vocabulary.\n",
            "Tag '['based', 'on', 'a', 'book', 'dark', 'comedy', 'narrated', 'drug', 'abuse']' not in vocabulary.\n",
            "Tag '['in', 'netflix', 'queue']' not in vocabulary.\n",
            "Tag '['based', 'on', 'a', 'tv', 'show']' not in vocabulary.\n",
            "Tag '['kidnapping', 'give', 'me', 'back', 'my', 'son!', 'it', 'was', 'melodramatic', 'and', 'kind', 'of', 'dumb', 'mel', 'gibson']' not in vocabulary.\n",
            "Tag '['seen', 'at', 'the', 'cinema']' not in vocabulary.\n",
            "Tag '['men', 'in', 'drag']' not in vocabulary.\n",
            "Tag '['start', 'of', 'a', 'beautiful', 'friendship']' not in vocabulary.\n",
            "Tag '['astaire', 'and', 'rogers']' not in vocabulary.\n",
            "Tag '['nick', 'and', 'nora', 'charles']' not in vocabulary.\n",
            "Tag '['rogers', 'and', 'hammerstein']' not in vocabulary.\n",
            "Tag '['in', 'netflix', 'queue']' not in vocabulary.\n",
            "Tag '['astaire', 'and', 'rogers']' not in vocabulary.\n",
            "Tag '['freedom', 'of', 'expression']' not in vocabulary.\n",
            "Tag '['boxing', 'in', 'netflix', 'queue']' not in vocabulary.\n",
            "Tag '['in', 'netflix', 'queue']' not in vocabulary.\n",
            "Tag '['in', 'netflix', 'queue', 'police']' not in vocabulary.\n",
            "Tag '['i', 'am', 'your', 'father', 'space', 'space', 'opera', 'classic', 'george', 'lucas', 'harrison', 'ford', 'music', 'original', 'plot', 'sci-fi', 'sequel']' not in vocabulary.\n",
            "Tag '['adventure', 'archaeology', 'indiana', 'jones', 'steven', 'spielberg', 'treasure', 'hunt', 'archaeology', 'ark', 'of', 'the', 'covenant', 'indiana', 'jones']' not in vocabulary.\n",
            "Tag '['alfred', 'hitchcock', 'psychology', 'suspenseful', 'tense', 'norman', 'bates', 'alfred', 'hitchcock', 'black', 'and', 'white', 'imdb', 'top', '250', 'remade']' not in vocabulary.\n",
            "Tag '['the', 'entertainer']' not in vocabulary.\n",
            "Tag '['shakespeare', 'sort', 'of']' not in vocabulary.\n",
            "Tag '['black', 'and', 'white']' not in vocabulary.\n",
            "Tag '['simon', 'and', 'garfunkel']' not in vocabulary.\n",
            "Tag '['in', 'netflix', 'queue']' not in vocabulary.\n",
            "Tag '['in', 'netflix', 'queue']' not in vocabulary.\n",
            "Tag '['shakespeare', 'sort', 'of', 'space']' not in vocabulary.\n",
            "Tag '['in', 'netflix', 'queue']' not in vocabulary.\n",
            "Tag '['in', 'netflix', 'queue', 'vietnam']' not in vocabulary.\n",
            "Tag '['mental', 'illness', 'not', 'seen']' not in vocabulary.\n",
            "Tag '['in', 'netflix', 'queue']' not in vocabulary.\n",
            "Tag '['in', 'netflix', 'queue']' not in vocabulary.\n",
            "Tag '['in', 'netflix', 'queue']' not in vocabulary.\n",
            "Tag '['in', 'netflix', 'queue']' not in vocabulary.\n",
            "Tag '['seen', 'more', 'than', 'once']' not in vocabulary.\n",
            "Tag '['no', 'dvd', 'at', 'netflix']' not in vocabulary.\n",
            "Tag '['in', 'netflix', 'queue']' not in vocabulary.\n",
            "Tag '['in', 'netflix', 'queue']' not in vocabulary.\n",
            "Tag '['huey', 'long', 'in', 'netflix', 'queue', 'robert', 'penn', 'warren']' not in vocabulary.\n",
            "Tag '['boxing', 'coulda', 'been', 'a', 'contender']' not in vocabulary.\n",
            "Tag '['in', 'netflix', 'queue']' not in vocabulary.\n",
            "Tag '['aids', 'in', 'netflix', 'queue']' not in vocabulary.\n",
            "Tag '['in', 'your', 'eyes', 'lloyd', 'dobbler']' not in vocabulary.\n",
            "Tag '['in', 'netflix', 'queue']' not in vocabulary.\n",
            "Tag '['in', 'netflix', 'queue']' not in vocabulary.\n",
            "Tag '['in', 'netflix', 'queue']' not in vocabulary.\n",
            "Tag '['in', 'netflix', 'queue']' not in vocabulary.\n",
            "Tag '['shakespeare', 'sort', 'of']' not in vocabulary.\n",
            "Tag '['black', 'and', 'white', 'christopher', 'nolan', 'directorial', 'debut', 'mindfuck', 'not', 'linear', 'twist', 'ending', 'black', 'and', 'white']' not in vocabulary.\n",
            "Tag '['prequel', 'the', 'force']' not in vocabulary.\n",
            "Tag '['in', 'netflix', 'queue']' not in vocabulary.\n",
            "Tag '['in', 'netflix', 'queue']' not in vocabulary.\n",
            "Tag '['best', 'comedy', 'chris', 'klein', 'dumb', 'jason', 'biggs', 'not', 'funny', 'pizza', 'beer', 'seann', 'william', 'scott', 'teen']' not in vocabulary.\n",
            "Tag '['claims', 'to', 'be', 'true', 'video']' not in vocabulary.\n",
            "Tag '['atmospheric', 'bruce', 'willis', 'ghosts', 'imdb', 'top', '250', 'mindfuck', 'stylized', 'twist', 'ending', 'ghosts', 'i', 'see', 'dead', 'people']' not in vocabulary.\n",
            "Tag '['in', 'netflix', 'queue']' not in vocabulary.\n",
            "Tag '['in', 'netflix', 'queue']' not in vocabulary.\n",
            "Tag '['dark', 'comedy', 'psychology', 'thought-provoking', 'twist', 'ending', 'dark', 'comedy', 'violence', 'action', 'atmospheric', 'based', 'on', 'a', 'book', 'brad', 'pitt', 'challenging', 'chuck', 'palahniuk', 'classic', 'clever', 'complicated', 'consumerism', 'crime', 'dark', 'dark', 'comedy', 'david', 'fincher', 'disturbing', 'double', 'life', 'edward', 'norton', 'fighting', 'great', 'acting', 'helena', 'bonham', 'carter', 'imaginary', 'friend', 'imdb', 'top', '250', 'mental', 'illness', 'mind-blowing', 'mindfuck', 'narrated', 'nudity', '(topless)', 'palahnuik', 'philosophical', 'philosophy', 'postmodern', 'powerful', 'ending', 'psychological', 'psychological', 'thriller', 'psychology', 'quirky', 'satirical', 'schizophrenia', 'social', 'commentary', 'societal', 'criticism', 'stylized', 'surreal', 'terrorism', 'thought-provoking', 'twist', 'twist', 'ending', 'violence', 'violent']' not in vocabulary.\n",
            "Tag '['in', 'netflix', 'queue']' not in vocabulary.\n",
            "Tag '['irreverent', 'jay', 'and', 'silent', 'bob', 'kevin', 'smith', 'satire', 'religion']' not in vocabulary.\n",
            "Tag '['in', 'netflix', 'queue']' not in vocabulary.\n",
            "Tag '['in', 'netflix', 'queue', 'up', 'series']' not in vocabulary.\n",
            "Tag '['men', 'in', 'drag']' not in vocabulary.\n",
            "Tag '['based', 'on', 'a', 'book', 'creepy', 'disturbing', 'jude', 'law', 'murder', 'obsession', 'psychology', 'secrets', 'serial', 'killer', 'suspense', 'europe', 'murder']' not in vocabulary.\n",
            "Tag '['asylum', 'based', 'on', 'a', 'true', 'story', 'brittany', 'murphy', 'mental', 'hospital', 'psychology', 'winona', 'ryder']' not in vocabulary.\n",
            "Tag '['in', 'netflix', 'queue']' not in vocabulary.\n",
            "Tag '['a', 'dingo', 'ate', 'my', 'baby', 'australia']' not in vocabulary.\n",
            "Tag '['in', 'netflix', 'queue']' not in vocabulary.\n",
            "Tag '['in', 'netflix', 'queue']' not in vocabulary.\n",
            "Tag '['pearl', 's', 'buck']' not in vocabulary.\n",
            "Tag '['hepburn', 'and', 'tracy', 'interracial', 'marriage', 'prejudice', 'racism']' not in vocabulary.\n",
            "Tag '['in', 'netflix', 'queue']' not in vocabulary.\n",
            "Tag '['in', 'netflix', 'queue']' not in vocabulary.\n",
            "Tag '['in', 'netflix', 'queue']' not in vocabulary.\n",
            "Tag '['in', 'netflix', 'queue']' not in vocabulary.\n",
            "Tag '['in', 'netflix', 'queue', 'art', 'house', 'atmospheric', 'creepy', 'cryptic', 'dark', 'disturbing', 'dreamlike', 'enigmatic', 'fucked', 'up', 'gruesome', 'hallucinatory', 'insane', 'paranoid', 'strange', 'surreal', 'weird']' not in vocabulary.\n",
            "Tag '['in', 'netflix', 'queue', 'televangelist']' not in vocabulary.\n",
            "Tag '['in', 'netflix', 'queue']' not in vocabulary.\n",
            "Tag '['drugs', 'based', 'on', 'a', 'tv', 'show']' not in vocabulary.\n",
            "Tag '['in', 'netflix', 'queue']' not in vocabulary.\n",
            "Tag '['in', 'netflix', 'queue']' not in vocabulary.\n",
            "Tag '['in', 'netflix', 'queue']' not in vocabulary.\n",
            "Tag '['in', 'netflix', 'queue']' not in vocabulary.\n",
            "Tag '['in', 'netflix', 'queue']' not in vocabulary.\n",
            "Tag '['strangers', 'on', 'a', 'train']' not in vocabulary.\n",
            "Tag '['in', 'netflix', 'queue']' not in vocabulary.\n",
            "Tag '['men', 'in', 'drag']' not in vocabulary.\n",
            "Tag '['in', 'netflix', 'queue']' not in vocabulary.\n",
            "Tag '['claymation', 'creativity', 'dystopia', 'free', 'to', 'download', 'imagination', 'no', 'dialogue', 'social', 'commentary']' not in vocabulary.\n",
            "Tag '['in', 'netflix', 'queue']' not in vocabulary.\n",
            "Tag '['ben', 'stiller', 'comedy', 'david', 'bowie', 'goofy', 'mindless', 'one', 'liners', 'will', 'ferrell']' not in vocabulary.\n",
            "Tag '['everything', 'you', 'want', 'is', 'here', 'alan', 'rickman', 'harry', 'potter', 'humorous', 'magic', 'magic', 'wizards']' not in vocabulary.\n",
            "Tag '['in', 'netflix', 'queue']' not in vocabulary.\n",
            "Tag '['in', 'netflix', 'queue']' not in vocabulary.\n",
            "Tag '['in', 'netflix', 'queue']' not in vocabulary.\n",
            "Tag '['in', 'netflix', 'queue']' not in vocabulary.\n",
            "Tag '['black', 'and', 'white', 'samurai', 'in', 'netflix', 'queue', 'samurai']' not in vocabulary.\n",
            "Tag '['in', 'netflix', 'queue']' not in vocabulary.\n",
            "Tag '['crappy', 'sequel', 'first', 'was', 'much', 'better', 'sequel']' not in vocabulary.\n",
            "Tag '['in', 'netflix', 'queue']' not in vocabulary.\n",
            "Tag '['in', 'netflix', 'queue']' not in vocabulary.\n",
            "Tag '['as', 'byatt', 'books']' not in vocabulary.\n",
            "Tag '['violence', 'in', 'america']' not in vocabulary.\n",
            "Tag '['made', 'me', 'cry', 'orphans', 'beautiful', 'downbeat', 'grim', 'poignant', 'tear', 'jerker', 'tragedy', 'tragic']' not in vocabulary.\n",
            "Tag '['in', 'netflix', 'queue', 'judaism']' not in vocabulary.\n",
            "Tag '['world', 'war', 'i']' not in vocabulary.\n",
            "Tag '['salute', 'to', 'douglas', 'sirk']' not in vocabulary.\n",
            "Tag '['multiple', 'storylines', 'true', 'story', 'crime', 'photography', 'violence', 'not', 'seen']' not in vocabulary.\n",
            "Tag '['in', 'netflix', 'queue']' not in vocabulary.\n",
            "Tag '['in', 'netflix', 'queue']' not in vocabulary.\n",
            "Tag '['day', 'and', 'hudson', 'sexuality']' not in vocabulary.\n",
            "Tag '['comedy', 'will', 'ferrell']' not in vocabulary.\n",
            "Tag '['books', 'stones', 'of', 'summer']' not in vocabulary.\n",
            "Tag '['in', 'netflix', 'queue']' not in vocabulary.\n",
            "Tag '['in', 'netflix', 'queue']' not in vocabulary.\n",
            "Tag '['in', 'netflix', 'queue', 'they', 'might', 'be', 'giants']' not in vocabulary.\n",
            "Tag '['in', 'netflix', 'queue']' not in vocabulary.\n",
            "Tag '['in', 'netflix', 'queue']' not in vocabulary.\n",
            "Tag '['in', 'netflix', 'queue']' not in vocabulary.\n",
            "Tag '['adventure', 'angelina', 'jolie', 'heroine', 'in', 'tight', 'suit']' not in vocabulary.\n",
            "Tag '['in', 'netflix', 'queue']' not in vocabulary.\n",
            "Tag '['in', 'netflix', 'queue']' not in vocabulary.\n",
            "Tag '['in', 'netflix', 'queue']' not in vocabulary.\n",
            "Tag '['in', 'netflix', 'queue']' not in vocabulary.\n",
            "Tag '['black', 'and', 'white', 'capote', 'crime', 'death', 'penalty', 'murder']' not in vocabulary.\n",
            "Tag '['adolescence', 'violence', 'in', 'america']' not in vocabulary.\n",
            "Tag '['rita', 'hayworth', 'can', 'dance!']' not in vocabulary.\n",
            "Tag '['hepburn', 'and', 'tracy']' not in vocabulary.\n",
            "Tag '['good', 'and', 'evil']' not in vocabulary.\n",
            "Tag '['based', 'on', 'a', 'book', 'bloody', 'brutal', 'controversial', 'dystopia', 'goretastic', 'satire', 'social', 'commentary', 'survival', 'violence']' not in vocabulary.\n",
            "Tag '['in', 'netflix', 'queue']' not in vocabulary.\n",
            "Tag '['in', 'netflix', 'queue']' not in vocabulary.\n",
            "Tag '['astaire', 'and', 'rogers']' not in vocabulary.\n",
            "Tag '['astaire', 'and', 'rogers']' not in vocabulary.\n",
            "Tag '['astaire', 'and', 'rogers']' not in vocabulary.\n",
            "Tag '['astaire', 'and', 'rogers']' not in vocabulary.\n",
            "Tag '['in', 'netflix', 'queue', 'shakespeare']' not in vocabulary.\n",
            "Tag '['in', 'netflix', 'queue']' not in vocabulary.\n",
            "Tag '['in', 'netflix', 'queue']' not in vocabulary.\n",
            "Tag '['hepburn', 'and', 'tracy']' not in vocabulary.\n",
            "Tag '['in', 'netflix', 'queue']' not in vocabulary.\n",
            "Tag '['adventure', 'ensemble', 'cast', 'fantasy', 'fantasy', 'world', 'great', 'soundtrack', 'lord', 'of', 'the', 'rings', 'scenic', 'stylized', 'tolkien', 'tolkein']' not in vocabulary.\n",
            "Tag '['cross', 'dressing', 'men', 'in', 'drag']' not in vocabulary.\n",
            "Tag '['in', 'netflix', 'queue']' not in vocabulary.\n",
            "Tag '['adolescence', 'crime', 'for', 'katie']' not in vocabulary.\n",
            "Tag '['hepburn', 'and', 'tracy', 'marriage']' not in vocabulary.\n",
            "Tag '['rogers', 'and', 'hammerstein']' not in vocabulary.\n",
            "Tag '['biopic', 'in', 'netflix', 'queue']' not in vocabulary.\n",
            "Tag '['in', 'netflix', 'queue']' not in vocabulary.\n",
            "Tag '['hepburn', 'and', 'tracy', 'sports']' not in vocabulary.\n",
            "Tag '['in', 'netflix', 'queue']' not in vocabulary.\n",
            "Tag '['in', 'netflix', 'queue']' not in vocabulary.\n",
            "Tag '['nick', 'and', 'nora', 'charles']' not in vocabulary.\n",
            "Tag '['nick', 'and', 'nora', 'charles']' not in vocabulary.\n",
            "Tag '['nick', 'and', 'nora', 'charles']' not in vocabulary.\n",
            "Tag '['nick', 'and', 'nora', 'charles']' not in vocabulary.\n",
            "Tag '['nick', 'and', 'nora', 'charles']' not in vocabulary.\n",
            "Tag '['in', 'netflix', 'queue']' not in vocabulary.\n",
            "Tag '['in', 'netflix', 'queue']' not in vocabulary.\n",
            "Tag '['in', 'netflix', 'queue']' not in vocabulary.\n",
            "Tag '['in', 'netflix', 'queue']' not in vocabulary.\n",
            "Tag '['in', 'netflix', 'queue']' not in vocabulary.\n",
            "Tag '['in', 'netflix', 'queue']' not in vocabulary.\n",
            "Tag '['not', 'available', 'from', 'netflix']' not in vocabulary.\n",
            "Tag '['in', 'netflix', 'queue']' not in vocabulary.\n",
            "Tag '['in', 'netflix', 'queue']' not in vocabulary.\n",
            "Tag '['in', 'netflix', 'queue']' not in vocabulary.\n",
            "Tag '['in', 'netflix', 'queue']' not in vocabulary.\n",
            "Tag '['fairy', 'tales', 'in', 'netflix', 'queue']' not in vocabulary.\n",
            "Tag '['in', 'netflix', 'queue']' not in vocabulary.\n",
            "Tag '['in', 'netflix', 'queue']' not in vocabulary.\n",
            "Tag '['hilarious', 'steve', 'carell', 'will', 'ferrell', 'stupid', 'awesome', 'comedy', 'will', 'ferrell']' not in vocabulary.\n",
            "Tag '['in', 'netflix', 'queue']' not in vocabulary.\n",
            "Tag '['stand', 'up']' not in vocabulary.\n",
            "Tag '['in', 'netflix', 'queue']' not in vocabulary.\n",
            "Tag '['in', 'netflix', 'queue']' not in vocabulary.\n",
            "Tag '['in', 'netflix', 'queue']' not in vocabulary.\n",
            "Tag '['in', 'netflix', 'queue']' not in vocabulary.\n",
            "Tag '['made', 'me', 'cry']' not in vocabulary.\n",
            "Tag '['in', 'netflix', 'queue']' not in vocabulary.\n",
            "Tag '['not', 'available', 'from', 'netflix']' not in vocabulary.\n",
            "Tag '['in', 'netflix', 'queue']' not in vocabulary.\n",
            "Tag '['in', 'netflix', 'queue']' not in vocabulary.\n",
            "Tag '['in', 'netflix', 'queue']' not in vocabulary.\n",
            "Tag '['anime', 'end', 'of', 'the', 'world', 'epic', 'mecha', 'psychology']' not in vocabulary.\n",
            "Tag '['in', 'netflix', 'queue']' not in vocabulary.\n",
            "Tag '['in', 'netflix', 'queue']' not in vocabulary.\n",
            "Tag '['anime', 'fantasy', 'world', 'hayao', 'miyazaki', 'studio', 'ghibli', '06', 'oscar', 'nominated', 'best', 'movie', '-', 'animation', 'in', 'netflix', 'queue']' not in vocabulary.\n",
            "Tag '['in', 'netflix', 'queue']' not in vocabulary.\n",
            "Tag '['in', 'netflix', 'queue']' not in vocabulary.\n",
            "Tag '['in', 'netflix', 'queue']' not in vocabulary.\n",
            "Tag '['chris', 'evans', 'comic', 'book', 'heroine', 'in', 'tight', 'suit', 'jessica', 'alba', 'sexy', 'female', 'scientist', 'superhero']' not in vocabulary.\n",
            "Tag '['in', 'netflix', 'queue']' not in vocabulary.\n",
            "Tag '['in', 'netflix', 'queue']' not in vocabulary.\n",
            "Tag '['animal', 'movie', 'in', 'netflix', 'queue']' not in vocabulary.\n",
            "Tag '['in', 'netflix', 'queue']' not in vocabulary.\n",
            "Tag '['in', 'netflix', 'queue']' not in vocabulary.\n",
            "Tag '['in', 'netflix', 'queue']' not in vocabulary.\n",
            "Tag '['black', 'comedy', 'clever', 'fast-paced', 'dialogue', 'good', 'dialogue', 'robert', 'downey', 'jr.', 'witty', 'in', 'netflix', 'queue']' not in vocabulary.\n",
            "Tag '['courtroom', 'drama', 'in', 'netflix', 'queue']' not in vocabulary.\n",
            "Tag '['in', 'netflix', 'queue', 'journalism', 'mccarthy', 'hearings', 'morrow']' not in vocabulary.\n",
            "Tag '['in', 'netflix', 'queue']' not in vocabulary.\n",
            "Tag '['in', 'netflix', 'queue']' not in vocabulary.\n",
            "Tag '['in', 'netflix', 'queue']' not in vocabulary.\n",
            "Tag '['in', 'netflix', 'queue']' not in vocabulary.\n",
            "Tag '['in', 'netflix', 'queue']' not in vocabulary.\n",
            "Tag '['emma', 'thompson', 'maggie', 'gyllenhaal', 'modern', 'fantasy', 'romance', 'surreal', 'will', 'ferrell']' not in vocabulary.\n",
            "Tag '['way', 'too', 'long', 'leonardo', 'dicaprio', 'suspense', 'twist', 'ending', 'undercover', 'cop', 'atmospheric', 'jack', 'nicholson', 'leonardo', 'dicaprio', 'martin', 'scorsese', 'suspense']' not in vocabulary.\n",
            "Tag '['the', 'catholic', 'church', 'is', 'the', 'most', 'corrupt', 'organization', 'in', 'history']' not in vocabulary.\n",
            "Tag '['a', 'clever', 'chef', 'rat', 'inspirational', 'clever', 'inspirational']' not in vocabulary.\n",
            "Tag '['something', 'for', 'everyone', 'in', 'this', 'one...', 'saw', 'it', 'without', 'and', 'plan', 'on', 'seeing', 'it', 'with', 'kids!']' not in vocabulary.\n",
            "Tag '['based', 'on', 'a', 'play', 'conspiracy', 'theory', 'creepy', 'insanity', 'paranoia', 'ptsd']' not in vocabulary.\n",
            "Tag '['alone', 'in', 'the', 'world', 'apocalypse', 'based', 'on', 'a', 'book', 'last', 'man', 'on', 'earth', 'plot', 'holes', 'post', 'apocalyptic', 'post-apocalyptic', 'religion', 'vampire']' not in vocabulary.\n",
            "Tag '['movies', 'about', 'movies']' not in vocabulary.\n",
            "Tag '['last', 'man', 'on', 'earth', 'love', 'story', 'post', 'apocalyptic', 'social', 'commentary']' not in vocabulary.\n",
            "Tag '['bad', 'script', 'charlize', 'theron', 'will', 'smith']' not in vocabulary.\n",
            "Tag '['funny', 'highly', 'quotable', 'will', 'ferrell', 'comedy', 'funny', 'will', 'ferrell', 'funny', 'will', 'ferrell']' not in vocabulary.\n",
            "Tag '['comic', 'book', 'bad', 'plot', 'comic', 'book', 'hugh', 'jackman', 'ryan', 'reynolds', 'too', 'many', 'characters']' not in vocabulary.\n",
            "Tag '['future', 'lack', 'of', 'development', 'lack', 'of', 'story', 'quick', 'cuts', 'sci-fi', 'simon', 'pegg', 'space', 'space', 'travel', 'time', 'travel']' not in vocabulary.\n",
            "Tag '['artificial', 'intelligence', 'bad', 'acting', 'bad', 'plot', 'bad', 'script', 'christian', 'bale', 'fighting', 'the', 'system', 'franchise', 'new', 'composer', 'post-apocalyptic', 'robots', 'sci-fi', 'sequel']' not in vocabulary.\n",
            "Tag '['bad', 'plot', 'michael', 'bay', 'needed', 'more', 'autobots', 'plot', 'holes', 'ridiculous', 'shia', 'labeouf', 'stop', 'using', 'useless', 'characters', 'for', 'filler']' not in vocabulary.\n",
            "Tag '['bad', 'science', 'futuristic', 'graphic', 'design', 'james', 'cameron', 'military', 'poor', 'dialogue', 'sci-fi', 'superficial', 'plot', 'unoriginal', 'white', 'guilt', 'beautiful', 'scenery', 'graphic', 'design', 'music', 'politics', 'romance', 'thought-provoking', 'too', 'long', 'visually', 'stunning']' not in vocabulary.\n",
            "Tag '['crime', 'fbi', 'romance', 'too', 'much', 'love', 'interest']' not in vocabulary.\n",
            "Tag '['adventure', 'fantasy', 'tolkien', 'too', 'long']' not in vocabulary.\n",
            "Tag '['comedy', 'steve', 'carell', 'stupid', 'but', 'funny', 'will', 'ferrell']' not in vocabulary.\n",
            "Tag '['animation', 'kids', 'robots', 'feel-good', 'fun', 'family', 'movie', 'very', 'funny']' not in vocabulary.\n",
            "Tag '['comic', 'book', 'dr.', 'strange', 'great', 'villain', 'guardians', 'of', 'the', 'galaxy', 'marvel', 'mcu', 'robert', 'downey', 'jr.', 'thanos', 'thor', 'visually', 'stunning', 'dark', 'emotional', 'sad', 'visually', 'appealing', 'visually', 'stunning']' not in vocabulary.\n",
            "Tag '['film', 'history', 'poetic', 'representation', 'of', 'children']' not in vocabulary.\n",
            "Tag '['bad', 'story', 'bad', 'writing', 'batman', 'ben', 'affleck', 'comic', 'book', 'dc', 'comics', 'good', 'soundtrack', 'harley', 'quinn', 'harley', \"quinn's\", 'ass', 'horrible', 'directing', 'jared', 'leto', 'joker', 'lack', 'of', 'plot', 'margot', 'robbie', 'poor', 'story', 'poorly', 'paced', 'superhero', 'visually', 'appealing', 'will', 'smith']' not in vocabulary.\n",
            "Tag '['building', 'a', 'family', 'creative', 'freedom', 'good', 'writing', 'individualism', 'viggo', 'mortensen']' not in vocabulary.\n"
          ]
        }
      ],
      "source": [
        "# Computing cosine similarity matrix tfidf\n",
        "cosine_sim_tfidf = cosine_similarity(tfidf_matrix)\n",
        "\n",
        "# Computing tag vectors and cosine similarity word2vec\n",
        "tags_grouped['tag_vector'] = tags_grouped['tag'].apply(lambda x: get_tag_vector(x.split()))\n",
        "cosine_sim_w2v = cosine_similarity(list(tags_grouped['tag_vector']))"
      ]
    },
    {
      "cell_type": "markdown",
      "metadata": {
        "id": "YeDziirHG2Sm"
      },
      "source": [
        "# Evaluation - Comparing TF-IDF and Word2Vec Approaches"
      ]
    },
    {
      "cell_type": "code",
      "execution_count": 169,
      "metadata": {
        "colab": {
          "base_uri": "https://localhost:8080/"
        },
        "id": "NZ6hbfHAG2Sn",
        "outputId": "b1275e27-606d-490b-ea19-135ffdf82a83"
      },
      "outputs": [
        {
          "name": "stdout",
          "output_type": "stream",
          "text": [
            "************************************************************\n",
            "************************************************************\n",
            "TF-IDF Recommendations:\n",
            "Nelly & Monsieur Arnaud (1995)\n",
            "Supercop 2 (Project S) (Chao ji ji hua) (1993)\n",
            "In Search of the Castaways (1962)\n",
            "In the Heat of the Night (1967)\n",
            "Cat from Outer Space, The (1978)\n",
            "Last Temptation of Christ, The (1988)\n",
            "Friday the 13th Part VII: The New Blood (1988)\n",
            "White Squall (1996)\n",
            "Jumanji (1995)\n",
            "Grumpier Old Men (1995)\n",
            "************************************************************\n",
            "************************************************************\n",
            "\n",
            "Word2Vec Recommendations:\n",
            "Nelly & Monsieur Arnaud (1995)\n",
            "Supercop 2 (Project S) (Chao ji ji hua) (1993)\n",
            "In Search of the Castaways (1962)\n",
            "Eve's Bayou (1997)\n",
            "Amos & Andrew (1993)\n",
            "Adventures of Robin Hood, The (1938)\n",
            "Welcome to Sarajevo (1997)\n",
            "Women, The (1939)\n",
            "Love Bug, The (1969)\n",
            "Devil and Max Devlin, The (1981)\n",
            "************************************************************\n",
            "************************************************************\n"
          ]
        }
      ],
      "source": [
        "def get_recommendations(movie_id, cosine_sim_matrix, top_n=10):\n",
        "    \"\"\"\n",
        "    Get movie recommendations based on cosine similarity scores.\n",
        "\n",
        "    This function retrieves the top N movies similar to the provided movie ID \n",
        "    using a cosine similarity matrix. The recommendations are sorted based on \n",
        "    their similarity scores in descending order.\n",
        "\n",
        "    Parameters:\n",
        "    - movie_id (int): The ID of the movie for which recommendations are sought.\n",
        "    - cosine_sim_matrix (np.ndarray): A matrix containing cosine similarity scores\n",
        "      for all movies.\n",
        "    - top_n (int): The number of recommendations to return. Defaults to 10.\n",
        "\n",
        "    Returns:\n",
        "    - List[str]: A list of movie titles recommended based on the given movie ID.\n",
        "    \n",
        "    Raises:\n",
        "    - ValueError: If the provided movie ID does not exist in the dataset.\n",
        "\n",
        "    \"\"\"\n",
        "    \n",
        "    # Check if the movie_id exists in the tags_grouped DataFrame\n",
        "    if movie_id not in tags_grouped['movieId'].values:\n",
        "        raise ValueError(f\"Movie ID {movie_id} not found.\")\n",
        "    \n",
        "    # Get the index of the movie in the DataFrame\n",
        "    idx = tags_grouped.index[tags_grouped['movieId'] == movie_id][0]\n",
        "    \n",
        "    # Get similarity scores for the selected movie\n",
        "    sim_scores = list(enumerate(cosine_sim_matrix[idx]))\n",
        "    \n",
        "    # Sort the movies based on the similarity scores (highest first)\n",
        "    sim_scores = sorted(sim_scores, key=lambda x: x[1], reverse=True)\n",
        "    \n",
        "    # Extract the indices of the top-n most similar movies (excluding the first as it's the movie itself)\n",
        "    movie_indices = [i[0] for i in sim_scores[1:top_n + 1]]\n",
        "    \n",
        "    # Return the movie titles instead of just movie IDs\n",
        "    return movies['title'].iloc[movie_indices]\n",
        "\n",
        "# Getting recommendations using both approaches for comparison\n",
        "tfidf_recommendations = get_recommendations(1, cosine_sim_tfidf)\n",
        "w2v_recommendations = get_recommendations(1, cosine_sim_w2v)\n",
        "print('************************************************************')\n",
        "print('************************************************************')\n",
        "# Displaying the results\n",
        "print(\"TF-IDF Recommendations:\")\n",
        "for movie in tfidf_recommendations:\n",
        "    print(movie)\n",
        "    \n",
        "print('************************************************************')\n",
        "print('************************************************************')\n",
        "print(\"\\nWord2Vec Recommendations:\")\n",
        "for movie in w2v_recommendations:\n",
        "    print(movie)\n",
        "print('************************************************************')\n",
        "print('************************************************************')"
      ]
    },
    {
      "cell_type": "markdown",
      "metadata": {
        "id": "xDJllAT4G2Sn"
      },
      "source": [
        "#  Collaborative Filtering"
      ]
    },
    {
      "cell_type": "markdown",
      "metadata": {
        "id": "z-7XUz94G2So"
      },
      "source": [
        "### Building a Collaborative Filtering Model"
      ]
    },
    {
      "cell_type": "code",
      "execution_count": 149,
      "metadata": {
        "colab": {
          "base_uri": "https://localhost:8080/"
        },
        "id": "4qzPEtRbG2So",
        "outputId": "c9f0fae1-30dd-4ed5-abf6-cd2b78277599"
      },
      "outputs": [
        {
          "data": {
            "text/plain": [
              "<surprise.prediction_algorithms.matrix_factorization.SVD at 0x1f111d12130>"
            ]
          },
          "execution_count": 149,
          "metadata": {},
          "output_type": "execute_result"
        }
      ],
      "source": [
        "\n",
        "\n",
        "# Assuming `ratings` is a DataFrame with 'userId', 'movieId', and 'rating' columns\n",
        "# Define the rating scale (minimum and maximum ratings)\n",
        "reader = Reader(rating_scale=(0.5, 5.0))\n",
        "\n",
        "# Load the data from the DataFrame into Surprise's format\n",
        "data = Dataset.load_from_df(ratings[['userId', 'movieId', 'rating']], reader)\n",
        "\n",
        "# Split the dataset into training and testing sets (optional)\n",
        "trainset, testset = train_test_split(data, test_size=0.2, random_state=42)\n",
        "\n",
        "# Initialize the SVD model\n",
        "svd_model = SVD()\n",
        "\n",
        "# Fit the model on the training set\n",
        "svd_model.fit(trainset)\n",
        "\n",
        "# Optionally, you can evaluate the model on the test set (not included in the original snippet)\n",
        "# predictions = svd_model.test(testset)\n"
      ]
    },
    {
      "cell_type": "markdown",
      "metadata": {
        "id": "pFMImgN9G2Sp"
      },
      "source": [
        "### Predict Ratings"
      ]
    },
    {
      "cell_type": "code",
      "execution_count": 150,
      "metadata": {
        "id": "QxO8Hd-LG2Sp"
      },
      "outputs": [],
      "source": [
        "# Function to predict ratings for a specific user and movie\n",
        "def predict_rating(user_id, movie_id):\n",
        "    # Use the SVD model to predict the rating\n",
        "    return svd_model.predict(user_id, movie_id).est"
      ]
    },
    {
      "cell_type": "code",
      "execution_count": 151,
      "metadata": {
        "id": "RIOAvYJ2G2Sq"
      },
      "outputs": [],
      "source": [
        "# Function to predict ratings for a given user and a list of movie IDs\n",
        "def predict_ratings_for_movies(user_id, movie_ids):\n",
        "    predicted_ratings = []\n",
        "\n",
        "    # Predict ratings for each movie in the list\n",
        "    for movie_id in movie_ids:\n",
        "        predicted_rating = predict_rating(user_id, movie_id)  # Predicting rating for this user and movie\n",
        "        predicted_ratings.append((movie_id, predicted_rating))\n",
        "\n",
        "    return predicted_ratings"
      ]
    },
    {
      "cell_type": "code",
      "execution_count": 152,
      "metadata": {
        "id": "6ZOluHDLG2Sr"
      },
      "outputs": [],
      "source": [
        "# Function to generate hybrid recommendations for a user based on a seed movie (content + collaborative filtering)\n",
        "def hybrid_recommendation(user_id, movie_id, n=10):\n",
        "    # Get content-based recommendations using TF-IDF (or could be Word2Vec)\n",
        "    content_recommendations = get_recommendations(movie_id, cosine_sim_tfidf, top_n=n)\n",
        "\n",
        "    # Predict ratings for the content-based recommendations using collaborative filtering (SVD model)\n",
        "    predicted_ratings = predict_ratings_for_movies(user_id, content_recommendations)\n",
        "\n",
        "    # Sort the predicted ratings in descending order\n",
        "    predicted_ratings = sorted(predicted_ratings, key=lambda x: x[1], reverse=True)\n",
        "\n",
        "    # Create a DataFrame to store the results\n",
        "    results = []\n",
        "    for movie_id, rating in predicted_ratings[:n]:\n",
        "        # Get the movie title based on the movieId\n",
        "        movie_title = movies[movies['movieId'] == movie_id]['title'].values[0]\n",
        "        results.append({'Movie ID': movie_id, 'Movie Title': movie_title, 'Predicted Rating': rating})\n",
        "\n",
        "    # Convert the results to a pandas DataFrame\n",
        "    recommendations_df = pd.DataFrame(results)\n",
        "\n",
        "    # Display the results vertically\n",
        "    for index, row in recommendations_df.iterrows():\n",
        "        print(f\"\\nRecommendation {index + 1}:\")\n",
        "        print(f\"Movie ID: {row['Movie ID']}\")\n",
        "        print(f\"Movie Title: {row['Movie Title']}\")\n",
        "        print(f\"Predicted Rating: {row['Predicted Rating']:.2f}\")\n",
        "\n",
        "    return recommendations_df  # Optionally return the DataFrame\n",
        "\n"
      ]
    },
    {
      "cell_type": "code",
      "execution_count": 153,
      "metadata": {
        "colab": {
          "base_uri": "https://localhost:8080/"
        },
        "id": "HqG9m6CLG2Sr",
        "outputId": "ed2e4467-63ce-4f40-9cf8-d65ef0cabc3d"
      },
      "outputs": [
        {
          "name": "stdout",
          "output_type": "stream",
          "text": [
            "\n",
            "Recommendation 1:\n",
            "Movie ID: 1104\n",
            "Movie Title: Streetcar Named Desire, A (1951)\n",
            "Predicted Rating: 5.00\n",
            "\n",
            "Recommendation 2:\n",
            "Movie ID: 4993\n",
            "Movie Title: Lord of the Rings: The Fellowship of the Ring, The (2001)\n",
            "Predicted Rating: 4.92\n",
            "\n",
            "Recommendation 3:\n",
            "Movie ID: 971\n",
            "Movie Title: Cat on a Hot Tin Roof (1958)\n",
            "Predicted Rating: 4.53\n",
            "\n",
            "Recommendation 4:\n",
            "Movie ID: 46972\n",
            "Movie Title: Night at the Museum (2006)\n",
            "Predicted Rating: 4.37\n",
            "\n",
            "Recommendation 5:\n",
            "Movie ID: 184471\n",
            "Movie Title: Tomb Raider (2018)\n",
            "Predicted Rating: 4.11\n"
          ]
        }
      ],
      "source": [
        "# usage of the hybrid recommendation function\n",
        "user_id = 1  # Specify the user_id\n",
        "movie_id = 2  # Specify the movie_id (seed movie)\n",
        "n = 5  # Specify the number of recommendations\n",
        "\n",
        "# Getting the top 'n' hybrid recommendations for the user\n",
        "recommendations = hybrid_recommendation(user_id, movie_id, n)"
      ]
    },
    {
      "cell_type": "markdown",
      "metadata": {
        "id": "zNyq6TbIG2Ss"
      },
      "source": [
        "##  Hybrid Recommendation Model"
      ]
    },
    {
      "cell_type": "markdown",
      "metadata": {
        "id": "VYE6dPxZG2Ss"
      },
      "source": [
        "### Combining Content-Based and Collaborative Filtering"
      ]
    },
    {
      "cell_type": "code",
      "execution_count": 154,
      "metadata": {
        "id": "kODVN8iXG2St"
      },
      "outputs": [],
      "source": [
        "# Combining Content-Based and Collaborative Filtering\n",
        "def hybrid_recommendation(user_id, movie_id, top_n=10):\n",
        "    # Getting content-based recommendations\n",
        "    content_recommendations = get_recommendations(movie_id, cosine_sim_tfidf)\n",
        "\n",
        "    # Predicting ratings for content-based recommendations\n",
        "    predicted_ratings = [(movie, predict_rating(user_id, movie)) for movie in content_recommendations]\n",
        "\n",
        "    # Sorting the predicted ratings in descending order\n",
        "    predicted_ratings = sorted(predicted_ratings, key=lambda x: x[1], reverse=True)\n",
        "\n",
        "    # Extracting the top N movie IDs\n",
        "    top_movie_ids = [movie for movie, rating in predicted_ratings[:top_n]]\n",
        "\n",
        "    # Getting the movie names from the movies DataFrame\n",
        "    top_movie_names = movies[movies['movieId'].isin(top_movie_ids)]['title'].tolist()\n",
        "\n",
        "    return top_movie_names  # Returning movie names instead of IDs"
      ]
    },
    {
      "cell_type": "code",
      "execution_count": 155,
      "metadata": {
        "colab": {
          "base_uri": "https://localhost:8080/"
        },
        "id": "NhFWvvBaG2St",
        "outputId": "6312a2e7-c71e-4ec5-bf53-d121951dfb78"
      },
      "outputs": [
        {
          "data": {
            "text/plain": [
              "['Cat on a Hot Tin Roof (1958)',\n",
              " 'Streetcar Named Desire, A (1951)',\n",
              " 'Lord of the Rings: The Fellowship of the Ring, The (2001)',\n",
              " 'Insomnia (2002)',\n",
              " 'Harry Potter and the Chamber of Secrets (2002)',\n",
              " 'Harry Potter and the Prisoner of Azkaban (2004)',\n",
              " 'Harry Potter and the Goblet of Fire (2005)',\n",
              " 'Night at the Museum (2006)']"
            ]
          },
          "execution_count": 155,
          "metadata": {},
          "output_type": "execute_result"
        }
      ],
      "source": [
        "hybrid_recommendation(1,2,8)"
      ]
    },
    {
      "cell_type": "code",
      "execution_count": 156,
      "metadata": {
        "id": "YJLgDeKMG2Su"
      },
      "outputs": [],
      "source": [
        "def get_recommendations(movie_id, cosine_sim_matrix, top_n=10):\n",
        "    # Get the index of the movie in the original DataFrame\n",
        "    idx = tags_grouped.index[tags_grouped['movieId'] == movie_id].tolist()\n",
        "\n",
        "    # Check if the movie_id is in the DataFrame\n",
        "    if not idx:\n",
        "        print(f\"Movie ID {movie_id} not found.\")\n",
        "        return []\n",
        "\n",
        "    idx = idx[0]  # Get the first index if there are multiple matches\n",
        "\n",
        "    # Compute similarity scores and sort them\n",
        "    sim_scores = sorted(enumerate(cosine_sim_matrix[idx]), key=lambda x: x[1], reverse=True)\n",
        "\n",
        "    # Get the indices of the top N similar movies\n",
        "    movie_indices = [i[0] for i in sim_scores[1:top_n + 1]]\n",
        "\n",
        "    # Return movie IDs from the original DataFrame\n",
        "    return tags_grouped['movieId'].iloc[movie_indices].tolist()\n",
        "\n"
      ]
    },
    {
      "cell_type": "code",
      "execution_count": 157,
      "metadata": {
        "id": "xj_4Vx-7G2Su"
      },
      "outputs": [],
      "source": [
        "def compare_recommendations(movie_id, top_n=10):\n",
        "    # Retrieve recommendations for both methods\n",
        "    tfidf_recommendations = get_recommendations(movie_id, cosine_sim_tfidf, top_n)\n",
        "    w2v_recommendations = get_recommendations(movie_id, cosine_sim_w2v, top_n)\n",
        "\n",
        "    # Get index of the input movie for cosine similarity\n",
        "    idx = tags_grouped.index[tags_grouped['movieId'] == movie_id].tolist()\n",
        "\n",
        "    if not idx:\n",
        "        print(f\"Movie ID {movie_id} not found.\")\n",
        "        return None  # Return None if the movie is not found\n",
        "\n",
        "    idx = idx[0]  # Get the first index\n",
        "\n",
        "    # Retrieve the similarity scores for both methods\n",
        "    tfidf_sim_scores = cosine_sim_tfidf[idx]\n",
        "    w2v_sim_scores = cosine_sim_w2v[idx]\n",
        "\n",
        "    # Helper function to retrieve movie title\n",
        "    def get_movie_title(movie_id):\n",
        "        title = movies.loc[movies['movieId'] == movie_id, 'title']\n",
        "        return title.values[0] if not title.empty else \"Unknown\"\n",
        "\n",
        "    # Create lists to store results\n",
        "    results = []\n",
        "\n",
        "    # Collect TF-IDF recommendations\n",
        "    for movie_id in tfidf_recommendations:\n",
        "        movie_index = tags_grouped.index[tags_grouped['movieId'] == movie_id][0]\n",
        "        title = get_movie_title(movie_id)  # Retrieve the movie title\n",
        "        results.append({\n",
        "            'Movie ID': movie_id,\n",
        "            'Movie Title': title,\n",
        "            'TF-IDF Similarity': tfidf_sim_scores[movie_index],\n",
        "            'Word2Vec Similarity': None  # Placeholder\n",
        "        })\n",
        "\n",
        "    # Collect Word2Vec recommendations\n",
        "    for movie_id in w2v_recommendations:\n",
        "        movie_index = tags_grouped.index[tags_grouped['movieId'] == movie_id][0]\n",
        "        title = get_movie_title(movie_id)  # Retrieve the movie title\n",
        "\n",
        "        # Check if movie is already in the results to avoid duplicates\n",
        "        for result in results:\n",
        "            if result['Movie ID'] == movie_id:\n",
        "                result['Word2Vec Similarity'] = w2v_sim_scores[movie_index]\n",
        "                break\n",
        "        else:\n",
        "            results.append({\n",
        "                'Movie ID': movie_id,\n",
        "                'Movie Title': title,\n",
        "                'TF-IDF Similarity': None,  # Placeholder\n",
        "                'Word2Vec Similarity': w2v_sim_scores[movie_index]\n",
        "            })\n",
        "\n",
        "    # Create a DataFrame from the results\n",
        "    recommendations_df = pd.DataFrame(results)\n",
        "\n",
        "    # Return the DataFrame with combined recommendations\n",
        "    return recommendations_df\n"
      ]
    },
    {
      "cell_type": "code",
      "execution_count": 158,
      "metadata": {
        "colab": {
          "base_uri": "https://localhost:8080/"
        },
        "id": "T7Rkw8noG2Sv",
        "outputId": "07fee8bc-5138-4bdb-9cfb-95e250fd482e"
      },
      "outputs": [
        {
          "name": "stdout",
          "output_type": "stream",
          "text": [
            "    Movie ID                                        Movie Title  \\\n",
            "0       2355                               Bug's Life, A (1998)   \n",
            "1       3114                                 Toy Story 2 (1999)   \n",
            "2     122918                   Guardians of the Galaxy 2 (2017)   \n",
            "3      68954                                          Up (2009)   \n",
            "4     115617                                  Big Hero 6 (2014)   \n",
            "5     108932                              The Lego Movie (2014)   \n",
            "6      89745                               Avengers, The (2012)   \n",
            "7        296                                Pulp Fiction (1994)   \n",
            "8          2                                     Jumanji (1995)   \n",
            "9          3                            Grumpier Old Men (1995)   \n",
            "10      8949                                    Sideways (2004)   \n",
            "11      7024  Salo, or The 120 Days of Sodom (Salò o le 120 ...   \n",
            "12      3489                                        Hook (1991)   \n",
            "13      8970                           Finding Neverland (2004)   \n",
            "14      3424                          Do the Right Thing (1989)   \n",
            "15      3988  How the Grinch Stole Christmas (a.k.a. The Gri...   \n",
            "16    118696   The Hobbit: The Battle of the Five Armies (2014)   \n",
            "\n",
            "    TF-IDF Similarity  Word2Vec Similarity  \n",
            "0            0.903249             0.908680  \n",
            "1            0.587623             0.583560  \n",
            "2            0.429116             0.429743  \n",
            "3            0.226407                  NaN  \n",
            "4            0.152890                  NaN  \n",
            "5            0.144996                  NaN  \n",
            "6            0.127264                  NaN  \n",
            "7            0.017636                  NaN  \n",
            "8            0.000000                  NaN  \n",
            "9            0.000000                  NaN  \n",
            "10                NaN             0.323901  \n",
            "11                NaN             0.282865  \n",
            "12                NaN             0.281787  \n",
            "13                NaN             0.281787  \n",
            "14                NaN             0.279306  \n",
            "15                NaN             0.260681  \n",
            "16                NaN             0.252185  \n"
          ]
        }
      ],
      "source": [
        "# Example usage\n",
        "movie_id = 1  # Replace with your desired movie ID\n",
        "recommendations_df = movie_id, top_n=10)\n",
        "print(recommendations_df)\n"
      ]
    },
    {
      "cell_type": "markdown",
      "metadata": {
        "id": "foUkJQd7G2Sv"
      },
      "source": [
        "Highest Similarity Scores:\n",
        "\n",
        "TF-IDF yields a higher cosine similarity score for the top recommendation (0.9032) compared to Word2Vec (0.8798).\n",
        "\n",
        "Both vectorizers produce similar scores for the second movie recommendation, with TF-IDF (0.5876) slightly lower than Word2Vec (0.5987).\n",
        "\n",
        "General Trend:\n",
        "\n",
        "Overall, the TF-IDF method seems to produce higher scores for the top few recommendations. It suggests that TF-IDF might better capture the relevance of the content related to the input movie."
      ]
    },
    {
      "cell_type": "markdown",
      "metadata": {
        "id": "INPe-nq6G2Sw"
      },
      "source": [
        "Conclusion\n",
        "\n",
        "Based on the cosine similarity scores:\n",
        "\n",
        "TF-IDF appears better for the top recommendations as it yields higher scores, particularly for the most similar movie.\n",
        "\n",
        "Word2Vec may be beneficial for capturing the underlying semantics of the tags and generating recommendations in cases where semantic relationships are vital."
      ]
    },
    {
      "cell_type": "markdown",
      "metadata": {
        "id": "yZ35S8q4sn7m"
      },
      "source": [
        "Save the TF-IDF Model"
      ]
    },
    {
      "cell_type": "code",
      "execution_count": 159,
      "metadata": {
        "colab": {
          "base_uri": "https://localhost:8080/"
        },
        "id": "IBNjok9_sf1_",
        "outputId": "fbe7d94f-3a38-47b8-c636-51d7b568066e"
      },
      "outputs": [
        {
          "data": {
            "text/plain": [
              "['tfidf_model.pkl']"
            ]
          },
          "execution_count": 159,
          "metadata": {},
          "output_type": "execute_result"
        }
      ],
      "source": [
        "# Save the trained TF-IDF model\n",
        "joblib.dump(tfidf, 'tfidf_model.pkl')"
      ]
    },
    {
      "cell_type": "markdown",
      "metadata": {
        "id": "gs7xLACDsrVy"
      },
      "source": [
        "Save the Word2Vec Model"
      ]
    },
    {
      "cell_type": "code",
      "execution_count": 160,
      "metadata": {
        "id": "mqDBp12hsfys"
      },
      "outputs": [],
      "source": [
        "# Save the Word2Vec model\n",
        "model.save(\"word2vec_model.model\")"
      ]
    },
    {
      "cell_type": "markdown",
      "metadata": {
        "id": "IPTyHQHNsxbC"
      },
      "source": [
        "Save the SVD Model (Collaborative Filtering)"
      ]
    },
    {
      "cell_type": "code",
      "execution_count": 161,
      "metadata": {
        "colab": {
          "base_uri": "https://localhost:8080/"
        },
        "id": "f_l71yLbsfri",
        "outputId": "36eb21d8-2efe-4904-fa9d-9e99e99cb8a6"
      },
      "outputs": [
        {
          "data": {
            "text/plain": [
              "['svd_model.pkl']"
            ]
          },
          "execution_count": 161,
          "metadata": {},
          "output_type": "execute_result"
        }
      ],
      "source": [
        "# Save the SVD model\n",
        "joblib.dump(svd_model, 'svd_model.pkl')"
      ]
    }
  ],
  "metadata": {
    "accelerator": "GPU",
    "colab": {
      "gpuType": "T4",
      "provenance": [],
      "toc_visible": true
    },
    "kernelspec": {
      "display_name": "Python 3",
      "name": "python3"
    },
    "language_info": {
      "codemirror_mode": {
        "name": "ipython",
        "version": 3
      },
      "file_extension": ".py",
      "mimetype": "text/x-python",
      "name": "python",
      "nbconvert_exporter": "python",
      "pygments_lexer": "ipython3",
      "version": "3.8.5"
    }
  },
  "nbformat": 4,
  "nbformat_minor": 0
}
