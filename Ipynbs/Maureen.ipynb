{
 "cells": [
  {
   "cell_type": "markdown",
   "metadata": {},
   "source": [
    "## Business Understanding"
   ]
  },
  {
   "cell_type": "markdown",
   "metadata": {},
   "source": [
    "## Data Understanding"
   ]
  },
  {
   "cell_type": "markdown",
   "metadata": {},
   "source": [
    "### Inspect Basic Information"
   ]
  },
  {
   "cell_type": "code",
   "execution_count": 2,
   "metadata": {},
   "outputs": [
    {
     "name": "stdout",
     "output_type": "stream",
     "text": [
      "Basic Info for Ratings\n",
      "   userId  movieId  rating  timestamp\n",
      "0       1        1     4.0  964982703\n",
      "1       1        3     4.0  964981247\n",
      "2       1        6     4.0  964982224\n",
      "3       1       47     5.0  964983815\n",
      "4       1       50     5.0  964982931\n",
      "Ratings Data: (100836, 4) rows, ['userId', 'movieId', 'rating', 'timestamp'] columns\n",
      "\n",
      "Basic Info for Movies\n",
      "   movieId                               title  \\\n",
      "0        1                    Toy Story (1995)   \n",
      "1        2                      Jumanji (1995)   \n",
      "2        3             Grumpier Old Men (1995)   \n",
      "3        4            Waiting to Exhale (1995)   \n",
      "4        5  Father of the Bride Part II (1995)   \n",
      "\n",
      "                                        genres  \n",
      "0  Adventure|Animation|Children|Comedy|Fantasy  \n",
      "1                   Adventure|Children|Fantasy  \n",
      "2                               Comedy|Romance  \n",
      "3                         Comedy|Drama|Romance  \n",
      "4                                       Comedy  \n",
      "Movies Data: (9742, 3) rows, ['movieId', 'title', 'genres'] columns\n",
      "\n",
      "Basic Info for Tags\n",
      "   userId  movieId              tag   timestamp\n",
      "0       2    60756            funny  1445714994\n",
      "1       2    60756  Highly quotable  1445714996\n",
      "2       2    60756     will ferrell  1445714992\n",
      "3       2    89774     Boxing story  1445715207\n",
      "4       2    89774              MMA  1445715200\n",
      "Tags Data: (3683, 4) rows, ['userId', 'movieId', 'tag', 'timestamp'] columns\n",
      "\n",
      "Basic Info for Links\n",
      "   movieId  imdbId   tmdbId\n",
      "0        1  114709    862.0\n",
      "1        2  113497   8844.0\n",
      "2        3  113228  15602.0\n",
      "3        4  114885  31357.0\n",
      "4        5  113041  11862.0\n",
      "Links Data: (9742, 3) rows, ['movieId', 'imdbId', 'tmdbId'] columns\n"
     ]
    }
   ],
   "source": [
    "import pandas as pd\n",
    "\n",
    "# Load datasets using your local paths\n",
    "ratings_df = pd.read_csv(r'C:\\Users\\MNJOROGE16\\Desktop\\Moringa\\phase_4\\ph4_project\\Movie-Recommendation-System-Group_12-Project\\Data\\ml-latest-small\\ratings.csv')\n",
    "movies_df = pd.read_csv(r'C:\\Users\\MNJOROGE16\\Desktop\\Moringa\\phase_4\\ph4_project\\Movie-Recommendation-System-Group_12-Project\\Data\\ml-latest-small\\movies.csv')\n",
    "tags_df = pd.read_csv(r'C:\\Users\\MNJOROGE16\\Desktop\\Moringa\\phase_4\\ph4_project\\Movie-Recommendation-System-Group_12-Project\\Data\\ml-latest-small\\tags.csv')\n",
    "links_df = pd.read_csv(r'C:\\Users\\MNJOROGE16\\Desktop\\Moringa\\phase_4\\ph4_project\\Movie-Recommendation-System-Group_12-Project\\Data\\ml-latest-small\\links.csv')\n",
    "\n",
    "# Inspect Basic Information\n",
    "def inspect_basic_info():\n",
    "    print(\"Basic Info for Ratings\")\n",
    "    print(ratings_df.head())  # Display the first few rows of the ratings dataset\n",
    "    print(f\"Ratings Data: {ratings_df.shape} rows, {ratings_df.columns.tolist()} columns\")  # Number of rows/columns\n",
    "    \n",
    "    print(\"\\nBasic Info for Movies\")\n",
    "    print(movies_df.head())  # Display the first few rows of the movies dataset\n",
    "    print(f\"Movies Data: {movies_df.shape} rows, {movies_df.columns.tolist()} columns\")\n",
    "    \n",
    "    print(\"\\nBasic Info for Tags\")\n",
    "    print(tags_df.head())  # Display the first few rows of the tags dataset\n",
    "    print(f\"Tags Data: {tags_df.shape} rows, {tags_df.columns.tolist()} columns\")\n",
    "    \n",
    "    print(\"\\nBasic Info for Links\")\n",
    "    print(links_df.head())  # Display the first few rows of the links dataset\n",
    "    print(f\"Links Data: {links_df.shape} rows, {links_df.columns.tolist()} columns\")\n",
    "\n",
    "inspect_basic_info()\n"
   ]
  },
  {
   "cell_type": "markdown",
   "metadata": {},
   "source": [
    "#### Output Interpretation - Inspect Basic Information \n"
   ]
  },
  {
   "cell_type": "markdown",
   "metadata": {},
   "source": [
    "### Ratings Overview"
   ]
  },
  {
   "cell_type": "code",
   "execution_count": 3,
   "metadata": {},
   "outputs": [
    {
     "name": "stdout",
     "output_type": "stream",
     "text": [
      "\n",
      "Number of unique users: 610\n",
      "Number of unique movies rated: 9724\n",
      "Ratings distribution:\n",
      "0.5     1370\n",
      "1.0     2811\n",
      "1.5     1791\n",
      "2.0     7551\n",
      "2.5     5550\n",
      "3.0    20047\n",
      "3.5    13136\n",
      "4.0    26818\n",
      "4.5     8551\n",
      "5.0    13211\n",
      "Name: rating, dtype: int64\n"
     ]
    }
   ],
   "source": [
    "# Ratings Overview\n",
    "num_users = ratings_df['userId'].nunique()  # Number of unique users\n",
    "num_movies = ratings_df['movieId'].nunique()  # Number of unique movies rated\n",
    "ratings_distribution = ratings_df['rating'].value_counts().sort_index()  # Distribution of ratings (1-5 stars)\n",
    "\n",
    "print(f\"\\nNumber of unique users: {num_users}\")\n",
    "print(f\"Number of unique movies rated: {num_movies}\")\n",
    "print(\"Ratings distribution:\")\n",
    "print(ratings_distribution)\n"
   ]
  },
  {
   "cell_type": "markdown",
   "metadata": {},
   "source": [
    "#### Output Interpretation - Ratings Overview"
   ]
  },
  {
   "cell_type": "markdown",
   "metadata": {},
   "source": [
    "### Movies Overview"
   ]
  },
  {
   "cell_type": "code",
   "execution_count": 4,
   "metadata": {},
   "outputs": [
    {
     "name": "stdout",
     "output_type": "stream",
     "text": [
      "\n",
      "Number of unique movies: 9742\n",
      "Genres distribution (top 10):\n",
      "Drama                   1053\n",
      "Comedy                   946\n",
      "Comedy|Drama             435\n",
      "Comedy|Romance           363\n",
      "Drama|Romance            349\n",
      "Documentary              339\n",
      "Comedy|Drama|Romance     276\n",
      "Drama|Thriller           168\n",
      "Horror                   167\n",
      "Horror|Thriller          135\n",
      "Name: genres, dtype: int64\n"
     ]
    }
   ],
   "source": [
    "# Movies Overview\n",
    "num_unique_movies = movies_df['movieId'].nunique()  # Number of unique movies\n",
    "genres_distribution = movies_df['genres'].value_counts()  # Count of each genre\n",
    "\n",
    "print(f\"\\nNumber of unique movies: {num_unique_movies}\")\n",
    "print(\"Genres distribution (top 10):\")\n",
    "print(genres_distribution.head(10))  # Top 10 most common genres\n"
   ]
  },
  {
   "cell_type": "markdown",
   "metadata": {},
   "source": [
    "#### Output Interpretation - Movies Overview"
   ]
  },
  {
   "cell_type": "markdown",
   "metadata": {},
   "source": [
    "### Tags Overview"
   ]
  },
  {
   "cell_type": "code",
   "execution_count": 5,
   "metadata": {},
   "outputs": [
    {
     "name": "stdout",
     "output_type": "stream",
     "text": [
      "\n",
      "Number of tags applied: 3683\n"
     ]
    }
   ],
   "source": [
    "# Tags Overview\n",
    "num_tags = tags_df.shape[0]  # Total number of tags applied\n",
    "print(f\"\\nNumber of tags applied: {num_tags}\")\n"
   ]
  },
  {
   "cell_type": "markdown",
   "metadata": {},
   "source": [
    "#### Output Interpretation - Tags Overview"
   ]
  },
  {
   "cell_type": "markdown",
   "metadata": {},
   "source": [
    "### Links Overview"
   ]
  },
  {
   "cell_type": "code",
   "execution_count": 6,
   "metadata": {},
   "outputs": [
    {
     "name": "stdout",
     "output_type": "stream",
     "text": [
      "\n",
      "Missing data in Links:\n",
      "movieId    0\n",
      "imdbId     0\n",
      "tmdbId     8\n",
      "dtype: int64\n"
     ]
    }
   ],
   "source": [
    "# Links Overview\n",
    "missing_links = links_df.isnull().sum()  # Count of missing values in the links dataset\n",
    "print(\"\\nMissing data in Links:\")\n",
    "print(missing_links)\n"
   ]
  },
  {
   "cell_type": "markdown",
   "metadata": {},
   "source": [
    "#### Output Interpretation - Links Overview"
   ]
  },
  {
   "cell_type": "markdown",
   "metadata": {},
   "source": [
    "### Exploring Data Distributions"
   ]
  },
  {
   "cell_type": "code",
   "execution_count": 7,
   "metadata": {},
   "outputs": [
    {
     "data": {
      "image/png": "[encoded data removed]",
      "text/plain": [
       "<Figure size 576x432 with 1 Axes>"
      ]
     },
     "metadata": {
      "needs_background": "light"
     },
     "output_type": "display_data"
    },
    {
     "name": "stdout",
     "output_type": "stream",
     "text": [
      "\n",
      "Average number of ratings per user: 165.30491803278687\n",
      "Average number of ratings per movie: 10.369806663924312\n"
     ]
    }
   ],
   "source": [
    "import matplotlib.pyplot as plt\n",
    "\n",
    "# Ratings Distribution Histogram\n",
    "plt.figure(figsize=(8,6))\n",
    "ratings_df['rating'].hist(bins=10, edgecolor='black')  # Plot a histogram of ratings\n",
    "plt.title('Ratings Distribution')\n",
    "plt.xlabel('Rating')\n",
    "plt.ylabel('Frequency')\n",
    "plt.show()\n",
    "\n",
    "# Average number of ratings per user\n",
    "user_activity = ratings_df.groupby('userId')['rating'].count()  # Count of ratings per user\n",
    "print(f\"\\nAverage number of ratings per user: {user_activity.mean()}\")\n",
    "\n",
    "# Average number of ratings per movie\n",
    "movie_popularity = ratings_df.groupby('movieId')['rating'].count()  # Count of ratings per movie\n",
    "print(f\"Average number of ratings per movie: {movie_popularity.mean()}\")\n"
   ]
  },
  {
   "cell_type": "markdown",
   "metadata": {},
   "source": [
    "#### Output Interpretation - Data Distributions "
   ]
  },
  {
   "cell_type": "markdown",
   "metadata": {},
   "source": [
    "### Check for Missing Data and Duplicates"
   ]
  },
  {
   "cell_type": "code",
   "execution_count": 8,
   "metadata": {},
   "outputs": [
    {
     "name": "stdout",
     "output_type": "stream",
     "text": [
      "\n",
      "Missing Values:\n",
      "Ratings missing values:\n",
      " userId       0\n",
      "movieId      0\n",
      "rating       0\n",
      "timestamp    0\n",
      "dtype: int64\n",
      "Movies missing values:\n",
      " movieId    0\n",
      "title      0\n",
      "genres     0\n",
      "dtype: int64\n",
      "Tags missing values:\n",
      " userId       0\n",
      "movieId      0\n",
      "tag          0\n",
      "timestamp    0\n",
      "dtype: int64\n",
      "Links missing values:\n",
      " movieId    0\n",
      "imdbId     0\n",
      "tmdbId     8\n",
      "dtype: int64\n",
      "\n",
      "Duplicate Values:\n",
      "Ratings duplicates: 0\n",
      "Movies duplicates: 0\n",
      "Tags duplicates: 0\n",
      "Links duplicates: 0\n"
     ]
    }
   ],
   "source": [
    "# Check for Missing Data and Duplicates\n",
    "def check_missing_and_duplicates():\n",
    "    print(\"\\nMissing Values:\")\n",
    "    print(\"Ratings missing values:\\n\", ratings_df.isnull().sum())  # Check missing values in ratings dataset\n",
    "    print(\"Movies missing values:\\n\", movies_df.isnull().sum())  # Check missing values in movies dataset\n",
    "    print(\"Tags missing values:\\n\", tags_df.isnull().sum())  # Check missing values in tags dataset\n",
    "    print(\"Links missing values:\\n\", links_df.isnull().sum())  # Check missing values in links dataset\n",
    "\n",
    "    print(\"\\nDuplicate Values:\")\n",
    "    print(\"Ratings duplicates:\", ratings_df.duplicated().sum())  # Check duplicates in ratings dataset\n",
    "    print(\"Movies duplicates:\", movies_df.duplicated().sum())  # Check duplicates in movies dataset\n",
    "    print(\"Tags duplicates:\", tags_df.duplicated().sum())  # Check duplicates in tags dataset\n",
    "    print(\"Links duplicates:\", links_df.duplicated().sum())  # Check duplicates in links dataset\n",
    "\n",
    "check_missing_and_duplicates()\n"
   ]
  },
  {
   "cell_type": "markdown",
   "metadata": {},
   "source": [
    "#### Output Interpretation - Missing Data and Duplicates"
   ]
  },
  {
   "cell_type": "markdown",
   "metadata": {},
   "source": [
    "### Time-Based Exploration"
   ]
  },
  {
   "cell_type": "code",
   "execution_count": 9,
   "metadata": {},
   "outputs": [
    {
     "data": {
      "image/png": "[encoded data removed]",
      "text/plain": [
       "<Figure size 720x432 with 1 Axes>"
      ]
     },
     "metadata": {
      "needs_background": "light"
     },
     "output_type": "display_data"
    }
   ],
   "source": [
    "# Convert timestamp and analyze activity over time\n",
    "ratings_df['timestamp'] = pd.to_datetime(ratings_df['timestamp'], unit='s')  # Convert timestamp to datetime\n",
    "ratings_df['year'] = ratings_df['timestamp'].dt.year  # Extract year from timestamp\n",
    "\n",
    "plt.figure(figsize=(10,6))\n",
    "ratings_df['year'].value_counts().sort_index().plot(kind='bar')  # Plot a bar chart of ratings by year\n",
    "plt.title('Number of Ratings Over Time (by Year)')\n",
    "plt.xlabel('Year')\n",
    "plt.ylabel('Number of Ratings')\n",
    "plt.show()\n"
   ]
  },
  {
   "cell_type": "markdown",
   "metadata": {},
   "source": [
    "#### Output Interpretation - Time-based Exploration"
   ]
  },
  {
   "cell_type": "markdown",
   "metadata": {},
   "source": [
    "### Descriptive Statistics"
   ]
  },
  {
   "cell_type": "code",
   "execution_count": 10,
   "metadata": {},
   "outputs": [
    {
     "name": "stdout",
     "output_type": "stream",
     "text": [
      "\n",
      "Descriptive Statistics for Ratings:\n",
      "count    100836.000000\n",
      "mean          3.501557\n",
      "std           1.042529\n",
      "min           0.500000\n",
      "25%           3.000000\n",
      "50%           3.500000\n",
      "75%           4.000000\n",
      "max           5.000000\n",
      "Name: rating, dtype: float64\n"
     ]
    }
   ],
   "source": [
    "# Descriptive Statistics for Ratings\n",
    "print(\"\\nDescriptive Statistics for Ratings:\")\n",
    "print(ratings_df['rating'].describe())  # Generate basic statistics like mean, min, max for ratings\n"
   ]
  },
  {
   "cell_type": "markdown",
   "metadata": {},
   "source": [
    "#### Output Interpretation - Descriptive Statistics"
   ]
  },
  {
   "cell_type": "markdown",
   "metadata": {},
   "source": [
    "### Data Relationships"
   ]
  },
  {
   "cell_type": "code",
   "execution_count": 11,
   "metadata": {},
   "outputs": [
    {
     "name": "stdout",
     "output_type": "stream",
     "text": [
      "\n",
      "User-item matrix shape: (610, 9724)\n"
     ]
    }
   ],
   "source": [
    "# Create user-item matrix\n",
    "user_item_matrix = ratings_df.pivot_table(index='userId', columns='movieId', values='rating')  # Create user-item matrix\n",
    "print(\"\\nUser-item matrix shape:\", user_item_matrix.shape)"
   ]
  },
  {
   "cell_type": "markdown",
   "metadata": {},
   "source": [
    "#### Output Interpretation - Data Relationships"
   ]
  },
  {
   "cell_type": "markdown",
   "metadata": {},
   "source": [
    "## Data Preparation"
   ]
  },
  {
   "cell_type": "markdown",
   "metadata": {},
   "source": [
    "### Handling Missing Data"
   ]
  },
  {
   "cell_type": "markdown",
   "metadata": {},
   "source": [
    "# Modeling "
   ]
  },
  {
   "cell_type": "markdown",
   "metadata": {},
   "source": [
    "# Evaluation"
   ]
  },
  {
   "cell_type": "markdown",
   "metadata": {},
   "source": [
    "# Deployment"
   ]
  }
 ],
 "metadata": {
  "kernelspec": {
   "display_name": "learn-env",
   "language": "python",
   "name": "python3"
  },
  "language_info": {
   "codemirror_mode": {
    "name": "ipython",
    "version": 3
   },
   "file_extension": ".py",
   "mimetype": "text/x-python",
   "name": "python",
   "nbconvert_exporter": "python",
   "pygments_lexer": "ipython3",
   "version": "3.8.5"
  }
 },
 "nbformat": 4,
 "nbformat_minor": 2
}
