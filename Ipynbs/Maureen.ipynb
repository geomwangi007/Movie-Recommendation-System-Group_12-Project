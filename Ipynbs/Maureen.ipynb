{
 "cells": [
  {
   "cell_type": "markdown",
   "metadata": {},
   "source": [
    "## Business Understanding"
   ]
  },
  {
   "cell_type": "markdown",
   "metadata": {},
   "source": [
    "## Data Understanding"
   ]
  },
  {
   "cell_type": "markdown",
   "metadata": {},
   "source": [
    "### Inspect Basic Information"
   ]
  },
  {
   "cell_type": "code",
   "execution_count": 2,
   "metadata": {},
   "outputs": [
    {
     "name": "stdout",
     "output_type": "stream",
     "text": [
      "Basic Info for Ratings\n",
      "   userId  movieId  rating  timestamp\n",
      "0       1        1     4.0  964982703\n",
      "1       1        3     4.0  964981247\n",
      "2       1        6     4.0  964982224\n",
      "3       1       47     5.0  964983815\n",
      "4       1       50     5.0  964982931\n",
      "Ratings Data: (100836, 4) rows, ['userId', 'movieId', 'rating', 'timestamp'] columns\n",
      "\n",
      "Basic Info for Movies\n",
      "   movieId                               title  \\\n",
      "0        1                    Toy Story (1995)   \n",
      "1        2                      Jumanji (1995)   \n",
      "2        3             Grumpier Old Men (1995)   \n",
      "3        4            Waiting to Exhale (1995)   \n",
      "4        5  Father of the Bride Part II (1995)   \n",
      "\n",
      "                                        genres  \n",
      "0  Adventure|Animation|Children|Comedy|Fantasy  \n",
      "1                   Adventure|Children|Fantasy  \n",
      "2                               Comedy|Romance  \n",
      "3                         Comedy|Drama|Romance  \n",
      "4                                       Comedy  \n",
      "Movies Data: (9742, 3) rows, ['movieId', 'title', 'genres'] columns\n",
      "\n",
      "Basic Info for Tags\n",
      "   userId  movieId              tag   timestamp\n",
      "0       2    60756            funny  1445714994\n",
      "1       2    60756  Highly quotable  1445714996\n",
      "2       2    60756     will ferrell  1445714992\n",
      "3       2    89774     Boxing story  1445715207\n",
      "4       2    89774              MMA  1445715200\n",
      "Tags Data: (3683, 4) rows, ['userId', 'movieId', 'tag', 'timestamp'] columns\n",
      "\n",
      "Basic Info for Links\n",
      "   movieId  imdbId   tmdbId\n",
      "0        1  114709    862.0\n",
      "1        2  113497   8844.0\n",
      "2        3  113228  15602.0\n",
      "3        4  114885  31357.0\n",
      "4        5  113041  11862.0\n",
      "Links Data: (9742, 3) rows, ['movieId', 'imdbId', 'tmdbId'] columns\n"
     ]
    }
   ],
   "source": [
    "import pandas as pd\n",
    "\n",
    "# Load datasets using your local paths\n",
    "ratings_df = pd.read_csv(r'C:\\Users\\MNJOROGE16\\Desktop\\Moringa\\phase_4\\ph4_project\\Movie-Recommendation-System-Group_12-Project\\Data\\ml-latest-small\\ratings.csv')\n",
    "movies_df = pd.read_csv(r'C:\\Users\\MNJOROGE16\\Desktop\\Moringa\\phase_4\\ph4_project\\Movie-Recommendation-System-Group_12-Project\\Data\\ml-latest-small\\movies.csv')\n",
    "tags_df = pd.read_csv(r'C:\\Users\\MNJOROGE16\\Desktop\\Moringa\\phase_4\\ph4_project\\Movie-Recommendation-System-Group_12-Project\\Data\\ml-latest-small\\tags.csv')\n",
    "links_df = pd.read_csv(r'C:\\Users\\MNJOROGE16\\Desktop\\Moringa\\phase_4\\ph4_project\\Movie-Recommendation-System-Group_12-Project\\Data\\ml-latest-small\\links.csv')\n",
    "\n",
    "# Inspect Basic Information\n",
    "def inspect_basic_info():\n",
    "    print(\"Basic Info for Ratings\")\n",
    "    print(ratings_df.head())  # Display the first few rows of the ratings dataset\n",
    "    print(f\"Ratings Data: {ratings_df.shape} rows, {ratings_df.columns.tolist()} columns\")  # Number of rows/columns\n",
    "    \n",
    "    print(\"\\nBasic Info for Movies\")\n",
    "    print(movies_df.head())  # Display the first few rows of the movies dataset\n",
    "    print(f\"Movies Data: {movies_df.shape} rows, {movies_df.columns.tolist()} columns\")\n",
    "    \n",
    "    print(\"\\nBasic Info for Tags\")\n",
    "    print(tags_df.head())  # Display the first few rows of the tags dataset\n",
    "    print(f\"Tags Data: {tags_df.shape} rows, {tags_df.columns.tolist()} columns\")\n",
    "    \n",
    "    print(\"\\nBasic Info for Links\")\n",
    "    print(links_df.head())  # Display the first few rows of the links dataset\n",
    "    print(f\"Links Data: {links_df.shape} rows, {links_df.columns.tolist()} columns\")\n",
    "\n",
    "inspect_basic_info()\n"
   ]
  },
  {
   "cell_type": "markdown",
   "metadata": {},
   "source": [
    "#### Output Interpretation - Inspect Basic Information \n"
   ]
  },
  {
   "cell_type": "markdown",
   "metadata": {},
   "source": [
    "\n",
    "**Ratings Data set**\n",
    "\n",
    "This dataset has 100,836 rows and 4 columns\n",
    "\n",
    "Columns:\n",
    "\n",
    "userId: The ID of the user.\n",
    "\n",
    "movieId: The ID of the movie that was rated.\n",
    "\n",
    "rating: The rating given by the user, on a scale of 0.5 to 5.0 stars.\n",
    "\n",
    "timestamp: The time at which the rating was made (as a Unix timestamp)\n",
    "\n",
    "**Movies Dataset**\n",
    "\n",
    "This dataset contains 9,742 rows and 3 columns.\n",
    "\n",
    "Columns:\n",
    "\n",
    "movieId: The unique ID for each movie.\n",
    "\n",
    "title: The title of the movie along with the release year (in parentheses).\n",
    "\n",
    "genres: The genres associated with the movie, separated by a pipe | symbol.\n",
    "\n",
    "**Tags Dataset**\n",
    "\n",
    "This dataset has 3,683 rows and 4 columns.\n",
    "\n",
    "columns:\n",
    "\n",
    "userId: The ID of the user who applied the tag.\n",
    "\n",
    "movieId: The ID of the movie being tagged.\n",
    "\n",
    "tag: A free-text tag applied to the movie.\n",
    "\n",
    "timestamp: The time at which the tag was applied (as a Unix timestamp).\n",
    "\n",
    "**Links Dataset**\n",
    "\n",
    "This dataset contains 9,742 rows and 3 columns.\n",
    "\n",
    "Columns:\n",
    "\n",
    "movieId: The MovieLens movie ID.\n",
    "\n",
    "imdbId: The corresponding IMDb ID for the movie.\n",
    "\n",
    "tmdbId: The corresponding TMDb (The Movie Database) ID for the movie."
   ]
  },
  {
   "cell_type": "code",
   "execution_count": 20,
   "metadata": {},
   "outputs": [
    {
     "name": "stdout",
     "output_type": "stream",
     "text": [
      "\n",
      "Number of unique users: 610\n",
      "Number of unique movies rated: 9724\n",
      "Ratings distribution:\n",
      "0.5     1370\n",
      "1.0     2811\n",
      "1.5     1791\n",
      "2.0     7551\n",
      "2.5     5550\n",
      "3.0    20047\n",
      "3.5    13136\n",
      "4.0    26818\n",
      "4.5     8551\n",
      "5.0    13211\n",
      "Name: rating, dtype: int64\n"
     ]
    }
   ],
   "source": [
    "# Ratings Overview\n",
    "num_users = ratings_df['userId'].nunique()  # Number of unique users\n",
    "num_movies = ratings_df['movieId'].nunique()  # Number of unique movies rated\n",
    "ratings_distribution = ratings_df['rating'].value_counts().sort_index()  # Distribution of ratings (1-5 stars)\n",
    "\n",
    "print(f\"\\nNumber of unique users: {num_users}\")\n",
    "print(f\"Number of unique movies rated: {num_movies}\")\n",
    "print(\"Ratings distribution:\")\n",
    "print(ratings_distribution)\n"
   ]
  },
  {
   "cell_type": "markdown",
   "metadata": {},
   "source": [
    "#### Output Interpretation - Ratings Overview\n",
    "\n",
    "**Most Common Ratings**\n",
    "\n",
    "4.0 stars is the most frequent rating with 26,818 occurrences, followed by 3.0 stars with 20,047 occurrences.\n",
    "This suggests that users tend to rate movies on the higher end of the scale.\n",
    "\n",
    "**Higher Ratings Dominate**\n",
    "\n",
    "A significant portion of the ratings is 3 stars and above, indicating that users are more likely to give higher ratings. This could reflect positive sentiment towards the movies they choose to watch.\n",
    "\n",
    "**Fewer Low Ratings**\n",
    "\n",
    "Lower ratings, like 0.5 stars, are relatively rare with only 1,370 ratings. This could indicate that users are more selective with their ratings, and they typically don't give very low scores unless they really dislike a movie.\n",
    "\n",
    "**Balanced Mid-range Ratings**\n",
    "\n",
    "Ratings like 2.0 stars, 2.5 stars, and 3.5 stars also have decent representation, showing that users provide a good mix of mid-range ratings when they feel neutral about a movie."
   ]
  },
  {
   "cell_type": "markdown",
   "metadata": {},
   "source": [
    "### Movies Overview"
   ]
  },
  {
   "cell_type": "code",
   "execution_count": 4,
   "metadata": {},
   "outputs": [
    {
     "name": "stdout",
     "output_type": "stream",
     "text": [
      "\n",
      "Number of unique movies: 9742\n",
      "Genres distribution (top 10):\n",
      "Drama                   1053\n",
      "Comedy                   946\n",
      "Comedy|Drama             435\n",
      "Comedy|Romance           363\n",
      "Drama|Romance            349\n",
      "Documentary              339\n",
      "Comedy|Drama|Romance     276\n",
      "Drama|Thriller           168\n",
      "Horror                   167\n",
      "Horror|Thriller          135\n",
      "Name: genres, dtype: int64\n"
     ]
    }
   ],
   "source": [
    "# Movies Overview\n",
    "num_unique_movies = movies_df['movieId'].nunique()  # Number of unique movies\n",
    "genres_distribution = movies_df['genres'].value_counts()  # Count of each genre\n",
    "\n",
    "print(f\"\\nNumber of unique movies: {num_unique_movies}\")\n",
    "print(\"Genres distribution (top 10):\")\n",
    "print(genres_distribution.head(10))  # Top 10 most common genres\n"
   ]
  },
  {
   "cell_type": "markdown",
   "metadata": {},
   "source": [
    "#### Output Interpretation - Movies Overview\n",
    "\n",
    "**Drama is the Most Common Genre**\n",
    "\n",
    "Drama is the most frequent genre, with 1,053 movies classified as dramas. This indicates that drama movies are highly represented in the dataset and may reflect the popularity of this genre among the movies included.\n",
    "\n",
    "**Comedy is Also Very Common**\n",
    "\n",
    "Comedy is the second most frequent genre with 946 movies. This shows that comedy is also a significant portion of the movie dataset and may be popular among viewers.\n",
    "\n",
    "**Multiple Genre Combinations**\n",
    "\n",
    "Several movies belong to multiple genres, such as Comedy|Drama (435 movies) and Comedy|Romance (363 movies). This suggests that many movies are categorized into more than one genre, which could help provide more nuanced recommendations in a recommendation system.\n",
    "Combinations like Comedy|Drama|Romance (276 movies) reflect more complex genre blending, offering users a wide range of mixed-genre movies.\n",
    "\n",
    "**Niche Genres like Horror**\n",
    "\n",
    "Horror (167 movies) and Horror|Thriller (135 movies) show that while horror movies are not as common as drama or comedy, they are still a notable part of the dataset."
   ]
  },
  {
   "cell_type": "markdown",
   "metadata": {},
   "source": [
    "### Tags Overview"
   ]
  },
  {
   "cell_type": "code",
   "execution_count": 5,
   "metadata": {},
   "outputs": [
    {
     "name": "stdout",
     "output_type": "stream",
     "text": [
      "\n",
      "Number of tags applied: 3683\n"
     ]
    }
   ],
   "source": [
    "# Tags Overview\n",
    "num_tags = tags_df.shape[0]  # Total number of tags applied\n",
    "print(f\"\\nNumber of tags applied: {num_tags}\")\n"
   ]
  },
  {
   "cell_type": "markdown",
   "metadata": {},
   "source": [
    "#### Output Interpretation - Tags Overview\n",
    "\n",
    "3,683 tags have been applied by users to movies in the dataset. Each tag is a word or short phrase that describes some aspect of a movie, typically applied by users to express their thoughts, opinions, or categorize movies in ways beyond the standard genres."
   ]
  },
  {
   "cell_type": "markdown",
   "metadata": {},
   "source": [
    "### Links Overview"
   ]
  },
  {
   "cell_type": "code",
   "execution_count": 6,
   "metadata": {},
   "outputs": [
    {
     "name": "stdout",
     "output_type": "stream",
     "text": [
      "\n",
      "Missing data in Links:\n",
      "movieId    0\n",
      "imdbId     0\n",
      "tmdbId     8\n",
      "dtype: int64\n"
     ]
    }
   ],
   "source": [
    "# Links Overview\n",
    "missing_links = links_df.isnull().sum()  # Count of missing values in the links dataset\n",
    "print(\"\\nMissing data in Links:\")\n",
    "print(missing_links)\n"
   ]
  },
  {
   "cell_type": "markdown",
   "metadata": {},
   "source": [
    "#### Output Interpretation - Links Overview"
   ]
  },
  {
   "cell_type": "markdown",
   "metadata": {},
   "source": [
    "### Exploring Data Distributions"
   ]
  },
  {
   "cell_type": "code",
   "execution_count": 7,
   "metadata": {},
   "outputs": [
    {
     "data": {
      "image/png": "[encoded data removed]",
      "text/plain": [
       "<Figure size 576x432 with 1 Axes>"
      ]
     },
     "metadata": {
      "needs_background": "light"
     },
     "output_type": "display_data"
    },
    {
     "name": "stdout",
     "output_type": "stream",
     "text": [
      "\n",
      "Average number of ratings per user: 165.30491803278687\n",
      "Average number of ratings per movie: 10.369806663924312\n"
     ]
    }
   ],
   "source": [
    "import matplotlib.pyplot as plt\n",
    "\n",
    "# Ratings Distribution Histogram\n",
    "plt.figure(figsize=(8,6))\n",
    "ratings_df['rating'].hist(bins=10, edgecolor='black')  # Plot a histogram of ratings\n",
    "plt.title('Ratings Distribution')\n",
    "plt.xlabel('Rating')\n",
    "plt.ylabel('Frequency')\n",
    "plt.show()\n",
    "\n",
    "# Average number of ratings per user\n",
    "user_activity = ratings_df.groupby('userId')['rating'].count()  # Count of ratings per user\n",
    "print(f\"\\nAverage number of ratings per user: {user_activity.mean()}\")\n",
    "\n",
    "# Average number of ratings per movie\n",
    "movie_popularity = ratings_df.groupby('movieId')['rating'].count()  # Count of ratings per movie\n",
    "print(f\"Average number of ratings per movie: {movie_popularity.mean()}\")\n"
   ]
  },
  {
   "cell_type": "markdown",
   "metadata": {},
   "source": [
    "#### Output Interpretation - Data Distributions "
   ]
  },
  {
   "cell_type": "markdown",
   "metadata": {},
   "source": [
    "### Check for Missing Data and Duplicates"
   ]
  },
  {
   "cell_type": "code",
   "execution_count": 8,
   "metadata": {},
   "outputs": [
    {
     "name": "stdout",
     "output_type": "stream",
     "text": [
      "\n",
      "Missing Values:\n",
      "Ratings missing values:\n",
      " userId       0\n",
      "movieId      0\n",
      "rating       0\n",
      "timestamp    0\n",
      "dtype: int64\n",
      "Movies missing values:\n",
      " movieId    0\n",
      "title      0\n",
      "genres     0\n",
      "dtype: int64\n",
      "Tags missing values:\n",
      " userId       0\n",
      "movieId      0\n",
      "tag          0\n",
      "timestamp    0\n",
      "dtype: int64\n",
      "Links missing values:\n",
      " movieId    0\n",
      "imdbId     0\n",
      "tmdbId     8\n",
      "dtype: int64\n",
      "\n",
      "Duplicate Values:\n",
      "Ratings duplicates: 0\n",
      "Movies duplicates: 0\n",
      "Tags duplicates: 0\n",
      "Links duplicates: 0\n"
     ]
    }
   ],
   "source": [
    "# Check for Missing Data and Duplicates\n",
    "def check_missing_and_duplicates():\n",
    "    print(\"\\nMissing Values:\")\n",
    "    print(\"Ratings missing values:\\n\", ratings_df.isnull().sum())  # Check missing values in ratings dataset\n",
    "    print(\"Movies missing values:\\n\", movies_df.isnull().sum())  # Check missing values in movies dataset\n",
    "    print(\"Tags missing values:\\n\", tags_df.isnull().sum())  # Check missing values in tags dataset\n",
    "    print(\"Links missing values:\\n\", links_df.isnull().sum())  # Check missing values in links dataset\n",
    "\n",
    "    print(\"\\nDuplicate Values:\")\n",
    "    print(\"Ratings duplicates:\", ratings_df.duplicated().sum())  # Check duplicates in ratings dataset\n",
    "    print(\"Movies duplicates:\", movies_df.duplicated().sum())  # Check duplicates in movies dataset\n",
    "    print(\"Tags duplicates:\", tags_df.duplicated().sum())  # Check duplicates in tags dataset\n",
    "    print(\"Links duplicates:\", links_df.duplicated().sum())  # Check duplicates in links dataset\n",
    "\n",
    "check_missing_and_duplicates()\n"
   ]
  },
  {
   "cell_type": "markdown",
   "metadata": {},
   "source": [
    "#### Output Interpretation - Missing Data and Duplicates"
   ]
  },
  {
   "cell_type": "markdown",
   "metadata": {},
   "source": [
    "### Time-Based Exploration"
   ]
  },
  {
   "cell_type": "code",
   "execution_count": 9,
   "metadata": {},
   "outputs": [
    {
     "data": {
      "image/png": "[encoded data removed]",
      "text/plain": [
       "<Figure size 720x432 with 1 Axes>"
      ]
     },
     "metadata": {
      "needs_background": "light"
     },
     "output_type": "display_data"
    }
   ],
   "source": [
    "# Convert timestamp and analyze activity over time\n",
    "ratings_df['timestamp'] = pd.to_datetime(ratings_df['timestamp'], unit='s')  # Convert timestamp to datetime\n",
    "ratings_df['year'] = ratings_df['timestamp'].dt.year  # Extract year from timestamp\n",
    "\n",
    "plt.figure(figsize=(10,6))\n",
    "ratings_df['year'].value_counts().sort_index().plot(kind='bar')  # Plot a bar chart of ratings by year\n",
    "plt.title('Number of Ratings Over Time (by Year)')\n",
    "plt.xlabel('Year')\n",
    "plt.ylabel('Number of Ratings')\n",
    "plt.show()\n"
   ]
  },
  {
   "cell_type": "markdown",
   "metadata": {},
   "source": [
    "#### Output Interpretation - Time-based Exploration"
   ]
  },
  {
   "cell_type": "markdown",
   "metadata": {},
   "source": [
    "### Descriptive Statistics"
   ]
  },
  {
   "cell_type": "code",
   "execution_count": 10,
   "metadata": {},
   "outputs": [
    {
     "name": "stdout",
     "output_type": "stream",
     "text": [
      "\n",
      "Descriptive Statistics for Ratings:\n",
      "count    100836.000000\n",
      "mean          3.501557\n",
      "std           1.042529\n",
      "min           0.500000\n",
      "25%           3.000000\n",
      "50%           3.500000\n",
      "75%           4.000000\n",
      "max           5.000000\n",
      "Name: rating, dtype: float64\n"
     ]
    }
   ],
   "source": [
    "# Descriptive Statistics for Ratings\n",
    "print(\"\\nDescriptive Statistics for Ratings:\")\n",
    "print(ratings_df['rating'].describe())  # Generate basic statistics like mean, min, max for ratings\n"
   ]
  },
  {
   "cell_type": "markdown",
   "metadata": {},
   "source": [
    "#### Output Interpretation - Descriptive Statistics\n",
    "\n",
    "**Ratings Skew Towards the Higher End**\n",
    "\n",
    "The mean and median ratings are both above 3.0, which indicates that users tend to give positive ratings more often than negative ones.\n",
    "75% of the ratings are 4 stars or lower, with the remaining 25% falling between 4 and 5 stars. This reflects a general tendency for users to rate movies favorably.\n",
    "\n",
    "**Low Variability in Ratings**\n",
    "\n",
    "With a standard deviation of 1.04, ratings don't vary wildly. Most ratings fall within the range of 2.5 to 4.5 stars, indicating a more concentrated set of ratings.\n"
   ]
  },
  {
   "cell_type": "markdown",
   "metadata": {},
   "source": [
    "### Data Relationships"
   ]
  },
  {
   "cell_type": "code",
   "execution_count": 11,
   "metadata": {},
   "outputs": [
    {
     "name": "stdout",
     "output_type": "stream",
     "text": [
      "\n",
      "User-item matrix shape: (610, 9724)\n"
     ]
    }
   ],
   "source": [
    "# Create user-item matrix\n",
    "user_item_matrix = ratings_df.pivot_table(index='userId', columns='movieId', values='rating')  # Create user-item matrix\n",
    "print(\"\\nUser-item matrix shape:\", user_item_matrix.shape)"
   ]
  },
  {
   "cell_type": "markdown",
   "metadata": {},
   "source": [
    "#### Output Interpretation - Data Relationships"
   ]
  },
  {
   "cell_type": "markdown",
   "metadata": {},
   "source": [
    "## Data Preparation"
   ]
  },
  {
   "cell_type": "markdown",
   "metadata": {},
   "source": [
    "### Handling Missing Data"
   ]
  },
  {
   "cell_type": "code",
   "execution_count": 12,
   "metadata": {},
   "outputs": [
    {
     "name": "stdout",
     "output_type": "stream",
     "text": [
      "Missing values before cleaning:\n",
      "Ratings missing values:\n",
      " userId       0\n",
      "movieId      0\n",
      "rating       0\n",
      "timestamp    0\n",
      "year         0\n",
      "dtype: int64\n",
      "Movies missing values:\n",
      " movieId    0\n",
      "title      0\n",
      "genres     0\n",
      "dtype: int64\n",
      "Tags missing values:\n",
      " userId       0\n",
      "movieId      0\n",
      "tag          0\n",
      "timestamp    0\n",
      "dtype: int64\n",
      "Links missing values:\n",
      " movieId    0\n",
      "imdbId     0\n",
      "tmdbId     8\n",
      "dtype: int64\n",
      "Missing values after cleaning:\n",
      "Links missing values:\n",
      " movieId    0\n",
      "imdbId     0\n",
      "tmdbId     0\n",
      "dtype: int64\n"
     ]
    }
   ],
   "source": [
    "# Check for missing values\n",
    "print(\"Missing values before cleaning:\")\n",
    "print(\"Ratings missing values:\\n\", ratings_df.isnull().sum())\n",
    "print(\"Movies missing values:\\n\", movies_df.isnull().sum())\n",
    "print(\"Tags missing values:\\n\", tags_df.isnull().sum())\n",
    "print(\"Links missing values:\\n\", links_df.isnull().sum())\n",
    "\n",
    "# Handle missing values\n",
    "# We have a few missing tmdbId values, we will drop those rows\n",
    "links_df_cleaned = links_df.dropna(subset=['tmdbId'])\n",
    "\n",
    "print(\"Missing values after cleaning:\")\n",
    "print(\"Links missing values:\\n\", links_df_cleaned.isnull().sum())\n"
   ]
  },
  {
   "cell_type": "markdown",
   "metadata": {},
   "source": [
    "### Encoding Genres"
   ]
  },
  {
   "cell_type": "code",
   "execution_count": 13,
   "metadata": {},
   "outputs": [
    {
     "name": "stdout",
     "output_type": "stream",
     "text": [
      "   movieId                               title  Adventure  Animation  \\\n",
      "0        1                    Toy Story (1995)        1.0        1.0   \n",
      "1        2                      Jumanji (1995)        1.0        0.0   \n",
      "2        3             Grumpier Old Men (1995)        0.0        0.0   \n",
      "3        4            Waiting to Exhale (1995)        0.0        0.0   \n",
      "4        5  Father of the Bride Part II (1995)        0.0        0.0   \n",
      "\n",
      "   Children  Comedy  Fantasy  Romance  Drama  Action  ...  Horror  Mystery  \\\n",
      "0       1.0     1.0      1.0      0.0    0.0     0.0  ...     0.0      0.0   \n",
      "1       1.0     0.0      1.0      0.0    0.0     0.0  ...     0.0      0.0   \n",
      "2       0.0     1.0      0.0      1.0    0.0     0.0  ...     0.0      0.0   \n",
      "3       0.0     1.0      0.0      1.0    1.0     0.0  ...     0.0      0.0   \n",
      "4       0.0     1.0      0.0      0.0    0.0     0.0  ...     0.0      0.0   \n",
      "\n",
      "   Sci-Fi  War  Musical  Documentary  IMAX  Western  Film-Noir  \\\n",
      "0     0.0  0.0      0.0          0.0   0.0      0.0        0.0   \n",
      "1     0.0  0.0      0.0          0.0   0.0      0.0        0.0   \n",
      "2     0.0  0.0      0.0          0.0   0.0      0.0        0.0   \n",
      "3     0.0  0.0      0.0          0.0   0.0      0.0        0.0   \n",
      "4     0.0  0.0      0.0          0.0   0.0      0.0        0.0   \n",
      "\n",
      "   (no genres listed)  \n",
      "0                 0.0  \n",
      "1                 0.0  \n",
      "2                 0.0  \n",
      "3                 0.0  \n",
      "4                 0.0  \n",
      "\n",
      "[5 rows x 22 columns]\n"
     ]
    }
   ],
   "source": [
    "# Split genres into individual genre columns using one-hot encoding\n",
    "movies_df['genres'] = movies_df['genres'].str.split('|')  # Split genres by '|'\n",
    "\n",
    "# Use get_dummies to one-hot encode the genres\n",
    "genres_df = movies_df['genres'].apply(lambda x: pd.Series(1, index=x)).fillna(0)\n",
    "\n",
    "# Merge the one-hot encoded genres back to the movies dataframe\n",
    "movies_with_genres_df = pd.concat([movies_df[['movieId', 'title']], genres_df], axis=1)\n",
    "\n",
    "print(movies_with_genres_df.head())  # Check the result of the encoding\n"
   ]
  },
  {
   "cell_type": "markdown",
   "metadata": {},
   "source": [
    "### Encoding Tags"
   ]
  },
  {
   "cell_type": "code",
   "execution_count": 14,
   "metadata": {},
   "outputs": [
    {
     "name": "stdout",
     "output_type": "stream",
     "text": [
      "   userId  movieId              tag   timestamp\n",
      "0       2    60756            funny  1445714994\n",
      "1       2    60756  highly quotable  1445714996\n",
      "2       2    60756     will ferrell  1445714992\n",
      "3       2    89774     boxing story  1445715207\n",
      "4       2    89774              mma  1445715200\n"
     ]
    }
   ],
   "source": [
    "# Preprocess tags by converting to lowercase\n",
    "tags_df['tag'] = tags_df['tag'].str.lower()\n",
    "\n",
    "# Optionally, you can use text vectorization techniques like TF-IDF or word embeddings\n",
    "# Here, we simply show the basic text preprocessing\n",
    "print(tags_df.head())\n"
   ]
  },
  {
   "cell_type": "markdown",
   "metadata": {},
   "source": [
    "### Handling Timestamp"
   ]
  },
  {
   "cell_type": "code",
   "execution_count": 15,
   "metadata": {},
   "outputs": [
    {
     "name": "stdout",
     "output_type": "stream",
     "text": [
      "   userId  movieId  rating           timestamp  year  month\n",
      "0       1        1     4.0 2000-07-30 18:45:03  2000      7\n",
      "1       1        3     4.0 2000-07-30 18:20:47  2000      7\n",
      "2       1        6     4.0 2000-07-30 18:37:04  2000      7\n",
      "3       1       47     5.0 2000-07-30 19:03:35  2000      7\n",
      "4       1       50     5.0 2000-07-30 18:48:51  2000      7\n"
     ]
    }
   ],
   "source": [
    "# Convert timestamp in ratings to a datetime format\n",
    "ratings_df['timestamp'] = pd.to_datetime(ratings_df['timestamp'], unit='s')\n",
    "\n",
    "# Create additional time-based features such as year, month, or day if needed\n",
    "ratings_df['year'] = ratings_df['timestamp'].dt.year\n",
    "ratings_df['month'] = ratings_df['timestamp'].dt.month\n",
    "\n",
    "print(ratings_df.head())  # Check the result of the conversion\n"
   ]
  },
  {
   "cell_type": "markdown",
   "metadata": {},
   "source": [
    "### Creating the User-Item Matrix"
   ]
  },
  {
   "cell_type": "code",
   "execution_count": 16,
   "metadata": {},
   "outputs": [
    {
     "name": "stdout",
     "output_type": "stream",
     "text": [
      "movieId  1       2       3       4       5       6       7       8       \\\n",
      "userId                                                                    \n",
      "1           4.0     0.0     4.0     0.0     0.0     4.0     0.0     0.0   \n",
      "2           0.0     0.0     0.0     0.0     0.0     0.0     0.0     0.0   \n",
      "3           0.0     0.0     0.0     0.0     0.0     0.0     0.0     0.0   \n",
      "4           0.0     0.0     0.0     0.0     0.0     0.0     0.0     0.0   \n",
      "5           4.0     0.0     0.0     0.0     0.0     0.0     0.0     0.0   \n",
      "\n",
      "movieId  9       10      ...  193565  193567  193571  193573  193579  193581  \\\n",
      "userId                   ...                                                   \n",
      "1           0.0     0.0  ...     0.0     0.0     0.0     0.0     0.0     0.0   \n",
      "2           0.0     0.0  ...     0.0     0.0     0.0     0.0     0.0     0.0   \n",
      "3           0.0     0.0  ...     0.0     0.0     0.0     0.0     0.0     0.0   \n",
      "4           0.0     0.0  ...     0.0     0.0     0.0     0.0     0.0     0.0   \n",
      "5           0.0     0.0  ...     0.0     0.0     0.0     0.0     0.0     0.0   \n",
      "\n",
      "movieId  193583  193585  193587  193609  \n",
      "userId                                   \n",
      "1           0.0     0.0     0.0     0.0  \n",
      "2           0.0     0.0     0.0     0.0  \n",
      "3           0.0     0.0     0.0     0.0  \n",
      "4           0.0     0.0     0.0     0.0  \n",
      "5           0.0     0.0     0.0     0.0  \n",
      "\n",
      "[5 rows x 9724 columns]\n"
     ]
    }
   ],
   "source": [
    "# Create a user-item matrix for collaborative filtering\n",
    "user_item_matrix = ratings_df.pivot_table(index='userId', columns='movieId', values='rating')\n",
    "\n",
    "# Fill missing values with zeros or NaNs depending on the method you plan to use\n",
    "user_item_matrix_filled = user_item_matrix.fillna(0)  # Fill missing ratings with 0\n",
    "\n",
    "print(user_item_matrix_filled.head())  # Check the result of the matrix\n"
   ]
  },
  {
   "cell_type": "markdown",
   "metadata": {},
   "source": [
    "### Normalizing Ratings"
   ]
  },
  {
   "cell_type": "code",
   "execution_count": 17,
   "metadata": {},
   "outputs": [
    {
     "name": "stdout",
     "output_type": "stream",
     "text": [
      "movieId    1       2         3       4       5         6       7       8       \\\n",
      "userId                                                                          \n",
      "1       -0.366379     NaN -0.366379     NaN     NaN -0.366379     NaN     NaN   \n",
      "2             NaN     NaN       NaN     NaN     NaN       NaN     NaN     NaN   \n",
      "3             NaN     NaN       NaN     NaN     NaN       NaN     NaN     NaN   \n",
      "4             NaN     NaN       NaN     NaN     NaN       NaN     NaN     NaN   \n",
      "5        0.363636     NaN       NaN     NaN     NaN       NaN     NaN     NaN   \n",
      "\n",
      "movieId  9       10      ...  193565  193567  193571  193573  193579  193581  \\\n",
      "userId                   ...                                                   \n",
      "1           NaN     NaN  ...     NaN     NaN     NaN     NaN     NaN     NaN   \n",
      "2           NaN     NaN  ...     NaN     NaN     NaN     NaN     NaN     NaN   \n",
      "3           NaN     NaN  ...     NaN     NaN     NaN     NaN     NaN     NaN   \n",
      "4           NaN     NaN  ...     NaN     NaN     NaN     NaN     NaN     NaN   \n",
      "5           NaN     NaN  ...     NaN     NaN     NaN     NaN     NaN     NaN   \n",
      "\n",
      "movieId  193583  193585  193587  193609  \n",
      "userId                                   \n",
      "1           NaN     NaN     NaN     NaN  \n",
      "2           NaN     NaN     NaN     NaN  \n",
      "3           NaN     NaN     NaN     NaN  \n",
      "4           NaN     NaN     NaN     NaN  \n",
      "5           NaN     NaN     NaN     NaN  \n",
      "\n",
      "[5 rows x 9724 columns]\n"
     ]
    }
   ],
   "source": [
    "# Normalize ratings by subtracting the mean rating for each user\n",
    "user_ratings_mean = user_item_matrix.mean(axis=1)\n",
    "user_item_matrix_normalized = user_item_matrix.sub(user_ratings_mean, axis=0)\n",
    "\n",
    "print(user_item_matrix_normalized.head())  # Check the result of the normalization\n"
   ]
  },
  {
   "cell_type": "markdown",
   "metadata": {},
   "source": [
    "### Splitting Data for Training and Testing"
   ]
  },
  {
   "cell_type": "code",
   "execution_count": 18,
   "metadata": {},
   "outputs": [
    {
     "name": "stdout",
     "output_type": "stream",
     "text": [
      "Training set size: (80668, 6)\n",
      "Testing set size: (20168, 6)\n"
     ]
    }
   ],
   "source": [
    "from sklearn.model_selection import train_test_split\n",
    "\n",
    "# Split ratings into training and testing sets (80% training, 20% testing)\n",
    "train_data, test_data = train_test_split(ratings_df, test_size=0.2, random_state=42)\n",
    "\n",
    "print(f\"Training set size: {train_data.shape}\")\n",
    "print(f\"Testing set size: {test_data.shape}\")\n"
   ]
  },
  {
   "cell_type": "markdown",
   "metadata": {},
   "source": [
    "### Saving Cleaned Data"
   ]
  },
  {
   "cell_type": "code",
   "execution_count": 19,
   "metadata": {},
   "outputs": [
    {
     "name": "stdout",
     "output_type": "stream",
     "text": [
      "Data saved successfully!\n"
     ]
    }
   ],
   "source": [
    "# Save the prepared datasets\n",
    "user_item_matrix_normalized.to_csv('user_item_matrix_normalized.csv', index=True)\n",
    "movies_with_genres_df.to_csv('movies_with_genres.csv', index=False)\n",
    "train_data.to_csv('train_ratings.csv', index=False)\n",
    "test_data.to_csv('test_ratings.csv', index=False)\n",
    "\n",
    "print(\"Data saved successfully!\")\n"
   ]
  },
  {
   "cell_type": "markdown",
   "metadata": {},
   "source": [
    "# Modeling "
   ]
  },
  {
   "cell_type": "markdown",
   "metadata": {},
   "source": [
    "### Collaborative Filtering - Memory-Based Methods"
   ]
  },
  {
   "cell_type": "markdown",
   "metadata": {},
   "source": [
    "#### User-Based Collaborative Filtering\n",
    "\n",
    "In this method, we recommend movies based on users who have similar tastes (users who have rated similar movies similarly)."
   ]
  },
  {
   "cell_type": "code",
   "execution_count": 21,
   "metadata": {},
   "outputs": [
    {
     "name": "stdout",
     "output_type": "stream",
     "text": [
      "Top 5 similar users to user 1: \n",
      "userId\n",
      "301    0.124799\n",
      "597    0.102631\n",
      "414    0.101348\n",
      "477    0.099217\n",
      "57     0.099070\n",
      "Name: 1, dtype: float64\n"
     ]
    }
   ],
   "source": [
    "import pandas as pd\n",
    "from sklearn.metrics.pairwise import cosine_similarity\n",
    "import numpy as np\n",
    "\n",
    "# Load the normalized user-item matrix\n",
    "user_item_matrix = pd.read_csv(r'C:\\Users\\MNJOROGE16\\Desktop\\Moringa\\phase_4\\ph4_project\\Movie-Recommendation-System-Group_12-Project\\Ipynbs\\user_item_matrix_normalized.csv', index_col=0)\n",
    "\n",
    "# Compute the user-user similarity matrix using cosine similarity\n",
    "user_similarity = cosine_similarity(user_item_matrix.fillna(0))\n",
    "\n",
    "# Convert into a DataFrame for easier manipulation\n",
    "user_similarity_df = pd.DataFrame(user_similarity, index=user_item_matrix.index, columns=user_item_matrix.index)\n",
    "\n",
    "# Function to get top N similar users\n",
    "def get_similar_users(user_id, n=5):\n",
    "    # Get the similarity scores for the user and sort them in descending order\n",
    "    similar_users = user_similarity_df[user_id].sort_values(ascending=False)[1:n+1]\n",
    "    return similar_users\n",
    "\n",
    "# Example: Get top 5 similar users to user 1\n",
    "print(f\"Top 5 similar users to user 1: \\n{get_similar_users(1)}\")\n"
   ]
  },
  {
   "cell_type": "markdown",
   "metadata": {},
   "source": [
    "##### Output Interpretation\n",
    "\n",
    "* Similarity Scores: These values represent the cosine similarity scores between user 1 and the other users.\n",
    "\n",
    "* User 301 is the most similar to user 1, with a similarity score of 0.1248. This means that user 301 has rated movies in a similar way to user 1.\n",
    "\n",
    "* The other users (597, 414, 477, and 57) also have moderately high similarity scores with user 1.\n",
    "\n",
    "* Based on these similarity scores, you could recommend movies that these users (301, 597, etc.) have rated highly but user 1 hasn't seen."
   ]
  },
  {
   "cell_type": "markdown",
   "metadata": {},
   "source": [
    "#### Item-Based Collaborative Filtering\n",
    "\n",
    "In this method, we recommend movies that are similar to movies a user has liked (items rated highly by other users who rated the same movie similarly)."
   ]
  },
  {
   "cell_type": "code",
   "execution_count": 23,
   "metadata": {},
   "outputs": [
    {
     "name": "stdout",
     "output_type": "stream",
     "text": [
      "Index(['1', '2', '3', '4', '5', '6', '7', '8', '9', '10',\n",
      "       ...\n",
      "       '193565', '193567', '193571', '193573', '193579', '193581', '193583',\n",
      "       '193585', '193587', '193609'],\n",
      "      dtype='object', length=9724)\n",
      "Index(['1', '2', '3', '4', '5', '6', '7', '8', '9', '10',\n",
      "       ...\n",
      "       '193565', '193567', '193571', '193573', '193579', '193581', '193583',\n",
      "       '193585', '193587', '193609'],\n",
      "      dtype='object', length=9724)\n"
     ]
    }
   ],
   "source": [
    "# Check the data type of the movieId index in item_similarity_df\n",
    "print(item_similarity_df.index)\n",
    "print(item_similarity_df.columns)\n",
    "\n"
   ]
  },
  {
   "cell_type": "code",
   "execution_count": 24,
   "metadata": {},
   "outputs": [
    {
     "name": "stdout",
     "output_type": "stream",
     "text": [
      "Top 5 similar movies to movie 1: \n",
      "3114     0.403412\n",
      "78499    0.327474\n",
      "588      0.327244\n",
      "1148     0.305479\n",
      "1270     0.276880\n",
      "Name: 1, dtype: float64\n"
     ]
    }
   ],
   "source": [
    "# Function to get top N similar items (movies)\n",
    "def get_similar_movies(movie_id, n=5):\n",
    "    # Convert movie_id to string since the index and columns are strings\n",
    "    movie_id = str(movie_id)  # Convert to string if necessary\n",
    "    # Get the similarity scores for the movie and sort them in descending order\n",
    "    similar_movies = item_similarity_df[movie_id].sort_values(ascending=False)[1:n+1]\n",
    "    return similar_movies\n",
    "\n",
    "# Example: Get top 5 similar movies to movie 1\n",
    "print(f\"Top 5 similar movies to movie 1: \\n{get_similar_movies(1)}\")\n",
    "\n",
    "\n"
   ]
  },
  {
   "cell_type": "markdown",
   "metadata": {},
   "source": [
    "#### Ouput Interpretation - Item-Based Collaborative Filtering\n",
    "* Similarity Scores: These values represent the cosine similarity between movie 1 and the other movies.\n",
    "* Movie 3114 has the highest similarity score (0.4034) with movie 1, indicating that it’s the most similar movie based on user ratings.\n",
    "* Other similar movies (78499, 588, 1148, and 1270) have slightly lower similarity scores.\n",
    "* We can recommend movies like 3114, 78499, to users who have rated movie 1 highly since they are likely to enjoy these similar movies."
   ]
  },
  {
   "cell_type": "markdown",
   "metadata": {},
   "source": [
    "#### Matrix Factorization (SVD)"
   ]
  },
  {
   "cell_type": "code",
   "execution_count": 25,
   "metadata": {},
   "outputs": [
    {
     "name": "stdout",
     "output_type": "stream",
     "text": [
      "Evaluating RMSE, MAE of algorithm SVD on 5 split(s).\n",
      "\n",
      "                  Fold 1  Fold 2  Fold 3  Fold 4  Fold 5  Mean    Std     \n",
      "RMSE (testset)    0.8795  0.8778  0.8761  0.8779  0.8887  0.8800  0.0045  \n",
      "MAE (testset)     0.6777  0.6742  0.6755  0.6757  0.6870  0.6780  0.0046  \n",
      "Fit time          4.32    3.96    3.97    4.10    4.15    4.10    0.13    \n",
      "Test time         0.12    0.10    0.10    0.10    0.19    0.12    0.04    \n"
     ]
    },
    {
     "data": {
      "text/plain": [
       "{'test_rmse': array([0.87953114, 0.87781386, 0.87605827, 0.87790278, 0.8886581 ]),\n",
       " 'test_mae': array([0.67766524, 0.67421079, 0.67548919, 0.67571198, 0.68699307]),\n",
       " 'fit_time': (4.3226213455200195,\n",
       "  3.963120698928833,\n",
       "  3.9728622436523438,\n",
       "  4.0969696044921875,\n",
       "  4.145604610443115),\n",
       " 'test_time': (0.11939501762390137,\n",
       "  0.10202813148498535,\n",
       "  0.10096025466918945,\n",
       "  0.1035146713256836,\n",
       "  0.19323396682739258)}"
      ]
     },
     "execution_count": 25,
     "metadata": {},
     "output_type": "execute_result"
    }
   ],
   "source": [
    "from surprise import SVD, Dataset, Reader\n",
    "from surprise.model_selection import cross_validate\n",
    "\n",
    "# Prepare data for Surprise library\n",
    "reader = Reader(rating_scale=(0.5, 5.0))\n",
    "train_data_surprise = Dataset.load_from_df(train_data[['userId', 'movieId', 'rating']], reader)\n",
    "\n",
    "# Initialize SVD model\n",
    "svd_model = SVD()\n",
    "\n",
    "# Perform cross-validation\n",
    "cross_validate(svd_model, train_data_surprise, measures=['RMSE', 'MAE'], cv=5, verbose=True)\n",
    "\n"
   ]
  },
  {
   "cell_type": "markdown",
   "metadata": {},
   "source": [
    "#### Output Interpretation - Matrix Factorization (SVD)\n",
    "**RMSE (Root Mean Square Error)**\n",
    "\n",
    "* The RMSE values range between 0.876 and 0.888 across the cross-validation folds. This is a good indicator of how well the model predicts user ratings.\n",
    "A lower RMSE means better predictions. An RMSE of ~0.88 suggests the model is reasonably accurate in predicting user ratings (on a scale of 0.5 to 5.0).\n",
    "\n",
    "**MAE (Mean Absolute Error)**\n",
    "\n",
    "* The MAE values range from 0.674 to 0.686, indicating the average error between predicted and actual ratings. A lower MAE indicates better performance, and this MAE is consistent with reasonable prediction accuracy.\n",
    "\n",
    "**Fit Time and Test Time**\n",
    "\n",
    "* The fit times (around 4 seconds) and test times (0.1 to 0.19 seconds) suggest that the SVD model is computationally efficient, making it feasible for real-world use.\n",
    "\n",
    "\n",
    "The SVD model shows decent performance, with reasonable prediction accuracy. "
   ]
  },
  {
   "cell_type": "markdown",
   "metadata": {},
   "source": [
    "### Content-Based Filtering\n",
    "\n",
    "In this method, we’ll use movie genres and tags to make recommendations based on the content a user has liked in the past."
   ]
  },
  {
   "cell_type": "code",
   "execution_count": 38,
   "metadata": {},
   "outputs": [
    {
     "name": "stdout",
     "output_type": "stream",
     "text": [
      "Top 5 genre-similar movies to movie 1: \n",
      "movieId\n",
      "103755    1.0\n",
      "4886      1.0\n",
      "166461    1.0\n",
      "4016      1.0\n",
      "3754      1.0\n",
      "Name: 1, dtype: float64\n",
      "Predicted rating for user 1 and movie 1076: nan\n"
     ]
    }
   ],
   "source": [
    "import pandas as pd\n",
    "import numpy as np\n",
    "from sklearn.metrics.pairwise import cosine_similarity\n",
    "\n",
    "# Load movie data with genres\n",
    "movies_with_genres_df = pd.read_csv(r'C:\\Users\\MNJOROGE16\\Desktop\\Moringa\\phase_4\\ph4_project\\Movie-Recommendation-System-Group_12-Project\\Ipynbs\\movies_with_genres.csv')\n",
    "\n",
    "# Ensure movieId is treated as string in movies_with_genres_df\n",
    "movies_with_genres_df['movieId'] = movies_with_genres_df['movieId'].astype(str)\n",
    "\n",
    "# Create content-based movie feature vectors (using genres)\n",
    "# Create feature vectors for genres by dropping non-genre columns\n",
    "genre_matrix = movies_with_genres_df.drop(columns=['movieId', 'title']).values\n",
    "\n",
    "# Compute cosine similarity between movies based on genres\n",
    "genre_similarity = cosine_similarity(genre_matrix)\n",
    "\n",
    "# Convert similarity matrix into a DataFrame for easier handling\n",
    "genre_similarity_df = pd.DataFrame(genre_similarity, index=movies_with_genres_df['movieId'], columns=movies_with_genres_df['movieId'])\n",
    "\n",
    "# Function to get top N movies similar to a given movie based on genres\n",
    "def get_similar_movies_by_genre(movie_id, n=5):\n",
    "    # Ensure movie_id is a string\n",
    "    movie_id = str(movie_id)\n",
    "    \n",
    "    # Sort similarity scores in descending order and return the top N similar movies\n",
    "    similar_movies = genre_similarity_df[movie_id].sort_values(ascending=False)[1:n+1]\n",
    "    return similar_movies\n",
    "\n",
    "# Example: Get top 5 genre-similar movies to movie 1\n",
    "print(f\"Top 5 genre-similar movies to movie 1: \\n{get_similar_movies_by_genre(1)}\")\n",
    "\n",
    "# Ensure userId and movieId in user_item_matrix are strings for consistency\n",
    "user_item_matrix.index = user_item_matrix.index.astype(str)\n",
    "user_item_matrix.columns = user_item_matrix.columns.astype(str)\n",
    "\n",
    "# Function to predict rating using content-based filtering\n",
    "def content_based_predict(user_id, movie_id):\n",
    "    # Ensure userId and movieId are treated as strings\n",
    "    user_id = str(user_id)\n",
    "    movie_id = str(movie_id)\n",
    "    \n",
    "    # Get top 5 similar movies by genre\n",
    "    similar_movies = get_similar_movies_by_genre(movie_id, 5)\n",
    "    \n",
    "    # Predict rating as the average rating the user gave to similar movies\n",
    "    ratings = []\n",
    "    \n",
    "    for sim_movie in similar_movies.index:\n",
    "        sim_movie = str(sim_movie)  # Ensure the similar movie ID is treated as a string\n",
    "        # Get the user's rating for similar movies\n",
    "        if sim_movie in user_item_matrix.columns:\n",
    "            rating = user_item_matrix.loc[user_id, sim_movie]\n",
    "            if rating > 0:  # If the user has rated the movie\n",
    "                ratings.append(rating)\n",
    "    \n",
    "    if len(ratings) == 0:\n",
    "        return np.nan  # Return NaN if no ratings are available for similar movies\n",
    "    \n",
    "    return np.mean(ratings)  # Return the average rating for the similar movies\n",
    "\n",
    "# Example usage of content-based prediction\n",
    "predicted_rating = content_based_predict('1', '1076')  # Replace '1' and '1076' with actual user and movie IDs\n",
    "print(f'Predicted rating for user 1 and movie 1076: {predicted_rating}')\n",
    "\n",
    "\n"
   ]
  },
  {
   "cell_type": "markdown",
   "metadata": {},
   "source": [
    "##### Output Interpretation - Content-Based Filtering\n",
    "* All the similar movies have a similarity score of 1.0, meaning they share the same genre tags as movie 1.\n",
    "\n",
    "* These movies have the exact same genre classification as movie 1, making them ideal candidates for recommendations if the user enjoys movie 1’s genre. However, genre similarity might not be enough, and combining it with collaborative filtering can yield more personalized recommendations."
   ]
  },
  {
   "cell_type": "markdown",
   "metadata": {},
   "source": [
    "###  Hybrid Methods\n",
    "\n",
    "In hybrid methods, we combine collaborative filtering and content-based filtering to improve recommendation performance, especially for new users or items."
   ]
  },
  {
   "cell_type": "code",
   "execution_count": 32,
   "metadata": {},
   "outputs": [
    {
     "name": "stdout",
     "output_type": "stream",
     "text": [
      "Hybrid recommendations for User 1 for Movie 1: \n",
      "166461    1.0\n",
      "103755    1.0\n",
      "4886      1.0\n",
      "4016      1.0\n",
      "3754      1.0\n",
      "dtype: float64\n"
     ]
    }
   ],
   "source": [
    "# Hybrid recommendation combining collaborative filtering (SVD) and content-based (genres)\n",
    "def hybrid_recommendation(user_id, movie_id, n=5):\n",
    "    # Get top N similar movies by collaborative filtering (SVD or user-item)\n",
    "    similar_movies_cf = get_similar_movies(movie_id, n)\n",
    "    \n",
    "    # Get top N similar movies by content-based filtering (genres)\n",
    "    similar_movies_cb = get_similar_movies_by_genre(movie_id, n)\n",
    "    \n",
    "    # Combine both by taking the intersection or weighted average (you can adjust the approach)\n",
    "    combined_recommendations = pd.concat([similar_movies_cf, similar_movies_cb], axis=1).mean(axis=1)\n",
    "    \n",
    "    # Sort recommendations\n",
    "    combined_recommendations = combined_recommendations.sort_values(ascending=False).head(n)\n",
    "    \n",
    "    return combined_recommendations\n",
    "\n",
    "# Example: Hybrid recommendation for user 1 for movie 1\n",
    "print(f\"Hybrid recommendations for User 1 for Movie 1: \\n{hybrid_recommendation(1, 1)}\")\n"
   ]
  },
  {
   "cell_type": "code",
   "execution_count": 40,
   "metadata": {},
   "outputs": [],
   "source": [
    "# Convert userId and movieId to strings in the user_item_matrix\n",
    "user_item_matrix.index = user_item_matrix.index.astype(str)\n",
    "user_item_matrix.columns = user_item_matrix.columns.astype(str)\n"
   ]
  },
  {
   "cell_type": "code",
   "execution_count": 41,
   "metadata": {},
   "outputs": [],
   "source": [
    "# Before accessing the movieId, check if it's in the columns\n",
    "def item_based_predict(user_id, movie_id, k):\n",
    "    # Get top-k similar movies\n",
    "    similar_movies = get_similar_movies(movie_id, k)\n",
    "    \n",
    "    ratings = []\n",
    "    similarities = []\n",
    "    \n",
    "    for sim_movie, similarity in similar_movies.iteritems():\n",
    "        sim_movie = str(sim_movie)  # Ensure movie ID is a string\n",
    "        if sim_movie in user_item_matrix.columns:  # Check if the movie exists in the matrix\n",
    "            rating = user_item_matrix.loc[user_id, sim_movie]\n",
    "            if rating > 0:\n",
    "                ratings.append(rating)\n",
    "                similarities.append(similarity)\n",
    "    \n",
    "    if len(ratings) == 0:\n",
    "        return np.nan\n",
    "    \n",
    "    # Return the weighted average of ratings based on similarities\n",
    "    return np.dot(ratings, similarities) / np.sum(similarities)\n"
   ]
  },
  {
   "cell_type": "code",
   "execution_count": 42,
   "metadata": {},
   "outputs": [
    {
     "name": "stdout",
     "output_type": "stream",
     "text": [
      "Weighted Hybrid: RMSE = 3.2351844687083102, MAE = 3.094275335743111\n"
     ]
    }
   ],
   "source": [
    "def weighted_hybrid_predict(user_id, movie_id, k_cf=5, k_cb=5, weight_cf=0.5, weight_cb=0.5):\n",
    "    # Predict rating using item-based collaborative filtering\n",
    "    cf_prediction = item_based_predict(user_id, movie_id, k_cf)\n",
    "    \n",
    "    # Predict rating using content-based filtering\n",
    "    cb_prediction = content_based_predict(user_id, movie_id)\n",
    "    \n",
    "    if np.isnan(cf_prediction):\n",
    "        return cb_prediction\n",
    "    elif np.isnan(cb_prediction):\n",
    "        return cf_prediction\n",
    "    else:\n",
    "        # Weighted combination of both predictions\n",
    "        return weight_cf * cf_prediction + weight_cb * cb_prediction\n",
    "\n",
    "def evaluate_weighted_hybrid(test_data, k_cf=5, k_cb=5, weight_cf=0.5, weight_cb=0.5):\n",
    "    predictions = []\n",
    "    actuals = []\n",
    "    \n",
    "    for _, row in test_data.iterrows():\n",
    "        user_id = str(row['userId'])  # Convert userId to string\n",
    "        movie_id = str(row['movieId'])  # Convert movieId to string\n",
    "        actual_rating = row['rating']\n",
    "        \n",
    "        # Check if user and movie exist in the matrix before prediction\n",
    "        if user_id in user_item_matrix.index and movie_id in user_item_matrix.columns:\n",
    "            predicted_rating = weighted_hybrid_predict(user_id, movie_id, k_cf, k_cb, weight_cf, weight_cb)\n",
    "        else:\n",
    "            predicted_rating = np.nan\n",
    "        \n",
    "        if not np.isnan(predicted_rating):\n",
    "            predictions.append(predicted_rating)\n",
    "            actuals.append(actual_rating)\n",
    "    \n",
    "    # Calculate RMSE and MAE\n",
    "    rmse = np.sqrt(mean_squared_error(actuals, predictions))\n",
    "    mae = mean_absolute_error(actuals, predictions)\n",
    "    \n",
    "    return rmse, mae\n",
    "\n",
    "# Run the evaluation\n",
    "rmse, mae = evaluate_weighted_hybrid(test_data, k_cf=5, k_cb=5, weight_cf=0.7, weight_cb=0.3)\n",
    "print(f'Weighted Hybrid: RMSE = {rmse}, MAE = {mae}')\n",
    "\n"
   ]
  },
  {
   "cell_type": "code",
   "execution_count": 43,
   "metadata": {},
   "outputs": [
    {
     "name": "stdout",
     "output_type": "stream",
     "text": [
      "Switching Hybrid: RMSE = 3.409662464658248, MAE = 3.3177971702501563\n"
     ]
    }
   ],
   "source": [
    "def switching_hybrid_predict(user_id, movie_id, k_cf=5, k_cb=5):\n",
    "    user_id = str(user_id)\n",
    "    movie_id = str(movie_id)\n",
    "    \n",
    "    # Check if the user has rated enough movies\n",
    "    if user_id in user_item_matrix.index and user_item_matrix.loc[user_id].notna().sum() > 5:\n",
    "        # Use collaborative filtering if user has enough history\n",
    "        return item_based_predict(user_id, movie_id, k_cf)\n",
    "    else:\n",
    "        # Use content-based filtering for cold start (if user has little or no history)\n",
    "        return content_based_predict(user_id, movie_id)\n",
    "\n",
    "def evaluate_switching_hybrid(test_data, k_cf=5, k_cb=5):\n",
    "    predictions = []\n",
    "    actuals = []\n",
    "    \n",
    "    for _, row in test_data.iterrows():\n",
    "        user_id = str(row['userId'])\n",
    "        movie_id = str(row['movieId'])\n",
    "        actual_rating = row['rating']\n",
    "        \n",
    "        predicted_rating = switching_hybrid_predict(user_id, movie_id, k_cf, k_cb)\n",
    "        \n",
    "        if not np.isnan(predicted_rating):\n",
    "            predictions.append(predicted_rating)\n",
    "            actuals.append(actual_rating)\n",
    "    \n",
    "    # Calculate RMSE and MAE\n",
    "    rmse = np.sqrt(mean_squared_error(actuals, predictions))\n",
    "    mae = mean_absolute_error(actuals, predictions)\n",
    "    \n",
    "    return rmse, mae\n",
    "\n",
    "# usage for switching hybrid\n",
    "rmse, mae = evaluate_switching_hybrid(test_data, k_cf=5, k_cb=5)\n",
    "print(f'Switching Hybrid: RMSE = {rmse}, MAE = {mae}')\n"
   ]
  },
  {
   "cell_type": "code",
   "execution_count": 44,
   "metadata": {},
   "outputs": [
    {
     "name": "stdout",
     "output_type": "stream",
     "text": [
      "Cascade Hybrid: RMSE = 3.136395763560723, MAE = 2.9705838835232874\n"
     ]
    }
   ],
   "source": [
    "def cascade_hybrid_predict(user_id, movie_id, k_cb=5, k_cf=5):\n",
    "    user_id = str(user_id)\n",
    "    movie_id = str(movie_id)\n",
    "    \n",
    "    # Step 1: Filter movies using content-based filtering\n",
    "    similar_movies = get_similar_movies_by_genre(movie_id, k_cb)\n",
    "    \n",
    "    # Step 2: Apply collaborative filtering for final ranking\n",
    "    ratings = []\n",
    "    similarities = []\n",
    "    \n",
    "    for sim_movie in similar_movies.index:\n",
    "        sim_movie = str(sim_movie)\n",
    "        if sim_movie in user_item_matrix.columns:\n",
    "            rating = user_item_matrix.loc[user_id, sim_movie]\n",
    "            if rating > 0:\n",
    "                ratings.append(rating)\n",
    "                similarities.append(similar_movies[sim_movie])  # Similarity score\n",
    "        \n",
    "    if len(ratings) == 0:\n",
    "        return np.nan\n",
    "    \n",
    "    return np.dot(ratings, similarities) / np.sum(similarities)\n",
    "\n",
    "def evaluate_cascade_hybrid(test_data, k_cb=5, k_cf=5):\n",
    "    predictions = []\n",
    "    actuals = []\n",
    "    \n",
    "    for _, row in test_data.iterrows():\n",
    "        user_id = str(row['userId'])\n",
    "        movie_id = str(row['movieId'])\n",
    "        actual_rating = row['rating']\n",
    "        \n",
    "        predicted_rating = cascade_hybrid_predict(user_id, movie_id, k_cb, k_cf)\n",
    "        \n",
    "        if not np.isnan(predicted_rating):\n",
    "            predictions.append(predicted_rating)\n",
    "            actuals.append(actual_rating)\n",
    "    \n",
    "    # Calculate RMSE and MAE\n",
    "    rmse = np.sqrt(mean_squared_error(actuals, predictions))\n",
    "    mae = mean_absolute_error(actuals, predictions)\n",
    "    \n",
    "    return rmse, mae\n",
    "\n",
    "# usage for cascade hybrid\n",
    "rmse, mae = evaluate_cascade_hybrid(test_data, k_cb=5, k_cf=5)\n",
    "print(f'Cascade Hybrid: RMSE = {rmse}, MAE = {mae}')\n"
   ]
  },
  {
   "cell_type": "code",
   "execution_count": 46,
   "metadata": {},
   "outputs": [
    {
     "name": "stdout",
     "output_type": "stream",
     "text": [
      "Feature Augmentation Hybrid: RMSE = 3.2350543806038896, MAE = 3.094184820120109\n"
     ]
    }
   ],
   "source": [
    "from sklearn.linear_model import LinearRegression\n",
    "\n",
    "def feature_augmentation_predict(user_id, movie_id, k_cf=5, k_cb=5):\n",
    "    user_id = str(user_id)\n",
    "    movie_id = str(movie_id)\n",
    "    \n",
    "    # Step 1: Get predictions from both collaborative filtering and content-based filtering\n",
    "    cf_prediction = item_based_predict(user_id, movie_id, k_cf)\n",
    "    cb_prediction = content_based_predict(user_id, movie_id)\n",
    "    \n",
    "    # Handle missing values by using one of the predictions if the other is NaN\n",
    "    if np.isnan(cf_prediction):\n",
    "        return cb_prediction\n",
    "    elif np.isnan(cb_prediction):\n",
    "        return cf_prediction\n",
    "    \n",
    "    # Step 2: Combine both predictions using a weighted average\n",
    "    # For simplicity, we'll use a linear combination instead of fitting the regression model\n",
    "    return (cf_prediction + cb_prediction) / 2  # Return average of both predictions\n",
    "\n",
    "def evaluate_feature_augmentation_hybrid(test_data, k_cf=5, k_cb=5):\n",
    "    predictions = []\n",
    "    actuals = []\n",
    "    \n",
    "    for _, row in test_data.iterrows():\n",
    "        user_id = str(row['userId'])\n",
    "        movie_id = str(row['movieId'])\n",
    "        actual_rating = row['rating']  # The actual rating to compare against\n",
    "        \n",
    "        # Get the predicted rating from the hybrid model\n",
    "        predicted_rating = feature_augmentation_predict(user_id, movie_id, k_cf, k_cb)\n",
    "        \n",
    "        if not np.isnan(predicted_rating):\n",
    "            predictions.append(predicted_rating)\n",
    "            actuals.append(actual_rating)\n",
    "    \n",
    "    # Calculate RMSE and MAE\n",
    "    rmse = np.sqrt(mean_squared_error(actuals, predictions))\n",
    "    mae = mean_absolute_error(actuals, predictions)\n",
    "    \n",
    "    return rmse, mae\n",
    "\n",
    "# Example usage for feature augmentation hybrid\n",
    "rmse, mae = evaluate_feature_augmentation_hybrid(test_data, k_cf=5, k_cb=5)\n",
    "print(f'Feature Augmentation Hybrid: RMSE = {rmse}, MAE = {mae}')\n",
    "\n"
   ]
  },
  {
   "cell_type": "markdown",
   "metadata": {},
   "source": [
    "#### Output Interpretation - Hybrid Methods\n",
    "\n",
    "* The hybrid recommendations (combining collaborative and content-based methods) suggest the same top 5 movies, all with a score of 1.0.\n",
    "* The hybrid method is combining content and user preferences to recommend movies that are similar to movie 1 both in terms of genre and user behavior. \n",
    "* This approach can help balance the limitations of pure content-based or collaborative filtering methods, leading to more personalized recommendations.\n"
   ]
  },
  {
   "cell_type": "markdown",
   "metadata": {},
   "source": [
    "# Evaluation"
   ]
  },
  {
   "cell_type": "markdown",
   "metadata": {},
   "source": [
    "### Evaluation - User-Based Collaborative Filtering\n"
   ]
  },
  {
   "cell_type": "code",
   "execution_count": 49,
   "metadata": {},
   "outputs": [
    {
     "name": "stdout",
     "output_type": "stream",
     "text": [
      "User-Based Collaborative Filtering: RMSE = 3.1958096081380467, MAE = 3.0621153272891064\n"
     ]
    }
   ],
   "source": [
    "import numpy as np\n",
    "import pandas as pd\n",
    "from sklearn.metrics import mean_squared_error, mean_absolute_error\n",
    "\n",
    "# Assuming user_similarity_df and user_item_matrix are already computed and available\n",
    "# Ensure userId and movieId are strings in user_similarity_df and user_item_matrix\n",
    "user_similarity_df.index = user_similarity_df.index.astype(str)\n",
    "user_similarity_df.columns = user_similarity_df.columns.astype(str)\n",
    "\n",
    "user_item_matrix.index = user_item_matrix.index.astype(str)\n",
    "user_item_matrix.columns = user_item_matrix.columns.astype(str)\n",
    "\n",
    "# Define the get_similar_users function\n",
    "def get_similar_users(user_id, n=5):\n",
    "    # Ensure user_id is treated as a string\n",
    "    user_id = str(user_id)\n",
    "    \n",
    "    # Check if the user exists in the similarity matrix\n",
    "    if user_id not in user_similarity_df.columns:\n",
    "        return pd.Series()  # Return an empty series if user not found\n",
    "    \n",
    "    # Get the similarity scores for the user and sort them in descending order\n",
    "    similar_users = user_similarity_df[user_id].sort_values(ascending=False)[1:n+1]\n",
    "    return similar_users\n",
    "\n",
    "# Define the user_based_predict function\n",
    "def user_based_predict(user_id, movie_id, k):\n",
    "    # Get the top-k similar users\n",
    "    similar_users = get_similar_users(user_id, k)\n",
    "    \n",
    "    if similar_users.empty:\n",
    "        return np.nan  # Return NaN if no similar users are found\n",
    "    \n",
    "    # Predict rating as the weighted average of ratings from similar users\n",
    "    ratings = []\n",
    "    similarities = []\n",
    "    \n",
    "    for sim_user, similarity in similar_users.iteritems():\n",
    "        sim_user = str(sim_user)\n",
    "        if sim_user in user_item_matrix.index and movie_id in user_item_matrix.columns:\n",
    "            rating = user_item_matrix.loc[sim_user, movie_id]\n",
    "            if rating > 0:\n",
    "                ratings.append(rating)\n",
    "                similarities.append(similarity)\n",
    "    \n",
    "    if len(ratings) == 0:\n",
    "        return np.nan  # Return NaN if no ratings found\n",
    "    \n",
    "    return np.dot(ratings, similarities) / np.sum(similarities)\n",
    "\n",
    "# Define the evaluation function for User-Based CF\n",
    "def evaluate_user_based_cf(test_data, k=5):\n",
    "    predictions = []\n",
    "    actuals = []\n",
    "    \n",
    "    for _, row in test_data.iterrows():\n",
    "        user_id = str(row['userId'])\n",
    "        movie_id = str(row['movieId'])\n",
    "        actual_rating = row['rating']\n",
    "        \n",
    "        # Get the predicted rating using user-based collaborative filtering\n",
    "        predicted_rating = user_based_predict(user_id, movie_id, k)\n",
    "        \n",
    "        if not np.isnan(predicted_rating):\n",
    "            predictions.append(predicted_rating)\n",
    "            actuals.append(actual_rating)\n",
    "    \n",
    "    # Calculate RMSE and MAE\n",
    "    rmse = np.sqrt(mean_squared_error(actuals, predictions))\n",
    "    mae = mean_absolute_error(actuals, predictions)\n",
    "    \n",
    "    return rmse, mae\n",
    "\n",
    "# Assuming test_data is already prepared and available\n",
    "# Evaluate User-Based CF model\n",
    "rmse, mae = evaluate_user_based_cf(test_data, k=5)\n",
    "print(f'User-Based Collaborative Filtering: RMSE = {rmse}, MAE = {mae}')\n",
    "\n",
    "\n"
   ]
  },
  {
   "cell_type": "markdown",
   "metadata": {},
   "source": [
    "### Evaluation - Item-Based Collaborative Filtering\n",
    "\n",
    "* We evaluate RMSE and MAE by predicting a movie’s rating for a user based on the ratings of similar movies and tune the number of similar movies (k) considered in the recommendation"
   ]
  },
  {
   "cell_type": "code",
   "execution_count": 50,
   "metadata": {},
   "outputs": [
    {
     "name": "stdout",
     "output_type": "stream",
     "text": [
      "Item-Based Collaborative Filtering: RMSE = 3.409662464658248, MAE = 3.3177971702501563\n"
     ]
    }
   ],
   "source": [
    "# Define the get_similar_items function\n",
    "def get_similar_items(movie_id, n=5):\n",
    "    movie_id = str(movie_id)\n",
    "    \n",
    "    # Check if the movie exists in the item similarity matrix\n",
    "    if movie_id not in item_similarity_df.columns:\n",
    "        return pd.Series()  # Return an empty series if movie not found\n",
    "    \n",
    "    # Get the similarity scores for the movie and sort them in descending order\n",
    "    similar_items = item_similarity_df[movie_id].sort_values(ascending=False)[1:n+1]\n",
    "    return similar_items\n",
    "\n",
    "# Define the item_based_predict function\n",
    "def item_based_predict(user_id, movie_id, k):\n",
    "    # Get the top-k similar items\n",
    "    similar_items = get_similar_items(movie_id, k)\n",
    "    \n",
    "    if similar_items.empty:\n",
    "        return np.nan  # Return NaN if no similar items are found\n",
    "    \n",
    "    # Predict rating as the weighted average of ratings from similar items\n",
    "    ratings = []\n",
    "    similarities = []\n",
    "    \n",
    "    for sim_movie, similarity in similar_items.iteritems():\n",
    "        sim_movie = str(sim_movie)\n",
    "        if user_id in user_item_matrix.index and sim_movie in user_item_matrix.columns:\n",
    "            rating = user_item_matrix.loc[user_id, sim_movie]\n",
    "            if rating > 0:\n",
    "                ratings.append(rating)\n",
    "                similarities.append(similarity)\n",
    "    \n",
    "    if len(ratings) == 0:\n",
    "        return np.nan  # Return NaN if no ratings found\n",
    "    \n",
    "    return np.dot(ratings, similarities) / np.sum(similarities)\n",
    "\n",
    "# Define the evaluation function for Item-Based CF\n",
    "def evaluate_item_based_cf(test_data, k=5):\n",
    "    predictions = []\n",
    "    actuals = []\n",
    "    \n",
    "    for _, row in test_data.iterrows():\n",
    "        user_id = str(row['userId'])\n",
    "        movie_id = str(row['movieId'])\n",
    "        actual_rating = row['rating']\n",
    "        \n",
    "        # Get the predicted rating using item-based collaborative filtering\n",
    "        predicted_rating = item_based_predict(user_id, movie_id, k)\n",
    "        \n",
    "        if not np.isnan(predicted_rating):\n",
    "            predictions.append(predicted_rating)\n",
    "            actuals.append(actual_rating)\n",
    "    \n",
    "    # Calculate RMSE and MAE\n",
    "    rmse = np.sqrt(mean_squared_error(actuals, predictions))\n",
    "    mae = mean_absolute_error(actuals, predictions)\n",
    "    \n",
    "    return rmse, mae\n",
    "\n",
    "# Evaluate Item-Based CF model\n",
    "rmse, mae = evaluate_item_based_cf(test_data, k=5)\n",
    "print(f'Item-Based Collaborative Filtering: RMSE = {rmse}, MAE = {mae}')\n",
    "\n",
    "\n"
   ]
  },
  {
   "cell_type": "markdown",
   "metadata": {},
   "source": [
    "### Evaluation - Matrix Factorization (SVD)\n",
    "\n",
    "* Based on the obtained RMSE and MAE for Matrix Factorization (SVD), we can tune hyperparameters such as:\n",
    "    * Number of latent factors (n_factors).\n",
    "    * Regularization strength (reg_all)."
   ]
  },
  {
   "cell_type": "code",
   "execution_count": 51,
   "metadata": {},
   "outputs": [
    {
     "name": "stdout",
     "output_type": "stream",
     "text": [
      "Matrix Factorization (SVD): RMSE = 1.0488405992661316, MAE = 0.8315907281547354\n"
     ]
    }
   ],
   "source": [
    "from surprise import SVD\n",
    "from surprise import Dataset\n",
    "from surprise import Reader\n",
    "from surprise.model_selection import cross_validate\n",
    "\n",
    "# Convert test_data to Surprise Dataset\n",
    "reader = Reader(rating_scale=(0.5, 5.0))\n",
    "data = Dataset.load_from_df(train_data[['userId', 'movieId', 'rating']], reader)\n",
    "\n",
    "# Train SVD model\n",
    "svd_model = SVD()\n",
    "trainset = data.build_full_trainset()\n",
    "svd_model.fit(trainset)\n",
    "\n",
    "# Define the evaluation function for Matrix Factorization (SVD)\n",
    "def evaluate_svd_model(test_data):\n",
    "    predictions = []\n",
    "    actuals = []\n",
    "    \n",
    "    for _, row in test_data.iterrows():\n",
    "        user_id = str(row['userId'])\n",
    "        movie_id = str(row['movieId'])\n",
    "        actual_rating = row['rating']\n",
    "        \n",
    "        # Predict rating using the trained SVD model\n",
    "        predicted_rating = svd_model.predict(user_id, movie_id).est\n",
    "        \n",
    "        predictions.append(predicted_rating)\n",
    "        actuals.append(actual_rating)\n",
    "    \n",
    "    # Calculate RMSE and MAE\n",
    "    rmse = np.sqrt(mean_squared_error(actuals, predictions))\n",
    "    mae = mean_absolute_error(actuals, predictions)\n",
    "    \n",
    "    return rmse, mae\n",
    "\n",
    "# Evaluate SVD (Matrix Factorization) model\n",
    "rmse, mae = evaluate_svd_model(test_data)\n",
    "print(f'Matrix Factorization (SVD): RMSE = {rmse}, MAE = {mae}')\n",
    "\n",
    "\n"
   ]
  },
  {
   "cell_type": "markdown",
   "metadata": {},
   "source": [
    "### Evaluation - Content-Based Filtering\n",
    "* For content-based filtering, we’ll evaluate how well the model predicts ratings based on the similarity between movie content (e.g., genres, directors)."
   ]
  },
  {
   "cell_type": "code",
   "execution_count": 52,
   "metadata": {},
   "outputs": [
    {
     "name": "stdout",
     "output_type": "stream",
     "text": [
      "Content-Based Filtering: RMSE = 3.136423913039868, MAE = 2.9705269772384395\n"
     ]
    }
   ],
   "source": [
    "# Define the content_based_predict function\n",
    "def content_based_predict(user_id, movie_id):\n",
    "    # Get top 5 similar movies by genre\n",
    "    similar_movies = get_similar_movies_by_genre(movie_id, 5)  # Assuming genre-based similarity function\n",
    "    \n",
    "    # Predict rating as the average rating the user gave to similar movies\n",
    "    ratings = []\n",
    "    \n",
    "    for sim_movie in similar_movies.index:\n",
    "        if user_id in user_item_matrix.index and str(sim_movie) in user_item_matrix.columns:\n",
    "            rating = user_item_matrix.loc[user_id, str(sim_movie)]\n",
    "            if rating > 0:\n",
    "                ratings.append(rating)\n",
    "    \n",
    "    if len(ratings) == 0:\n",
    "        return np.nan  # Return NaN if no ratings available for similar movies\n",
    "    \n",
    "    return np.mean(ratings)\n",
    "\n",
    "# Define the evaluation function for Content-Based Filtering\n",
    "def evaluate_content_based(test_data, k=5):\n",
    "    predictions = []\n",
    "    actuals = []\n",
    "    \n",
    "    for _, row in test_data.iterrows():\n",
    "        user_id = str(row['userId'])\n",
    "        movie_id = str(row['movieId'])\n",
    "        actual_rating = row['rating']\n",
    "        \n",
    "        # Get the predicted rating using content-based filtering\n",
    "        predicted_rating = content_based_predict(user_id, movie_id)\n",
    "        \n",
    "        if not np.isnan(predicted_rating):\n",
    "            predictions.append(predicted_rating)\n",
    "            actuals.append(actual_rating)\n",
    "    \n",
    "    # Calculate RMSE and MAE\n",
    "    rmse = np.sqrt(mean_squared_error(actuals, predictions))\n",
    "    mae = mean_absolute_error(actuals, predictions)\n",
    "    \n",
    "    return rmse, mae\n",
    "\n",
    "# Evaluate Content-Based Filtering model\n",
    "rmse, mae = evaluate_content_based(test_data, k=5)\n",
    "print(f'Content-Based Filtering: RMSE = {rmse}, MAE = {mae}')\n",
    "\n"
   ]
  },
  {
   "cell_type": "markdown",
   "metadata": {},
   "source": [
    "### Evaluation - Hybrid Methods\n"
   ]
  },
  {
   "cell_type": "code",
   "execution_count": 47,
   "metadata": {},
   "outputs": [
    {
     "name": "stdout",
     "output_type": "stream",
     "text": [
      "Weighted Hybrid: RMSE = 3.2351844687083102, MAE = 3.094275335743111\n"
     ]
    }
   ],
   "source": [
    "def evaluate_weighted_hybrid(test_data, k_cf=5, k_cb=5, weight_cf=0.7, weight_cb=0.3):\n",
    "    predictions = []\n",
    "    actuals = []\n",
    "    \n",
    "    for _, row in test_data.iterrows():\n",
    "        user_id = str(row['userId'])\n",
    "        movie_id = str(row['movieId'])\n",
    "        actual_rating = row['rating']\n",
    "        \n",
    "        # Get the predicted rating from the weighted hybrid model\n",
    "        predicted_rating = weighted_hybrid_predict(user_id, movie_id, k_cf, k_cb, weight_cf, weight_cb)\n",
    "        \n",
    "        if not np.isnan(predicted_rating):\n",
    "            predictions.append(predicted_rating)\n",
    "            actuals.append(actual_rating)\n",
    "    \n",
    "    # Calculate RMSE and MAE\n",
    "    rmse = np.sqrt(mean_squared_error(actuals, predictions))\n",
    "    mae = mean_absolute_error(actuals, predictions)\n",
    "    \n",
    "    return rmse, mae\n",
    "\n",
    "# Evaluate the weighted hybrid model\n",
    "rmse, mae = evaluate_weighted_hybrid(test_data, k_cf=5, k_cb=5, weight_cf=0.7, weight_cb=0.3)\n",
    "print(f'Weighted Hybrid: RMSE = {rmse}, MAE = {mae}')\n"
   ]
  },
  {
   "cell_type": "code",
   "execution_count": 53,
   "metadata": {},
   "outputs": [
    {
     "name": "stdout",
     "output_type": "stream",
     "text": [
      "Switching Hybrid: RMSE = 3.409662464658248, MAE = 3.3177971702501563\n"
     ]
    }
   ],
   "source": [
    "def evaluate_switching_hybrid(test_data, k_cf=5, k_cb=5):\n",
    "    predictions = []\n",
    "    actuals = []\n",
    "    \n",
    "    for _, row in test_data.iterrows():\n",
    "        user_id = str(row['userId'])\n",
    "        movie_id = str(row['movieId'])\n",
    "        actual_rating = row['rating']\n",
    "        \n",
    "        # Get the predicted rating from the switching hybrid model\n",
    "        predicted_rating = switching_hybrid_predict(user_id, movie_id, k_cf, k_cb)\n",
    "        \n",
    "        if not np.isnan(predicted_rating):\n",
    "            predictions.append(predicted_rating)\n",
    "            actuals.append(actual_rating)\n",
    "    \n",
    "    # Calculate RMSE and MAE\n",
    "    rmse = np.sqrt(mean_squared_error(actuals, predictions))\n",
    "    mae = mean_absolute_error(actuals, predictions)\n",
    "    \n",
    "    return rmse, mae\n",
    "\n",
    "# Evaluate the switching hybrid model\n",
    "rmse, mae = evaluate_switching_hybrid(test_data, k_cf=5, k_cb=5)\n",
    "print(f'Switching Hybrid: RMSE = {rmse}, MAE = {mae}')\n"
   ]
  },
  {
   "cell_type": "code",
   "execution_count": 54,
   "metadata": {},
   "outputs": [
    {
     "name": "stdout",
     "output_type": "stream",
     "text": [
      "Cascade Hybrid: RMSE = 3.136395763560723, MAE = 2.9705838835232874\n"
     ]
    }
   ],
   "source": [
    "def evaluate_cascade_hybrid(test_data, k_cb=5, k_cf=5):\n",
    "    predictions = []\n",
    "    actuals = []\n",
    "    \n",
    "    for _, row in test_data.iterrows():\n",
    "        user_id = str(row['userId'])\n",
    "        movie_id = str(row['movieId'])\n",
    "        actual_rating = row['rating']\n",
    "        \n",
    "        # Get the predicted rating from the cascade hybrid model\n",
    "        predicted_rating = cascade_hybrid_predict(user_id, movie_id, k_cb, k_cf)\n",
    "        \n",
    "        if not np.isnan(predicted_rating):\n",
    "            predictions.append(predicted_rating)\n",
    "            actuals.append(actual_rating)\n",
    "    \n",
    "    # Calculate RMSE and MAE\n",
    "    rmse = np.sqrt(mean_squared_error(actuals, predictions))\n",
    "    mae = mean_absolute_error(actuals, predictions)\n",
    "    \n",
    "    return rmse, mae\n",
    "\n",
    "# Evaluate the cascade hybrid model\n",
    "rmse, mae = evaluate_cascade_hybrid(test_data, k_cb=5, k_cf=5)\n",
    "print(f'Cascade Hybrid: RMSE = {rmse}, MAE = {mae}')\n"
   ]
  },
  {
   "cell_type": "code",
   "execution_count": 55,
   "metadata": {},
   "outputs": [
    {
     "name": "stdout",
     "output_type": "stream",
     "text": [
      "Feature Augmentation Hybrid: RMSE = 3.2350543806038896, MAE = 3.094184820120109\n"
     ]
    }
   ],
   "source": [
    "def evaluate_feature_augmentation_hybrid(test_data, k_cf=5, k_cb=5):\n",
    "    predictions = []\n",
    "    actuals = []\n",
    "    \n",
    "    for _, row in test_data.iterrows():\n",
    "        user_id = str(row['userId'])\n",
    "        movie_id = str(row['movieId'])\n",
    "        actual_rating = row['rating']\n",
    "        \n",
    "        # Get the predicted rating from the feature augmentation hybrid model\n",
    "        predicted_rating = feature_augmentation_predict(user_id, movie_id, k_cf, k_cb)\n",
    "        \n",
    "        if not np.isnan(predicted_rating):\n",
    "            predictions.append(predicted_rating)\n",
    "            actuals.append(actual_rating)\n",
    "    \n",
    "    # Calculate RMSE and MAE\n",
    "    rmse = np.sqrt(mean_squared_error(actuals, predictions))\n",
    "    mae = mean_absolute_error(actuals, predictions)\n",
    "    \n",
    "    return rmse, mae\n",
    "\n",
    "# Evaluate the feature augmentation hybrid model\n",
    "rmse, mae = evaluate_feature_augmentation_hybrid(test_data, k_cf=5, k_cb=5)\n",
    "print(f'Feature Augmentation Hybrid: RMSE = {rmse}, MAE = {mae}')\n"
   ]
  },
  {
   "cell_type": "markdown",
   "metadata": {},
   "source": [
    "### Summary Table of Results"
   ]
  },
  {
   "cell_type": "code",
   "execution_count": 57,
   "metadata": {},
   "outputs": [
    {
     "name": "stdout",
     "output_type": "stream",
     "text": [
      "                                Model      RMSE       MAE\n",
      "0  User-Based Collaborative Filtering  3.195810  3.062115\n",
      "1  Item-Based Collaborative Filtering  3.409662  3.317797\n",
      "2          Matrix Factorization (SVD)  1.048841  0.831591\n",
      "3             Content-Based Filtering  3.136424  2.970527\n",
      "4                     Weighted Hybrid  3.235184  3.094275\n",
      "5                    Switching Hybrid  3.409662  3.317797\n",
      "6                      Cascade Hybrid  3.136396  2.970584\n",
      "7         Feature Augmentation Hybrid  3.235054  3.094185\n"
     ]
    },
    {
     "data": {
      "text/html": [
       "<div>\n",
       "<style scoped>\n",
       "    .dataframe tbody tr th:only-of-type {\n",
       "        vertical-align: middle;\n",
       "    }\n",
       "\n",
       "    .dataframe tbody tr th {\n",
       "        vertical-align: top;\n",
       "    }\n",
       "\n",
       "    .dataframe thead th {\n",
       "        text-align: right;\n",
       "    }\n",
       "</style>\n",
       "<table border=\"1\" class=\"dataframe\">\n",
       "  <thead>\n",
       "    <tr style=\"text-align: right;\">\n",
       "      <th></th>\n",
       "      <th>Model</th>\n",
       "      <th>RMSE</th>\n",
       "      <th>MAE</th>\n",
       "    </tr>\n",
       "  </thead>\n",
       "  <tbody>\n",
       "    <tr>\n",
       "      <th>0</th>\n",
       "      <td>User-Based Collaborative Filtering</td>\n",
       "      <td>3.195810</td>\n",
       "      <td>3.062115</td>\n",
       "    </tr>\n",
       "    <tr>\n",
       "      <th>1</th>\n",
       "      <td>Item-Based Collaborative Filtering</td>\n",
       "      <td>3.409662</td>\n",
       "      <td>3.317797</td>\n",
       "    </tr>\n",
       "    <tr>\n",
       "      <th>2</th>\n",
       "      <td>Matrix Factorization (SVD)</td>\n",
       "      <td>1.048841</td>\n",
       "      <td>0.831591</td>\n",
       "    </tr>\n",
       "    <tr>\n",
       "      <th>3</th>\n",
       "      <td>Content-Based Filtering</td>\n",
       "      <td>3.136424</td>\n",
       "      <td>2.970527</td>\n",
       "    </tr>\n",
       "    <tr>\n",
       "      <th>4</th>\n",
       "      <td>Weighted Hybrid</td>\n",
       "      <td>3.235184</td>\n",
       "      <td>3.094275</td>\n",
       "    </tr>\n",
       "    <tr>\n",
       "      <th>5</th>\n",
       "      <td>Switching Hybrid</td>\n",
       "      <td>3.409662</td>\n",
       "      <td>3.317797</td>\n",
       "    </tr>\n",
       "    <tr>\n",
       "      <th>6</th>\n",
       "      <td>Cascade Hybrid</td>\n",
       "      <td>3.136396</td>\n",
       "      <td>2.970584</td>\n",
       "    </tr>\n",
       "    <tr>\n",
       "      <th>7</th>\n",
       "      <td>Feature Augmentation Hybrid</td>\n",
       "      <td>3.235054</td>\n",
       "      <td>3.094185</td>\n",
       "    </tr>\n",
       "  </tbody>\n",
       "</table>\n",
       "</div>"
      ],
      "text/plain": [
       "                                Model      RMSE       MAE\n",
       "0  User-Based Collaborative Filtering  3.195810  3.062115\n",
       "1  Item-Based Collaborative Filtering  3.409662  3.317797\n",
       "2          Matrix Factorization (SVD)  1.048841  0.831591\n",
       "3             Content-Based Filtering  3.136424  2.970527\n",
       "4                     Weighted Hybrid  3.235184  3.094275\n",
       "5                    Switching Hybrid  3.409662  3.317797\n",
       "6                      Cascade Hybrid  3.136396  2.970584\n",
       "7         Feature Augmentation Hybrid  3.235054  3.094185"
      ]
     },
     "metadata": {},
     "output_type": "display_data"
    }
   ],
   "source": [
    "import pandas as pd\n",
    "import numpy as np\n",
    "\n",
    "# Create a dictionary to store the results\n",
    "results = {\n",
    "    'Model': [],\n",
    "    'RMSE': [],\n",
    "    'MAE': []\n",
    "}\n",
    "\n",
    "# Evaluate each model and append results to the dictionary\n",
    "\n",
    "# User-Based Collaborative Filtering\n",
    "rmse, mae = evaluate_user_based_cf(test_data, k=5)\n",
    "results['Model'].append('User-Based Collaborative Filtering')\n",
    "results['RMSE'].append(rmse)\n",
    "results['MAE'].append(mae)\n",
    "\n",
    "# Item-Based Collaborative Filtering\n",
    "rmse, mae = evaluate_item_based_cf(test_data, k=5)\n",
    "results['Model'].append('Item-Based Collaborative Filtering')\n",
    "results['RMSE'].append(rmse)\n",
    "results['MAE'].append(mae)\n",
    "\n",
    "# Matrix Factorization (SVD)\n",
    "rmse, mae = evaluate_svd_model(test_data)\n",
    "results['Model'].append('Matrix Factorization (SVD)')\n",
    "results['RMSE'].append(rmse)\n",
    "results['MAE'].append(mae)\n",
    "\n",
    "# Content-Based Filtering\n",
    "rmse, mae = evaluate_content_based(test_data, k=5)\n",
    "results['Model'].append('Content-Based Filtering')\n",
    "results['RMSE'].append(rmse)\n",
    "results['MAE'].append(mae)\n",
    "\n",
    "# Hybrid Models\n",
    "\n",
    "# Weighted Hybrid\n",
    "rmse, mae = evaluate_weighted_hybrid(test_data, k_cf=5, k_cb=5, weight_cf=0.7, weight_cb=0.3)\n",
    "results['Model'].append('Weighted Hybrid')\n",
    "results['RMSE'].append(rmse)\n",
    "results['MAE'].append(mae)\n",
    "\n",
    "# Switching Hybrid\n",
    "rmse, mae = evaluate_switching_hybrid(test_data, k_cf=5, k_cb=5)\n",
    "results['Model'].append('Switching Hybrid')\n",
    "results['RMSE'].append(rmse)\n",
    "results['MAE'].append(mae)\n",
    "\n",
    "# Cascade Hybrid\n",
    "rmse, mae = evaluate_cascade_hybrid(test_data, k_cb=5, k_cf=5)\n",
    "results['Model'].append('Cascade Hybrid')\n",
    "results['RMSE'].append(rmse)\n",
    "results['MAE'].append(mae)\n",
    "\n",
    "# Feature Augmentation Hybrid\n",
    "rmse, mae = evaluate_feature_augmentation_hybrid(test_data, k_cf=5, k_cb=5)\n",
    "results['Model'].append('Feature Augmentation Hybrid')\n",
    "results['RMSE'].append(rmse)\n",
    "results['MAE'].append(mae)\n",
    "\n",
    "# Convert the results dictionary into a pandas DataFrame\n",
    "results_df = pd.DataFrame(results)\n",
    "\n",
    "# Display the results DataFrame\n",
    "print(results_df)\n",
    "\n",
    "# To display in a more readable tabular format in Jupyter Notebook\n",
    "from IPython.display import display\n",
    "display(results_df)\n",
    "\n",
    "# ...\n"
   ]
  },
  {
   "cell_type": "markdown",
   "metadata": {},
   "source": [
    "#### Ouput Interpretation\n",
    "\n",
    "**1. User-Based Collaborative Filtering**\n",
    "* RMSE: 3.196\n",
    "* MAE: 3.062\n",
    "* This model compares the similarity between users to recommend movies. While it shows moderate performance, the relatively high RMSE and MAE indicate that this model is not very precise in predicting user ratings.\n",
    "\n",
    "**2. Item-Based Collaborative Filtering**\n",
    "RMSE: 3.410\n",
    "* MAE: 3.318\n",
    "* This method predicts a user’s rating for a movie based on similar items (movies). The performance is slightly worse than the user-based approach, with a higher error rate. This model may not capture user preferences as accurately as desired.\n",
    "\n",
    "**Matrix Factorization (SVD)**\n",
    "RMSE: 1.049\n",
    "MAE: 0.832\n",
    "* The SVD model performs significantly better than all other models with the lowest RMSE and MAE values. This suggests that matrix factorization effectively captures latent factors in the data, leading to highly accurate rating predictions. This model is best suited for the recommendation system based on its strong performance.\n",
    "\n",
    "**4. Content-Based Filtering**\n",
    "* RMSE: 3.136\n",
    "* MAE: 2.971\n",
    "* Content-based filtering recommends movies based on similar content (e.g., genre). The results show that content-based filtering performs slightly better than the user-based collaborative filtering but still lags far behind matrix factorization. The error values suggest that content-based filtering alone may not fully capture user preferences.\n",
    "\n",
    "**5. Weighted Hybrid**\n",
    "RMSE: 3.235\n",
    "MAE: 3.094\n",
    "\n",
    "* This hybrid method combines collaborative filtering and content-based filtering with assigned weights. However, its performance is closer to user-based and content-based filtering, with no significant improvement. The model's performance suggests that the weights may need more fine-tuning.\n",
    "\n",
    "**6. Switching Hybrid**\n",
    "RMSE: 3.410\n",
    "MAE: 3.318\n",
    "This hybrid model dynamically switches between content-based and collaborative filtering based on context. Its performance is similar to item-based collaborative filtering, with high error rates. This suggests that the model may not be switching optimally between methods.\n",
    "\n",
    "**7. Cascade Hybrid**\n",
    "* RMSE: 3.136\n",
    "* MAE: 2.971\n",
    "I \n",
    "This model first filters movies using one method (content-based) and then ranks them using another method (collaborative filtering). The results are comparable to the content-based filtering model, suggesting that the hybrid strategy does not significantly improve accuracy in this case.\n",
    "\n",
    "**8. Feature Augmentation Hybrid**\n",
    "* RMSE: 3.235\n",
    "* MAE: 3.094\n",
    "In this method, the output of one model is used as input features for another model. However, its performance is very similar to the weighted hybrid model, indicating no major improvement. Fine-tuning may be required for better performance.\n"
   ]
  },
  {
   "cell_type": "markdown",
   "metadata": {},
   "source": [
    "### Model Tuning\n"
   ]
  },
  {
   "cell_type": "markdown",
   "metadata": {},
   "source": [
    "#### Tuning Matrix Factorization (SVD)\n",
    "\n",
    "We'll tune the following parameters for the SVD model using  use GridSearchCV from the surprise library to tune the model\n",
    "\n",
    "* n_factors: Number of latent factors.\n",
    "* reg_all: Regularization term to prevent overfitting.\n",
    "* lr_all: Learning rate for the gradient descent."
   ]
  },
  {
   "cell_type": "code",
   "execution_count": 58,
   "metadata": {},
   "outputs": [
    {
     "name": "stdout",
     "output_type": "stream",
     "text": [
      "Best RMSE: 0.8690126974104279\n",
      "Best hyperparameters: {'n_factors': 100, 'reg_all': 0.1, 'lr_all': 0.02}\n",
      "Tuned Matrix Factorization (SVD): RMSE = 1.0488405992661316, MAE = 0.8315907281547354\n"
     ]
    }
   ],
   "source": [
    "from surprise import SVD\n",
    "from surprise.model_selection import GridSearchCV\n",
    "\n",
    "# Define the parameter grid for tuning\n",
    "param_grid = {\n",
    "    'n_factors': [50, 100, 150],      # Number of latent factors\n",
    "    'reg_all': [0.02, 0.05, 0.1],     # Regularization parameter\n",
    "    'lr_all': [0.005, 0.01, 0.02]     # Learning rate\n",
    "}\n",
    "\n",
    "# Perform Grid Search\n",
    "gs = GridSearchCV(SVD, param_grid, measures=['rmse', 'mae'], cv=3)\n",
    "gs.fit(data)\n",
    "\n",
    "# Get the best hyperparameters\n",
    "print(f'Best RMSE: {gs.best_score[\"rmse\"]}')\n",
    "print(f'Best hyperparameters: {gs.best_params[\"rmse\"]}')\n",
    "\n",
    "# Train the best SVD model\n",
    "best_svd = gs.best_estimator['rmse']\n",
    "trainset = data.build_full_trainset()\n",
    "best_svd.fit(trainset)\n",
    "\n",
    "# Evaluate the tuned SVD model on the test data\n",
    "rmse, mae = evaluate_svd_model(test_data)\n",
    "print(f'Tuned Matrix Factorization (SVD): RMSE = {rmse}, MAE = {mae}')\n"
   ]
  },
  {
   "cell_type": "markdown",
   "metadata": {},
   "source": [
    "#### Tuning User-Based Collaborative Filtering\n",
    "\n",
    "For User-Based CF, we’ll tune:\n",
    "\n",
    "* k: Number of similar users.\n",
    "* similarity_metric: Use cosine or Pearson similarity.\n",
    "* Since we already have the function to evaluate the model, we'll loop through different values of k and try both similarity metrics.\n"
   ]
  },
  {
   "cell_type": "code",
   "execution_count": 61,
   "metadata": {},
   "outputs": [
    {
     "name": "stdout",
     "output_type": "stream",
     "text": [
      "Best RMSE: 3.1258987020072566, Best MAE: 2.9861183924448444\n",
      "Best parameters: {'k': 20, 'similarity': 'cosine'}\n"
     ]
    }
   ],
   "source": [
    "from sklearn.metrics.pairwise import cosine_similarity, pairwise_distances\n",
    "\n",
    "# Define tuning parameters\n",
    "k_values = [5, 10, 20]  # Number of neighbors\n",
    "similarity_metrics = ['cosine', 'pearson']  # Similarity metrics\n",
    "\n",
    "best_rmse = float('inf')\n",
    "best_mae = float('inf')\n",
    "best_params = {}\n",
    "\n",
    "# Fill NaN values in the user-item matrix before applying cosine similarity\n",
    "user_item_matrix_filled = user_item_matrix.fillna(0)\n",
    "\n",
    "for k in k_values:\n",
    "    for metric in similarity_metrics:\n",
    "        if metric == 'cosine':\n",
    "            user_similarity_df = pd.DataFrame(cosine_similarity(user_item_matrix_filled), \n",
    "                                              index=user_item_matrix.index, \n",
    "                                              columns=user_item_matrix.index)\n",
    "        else:\n",
    "            user_similarity_df = pd.DataFrame(1 - pairwise_distances(user_item_matrix_filled, metric='correlation'), \n",
    "                                              index=user_item_matrix.index, \n",
    "                                              columns=user_item_matrix.index)\n",
    "        \n",
    "        # Evaluate the model\n",
    "        rmse, mae = evaluate_user_based_cf(test_data, k=k)\n",
    "        \n",
    "        # Check if it's the best so far\n",
    "        if rmse < best_rmse:\n",
    "            best_rmse = rmse\n",
    "            best_mae = mae\n",
    "            best_params = {'k': k, 'similarity': metric}\n",
    "\n",
    "print(f'Best RMSE: {best_rmse}, Best MAE: {best_mae}')\n",
    "print(f'Best parameters: {best_params}')\n"
   ]
  },
  {
   "cell_type": "markdown",
   "metadata": {},
   "source": [
    "#### Tuning Item-Based Collaborative Filtering\n",
    "\n",
    "For Item-Based CF, we’ll tune:\n",
    "\n",
    "* k: Number of similar items.\n",
    "* similarity_metric: Use cosine or Pearson similarity.\n",
    "* Similar approach to user-based CF."
   ]
  },
  {
   "cell_type": "code",
   "execution_count": 63,
   "metadata": {},
   "outputs": [
    {
     "name": "stdout",
     "output_type": "stream",
     "text": [
      "Best RMSE for Item-Based CF: 3.318291854713389, Best MAE: 3.2138705065972673\n",
      "Best parameters for Item-Based CF: {'k': 20, 'similarity': 'cosine'}\n"
     ]
    }
   ],
   "source": [
    "# Fill NaN values in the user-item matrix before applying cosine similarity (transpose)\n",
    "user_item_matrix_filled = user_item_matrix.fillna(0)  # Fill NaN with 0\n",
    "\n",
    "# Define tuning parameters\n",
    "k_values = [5, 10, 20]  # Number of neighbors\n",
    "similarity_metrics = ['cosine', 'pearson']  # Similarity metrics\n",
    "\n",
    "best_rmse_item = float('inf')\n",
    "best_mae_item = float('inf')\n",
    "best_params_item = {}\n",
    "\n",
    "for k in k_values:\n",
    "    for metric in similarity_metrics:\n",
    "        if metric == 'cosine':\n",
    "            # Apply cosine similarity on the filled user-item matrix transpose\n",
    "            item_similarity_df = pd.DataFrame(cosine_similarity(user_item_matrix_filled.T), \n",
    "                                              index=user_item_matrix.columns, \n",
    "                                              columns=user_item_matrix.columns)\n",
    "        else:\n",
    "            # Apply Pearson correlation on the filled user-item matrix transpose\n",
    "            item_similarity_df = pd.DataFrame(1 - pairwise_distances(user_item_matrix_filled.T, metric='correlation'), \n",
    "                                              index=user_item_matrix.columns, \n",
    "                                              columns=user_item_matrix.columns)\n",
    "        \n",
    "        # Evaluate the Item-Based CF model\n",
    "        rmse, mae = evaluate_item_based_cf(test_data, k=k)\n",
    "        \n",
    "        # Check if it's the best so far\n",
    "        if rmse < best_rmse_item:\n",
    "            best_rmse_item = rmse\n",
    "            best_mae_item = mae\n",
    "            best_params_item = {'k': k, 'similarity': metric}\n",
    "\n",
    "print(f'Best RMSE for Item-Based CF: {best_rmse_item}, Best MAE: {best_mae_item}')\n",
    "print(f'Best parameters for Item-Based CF: {best_params_item}')\n",
    "\n"
   ]
  },
  {
   "cell_type": "markdown",
   "metadata": {},
   "source": [
    "#### Tuning Weighted Hybrid\n"
   ]
  },
  {
   "cell_type": "code",
   "execution_count": 64,
   "metadata": {},
   "outputs": [
    {
     "name": "stdout",
     "output_type": "stream",
     "text": [
      "Best RMSE for Weighted Hybrid: 3.239177978942997, Best MAE: 3.0982959756658945\n",
      "Best weights: (0.5, 0.5)\n"
     ]
    }
   ],
   "source": [
    "weights = [(0.5, 0.5), (0.7, 0.3), (0.3, 0.7)]  # Weight combinations\n",
    "\n",
    "best_rmse_hybrid = float('inf')\n",
    "best_mae_hybrid = float('inf')\n",
    "best_weights = None\n",
    "\n",
    "for weight_cf, weight_cb in weights:\n",
    "    rmse, mae = evaluate_weighted_hybrid(test_data, k_cf=5, k_cb=5, weight_cf=weight_cf, weight_cb=weight_cb)\n",
    "    \n",
    "    if rmse < best_rmse_hybrid:\n",
    "        best_rmse_hybrid = rmse\n",
    "        best_mae_hybrid = mae\n",
    "        best_weights = (weight_cf, weight_cb)\n",
    "\n",
    "print(f'Best RMSE for Weighted Hybrid: {best_rmse_hybrid}, Best MAE: {best_mae_hybrid}')\n",
    "print(f'Best weights: {best_weights}')\n"
   ]
  },
  {
   "cell_type": "markdown",
   "metadata": {},
   "source": [
    "#### Tuning Switching Hybrid Model\n",
    "\n",
    "* The system dynamically switches between collaborative filtering and content-based filtering based on certain conditions (such as whether a user has rated enough movies or if the item has sufficient content data).\n",
    "\n",
    "* Tuning Strategy: We can tune the threshold for switching between the models. For example, we can define a threshold for the minimum number of user ratings required before using collaborative filtering, or a minimum number of similar items before using content-based filtering."
   ]
  },
  {
   "cell_type": "code",
   "execution_count": 68,
   "metadata": {},
   "outputs": [],
   "source": [
    "def evaluate_switching_hybrid(test_data, k_cf, k_cb, rating_threshold=10, similarity_threshold=0.5):\n",
    "    \"\"\"\n",
    "    Evaluate the Switching Hybrid model based on the rating and similarity thresholds.\n",
    "    \n",
    "    Parameters:\n",
    "    - test_data: The test data to evaluate on\n",
    "    - k_cf: Number of neighbors for collaborative filtering\n",
    "    - k_cb: Number of similar items for content-based filtering\n",
    "    - rating_threshold: Minimum number of ratings required for using collaborative filtering\n",
    "    - similarity_threshold: Minimum similarity score to use content-based filtering\n",
    "    \n",
    "    Returns:\n",
    "    - rmse: Root mean squared error of the model\n",
    "    - mae: Mean absolute error of the model\n",
    "    \"\"\"\n",
    "    \n",
    "    predictions = []\n",
    "    actuals = []\n",
    "\n",
    "    # Iterate over the test data\n",
    "    for idx, row in test_data.iterrows():\n",
    "        user_id = row['userId']\n",
    "        movie_id = row['movieId']\n",
    "        actual_rating = row['rating']\n",
    "        \n",
    "        # Ensure both user_id and movie_id are treated as strings or integers consistently\n",
    "        user_id = str(user_id)  # Or use int(user_id) if your matrix keys are integers\n",
    "        movie_id = str(movie_id)\n",
    "\n",
    "        # Step 1: Check if the user exists in the user-item matrix\n",
    "        if user_id in user_item_matrix.index:\n",
    "            user_ratings = user_item_matrix.loc[user_id, :]\n",
    "            \n",
    "            # Step 2: Check if the user has rated enough movies to use collaborative filtering\n",
    "            if user_ratings.count() >= rating_threshold:\n",
    "                # Use collaborative filtering\n",
    "                predicted_rating = user_based_predict(user_id, movie_id, k_cf)\n",
    "            else:\n",
    "                # Use content-based filtering if collaborative filtering isn't applicable\n",
    "                predicted_rating = content_based_predict(user_id, movie_id)\n",
    "            \n",
    "            # Step 3: Optionally, if similarity is too low, switch to content-based filtering\n",
    "            if predicted_rating < similarity_threshold:\n",
    "                predicted_rating = content_based_predict(user_id, movie_id)\n",
    "        else:\n",
    "            # If the user does not exist in the user-item matrix, default to content-based filtering\n",
    "            predicted_rating = content_based_predict(user_id, movie_id)\n",
    "\n",
    "        # Append predictions and actual values for evaluation\n",
    "        if not np.isnan(predicted_rating):\n",
    "            predictions.append(predicted_rating)\n",
    "            actuals.append(actual_rating)\n",
    "\n",
    "    # Calculate RMSE and MAE\n",
    "    rmse = np.sqrt(mean_squared_error(actuals, predictions))\n",
    "    mae = mean_absolute_error(actuals, predictions)\n",
    "    \n",
    "    return rmse, mae\n"
   ]
  },
  {
   "cell_type": "code",
   "execution_count": 69,
   "metadata": {},
   "outputs": [
    {
     "name": "stdout",
     "output_type": "stream",
     "text": [
      "Best RMSE for Switching Hybrid: 3.092378491472052, Best MAE: 2.9629620625339754\n",
      "Best parameters: {'rating_threshold': 5, 'similarity_threshold': 0.7}\n"
     ]
    }
   ],
   "source": [
    "# Define possible thresholds for switching logic\n",
    "rating_thresholds = [5, 10, 15]  # Minimum number of ratings a user must have to use CF\n",
    "similarity_thresholds = [0.3, 0.5, 0.7]  # Minimum similarity to switch to CB\n",
    "\n",
    "best_rmse_switch = float('inf')\n",
    "best_mae_switch = float('inf')\n",
    "best_params_switch = {}\n",
    "\n",
    "for rating_thresh in rating_thresholds:\n",
    "    for similarity_thresh in similarity_thresholds:\n",
    "        rmse, mae = evaluate_switching_hybrid(test_data, k_cf=5, k_cb=5, rating_threshold=rating_thresh, similarity_threshold=similarity_thresh)\n",
    "        \n",
    "        if rmse < best_rmse_switch:\n",
    "            best_rmse_switch = rmse\n",
    "            best_mae_switch = mae\n",
    "            best_params_switch = {'rating_threshold': rating_thresh, 'similarity_threshold': similarity_thresh}\n",
    "\n",
    "print(f'Best RMSE for Switching Hybrid: {best_rmse_switch}, Best MAE: {best_mae_switch}')\n",
    "print(f'Best parameters: {best_params_switch}')\n"
   ]
  },
  {
   "cell_type": "markdown",
   "metadata": {},
   "source": [
    " #### Cascade Hybrid Model\n",
    "* One model (e.g., content-based filtering) is applied first to filter down the recommendations, and then another model (e.g., collaborative filtering) is applied to rank the remaining items.\n",
    "\n",
    "* We can tune the filtering criteria in the first step (e.g., how many items are retained by the content-based model) and the number of neighbors k used in collaborative filtering."
   ]
  },
  {
   "cell_type": "code",
   "execution_count": 71,
   "metadata": {},
   "outputs": [],
   "source": [
    "def evaluate_cascade_hybrid(test_data, k_cb, k_cf, filter_size=5):\n",
    "    \"\"\"\n",
    "    Evaluate the Cascade Hybrid model based on the filter size and collaborative filtering neighbors (k_cf).\n",
    "    \n",
    "    Parameters:\n",
    "    - test_data: The test data to evaluate on\n",
    "    - k_cb: Number of similar items for content-based filtering\n",
    "    - k_cf: Number of neighbors for collaborative filtering\n",
    "    - filter_size: Number of items to retain after content-based filtering\n",
    "    \n",
    "    Returns:\n",
    "    - rmse: Root mean squared error of the model\n",
    "    - mae: Mean absolute error of the model\n",
    "    \"\"\"\n",
    "    \n",
    "    predictions = []\n",
    "    actuals = []\n",
    "\n",
    "    # Iterate over the test data\n",
    "    for idx, row in test_data.iterrows():\n",
    "        user_id = row['userId']\n",
    "        movie_id = row['movieId']\n",
    "        actual_rating = row['rating']\n",
    "\n",
    "        # Ensure both user_id and movie_id are treated as strings or integers consistently\n",
    "        user_id = str(user_id)  # Or use int(user_id) if your matrix keys are integers\n",
    "        movie_id = str(movie_id)\n",
    "\n",
    "        # Step 1: Use content-based filtering to get top N similar movies\n",
    "        similar_movies = get_similar_movies_by_genre(movie_id, filter_size)\n",
    "        \n",
    "        # Step 2: Use collaborative filtering to refine the recommendation\n",
    "        predicted_rating = item_based_predict(user_id, movie_id, k_cf)\n",
    "\n",
    "        # Append predictions and actual values for evaluation\n",
    "        if not np.isnan(predicted_rating):\n",
    "            predictions.append(predicted_rating)\n",
    "            actuals.append(actual_rating)\n",
    "\n",
    "    # Calculate RMSE and MAE\n",
    "    rmse = np.sqrt(mean_squared_error(actuals, predictions))\n",
    "    mae = mean_absolute_error(actuals, predictions)\n",
    "    \n",
    "    return rmse, mae\n"
   ]
  },
  {
   "cell_type": "code",
   "execution_count": 72,
   "metadata": {},
   "outputs": [
    {
     "name": "stdout",
     "output_type": "stream",
     "text": [
      "Best RMSE for Cascade Hybrid: 3.3293741848431995, Best MAE: 3.227635877906719\n",
      "Best parameters: {'filter_size': 5, 'k_cf': 20}\n"
     ]
    }
   ],
   "source": [
    "# Define possible filter sizes and number of neighbors for CF\n",
    "filter_sizes = [5, 10, 15]  # Number of items to retain after CB filtering\n",
    "k_values = [5, 10, 20]  # Number of neighbors in CF\n",
    "\n",
    "best_rmse_cascade = float('inf')\n",
    "best_mae_cascade = float('inf')\n",
    "best_params_cascade = {}\n",
    "\n",
    "for filter_size in filter_sizes:\n",
    "    for k in k_values:\n",
    "        rmse, mae = evaluate_cascade_hybrid(test_data, k_cb=5, k_cf=k, filter_size=filter_size)\n",
    "        \n",
    "        if rmse < best_rmse_cascade:\n",
    "            best_rmse_cascade = rmse\n",
    "            best_mae_cascade = mae\n",
    "            best_params_cascade = {'filter_size': filter_size, 'k_cf': k}\n",
    "\n",
    "print(f'Best RMSE for Cascade Hybrid: {best_rmse_cascade}, Best MAE: {best_mae_cascade}')\n",
    "print(f'Best parameters: {best_params_cascade}')\n",
    "\n"
   ]
  },
  {
   "cell_type": "markdown",
   "metadata": {},
   "source": [
    "#### Evaluating the Tuned Models"
   ]
  },
  {
   "cell_type": "markdown",
   "metadata": {},
   "source": [
    "#### Summary of Tuned Models"
   ]
  },
  {
   "cell_type": "code",
   "execution_count": null,
   "metadata": {},
   "outputs": [],
   "source": [
    "import pandas as pd\n",
    "\n",
    "# Create a dictionary to store the results for the tuned models\n",
    "results = {\n",
    "    'Model': [],\n",
    "    'RMSE': [],\n",
    "    'MAE': []\n",
    "}\n",
    "\n",
    "# Tuned User-Based Collaborative Filtering\n",
    "\n",
    "rmse, mae = evaluate_user_based_cf(test_data, k=best_k_user_based)\n",
    "results['Model'].append('Tuned User-Based Collaborative Filtering')\n",
    "results['RMSE'].append(rmse)\n",
    "results['MAE'].append(mae)\n",
    "\n",
    "# Tuned Item-Based Collaborative Filtering\n",
    "rmse, mae = evaluate_item_based_cf(test_data, k=best_k_item_based)  \n",
    "results['Model'].append('Tuned Item-Based Collaborative Filtering')\n",
    "results['RMSE'].append(rmse)\n",
    "results['MAE'].append(mae)\n",
    "\n",
    "# Tuned Matrix Factorization (SVD)\n",
    "rmse, mae = evaluate_svd_model(test_data, n_factors=best_n_factors_svd)  # Assuming best_n_factors_svd was obtained\n",
    "results['Model'].append('Tuned Matrix Factorization (SVD)')\n",
    "results['RMSE'].append(rmse)\n",
    "results['MAE'].append(mae)\n",
    "\n",
    "# Tuned Content-Based Filtering\n",
    "rmse, mae = evaluate_content_based(test_data, k=best_k_content_based) \n",
    "results['Model'].append('Tuned Content-Based Filtering')\n",
    "results['RMSE'].append(rmse)\n",
    "results['MAE'].append(mae)\n",
    "\n",
    "# Tuned Weighted Hybrid\n",
    "rmse, mae = evaluate_weighted_hybrid(test_data, k_cf=5, k_cb=5, weight_cf=best_weight_cf, weight_cb=best_weight_cb)\n",
    "results['Model'].append('Tuned Weighted Hybrid')\n",
    "results['RMSE'].append(rmse)\n",
    "results['MAE'].append(mae)\n",
    "\n",
    "# Tuned Switching Hybrid\n",
    "rmse, mae = evaluate_switching_hybrid(test_data, k_cf=5, k_cb=5, rating_threshold=best_rating_threshold, similarity_threshold=best_similarity_threshold)\n",
    "results['Model'].append('Tuned Switching Hybrid')\n",
    "results['RMSE'].append(rmse)\n",
    "results['MAE'].append(mae)\n",
    "\n",
    "# Tuned Cascade Hybrid\n",
    "rmse, mae = evaluate_cascade_hybrid(test_data, k_cb=5, k_cf=best_k_cascade_cf, filter_size=best_filter_size)\n",
    "results['Model'].append('Tuned Cascade Hybrid')\n",
    "results['RMSE'].append(rmse)\n",
    "results['MAE'].append(mae)\n",
    "\n",
    "# Tuned Feature Augmentation Hybrid\n",
    "rmse, mae = evaluate_feature_augmentation_hybrid(test_data, k_cf=5, k_cb=5, method='linear')  # If tuning resulted in 'linear'\n",
    "results['Model'].append('Tuned Feature Augmentation Hybrid')\n",
    "results['RMSE'].append(rmse)\n",
    "results['MAE'].append(mae)\n",
    "\n",
    "# Convert results dictionary to a DataFrame\n",
    "results_df = pd.DataFrame(results)\n",
    "\n",
    "# Display the summary table\n",
    "import ace_tools as tools; tools.display_dataframe_to_user(name=\"Tuned Model Evaluation Results\", dataframe=results_df)\n",
    "\n",
    "# Print the results DataFrame for clarity in output\n",
    "print(results_df)\n"
   ]
  }
 ],
 "metadata": {
  "kernelspec": {
   "display_name": "learn-env",
   "language": "python",
   "name": "python3"
  },
  "language_info": {
   "codemirror_mode": {
    "name": "ipython",
    "version": 3
   },
   "file_extension": ".py",
   "mimetype": "text/x-python",
   "name": "python",
   "nbconvert_exporter": "python",
   "pygments_lexer": "ipython3",
   "version": "3.8.5"
  }
 },
 "nbformat": 4,
 "nbformat_minor": 2
}
