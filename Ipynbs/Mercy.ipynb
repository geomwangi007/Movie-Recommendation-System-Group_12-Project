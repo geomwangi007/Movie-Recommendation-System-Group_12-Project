{
 "cells": [
  {
   "cell_type": "markdown",
   "metadata": {},
   "source": [
    "## MOVIE RECOMMENDATION SYSTEM\n",
    "\n",
    "##### BUSINESS UNDERSTANDING\n",
    "The goal of this project is to build a recommendation system to improve user experience and drive engagement.\n",
    "This system aims to recommend movies based on user's watch history and preferences.\n",
    "\n",
    "##### OBJECTIVES\n",
    "The key business goals are as follows:\n",
    "1. To improve customer experience and satisfaction by providing personalized recommendations according to user preference, leading to increased engagements.\n",
    "2. To increase user retention by keeping users active and engaged by suggesting movies that align with their intersts therefore reducing customer churn rates.\n",
    "3. Driving revenue through targeted advertising and premium content subscription.\n",
    "4. To introduce users to new movies they might not have considered.\n",
    "5. To provide insights on user behavior and preferences to inform future content development and marketing strategies.\n",
    "\n",
    "##### DATA UNDERSTANDING\n",
    "The data used is from https://grouplens.org/datasets/movielens/latest/. This dataset is from the GroupLens Research laboratory from the University of Minesota.\n",
    "The dataset contains the following information:\n",
    "1. Links.csv with these columns: movieId, imdbId and tmdbId\n",
    "2. Movies.csv with these columns: movieId, title and genres\n",
    "3. tags.csv with these columns: userId, movieId, tag and timestamp\n",
    "4. rating.csv with these columns: userId, movieId ,rating and timestamp\n"
   ]
  },
  {
   "cell_type": "markdown",
   "metadata": {},
   "source": [
    "#### LOADING THE DATASETS"
   ]
  },
  {
   "cell_type": "code",
   "execution_count": 1,
   "metadata": {},
   "outputs": [],
   "source": [
    "import pandas as pd\n",
    "\n",
    "#loading the datasets\n",
    "movies_df = pd.read_csv(r'C:\\Users\\hp\\Documents\\phase4_project\\Movie-Recommendation-System-Group_12-Project\\Data\\ml-latest-small\\movies.csv')\n",
    "links = pd.read_csv(r'C:\\Users\\hp\\Documents\\phase4_project\\Movie-Recommendation-System-Group_12-Project\\Data\\ml-latest-small\\links.csv')\n",
    "ratings = pd.read_csv(r'C:\\Users\\hp\\Documents\\phase4_project\\Movie-Recommendation-System-Group_12-Project\\Data\\ml-latest-small\\ratings.csv')\n",
    "tags = pd.read_csv(r'C:\\Users\\hp\\Documents\\phase4_project\\Movie-Recommendation-System-Group_12-Project\\Data\\ml-latest-small\\tags.csv')\n"
   ]
  },
  {
   "cell_type": "code",
   "execution_count": 2,
   "metadata": {},
   "outputs": [
    {
     "data": {
      "text/html": [
       "<div>\n",
       "<style scoped>\n",
       "    .dataframe tbody tr th:only-of-type {\n",
       "        vertical-align: middle;\n",
       "    }\n",
       "\n",
       "    .dataframe tbody tr th {\n",
       "        vertical-align: top;\n",
       "    }\n",
       "\n",
       "    .dataframe thead th {\n",
       "        text-align: right;\n",
       "    }\n",
       "</style>\n",
       "<table border=\"1\" class=\"dataframe\">\n",
       "  <thead>\n",
       "    <tr style=\"text-align: right;\">\n",
       "      <th></th>\n",
       "      <th>movieId</th>\n",
       "      <th>title</th>\n",
       "      <th>genres</th>\n",
       "    </tr>\n",
       "  </thead>\n",
       "  <tbody>\n",
       "    <tr>\n",
       "      <th>0</th>\n",
       "      <td>1</td>\n",
       "      <td>Toy Story (1995)</td>\n",
       "      <td>Adventure|Animation|Children|Comedy|Fantasy</td>\n",
       "    </tr>\n",
       "    <tr>\n",
       "      <th>1</th>\n",
       "      <td>2</td>\n",
       "      <td>Jumanji (1995)</td>\n",
       "      <td>Adventure|Children|Fantasy</td>\n",
       "    </tr>\n",
       "    <tr>\n",
       "      <th>2</th>\n",
       "      <td>3</td>\n",
       "      <td>Grumpier Old Men (1995)</td>\n",
       "      <td>Comedy|Romance</td>\n",
       "    </tr>\n",
       "    <tr>\n",
       "      <th>3</th>\n",
       "      <td>4</td>\n",
       "      <td>Waiting to Exhale (1995)</td>\n",
       "      <td>Comedy|Drama|Romance</td>\n",
       "    </tr>\n",
       "    <tr>\n",
       "      <th>4</th>\n",
       "      <td>5</td>\n",
       "      <td>Father of the Bride Part II (1995)</td>\n",
       "      <td>Comedy</td>\n",
       "    </tr>\n",
       "  </tbody>\n",
       "</table>\n",
       "</div>"
      ],
      "text/plain": [
       "   movieId                               title  \\\n",
       "0        1                    Toy Story (1995)   \n",
       "1        2                      Jumanji (1995)   \n",
       "2        3             Grumpier Old Men (1995)   \n",
       "3        4            Waiting to Exhale (1995)   \n",
       "4        5  Father of the Bride Part II (1995)   \n",
       "\n",
       "                                        genres  \n",
       "0  Adventure|Animation|Children|Comedy|Fantasy  \n",
       "1                   Adventure|Children|Fantasy  \n",
       "2                               Comedy|Romance  \n",
       "3                         Comedy|Drama|Romance  \n",
       "4                                       Comedy  "
      ]
     },
     "execution_count": 2,
     "metadata": {},
     "output_type": "execute_result"
    }
   ],
   "source": [
    "movies_df.head()"
   ]
  },
  {
   "cell_type": "code",
   "execution_count": 3,
   "metadata": {},
   "outputs": [
    {
     "data": {
      "text/html": [
       "<div>\n",
       "<style scoped>\n",
       "    .dataframe tbody tr th:only-of-type {\n",
       "        vertical-align: middle;\n",
       "    }\n",
       "\n",
       "    .dataframe tbody tr th {\n",
       "        vertical-align: top;\n",
       "    }\n",
       "\n",
       "    .dataframe thead th {\n",
       "        text-align: right;\n",
       "    }\n",
       "</style>\n",
       "<table border=\"1\" class=\"dataframe\">\n",
       "  <thead>\n",
       "    <tr style=\"text-align: right;\">\n",
       "      <th></th>\n",
       "      <th>userId</th>\n",
       "      <th>movieId</th>\n",
       "      <th>rating</th>\n",
       "      <th>timestamp</th>\n",
       "    </tr>\n",
       "  </thead>\n",
       "  <tbody>\n",
       "    <tr>\n",
       "      <th>0</th>\n",
       "      <td>1</td>\n",
       "      <td>1</td>\n",
       "      <td>4.0</td>\n",
       "      <td>964982703</td>\n",
       "    </tr>\n",
       "    <tr>\n",
       "      <th>1</th>\n",
       "      <td>1</td>\n",
       "      <td>3</td>\n",
       "      <td>4.0</td>\n",
       "      <td>964981247</td>\n",
       "    </tr>\n",
       "    <tr>\n",
       "      <th>2</th>\n",
       "      <td>1</td>\n",
       "      <td>6</td>\n",
       "      <td>4.0</td>\n",
       "      <td>964982224</td>\n",
       "    </tr>\n",
       "    <tr>\n",
       "      <th>3</th>\n",
       "      <td>1</td>\n",
       "      <td>47</td>\n",
       "      <td>5.0</td>\n",
       "      <td>964983815</td>\n",
       "    </tr>\n",
       "    <tr>\n",
       "      <th>4</th>\n",
       "      <td>1</td>\n",
       "      <td>50</td>\n",
       "      <td>5.0</td>\n",
       "      <td>964982931</td>\n",
       "    </tr>\n",
       "  </tbody>\n",
       "</table>\n",
       "</div>"
      ],
      "text/plain": [
       "   userId  movieId  rating  timestamp\n",
       "0       1        1     4.0  964982703\n",
       "1       1        3     4.0  964981247\n",
       "2       1        6     4.0  964982224\n",
       "3       1       47     5.0  964983815\n",
       "4       1       50     5.0  964982931"
      ]
     },
     "execution_count": 3,
     "metadata": {},
     "output_type": "execute_result"
    }
   ],
   "source": [
    "ratings.head()"
   ]
  },
  {
   "cell_type": "code",
   "execution_count": 4,
   "metadata": {},
   "outputs": [
    {
     "data": {
      "text/html": [
       "<div>\n",
       "<style scoped>\n",
       "    .dataframe tbody tr th:only-of-type {\n",
       "        vertical-align: middle;\n",
       "    }\n",
       "\n",
       "    .dataframe tbody tr th {\n",
       "        vertical-align: top;\n",
       "    }\n",
       "\n",
       "    .dataframe thead th {\n",
       "        text-align: right;\n",
       "    }\n",
       "</style>\n",
       "<table border=\"1\" class=\"dataframe\">\n",
       "  <thead>\n",
       "    <tr style=\"text-align: right;\">\n",
       "      <th></th>\n",
       "      <th>movieId</th>\n",
       "      <th>imdbId</th>\n",
       "      <th>tmdbId</th>\n",
       "    </tr>\n",
       "  </thead>\n",
       "  <tbody>\n",
       "    <tr>\n",
       "      <th>0</th>\n",
       "      <td>1</td>\n",
       "      <td>114709</td>\n",
       "      <td>862.0</td>\n",
       "    </tr>\n",
       "    <tr>\n",
       "      <th>1</th>\n",
       "      <td>2</td>\n",
       "      <td>113497</td>\n",
       "      <td>8844.0</td>\n",
       "    </tr>\n",
       "    <tr>\n",
       "      <th>2</th>\n",
       "      <td>3</td>\n",
       "      <td>113228</td>\n",
       "      <td>15602.0</td>\n",
       "    </tr>\n",
       "    <tr>\n",
       "      <th>3</th>\n",
       "      <td>4</td>\n",
       "      <td>114885</td>\n",
       "      <td>31357.0</td>\n",
       "    </tr>\n",
       "    <tr>\n",
       "      <th>4</th>\n",
       "      <td>5</td>\n",
       "      <td>113041</td>\n",
       "      <td>11862.0</td>\n",
       "    </tr>\n",
       "  </tbody>\n",
       "</table>\n",
       "</div>"
      ],
      "text/plain": [
       "   movieId  imdbId   tmdbId\n",
       "0        1  114709    862.0\n",
       "1        2  113497   8844.0\n",
       "2        3  113228  15602.0\n",
       "3        4  114885  31357.0\n",
       "4        5  113041  11862.0"
      ]
     },
     "execution_count": 4,
     "metadata": {},
     "output_type": "execute_result"
    }
   ],
   "source": [
    "links.head()"
   ]
  },
  {
   "cell_type": "code",
   "execution_count": 5,
   "metadata": {},
   "outputs": [
    {
     "data": {
      "text/html": [
       "<div>\n",
       "<style scoped>\n",
       "    .dataframe tbody tr th:only-of-type {\n",
       "        vertical-align: middle;\n",
       "    }\n",
       "\n",
       "    .dataframe tbody tr th {\n",
       "        vertical-align: top;\n",
       "    }\n",
       "\n",
       "    .dataframe thead th {\n",
       "        text-align: right;\n",
       "    }\n",
       "</style>\n",
       "<table border=\"1\" class=\"dataframe\">\n",
       "  <thead>\n",
       "    <tr style=\"text-align: right;\">\n",
       "      <th></th>\n",
       "      <th>userId</th>\n",
       "      <th>movieId</th>\n",
       "      <th>tag</th>\n",
       "      <th>timestamp</th>\n",
       "    </tr>\n",
       "  </thead>\n",
       "  <tbody>\n",
       "    <tr>\n",
       "      <th>0</th>\n",
       "      <td>2</td>\n",
       "      <td>60756</td>\n",
       "      <td>funny</td>\n",
       "      <td>1445714994</td>\n",
       "    </tr>\n",
       "    <tr>\n",
       "      <th>1</th>\n",
       "      <td>2</td>\n",
       "      <td>60756</td>\n",
       "      <td>Highly quotable</td>\n",
       "      <td>1445714996</td>\n",
       "    </tr>\n",
       "    <tr>\n",
       "      <th>2</th>\n",
       "      <td>2</td>\n",
       "      <td>60756</td>\n",
       "      <td>will ferrell</td>\n",
       "      <td>1445714992</td>\n",
       "    </tr>\n",
       "    <tr>\n",
       "      <th>3</th>\n",
       "      <td>2</td>\n",
       "      <td>89774</td>\n",
       "      <td>Boxing story</td>\n",
       "      <td>1445715207</td>\n",
       "    </tr>\n",
       "    <tr>\n",
       "      <th>4</th>\n",
       "      <td>2</td>\n",
       "      <td>89774</td>\n",
       "      <td>MMA</td>\n",
       "      <td>1445715200</td>\n",
       "    </tr>\n",
       "  </tbody>\n",
       "</table>\n",
       "</div>"
      ],
      "text/plain": [
       "   userId  movieId              tag   timestamp\n",
       "0       2    60756            funny  1445714994\n",
       "1       2    60756  Highly quotable  1445714996\n",
       "2       2    60756     will ferrell  1445714992\n",
       "3       2    89774     Boxing story  1445715207\n",
       "4       2    89774              MMA  1445715200"
      ]
     },
     "execution_count": 5,
     "metadata": {},
     "output_type": "execute_result"
    }
   ],
   "source": [
    "tags.head()"
   ]
  },
  {
   "cell_type": "markdown",
   "metadata": {},
   "source": [
    "#### INSPECTING THE DATASET FOR ANY MISSING VALUES AND DUPLICATES\n",
    "Checking for missing values in the dataset"
   ]
  },
  {
   "cell_type": "code",
   "execution_count": 6,
   "metadata": {},
   "outputs": [
    {
     "name": "stdout",
     "output_type": "stream",
     "text": [
      "movieId    0\n",
      "title      0\n",
      "genres     0\n",
      "dtype: int64\n",
      "userId       0\n",
      "movieId      0\n",
      "rating       0\n",
      "timestamp    0\n",
      "dtype: int64\n",
      "userId       0\n",
      "movieId      0\n",
      "tag          0\n",
      "timestamp    0\n",
      "dtype: int64\n",
      "movieId    0\n",
      "imdbId     0\n",
      "tmdbId     8\n",
      "dtype: int64\n"
     ]
    }
   ],
   "source": [
    "print(movies_df.isnull().sum())\n",
    "print(ratings.isnull().sum())\n",
    "print(tags.isnull().sum())\n",
    "print(links.isnull().sum())"
   ]
  },
  {
   "cell_type": "markdown",
   "metadata": {},
   "source": [
    "From the code above we can see that the dataset is fairly clean so we can check for any duplicate rows and drop them"
   ]
  },
  {
   "cell_type": "code",
   "execution_count": 7,
   "metadata": {},
   "outputs": [
    {
     "name": "stdout",
     "output_type": "stream",
     "text": [
      "0\n",
      "0\n",
      "0\n",
      "0\n"
     ]
    }
   ],
   "source": [
    "print(movies_df.duplicated().sum())\n",
    "print(ratings.duplicated().sum())\n",
    "print(tags.duplicated().sum())\n",
    "print(links.duplicated().sum())"
   ]
  },
  {
   "cell_type": "markdown",
   "metadata": {},
   "source": [
    "The dataset has no duplicates."
   ]
  },
  {
   "cell_type": "markdown",
   "metadata": {},
   "source": [
    "### EXPLORATORY DATA ANALYSIS\n",
    "This is to:\n",
    "1. Identify patterns in user interactions.\n",
    "2. Understand sparsity in user-item matrices.\n",
    "3. Visualize distributions (e.g., ratings distributions, most popular items)"
   ]
  },
  {
   "cell_type": "code",
   "execution_count": 8,
   "metadata": {},
   "outputs": [],
   "source": [
    "#loading the necessary libraries\n",
    "import matplotlib.pyplot as plt   \n",
    "import seaborn as sns"
   ]
  },
  {
   "cell_type": "markdown",
   "metadata": {},
   "source": [
    "### DISTRIBUTION OF RATINGS"
   ]
  },
  {
   "cell_type": "code",
   "execution_count": 9,
   "metadata": {},
   "outputs": [
    {
     "data": {
      "image/png": "[encoded data removed]",
      "text/plain": [
       "<Figure size 576x432 with 1 Axes>"
      ]
     },
     "metadata": {
      "needs_background": "light"
     },
     "output_type": "display_data"
    }
   ],
   "source": [
    "plt.figure(figsize=(8, 6))\n",
    "sns.histplot(ratings['rating'], bins=5, kde=True)\n",
    "plt.title('Distribution of Movie Ratings')\n",
    "plt.xlabel('Rating')\n",
    "plt.ylabel('Frequency')\n",
    "plt.show()"
   ]
  },
  {
   "cell_type": "markdown",
   "metadata": {},
   "source": [
    "#### NUMBER RATINGS PER MOVIES\n",
    "Visualizing the top 10 rated movies"
   ]
  },
  {
   "cell_type": "code",
   "execution_count": 10,
   "metadata": {},
   "outputs": [
    {
     "data": {
      "image/png": "[encoded data removed]",
      "text/plain": [
       "<Figure size 720x432 with 1 Axes>"
      ]
     },
     "metadata": {
      "needs_background": "light"
     },
     "output_type": "display_data"
    }
   ],
   "source": [
    "# Number of ratings per movie\n",
    "ratings_per_movie = ratings.groupby('movieId')['rating'].count().sort_values(ascending=False)\n",
    "\n",
    "plt.figure(figsize=(10, 6))\n",
    "ratings_per_movie.head(10).plot(kind='bar')\n",
    "plt.title('Top 10 Most Rated Movies')\n",
    "plt.xlabel('Movie ID')\n",
    "plt.ylabel('Number of Ratings')\n",
    "plt.show()\n"
   ]
  },
  {
   "cell_type": "markdown",
   "metadata": {},
   "source": [
    "#### NUMBER OF USERS PER RATING"
   ]
  },
  {
   "cell_type": "code",
   "execution_count": 11,
   "metadata": {},
   "outputs": [
    {
     "data": {
      "image/png": "[encoded data removed]",
      "text/plain": [
       "<Figure size 720x432 with 1 Axes>"
      ]
     },
     "metadata": {
      "needs_background": "light"
     },
     "output_type": "display_data"
    }
   ],
   "source": [
    "# Number of ratings per user\n",
    "ratings_per_user = ratings.groupby('userId')['rating'].count().sort_values(ascending=False)\n",
    "\n",
    "# Plot the top 10 users with the most ratings\n",
    "plt.figure(figsize=(10, 6))\n",
    "ratings_per_user.head(10).plot(kind='bar')\n",
    "plt.title('Top 10 Users with the Most Ratings')\n",
    "plt.xlabel('User ID')\n",
    "plt.ylabel('Number of Ratings')\n",
    "plt.show()\n"
   ]
  },
  {
   "cell_type": "markdown",
   "metadata": {},
   "source": [
    "#### AVERAGE RATINGS PER MOVIE"
   ]
  },
  {
   "cell_type": "code",
   "execution_count": 12,
   "metadata": {},
   "outputs": [
    {
     "data": {
      "image/png": "[encoded data removed]",
      "text/plain": [
       "<Figure size 720x432 with 1 Axes>"
      ]
     },
     "metadata": {
      "needs_background": "light"
     },
     "output_type": "display_data"
    }
   ],
   "source": [
    "# Average rating per movie\n",
    "average_ratings = ratings.groupby('movieId')['rating'].mean().sort_values(ascending=False)\n",
    "\n",
    "# Plot the top 10 highest-rated movies\n",
    "plt.figure(figsize=(10, 6))\n",
    "average_ratings.head(10).plot(kind='bar')\n",
    "plt.title('Top 10 Highest Rated Movies')\n",
    "plt.xlabel('Movie ID')\n",
    "plt.ylabel('Average Rating')\n",
    "plt.show()\n"
   ]
  },
  {
   "cell_type": "markdown",
   "metadata": {},
   "source": [
    "##### CORRELATION BETWEEN NUMBER OF RATINGS AND AVERAGE RATINGS"
   ]
  },
  {
   "cell_type": "code",
   "execution_count": 13,
   "metadata": {},
   "outputs": [
    {
     "data": {
      "image/png": "[encoded data removed]",
      "text/plain": [
       "<Figure size 576x432 with 1 Axes>"
      ]
     },
     "metadata": {
      "needs_background": "light"
     },
     "output_type": "display_data"
    }
   ],
   "source": [
    "# Create a new dataframe with movie_id, number of ratings, and average rating\n",
    "movie_stats = ratings.groupby('movieId').agg({'rating': ['mean', 'count']})\n",
    "movie_stats.columns = ['avg_rating', 'num_ratings']\n",
    "\n",
    "# Plot correlation\n",
    "plt.figure(figsize=(8, 6))\n",
    "sns.scatterplot(x='num_ratings', y='avg_rating', data=movie_stats)\n",
    "plt.title('Correlation between Number of Ratings and Average Rating')\n",
    "plt.xlabel('Number of Ratings')\n",
    "plt.ylabel('Average Rating')\n",
    "plt.show()\n"
   ]
  },
  {
   "cell_type": "markdown",
   "metadata": {},
   "source": [
    "#### DATA PREPROCESSING\n",
    "##### 1. Preprocessing the movie dataset"
   ]
  },
  {
   "cell_type": "code",
   "execution_count": 14,
   "metadata": {},
   "outputs": [],
   "source": [
    "# One-hot encode genres for content-based filtering\n",
    "movies_df['genres'] = movies_df['genres'].str.split('|')\n",
    "movies_genres = movies_df['genres'].str.join('|').str.get_dummies()\n",
    "\n",
    "# Combine movies and genres data\n",
    "movies = pd.concat([movies_df[['movieId', 'title']], movies_genres], axis=1)\n",
    "\n",
    "# Preprocess tags (merge tags for the same movie)\n",
    "tags_grouped = tags.groupby('movieId')['tag'].apply(lambda x: ' '.join(x)).reset_index()\n",
    "\n",
    "# Merge tags with movies dataframe\n",
    "movies = pd.merge(movies, tags_grouped, on='movieId', how='left')\n"
   ]
  },
  {
   "cell_type": "markdown",
   "metadata": {},
   "source": [
    "#### MODELLING\n",
    "##### COLLABORATIVE FILTERING SYSTEM"
   ]
  },
  {
   "cell_type": "code",
   "execution_count": 15,
   "metadata": {},
   "outputs": [
    {
     "name": "stdout",
     "output_type": "stream",
     "text": [
      "RMSE: 0.8793\n"
     ]
    },
    {
     "data": {
      "text/plain": [
       "0.8793058228094678"
      ]
     },
     "execution_count": 15,
     "metadata": {},
     "output_type": "execute_result"
    }
   ],
   "source": [
    "from surprise import SVD, Dataset, Reader\n",
    "from surprise.model_selection import train_test_split\n",
    "from surprise import accuracy\n",
    "\n",
    "# Load data for Surprise\n",
    "reader = Reader(rating_scale=(1, 5))\n",
    "data = Dataset.load_from_df(ratings[['userId', 'movieId', 'rating']], reader)\n",
    "\n",
    "# Train-Test split\n",
    "trainset, testset = train_test_split(data, test_size=0.2)\n",
    "\n",
    "# Use SVD model\n",
    "svd = SVD()\n",
    "\n",
    "# Train the model\n",
    "svd.fit(trainset)\n",
    "\n",
    "# Make predictions and evaluate RMSE\n",
    "predictions = svd.test(testset)\n",
    "accuracy.rmse(predictions)\n"
   ]
  },
  {
   "cell_type": "markdown",
   "metadata": {},
   "source": [
    "#### Recommending movies based on Collaborative system"
   ]
  },
  {
   "cell_type": "code",
   "execution_count": 16,
   "metadata": {},
   "outputs": [],
   "source": [
    "def recommend_movies_for_user(userId, num_recommendations=10):\n",
    "    # Get a list of all movie IDs\n",
    "    all_movie_ids = movies['movieId'].unique()\n",
    "    \n",
    "    # Get the list of movies already rated by the user\n",
    "    rated_movies = ratings[ratings['userId'] == userId]['movieId'].unique()\n",
    "    \n",
    "    # Filter out movies the user has already rated\n",
    "    unrated_movies = [movie for movie in all_movie_ids if movie not in rated_movies]\n",
    "    \n",
    "    # Predict ratings for unrated movies\n",
    "    predictions = [svd.predict(userId, movieId) for movieId in unrated_movies]\n",
    "    \n",
    "    # Sort predictions by estimated rating\n",
    "    top_predictions = sorted(predictions, key=lambda x: x.est, reverse=True)[:num_recommendations]\n",
    "    \n",
    "    # Get movie titles for the recommended movies\n",
    "    recommended_movie_ids = [pred.iid for pred in top_predictions]\n",
    "    recommended_movies = movies[movies['movieId'].isin(recommended_movie_ids)]\n",
    "    \n",
    "    return recommended_movies[['title']]\n"
   ]
  },
  {
   "cell_type": "markdown",
   "metadata": {},
   "source": [
    "#### Content-Based Filtering\n",
    "For content-based filtering, we use movie genres and tags to recommend similar movies to what a user has watched."
   ]
  },
  {
   "cell_type": "code",
   "execution_count": 17,
   "metadata": {},
   "outputs": [],
   "source": [
    "from sklearn.feature_extraction.text import TfidfVectorizer\n",
    "from sklearn.metrics.pairwise import cosine_similarity\n",
    "\n",
    "# Vectorize tags using TF-IDF\n",
    "tfidf = TfidfVectorizer(stop_words='english')\n",
    "tfidf_matrix = tfidf.fit_transform(movies['tag'].fillna(''))\n",
    "\n",
    "# Compute cosine similarity between movies based on tags\n",
    "cosine_sim_tags = cosine_similarity(tfidf_matrix, tfidf_matrix)\n",
    "\n",
    "# Compute similarity based on genres\n",
    "cosine_sim_genres = cosine_similarity(movies_genres, movies_genres)\n",
    "\n",
    "# Combine both cosine similarities\n",
    "cosine_sim_combined = (cosine_sim_tags + cosine_sim_genres) / 2\n",
    "\n",
    "# Function to recommend similar movies based on content\n",
    "def recommend_movies_based_on_content(movie_title, num_recommendations=10):\n",
    "    idx = movies[movies['title'] == movie_title].index[0]\n",
    "    \n",
    "    # Get similarity scores\n",
    "    sim_scores = list(enumerate(cosine_sim_combined[idx]))\n",
    "    \n",
    "    # Sort movies by similarity score\n",
    "    sim_scores = sorted(sim_scores, key=lambda x: x[1], reverse=True)\n",
    "    \n",
    "    # Get indices of the top similar movies\n",
    "    movie_indices = [i[0] for i in sim_scores[1:num_recommendations+1]]\n",
    "    \n",
    "    return movies[['title']].iloc[movie_indices]\n"
   ]
  },
  {
   "cell_type": "markdown",
   "metadata": {},
   "source": [
    "#### HYBRID MODEL: COMBINNG BOTH SVD AND CONTENT BASED-FILTERING"
   ]
  },
  {
   "cell_type": "code",
   "execution_count": 18,
   "metadata": {},
   "outputs": [],
   "source": [
    "import numpy as np\n",
    "\n",
    "def hybrid_recommendation(userId, movie_title, num_recommendations=10):\n",
    "    #Get collaborative filtering recommendations using SVD\n",
    "    all_movie_ids = movies['movieId'].unique()\n",
    "    \n",
    "    #list of movies already rated by the user\n",
    "    rated_movies = ratings[ratings['userId'] == userId]['movieId'].unique()\n",
    "    \n",
    "    # Filter out movies the user has already rated\n",
    "    unrated_movies = [movie for movie in all_movie_ids if movie not in rated_movies]\n",
    "    \n",
    "    # Predict ratings for unrated movies using SVD\n",
    "    predictions = [svd.predict(userId, movieId) for movieId in unrated_movies]\n",
    "    predicted_ratings = {pred.iid: pred.est for pred in predictions}\n",
    "    \n",
    "   #Get content-based recommendations\n",
    "    idx = movies[movies['title'] == movie_title].index[0]\n",
    "    sim_scores = list(enumerate(cosine_sim_combined[idx]))\n",
    "    sim_scores = sorted(sim_scores, key=lambda x: x[1], reverse=True)\n",
    "    \n",
    "    # Get similarity scores for all unrated movies\n",
    "    content_scores = {movies.iloc[i[0]]['movieId']: i[1] for i in sim_scores if movies.iloc[i[0]]['movieId'] in unrated_movies}\n",
    "\n",
    "    # Normalize both scores before combining\n",
    "    max_pred = max(predicted_ratings.values())\n",
    "    min_pred = min(predicted_ratings.values())\n",
    "    \n",
    "    for movieId in predicted_ratings:\n",
    "        predicted_ratings[movieId] = (predicted_ratings[movieId] - min_pred) / (max_pred - min_pred)\n",
    "    \n",
    "    max_sim = max(content_scores.values())\n",
    "    min_sim = min(content_scores.values())\n",
    "    \n",
    "    for movieId in content_scores:\n",
    "        content_scores[movieId] = (content_scores[movieId] - min_sim) / (max_sim - min_sim)\n",
    "    \n",
    "    # Combine the scores using a weighted sum\n",
    "    hybrid_scores = {movieId: 0.5 * predicted_ratings.get(movieId, 0) + 0.5 * content_scores.get(movieId, 0)\n",
    "                     for movieId in unrated_movies}\n",
    "    \n",
    "    # Recommend top N movies\n",
    "    top_movies = sorted(hybrid_scores.items(), key=lambda x: x[1], reverse=True)[:num_recommendations]\n",
    "    \n",
    "    recommended_movie_ids = [movie[0] for movie in top_movies]\n",
    "    return movies[movies['movieId'].isin(recommended_movie_ids)][['title']]\n"
   ]
  },
  {
   "cell_type": "code",
   "execution_count": 19,
   "metadata": {},
   "outputs": [],
   "source": [
    "def recommend_popular_movies(num_recommendations=10):\n",
    "    popular_movies = ratings.groupby('movieId')['rating'].mean().sort_values(ascending=False)\n",
    "    popular_movie_ids = popular_movies.index[:num_recommendations]\n",
    "    \n",
    "    return movies[movies['movieId'].isin(popular_movie_ids)][['title']]\n"
   ]
  },
  {
   "cell_type": "code",
   "execution_count": 20,
   "metadata": {},
   "outputs": [
    {
     "name": "stdout",
     "output_type": "stream",
     "text": [
      "                                                  title\n",
      "2355                                 Toy Story 2 (1999)\n",
      "3574  Harry Potter and the Sorcerer's Stone (a.k.a. ...\n",
      "3638  Lord of the Rings: The Fellowship of the Ring,...\n",
      "4137      Lord of the Rings: The Two Towers, The (2002)\n",
      "6014                                  MirrorMask (2005)\n",
      "6075  Chronicles of Narnia: The Lion, the Witch and ...\n",
      "6944                 Ponyo (Gake no ue no Ponyo) (2008)\n",
      "7478  Chronicles of Narnia: The Voyage of the Dawn T...\n",
      "8719                 The Cave of the Golden Rose (1991)\n",
      "9565                          Gulliver's Travels (1996)\n"
     ]
    }
   ],
   "source": [
    "# Example usage:\n",
    "recommendations = hybrid_recommendation(userId=1, movie_title=\"Return to Oz (1985)\", num_recommendations=10)\n",
    "print(recommendations)"
   ]
  },
  {
   "cell_type": "markdown",
   "metadata": {},
   "source": [
    "#### Cold-Start Problem (Recommendations for New Users)\n",
    "We recommend movies based on popularity of thr movies"
   ]
  },
  {
   "cell_type": "code",
   "execution_count": 21,
   "metadata": {},
   "outputs": [],
   "source": [
    "def recommend_popular_movies(num_recommendations=10):\n",
    "    popular_movies = ratings.groupby('movieId')['rating'].mean().sort_values(ascending=False)\n",
    "    popular_movie_ids = popular_movies.index[:num_recommendations]\n",
    "    \n",
    "    return movies[movies['movieId'].isin(popular_movie_ids)][['title']]\n"
   ]
  },
  {
   "cell_type": "markdown",
   "metadata": {},
   "source": [
    "Improving the cold start problem by implementing a system that can recommend both popular movies and highly rated movies for new user"
   ]
  },
  {
   "cell_type": "code",
   "execution_count": 22,
   "metadata": {},
   "outputs": [],
   "source": [
    "def hybrid_recommendation_for_new_user(movie_title, num_recommendations=10):\n",
    "    #content-based recommendations using the given movie title\n",
    "    idx = movies[movies['title'] == movie_title].index[0]\n",
    "    sim_scores = list(enumerate(cosine_sim_combined[idx]))\n",
    "    sim_scores = sorted(sim_scores, key=lambda x: x[1], reverse=True)\n",
    "    \n",
    "    #top N similar movies\n",
    "    movie_indices = [i[0] for i in sim_scores[1:num_recommendations+1]]\n",
    "    recommended_movies = movies[['title']].iloc[movie_indices]\n",
    "    \n",
    "    #Recommend popular movies as backup (in case no content-based data is available)\n",
    "    popular_movies = recommend_popular_movies(num_recommendations - len(recommended_movies))\n",
    "    \n",
    "    return pd.concat([recommended_movies, popular_movies])\n"
   ]
  },
  {
   "cell_type": "code",
   "execution_count": 23,
   "metadata": {},
   "outputs": [
    {
     "name": "stdout",
     "output_type": "stream",
     "text": [
      "                                                  title\n",
      "3574  Harry Potter and the Sorcerer's Stone (a.k.a. ...\n",
      "6751   Chronicles of Narnia: Prince Caspian, The (2008)\n",
      "3638  Lord of the Rings: The Fellowship of the Ring,...\n",
      "4076     Harry Potter and the Chamber of Secrets (2002)\n",
      "53                   Indian in the Cupboard, The (1995)\n",
      "109                   NeverEnding Story III, The (1994)\n",
      "767                     Escape to Witch Mountain (1975)\n",
      "1514          Darby O'Gill and the Little People (1959)\n",
      "1556                                Return to Oz (1985)\n",
      "1617                      NeverEnding Story, The (1984)\n"
     ]
    }
   ],
   "source": [
    "# Example usage for a new user:\n",
    "new_user_recommendations = hybrid_recommendation_for_new_user(movie_title=\"Jumanji (1995)\", num_recommendations=10)\n",
    "print(new_user_recommendations)"
   ]
  },
  {
   "cell_type": "markdown",
   "metadata": {},
   "source": [
    "#### NUERAL NETWORKS"
   ]
  },
  {
   "cell_type": "code",
   "execution_count": 24,
   "metadata": {},
   "outputs": [],
   "source": [
    "#importing the necessary libraries\n",
    "import numpy as np\n",
    "from sklearn.preprocessing import LabelEncoder\n",
    "from tensorflow.keras.models import Model\n",
    "from tensorflow.keras.layers import Input, Embedding, Flatten, Concatenate, Dense, Dropout\n",
    "from tensorflow.keras.optimizers import Adam"
   ]
  },
  {
   "cell_type": "markdown",
   "metadata": {},
   "source": [
    "Encoding the userId and movieId to integer"
   ]
  },
  {
   "cell_type": "code",
   "execution_count": 25,
   "metadata": {},
   "outputs": [],
   "source": [
    "\n",
    "# Label Encoding userId and movieId\n",
    "encoder = LabelEncoder()\n",
    "\n",
    "tags['userId'] = encoder.fit_transform(tags['userId'])\n",
    "tags['movieId'] = encoder.fit_transform(tags['movieId'])\n",
    "tags['tag'] = encoder.fit_transform(tags['tag'])"
   ]
  },
  {
   "cell_type": "markdown",
   "metadata": {},
   "source": [
    "Splitting data into train and test sets"
   ]
  },
  {
   "cell_type": "code",
   "execution_count": 26,
   "metadata": {},
   "outputs": [],
   "source": [
    "from sklearn.model_selection import train_test_split\n",
    "\n",
    "train_data, test_data = train_test_split(tags, test_size=0.3, random_state=42)\n"
   ]
  },
  {
   "cell_type": "markdown",
   "metadata": {},
   "source": [
    "Here, we define the model. It learns user and movie embeddings, which are concatenated and passed through a dense neural network to predict interaction."
   ]
  },
  {
   "cell_type": "code",
   "execution_count": 27,
   "metadata": {},
   "outputs": [],
   "source": [
    "# Set the size of embeddings (latent factors)\n",
    "n_users = tags['userId'].nunique()\n",
    "n_movies = tags['movieId'].nunique()\n",
    "n_tags = ratings['rating'].nunique()\n",
    "\n",
    "embedding_size = 50  # Number of latent factors\n",
    "\n",
    "# Input layers\n",
    "user_input = Input(shape=(1,), name='user_input')\n",
    "movie_input = Input(shape=(1,), name='movie_input')\n",
    "\n",
    "# Embedding layers\n",
    "user_embedding = Embedding(input_dim=n_users, output_dim=embedding_size, name='user_embedding')(user_input)\n",
    "movie_embedding = Embedding(input_dim=n_movies, output_dim=embedding_size, name='movie_embedding')(movie_input)\n",
    "\n",
    "# Flatten the embeddings\n",
    "user_vec = Flatten()(user_embedding)\n",
    "movie_vec = Flatten()(movie_embedding)\n",
    "\n",
    "# Concatenate user and movie embeddings\n",
    "concatenated = Concatenate()([user_vec, movie_vec])\n",
    "\n",
    "# Add fully connected layers\n",
    "fc1 = Dense(128, activation='relu')(concatenated)\n",
    "dropout1 = Dropout(0.3)(fc1)\n",
    "fc2 = Dense(64, activation='relu')(dropout1)\n",
    "dropout2 = Dropout(0.3)(fc2)\n",
    "\n",
    "# Output layer (Regression task: predict the rating or sentiment score)\n",
    "output = Dense(1, activation='linear')(dropout2)\n",
    "\n",
    "# Build the model\n",
    "model = Model([user_input, movie_input], output)\n",
    "\n",
    "# Compile the model\n",
    "model.compile(optimizer=Adam(learning_rate=0.001), loss='mean_squared_error')\n"
   ]
  },
  {
   "cell_type": "code",
   "execution_count": 28,
   "metadata": {},
   "outputs": [
    {
     "name": "stdout",
     "output_type": "stream",
     "text": [
      "Epoch 1/10\n",
      "33/33 [==============================] - 2s 13ms/step - loss: 894729.9375 - val_loss: 949272.6875\n",
      "Epoch 2/10\n",
      "33/33 [==============================] - 0s 6ms/step - loss: 883976.6250 - val_loss: 918874.3125\n",
      "Epoch 3/10\n",
      "33/33 [==============================] - 0s 5ms/step - loss: 799434.8125 - val_loss: 746324.4375\n",
      "Epoch 4/10\n",
      "33/33 [==============================] - 0s 5ms/step - loss: 511954.0000 - val_loss: 370551.6250\n",
      "Epoch 5/10\n",
      "33/33 [==============================] - 0s 4ms/step - loss: 237973.6562 - val_loss: 246232.5938\n",
      "Epoch 6/10\n",
      "33/33 [==============================] - 0s 5ms/step - loss: 199155.8281 - val_loss: 239995.2500\n",
      "Epoch 7/10\n",
      "33/33 [==============================] - 0s 5ms/step - loss: 176573.2031 - val_loss: 236058.0781\n",
      "Epoch 8/10\n",
      "33/33 [==============================] - 0s 4ms/step - loss: 163894.6406 - val_loss: 237108.9531\n",
      "Epoch 9/10\n",
      "33/33 [==============================] - 0s 4ms/step - loss: 147727.0156 - val_loss: 240069.7344\n",
      "Epoch 10/10\n",
      "33/33 [==============================] - 0s 4ms/step - loss: 134011.2500 - val_loss: 245753.5156\n"
     ]
    }
   ],
   "source": [
    "#training the model\n",
    "X_train_user = train_data['userId'].values\n",
    "X_train_movie = train_data['movieId'].values\n",
    "y_train = train_data['tag'].values\n",
    "\n",
    "#fitting the model\n",
    "history = model.fit(\n",
    "    [X_train_user, X_train_movie],\n",
    "    y_train,\n",
    "    epochs=10,\n",
    "    batch_size=64,\n",
    "    validation_split=0.2,\n",
    "    verbose=1\n",
    ")\n",
    "\n"
   ]
  },
  {
   "cell_type": "code",
   "execution_count": 29,
   "metadata": {},
   "outputs": [
    {
     "data": {
      "image/png": "[encoded data removed]",
      "text/plain": [
       "<Figure size 720x432 with 1 Axes>"
      ]
     },
     "metadata": {
      "needs_background": "light"
     },
     "output_type": "display_data"
    }
   ],
   "source": [
    "\n",
    "train_loss = history.history['loss']\n",
    "val_loss = history.history['val_loss']\n",
    "\n",
    "# Create a plot\n",
    "plt.figure(figsize=(10, 6))\n",
    "plt.plot(train_loss, label='Training Loss', color='blue')\n",
    "plt.plot(val_loss, label='Validation Loss', color='orange')\n",
    "plt.title('Training and Validation Loss')\n",
    "plt.xlabel('Epochs')\n",
    "plt.ylabel('Loss')\n",
    "plt.legend()\n",
    "plt.grid(True)\n",
    "plt.show()"
   ]
  },
  {
   "cell_type": "markdown",
   "metadata": {},
   "source": [
    "##### COMPARISON BETWEEN TRAIN LOSS AND TEST LOSS\n",
    "The Test Loss is 213621.890625, and it represents the performance of the model on testing data, this is data the model hasn't seen\n",
    "Train Loss: 137401.328125 represents the performance of the model on training data\n",
    "The disparity in the two losses represents possible overfitting. The model is performing well on the train data but poorly on the test data."
   ]
  }
 ],
 "metadata": {
  "kernelspec": {
   "display_name": "learn-env",
   "language": "python",
   "name": "python3"
  },
  "language_info": {
   "codemirror_mode": {
    "name": "ipython",
    "version": 3
   },
   "file_extension": ".py",
   "mimetype": "text/x-python",
   "name": "python",
   "nbconvert_exporter": "python",
   "pygments_lexer": "ipython3",
   "version": "3.8.5"
  }
 },
 "nbformat": 4,
 "nbformat_minor": 2
}
