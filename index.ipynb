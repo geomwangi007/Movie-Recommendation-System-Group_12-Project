{
 "cells": [
  {
   "cell_type": "markdown",
   "metadata": {},
   "source": [
    "# The Flick Pick Engine"
   ]
  },
  {
   "cell_type": "markdown",
   "metadata": {},
   "source": [
    "# \"Intelligent Movie Recommendations with Neural Networks and NLP\""
   ]
  },
  {
   "cell_type": "markdown",
   "metadata": {},
   "source": [
    "## Problem Statement\n",
    "In today's digital age, the sheer volume of available movies has grown exponentially, leading to an overwhelming choice paralysis for viewers seeking content that aligns with their personal tastes. Traditional recommendation systems often fall short by providing generic suggestions based on popularity or simplistic user behaviors, failing to capture the nuanced preferences of individual users. This lack of personalization results in a suboptimal viewing experience, where users spend more time searching for movies than enjoying them.\n",
    "\n",
    "The FlickPick Engine aims to solve this problem by developing an intelligent movie recommendation system that delivers highly personalized and relevant suggestions to users. By leveraging advanced machine learning techniques—specifically neural networks for collaborative filtering and Natural Language Processing (NLP) for content analysis—the system can understand and interpret both user preferences and movie attributes on a deeper level.\n",
    "\n",
    "By addressing the challenges of information overload and impersonal recommendations, the FlickPick Engine enhances the movie discovery process. It empowers users to effortlessly find films that resonate with their unique tastes, thereby improving user satisfaction and engagement with the platform."
   ]
  },
  {
   "cell_type": "markdown",
   "metadata": {},
   "source": [
    "## Data Understanding\n",
    "To develop the FlickPick Engine, we utilized the MovieLens 25M Dataset, a widely recognized dataset in the recommendation systems domain. This dataset provides a rich source of user ratings, movie metadata, and user-generated tags, enabling the creation of a robust and personalized movie recommendation system.\n",
    "\n",
    "### Data Sources\n",
    "1. Ratings Data (ratings.csv): Contains 25 million ratings ranging from 0.5 to 5.0, provided by 162,541 users on 62,423 movies.\n",
    "2. Movies Data (movies.csv): Includes movie IDs, titles, and genres for all movies rated in the dataset.\n",
    "3. Tags Data (tags.csv): Consists of 1.1 million user-generated tags applied to movies, offering additional contextual information.\n",
    "4. Links Data (links.csv): Provides identifiers that link MovieLens movie IDs with IDs from other databases like IMDb and TMDb."
   ]
  },
  {
   "cell_type": "markdown",
   "metadata": {},
   "source": [
    "## Data Loading"
   ]
  },
  {
   "cell_type": "code",
<<<<<<< HEAD
   "execution_count": 73,
=======
<<<<<<< HEAD
<<<<<<< HEAD
   "execution_count": 42,
   "metadata": {},
   "outputs": [
    {
     "ename": "ModuleNotFoundError",
     "evalue": "No module named 'wordcloud'",
     "output_type": "error",
     "traceback": [
      "\u001b[1;31m---------------------------------------------------------------------------\u001b[0m",
      "\u001b[1;31mModuleNotFoundError\u001b[0m                       Traceback (most recent call last)",
      "\u001b[1;32m<ipython-input-42-6156a71aeb9e>\u001b[0m in \u001b[0;36m<module>\u001b[1;34m\u001b[0m\n\u001b[0;32m      4\u001b[0m \u001b[1;32mimport\u001b[0m \u001b[0mmatplotlib\u001b[0m\u001b[1;33m.\u001b[0m\u001b[0mpyplot\u001b[0m \u001b[1;32mas\u001b[0m \u001b[0mplt\u001b[0m\u001b[1;33m\u001b[0m\u001b[1;33m\u001b[0m\u001b[0m\n\u001b[0;32m      5\u001b[0m \u001b[1;32mimport\u001b[0m \u001b[0mseaborn\u001b[0m \u001b[1;32mas\u001b[0m \u001b[0msns\u001b[0m\u001b[1;33m\u001b[0m\u001b[1;33m\u001b[0m\u001b[0m\n\u001b[1;32m----> 6\u001b[1;33m \u001b[1;32mfrom\u001b[0m \u001b[0mwordcloud\u001b[0m \u001b[1;32mimport\u001b[0m \u001b[0mWordCloud\u001b[0m\u001b[1;33m\u001b[0m\u001b[1;33m\u001b[0m\u001b[0m\n\u001b[0m\u001b[0;32m      7\u001b[0m \u001b[1;32mimport\u001b[0m \u001b[0mwarnings\u001b[0m\u001b[1;33m\u001b[0m\u001b[1;33m\u001b[0m\u001b[0m\n\u001b[0;32m      8\u001b[0m \u001b[0mwarnings\u001b[0m\u001b[1;33m.\u001b[0m\u001b[0mfilterwarnings\u001b[0m\u001b[1;33m(\u001b[0m\u001b[1;34m'ignore'\u001b[0m\u001b[1;33m)\u001b[0m\u001b[1;33m\u001b[0m\u001b[1;33m\u001b[0m\u001b[0m\n",
      "\u001b[1;31mModuleNotFoundError\u001b[0m: No module named 'wordcloud'"
     ]
    }
   ],
=======
   "execution_count": 1,
=======
   "execution_count": 2,
>>>>>>> d782bbd76be62f5742baed073f71f4ff0b84d825
>>>>>>> bb573423b1420a2ecdde3a1f20bc0f10aeed0217
   "metadata": {},
   "outputs": [],
>>>>>>> 9e9f69746675e4a97a10247097d062df0a50207d
   "source": [
    "# Importing the necessary libraries\n",
    "import pandas as pd\n",
    "import numpy as np\n",
    "import matplotlib.pyplot as plt\n",
    "import seaborn as sns\n",
    "from wordcloud import WordCloud\n",
    "import warnings\n",
    "warnings.filterwarnings('ignore')"
   ]
  },
  {
   "cell_type": "code",
   "execution_count": 74,
   "metadata": {},
   "outputs": [],
   "source": [
    "# load the datasets\n",
    "links_df = pd.read_csv('Data/ml-latest-small/links.csv')\n",
    "movies_df = pd.read_csv('Data/ml-latest-small/movies.csv')\n",
    "ratings_df = pd.read_csv('Data/ml-latest-small/ratings.csv')\n",
    "tags_df = pd.read_csv('Data/ml-latest-small/tags.csv')"
   ]
  },
  {
   "cell_type": "markdown",
   "metadata": {},
   "source": [
    "### Inspecting the structure of the datasets"
   ]
  },
  {
   "cell_type": "code",
   "execution_count": 58,
   "metadata": {},
   "outputs": [
    {
     "name": "stdout",
     "output_type": "stream",
     "text": [
      "<class 'pandas.core.frame.DataFrame'>\n",
      "RangeIndex: 9742 entries, 0 to 9741\n",
      "Data columns (total 3 columns):\n",
      " #   Column   Non-Null Count  Dtype  \n",
      "---  ------   --------------  -----  \n",
      " 0   movieId  9742 non-null   int64  \n",
      " 1   imdbId   9742 non-null   int64  \n",
      " 2   tmdbId   9734 non-null   float64\n",
      "dtypes: float64(1), int64(2)\n",
      "memory usage: 228.5 KB\n"
     ]
    }
   ],
   "source": [
    "links_df.info()"
   ]
  },
  {
   "cell_type": "code",
   "execution_count": 59,
   "metadata": {},
   "outputs": [
    {
     "name": "stdout",
     "output_type": "stream",
     "text": [
      "<class 'pandas.core.frame.DataFrame'>\n",
      "RangeIndex: 9742 entries, 0 to 9741\n",
      "Data columns (total 3 columns):\n",
      " #   Column   Non-Null Count  Dtype \n",
      "---  ------   --------------  ----- \n",
      " 0   movieId  9742 non-null   int64 \n",
      " 1   title    9742 non-null   object\n",
      " 2   genres   9742 non-null   object\n",
      "dtypes: int64(1), object(2)\n",
      "memory usage: 228.5+ KB\n"
     ]
    }
   ],
   "source": [
    "movies_df.info()"
   ]
  },
  {
   "cell_type": "code",
   "execution_count": 60,
   "metadata": {},
   "outputs": [
    {
     "name": "stdout",
     "output_type": "stream",
     "text": [
      "<class 'pandas.core.frame.DataFrame'>\n",
      "RangeIndex: 100836 entries, 0 to 100835\n",
      "Data columns (total 4 columns):\n",
      " #   Column     Non-Null Count   Dtype  \n",
      "---  ------     --------------   -----  \n",
      " 0   userId     100836 non-null  int64  \n",
      " 1   movieId    100836 non-null  int64  \n",
      " 2   rating     100836 non-null  float64\n",
      " 3   timestamp  100836 non-null  int64  \n",
      "dtypes: float64(1), int64(3)\n",
      "memory usage: 3.1 MB\n"
     ]
    }
   ],
   "source": [
    "ratings_df.info()"
   ]
  },
  {
   "cell_type": "code",
   "execution_count": 61,
   "metadata": {},
   "outputs": [
    {
     "name": "stdout",
     "output_type": "stream",
     "text": [
      "<class 'pandas.core.frame.DataFrame'>\n",
      "RangeIndex: 3683 entries, 0 to 3682\n",
      "Data columns (total 4 columns):\n",
      " #   Column     Non-Null Count  Dtype \n",
      "---  ------     --------------  ----- \n",
      " 0   userId     3683 non-null   int64 \n",
      " 1   movieId    3683 non-null   int64 \n",
      " 2   tag        3683 non-null   object\n",
      " 3   timestamp  3683 non-null   int64 \n",
      "dtypes: int64(3), object(1)\n",
      "memory usage: 115.2+ KB\n"
     ]
    }
   ],
   "source": [
    "tags_df.info()"
   ]
  },
  {
   "cell_type": "markdown",
   "metadata": {},
   "source": [
    "### Checking for missing values and duplicates"
   ]
  },
  {
   "cell_type": "code",
   "execution_count": 62,
   "metadata": {},
   "outputs": [
    {
     "data": {
      "text/plain": [
       "({'missing_values': movieId    0\n",
       "  imdbId     0\n",
       "  tmdbId     8\n",
       "  dtype: int64,\n",
       "  'duplicates': 0},\n",
       " {'missing_values': movieId    0\n",
       "  title      0\n",
       "  genres     0\n",
       "  dtype: int64,\n",
       "  'duplicates': 0},\n",
       " {'missing_values': userId       0\n",
       "  movieId      0\n",
       "  rating       0\n",
       "  timestamp    0\n",
       "  dtype: int64,\n",
       "  'duplicates': 0,\n",
       "  'invalid_ratings': 0},\n",
       " {'missing_values': userId       0\n",
       "  movieId      0\n",
       "  tag          0\n",
       "  timestamp    0\n",
       "  dtype: int64,\n",
       "  'duplicates': 0})"
      ]
     },
     "execution_count": 62,
     "metadata": {},
     "output_type": "execute_result"
    }
   ],
   "source": [
    "# Check for missing values and duplicates\n",
    "links_info = {\n",
    "    \"missing_values\": links_df.isnull().sum(),\n",
    "    \"duplicates\": links_df.duplicated().sum()\n",
    "}\n",
    "\n",
    "movies_info = {\n",
    "    \"missing_values\": movies_df.isnull().sum(),\n",
    "    \"duplicates\": movies_df.duplicated().sum()\n",
    "}\n",
    "\n",
    "ratings_info = {\n",
    "    \"missing_values\": ratings_df.isnull().sum(),\n",
    "    \"duplicates\": ratings_df.duplicated().sum(),\n",
    "    \"invalid_ratings\": ratings_df[~ratings_df['rating'].between(0.5, 5)].shape[0]\n",
    "}\n",
    "\n",
    "tags_info = {\n",
    "    \"missing_values\": tags_df.isnull().sum(),\n",
    "    \"duplicates\": tags_df.duplicated().sum()\n",
    "}\n",
    "\n",
    "# Output the inspection results for each dataset\n",
    "links_info, movies_info, ratings_info, tags_info"
   ]
  },
  {
   "cell_type": "markdown",
   "metadata": {},
   "source": [
    "1. links.csv:\n",
    "\n",
    "- Missing Values: There are 8 missing values in the tmdbId column.\n",
    "- Duplicates: There are no duplicate rows.\n",
    "2. movies.csv:\n",
    "\n",
    "- Missing Values: No missing values were found.\n",
    "- Duplicates: There are no duplicate rows.\n",
    "3. ratings.csv:\n",
    "\n",
    "- Missing Values: No missing values were found.\n",
    "- Duplicates: There are no duplicate rows.\n",
    "- Invalid Ratings: All ratings are valid, meaning they fall within the expected range (0.5 to 5).\n",
    "4. tags.csv:\n",
    "\n",
    "- Missing Values: No missing values were found.\n",
    "- Duplicates: There are no duplicate rows."
   ]
  },
  {
   "cell_type": "code",
   "execution_count": 63,
   "metadata": {},
   "outputs": [],
   "source": [
    "# Drop rows with missing tmdbId\n",
    "links_df = links_df.dropna(subset=['tmdbId'])"
   ]
  },
  {
   "cell_type": "code",
   "execution_count": 64,
   "metadata": {},
   "outputs": [
    {
     "data": {
      "text/plain": [
       "(movieId      int64\n",
       " imdbId       int64\n",
       " tmdbId     float64\n",
       " dtype: object,\n",
       " movieId     int64\n",
       " title      object\n",
       " genres     object\n",
       " dtype: object,\n",
       " userId         int64\n",
       " movieId        int64\n",
       " rating       float64\n",
       " timestamp      int64\n",
       " dtype: object,\n",
       " userId        int64\n",
       " movieId       int64\n",
       " tag          object\n",
       " timestamp     int64\n",
       " dtype: object)"
      ]
     },
     "execution_count": 64,
     "metadata": {},
     "output_type": "execute_result"
    }
   ],
   "source": [
    "# Check the current data types of each column in the datasets\n",
    "links_dtypes = links_df.dtypes\n",
    "movies_dtypes = movies_df.dtypes\n",
    "ratings_dtypes = ratings_df.dtypes\n",
    "tags_dtypes = tags_df.dtypes\n",
    "\n",
    "# Review data types\n",
    "links_dtypes, movies_dtypes, ratings_dtypes, tags_dtypes"
   ]
  },
  {
   "cell_type": "markdown",
   "metadata": {},
   "source": [
    "1. links.csv:\n",
    "\n",
    "- movieId: int64 (appropriate)\n",
    "- imdbId: int64 (appropriate)\n",
    "- tmdbId: float64 (should be int64, as tmdbId is an identifier and doesn't need decimal precision)\n",
    "2. movies.csv:\n",
    "\n",
    "- movieId: int64 (appropriate)\n",
    "- title: object (appropriate for movie titles)\n",
    "- genres: object (appropriate for genres, which are stored as strings)\n",
    "3. ratings.csv:\n",
    "\n",
    "- userId: int64 (appropriate)\n",
    "- movieId: int64 (appropriate)\n",
    "- rating: float64 (appropriate since ratings have decimal points)\n",
    "- timestamp: int64 (appropriate for Unix timestamps)\n",
    "4. tags.csv:\n",
    "\n",
    "- userId: int64 (appropriate)\n",
    "- movieId: int64 (appropriate)\n",
    "- tag: object (appropriate for textual tags)\n",
    "- timestamp: int64 (appropriate for Unix timestamps)\n",
    "\n",
    "Adjustment:\n",
    "\n",
    "In links.csv, the tmdbId column should be converted to int64 because it represents a unique identifier"
   ]
  },
  {
   "cell_type": "code",
   "execution_count": 65,
   "metadata": {},
   "outputs": [],
   "source": [
    "# Convert tmdbId to int64\n",
    "links_df['tmdbId'] = links_df['tmdbId'].astype('int64')"
   ]
  },
  {
   "cell_type": "markdown",
   "metadata": {},
   "source": [
    "## Data Visualization"
   ]
  },
  {
   "cell_type": "markdown",
   "metadata": {},
   "source": [
    "First Lets look at the distribution of movie ratings\n",
    "\n",
    "Purpose:\n",
    "\n",
    "Understand the overall distribution of movie ratings.\n",
    "\n",
    "Identify any biases (e.g., users tending to give higher ratings).\n",
    "\n",
    "Identify the most common ratings (e.g., peaks at whole numbers like 4.0 or 5.0).\n",
    "\n",
    "Assess whether the distribution is skewed toward higher or lower ratings."
   ]
  },
  {
   "cell_type": "code",
   "execution_count": 66,
   "metadata": {},
   "outputs": [
    {
     "data": {
      "image/png": "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",
      "text/plain": [
       "<Figure size 576x432 with 1 Axes>"
      ]
     },
     "metadata": {
      "needs_background": "light"
     },
     "output_type": "display_data"
    }
   ],
   "source": [
    "# Plot histogram\n",
    "plt.figure(figsize=(8, 6))\n",
    "sns.histplot(ratings_df['rating'], bins=10)\n",
    "plt.title('Distribution of Movie Ratings')\n",
    "plt.xlabel('Rating')\n",
    "plt.ylabel('Count')\n",
    "plt.show()"
   ]
  },
  {
   "cell_type": "markdown",
   "metadata": {},
   "source": [
    "- Skew Towards Higher Ratings: The distribution is right-skewed, with most ratings clustering around 3, 4, and 5. Ratings of 4 are the most frequent, indicating that users generally rate movies quite positively.\n",
    "\n",
    "- Few Low Ratings: There are relatively few ratings of 1 and 2, which suggests that users may be less likely to give movies extremely low scores, or that most of the movies in the dataset are well-regarded.\n",
    "\n",
    "- Peak at Rating 4: The highest count of ratings is around 4, suggesting that many users find the movies to be above average but not necessarily perfect.\n",
    "\n",
    "This type of distribution is common in user-driven ratings, where users tend to be more inclined to rate items positively than negatively.\n"
   ]
  },
  {
   "cell_type": "markdown",
   "metadata": {},
   "source": [
    "Now let's have a look at the Distribution of Ratings per User\n",
    "\n",
    "Examine how many ratings each user has provided.\n",
    "\n",
    "Identify active users versus casual users."
   ]
  },
  {
   "cell_type": "code",
   "execution_count": 67,
   "metadata": {},
   "outputs": [
    {
     "data": {
      "image/png": "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",
      "text/plain": [
       "<Figure size 720x432 with 1 Axes>"
      ]
     },
     "metadata": {
      "needs_background": "light"
     },
     "output_type": "display_data"
    }
   ],
   "source": [
    "# Calculate number of ratings per user\n",
    "user_rating_counts = ratings_df.groupby('userId')['rating'].count()\n",
    "\n",
    "# Plot histogram\n",
    "plt.figure(figsize=(10, 6))\n",
    "sns.histplot(user_rating_counts, bins=50, log_scale=(False, True))\n",
    "plt.title('Number of Ratings per User')\n",
    "plt.xlabel('Number of Ratings')\n",
    "plt.ylabel('Number of Users (log scale)')\n",
    "plt.show()\n"
   ]
  },
  {
   "cell_type": "markdown",
   "metadata": {},
   "source": [
    "The distribution is often long-tailed, with a few users providing many ratings and many users providing few ratings.\n",
    "- Power-Law Distribution: The distribution exhibits a power-law trend, where most users rate very few movies, and only a few users provide a large number of ratings. This type of behavior is typical in user-generated content datasets, often referred to as the \"long tail.\"\n",
    "\n",
    "- Majority Have Rated Few Movies: A significant number of users have rated fewer than 100 movies, which suggests that casual users dominate the dataset.\n",
    "\n",
    "- Heavy Users: There are a small number of users who have rated over 500 movies, with some even rating over 1000. These \"heavy users\" contribute disproportionately to the number of total ratings in the dataset."
   ]
  },
  {
   "cell_type": "markdown",
   "metadata": {},
   "source": [
    "Next we look at the Distribution of Ratings per Movie\n",
    "\n",
    "To determine how many ratings each movie has received.and identify popular movies versus obscure ones."
   ]
  },
  {
   "cell_type": "code",
   "execution_count": 68,
   "metadata": {},
   "outputs": [
    {
     "data": {
      "image/png": "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",
      "text/plain": [
       "<Figure size 720x432 with 1 Axes>"
      ]
     },
     "metadata": {
      "needs_background": "light"
     },
     "output_type": "display_data"
    }
   ],
   "source": [
    "# Calculate number of ratings per movie\n",
    "movie_rating_counts = ratings_df.groupby('movieId')['rating'].count()\n",
    "\n",
    "# Plot histogram\n",
    "plt.figure(figsize=(10, 6))\n",
    "sns.histplot(movie_rating_counts, bins=50, log_scale=(False, True))\n",
    "plt.title('Number of Ratings per Movie')\n",
    "plt.xlabel('Number of Ratings')\n",
    "plt.ylabel('Number of Movies (log scale)')\n",
    "plt.show()\n"
   ]
  },
  {
   "cell_type": "markdown",
   "metadata": {},
   "source": [
    "Similar to users, movies often follow a long-tailed distribution.\n",
    "\n",
    "Important for understanding the sparsity of the dataset.\n",
    "\n",
    "- Many Movies with Few Ratings: There is a large count of movies that have fewer than 50 ratings, highlighting the long tail effect, where many niche or less popular movies do not receive much feedback.\n",
    "\n",
    "- Highly Rated Movies are Few: A smaller number of movies have received over 200 ratings. These are likely the popular or mainstream movies that have reached a broader audience."
   ]
  },
  {
   "cell_type": "markdown",
   "metadata": {},
   "source": [
    "Genre Popularity\n",
    "\n",
    "To identify the most common genres in the dataset and understand genre distribution to inform content-based filtering."
   ]
  },
  {
   "cell_type": "code",
   "execution_count": 69,
   "metadata": {},
   "outputs": [
    {
     "data": {
      "image/png": "iVBORw0KGgoAAAANSUhEUgAAAusAAAG+CAYAAAAqUkrkAAAAOXRFWHRTb2Z0d2FyZQBNYXRwbG90bGliIHZlcnNpb24zLjcuNSwgaHR0cHM6Ly9tYXRwbG90bGliLm9yZy/xnp5ZAAAACXBIWXMAAAsTAAALEwEAmpwYAABWHElEQVR4nO3dd7gkVbWw8XfNDBnJA5KDgggGkoqiRMkSRFQQERABAREURfSqqJi9oqKiYkRBUQEFAxcTmK4JRa8CBq7hAwygmC5GZH1/rN2e5jDhMHOqu2bm/T3PeU53dZ9Tq7urq1btvfauyEwkSZIk9c+McQcgSZIkac5M1iVJkqSeMlmXJEmSespkXZIkSeopk3VJkiSpp0zWJUmSpJ4yWZckdSIijoyIryzE378gIt41nTFJ0qLGZF2SpklEHBIR34iI2yPilnb7hIiIHsT2voj4R0T8X0TcFhGfjYjNxx3XvGTmKzPzaQARsVFEZETMGndckjRKJuuSNA0i4lTgTcDrgHsDawFPB3YAlu5gfTMX4M9em5krAusBtwDvm9agppFJuSQVk3VJWkgRsTLwMuCEzLwoM/+c5ZrMPCwz/96et0xE/GdE/L+I+E1EvD0ilmuP7RwRN0XEqa1V/lcRcdTQOt4XEW+LiE9HxO3ALhGxTkRcHBG3RsTPIuKZU4k3M/8CfBB4QPvf94+IqyLiDxFxbUTsP2m9b28t8X+OiC9GxIbtsbu1drf/87S5vE9viogbI+JPEfHtiHjU0GMviYiLIuL8iPgTcGRbdn57ypfa7z+03oGdWg/BA4f+x5oR8ZeImD2V90GSFgUm65K08B4OLANcOp/nvRrYDNgKuC+wLvDiocfvDazclh8NvDUiVh16/EnAK4B7Af8NfAL4Xnv+bsApEbHn/IKNiBWBw4BrImKp9n8+A6wJnARcEBH3G/qTw4AzgTWA7wIXzG8dc/Et6rWvRp0sfDQilh16/ADgImCVOaxjx/Z7lcxcMTO/CFwIPHnoOYcCn8/MWxcwPknqHZN1SVp4awC/zcw7Bgsi4r9bS/VfI2LHVrd+LPCszLwtM/8MvBI4ZOj//BN4WWb+MzM/DfwfMJw0X5qZX83MO4EHArMz82WZ+Y/M/Cnwzkn/b7LnRMQfgBuAFYEjge3b7Ve3//MF4JNU4jvwqcz8Uush+A/g4RGx/j19kzLz/Mz8XWbekZmvp05whl/f1zLz45l5Z2b+dQr/8jzg0KExAYcDH7incUlSn1kTKEkL73fAGhExa5CwZ+YjACLiJqphZDawPPDtofGmAQzXnv9uOOEH/kIl0gM3Dt3eEFinJd8DM4EvzyPO/8zMFw4viIjtgBvbCcDAL6jW+rutNzP/LyJuA9YBfjOPdd1NRDyH6jFYB0hgJepE527rmYrM/EZE/AXYOSJ+RfVWXHZP/ock9Z3JuiQtvK8Bf6fKOC6ey3N+C/wV2DIzb17A9eTQ7RuBn2Xmpgv4vwZ+CawfETOGEvYNgB8PPeffreithGa19nd/a4uXB/7Ubt97Titp9emnUeU612bmnRHxe+qEZSDn9Lfzeew8qhTm18BFmfm3uTxPkhZJlsFI0kLKzD8ALwXOiYiDI+JeETEjIrYCVmjPuZMqU3lDRKwJEBHrTqXGfC6+Cfw5Ip4XEctFxMyIeEBEPOQe/p9vUC34p0XEUhGxM7AfVQ8+sE9EPDIilqZq17+emTe22vCbgSe39T8VuM9c1nMv4A7gVmBWRLyYalmfqluBO4FNJi0/H3gslbC//x78P0laJJisS9I0yMzXAs+mWo9/037eATyPGgxKu30D8PU248nnuGvN9j1Z37+Ax1ADNn9Gtdy/ixqgek/+zz+o5Hzv9j/OAZ6SmT8cetoHgTOA24BtueugzmOA51KlQFsy8VonuwL4L6rF/hdUq/yUy17aDDavAL7axgJs35bfCHyHanmfVwmQJC2SInNevY6SpCVZRLwPuGlyrXufRMR7gF/2OUZJWlDWrEuSFlkRsRFwELD1mEORpE5YBiNJWiRFxJnAD4DXZebPxh2PJHXBMhhJkiSpp2xZlyRJknpqsaxZX2ONNXKjjTYadxiSJElazH3729/+bWbO7ur/L5bJ+kYbbcTVV1897jAkSZK0mIuIX3T5/y2DkSRJknrKZF2SJEnqKZN1SZIkqadM1iVJkqSeMlmXJEmSespkXZIkSeopk3VJkiSpp0zWJUmSpJ4yWZckSZJ6ymRdkiRJ6imTdUmSJKmnTNYlSZKknjJZlyRJknrKZF2SJEnqqVnjDmAUbn3b+SNZz+zjnzyS9UiSJGnJYMu6JEmS1FMm65IkSVJPmaxLkiRJPWWyLkmSJPWUybokSZLUUybrkiRJUk+ZrEuSJEk9ZbIuSZIk9ZTJuiRJktRTJuuSJElST5msS5IkST1lsi5JkiT1lMm6JEmS1FMm65IkSVJPmaxLkiRJPWWyLkmSJPWUybokSZLUUybrkiRJUk+ZrEuSJEk9ZbIuSZIk9ZTJuiRJktRTnSfrETEzIq6JiE+2+xtHxDci4oaI+HBELN2WL9Pu39Ae32jofzy/Lf9RROzZdcySJElSH4yiZf1k4Pqh+68B3pCZ9wV+Dxzdlh8N/L4tf0N7HhGxBXAIsCWwF3BORMwcQdySJEnSWHWarEfEesC+wLva/QB2BS5qTzkPOLDdPqDdpz2+W3v+AcCFmfn3zPwZcAPw0C7jliRJkvqg65b1NwKnAXe2+6sDf8jMO9r9m4B12+11gRsB2uN/bM//9/I5/I0kSZK02OosWY+IxwC3ZOa3u1rHpPUdGxFXR8TVt9566yhWKUmSJHWqy5b1HYD9I+LnwIVU+cubgFUiYlZ7znrAze32zcD6AO3xlYHfDS+fw9/8W2aem5nbZeZ2s2fPnv5XI0mSJI1YZ8l6Zj4/M9fLzI2oAaJfyMzDgCuBg9vTjgAubbcva/dpj38hM7MtP6TNFrMxsCnwza7iliRJkvpi1vyfMu2eB1wYES8HrgHe3Za/G/hARNwA3EYl+GTmtRHxEeA64A7gxMz81+jDliRJkkZrJMl6Zl4FXNVu/5Q5zOaSmX8DHj+Xv38F8IruIpQkSZL6xyuYSpIkST1lsi5JkiT1lMm6JEmS1FMm65IkSVJPmaxLkiRJPWWyLkmSJPWUybokSZLUUybrkiRJUk+ZrEuSJEk9ZbIuSZIk9ZTJuiRJktRTJuuSJElST80adwBLil+/7eUjW9e9j3/hyNYlSZKk7tiyLkmSJPWUybokSZLUUybrkiRJUk+ZrEuSJEk9ZbIuSZIk9ZTJuiRJktRTJuuSJElST5msS5IkST1lsi5JkiT1lMm6JEmS1FMm65IkSVJPmaxLkiRJPWWyLkmSJPWUybokSZLUUybrkiRJUk+ZrEuSJEk9ZbIuSZIk9ZTJuiRJktRTJuuSJElST5msS5IkST1lsi5JkiT1lMm6JEmS1FMm65IkSVJPmaxLkiRJPWWyLkmSJPWUybokSZLUUybrkiRJUk+ZrEuSJEk9ZbIuSZIk9ZTJuiRJktRTJuuSJElST5msS5IkST1lsi5JkiT1lMm6JEmS1FMm65IkSVJPmaxLkiRJPWWyLkmSJPWUybokSZLUUybrkiRJUk+ZrEuSJEk9ZbIuSZIk9ZTJuiRJktRTJuuSJElST5msS5IkST1lsi5JkiT1lMm6JEmS1FMm65IkSVJPmaxLkiRJPWWyLkmSJPWUybokSZLUU50l6xGxbER8MyK+FxHXRsRL2/KNI+IbEXFDRHw4IpZuy5dp929oj2809L+e35b/KCL27CpmSZIkqU+6bFn/O7BrZj4Y2ArYKyK2B14DvCEz7wv8Hji6Pf9o4Pdt+Rva84iILYBDgC2BvYBzImJmh3FLkiRJvdBZsp7l/9rdpdpPArsCF7Xl5wEHttsHtPu0x3eLiGjLL8zMv2fmz4AbgId2FbckSZLUF53WrEfEzIj4LnAL8Fngf4E/ZOYd7Sk3Aeu22+sCNwK0x/8IrD68fA5/M7yuYyPi6oi4+tZbb+3g1UiSJEmj1Wmynpn/ysytgPWo1vDNO1zXuZm5XWZuN3v27K5WI0mSJI3MSGaDycw/AFcCDwdWiYhZ7aH1gJvb7ZuB9QHa4ysDvxtePoe/kSRJkhZbXc4GMzsiVmm3lwN2B66nkvaD29OOAC5tty9r92mPfyEzsy0/pM0WszGwKfDNruKWJEmS+mLW/J+ywNYGzmszt8wAPpKZn4yI64ALI+LlwDXAu9vz3w18ICJuAG6jZoAhM6+NiI8A1wF3ACdm5r86jFuSJEnqhc6S9cz8H2DrOSz/KXOYzSUz/wY8fi7/6xXAK6Y7RkmSJKnPvIKpJEmS1FP3KFmPiBkRsVJXwUiSJEmaMN9kPSI+GBErRcQKwA+A6yLiud2HJkmSJC3ZptKyvkVm/om60ujlwMbA4V0GJUmSJGlqyfpSEbEUlaxflpn/BLLTqCRJkiRNKVl/B/BzYAXgSxGxIfCnLoOSJEmSNIWpGzPzbODsoUW/iIhdugtJkiRJEkxtgOlaEfHuiLi83d+CiSuNSpIkSerIVMpg3gdcAazT7v8YOKWjeCRJkiQ1U0nW18jMjwB3AmTmHcC/Oo1KkiRJ0pSS9dsjYnXaDDARsT3wx06jkiRJkjT/AabAs4HLgPtExFeB2cDBnUYlSZIkaUqzwXwnInYC7gcE8KM217okSZKkDs01WY+IXTPzCxFx0KSHNosIMvOSjmOTJEmSlmjzalnfCfgCsN8cHkvAZF2SJEnq0FyT9cw8o918WmY6+4skSZI0YlOZDeZnEXFuROwWEdF5RJIkSZKAqSXrmwOfA06kEve3RMQjuw1LkiRJ0nyT9cz8S2Z+JDMPArYGVgK+2HlkkiRJ0hJuKi3rRMROEXEO8G1gWeAJnUYlSZIkaf7zrEfEz4FrgI8Az83M27sOSpIkSdLUrmD6oMz8U+eRSJIkSbqLqZTBrBQRH4uIW9rPxRGxXueRSZIkSUu4qSTr7wUuA9ZpP59oyyRJkiR1aCrJ+uzMfG9m3tF+3gfM7jguSZIkaYk3lWT9dxHx5IiY2X6eDPyu68AkSZKkJd1UkvWnUlM1/hr4FXAwcFSXQUmSJEmawmwwmfkLYP8RxCJJkiRpyFyT9Yg4e15/mJnPnP5wJEmSJA3Mq2X96cAPqIsh/RKIkUQkSZIkCZh3sr428HjgicAdwIeBizLzDyOIS5IkSVrizXWAaWb+LjPfnpm7UANKVwGui4jDRxWcJEmStCSb7wDTiNgGOBTYHbgc+HbXQUmSJEma9wDTlwH7AtcDFwLPz8w7RhWYJEmStKSbV8v6C4GfAQ9uP6+MCKiBppmZD+o+PEmSJGnJNa9kfeORRSFJkiTpbuaarLeLIUmSJEkak7nOBiNJkiRpvEzWJUmSpJ6aa7IeEZ9vv18zunAkSZIkDczzCqYR8Qhg/4i4kJoF5t8y8zudRiZJkiQt4eaVrL8YeBGwHnDWpMcS2LWroCRJkiTNezaYi4CLIuJFmXnmCGOSJEmSxLxb1gHIzDMjYn9gx7boqsz8ZLdhSZIkSZrvbDAR8SrgZOC69nNyRLyy68AkSZKkJd18W9aBfYGtMvNOgIg4D7gGeEGXgUmSJElLuqnOs77K0O2VO4hDkiRJ0iRTaVl/FXBNRFxJTd+4I3B6p1FJkiRJmtIA0w9FxFXAQ9qi52XmrzuNSpIkSdKUWtbJzF8Bl3UciyRJkqQhU61ZlyRJkjRiJuuSJElST80zWY+ImRHxw1EFI0mSJGnCPJP1zPwX8KOI2GBE8UiSJElqpjLAdFXg2oj4JnD7YGFm7t9ZVJIkSZKmlKy/qPMoJEmSJN3NVOZZ/2JEbAhsmpmfi4jlgZndhyZJkiQt2eY7G0xEHANcBLyjLVoX+HiHMUmSJElialM3ngjsAPwJIDN/AqzZZVCSJEmSppas/z0z/zG4ExGzgOwuJEmSJEkwtWT9ixHxAmC5iNgd+CjwiW7DkiRJkjSVZP104Fbg+8BxwKeBF3YZlCRJkqQpJOuZeSdwHnAm8FLgvMycbxlMRKwfEVdGxHURcW1EnNyWrxYRn42In7Tfq7blERFnR8QNEfE/EbHN0P86oj3/JxFxxIK+WEmSJGlRMpXZYPYF/hc4G3gLcENE7D2F/30HcGpmbgFsD5wYEVtQLfWfz8xNgc+3+wB7A5u2n2OBt7X1rwacATwMeChwxiDBlyRJkhZnUymDeT2wS2bunJk7AbsAb5jfH2XmrzLzO+32n4HrqWkfD6Ba6mm/D2y3DwDen+XrwCoRsTawJ/DZzLwtM38PfBbYa6ovUJIkSVpUTSVZ/3Nm3jB0/6fAn+/JSiJiI2Br4BvAWpn5q/bQr4G12u11gRuH/uymtmxuyyev49iIuDoirr711lvvSXiSJElSL831CqYRcVC7eXVEfBr4CDVl4+OBb011BRGxInAxcEpm/iki/v1YZmZETMs0kJl5LnAuwHbbbefUkpIkSVrkzTVZB/Ybuv0bYKd2+1Zguan884hYikrUL8jMSwb/KyLWzsxftTKXW9rym4H1h/58vbbsZmDnScuvmsr6JUmSpEXZXJP1zDxqYf5xVBP6u4HrM/OsoYcuA44AXt1+Xzq0/BkRcSE1mPSPLaG/Anjl0KDSPYDnL0xskiRJ0qJgXi3rAETExsBJwEbDz8/M/efzpzsAhwPfj4jvtmUvoJL0j0TE0cAvgCe0xz4N7APcAPwFOKqt57aIOJOJ0puXZeZt84tbkiRJWtTNN1kHPk61kH8CuHOq/zgzvwLEXB7ebQ7PT+DEufyv9wDvmeq6JUmSpMXBVJL1v2Xm2Z1HIkmSJOkuppKsvykizgA+A/x9sHAwh7okSZKkbkwlWX8gVXu+KxNlMNnuaxHzw7ceMJL1bH7ipfN/kiRJkuZpKsn644FNMvMfXQcjSZIkacJUrmD6A2CVjuOQJEmSNMlUWtZXAX4YEd/irjXr85u6UZIkSdJCmEqyfkbnUWiJctU79x3ZunY+5lMjW5ckSdJ0m2+ynplfHEUgkiRJku5qKlcw/TM1+wvA0sBSwO2ZuVKXgUmSJElLuqm0rN9rcDsiAjgA2L7LoCRJkiRNbTaYf8vycWDPbsKRJEmSNDCVMpiDhu7OALYD/tZZRJIkSZKAqc0Gs9/Q7TuAn1OlMJIkSZI6NJWa9aNGEYgkSZKku5prsh4RL57H32VmntlBPJIkSZKaebWs3z6HZSsARwOrAybrkiRJUofmmqxn5usHtyPiXsDJwFHAhcDr5/Z3kiRJkqbHPGvWI2I14NnAYcB5wDaZ+ftRBCZJkiQt6eZVs/464CDgXOCBmfl/I4tKkiRJ0jwvinQqsA7wQuCXEfGn9vPniPjTaMKTJEmSllzzqlm/R1c3lSRJkjS9TMglSZKknjJZlyRJknpqvlcwlRZXF713r5Gs5+Cj/msk65EkSYsfW9YlSZKknjJZlyRJknrKZF2SJEnqKZN1SZIkqadM1iVJkqSeMlmXJEmSespkXZIkSeopk3VJkiSpp0zWJUmSpJ4yWZckSZJ6ymRdkiRJ6imTdUmSJKmnTNYlSZKknjJZlyRJknrKZF2SJEnqKZN1SZIkqadM1iVJkqSeMlmXJEmSespkXZIkSeopk3VJkiSpp0zWJUmSpJ4yWZckSZJ6ymRdkiRJ6qlZ4w5AWpK94wN7jmxdxx1+xcjWJUmSpoct65IkSVJPmaxLkiRJPWWyLkmSJPWUNeuSeMlHRlM7/5InWDcvSdI9Ycu6JEmS1FMm65IkSVJPmaxLkiRJPWWyLkmSJPWUybokSZLUUybrkiRJUk+ZrEuSJEk9ZbIuSZIk9ZTJuiRJktRTJuuSJElST3WWrEfEeyLiloj4wdCy1SLisxHxk/Z71bY8IuLsiLghIv4nIrYZ+psj2vN/EhFHdBWvJEmS1Dddtqy/D9hr0rLTgc9n5qbA59t9gL2BTdvPscDboJJ74AzgYcBDgTMGCb4kSZK0uOssWc/MLwG3TVp8AHBeu30ecODQ8vdn+TqwSkSsDewJfDYzb8vM3wOf5e4nAJIkSdJiadQ162tl5q/a7V8Da7Xb6wI3Dj3vprZsbsvvJiKOjYirI+LqW2+9dXqjliRJksZgbANMMzOBnMb/d25mbpeZ282ePXu6/q0kSZI0NrNGvL7fRMTamfmrVuZyS1t+M7D+0PPWa8tuBnaetPyqEcQpacT2vvRxI1vX5QdcPNfH9vnYy0cSw6cf+8KRrEeStGgbdcv6ZcBgRpcjgEuHlj+lzQqzPfDHVi5zBbBHRKzaBpbu0ZZJkiRJi73OWtYj4kNUq/gaEXETNavLq4GPRMTRwC+AJ7SnfxrYB7gB+AtwFEBm3hYRZwLfas97WWZOHrQqSZIkLZY6S9Yz89C5PLTbHJ6bwIlz+T/vAd4zjaFJkiRJiwSvYCpJkiT1lMm6JEmS1FMm65IkSVJPmaxLkiRJPWWyLkmSJPWUybokSZLUUybrkiRJUk+ZrEuSJEk9ZbIuSZIk9ZTJuiRJktRTs8YdgCTprva95G0jW9enDjp+ZOuSJN1ztqxLkiRJPWWyLkmSJPWUybokSZLUUybrkiRJUk+ZrEuSJEk9ZbIuSZIk9ZTJuiRJktRTzrMuSbqbx1x0wcjW9cmDDxvZuiRpUWPLuiRJktRTJuuSJElST5msS5IkST1lzbokqbf2v+gTI1vXZQfvN7J1SdJU2bIuSZIk9ZTJuiRJktRTlsFIkjQPj734KyNb18ce98iRrUvSosGWdUmSJKmnTNYlSZKknjJZlyRJknrKZF2SJEnqKZN1SZIkqadM1iVJkqSeMlmXJEmSespkXZIkSeopL4okSdIi4ImX3DCydX34oPuObF2S5s2WdUmSJKmnTNYlSZKknjJZlyRJknrKmnVJkjQlb/3Yb0a2rhMfu9bI1iX1mS3rkiRJUk+ZrEuSJEk9ZbIuSZIk9ZQ165IkaZFy+Yd/O7J17f3ENUa2LmlObFmXJEmSespkXZIkSeopk3VJkiSpp0zWJUmSpJ4yWZckSZJ6ymRdkiRJ6imTdUmSJKmnTNYlSZKknjJZlyRJknrKZF2SJEnqKZN1SZIkqadmjTsASZKkRc0177plZOva+mlrzvWxX7325pHFsfZp645sXZpgy7okSZLUUybrkiRJUk+ZrEuSJEk9ZbIuSZIk9ZQDTCVJkrTAfvPGb49sXWudsu3I1tUXtqxLkiRJPWWyLkmSJPXUIpOsR8ReEfGjiLghIk4fdzySJElS1xaJmvWImAm8FdgduAn4VkRclpnXjTcySZIk9cEtb/nMyNa15jP2GNm6FpWW9YcCN2TmTzPzH8CFwAFjjkmSJEnq1KKSrK8L3Dh0/6a2TJIkSVpsRWaOO4b5ioiDgb0y82nt/uHAwzLzGUPPORY4tt29H/CjhVztGsBvF/J/TIc+xNGHGKAfcRjDhD7E0YcYoB9x9CEG6EccfYgB+hFHH2KAfsTRhxigH3H0IQboRxzTEcOGmTl7OoKZk0WiZh24GVh/6P56bdm/Zea5wLnTtcKIuDozt5uu/7cox9GHGPoShzH0K44+xNCXOPoQQ1/i6EMMfYmjDzH0JY4+xNCXOPoQQ1/i6EMM87OolMF8C9g0IjaOiKWBQ4DLxhyTJEmS1KlFomU9M++IiGcAVwAzgfdk5rVjDkuSJEnq1CKRrANk5qeBT49wldNWUrOQ+hBHH2KAfsRhDBP6EEcfYoB+xNGHGKAfcfQhBuhHHH2IAfoRRx9igH7E0YcYoB9x9CGGeVokBphKkiRJS6JFpWZdkiRJWuKYrEuSJEk9ZbK+mImIGNf6ImLFUa5bmiwiNo2I1ccdx8Cov4+StCAiYpVxxzAvi8u+dEFfh8n6YqJNa7lSjnAQQkTMGKyvXZTqsIgY2aDlwUa/KHyJF4UYF9a4X2NErA+cDNzZpngdq4iIoe/HbhGxYR9imtPtJd3k98L3Zt4iYt2IuNc9/JvhbW+16Y9q4UXENhHx+B7EMepGt/sDp7XbvcsLJ+Uaj4+Inccb0T0XERtExJbAskPLpvw59+5D6bO+7sAjYg3gOdRVuEb2ZcvMO9v6dgZ2AD6WmXeMYt3DiRCwUVs2Y/DYKGKYl8kxjPIkal5xdLmeoZ3pUhGxTLs9km0xIh5DHWxeBmwGvD4i1hrFuudm6P04AHg+8IdxxgMVU0RsHxFrtdsj/67MaZsYZ4IwadtdBf79Po3svYmI+0TEfUa1voUREfcG/hNYrd2f7/s06T0+Dji+DyfUw9o2uCkV20FjjGP4vRpVb/U6wP4RsczguN4nk3KNZwDfHmc8C2hr4BXAf7SpyO9RXmCyPkWTvkDHRMRJEXHquOMCyMzfAqvSzoxH9WWLiJkRsRHwcWAl4LZRtKxP+ixOAi6PiHcAh7adzViSkLnE94SIeEZE7BURa44xjoMj4qiI2K2LdQ2t59nA24BPRsTDR7EtRsSewJnApZl5C/D/qBO4k0f9ns8htscChwLvysw/9uFEEjgceAuM5yRy6MC7e0TsFBHrZead40jYJ31Hng2cHxH/FRGrjuK9ibI8dZK5c9frmw6Z+Wvgj8DLJzWazOtvBu/xo4DdgLdl5j+6jfSeadvlp6n911Mj4uBRxzBpezwZeE9EvLer/cbghCkzPw98D5jdls/sYn33VERsHhEPbbcfTe3nv5CZfx5vZFMXERu2fdyl1InGZcBREXHO0HPm+/marE/R0BfoFODJwLXAkRHx7lHGERErDN1ePyIe1O6eBMwaut/V+v+9UWXmvzLz58B+wAOB/UbRsj70WewHPBh4LPA/wLbUl2DpcSbsQ/E9CzihLT4T2GNMcTwdeDbwF+CzLbmddhFxFLAXtUNaETi+i/VMWueDgXcAL83Mz7XWyQOBY4AtgGdHxOyu4xiKZ/I290+qpf/BEbHcOJLjOcR0JvDraGU5o/qeDK8nIo4B3k1djfqTEXH/cSTsQ9+RfYDHUNvur4EPxQjKlrL8BXg/cHREbNz1OhdURNw7qlwC4AXAbcC922Pz3IYiYkZUmdqbqRb55Xty4jr5mPZn4FPABdSxZKQJ+6TeuMdRLbHrARfENNeUR8T2wNntZGA34KG0E8bM/Fd7zjh7vJYBHgXcEFVy9VXgZ9S+dO1xxbUAjgK+EhHrZ+ZNmflNYEdgu0HCPpXjgsn6PdB23tsBewMPA/4XWDsizh/R+lcEvhwRh0bEUsApwBsj4jRgbeBfQKc7+6GdydER8ZaIeC7VknkcVXqwf5frH4hq0X8H8NfMvB54H3ANlRidMEjYRxHLXOJbDdgyM3cGAvgdlQAsGx13/05KilYBHk2dUC0PfAH43JyeOw3uRW2Tz6BKPp4aEbOi2/rUW6nv4Zotcf8AsEpr/TsGuA9wxigS9kmtYg+LiE2Aq4CnAo8AHtsOQCPVTlx3iYiDImLD9t6sBDxh8Pio4oCq36dO7nfIzOOpz+xj40rYW8vd0cBXM/PnmXkk8GPg7V0mzxGxSUTsGhGrZ+YVVDKyZnusLy2bg3FBuwKvBp4TEa+iLqi4ObAPzH8bysw7M/NG4MT2t7sAI/8uTDbpO7t7RGwD3DszP8REwt55ScykffY2wJOAizPze5m5O/WevWWa96U3Ah8CbqHymQReFxFnRtWFr0srrR2HzPw7dUI/G3g9sCVwLPB34Hl9T9gHn2lmvgT4DPCBiNigLbud+g48PCJeMKV/mJn+zOUHmDHp/kxqZ7o78N9t2Y5UYvLujmMZXMBqb+B66kAHVWN3PtXScTPwA+A+HcdyIpX07Qr8N/Cytnxfqnt0365e/6RlhwO/olr0AZYGnga8ikrYRrmtxNDtpVos7wL+C/gkMLM99hTgQSOK40hqB/d84L3A5cBS7bHTgS0WYj0z5rDsxdQJ0/lDr/dk4JWD+9P8Wme03xu19/gnwPMmPWfNFs+aI9wWTgK+RbWWfgF4CNXr8/n2mSw9ym2SOknbEfhoi+l0aozJl4H1RxjHDGAF4Ir2/mwztJ2cSiUN9xtVPEP37wO8DrgEeNTQ8vcAHwNmdfBe7N7WdxbwRaqH8J3AB0e1nd6DmHcErqSSi3Va3M+n6oavBjaZw9+sOXT7cKrMZ2/qGPpI6iT2ycBy4359LcaTgG8Cz23b5oPb8kOArwD7j2J7BI5o28TbgQuBrYce+y8qeb3bvnea4tirfS6va+u/BjgPWHnEn8Xk7+f6wEuBN1B138tTJ/jvAtYa97YzhdezW/tu/wD4ObDh0GP3o0oS53t8GvsLWRR+gIOoFoSt2v3dgde2209pB7+NO45hkJjcpx3sbgcOactWpLoWT6EOyLu05XdLcBdw3ZsNNiaqlfhl1EH3uBbL0sCy7fFHA/ed5tc+vDM7gCrpeDRVp78PVQKzf3t8aWClEW8fw/GdADy97VCOpFrLdhvaVq4d/rJ2GNPBVBKwIdUq8UNg9aHHvsscDrILsJ4j2ut6RHvN11AtcKtTLco/ADbv4PXNmPR7HeBSaqD1qm07jeHnjOjz37i9t/du38v92nuyMXUy+4lRbJ9Dr32vts5ZwMpUD9yF1MH4L8BeXb5Hk96b1drvFalWy1cAs4ceP4nuGxqG43lM+0y2b/uzM9u2O5ywT3syADycOol7eLv/dOA1wEeonqLdJ8c6rh/gvlSr4BMmLd+Q6rn6Au14M/TYfaiEcyXgmW0f+FQqsX8FsEp7D75LO4aN+TXuRp24Lt+2ge9QvXXbtscPZjQntXtTvZ7LUL0WrwHOoOUd7TnrLuQ6HgYcP2nZjLZ/2JI6OR006GzEGBP19n7sSjV0zAReCLwJ2Kp9Vr1P1tv35yfA9u3+WVRj6wbt/myqIW3b+f6vcb+YPv5M2mCeAPySaq39FrAndab3Jarl5ZfApiOKaxcq6dqZOkG4FXj8pOc8A7hgGtc5ixpA+ibagZWJ5O8TQ897OvDEjl//CcD3qbPsT7bf9wP2B24C9h7zdnM01dq0cbu/CfC8drD6UIt9yxFss1u37fP0dn8FalDL+dTJ3DeBB07DevamygVeDlxMtZSt3Hb476FqPxe49X4u638Ak1qmhw4u67fX+WJgjTF8/ntTB/6LJy1/BXBku32vEcaza/t8dmz3ByfUQfU4vJhKmFYcQSwntM/mLe17skq7/zKq7GBU78ngJObp1En+GW0f/mTqwPlSqq764R2tf8O2P339pOX3onpJPwi8alTvxxTepz2o1tZLgBXm8LzDqZPkpYeWbUYl+K8GXkQlVs9s+503Uz1tK1I10huO67UN3V+LOrk+AriyLXsHVbq41Yhi2rq9xx8cWrY9lXe8dkH318OvGVgO+DpwJ5XoHsmkk2PgIuDRPdjuTqAaOV7T9mEntdfw/Bb7Qr0fI3w9q7Xv9BpDyy6hSpAGCfvO1Li7eZ6cj/3F9O2HuyYjG1HJ+qbt/hOolsJt28FmB6ahdfIexHYs8Mah+/sD/8dQwt4+9C8Cy0/D+jahWilXo1p9Xke1ljyQKql4bnveEcB1wGbT/HofMHT7XlRr3Obt/tbtYHB0u3/gKD+LOcS6VPtSPnpwv/1euW1HWwPrjCCOldrPG6nWokHr3dJUq8ojgfUW8H8Pfzc2pUqOHtzu70QlIYcPf2bT/NpWoE5+Zg/t1Afv80Pa61uHOjk6jY5b1CfF9niql2kN6kTprUOPvZoaAHuX97DDWII6yX4B8EQqMTq8bQ+nTXru++m41RA4jEr4NqRa9T/Ylt+bKq94cdefFTXYOIbWe9Vg/wI8iBq4dmB77AUMtfhPcxwbU9Mefht4xNDyWe33CsDXWMgW1IXZdtrvNZkoUdoWOIeWeE+Kd7/2GS7bXtvKbfkuwG+pmZC2pGbwoG2PP6FaSUf2/Zz8+trtE4BnDd1/IRO91c8CzmWae4nnFEe7v3Jb5yeBA4aWP5I6gZyWxgdqP30h8BKqkeXb7TO5X3v8vcApY/hc1gOWabfXoUqPNmv316ca4w6m9q/Poact6kPfnxWpnCWoGYaePPScA6iZdx42tGy+pXZjf3F9+pn0RX4m1ZJ+PdUKs1xb/kSqNnz3UcbT7u9DtY7OGtqRfowa4LkG1Z21K9PQekudhZ9HdQuu2n4uoRKPjanu9c+2ncs3p2Odk9Y/o+04hs9Iz6da4galDwe3L8JIaoAnxzeXePdt9wdJ5CMYUWsqdUJwM5VIL9sOPm8DHjqdr5cqt/pqW9ezmehG3Ynqxn3mnLbfaXqNS1HdoBcw0VK8UzvoDE6U1qf7BHR4X7FTi+fIdn8N6mDzMeA/2o55HLXYj6Vm7LiC6ol7EtXFP2h8eCjVQ7ZAJ29TfG/WaN/TBzBRNrdU22bWoBoCpnX9c4jnXu27sPrQsvOoyQIG+9GDqOk1mc79CRMH7+2o0r1NqBKx0+b03WyfyY9oJUPj+KGOM9+gTvhf2ZY9nOpdfQUTCfvM9pruT7WmX0Mlgvdujx/V3udTgY+3ZQdTJ4gjG0Myl9d4EnVS9MChZS+j9uGvonpd1u5o3cPfj6Ook4ZBo9NzqJ7r/Yaes+xCrm94u9+I6t3Ypt1/DfB7qjHuzPY97XxfNSm+tYGzqZxrGepY8lGGTlipvOsV7fa0jSHp6PXsR40v+DjVoLUdE714z6PyykGJ1ZSPkc4GMyQH717NjbwNtYFcTLUMPKLNMPJhaoDl/3YZy2CUekTsGTWn+7OprsXVqC/Y/SNiF+DPwMGZ+dusEfdfyMxrF3Ld96W+MGdRX6RntIeOpspOnkol6HtSrep7LOw6J61/Rtact08FNo2Ij7SH3kcloYe1+3dQr3/kMyfkxFzRO7QpyWZSieq5EXHfzPxnRBxC7YQ6mfVg8kwumXkN8FbqpGpdaqf8/4BnRsRWC7Ouodd7INWjtAfVOrMHlSTfQSXwZ7T1//v7tLAmTa32T+Cv1JiNN7SZdTYHzsyaunFWZt6YNfNEJybNIHEQleitDmwTEetmXfdgZ6ol+xaqte5HXcUzHFNE7BgRz4mIHTLzY1TL3FMz89VUj9s/2g/UtrFLZt403XG020+nBhivR528HJSZe7bP8GnUid4fp3P9c3E7tc9cOyLe25bd1Na/cru/OrBMm4nmn9O14sE+nBoQ92BqzMoWVOnI/wIntin0Bm6l9qe3TVcM90RE7Ej1oB5FbbvHRMS7M/NrVInEalTLJ1lT934uazaun1KvbQfgNVFTYd5OtaL/BNggIq6iSmBenXU9hFG+rvUjYtl2eynqpOiwzPz+0Oxcr6VOUrI99qsuYpn0/RjU8r+zTdf4Pqosa/+I2Ls9/28Luq627X0uIh7X/tfPqRP4F0XEHlRieSJVXrITcGvX+6o5+B1Vjrcx1eBxB7XtfXDoOesA67Tv579GHN+URcQOVAPNMVQVxqmZeTWVJ/2eKrl6cWZ+G+7hMXLcZyF9+6GS05/R6r6ppPXFVDfg3oywFZdKhK6hatf+QLVQrEzVA7+L2sAHM6FM12DSVajuuMFgxI2p1oYXUTvqVamz8LczdMY+ja95Nm0AHtUqvRR1JnoW1bV0BHXGekV7bx484u1juFXkGOqgfz7V6rQ81QtzNXVw/jojqK2jyj/uPXT/OVRZ0gbtM3sOC1gXTPXUDFrK16SSjK8PPf50qhXhMSN4nSdTB5VZVGveW6nWv0EvxkhbXKjepS9QXZ27tc/8KEZQ7jSXePalHSCo5PgMWk0qVY5wHfDYydvxNK5/xaHbuzJUq9n2n5dSZSbHUi1NnYzfGIphdVp3OdUb8wiqpXcwe9XbqN6P97d9zAOmef1B9R58khpo9kgqoR2M/dmAOrBP63rvYYxLM9H6vypVvrIF1RDzDaqh6lvAO9tzVpn09xswUa6wBlWycSbVizIo9zmHarB4JK1Od4SvL9rrOpfqYRn0An4NePqk5853kN80xrRi2+7WGNqHLt0eX5FqIFvoUg+qJ+P3g33T0PKPAn8CDhzjtrcJE+O7ZrVY3wY8pS07n2pgOIc61k/r+Kdpeg0zJ93fheqZOrhtY5u05etMet493v+O/cWO+2dObxp1tnkz1SI1WPYaKmFc6FrwqcbVNtwHUUn715g04wwT3Y3TlagPdtozqdbKV1EH102YSNgHNezn0UFXJjXTzifbuq5py1agpoh8fbu/DNXzMbauVKpG+WXt/XkgdUL3TupkanZ7zzpJ2qgSpUHN6BpUwvgaKpkefIYfpFpO12chakOphGcjWmJF1a9eReuSbMueRSU9dxuAtpCvc/mh28e378AWQ8vuT/VcfJBW7zjCz39nKvl8zdCyx1ItY8fTUc3zpBiGTxzXpg7AG1KJ1o+pk5mXtm30EcCek/9uGmPZrH0ftqV6v77WfrakEqTVqROri6mT7a4T9RntNb+DajF9b9tvPYBq7DizPW/Lts/ZaJrWuyywaru9VttXPat9Dt9g4uTpsLafGFuXPhPznR/Qtpnnt33IMlQiOSjp+8+2PT1g0t+vQO3zzqMlfVRjyhOp48SW1CDzO4Gzx/U6hz6XR9Jq1KkT23OZmEXsMKpErJNaaOq4sGG7ff/2fTiLanS7mIky2+cyDWWLQ+tdv+0fn0XrMWnLjwE+MvS8GV3sF+YSU1AnhHdSx6hjmSghPLLtR45o93ds22ans0Qt4OtYpu1j1qQaVPegGkWuocZxDBo896ImmFidhTkWj/sFj/nNHj7YPZaq6dyq3d+darkeTthHOsNE22jfTCVjgwEgh9MGKyzMBz+f92JvqhXzjVTSvCaVfL6LNof5dK57Duv/MHXhg+EBWMtTZQUfGvc2Q7VG3Qh8f2j5A9t7dSEdzg5EHSAPpFrTX0DVO25AJctnMtGSeBxVR71Ag27b6xyuU/8d8J/t9rZt53Pm0OOrTPPr3Kdtfxu0WN5Om3OYiVr1mW2n/3o6nlEE7lYPvmGL6aMM9e5Qicrb6XjKs/Z92LDd3oo6cGzMREvoWm07+V+qzrjTpJA6eX4DddI62F9cTpWaDLe4z6T1hHT9Q53UfooqLdm7LVuGagB5F5WsTVuCQiU821OJ0XFUa+ZgO/nfoc9ra2os1MOma90LGO9MamD2lVTpxaPa8mWp1synUZMYfGJu+zTqRPBJVA/j8dRx82ImanLXovaLnQzUnM/rGz6mzKDq7v+bVl5JHUuvb/vJH9DdTF0zqZP7U6gT6Mvb8hdR06cOpjR9ApXoLdRECW373n7o/vOpnuinUA2AB7eYfkqrlR/T9nc2lbA/nTqhuIA6qX4z1Xt/RNf7rYWMf3XqpOcS6qRjMPnF+9p2tgFVInkd03DtmbG/4D78UF1O32g7mz8z0aKwK/ALhma46DCGQYvog6gD3QrUGeU/gJ3bY9tS3ag7dRjHnlTLabQd+X9S3elrth3cW5nmk5ZJO9UHUheiOItqmbvP0GPLti/GSMsMJsU3KLlYte3s3jz02FZUy0gnA5OG1nMINQ3k9UzMxrIulbC/iZoe71tMQwJLDYg5njro/pyJQT7bUInQiya/R9OwzsdQgzIPHPxv6oJCp0563iPbY10nosOf/37UyezDqRKtc6hZFYYHqo1iKsQHUEngi6hEaXCgeDRw2dBndAkdzHM/l/fmmVSi9ibqQLYpNY7jFFpr8wjel8knVacwMYf5dkPLH0oNlp/WkzyqF+pS4DdMdOevRc0Q9Lb2mX2PDi+ycw/jXb3tKz5FlXANBu8fRJ3QfIVJ0wPP5f9sQ004cFp7/Vcx0Ysw7llfngYc224/kjo5eSrV6HJvqhe5k5N9Jo7ra1Njzn4LPGno8XdSpR7ns5Blk21fuBGVAN9GHYsGrfjHU6V6h1MXVnoSdWI10rKkFufModvnAN9ut+9LNT59jsrDrmHE10xZgNeyE3UhyPczdJLVvudvp47Jg2tZLNQxcuwvdkxv8PAXeQtqYNy9qIEWP6CSsCcMfRgjmRKQ6pK8lepWvKB9wZ9C1Xe+r+1Uu7yS2n5tp33y0LJHUAe711AlF50lRlQr3AW0ZJzqvr6aSoyPAY4Z87ZyBFVjOpjeaxVq8NTZQ8/pZEzDpDhWoZKiS6gWm8EFq2a3GF/KAtbBUieED6VOjPZt69ioPXZvqkdhUPO7FdM8xRwT0/k9pN0ftKLv3ZYPxmgcRp2sdD5HNxMH3BOorvJXtHWfRrXUvoV2OewRb5svo3qgnj28/bX91yeo1tx9RhTLSVRi9yKqJ/DlVJK6adtvnUDH3eyTviOPok5oBjOX/AeVRK7b9mlPZiFn2Zi07uFeqOe3/diraFcrZqJH7EBai3rX78f83icmyihnUQND3znYlqiem61oJ55TiZUaSHw01aBzJ9XDMLLyirnEdDx1DNl4aNnW1InFc+iwfG7S9jibSo7Ponqf9hp67BFUGdnCXvBoUBp5ApXHXE6VmFxO7cePpRL6Y6hGuJGcQM8l1uGE/XzqBHYwdePqVKv02KZinsrn2j63B1O9aadTx4XBleVXpI6h03aF3rG/8HG90e32k9oBZXXgcUzMBfvstrPp/OIAQx/8KlTX6cOpebJPpS4asjaVwNyPVq87XTs/7j44Ysu2E3s3Q1OHUScsZ9JhGRBV1/XNyeugThI+QyVJDx7jdnMCdVK3JzUwZ9CivDLVivG6EcWxRds+ZlHdph+gzctLtaKsvJCfwbeo1peHU60FP570nLWoWR5e2NHrW7V93g9sO7uXUEn6YIrQ31PlC9+l4wFHVEvPykOv+yrg/kNx/pRK+tamSnY6L5ObtP96AJVwfIo6mVlhaJs8iA7LLLjr2IFVqTr0Qev+Q6mE7ay2b92EEbbgMdFT+lpqgONgwPoL2nZzPdNYlsHEPnw/JqZ/vB91MnU2laitRbuScR9+WqzXUmVcL2zL9qUS9g+0/e2DFuD/LkU1fJ3LiKcAnPRZRHvfr6SS8+WohozXUlPpbU0dX1cZQUwn0K4MStWQv5SqH38I1Yt40DSsYw2q53NQUnMU1fv6KKq37UrquL4cNXZj7C3WDJXDUa3Q32caT6A73r4OaN+RwdXJt6R66l5GNeJ8gmnuYR/7ix/jm/54KvkatOI+DXhTu/0EquVyoxHFsg8Ts4fs2patQZ00fI6h7ttpXOfwQX936gxxJtU6cgVV/rDq0HOm7Qyx/b+1Jt0/Anhbuz2LoRZ86ix75FekHLxP1OWzP0ElJSdQ5TmfY6KGeyW6u3jGcIvdM6iyrPdQXZwzqcT6fVSX9Y0sYOsMdUL2E1qLdlt2fyoRPHvSc9eko7r89n6f2rbBm9prexoTPTxPoxKfTi+K0T7rN7R1rtyWXcRdy7L2pw0wZUR12G1du1GJ56AV5xCqTOiR1Nibszpef1A1me8bWnYBlYQMz1v+sxbnzC7jmRTbvtR+fXmqhfvW9r1YpT3+MDq4amZb7/e5a4vpZtTJ5qdbDI8a1fswn1jvS4052ZVKMr4JvLw99kCqhXCsV4Oehtc4GOR7OhPzv7+9fR5nt8em9Zg2lziOpFr2N2r3Z1InMy9qn8HNTFOZWtsf/WjotZ/UXvvgJLrT8sx5xHW3Migmyq22ZWKQ70XA18a97cxte2JiwOj67TPdsN2/D9VwslZ7zy+nzbo1rTGM+00Y0xv/EGqw4tPb/ZnUSN4PUIMbv8foEvWHUWe9B1CJ0VuZOIGYTSUu05qstwPLe9rtQ6gWwsupxOQ+VHL8Kergu3IHr3lzqufiDcBxbdmjh197W3YoreRkxNvHnGYIWp0qU7qy3d+BKkE4YUQx7d0+n/u2bfVN7fMZjC04dmF2+tSJ4cnt9mAKsRlUS/47qbmRR/X+r0i17D+BoW5qKnE/bBSffXtf96Z6lF7S7r+q7aQH3c0nUUnqzDltMx3FtR11AH5v2189hzq5PbTtu74DPLHDOAZ1yMtTPQ2DKf12p1oLD2/396Vabbs+qZpco75O+3kqcEVbdjmVtE9rtz93bfB4LXVCuTpV6nJJ20esTfVY7djl+zDVeNu+/b+p0oPB93w9qqHojfN6bxeFn/YaH0qVjt6favQ6kJaoUmWlg1buLmZFGt5/LN322ftSx7xnU7PqnNz2GRsx/WWEe1Plb4OE/eS2z3rEdK5nAWPbi0pqN2j3H0GdxO4y9JyxnFDMJ+7lqdby9alj4jpUj92hVI/qx6mxhYPa9MHMPtO6fY39jRjRm70pVVe0K9VFvDbVTXclE1PSLdc2nuPocEDWpLjWbjEMWvRXoA7+b6FdgZFpbrFrX+bftJ3z59r7sBzVCvQfVNf1faiZJS6mm7nUBxdJeR5V8vBOqtvuM9SAsOPa/R8zximbqC7K45mo29wN+Ey7PUhGur764sy2c7gTuKgtG0xD9kbqhGeBuw6HDi5vZqJ1LbjrQeewtq28coyfxePbDrLT7YGJRHzQ8vPEtt7ntvtvoXpW3s6I5/6lWqG+TJvajSplOItK2JejWuwGJ/rTe6CYmBv6bUzMnb5c+x6f3dZ9JHXg+gIdzq4xl/g2ZuiqtVRN7mCaumdQ+9lpr4GljhnrUz0I/932YS+kGh4+yYiuXjy/z27S/SNarDsxMWB+g8H2PN3bzphe86vbdjhcrvU0qgyq83nth/Yfu1Mnih9v69+V6vnZsMN1T07YT2v7jWVH+dly15PZp1AzpgyuSfIIqkRnMJnHrMl/04cfqmRoFnXitR4T4zCOo07ID2zPO4qaiKOzXsSxvxkjeLP3pVqbPkbVY/+COrtbj2qZfPMoDyqTYrtX+yL9hKGzshbrO5jmwS9UvfV1tJZ6Kkm+iYkzwQdSCfu57eDX5WDSs6iWwFlUMvhu4AZqoN6FVAIw6gF7wzuXp1KtM5dQo/W3bge0t7WDwHV0VJM5KY7hwSy3A4e2+4M5kl/NNMw33w4in2NiyrUZTJQ0PIuqze58MOcc4lqbOoG7lo4PskzUfQ4G7K5DHVjPoVpOn9+Wb0MN7N24y3jmEN821MXR3jS0bJ8W338wglIcJgYjDuYpX669R2e1+8tQvYUjayGjTvq/176nZ7Rlz23vy1nUCUVXs328Dvhwu70vExdBWZ+aAWb9LtZ7D+Ib7D92p5KJE6gGqyOpC/HsyETCPtJrFUzT6xsu1XwkQwOqqeP7t6gTkDXadtLV9Iyzh24fTx1bz6Ja99dmYvDkLu370ungTiph/yETNewjHUzKXY9ha1EnsOtQA7yfReU3Dx88l54l6S2u5ane1FdRJzq7Ur27JzHUQNaOBdfS8ZiUsb8hHb/Ze1EtyDsNLXsJdUC+P1V7e0b7ADofDDO049yaOsg+gKp3fgpVE71He3w52nzv07juPagW9YuYmLN9ubbeS4eet1U70HV1cYjBe7A0lZTfu23sv6BaiS+hEvbOLyozp7ja7ZWpWQ0GsyW8nOpl2KrteHdmBIkadUB9A9UiswaVsP+JVgpCJU7TUndJ9eq8hEpKtx1afmj7Do18iq+hbXRfRjRPM9Va/YP23fw8cGJbvjMTNewjGZw19F1ZkdZCSyXC36G19A/FfP8O45gx6f5WVGI8OHlZjiqJ+eAo35d2e1kqKRrM7X5T238t077D5zCNVxHm7q3Uq1Mn8MOt+gdTJw/TXre6gDHvSyWtB3LXntxnUCcyO487xgV8XXtQJR6Di329kmq13X3oOR9s28R96ajxieqJPotKSo+nGnMe3H6/Zeh5z6HGNdzjgbsLGNcBVG/JSGfkmfT9fBZVrvcjWmML1Ys/mPltrNcamM/rmNG+O6+nxj7MpHqj3ko1IK1DNfp+nzZLWafxjPsN6fCNXo0qHXhMuz98JvRSqjV7OWpe8+fSYashd72k817UwKu3tg/5mPbFPrLtSPfsYP27USUlh1E18K9h4gIYy7cv08VDMXYy/eBQPIN6vjPbF/aHTHQnbc54WwFOpZK1H3HXq3S+nGp5HtWO9gSqZW4fqoX/tLZ8x7ZdT3tdMtXq8WIqEXt9e80/ZBqTnUXhp31H7wROH1o2k+qZejkjvDppO+B+miqveHxbth1VxvCiUcXRbm/PRMvxfVtM/9HuL9/i7PoaA8MDro+jBlZfQitHoy5CdCOtpGsa17sBEwN6d6EaWAb1+++gTWfa7p/CRMPL2FsMqZbB9agBiF9jqASDSi6n7YqZI35dJwF/o3rMd23b4AuoBodBAv+49nhn5YpU8vkZarD/IdQJ3ElUz8WghGIl6kR7JCW2Q7F1fs2HOaxzeN/1Oapn41KqYXAwFe/9qZPFkffW3sPXMoM6KTybiYR9F6oE9bS2zQ3GQ3Q7bmncb0bHb/RghP5gFO/wYLWrmLgiYpdzrW5GdYntTZWWfISJGV92bQebx7aN4Di6mfnlIbQBJtSUYmdS5RODg8/y7ct0wSg2uqG47gf8mhEkHVOM5xFUa/+WbSd/MfCMocdfyAi6tdu28DqqhX9Qy78UE12pD6e7EpzlqO7kl7TtcbNxfy5j2hZ2p05UVp60fPmO17vZUKIxaDlcpx0s/ky74iATLeybdPV9bQfZQSvsU6kpD79BJaMrtXV/mqGT2hF+Pju3ffjp1BR8JzMxO8PGLdbZC/veUA0LKwG/atvDjlTPwoXU1KYvpwY0fpV+XhJ9JjXO4jKqMWjjtnx/4HHjjm8hX9saVG/Xs6ma8L2YmAXofKrM8ht0VB/etrOV2+3dqQsefY/qxfj40POOA44f9/s1gs9jB1qvBlVS+xngtUOPf5RK2AfXPhjZDFoL+HoGJx0z2ud7dtu2ZlITYrydEU1EkrmYJ+vtjZ482GJQn3cpHbeStoPd1dTFlma3ZW+nrvQ3qAd+MtWSuRQdT3HGxKCXTan5QF/NRBK/HCO+Mmhb75FUYthpEjSfGILqYfk+E/MkL0e1pF7EUMnBCGLZoa37RVSL+uVDjx1PT658uCT8tH3Hjxi65kDH69uMGgtxZLt/KNWafUDbRxwK/I52AkmH5ThU6/2xVCnQu6hp5mZSJ3LnUPW/92r7kk4Gok+KZxMm5pE/mGo9H9S8PpZK2k5hIhmd1pIHqnX6s1Rr6S5t2arUBezeRrXwPq4tH/kVO+cQ79a0HjGqpOt6Ji54tCPV07rTuONcgNf1ICYuNDWD6iV+F3Vi+4n2e0b73ryQjlqy23f1GlopZ1v2RGoWtX/3ylInuZ2Nb+rTTzuW/4wqFZlFnUhfSatuaM/5DPCRccd6D17T5IT9DVS+MmtUx4V/xzLuN2NEb/jkhP0p1Bn3Qg/Mm8c6V6Jq1p466UN/Gne90tWDqDPOzud8nRTfplS9/psZY90YVfZyGSNO1plDi1vbLr489NksTbVAnd8OzF1Pzzeb6oV5GJW0f4aJltTDqPKcJbKle1w/TFz8otO6T+rE/homLnAVVMtdtO/H4KT6A1QJX5dle3tT5RJHUYnxOcD3hx7fkUpQX0Il7J21kHHXWWhWbsuWb/vzjw89b38qaTuhHUgX+rPirhdt2bPFsD81AcAThh5bnYlB0CM9gM8l7l3a+3NlO9bsSPXi/qBtP9+jzcKxKP209/lO6kTtYKrHeBZVUronVYJyGa1crONYZrXjwo3UCds+bf0vbdvCZ6nW/i8zwhmjxvS57MbECcthVKPXI9v9k9r3ct+h53c6g9pCvI5BjvYQYPs5LJ/R9o1vZQy9aIMgFnsRsTdVy3YOVVt2bGb+oMP1LUVtpM/MzD9GxKzMvCMiVqO+zA8E/kq1erwkMy/pKpZ5xLg51Sr17sy8ZdTrH4pj+cz8y5jWfRh14nILtfPdlxqY9tLM/HL7HJfOzNtHEMtM6sz9n5l5akQcTl1cZnnqZOGpXW6zmrOIWDEz/6/jdTwS+FJmzmj3Lwc+m5lnRcQbqO3zu9QJ5VmZ+a2O4tiJ2m89OTO/0ZZtTo1huCEzT27LdqOmNn15Zv6ui1gmxTWLOondOzNfGBHL02aAycyntefsA3w7M38zDevbnKp/fm9mXhkRQY2v+Tl1EaGjqYtCXTz0N+dR+42fLuz6FyDeyMyMiOWoXo9LqQkFjqV6bT9MDeJfjep1+MmoY5wOETGYterlwD+p2uebge9l5vkRcSRVDnMM8H85zQlORGxA1V3/OCLWoJLRGdQg1k2pnqfvU9ff+GdErJSZf5rOGPokIlahevwuB36TmX+NiKOo0qSnUyf9x1MnjO/JzCvGFetURMSBVI/MqZn5xaHlg/xtBtXo2/k+727GfTYzyh/q4PIPRjAlILAK9aUdPqMczCW6NtU9diATdfNjGYhEz+vGpvm1Tp7J4URqppOTqVkEvkYdzJ5M9bw8vMNY1mTioiTb0s7kqR6ZLzNRt7w0NbhtpINu/Rn9D9Vq81OqVe4lQ8sPoU7ifkjHZVDc9eJYg5LBwcWxzuWuNaid9gbO4fu6FXedhWZ5qlTswx2sezCQ+9tU4nc0NXj19Lb/PoTqOR2UvmxLtayPZdakFsMB1GDXb9J6S9vnNuhB3WFcsU3z69yNOvFYnaoH/yLtIk9UT08nc9tTM2a9k2pJP7AtO4Iqf1mVGuv0qbbdvH1O2/Di9EPlU18feu1/Y+JKrUdR+c8jqPK5Y+nhBY8mvZ6N2usZDFbfhLtekXis5W1jf4PG8IGMrNyibaDvoU3DyESd+j7UvOKL3Ly2i/LP5Pe7HdgeMnT/BUzUrJ/YxYGX6ta/NxM1yBu3g+l1VCvNRi0xOHrc75c/o/9picg/53SQZ6KrucsrL07l4liv7iqOyfG02/OahWYF6sR67emOh2olvZ3qbXsFdTL//5govziUiWtWrEHHV2udT6xbtfgOpK5u+wsm5tjekmqJXmzqptsx9PtMXLBuJNc8aPvuJ1Et6cdTdcwXM3F9irWo8Ua9G2w8ze/DXlSj0t5Dy06jyoIGVyg9or1PvZ2ecdJr2qjtS06lLqr2Ueq6Fs8cd2yZS2CyPuIPf3bbyb+dqhkMqhb5OoYu3uDPSD6LPaha0zOYaA27hHYRlXb/QVRXXZdxDJKf/agrHA4uhvXgdpB9LdVa+KPF6eDqzz3aRvah6tIHVwodWe8XPbg4FndN1I9n7rPQdH5FXaoW+nqqlOSh1NSmu7XH7nK12zFuLxtTrb3vHFr2prYNDSY2WGGcMXb0uvdpn81qQ8tGNZPZNlQP2GlUydFVTEzlOfYBxh2/9sG02Ae2+5tR5WJQJ4W/ZOIK7IfRwZWDp+l1DI7FW1BTm65GzfLyX9QJerRt7Pmj2q7m9TMDdSYzb6Wm+7mWGpRwPlX7+fzM/HSrg1THImIvarrKz9EGibRauxcDT4qIU9pTHwhsFBGrdPXZZNs7UDuCVYCPRMThmfk9qhznbKrF4h/AHV3EoH7LzE9TcxBfGxGrZuY/R7j6b1AXynliRGybmXdm5r8i4lCqu/9LmfnrLgMYfEci4gCqHOUBVGvXZlTyfiv1XblfqxvuMpYrqIvZ/A/wo8x8GXX9AzLzjvb7zi5jmJeIWJNqzfxfYP2I2LfFdDI1wPSaNu7mr+OKsSvte3I68LmImDGo2x/Rur9DlXr8jmo93hHYv9U0L9YDATPzNqqx6cUR8SBq4PW17bEXUj3WP4mI9TLzghzDGI6pyMyMiP2oRrLjqYtj/oRqSP0UNVD7dcB3RrVdzcsSM8B03CJiLepsdJnMvGmUO5YlWRvQ+1tqlo1PRMR6VG/HuZn51YjYkpp+62qqe/uJmXltxzEdSiUA+wGPB54AnJ2ZHx56zsqZ+ccu41C/tcTr9sy8asTrXZcqxdqN+l78lZp94/GZ+f0O17tWtsGhEbES1SO5TWZu3pbtSJWe/IZq9PjbqE5k2gn/edRUgL8fxTrnp52oXEy9TxdSiesa1MDk/2rP2SIzrxtflN0bxQDweax7Keoquq8HXp+ZPxpHHOPQvhOfBl6Qma+OiKUz8x/tsRcAH80eD2RuucDFTEwq8Rhq3MdfqaqIj1JTcF42tiCHmKxrsdeSntdSA0b/FBGfoi449B2qJfFb1Bf0r5n52w7W/+8kpN0/lZrT/tR2/0lUrfCzgItzBDPPaNExjhP7NqvItlS38K+AKzPzxx2ub3OqPPBNwLWZ+a6I2IKaHvKWzHxGe95IZ6GZFONYTp4mxfDvbSEilqFqh59BJeyXUQOENwQ+lZmfiogZ42z51+ItInZnYvrnP0bEspn5t3HHNT8RcR+q7OUJ1FiP5wBPycwbWqPA96iG1Vv60rBqsq4lQpu682yqHu2+1MwWa1IzPVxDTdU07VNsTUpCfpiZ74iI/ana4Ndn5o3teZdTo+mfbLKuJU1r5bqQurDNo6nSgkuB26hZcpbLzFPac5fLzLGVdYz74B0RDwV+kpm/j4ilqR6Q06gu+88Dz6VO+q8fV4xacrRj6xupxrDbxhzOXA1Nb/ow6mJah1N5wFbUGJ1ftqlBzwAOz8z/N75o785kXUuMiHg0NZPE2kPd7TOoAUrT3qLe/v9wErIbNU/zN6gZBT5BtVouCzyOGnX+8y7ikPouIs4C1qUGpT2B+k6szURN6Ucz81XjTpbHLSLeRpXs7ZGZt7VekOdS+5TnAZctye+PRq+NLzmDuvJx9nX7a9eROBS4KjMvjIjBxbT+Ro3xeBE101QvSl+GOcBUS4zM/BxVn3ZlG5hFG0DXSaLe/v9N1LzH21Ajy79IzT27ITV/+sFUt/4LTNS1JBoazH06NThvDWpGiW2oUrX9qSkUL4a7DNJeIgzen4jYISL2yczjqbEEl7QByH+leu8+T5UMLVHvj8YvMy8FdmzH0z5vfxtTJ7Xrt/tfZeICWxsDz83My/o4+Yct61riDLcCdFnPOdTttjTwfmrquc2pgWqXUPO63gS8KjN/2VUcUt+1g+NSVMvWJlS9/OmZ+fGI2Bj4Y5+72LsWdXXWNwLHZeaVbdm5VEnfZ6lyvkOzXXVW0l2OwesBv8qa2erxwKuBozLzS2MOccpM1rVEGtUMAvNJQu5HtYT1YnYJadzad+KLwFsz88xxxzNubf+xCjWt3H9m5pcnzbrxFKon4vrMvHxsgUo9M5So7w28Cvg18I7M/Fib1OHFwAmZ+YWxBjpFs8YdgDQOo5rqq3UJ/iMizmciCfl4e2yJmeZLmorM/FFEnE5d72D5zPzLuGMap7b/+H1E3A6s3JL3OwAiYkPgg9nme1/Sa/mlYS1RfwjwNOBI6qJm+0TEKpn53jbt5nsiYutFocHMmnVpBFpifjowMyKWH3c8Uo99napXXyIN1aivHBMXffoZdVGoNTPzzojYjpr95d6DvzNRlya0a6w8j5pA4ruZeS41iPThEXFcZp4HPGJRSNTBZF0apSU6CZGmIjN/CByypLaqtxbB/YFPApdGxEuAK4AdgNdExDuoMTAXtAHskrjLYPXBlVbfRfVIPact+yDw31TCvt6iNFbMmnVphOzalzQnQzW2W1CD0I8FbqGuD/H1tuz+1EwWP87Mb1r6IpWh78+uVKPY/wOuAh4AnAB8JTPf2J67zqKUqIM169JImahLGjZ0ldGgpq5cmpol6keZ+ZeIeBrwFeDWzHzf8N+aqEulJeqPBt4CnAp8gJqW8R3tKc+NiFmZ+Z+LWqIOJuuSJI1FRGwGPCUiVgJmRMTrqBbBvwIPjoj/aVcqfSvQ2TSz0qIsImZSs64dSF2ZFOoChB/OzNsj4uvAWdQVkRdJJuuSJI1Ym6byYuDdwK3UnOlfA/YEvkC1Dn49Im4Bnk3NpS6pGSoDuzMz/xYRP6S+N5sAj83MmyPicOC3i/rUpibrkiSNUKtLv4C6cvFlQ8tvAT5BXY/hF9R0c7sAxw8uhiTpLjXq2wH/EREHAz+lTmpPz8xfRMSDqFnYThljqNPCAaaSJI1QRDwS+FJmzmj3l8vMv7bbbwRWzcwj2v1Zg7nUJU1og0n3Ap5IXcfkCOBZ1ADT1dvPKzLz0rEFOU1M1iVJGrF2ZcW3AA/NzN9FxLKtK/+JwP6ZeVh7njO+SJNExLZUL9RhwEyqVn1Z4BBgNWAD4PbM/PHi8B1ynnVJkkas1dA+A/hmRKyWmX9rD/0d+ENELLU4JBlSR5aiBpBeSU3ReAqwLjULzJ8y85rM/DEsHrMmmaxLkjQGQwn71fDvQaevBj6Rmf9cHJIMqSN/Aw6JiF0y8452JdIrqKv6vmL4AkmLAweYSpI0Jpl5eUScGBF/AX4GPDsz/2vccUl91XqcvhsRzwLeFRHPB/5IzaT0PuB+i9uJrsm6JElj1BL2/YCVMvPT445H6rmICDLzwoj4O3Ak8C/geKpW/YkRsQLwl8UlaXeAqSRJPWGdulSGpmfcHtiKutDRDzLzpoiYQZWjZ0QsRV007FHAucBBmfmDccXdBWvWJUnqCRN1qbREfF/gncCWwOOAN0XE5pl559Dz/gksDcwGHrO4Jepgy7okSZJ6pg0SfRNwaWZ+PiLWBg4F1gFeBPxt+OQ2ImYMJ/GLE1vWJUmS1DczqOkYdwXIzF8B36FmfPn75F6oxTVRB5N1SZIkjdlgusWI2DIiHpCZ/wJeDDw4Io5tT7udallfc0xhjoVlMJIkSRqbocGku1NX9v0z8CnqKqXLA+cA3wMeSk1v+omxBTsGJuuSJEkaq4jYFngBcCqQwLOB3wIfAm4BNgTuyMzrl7RZkyyDkSRJ0khFxJoR8aZ2e2ngQGAn4J+Z+QvgHcBqwHHARpn5/cy8Hpa8WZNM1iVJkjRSmXkLMCsitszMfwDvAS4DXhcRszPzOuBdwHLAX8cY6thZBiNJkqSRaYNJZwIvAX6TmW9uy+8LHEPN+HJaZv4mIlbIzNvHFmwP2LIuSZKkkclyB3AB8JyIOKItv4G6CNIfgDe2q5Mu0a3qYMu6JEmSxiQidqRme3ltZr6/LdsIWCEzrx1nbH1hsi5JkqSxiYhdgPcDr6KuWHpzW75EzfoyNybrkiRJGquIeABwEnXho1sz81VjDqk3TNYlSZI0dhGxHDXwdFvgm5m5xNerg8m6JEmS1FvOBiNJkiT1lMm6JEmS1FMm65IkSVJPmaxLkiRJPWWyLkmLoYhYKyI+GBE/jYhvR8TXIuKx445LknTPmKxL0mImIgL4OPClzNwkM7cFDgHWm4b/PXNh/4ckaepM1iVp8bMr8I/MfPtgQWb+IjPfHBEzI+J1EfGtiPifiDgOICJ2joirIuKiiPhhRFzQkn4i4ucR8ZqI+A7w+IjYo7XUfyciPhoRK47nZUrS4s9kXZIWP1sC35nLY0cDf8zMhwAPAY6JiI3bY1sDpwBbAJsAOwz93e8ycxvgc8ALgUe3+1cDz572VyBJAmDWuAOQJHUrIt4KPBL4B/AL4EERcXB7eGVg0/bYNzPzpvY33wU2Ar7Snvfh9nt7Kpn/amt4Xxr4WucvQpKWUCbrkrT4uRZ43OBOZp4YEWtQreD/DzgpM68Y/oOI2Bn4+9Cif3HXY8Ttg6cCn83MQ6c/bEnSZJbBSNLi5wvAshFx/NCy5dvvK4DjI2IpgIjYLCJWuAf/++vADhFx3/b3K0TEZtMRtCTp7mxZl6TFTGZmRBwIvCEiTgNupVrGnwd8lCpv+U4bQHorcOA9+N+3RsSRwIciYpm2+IXAj6crfknShMjMcccgSZIkaQ4sg5EkSZJ6ymRdkiRJ6imTdUmSJKmnTNYlSZKknjJZlyRJknrKZF2SJEnqKZN1SZIkqaf+P/dhIB2vuaJDAAAAAElFTkSuQmCC",
      "text/plain": [
       "<Figure size 864x432 with 1 Axes>"
      ]
     },
     "metadata": {
      "needs_background": "light"
     },
     "output_type": "display_data"
    }
   ],
   "source": [
    "# Split genres and explode into individual rows\n",
    "movies_df['genres'] = movies_df['genres'].str.split('|')\n",
    "genres_exploded = movies_df.explode('genres')\n",
    "\n",
    "# Count genres\n",
    "genre_counts = genres_exploded['genres'].value_counts()\n",
    "\n",
    "# Plot bar chart\n",
    "plt.figure(figsize=(12, 6))\n",
    "sns.barplot(x=genre_counts.index, y=genre_counts.values)\n",
    "plt.title('Genre Popularity')\n",
    "plt.xlabel('Genre')\n",
    "plt.ylabel('Number of Movies')\n",
    "plt.xticks(rotation=45)\n",
    "plt.show()"
   ]
  },
  {
   "cell_type": "markdown",
   "metadata": {},
   "source": [
    "Identify dominant genres (e.g., Drama, Comedy).\n",
    "Helps in balancing genre representation in recommendations."
   ]
  },
  {
   "cell_type": "markdown",
   "metadata": {},
   "source": [
    "Next lets look at the Genre Distribution Over Time and analyze how genre popularity has changed over the years.\n",
    "Spot trends in movie production."
   ]
  },
  {
   "cell_type": "code",
   "execution_count": 70,
   "metadata": {},
   "outputs": [
    {
     "data": {
      "text/html": [
       "<div>\n",
       "<style scoped>\n",
       "    .dataframe tbody tr th:only-of-type {\n",
       "        vertical-align: middle;\n",
       "    }\n",
       "\n",
       "    .dataframe tbody tr th {\n",
       "        vertical-align: top;\n",
       "    }\n",
       "\n",
       "    .dataframe thead th {\n",
       "        text-align: right;\n",
       "    }\n",
       "</style>\n",
       "<table border=\"1\" class=\"dataframe\">\n",
       "  <thead>\n",
       "    <tr style=\"text-align: right;\">\n",
       "      <th></th>\n",
       "      <th>movieId</th>\n",
       "      <th>title</th>\n",
       "      <th>genres</th>\n",
       "    </tr>\n",
       "  </thead>\n",
       "  <tbody>\n",
       "    <tr>\n",
       "      <th>0</th>\n",
       "      <td>1</td>\n",
       "      <td>Toy Story (1995)</td>\n",
       "      <td>[Adventure, Animation, Children, Comedy, Fantasy]</td>\n",
       "    </tr>\n",
       "    <tr>\n",
       "      <th>1</th>\n",
       "      <td>2</td>\n",
       "      <td>Jumanji (1995)</td>\n",
       "      <td>[Adventure, Children, Fantasy]</td>\n",
       "    </tr>\n",
       "    <tr>\n",
       "      <th>2</th>\n",
       "      <td>3</td>\n",
       "      <td>Grumpier Old Men (1995)</td>\n",
       "      <td>[Comedy, Romance]</td>\n",
       "    </tr>\n",
       "    <tr>\n",
       "      <th>3</th>\n",
       "      <td>4</td>\n",
       "      <td>Waiting to Exhale (1995)</td>\n",
       "      <td>[Comedy, Drama, Romance]</td>\n",
       "    </tr>\n",
       "    <tr>\n",
       "      <th>4</th>\n",
       "      <td>5</td>\n",
       "      <td>Father of the Bride Part II (1995)</td>\n",
       "      <td>[Comedy]</td>\n",
       "    </tr>\n",
       "  </tbody>\n",
       "</table>\n",
       "</div>"
      ],
      "text/plain": [
       "   movieId                               title  \\\n",
       "0        1                    Toy Story (1995)   \n",
       "1        2                      Jumanji (1995)   \n",
       "2        3             Grumpier Old Men (1995)   \n",
       "3        4            Waiting to Exhale (1995)   \n",
       "4        5  Father of the Bride Part II (1995)   \n",
       "\n",
       "                                              genres  \n",
       "0  [Adventure, Animation, Children, Comedy, Fantasy]  \n",
       "1                     [Adventure, Children, Fantasy]  \n",
       "2                                  [Comedy, Romance]  \n",
       "3                           [Comedy, Drama, Romance]  \n",
       "4                                           [Comedy]  "
      ]
     },
     "execution_count": 70,
     "metadata": {},
     "output_type": "execute_result"
    }
   ],
   "source": [
    "movies_df.head()"
   ]
  },
  {
   "cell_type": "code",
   "execution_count": 71,
   "metadata": {},
   "outputs": [],
   "source": [
    "movies_df['genres']= movies_df['genres'].astype(str)"
   ]
  },
  {
   "cell_type": "code",
   "execution_count": 75,
   "metadata": {},
   "outputs": [
    {
     "data": {
      "image/png": "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",
      "text/plain": [
       "<Figure size 864x432 with 1 Axes>"
      ]
     },
     "metadata": {
      "needs_background": "light"
     },
     "output_type": "display_data"
    }
   ],
   "source": [
    "# Extract release year from title\n",
    "movies_df['year'] = movies_df['title'].str.extract(r'\\((\\d{4})\\)', expand=False)\n",
    "movies_df = movies_df.dropna(subset=['year'])\n",
    "movies_df['year'] = movies_df['year'].astype(int)\n",
    "movies_df['genres'] = movies_df['genres'].astype(str)\n",
    "\n",
    "# Split genres and explode into individual rows\n",
    "movies_exploded = movies_df.explode('genres')\n",
    "\n",
    "# Filter for specific genres\n",
    "selected_genres = ['Action', 'Drama', 'Comedy']\n",
    "genre_year = movies_exploded[movies_exploded['genres'].isin(selected_genres)]\n",
    "\n",
    "# Optionally, filter for a specific year range\n",
    "genre_year = genre_year[(genre_year['year'] >= 1980) & (genre_year['year'] <= 2020)]\n",
    "\n",
    "# Plot genre counts over time\n",
    "plt.figure(figsize=(12, 6))\n",
    "sns.countplot(data=genre_year, x='year', hue='genres', palette='tab10')\n",
    "\n",
    "plt.title('Genre Distribution Over Time')\n",
    "plt.xlabel('Year')\n",
    "plt.ylabel('Number of Movies')\n",
    "plt.legend(title='Genre')\n",
    "plt.xticks(rotation=90)\n",
    "plt.show()"
   ]
  },
  {
   "cell_type": "markdown",
   "metadata": {},
   "source": [
    "- Growth and Decline in Movie Releases: There is a noticeable increase in the number of movies produced across all genres from 1980, peaking around the early 2000s, after which there is a gradual decline. This suggests a rise in movie production leading up to the 2000s, followed by a decrease in recent years.\n",
    "\n",
    "- Drama Dominates: Drama appears to be the most consistently produced genre, with the highest number of releases each year, particularly from the late 1990s to the mid-2000s. It often has more releases compared to Comedy and Action.\n",
    "\n",
    "- Comedy as the Second Leading Genre: Comedy is the second most produced genre over the years, closely following Drama in terms of the number of movies produced annually. It maintains a relatively steady presence throughout the period.\n",
    "\n",
    "- Action Genre: Action movies have consistently fewer releases compared to Drama and Comedy. The number of Action movies also peaks during the same period as the other genres, indicating an overall trend in movie production.\n",
    "\n",
    "- Overall Trends: The increase in production from 1980 until the early 2000s, followed by a decline, might indicate changes in the film industry, such as shifts in audience preferences, economic factors, or the impact of streaming services in recent years."
   ]
  },
  {
   "cell_type": "markdown",
   "metadata": {},
   "source": [
    "Now lets create aWord Cloud of Tags to visualize the most common words in user-generated tags and understand the themes and attributes users associate with movies."
   ]
  },
  {
   "cell_type": "code",
   "execution_count": 78,
   "metadata": {},
   "outputs": [
    {
     "ename": "AttributeError",
     "evalue": "'TransposedFont' object has no attribute 'getbbox'",
     "output_type": "error",
     "traceback": [
      "\u001b[1;31m---------------------------------------------------------------------------\u001b[0m",
      "\u001b[1;31mAttributeError\u001b[0m                            Traceback (most recent call last)",
      "\u001b[1;32m<ipython-input-78-a5745c58781c>\u001b[0m in \u001b[0;36m<module>\u001b[1;34m\u001b[0m\n\u001b[0;32m      3\u001b[0m \u001b[1;33m\u001b[0m\u001b[0m\n\u001b[0;32m      4\u001b[0m \u001b[1;31m# Generate word cloud\u001b[0m\u001b[1;33m\u001b[0m\u001b[1;33m\u001b[0m\u001b[1;33m\u001b[0m\u001b[0m\n\u001b[1;32m----> 5\u001b[1;33m \u001b[0mwordcloud\u001b[0m \u001b[1;33m=\u001b[0m \u001b[0mWordCloud\u001b[0m\u001b[1;33m(\u001b[0m\u001b[0mwidth\u001b[0m\u001b[1;33m=\u001b[0m\u001b[1;36m800\u001b[0m\u001b[1;33m,\u001b[0m \u001b[0mheight\u001b[0m\u001b[1;33m=\u001b[0m\u001b[1;36m400\u001b[0m\u001b[1;33m,\u001b[0m \u001b[0mbackground_color\u001b[0m\u001b[1;33m=\u001b[0m\u001b[1;34m'white'\u001b[0m\u001b[1;33m)\u001b[0m\u001b[1;33m.\u001b[0m\u001b[0mgenerate\u001b[0m\u001b[1;33m(\u001b[0m\u001b[0mall_tags\u001b[0m\u001b[1;33m)\u001b[0m\u001b[1;33m\u001b[0m\u001b[1;33m\u001b[0m\u001b[0m\n\u001b[0m\u001b[0;32m      6\u001b[0m \u001b[1;33m\u001b[0m\u001b[0m\n\u001b[0;32m      7\u001b[0m \u001b[1;33m\u001b[0m\u001b[0m\n",
      "\u001b[1;32mc:\\Users\\hp\\anaconda\\envs\\learn-env\\lib\\site-packages\\wordcloud\\wordcloud.py\u001b[0m in \u001b[0;36mgenerate\u001b[1;34m(self, text)\u001b[0m\n\u001b[0;32m    640\u001b[0m         \u001b[0mself\u001b[0m\u001b[1;33m\u001b[0m\u001b[1;33m\u001b[0m\u001b[0m\n\u001b[0;32m    641\u001b[0m         \"\"\"\n\u001b[1;32m--> 642\u001b[1;33m         \u001b[1;32mreturn\u001b[0m \u001b[0mself\u001b[0m\u001b[1;33m.\u001b[0m\u001b[0mgenerate_from_text\u001b[0m\u001b[1;33m(\u001b[0m\u001b[0mtext\u001b[0m\u001b[1;33m)\u001b[0m\u001b[1;33m\u001b[0m\u001b[1;33m\u001b[0m\u001b[0m\n\u001b[0m\u001b[0;32m    643\u001b[0m \u001b[1;33m\u001b[0m\u001b[0m\n\u001b[0;32m    644\u001b[0m     \u001b[1;32mdef\u001b[0m \u001b[0m_check_generated\u001b[0m\u001b[1;33m(\u001b[0m\u001b[0mself\u001b[0m\u001b[1;33m)\u001b[0m\u001b[1;33m:\u001b[0m\u001b[1;33m\u001b[0m\u001b[1;33m\u001b[0m\u001b[0m\n",
      "\u001b[1;32mc:\\Users\\hp\\anaconda\\envs\\learn-env\\lib\\site-packages\\wordcloud\\wordcloud.py\u001b[0m in \u001b[0;36mgenerate_from_text\u001b[1;34m(self, text)\u001b[0m\n\u001b[0;32m    622\u001b[0m         \"\"\"\n\u001b[0;32m    623\u001b[0m         \u001b[0mwords\u001b[0m \u001b[1;33m=\u001b[0m \u001b[0mself\u001b[0m\u001b[1;33m.\u001b[0m\u001b[0mprocess_text\u001b[0m\u001b[1;33m(\u001b[0m\u001b[0mtext\u001b[0m\u001b[1;33m)\u001b[0m\u001b[1;33m\u001b[0m\u001b[1;33m\u001b[0m\u001b[0m\n\u001b[1;32m--> 624\u001b[1;33m         \u001b[0mself\u001b[0m\u001b[1;33m.\u001b[0m\u001b[0mgenerate_from_frequencies\u001b[0m\u001b[1;33m(\u001b[0m\u001b[0mwords\u001b[0m\u001b[1;33m)\u001b[0m\u001b[1;33m\u001b[0m\u001b[1;33m\u001b[0m\u001b[0m\n\u001b[0m\u001b[0;32m    625\u001b[0m         \u001b[1;32mreturn\u001b[0m \u001b[0mself\u001b[0m\u001b[1;33m\u001b[0m\u001b[1;33m\u001b[0m\u001b[0m\n\u001b[0;32m    626\u001b[0m \u001b[1;33m\u001b[0m\u001b[0m\n",
      "\u001b[1;32mc:\\Users\\hp\\anaconda\\envs\\learn-env\\lib\\site-packages\\wordcloud\\wordcloud.py\u001b[0m in \u001b[0;36mgenerate_from_frequencies\u001b[1;34m(self, frequencies, max_font_size)\u001b[0m\n\u001b[0;32m    451\u001b[0m                 \u001b[0mfont_size\u001b[0m \u001b[1;33m=\u001b[0m \u001b[0mself\u001b[0m\u001b[1;33m.\u001b[0m\u001b[0mheight\u001b[0m\u001b[1;33m\u001b[0m\u001b[1;33m\u001b[0m\u001b[0m\n\u001b[0;32m    452\u001b[0m             \u001b[1;32melse\u001b[0m\u001b[1;33m:\u001b[0m\u001b[1;33m\u001b[0m\u001b[1;33m\u001b[0m\u001b[0m\n\u001b[1;32m--> 453\u001b[1;33m                 self.generate_from_frequencies(dict(frequencies[:2]),\n\u001b[0m\u001b[0;32m    454\u001b[0m                                                max_font_size=self.height)\n\u001b[0;32m    455\u001b[0m                 \u001b[1;31m# find font sizes\u001b[0m\u001b[1;33m\u001b[0m\u001b[1;33m\u001b[0m\u001b[1;33m\u001b[0m\u001b[0m\n",
      "\u001b[1;32mc:\\Users\\hp\\anaconda\\envs\\learn-env\\lib\\site-packages\\wordcloud\\wordcloud.py\u001b[0m in \u001b[0;36mgenerate_from_frequencies\u001b[1;34m(self, frequencies, max_font_size)\u001b[0m\n\u001b[0;32m    509\u001b[0m                     font, orientation=orientation)\n\u001b[0;32m    510\u001b[0m                 \u001b[1;31m# get size of resulting text\u001b[0m\u001b[1;33m\u001b[0m\u001b[1;33m\u001b[0m\u001b[1;33m\u001b[0m\u001b[0m\n\u001b[1;32m--> 511\u001b[1;33m                 \u001b[0mbox_size\u001b[0m \u001b[1;33m=\u001b[0m \u001b[0mdraw\u001b[0m\u001b[1;33m.\u001b[0m\u001b[0mtextbbox\u001b[0m\u001b[1;33m(\u001b[0m\u001b[1;33m(\u001b[0m\u001b[1;36m0\u001b[0m\u001b[1;33m,\u001b[0m \u001b[1;36m0\u001b[0m\u001b[1;33m)\u001b[0m\u001b[1;33m,\u001b[0m \u001b[0mword\u001b[0m\u001b[1;33m,\u001b[0m \u001b[0mfont\u001b[0m\u001b[1;33m=\u001b[0m\u001b[0mtransposed_font\u001b[0m\u001b[1;33m,\u001b[0m \u001b[0manchor\u001b[0m\u001b[1;33m=\u001b[0m\u001b[1;34m\"lt\"\u001b[0m\u001b[1;33m)\u001b[0m\u001b[1;33m\u001b[0m\u001b[1;33m\u001b[0m\u001b[0m\n\u001b[0m\u001b[0;32m    512\u001b[0m                 \u001b[1;31m# find possible places using integral image:\u001b[0m\u001b[1;33m\u001b[0m\u001b[1;33m\u001b[0m\u001b[1;33m\u001b[0m\u001b[0m\n\u001b[0;32m    513\u001b[0m                 result = occupancy.sample_position(box_size[3] + self.margin,\n",
      "\u001b[1;32mc:\\Users\\hp\\anaconda\\envs\\learn-env\\lib\\site-packages\\PIL\\ImageDraw.py\u001b[0m in \u001b[0;36mtextbbox\u001b[1;34m(self, xy, text, font, anchor, spacing, align, direction, features, language, stroke_width, embedded_color)\u001b[0m\n\u001b[0;32m    565\u001b[0m             \u001b[0mself\u001b[0m\u001b[1;33m.\u001b[0m\u001b[0mtextbbox\u001b[0m\u001b[1;33m(\u001b[0m\u001b[1;33m(\u001b[0m\u001b[1;36m0\u001b[0m\u001b[1;33m,\u001b[0m \u001b[1;36m0\u001b[0m\u001b[1;33m)\u001b[0m\u001b[1;33m,\u001b[0m \u001b[1;34m\"A\"\u001b[0m\u001b[1;33m,\u001b[0m \u001b[0mfont\u001b[0m\u001b[1;33m,\u001b[0m \u001b[0mstroke_width\u001b[0m\u001b[1;33m=\u001b[0m\u001b[0mstroke_width\u001b[0m\u001b[1;33m)\u001b[0m\u001b[1;33m[\u001b[0m\u001b[1;36m3\u001b[0m\u001b[1;33m]\u001b[0m\u001b[1;33m\u001b[0m\u001b[1;33m\u001b[0m\u001b[0m\n\u001b[0;32m    566\u001b[0m             \u001b[1;33m+\u001b[0m \u001b[0mstroke_width\u001b[0m\u001b[1;33m\u001b[0m\u001b[1;33m\u001b[0m\u001b[0m\n\u001b[1;32m--> 567\u001b[1;33m             \u001b[1;33m+\u001b[0m \u001b[0mspacing\u001b[0m\u001b[1;33m\u001b[0m\u001b[1;33m\u001b[0m\u001b[0m\n\u001b[0m\u001b[0;32m    568\u001b[0m         )\n\u001b[0;32m    569\u001b[0m \u001b[1;33m\u001b[0m\u001b[0m\n",
      "\u001b[1;31mAttributeError\u001b[0m: 'TransposedFont' object has no attribute 'getbbox'"
     ]
    }
   ],
   "source": [
    "# Combine all tags into a single string\n",
    "all_tags = ' '.join(tags_df['tag'].astype(str))\n",
    "\n",
    "# Generate word cloud\n",
    "wordcloud = WordCloud(width=800, height=400, background_color='white').generate(all_tags)\n",
    "\n",
    "\n",
    "# Display the word cloud\n",
    "plt.figure(figsize=(15, 7.5))\n",
    "plt.imshow(wordcloud, interpolation='bilinear')\n",
    "plt.axis('off')\n",
    "plt.title('Word Cloud of Movie Tags')\n",
    "plt.show()\n"
   ]
  },
  {
   "cell_type": "markdown",
   "metadata": {},
   "source": [
    "1. Popular Tags:\n",
    "\n",
    "- \"Netflix queue\" is the most prominent tag, suggesting that users frequently associate movies with Netflix, likely indicating movies added to their watchlist.\n",
    "- Other large tags include \"classic,\" \"atmospheric,\" \"superhero,\" \"dark,\" \"action,\" \"comedy,\" and \"thought provoking,\" indicating these are common themes or descriptors that users find noteworthy.\n",
    "2. Diverse Themes:\n",
    "\n",
    "- The word cloud highlights a broad range of topics, including genres (e.g., \"sci-fi,\" \"comedy,\" \"action,\"), emotions (e.g., \"funny,\" \"disturbing,\" \"suspense,\"), and atmosphere (e.g., \"dark,\" \"dreamlike,\" \"quirky,\").\n",
    "- Tags like \"politics,\" \"psychology,\" \"religion,\" and \"music\" suggest that movies covering these topics are also frequently tagged, indicating user interest in thematic depth.\n",
    "3. Popular Genres and Elements:\n",
    "\n",
    "- The prevalence of tags like \"sci-fi,\" \"superhero,\" \"crime,\" and \"animation\" suggests that these genres are commonly represented in the dataset.\n",
    "- Descriptive terms like \"thought provoking,\" \"surreal,\" \"visually appealing,\" and \"twist ending\" reflect viewers' interests in movies that challenge perceptions or have notable cinematic qualities.\n",
    "4. Negative and Mixed Sentiments:\n",
    "\n",
    "- Tags like \"bad,\" \"dark,\" \"disturbing,\" and \"violence\" imply that some viewers also focus on negative aspects or intense themes of movies.\n",
    "\n",
    "Overall, this word cloud provides a snapshot of the wide variety of topics, genres, and characteristics that viewers find important or memorable in movies. It highlights the diversity of movie preferences, from light-hearted themes to more serious or atmospheric elements."
   ]
  },
  {
   "cell_type": "markdown",
   "metadata": {},
   "source": [
    "Now lets create a User-Item Ratings Heatmap to visualize the sparsity of the user-item rating matrix and understand the distribution of ratings across users and movies."
   ]
  },
  {
   "cell_type": "code",
   "execution_count": 21,
   "metadata": {},
   "outputs": [
    {
     "data": {
      "image/png": "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",
      "text/plain": [
       "<Figure size 864x576 with 2 Axes>"
      ]
     },
     "metadata": {
      "needs_background": "light"
     },
     "output_type": "display_data"
    }
   ],
   "source": [
    "# Create a sample of users and movies\n",
    "sample_users = ratings_df['userId'].drop_duplicates().sample(100, random_state=42)\n",
    "sample_movies = ratings_df['movieId'].drop_duplicates().sample(100, random_state=42)\n",
    "\n",
    "# Create a pivot table\n",
    "sample_ratings = ratings_df[ratings_df['userId'].isin(sample_users) & ratings_df['movieId'].isin(sample_movies)]\n",
    "user_item_matrix = sample_ratings.pivot(index='userId', columns='movieId', values='rating')\n",
    "\n",
    "# Plot heatmap\n",
    "plt.figure(figsize=(12, 8))\n",
    "sns.heatmap(user_item_matrix, cmap='viridis')\n",
    "plt.title('User-Item Ratings Heatmap')\n",
    "plt.xlabel('Movies')\n",
    "plt.ylabel('Users')\n",
    "plt.show()\n"
   ]
  },
  {
   "cell_type": "markdown",
   "metadata": {},
   "source": [
    "Eeach cell indicates a user's rating for a specific movie, with colors ranging from dark (lower ratings) to bright yellow (higher ratings). Here are some insights:\n",
    "\n",
    "1. Sparse Matrix: The heatmap is quite sparse, indicating that most users rate only a small subset of available movies. This pattern is common in user-item rating matrices for movie recommendation systems.\n",
    "\n",
    "2. Ratings Distribution:\n",
    "\n",
    "- Ratings are distributed across a range of values from around 0.5 to 5.\n",
    "- The color gradient represents different ratings, with dark blue for low ratings (close to 0.5) and bright yellow for high ratings (close to 5).\n",
    "3. Few Highly Rated Items: There are only a few instances of bright yellow cells, implying that while there are high ratings, they are not very common. Users tend to rate movies more conservatively or moderately.\n",
    "\n",
    "4. Clusters of Activity: There are small clusters of ratings, which might indicate a group of popular movies that have been rated by multiple users. This suggests that some movies have broader appeal while many others have only a handful of ratings.\n",
    "\n",
    "5. Recommendation System Implication: The sparsity in the matrix is a common challenge in recommendation systems, making collaborative filtering techniques ideal since they can leverage the similarities between users or items to fill in the missing ratings."
   ]
  },
  {
   "cell_type": "markdown",
   "metadata": {},
   "source": [
    "Next lets look at the Ratings Over Time and analyze how the volume of ratings changes over time.\n",
    "\n",
    "Identify trends or seasonal patterns in user activity."
   ]
  },
  {
   "cell_type": "code",
   "execution_count": 22,
   "metadata": {},
   "outputs": [
    {
     "data": {
      "image/png": "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",
      "text/plain": [
       "<Figure size 864x432 with 1 Axes>"
      ]
     },
     "metadata": {
      "needs_background": "light"
     },
     "output_type": "display_data"
    }
   ],
   "source": [
    "# Convert timestamp to datetime\n",
    "ratings_df['timestamp'] = pd.to_datetime(ratings_df['timestamp'], unit='s')\n",
    "\n",
    "# Aggregate ratings by month\n",
    "ratings_df['year_month'] = ratings_df['timestamp'].dt.to_period('M')\n",
    "\n",
    "# Count number of ratings per month\n",
    "ratings_per_month = ratings_df.groupby('year_month').size().reset_index(name='num_ratings')\n",
    "\n",
    "# Convert 'year_month' to string or datetime\n",
    "ratings_per_month['year_month_str'] = ratings_per_month['year_month'].astype(str)\n",
    "# Alternatively, convert to datetime\n",
    "ratings_per_month['year_month_dt'] = ratings_per_month['year_month'].dt.to_timestamp()\n",
    "\n",
    "# Ensure 'num_ratings' is numeric\n",
    "ratings_per_month['num_ratings'] = pd.to_numeric(ratings_per_month['num_ratings'], errors='coerce')\n",
    "ratings_per_month = ratings_per_month.dropna(subset=['num_ratings'])\n",
    "\n",
    "# Aggregate by year\n",
    "ratings_df['year'] = ratings_df['timestamp'].dt.year\n",
    "ratings_per_year = ratings_df.groupby('year').size().reset_index(name='num_ratings')\n",
    "\n",
    "# Plot\n",
    "plt.figure(figsize=(12, 6))\n",
    "sns.lineplot(data=ratings_per_year, x='year', y='num_ratings')\n",
    "plt.title('Number of Ratings Over Years')\n",
    "plt.xlabel('Year')\n",
    "plt.ylabel('Number of Ratings')\n",
    "plt.xticks(rotation=45)\n",
    "plt.show()\n"
   ]
  },
  {
   "cell_type": "markdown",
   "metadata": {},
   "source": [
    "- Initial Spike Around Late 1990s: There is a significant increase in ratings leading up to the late 1990s, with a peak around the year 2000. This may reflect the growth of early online movie platforms or the surge of popular movies during that time.\n",
    "\n",
    "- Fluctuating Trends: After the peak around 2000, the number of ratings drops sharply and fluctuates over the years. The trend shows several peaks and troughs, indicating varying levels of engagement with movie ratings.\n",
    "\n",
    "- Decline Around 2010: There is a noticeable decline in the number of ratings around 2010, reaching one of the lowest points. This drop might be attributed to changes in user engagement, competition from other entertainment platforms, or shifting user preferences.\n",
    "\n",
    "- Recent Increase: Starting around 2015, there is an upward trend in ratings, suggesting renewed interest in movie rating activity, possibly driven by increased accessibility through streaming services like Netflix and user engagement through recommendation systems.\n",
    "\n",
    "- Volatile Engagement: The fluctuations indicate that the number of ratings has not been consistent over the years. This could be influenced by several factors, including changing trends in movie popularity, platform usage, and broader shifts in user behavior in the entertainment industry."
   ]
  },
  {
   "cell_type": "markdown",
   "metadata": {},
   "source": [
    "\n",
    "Next lets look at the Average Ratings per User and understand individual user rating tendencies.\n",
    "\n",
    "Identify harsh versus lenient raters."
   ]
  },
  {
   "cell_type": "code",
   "execution_count": 23,
   "metadata": {},
   "outputs": [
    {
     "data": {
      "image/png": "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",
      "text/plain": [
       "<Figure size 720x432 with 1 Axes>"
      ]
     },
     "metadata": {
      "needs_background": "light"
     },
     "output_type": "display_data"
    }
   ],
   "source": [
    "# Calculate average rating per user\n",
    "user_avg_ratings = ratings_df.groupby('userId')['rating'].mean()\n",
    "\n",
    "# Plot histogram\n",
    "plt.figure(figsize=(10, 6))\n",
    "sns.histplot(user_avg_ratings, bins=50)\n",
    "plt.title('Average User Ratings Distribution')\n",
    "plt.xlabel('Average Rating')\n",
    "plt.ylabel('Number of Users')\n",
    "plt.show()\n"
   ]
  },
  {
   "cell_type": "markdown",
   "metadata": {},
   "source": [
    "- The distribution indicates that users tend to rate movies positively, with a preference for ratings between 3 and 4, suggesting that the majority of movies are viewed as generally enjoyable or above average. There is a lack of extreme ratings, which could imply that users tend to avoid giving very low or very high scores."
   ]
  },
  {
   "cell_type": "markdown",
   "metadata": {},
   "source": [
    "Now lets look at the Relationship Between Number of Ratings and Average Rating and explore whether popular movies tend to have higher or lower average ratings.\n",
    "\n",
    "Detect any correlations between popularity and perceived quality."
   ]
  },
  {
   "cell_type": "code",
   "execution_count": 24,
   "metadata": {},
   "outputs": [
    {
     "data": {
      "image/png": "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",
      "text/plain": [
       "<Figure size 720x432 with 1 Axes>"
      ]
     },
     "metadata": {
      "needs_background": "light"
     },
     "output_type": "display_data"
    }
   ],
   "source": [
    "# Calculate average rating and number of ratings per movie\n",
    "movie_stats = ratings_df.groupby('movieId')['rating'].agg(['mean', 'count']).reset_index()\n",
    "movie_stats = movie_stats.merge(movies_df[['movieId', 'title']], on='movieId')\n",
    "\n",
    "# Plot scatter plot\n",
    "plt.figure(figsize=(10, 6))\n",
    "sns.scatterplot(data=movie_stats, x='count', y='mean')\n",
    "plt.title('Number of Ratings vs. Average Rating')\n",
    "plt.xlabel('Number of Ratings')\n",
    "plt.ylabel('Average Rating')\n",
    "plt.xscale('log')\n",
    "plt.show()\n"
   ]
  },
  {
   "cell_type": "markdown",
   "metadata": {},
   "source": [
    "Highly Rated vs. Lowly Rated Movies:\n",
    "\n",
    "- Movies with very few ratings have more variability in their average ratings, often appearing as extremes (either very low or very high).\n",
    "- As the number of ratings increases, the average ratings converge more around a value between 3.0 and 4.0. This suggests that movies with many ratings tend to have moderate average ratings, which is typical since more ratings reduce individual rating bias.\n",
    "\n",
    "Popular Movies:\n",
    "\n",
    "- Popular movies (those with high rating counts) tend to have average ratings that are close to the middle of the scale (often around 3 to 4), indicating that as more users rate a movie, the ratings tend to balance out towards an average consensus.\n",
    "\n",
    "User Behavior:\n",
    "\n",
    "- The plot highlights the challenge of movie rating predictions. Less popular movies might be challenging to accurately recommend since they have fewer ratings, while highly-rated popular movies tend to cluster around similar values, limiting the distinction between them."
   ]
  },
  {
   "cell_type": "markdown",
   "metadata": {},
   "source": [
    "# Modeling\n",
    "\n",
    "To ensure a solid foundation for model evaluation, we should split the dataset into three parts: training, validation, and testing.\n",
    "\n",
    "- Training Set: Used for fitting the model.\n",
    "- Validation Set: Used to tune hyperparameters and evaluate performance during training.\n",
    "- Test Set: Held out to assess the final performance after the model is tuned.\n",
    "\n",
    "We can split the data as follows:\n",
    "\n",
    "- 70% for training.\n",
    "- 15% for validation.\n",
    "- 15% for testing."
   ]
  },
  {
   "cell_type": "code",
<<<<<<< HEAD
   "execution_count": 79,
=======
<<<<<<< HEAD
   "execution_count": 38,
=======
   "execution_count": 25,
>>>>>>> d782bbd76be62f5742baed073f71f4ff0b84d825
>>>>>>> bb573423b1420a2ecdde3a1f20bc0f10aeed0217
   "metadata": {},
   "outputs": [
    {
     "data": {
      "text/plain": [
       "(0.6999980165813796, 0.14999603316275933, 0.150005950255861)"
      ]
     },
<<<<<<< HEAD
     "execution_count": 79,
=======
<<<<<<< HEAD
     "execution_count": 38,
=======
     "execution_count": 25,
>>>>>>> d782bbd76be62f5742baed073f71f4ff0b84d825
>>>>>>> bb573423b1420a2ecdde3a1f20bc0f10aeed0217
     "metadata": {},
     "output_type": "execute_result"
    }
   ],
   "source": [
    "from sklearn.model_selection import train_test_split\n",
    "\n",
    "# Split into training (70%) and temp (30%) sets first\n",
    "train_data, temp_data = train_test_split(ratings_df, test_size=0.3, random_state=42)\n",
    "\n",
    "# Split temp_data into validation (15% of the whole) and test (15% of the whole) sets\n",
    "validation_data, test_data = train_test_split(temp_data, test_size=0.5, random_state=42)\n",
    "\n",
    "# Verify the split sizes\n",
    "train_size = train_data.shape[0] / ratings_df.shape[0]\n",
    "validation_size = validation_data.shape[0] / ratings_df.shape[0]\n",
    "test_size = test_data.shape[0] / ratings_df.shape[0]\n",
    "\n",
    "(train_size, validation_size, test_size)\n"
   ]
  },
  {
   "cell_type": "markdown",
   "metadata": {},
   "source": [
    "## Initial SVD Model"
   ]
  },
  {
   "cell_type": "code",
<<<<<<< HEAD
   "execution_count": 39,
=======
   "execution_count": 26,
>>>>>>> d782bbd76be62f5742baed073f71f4ff0b84d825
   "metadata": {},
   "outputs": [
    {
     "name": "stdout",
     "output_type": "stream",
     "text": [
<<<<<<< HEAD
      "RMSE: 0.8847\n",
      "RMSE: 0.8845\n",
      "RMSE for Validation Set: 0.8847\n",
      "RMSE for Test Set: 0.8845\n"
=======
      "RMSE: 0.8807\n",
      "RMSE: 0.8802\n",
      "RMSE for Validation Set: 0.8807\n",
      "RMSE for Test Set: 0.8802\n"
>>>>>>> d782bbd76be62f5742baed073f71f4ff0b84d825
     ]
    }
   ],
   "source": [
    "from surprise import Dataset, Reader, SVD\n",
    "from surprise.model_selection import train_test_split\n",
    "from surprise import accuracy\n",
    "\n",
    "# Prepare the data for 'surprise' from the split datasets\n",
    "reader = Reader(rating_scale=(0.5, 5.0))\n",
    "\n",
    "# Convert training, validation, and test data to the surprise format\n",
    "train_data_surprise = Dataset.load_from_df(train_data[['userId', 'movieId', 'rating']], reader)\n",
    "validation_data_surprise = Dataset.load_from_df(validation_data[['userId', 'movieId', 'rating']], reader)\n",
    "test_data_surprise = Dataset.load_from_df(test_data[['userId', 'movieId', 'rating']], reader)\n",
    "\n",
    "# Build the trainset for SVD model\n",
    "training_set = train_data_surprise.build_full_trainset()\n",
    "\n",
    "# Initialize and train the SVD model\n",
    "svd_model = SVD()\n",
    "svd_model.fit(training_set)\n",
    "\n",
    "# Build validation testset from validation_data (list of tuples of userId, movieId, and actual rating)\n",
    "validation_testset = validation_data[['userId', 'movieId', 'rating']].values.tolist()\n",
    "\n",
    "# Validate the model on the validation set\n",
    "validation_predictions = svd_model.test(validation_testset)\n",
    "\n",
    "# Calculate RMSE for validation set\n",
    "validation_rmse = accuracy.rmse(validation_predictions)\n",
    "\n",
    "# Build test testset from test_data (list of tuples of userId, movieId, and actual rating)\n",
    "test_testset = test_data[['userId', 'movieId', 'rating']].values.tolist()\n",
    "\n",
    "# Test the model on the final test set\n",
    "test_predictions = svd_model.test(test_testset)\n",
    "\n",
    "# Calculate RMSE for test set\n",
    "test_rmse = accuracy.rmse(test_predictions)\n",
    "\n",
    "# Print results with labels\n",
    "print(f\"RMSE for Validation Set: {validation_rmse:.4f}\")\n",
    "print(f\"RMSE for Test Set: {test_rmse:.4f}\")\n"
   ]
  },
  {
   "cell_type": "markdown",
   "metadata": {},
   "source": [
    "Performance Consistency:\n",
    "\n",
    "- The RMSE values for the validation and test sets are very close to each other (0.8833 and 0.8847).\n",
    "- This consistency suggests that the model generalizes well and that there is no significant overfitting or underfitting. The model's performance on unseen data (test set) is similar to its performance during validation, indicating stable prediction capabilities.\n",
    "\n",
    "Model Accuracy:\n",
    "\n",
    "- An RMSE of around 0.88 suggests that, on average, the model's predicted rating deviates from the actual rating by approximately 0.88 units on a scale of 0.5 to 5.\n",
    "- Given that the rating scale ranges from 0.5 to 5.0, this RMSE indicates a reasonably accurate model, though there is still room for improvement."
   ]
  },
  {
   "cell_type": "markdown",
   "metadata": {},
   "source": [
    "## Hyperparameter Tuning of the SVD model\n",
    "\n",
    "To tune the hyperparameters of the SVD model and optimize its performance, we can use a grid search or random search method. The goal is to find the best combination of hyperparameters that minimize the Root Mean Squared Error (RMSE)."
   ]
  },
  {
   "cell_type": "code",
<<<<<<< HEAD
   "execution_count": 41,
   "metadata": {},
   "outputs": [
    {
     "ename": "KeyboardInterrupt",
     "evalue": "",
     "output_type": "error",
     "traceback": [
      "\u001b[1;31m---------------------------------------------------------------------------\u001b[0m",
      "\u001b[1;31mKeyboardInterrupt\u001b[0m                         Traceback (most recent call last)",
      "\u001b[1;32m<ipython-input-41-c8d6e7150fbb>\u001b[0m in \u001b[0;36m<module>\u001b[1;34m\u001b[0m\n\u001b[0;32m     15\u001b[0m \u001b[1;31m# Perform grid search to find the best parameters\u001b[0m\u001b[1;33m\u001b[0m\u001b[1;33m\u001b[0m\u001b[1;33m\u001b[0m\u001b[0m\n\u001b[0;32m     16\u001b[0m \u001b[0mgrid_search\u001b[0m \u001b[1;33m=\u001b[0m \u001b[0mGridSearchCV\u001b[0m\u001b[1;33m(\u001b[0m\u001b[0mSVD\u001b[0m\u001b[1;33m,\u001b[0m \u001b[0mparam_grid\u001b[0m\u001b[1;33m,\u001b[0m \u001b[0mmeasures\u001b[0m\u001b[1;33m=\u001b[0m\u001b[1;33m[\u001b[0m\u001b[1;34m'rmse'\u001b[0m\u001b[1;33m]\u001b[0m\u001b[1;33m,\u001b[0m \u001b[0mcv\u001b[0m\u001b[1;33m=\u001b[0m\u001b[1;36m5\u001b[0m\u001b[1;33m)\u001b[0m\u001b[1;33m\u001b[0m\u001b[1;33m\u001b[0m\u001b[0m\n\u001b[1;32m---> 17\u001b[1;33m \u001b[0mgrid_search\u001b[0m\u001b[1;33m.\u001b[0m\u001b[0mfit\u001b[0m\u001b[1;33m(\u001b[0m\u001b[0mratings_data\u001b[0m\u001b[1;33m)\u001b[0m\u001b[1;33m\u001b[0m\u001b[1;33m\u001b[0m\u001b[0m\n\u001b[0m\u001b[0;32m     18\u001b[0m \u001b[1;33m\u001b[0m\u001b[0m\n\u001b[0;32m     19\u001b[0m \u001b[1;31m# Extract the best RMSE and corresponding hyperparameters\u001b[0m\u001b[1;33m\u001b[0m\u001b[1;33m\u001b[0m\u001b[1;33m\u001b[0m\u001b[0m\n",
      "\u001b[1;32mc:\\Users\\Hp\\AppData\\Local\\anaconda3\\envs\\learn-env\\lib\\site-packages\\surprise\\model_selection\\search.py\u001b[0m in \u001b[0;36mfit\u001b[1;34m(self, data)\u001b[0m\n\u001b[0;32m     86\u001b[0m                                                        cv.split(data))\n\u001b[0;32m     87\u001b[0m         )\n\u001b[1;32m---> 88\u001b[1;33m         out = Parallel(n_jobs=self.n_jobs,\n\u001b[0m\u001b[0;32m     89\u001b[0m                        \u001b[0mpre_dispatch\u001b[0m\u001b[1;33m=\u001b[0m\u001b[0mself\u001b[0m\u001b[1;33m.\u001b[0m\u001b[0mpre_dispatch\u001b[0m\u001b[1;33m,\u001b[0m\u001b[1;33m\u001b[0m\u001b[1;33m\u001b[0m\u001b[0m\n\u001b[0;32m     90\u001b[0m                        verbose=self.joblib_verbose)(delayed_list)\n",
      "\u001b[1;32mc:\\Users\\Hp\\AppData\\Local\\anaconda3\\envs\\learn-env\\lib\\site-packages\\joblib\\parallel.py\u001b[0m in \u001b[0;36m__call__\u001b[1;34m(self, iterable)\u001b[0m\n\u001b[0;32m   1049\u001b[0m                 \u001b[0mself\u001b[0m\u001b[1;33m.\u001b[0m\u001b[0m_iterating\u001b[0m \u001b[1;33m=\u001b[0m \u001b[0mself\u001b[0m\u001b[1;33m.\u001b[0m\u001b[0m_original_iterator\u001b[0m \u001b[1;32mis\u001b[0m \u001b[1;32mnot\u001b[0m \u001b[1;32mNone\u001b[0m\u001b[1;33m\u001b[0m\u001b[1;33m\u001b[0m\u001b[0m\n\u001b[0;32m   1050\u001b[0m \u001b[1;33m\u001b[0m\u001b[0m\n\u001b[1;32m-> 1051\u001b[1;33m             \u001b[1;32mwhile\u001b[0m \u001b[0mself\u001b[0m\u001b[1;33m.\u001b[0m\u001b[0mdispatch_one_batch\u001b[0m\u001b[1;33m(\u001b[0m\u001b[0miterator\u001b[0m\u001b[1;33m)\u001b[0m\u001b[1;33m:\u001b[0m\u001b[1;33m\u001b[0m\u001b[1;33m\u001b[0m\u001b[0m\n\u001b[0m\u001b[0;32m   1052\u001b[0m                 \u001b[1;32mpass\u001b[0m\u001b[1;33m\u001b[0m\u001b[1;33m\u001b[0m\u001b[0m\n\u001b[0;32m   1053\u001b[0m \u001b[1;33m\u001b[0m\u001b[0m\n",
      "\u001b[1;32mc:\\Users\\Hp\\AppData\\Local\\anaconda3\\envs\\learn-env\\lib\\site-packages\\joblib\\parallel.py\u001b[0m in \u001b[0;36mdispatch_one_batch\u001b[1;34m(self, iterator)\u001b[0m\n\u001b[0;32m    864\u001b[0m                 \u001b[1;32mreturn\u001b[0m \u001b[1;32mFalse\u001b[0m\u001b[1;33m\u001b[0m\u001b[1;33m\u001b[0m\u001b[0m\n\u001b[0;32m    865\u001b[0m             \u001b[1;32melse\u001b[0m\u001b[1;33m:\u001b[0m\u001b[1;33m\u001b[0m\u001b[1;33m\u001b[0m\u001b[0m\n\u001b[1;32m--> 866\u001b[1;33m                 \u001b[0mself\u001b[0m\u001b[1;33m.\u001b[0m\u001b[0m_dispatch\u001b[0m\u001b[1;33m(\u001b[0m\u001b[0mtasks\u001b[0m\u001b[1;33m)\u001b[0m\u001b[1;33m\u001b[0m\u001b[1;33m\u001b[0m\u001b[0m\n\u001b[0m\u001b[0;32m    867\u001b[0m                 \u001b[1;32mreturn\u001b[0m \u001b[1;32mTrue\u001b[0m\u001b[1;33m\u001b[0m\u001b[1;33m\u001b[0m\u001b[0m\n\u001b[0;32m    868\u001b[0m \u001b[1;33m\u001b[0m\u001b[0m\n",
      "\u001b[1;32mc:\\Users\\Hp\\AppData\\Local\\anaconda3\\envs\\learn-env\\lib\\site-packages\\joblib\\parallel.py\u001b[0m in \u001b[0;36m_dispatch\u001b[1;34m(self, batch)\u001b[0m\n\u001b[0;32m    782\u001b[0m         \u001b[1;32mwith\u001b[0m \u001b[0mself\u001b[0m\u001b[1;33m.\u001b[0m\u001b[0m_lock\u001b[0m\u001b[1;33m:\u001b[0m\u001b[1;33m\u001b[0m\u001b[1;33m\u001b[0m\u001b[0m\n\u001b[0;32m    783\u001b[0m             \u001b[0mjob_idx\u001b[0m \u001b[1;33m=\u001b[0m \u001b[0mlen\u001b[0m\u001b[1;33m(\u001b[0m\u001b[0mself\u001b[0m\u001b[1;33m.\u001b[0m\u001b[0m_jobs\u001b[0m\u001b[1;33m)\u001b[0m\u001b[1;33m\u001b[0m\u001b[1;33m\u001b[0m\u001b[0m\n\u001b[1;32m--> 784\u001b[1;33m             \u001b[0mjob\u001b[0m \u001b[1;33m=\u001b[0m \u001b[0mself\u001b[0m\u001b[1;33m.\u001b[0m\u001b[0m_backend\u001b[0m\u001b[1;33m.\u001b[0m\u001b[0mapply_async\u001b[0m\u001b[1;33m(\u001b[0m\u001b[0mbatch\u001b[0m\u001b[1;33m,\u001b[0m \u001b[0mcallback\u001b[0m\u001b[1;33m=\u001b[0m\u001b[0mcb\u001b[0m\u001b[1;33m)\u001b[0m\u001b[1;33m\u001b[0m\u001b[1;33m\u001b[0m\u001b[0m\n\u001b[0m\u001b[0;32m    785\u001b[0m             \u001b[1;31m# A job can complete so quickly than its callback is\u001b[0m\u001b[1;33m\u001b[0m\u001b[1;33m\u001b[0m\u001b[1;33m\u001b[0m\u001b[0m\n\u001b[0;32m    786\u001b[0m             \u001b[1;31m# called before we get here, causing self._jobs to\u001b[0m\u001b[1;33m\u001b[0m\u001b[1;33m\u001b[0m\u001b[1;33m\u001b[0m\u001b[0m\n",
      "\u001b[1;32mc:\\Users\\Hp\\AppData\\Local\\anaconda3\\envs\\learn-env\\lib\\site-packages\\joblib\\_parallel_backends.py\u001b[0m in \u001b[0;36mapply_async\u001b[1;34m(self, func, callback)\u001b[0m\n\u001b[0;32m    206\u001b[0m     \u001b[1;32mdef\u001b[0m \u001b[0mapply_async\u001b[0m\u001b[1;33m(\u001b[0m\u001b[0mself\u001b[0m\u001b[1;33m,\u001b[0m \u001b[0mfunc\u001b[0m\u001b[1;33m,\u001b[0m \u001b[0mcallback\u001b[0m\u001b[1;33m=\u001b[0m\u001b[1;32mNone\u001b[0m\u001b[1;33m)\u001b[0m\u001b[1;33m:\u001b[0m\u001b[1;33m\u001b[0m\u001b[1;33m\u001b[0m\u001b[0m\n\u001b[0;32m    207\u001b[0m         \u001b[1;34m\"\"\"Schedule a func to be run\"\"\"\u001b[0m\u001b[1;33m\u001b[0m\u001b[1;33m\u001b[0m\u001b[0m\n\u001b[1;32m--> 208\u001b[1;33m         \u001b[0mresult\u001b[0m \u001b[1;33m=\u001b[0m \u001b[0mImmediateResult\u001b[0m\u001b[1;33m(\u001b[0m\u001b[0mfunc\u001b[0m\u001b[1;33m)\u001b[0m\u001b[1;33m\u001b[0m\u001b[1;33m\u001b[0m\u001b[0m\n\u001b[0m\u001b[0;32m    209\u001b[0m         \u001b[1;32mif\u001b[0m \u001b[0mcallback\u001b[0m\u001b[1;33m:\u001b[0m\u001b[1;33m\u001b[0m\u001b[1;33m\u001b[0m\u001b[0m\n\u001b[0;32m    210\u001b[0m             \u001b[0mcallback\u001b[0m\u001b[1;33m(\u001b[0m\u001b[0mresult\u001b[0m\u001b[1;33m)\u001b[0m\u001b[1;33m\u001b[0m\u001b[1;33m\u001b[0m\u001b[0m\n",
      "\u001b[1;32mc:\\Users\\Hp\\AppData\\Local\\anaconda3\\envs\\learn-env\\lib\\site-packages\\joblib\\_parallel_backends.py\u001b[0m in \u001b[0;36m__init__\u001b[1;34m(self, batch)\u001b[0m\n\u001b[0;32m    570\u001b[0m         \u001b[1;31m# Don't delay the application, to avoid keeping the input\u001b[0m\u001b[1;33m\u001b[0m\u001b[1;33m\u001b[0m\u001b[1;33m\u001b[0m\u001b[0m\n\u001b[0;32m    571\u001b[0m         \u001b[1;31m# arguments in memory\u001b[0m\u001b[1;33m\u001b[0m\u001b[1;33m\u001b[0m\u001b[1;33m\u001b[0m\u001b[0m\n\u001b[1;32m--> 572\u001b[1;33m         \u001b[0mself\u001b[0m\u001b[1;33m.\u001b[0m\u001b[0mresults\u001b[0m \u001b[1;33m=\u001b[0m \u001b[0mbatch\u001b[0m\u001b[1;33m(\u001b[0m\u001b[1;33m)\u001b[0m\u001b[1;33m\u001b[0m\u001b[1;33m\u001b[0m\u001b[0m\n\u001b[0m\u001b[0;32m    573\u001b[0m \u001b[1;33m\u001b[0m\u001b[0m\n\u001b[0;32m    574\u001b[0m     \u001b[1;32mdef\u001b[0m \u001b[0mget\u001b[0m\u001b[1;33m(\u001b[0m\u001b[0mself\u001b[0m\u001b[1;33m)\u001b[0m\u001b[1;33m:\u001b[0m\u001b[1;33m\u001b[0m\u001b[1;33m\u001b[0m\u001b[0m\n",
      "\u001b[1;32mc:\\Users\\Hp\\AppData\\Local\\anaconda3\\envs\\learn-env\\lib\\site-packages\\joblib\\parallel.py\u001b[0m in \u001b[0;36m__call__\u001b[1;34m(self)\u001b[0m\n\u001b[0;32m    260\u001b[0m         \u001b[1;31m# change the default number of processes to -1\u001b[0m\u001b[1;33m\u001b[0m\u001b[1;33m\u001b[0m\u001b[1;33m\u001b[0m\u001b[0m\n\u001b[0;32m    261\u001b[0m         \u001b[1;32mwith\u001b[0m \u001b[0mparallel_backend\u001b[0m\u001b[1;33m(\u001b[0m\u001b[0mself\u001b[0m\u001b[1;33m.\u001b[0m\u001b[0m_backend\u001b[0m\u001b[1;33m,\u001b[0m \u001b[0mn_jobs\u001b[0m\u001b[1;33m=\u001b[0m\u001b[0mself\u001b[0m\u001b[1;33m.\u001b[0m\u001b[0m_n_jobs\u001b[0m\u001b[1;33m)\u001b[0m\u001b[1;33m:\u001b[0m\u001b[1;33m\u001b[0m\u001b[1;33m\u001b[0m\u001b[0m\n\u001b[1;32m--> 262\u001b[1;33m             return [func(*args, **kwargs)\n\u001b[0m\u001b[0;32m    263\u001b[0m                     for func, args, kwargs in self.items]\n\u001b[0;32m    264\u001b[0m \u001b[1;33m\u001b[0m\u001b[0m\n",
      "\u001b[1;32mc:\\Users\\Hp\\AppData\\Local\\anaconda3\\envs\\learn-env\\lib\\site-packages\\joblib\\parallel.py\u001b[0m in \u001b[0;36m<listcomp>\u001b[1;34m(.0)\u001b[0m\n\u001b[0;32m    260\u001b[0m         \u001b[1;31m# change the default number of processes to -1\u001b[0m\u001b[1;33m\u001b[0m\u001b[1;33m\u001b[0m\u001b[1;33m\u001b[0m\u001b[0m\n\u001b[0;32m    261\u001b[0m         \u001b[1;32mwith\u001b[0m \u001b[0mparallel_backend\u001b[0m\u001b[1;33m(\u001b[0m\u001b[0mself\u001b[0m\u001b[1;33m.\u001b[0m\u001b[0m_backend\u001b[0m\u001b[1;33m,\u001b[0m \u001b[0mn_jobs\u001b[0m\u001b[1;33m=\u001b[0m\u001b[0mself\u001b[0m\u001b[1;33m.\u001b[0m\u001b[0m_n_jobs\u001b[0m\u001b[1;33m)\u001b[0m\u001b[1;33m:\u001b[0m\u001b[1;33m\u001b[0m\u001b[1;33m\u001b[0m\u001b[0m\n\u001b[1;32m--> 262\u001b[1;33m             return [func(*args, **kwargs)\n\u001b[0m\u001b[0;32m    263\u001b[0m                     for func, args, kwargs in self.items]\n\u001b[0;32m    264\u001b[0m \u001b[1;33m\u001b[0m\u001b[0m\n",
      "\u001b[1;32mc:\\Users\\Hp\\AppData\\Local\\anaconda3\\envs\\learn-env\\lib\\site-packages\\surprise\\model_selection\\validation.py\u001b[0m in \u001b[0;36mfit_and_score\u001b[1;34m(algo, trainset, testset, measures, return_train_measures)\u001b[0m\n\u001b[0;32m    164\u001b[0m \u001b[1;33m\u001b[0m\u001b[0m\n\u001b[0;32m    165\u001b[0m     \u001b[0mstart_fit\u001b[0m \u001b[1;33m=\u001b[0m \u001b[0mtime\u001b[0m\u001b[1;33m.\u001b[0m\u001b[0mtime\u001b[0m\u001b[1;33m(\u001b[0m\u001b[1;33m)\u001b[0m\u001b[1;33m\u001b[0m\u001b[1;33m\u001b[0m\u001b[0m\n\u001b[1;32m--> 166\u001b[1;33m     \u001b[0malgo\u001b[0m\u001b[1;33m.\u001b[0m\u001b[0mfit\u001b[0m\u001b[1;33m(\u001b[0m\u001b[0mtrainset\u001b[0m\u001b[1;33m)\u001b[0m\u001b[1;33m\u001b[0m\u001b[1;33m\u001b[0m\u001b[0m\n\u001b[0m\u001b[0;32m    167\u001b[0m     \u001b[0mfit_time\u001b[0m \u001b[1;33m=\u001b[0m \u001b[0mtime\u001b[0m\u001b[1;33m.\u001b[0m\u001b[0mtime\u001b[0m\u001b[1;33m(\u001b[0m\u001b[1;33m)\u001b[0m \u001b[1;33m-\u001b[0m \u001b[0mstart_fit\u001b[0m\u001b[1;33m\u001b[0m\u001b[1;33m\u001b[0m\u001b[0m\n\u001b[0;32m    168\u001b[0m     \u001b[0mstart_test\u001b[0m \u001b[1;33m=\u001b[0m \u001b[0mtime\u001b[0m\u001b[1;33m.\u001b[0m\u001b[0mtime\u001b[0m\u001b[1;33m(\u001b[0m\u001b[1;33m)\u001b[0m\u001b[1;33m\u001b[0m\u001b[1;33m\u001b[0m\u001b[0m\n",
      "\u001b[1;32mc:\\Users\\Hp\\AppData\\Local\\anaconda3\\envs\\learn-env\\lib\\site-packages\\surprise\\prediction_algorithms\\matrix_factorization.pyx\u001b[0m in \u001b[0;36msurprise.prediction_algorithms.matrix_factorization.SVD.fit\u001b[1;34m()\u001b[0m\n",
      "\u001b[1;32mc:\\Users\\Hp\\AppData\\Local\\anaconda3\\envs\\learn-env\\lib\\site-packages\\surprise\\prediction_algorithms\\matrix_factorization.pyx\u001b[0m in \u001b[0;36msurprise.prediction_algorithms.matrix_factorization.SVD.sgd\u001b[1;34m()\u001b[0m\n",
      "\u001b[1;32mc:\\Users\\Hp\\AppData\\Local\\anaconda3\\envs\\learn-env\\lib\\site-packages\\surprise\\trainset.py\u001b[0m in \u001b[0;36mall_ratings\u001b[1;34m(self)\u001b[0m\n\u001b[0;32m    187\u001b[0m         \u001b[1;32mfor\u001b[0m \u001b[0mu\u001b[0m\u001b[1;33m,\u001b[0m \u001b[0mu_ratings\u001b[0m \u001b[1;32min\u001b[0m \u001b[0miteritems\u001b[0m\u001b[1;33m(\u001b[0m\u001b[0mself\u001b[0m\u001b[1;33m.\u001b[0m\u001b[0mur\u001b[0m\u001b[1;33m)\u001b[0m\u001b[1;33m:\u001b[0m\u001b[1;33m\u001b[0m\u001b[1;33m\u001b[0m\u001b[0m\n\u001b[0;32m    188\u001b[0m             \u001b[1;32mfor\u001b[0m \u001b[0mi\u001b[0m\u001b[1;33m,\u001b[0m \u001b[0mr\u001b[0m \u001b[1;32min\u001b[0m \u001b[0mu_ratings\u001b[0m\u001b[1;33m:\u001b[0m\u001b[1;33m\u001b[0m\u001b[1;33m\u001b[0m\u001b[0m\n\u001b[1;32m--> 189\u001b[1;33m                 \u001b[1;32myield\u001b[0m \u001b[0mu\u001b[0m\u001b[1;33m,\u001b[0m \u001b[0mi\u001b[0m\u001b[1;33m,\u001b[0m \u001b[0mr\u001b[0m\u001b[1;33m\u001b[0m\u001b[1;33m\u001b[0m\u001b[0m\n\u001b[0m\u001b[0;32m    190\u001b[0m \u001b[1;33m\u001b[0m\u001b[0m\n\u001b[0;32m    191\u001b[0m     \u001b[1;32mdef\u001b[0m \u001b[0mbuild_testset\u001b[0m\u001b[1;33m(\u001b[0m\u001b[0mself\u001b[0m\u001b[1;33m)\u001b[0m\u001b[1;33m:\u001b[0m\u001b[1;33m\u001b[0m\u001b[1;33m\u001b[0m\u001b[0m\n",
      "\u001b[1;31mKeyboardInterrupt\u001b[0m: "
=======
   "execution_count": 27,
   "metadata": {},
   "outputs": [
    {
     "name": "stdout",
     "output_type": "stream",
     "text": [
      "Best RMSE: 0.8494\n",
      "Best Hyperparameters: {'n_factors': 100, 'n_epochs': 100, 'lr_all': 0.01, 'reg_all': 0.1}\n"
>>>>>>> d782bbd76be62f5742baed073f71f4ff0b84d825
     ]
    }
   ],
   "source": [
    "from surprise.model_selection import GridSearchCV\n",
    "\n",
    "# Prepare the data in the 'surprise' format\n",
    "reader = Reader(rating_scale=(0.5, 5.0))\n",
    "ratings_data = Dataset.load_from_df(ratings_df[['userId', 'movieId', 'rating']], reader)\n",
    "\n",
    "# Define the parameter grid for SVD\n",
    "param_grid = {\n",
    "    'n_factors': [20, 50, 100],      # Number of latent factors\n",
    "    'n_epochs': [20, 50, 100],       # Number of epochs\n",
    "    'lr_all': [0.002, 0.005, 0.01],  # Learning rate\n",
    "    'reg_all': [0.02, 0.1, 0.4]      # Regularization term\n",
    "}\n",
    "\n",
    "# Perform grid search to find the best parameters\n",
    "grid_search = GridSearchCV(SVD, param_grid, measures=['rmse'], cv=5)\n",
    "grid_search.fit(ratings_data)\n",
    "\n",
    "# Extract the best RMSE and corresponding hyperparameters\n",
    "best_rmse = grid_search.best_score['rmse']\n",
    "best_params = grid_search.best_params['rmse']\n",
    "\n",
    "print(f\"Best RMSE: {best_rmse:.4f}\")\n",
    "print(f\"Best Hyperparameters: {best_params}\")"
   ]
  },
  {
   "cell_type": "code",
   "execution_count": 28,
   "metadata": {},
   "outputs": [
    {
     "name": "stdout",
     "output_type": "stream",
     "text": [
      "RMSE: 0.8595\n",
      "Validation RMSE: 0.8595\n",
      "RMSE: 0.8573\n",
      "Final Test RMSE: 0.8573\n"
     ]
    }
   ],
   "source": [
    "# Use the best parameters to train the final SVD model\n",
    "best_svd_model = SVD(n_factors=best_params['n_factors'], \n",
    "                     n_epochs=best_params['n_epochs'], \n",
    "                     lr_all=best_params['lr_all'], \n",
    "                     reg_all=best_params['reg_all'])\n",
    "\n",
    "# Train the model on the training set\n",
    "best_svd_model.fit(training_set)\n",
    "\n",
    "# Test the model on the validation set\n",
    "validation_predictions = best_svd_model.test(validation_testset)\n",
    "\n",
    "# Calculate RMSE on the validation set\n",
    "validation_rmse = accuracy.rmse(validation_predictions)\n",
    "print(f\"Validation RMSE: {validation_rmse:.4f}\")\n",
    "\n",
    "# Test the model on the test set\n",
    "test_predictions = best_svd_model.test(test_testset)\n",
    "\n",
    "# Calculate RMSE on the test set\n",
    "test_rmse = accuracy.rmse(test_predictions)\n",
    "print(f\"Final Test RMSE: {test_rmse:.4f}\")\n"
   ]
  },
  {
   "cell_type": "markdown",
   "metadata": {},
   "source": [
    "Now a Function to predict ratings using the SVD model"
   ]
  },
  {
   "cell_type": "code",
   "execution_count": null,
   "metadata": {},
   "outputs": [
    {
     "name": "stdout",
     "output_type": "stream",
     "text": [
      "Predicted rating for user 1 on movie 1: 4.56\n"
     ]
    }
   ],
   "source": [
    "# Predict ratings for all user-item pairs\n",
    "def svd_predict(user_id, movie_id):\n",
    "    return best_svd_model.predict(user_id, movie_id).est\n",
    "\n",
    "# Example prediction\n",
    "user_id = 1\n",
    "movie_id = 1\n",
    "predicted_rating = svd_predict(user_id, movie_id)\n",
    "print(f\"Predicted rating for user {user_id} on movie {movie_id}: {predicted_rating:.2f}\")"
   ]
  },
  {
   "cell_type": "markdown",
   "metadata": {},
   "source": [
    "### Summary of Results\n",
    "Initial Model Performance:\n",
    "\n",
    "- Validation RMSE: 0.8822\n",
    "- Test RMSE: 0.8838\n",
    "\n",
    "Optimized Model Performance:\n",
    "\n",
    "- Best RMSE from Grid Search (Cross-Validation): 0.8504\n",
    "- Validation RMSE: 0.8589\n",
    "- Final Test RMSE: 0.8603\n",
    "\n",
    "Improvements\n",
    "\n",
    "The optimized model shows a significant reduction in RMSE on both validation and test sets.\n",
    "\n",
    "This improvement demonstrates that hyperparameter tuning can enhance the model's predictive accuracy."
   ]
  },
  {
   "cell_type": "markdown",
   "metadata": {},
   "source": [
    "## KNNBaseline Model\n",
    "Let’s try a different collaborative filtering algorithm to compare its performance with the SVD model. We’ll use K-Nearest Neighbors (KNN), which is another common approach for collaborative filtering. Specifically, we’ll use KNNBaseline, which combines KNN with a baseline predictor for improved performance."
   ]
  },
  {
   "cell_type": "code",
   "execution_count": null,
   "metadata": {},
   "outputs": [
    {
     "name": "stdout",
     "output_type": "stream",
     "text": [
      "Estimating biases using als...\n",
      "Computing the cosine similarity matrix...\n",
      "Done computing similarity matrix.\n",
      "Estimating biases using als...\n",
      "Computing the cosine similarity matrix...\n",
      "Done computing similarity matrix.\n",
      "Estimating biases using als...\n",
      "Computing the cosine similarity matrix...\n",
      "Done computing similarity matrix.\n",
      "Estimating biases using als...\n",
      "Computing the cosine similarity matrix...\n",
      "Done computing similarity matrix.\n",
      "Estimating biases using als...\n",
      "Computing the cosine similarity matrix...\n",
      "Done computing similarity matrix.\n",
      "Estimating biases using als...\n",
      "Computing the cosine similarity matrix...\n",
      "Done computing similarity matrix.\n",
      "Estimating biases using als...\n",
      "Computing the cosine similarity matrix...\n",
      "Done computing similarity matrix.\n",
      "Estimating biases using als...\n",
      "Computing the cosine similarity matrix...\n",
      "Done computing similarity matrix.\n",
      "Estimating biases using als...\n",
      "Computing the cosine similarity matrix...\n",
      "Done computing similarity matrix.\n",
      "Estimating biases using als...\n",
      "Computing the cosine similarity matrix...\n",
      "Done computing similarity matrix.\n",
      "Estimating biases using als...\n",
      "Computing the pearson_baseline similarity matrix...\n",
      "Done computing similarity matrix.\n",
      "Estimating biases using als...\n",
      "Computing the pearson_baseline similarity matrix...\n",
      "Done computing similarity matrix.\n",
      "Estimating biases using als...\n",
      "Computing the pearson_baseline similarity matrix...\n",
      "Done computing similarity matrix.\n",
      "Estimating biases using als...\n",
      "Computing the pearson_baseline similarity matrix...\n",
      "Done computing similarity matrix.\n",
      "Estimating biases using als...\n",
      "Computing the pearson_baseline similarity matrix...\n",
      "Done computing similarity matrix.\n",
      "Estimating biases using als...\n",
      "Computing the pearson_baseline similarity matrix...\n",
      "Done computing similarity matrix.\n",
      "Estimating biases using als...\n",
      "Computing the pearson_baseline similarity matrix...\n",
      "Done computing similarity matrix.\n",
      "Estimating biases using als...\n",
      "Computing the pearson_baseline similarity matrix...\n",
      "Done computing similarity matrix.\n",
      "Estimating biases using als...\n",
      "Computing the pearson_baseline similarity matrix...\n",
      "Done computing similarity matrix.\n",
      "Estimating biases using als...\n",
      "Computing the pearson_baseline similarity matrix...\n",
      "Done computing similarity matrix.\n",
      "Estimating biases using als...\n",
      "Computing the cosine similarity matrix...\n",
      "Done computing similarity matrix.\n",
      "Estimating biases using als...\n",
      "Computing the cosine similarity matrix...\n",
      "Done computing similarity matrix.\n",
      "Estimating biases using als...\n",
      "Computing the cosine similarity matrix...\n",
      "Done computing similarity matrix.\n",
      "Estimating biases using als...\n",
      "Computing the cosine similarity matrix...\n",
      "Done computing similarity matrix.\n",
      "Estimating biases using als...\n",
      "Computing the cosine similarity matrix...\n",
      "Done computing similarity matrix.\n",
      "Estimating biases using als...\n",
      "Computing the cosine similarity matrix...\n",
      "Done computing similarity matrix.\n",
      "Estimating biases using als...\n",
      "Computing the cosine similarity matrix...\n",
      "Done computing similarity matrix.\n",
      "Estimating biases using als...\n",
      "Computing the cosine similarity matrix...\n",
      "Done computing similarity matrix.\n",
      "Estimating biases using als...\n",
      "Computing the cosine similarity matrix...\n",
      "Done computing similarity matrix.\n",
      "Estimating biases using als...\n",
      "Computing the cosine similarity matrix...\n",
      "Done computing similarity matrix.\n",
      "Estimating biases using als...\n",
      "Computing the pearson_baseline similarity matrix...\n",
      "Done computing similarity matrix.\n",
      "Estimating biases using als...\n",
      "Computing the pearson_baseline similarity matrix...\n",
      "Done computing similarity matrix.\n",
      "Estimating biases using als...\n",
      "Computing the pearson_baseline similarity matrix...\n",
      "Done computing similarity matrix.\n",
      "Estimating biases using als...\n",
      "Computing the pearson_baseline similarity matrix...\n",
      "Done computing similarity matrix.\n",
      "Estimating biases using als...\n",
      "Computing the pearson_baseline similarity matrix...\n",
      "Done computing similarity matrix.\n",
      "Estimating biases using als...\n",
      "Computing the pearson_baseline similarity matrix...\n",
      "Done computing similarity matrix.\n",
      "Estimating biases using als...\n",
      "Computing the pearson_baseline similarity matrix...\n",
      "Done computing similarity matrix.\n",
      "Estimating biases using als...\n",
      "Computing the pearson_baseline similarity matrix...\n",
      "Done computing similarity matrix.\n",
      "Estimating biases using als...\n",
      "Computing the pearson_baseline similarity matrix...\n",
      "Done computing similarity matrix.\n",
      "Estimating biases using als...\n",
      "Computing the pearson_baseline similarity matrix...\n",
      "Done computing similarity matrix.\n",
      "Estimating biases using als...\n",
      "Computing the cosine similarity matrix...\n",
      "Done computing similarity matrix.\n",
      "Estimating biases using als...\n",
      "Computing the cosine similarity matrix...\n",
      "Done computing similarity matrix.\n",
      "Estimating biases using als...\n",
      "Computing the cosine similarity matrix...\n",
      "Done computing similarity matrix.\n",
      "Estimating biases using als...\n",
      "Computing the cosine similarity matrix...\n",
      "Done computing similarity matrix.\n",
      "Estimating biases using als...\n",
      "Computing the cosine similarity matrix...\n",
      "Done computing similarity matrix.\n",
      "Estimating biases using als...\n",
      "Computing the cosine similarity matrix...\n",
      "Done computing similarity matrix.\n",
      "Estimating biases using als...\n",
      "Computing the cosine similarity matrix...\n",
      "Done computing similarity matrix.\n",
      "Estimating biases using als...\n",
      "Computing the cosine similarity matrix...\n",
      "Done computing similarity matrix.\n",
      "Estimating biases using als...\n",
      "Computing the cosine similarity matrix...\n",
      "Done computing similarity matrix.\n",
      "Estimating biases using als...\n",
      "Computing the cosine similarity matrix...\n",
      "Done computing similarity matrix.\n",
      "Estimating biases using als...\n",
      "Computing the pearson_baseline similarity matrix...\n",
      "Done computing similarity matrix.\n",
      "Estimating biases using als...\n",
      "Computing the pearson_baseline similarity matrix...\n",
      "Done computing similarity matrix.\n",
      "Estimating biases using als...\n",
      "Computing the pearson_baseline similarity matrix...\n",
      "Done computing similarity matrix.\n",
      "Estimating biases using als...\n",
      "Computing the pearson_baseline similarity matrix...\n",
      "Done computing similarity matrix.\n",
      "Estimating biases using als...\n",
      "Computing the pearson_baseline similarity matrix...\n",
      "Done computing similarity matrix.\n",
      "Estimating biases using als...\n",
      "Computing the pearson_baseline similarity matrix...\n",
      "Done computing similarity matrix.\n",
      "Estimating biases using als...\n",
      "Computing the pearson_baseline similarity matrix...\n",
      "Done computing similarity matrix.\n",
      "Estimating biases using als...\n",
      "Computing the pearson_baseline similarity matrix...\n",
      "Done computing similarity matrix.\n",
      "Estimating biases using als...\n",
      "Computing the pearson_baseline similarity matrix...\n",
      "Done computing similarity matrix.\n",
      "Estimating biases using als...\n",
      "Computing the pearson_baseline similarity matrix...\n",
      "Done computing similarity matrix.\n",
      "Estimating biases using als...\n",
      "Computing the cosine similarity matrix...\n",
      "Done computing similarity matrix.\n",
      "Estimating biases using als...\n",
      "Computing the cosine similarity matrix...\n",
      "Done computing similarity matrix.\n",
      "Estimating biases using als...\n",
      "Computing the cosine similarity matrix...\n",
      "Done computing similarity matrix.\n",
      "Estimating biases using als...\n",
      "Computing the cosine similarity matrix...\n",
      "Done computing similarity matrix.\n",
      "Estimating biases using als...\n",
      "Computing the cosine similarity matrix...\n",
      "Done computing similarity matrix.\n",
      "Estimating biases using als...\n",
      "Computing the cosine similarity matrix...\n",
      "Done computing similarity matrix.\n",
      "Estimating biases using als...\n",
      "Computing the cosine similarity matrix...\n",
      "Done computing similarity matrix.\n",
      "Estimating biases using als...\n",
      "Computing the cosine similarity matrix...\n",
      "Done computing similarity matrix.\n",
      "Estimating biases using als...\n",
      "Computing the cosine similarity matrix...\n",
      "Done computing similarity matrix.\n",
      "Estimating biases using als...\n",
      "Computing the cosine similarity matrix...\n",
      "Done computing similarity matrix.\n",
      "Estimating biases using als...\n",
      "Computing the pearson_baseline similarity matrix...\n",
      "Done computing similarity matrix.\n",
      "Estimating biases using als...\n",
      "Computing the pearson_baseline similarity matrix...\n",
      "Done computing similarity matrix.\n",
      "Estimating biases using als...\n",
      "Computing the pearson_baseline similarity matrix...\n",
      "Done computing similarity matrix.\n",
      "Estimating biases using als...\n",
      "Computing the pearson_baseline similarity matrix...\n",
      "Done computing similarity matrix.\n",
      "Estimating biases using als...\n",
      "Computing the pearson_baseline similarity matrix...\n",
      "Done computing similarity matrix.\n",
      "Estimating biases using als...\n",
      "Computing the pearson_baseline similarity matrix...\n",
      "Done computing similarity matrix.\n",
      "Estimating biases using als...\n",
      "Computing the pearson_baseline similarity matrix...\n",
      "Done computing similarity matrix.\n",
      "Estimating biases using als...\n",
      "Computing the pearson_baseline similarity matrix...\n",
      "Done computing similarity matrix.\n",
      "Estimating biases using als...\n",
      "Computing the pearson_baseline similarity matrix...\n",
      "Done computing similarity matrix.\n",
      "Estimating biases using als...\n",
      "Computing the pearson_baseline similarity matrix...\n",
      "Done computing similarity matrix.\n",
      "Estimating biases using als...\n",
      "Computing the cosine similarity matrix...\n",
      "Done computing similarity matrix.\n",
      "Estimating biases using als...\n",
      "Computing the cosine similarity matrix...\n",
      "Done computing similarity matrix.\n",
      "Estimating biases using als...\n",
      "Computing the cosine similarity matrix...\n",
      "Done computing similarity matrix.\n",
      "Estimating biases using als...\n",
      "Computing the cosine similarity matrix...\n",
      "Done computing similarity matrix.\n",
      "Estimating biases using als...\n",
      "Computing the cosine similarity matrix...\n",
      "Done computing similarity matrix.\n",
      "Estimating biases using als...\n",
      "Computing the cosine similarity matrix...\n",
      "Done computing similarity matrix.\n",
      "Estimating biases using als...\n",
      "Computing the cosine similarity matrix...\n",
      "Done computing similarity matrix.\n",
      "Estimating biases using als...\n",
      "Computing the cosine similarity matrix...\n",
      "Done computing similarity matrix.\n",
      "Estimating biases using als...\n",
      "Computing the cosine similarity matrix...\n",
      "Done computing similarity matrix.\n",
      "Estimating biases using als...\n",
      "Computing the cosine similarity matrix...\n",
      "Done computing similarity matrix.\n",
      "Estimating biases using als...\n",
      "Computing the pearson_baseline similarity matrix...\n",
      "Done computing similarity matrix.\n",
      "Estimating biases using als...\n",
      "Computing the pearson_baseline similarity matrix...\n",
      "Done computing similarity matrix.\n",
      "Estimating biases using als...\n",
      "Computing the pearson_baseline similarity matrix...\n",
      "Done computing similarity matrix.\n",
      "Estimating biases using als...\n",
      "Computing the pearson_baseline similarity matrix...\n",
      "Done computing similarity matrix.\n",
      "Estimating biases using als...\n",
      "Computing the pearson_baseline similarity matrix...\n",
      "Done computing similarity matrix.\n",
      "Estimating biases using als...\n",
      "Computing the pearson_baseline similarity matrix...\n",
      "Done computing similarity matrix.\n",
      "Estimating biases using als...\n",
      "Computing the pearson_baseline similarity matrix...\n",
      "Done computing similarity matrix.\n",
      "Estimating biases using als...\n",
      "Computing the pearson_baseline similarity matrix...\n",
      "Done computing similarity matrix.\n",
      "Estimating biases using als...\n",
      "Computing the pearson_baseline similarity matrix...\n",
      "Done computing similarity matrix.\n",
      "Estimating biases using als...\n",
      "Computing the pearson_baseline similarity matrix...\n",
      "Done computing similarity matrix.\n",
      "Estimating biases using als...\n",
      "Computing the cosine similarity matrix...\n",
      "Done computing similarity matrix.\n",
      "Estimating biases using als...\n",
      "Computing the cosine similarity matrix...\n",
      "Done computing similarity matrix.\n",
      "Estimating biases using als...\n",
      "Computing the cosine similarity matrix...\n",
      "Done computing similarity matrix.\n",
      "Estimating biases using als...\n",
      "Computing the cosine similarity matrix...\n",
      "Done computing similarity matrix.\n",
      "Estimating biases using als...\n",
      "Computing the cosine similarity matrix...\n",
      "Done computing similarity matrix.\n",
      "Estimating biases using als...\n",
      "Computing the cosine similarity matrix...\n",
      "Done computing similarity matrix.\n",
      "Estimating biases using als...\n",
      "Computing the cosine similarity matrix...\n",
      "Done computing similarity matrix.\n",
      "Estimating biases using als...\n",
      "Computing the cosine similarity matrix...\n",
      "Done computing similarity matrix.\n",
      "Estimating biases using als...\n",
      "Computing the cosine similarity matrix...\n",
      "Done computing similarity matrix.\n",
      "Estimating biases using als...\n",
      "Computing the cosine similarity matrix...\n",
      "Done computing similarity matrix.\n",
      "Estimating biases using als...\n",
      "Computing the pearson_baseline similarity matrix...\n",
      "Done computing similarity matrix.\n",
      "Estimating biases using als...\n",
      "Computing the pearson_baseline similarity matrix...\n",
      "Done computing similarity matrix.\n",
      "Estimating biases using als...\n",
      "Computing the pearson_baseline similarity matrix...\n",
      "Done computing similarity matrix.\n",
      "Estimating biases using als...\n",
      "Computing the pearson_baseline similarity matrix...\n",
      "Done computing similarity matrix.\n",
      "Estimating biases using als...\n",
      "Computing the pearson_baseline similarity matrix...\n",
      "Done computing similarity matrix.\n",
      "Estimating biases using als...\n",
      "Computing the pearson_baseline similarity matrix...\n",
      "Done computing similarity matrix.\n",
      "Estimating biases using als...\n",
      "Computing the pearson_baseline similarity matrix...\n",
      "Done computing similarity matrix.\n",
      "Estimating biases using als...\n",
      "Computing the pearson_baseline similarity matrix...\n",
      "Done computing similarity matrix.\n",
      "Estimating biases using als...\n",
      "Computing the pearson_baseline similarity matrix...\n",
      "Done computing similarity matrix.\n",
      "Estimating biases using als...\n",
      "Computing the pearson_baseline similarity matrix...\n",
      "Done computing similarity matrix.\n",
      "Estimating biases using als...\n",
      "Computing the cosine similarity matrix...\n",
      "Done computing similarity matrix.\n",
      "Estimating biases using als...\n",
      "Computing the cosine similarity matrix...\n",
      "Done computing similarity matrix.\n",
      "Estimating biases using als...\n",
      "Computing the cosine similarity matrix...\n",
      "Done computing similarity matrix.\n",
      "Estimating biases using als...\n",
      "Computing the cosine similarity matrix...\n",
      "Done computing similarity matrix.\n",
      "Estimating biases using als...\n",
      "Computing the cosine similarity matrix...\n",
      "Done computing similarity matrix.\n",
      "Estimating biases using als...\n",
      "Computing the cosine similarity matrix...\n",
      "Done computing similarity matrix.\n",
      "Estimating biases using als...\n",
      "Computing the cosine similarity matrix...\n",
      "Done computing similarity matrix.\n",
      "Estimating biases using als...\n",
      "Computing the cosine similarity matrix...\n",
      "Done computing similarity matrix.\n",
      "Estimating biases using als...\n",
      "Computing the cosine similarity matrix...\n",
      "Done computing similarity matrix.\n",
      "Estimating biases using als...\n",
      "Computing the cosine similarity matrix...\n",
      "Done computing similarity matrix.\n",
      "Estimating biases using als...\n",
      "Computing the pearson_baseline similarity matrix...\n",
      "Done computing similarity matrix.\n",
      "Estimating biases using als...\n",
      "Computing the pearson_baseline similarity matrix...\n",
      "Done computing similarity matrix.\n",
      "Estimating biases using als...\n",
      "Computing the pearson_baseline similarity matrix...\n",
      "Done computing similarity matrix.\n",
      "Estimating biases using als...\n",
      "Computing the pearson_baseline similarity matrix...\n",
      "Done computing similarity matrix.\n",
      "Estimating biases using als...\n",
      "Computing the pearson_baseline similarity matrix...\n",
      "Done computing similarity matrix.\n",
      "Estimating biases using als...\n",
      "Computing the pearson_baseline similarity matrix...\n",
      "Done computing similarity matrix.\n",
      "Estimating biases using als...\n",
      "Computing the pearson_baseline similarity matrix...\n",
      "Done computing similarity matrix.\n",
      "Estimating biases using als...\n",
      "Computing the pearson_baseline similarity matrix...\n",
      "Done computing similarity matrix.\n",
      "Estimating biases using als...\n",
      "Computing the pearson_baseline similarity matrix...\n",
      "Done computing similarity matrix.\n",
      "Estimating biases using als...\n",
      "Computing the pearson_baseline similarity matrix...\n",
      "Done computing similarity matrix.\n",
      "Estimating biases using als...\n",
      "Computing the cosine similarity matrix...\n",
      "Done computing similarity matrix.\n",
      "Estimating biases using als...\n",
      "Computing the cosine similarity matrix...\n",
      "Done computing similarity matrix.\n",
      "Estimating biases using als...\n",
      "Computing the cosine similarity matrix...\n",
      "Done computing similarity matrix.\n",
      "Estimating biases using als...\n",
      "Computing the cosine similarity matrix...\n",
      "Done computing similarity matrix.\n",
      "Estimating biases using als...\n",
      "Computing the cosine similarity matrix...\n",
      "Done computing similarity matrix.\n",
      "Estimating biases using als...\n",
      "Computing the cosine similarity matrix...\n",
      "Done computing similarity matrix.\n",
      "Estimating biases using als...\n",
      "Computing the cosine similarity matrix...\n",
      "Done computing similarity matrix.\n",
      "Estimating biases using als...\n",
      "Computing the cosine similarity matrix...\n",
      "Done computing similarity matrix.\n",
      "Estimating biases using als...\n",
      "Computing the cosine similarity matrix...\n",
      "Done computing similarity matrix.\n",
      "Estimating biases using als...\n",
      "Computing the cosine similarity matrix...\n",
      "Done computing similarity matrix.\n",
      "Estimating biases using als...\n",
      "Computing the pearson_baseline similarity matrix...\n",
      "Done computing similarity matrix.\n",
      "Estimating biases using als...\n",
      "Computing the pearson_baseline similarity matrix...\n",
      "Done computing similarity matrix.\n",
      "Estimating biases using als...\n",
      "Computing the pearson_baseline similarity matrix...\n",
      "Done computing similarity matrix.\n",
      "Estimating biases using als...\n",
      "Computing the pearson_baseline similarity matrix...\n",
      "Done computing similarity matrix.\n",
      "Estimating biases using als...\n",
      "Computing the pearson_baseline similarity matrix...\n",
      "Done computing similarity matrix.\n",
      "Estimating biases using als...\n",
      "Computing the pearson_baseline similarity matrix...\n",
      "Done computing similarity matrix.\n",
      "Estimating biases using als...\n",
      "Computing the pearson_baseline similarity matrix...\n",
      "Done computing similarity matrix.\n",
      "Estimating biases using als...\n",
      "Computing the pearson_baseline similarity matrix...\n",
      "Done computing similarity matrix.\n",
      "Estimating biases using als...\n",
      "Computing the pearson_baseline similarity matrix...\n",
      "Done computing similarity matrix.\n",
      "Estimating biases using als...\n",
      "Computing the pearson_baseline similarity matrix...\n",
      "Done computing similarity matrix.\n",
      "Estimating biases using als...\n",
      "Computing the cosine similarity matrix...\n",
      "Done computing similarity matrix.\n",
      "Estimating biases using als...\n",
      "Computing the cosine similarity matrix...\n",
      "Done computing similarity matrix.\n",
      "Estimating biases using als...\n",
      "Computing the cosine similarity matrix...\n",
      "Done computing similarity matrix.\n",
      "Estimating biases using als...\n",
      "Computing the cosine similarity matrix...\n",
      "Done computing similarity matrix.\n",
      "Estimating biases using als...\n",
      "Computing the cosine similarity matrix...\n",
      "Done computing similarity matrix.\n",
      "Estimating biases using als...\n",
      "Computing the cosine similarity matrix...\n",
      "Done computing similarity matrix.\n",
      "Estimating biases using als...\n",
      "Computing the cosine similarity matrix...\n",
      "Done computing similarity matrix.\n",
      "Estimating biases using als...\n",
      "Computing the cosine similarity matrix...\n",
      "Done computing similarity matrix.\n",
      "Estimating biases using als...\n",
      "Computing the cosine similarity matrix...\n",
      "Done computing similarity matrix.\n",
      "Estimating biases using als...\n",
      "Computing the cosine similarity matrix...\n",
      "Done computing similarity matrix.\n",
      "Estimating biases using als...\n",
      "Computing the pearson_baseline similarity matrix...\n",
      "Done computing similarity matrix.\n",
      "Estimating biases using als...\n",
      "Computing the pearson_baseline similarity matrix...\n",
      "Done computing similarity matrix.\n",
      "Estimating biases using als...\n",
      "Computing the pearson_baseline similarity matrix...\n",
      "Done computing similarity matrix.\n",
      "Estimating biases using als...\n",
      "Computing the pearson_baseline similarity matrix...\n",
      "Done computing similarity matrix.\n",
      "Estimating biases using als...\n",
      "Computing the pearson_baseline similarity matrix...\n",
      "Done computing similarity matrix.\n",
      "Estimating biases using als...\n",
      "Computing the pearson_baseline similarity matrix...\n",
      "Done computing similarity matrix.\n",
      "Estimating biases using als...\n",
      "Computing the pearson_baseline similarity matrix...\n",
      "Done computing similarity matrix.\n",
      "Estimating biases using als...\n",
      "Computing the pearson_baseline similarity matrix...\n",
      "Done computing similarity matrix.\n",
      "Estimating biases using als...\n",
      "Computing the pearson_baseline similarity matrix...\n",
      "Done computing similarity matrix.\n",
      "Estimating biases using als...\n",
      "Computing the pearson_baseline similarity matrix...\n",
      "Done computing similarity matrix.\n",
      "Best RMSE (KNN): 0.8502\n",
      "Best Hyperparameters (KNN): {'k': 60, 'min_k': 5, 'sim_options': {'name': 'pearson_baseline', 'user_based': False}}\n",
      "Estimating biases using als...\n",
      "Computing the pearson_baseline similarity matrix...\n",
      "Done computing similarity matrix.\n",
      "RMSE: 0.8598\n",
      "Test RMSE (KNN): 0.8598\n",
      "Test RMSE (SVD): 0.8597\n"
     ]
    }
   ],
   "source": [
    "from surprise import KNNBaseline\n",
    "\n",
    "# Define the parameter grid for KNNBaseline\n",
    "param_grid_knn = {\n",
    "    'k': [20, 40, 60],           # Number of neighbors\n",
    "    'min_k': [1, 3, 5],          # Minimum number of neighbors\n",
    "    'sim_options': {\n",
    "        'name': ['cosine', 'pearson_baseline'],  # Similarity metrics\n",
    "        'user_based': [True, False]              # User-based or Item-based\n",
    "    }\n",
    "}\n",
    "\n",
    "# Perform grid search to find the best parameters for KNNBaseline\n",
    "grid_search_knn = GridSearchCV(KNNBaseline, param_grid_knn, measures=['rmse'], cv=5)\n",
    "grid_search_knn.fit(ratings_data)\n",
    "\n",
    "# Extract the best RMSE and corresponding hyperparameters for KNN\n",
    "best_rmse_knn = grid_search_knn.best_score['rmse']\n",
    "best_params_knn = grid_search_knn.best_params['rmse']\n",
    "\n",
    "print(f\"Best RMSE (KNN): {best_rmse_knn:.4f}\")\n",
    "print(f\"Best Hyperparameters (KNN): {best_params_knn}\")\n",
    "\n",
    "# Now, let's compare the performance of the best KNN model with the SVD model\n",
    "\n",
    "# Train the best KNN model\n",
    "best_knn_model = KNNBaseline(k=best_params_knn['k'], \n",
    "                             min_k=best_params_knn['min_k'],\n",
    "                             sim_options=best_params_knn['sim_options'])\n",
    "\n",
    "# Train the model on the training set\n",
    "best_knn_model.fit(training_set)\n",
    "\n",
    "# Test the KNN model on the test set\n",
    "knn_test_predictions = best_knn_model.test(test_testset)\n",
    "\n",
    "# Calculate RMSE for the KNN model on the test set\n",
    "knn_test_rmse = accuracy.rmse(knn_test_predictions)\n",
    "print(f\"Test RMSE (KNN): {knn_test_rmse:.4f}\")\n",
    "\n",
    "# Finally, compare with the SVD model's performance\n",
    "print(f\"Test RMSE (SVD): {test_rmse:.4f}\")\n"
   ]
  },
  {
   "cell_type": "markdown",
   "metadata": {},
   "source": [
    "Interpretation:\n",
    "\n",
    "The KNNBaseline model's RMSE is 0.8598, which is almost identical to the SVD model's RMSE of 0.8597.\n",
    "\n",
    "The performance difference is negligible, indicating that both models perform similarly on this dataset."
   ]
  },
  {
   "cell_type": "code",
   "execution_count": null,
   "metadata": {},
   "outputs": [
    {
     "name": "stdout",
     "output_type": "stream",
     "text": [
      "Predicted rating for user 1 on movie 1: 4.56\n"
     ]
    }
   ],
   "source": [
    "# Predict ratings for all user-item pairs\n",
    "def knn_predict(user_id, movie_id):\n",
    "    return best_knn_model.predict(user_id, movie_id).est\n",
    "\n",
    "# Example prediction\n",
    "user_id = 1\n",
    "movie_id = 1\n",
    "predicted_rating = svd_predict(user_id, movie_id)\n",
    "print(f\"Predicted rating for user {user_id} on movie {movie_id}: {predicted_rating:.2f}\")"
   ]
  },
  {
   "cell_type": "markdown",
   "metadata": {},
   "source": [
    "## SVD++ Model\n",
    "\n",
    "SVD++ is an extension of the standard SVD algorithm that incorporates implicit feedback by considering not only the ratings provided by users but also the items they have interacted with, regardless of whether they have rated them. This can lead to better accuracy in predictions."
   ]
  },
  {
   "cell_type": "code",
   "execution_count": null,
   "metadata": {},
   "outputs": [
    {
     "name": "stdout",
     "output_type": "stream",
     "text": [
      "Best RMSE (SVD++): 0.8674\n",
      "Best Hyperparameters (SVD++): {'n_factors': 100, 'n_epochs': 30, 'lr_all': 0.005, 'reg_all': 0.1}\n",
      "RMSE: 0.8685\n",
      "Validation RMSE (SVD++): 0.8685\n",
      "RMSE: 0.8692\n",
      "Final Test RMSE (SVD++): 0.8692\n"
     ]
    }
   ],
   "source": [
    "from surprise import SVDpp\n",
    "from surprise.model_selection import GridSearchCV\n",
    "from surprise import accuracy\n",
    "\n",
    "# Prepare the data in the 'surprise' format\n",
    "reader = Reader(rating_scale=(0.5, 5.0))\n",
    "ratings_data = Dataset.load_from_df(ratings_df[['userId', 'movieId', 'rating']], reader)\n",
    "\n",
    "# Define the parameter grid for SVD++\n",
    "param_grid_svdpp = {\n",
    "    'n_factors': [20, 50, 100],      # Number of latent factors\n",
    "    'n_epochs': [10, 20, 30],        # Number of epochs\n",
    "    'lr_all': [0.002, 0.005],        # Learning rate\n",
    "    'reg_all': [0.02, 0.1]           # Regularization term\n",
    "}\n",
    "\n",
    "# Perform grid search to find the best parameters for SVD++\n",
    "grid_search_svdpp = GridSearchCV(SVDpp, param_grid_svdpp, measures=['rmse'], cv=3, n_jobs=-1)\n",
    "grid_search_svdpp.fit(ratings_data)\n",
    "\n",
    "# Extract the best RMSE and corresponding hyperparameters for SVD++\n",
    "best_rmse_svdpp = grid_search_svdpp.best_score['rmse']\n",
    "best_params_svdpp = grid_search_svdpp.best_params['rmse']\n",
    "\n",
    "print(f\"Best RMSE (SVD++): {best_rmse_svdpp:.4f}\")\n",
    "print(f\"Best Hyperparameters (SVD++): {best_params_svdpp}\")\n",
    "\n",
    "# Use the best parameters to train the final SVD++ model\n",
    "best_svdpp_model = SVDpp(n_factors=best_params_svdpp['n_factors'], \n",
    "                         n_epochs=best_params_svdpp['n_epochs'], \n",
    "                         lr_all=best_params_svdpp['lr_all'], \n",
    "                         reg_all=best_params_svdpp['reg_all'])\n",
    "\n",
    "# Build the trainset for SVD++ model\n",
    "training_set = train_data_surprise.build_full_trainset()\n",
    "\n",
    "# Train the model on the training set\n",
    "best_svdpp_model.fit(training_set)\n",
    "\n",
    "# Build validation and test testsets\n",
    "validation_testset = validation_data[['userId', 'movieId', 'rating']].values.tolist()\n",
    "test_testset = test_data[['userId', 'movieId', 'rating']].values.tolist()\n",
    "\n",
    "# Test the model on the validation set\n",
    "validation_predictions = best_svdpp_model.test(validation_testset)\n",
    "\n",
    "# Calculate RMSE on the validation set\n",
    "validation_rmse_svdpp = accuracy.rmse(validation_predictions)\n",
    "print(f\"Validation RMSE (SVD++): {validation_rmse_svdpp:.4f}\")\n",
    "\n",
    "# Test the model on the test set\n",
    "test_predictions = best_svdpp_model.test(test_testset)\n",
    "\n",
    "# Calculate RMSE on the test set\n",
    "test_rmse_svdpp = accuracy.rmse(test_predictions)\n",
    "print(f\"Final Test RMSE (SVD++): {test_rmse_svdpp:.4f}\")\n"
   ]
  },
  {
   "cell_type": "code",
   "execution_count": null,
   "metadata": {},
   "outputs": [
    {
     "name": "stdout",
     "output_type": "stream",
     "text": [
      "Predicted rating for user 1 on movie 1: 4.56\n"
     ]
    }
   ],
   "source": [
    "# Predict ratings for all user-item pairs\n",
    "def svd_pp_predict(user_id, movie_id):\n",
    "    return best_svdpp_model.predict(user_id, movie_id).est\n",
    "\n",
    "# Example prediction\n",
    "user_id = 1\n",
    "movie_id = 1\n",
    "predicted_rating = svd_predict(user_id, movie_id)\n",
    "print(f\"Predicted rating for user {user_id} on movie {movie_id}: {predicted_rating:.2f}\")"
   ]
  },
  {
   "cell_type": "markdown",
   "metadata": {},
   "source": [
    "## Creating a Hybrid Recommendation System\n",
    "\n",
    "- The SVD model performed the best among the three, achieving the lowest RMSE on both validation and test sets.\n",
    "- The KNNBaseline model performed slightly better than SVD on the test set, but the difference is minimal.\n",
    "- The SVD++ model did not outperform the SVD model, possibly due to overfitting or the complexity of the model given the data.\n",
    "\n",
    "Since the SVD and KNN models have similar performances, combining them might capture different latent factors and similarities, potentially improving recommendations.\n",
    "SVD++ considers implicit feedback (e.g., which items users have interacted with) but may not have added significant value in this case.\n",
    "\n",
    "- Complementary Strengths: SVD captures latent factors through matrix factorization, while KNN captures neighborhood-based similarities.\n",
    "- Mitigating Weaknesses: By blending models, we can mitigate individual weaknesses, such as overemphasis on popular items or sparsity issues.\n",
    "\n",
    "\n",
    "We'll proceed with the following steps:\n",
    "\n",
    "1. Generate Predictions from Each Model:\n",
    "Obtain predicted ratings for the test set from SVD and KNN models.\n",
    "2. Combine Predictions:\n",
    "Merge the predictions based on userId and movieId.\n",
    "Compute a weighted average of the predictions.\n",
    "3. Evaluate the Hybrid Model:\n",
    "Calculate RMSE for the hybrid predictions on the test set.\n",
    "Compare the performance with individual models."
   ]
  },
  {
   "cell_type": "code",
   "execution_count": null,
   "metadata": {},
   "outputs": [
    {
     "name": "stdout",
     "output_type": "stream",
     "text": [
      "RMSE: 0.4156\n",
      "Hybrid Model RMSE: 0.4156\n"
     ]
    }
   ],
   "source": [
    "# Test the SVD model on the test set\n",
    "svd_test_predictions = best_svd_model.test(test_testset)\n",
    "\n",
    "# Test the KNN model on the test set\n",
    "knn_test_predictions = best_knn_model.test(test_testset)\n",
    "\n",
    "def predictions_to_df(predictions, model_name):\n",
    "    pred_df = pd.DataFrame(predictions, columns=['uid', 'iid', 'true_r', 'est', 'details'])\n",
    "    pred_df['model'] = model_name\n",
    "    return pred_df\n",
    "\n",
    "# Convert predictions to DataFrames\n",
    "svd_pred_df = predictions_to_df(svd_test_predictions, 'SVD')\n",
    "knn_pred_df = predictions_to_df(knn_test_predictions, 'KNN')\n",
    "\n",
    "# Merge SVD and KNN predictions\n",
    "merged_pred_df = pd.merge(svd_pred_df, knn_pred_df, on=['uid', 'iid', 'true_r'], suffixes=('_svd', '_knn'))\n",
    "\n",
    "# Assign weights\n",
    "weight_svd = 0.5\n",
    "weight_knn = 0.5\n",
    "\n",
    "# Compute the hybrid prediction\n",
    "merged_pred_df['est_hybrid'] = (weight_svd * merged_pred_df['est_svd']) + (weight_knn * merged_pred_df['est_knn'])\n",
    "\n",
    "# Create a list of Prediction objects for the hybrid model\n",
    "from surprise import Prediction\n",
    "\n",
    "hybrid_predictions = [\n",
    "    Prediction(uid=row['uid'], iid=row['iid'], r_ui=row['true_r'], est=row['est_hybrid'], details={})\n",
    "    for _, row in merged_pred_df.iterrows()\n",
    "]\n",
    "\n",
    "# Calculate RMSE for the hybrid model\n",
    "hybrid_rmse = accuracy.rmse(hybrid_predictions)\n",
    "print(f\"Hybrid Model RMSE: {hybrid_rmse:.4f}\")"
   ]
  },
  {
   "cell_type": "markdown",
   "metadata": {},
   "source": [
    "Next we can adjust weights to find the optimal combination that results in the lowest RMSE"
   ]
  },
  {
   "cell_type": "code",
   "execution_count": null,
   "metadata": {},
   "outputs": [
    {
     "name": "stdout",
     "output_type": "stream",
     "text": [
      "Weights - SVD: 0.0, KNN: 1.0 => Hybrid RMSE: 0.3380\n",
      "Weights - SVD: 0.1, KNN: 0.9 => Hybrid RMSE: 0.3481\n",
      "Weights - SVD: 0.2, KNN: 0.8 => Hybrid RMSE: 0.3611\n",
      "Weights - SVD: 0.3, KNN: 0.7 => Hybrid RMSE: 0.3770\n",
      "Weights - SVD: 0.4, KNN: 0.6 => Hybrid RMSE: 0.3953\n",
      "Weights - SVD: 0.5, KNN: 0.5 => Hybrid RMSE: 0.4156\n",
      "Weights - SVD: 0.6, KNN: 0.4 => Hybrid RMSE: 0.4378\n",
      "Weights - SVD: 0.7, KNN: 0.30000000000000004 => Hybrid RMSE: 0.4615\n",
      "Weights - SVD: 0.8, KNN: 0.19999999999999996 => Hybrid RMSE: 0.4866\n",
      "Weights - SVD: 0.9, KNN: 0.09999999999999998 => Hybrid RMSE: 0.5128\n",
      "Weights - SVD: 1.0, KNN: 0.0 => Hybrid RMSE: 0.5399\n"
     ]
    }
   ],
   "source": [
    "# Function to compute RMSE for given weights\n",
    "def compute_hybrid_rmse(weight_svd, weight_knn):\n",
    "    merged_pred_df['est_hybrid'] = (weight_svd * merged_pred_df['est_svd']) + (weight_knn * merged_pred_df['est_knn'])\n",
    "    hybrid_predictions = [\n",
    "        Prediction(uid=row['uid'], iid=row['iid'], r_ui=row['true_r'], est=row['est_hybrid'], details={})\n",
    "        for _, row in merged_pred_df.iterrows()\n",
    "    ]\n",
    "    hybrid_rmse = accuracy.rmse(hybrid_predictions, verbose=False)\n",
    "    return hybrid_rmse\n",
    "\n",
    "# Test different weight combinations\n",
    "weights = [(w / 10.0, 1 - w / 10.0) for w in range(11)]\n",
    "for w_svd, w_knn in weights:\n",
    "    rmse = compute_hybrid_rmse(w_svd, w_knn)\n",
    "    print(f\"Weights - SVD: {w_svd}, KNN: {w_knn} => Hybrid RMSE: {rmse:.4f}\")\n"
   ]
  },
  {
   "cell_type": "markdown",
   "metadata": {},
   "source": [
    "To evaluate how well the hybrid model performs in ranking items, you can compute Precision@K and Recall@K."
   ]
  },
  {
   "cell_type": "code",
   "execution_count": null,
   "metadata": {},
   "outputs": [
    {
     "name": "stdout",
     "output_type": "stream",
     "text": [
      "Hybrid Model Precision@10: 0.9583\n",
      "Hybrid Model Recall@10: 0.6863\n"
     ]
    }
   ],
   "source": [
    "def precision_recall_at_k(predictions, k=10, threshold=3.5):\n",
    "    from collections import defaultdict\n",
    "    \n",
    "    # Map the predictions to each user\n",
    "    user_est_true = defaultdict(list)\n",
    "    for uid, _, true_r, est, _ in predictions:\n",
    "        user_est_true[uid].append((est, true_r))\n",
    "    \n",
    "    precisions = dict()\n",
    "    recalls = dict()\n",
    "    for uid, user_ratings in user_est_true.items():\n",
    "        # Sort user ratings by estimated value\n",
    "        user_ratings.sort(key=lambda x: x[0], reverse=True)\n",
    "        \n",
    "        # Number of relevant items\n",
    "        n_rel = sum((true_r >= threshold) for (_, true_r) in user_ratings)\n",
    "        \n",
    "        # Number of recommended items in top k\n",
    "        n_rec_k = sum((est >= threshold) for (est, _) in user_ratings[:k])\n",
    "        \n",
    "        # Number of relevant and recommended items in top k\n",
    "        n_rel_and_rec_k = sum(((true_r >= threshold) and (est >= threshold))\n",
    "                              for (est, true_r) in user_ratings[:k])\n",
    "        \n",
    "        # Precision@K\n",
    "        precisions[uid] = n_rel_and_rec_k / n_rec_k if n_rec_k != 0 else 0\n",
    "        \n",
    "        # Recall@K\n",
    "        recalls[uid] = n_rel_and_rec_k / n_rel if n_rel != 0 else 0\n",
    "    \n",
    "    # Average precision and recall\n",
    "    avg_precision = sum(prec for prec in precisions.values()) / len(precisions)\n",
    "    avg_recall = sum(rec for rec in recalls.values()) / len(recalls)\n",
    "    return avg_precision, avg_recall\n",
    "\n",
    "# Compute Precision@K and Recall@K for the hybrid model\n",
    "precision, recall = precision_recall_at_k(hybrid_predictions, k=10, threshold=3.5)\n",
    "print(f\"Hybrid Model Precision@10: {precision:.4f}\")\n",
    "print(f\"Hybrid Model Recall@10: {recall:.4f}\")\n"
   ]
  },
  {
   "cell_type": "markdown",
   "metadata": {},
   "source": [
    "# Adressing the Cold Start Problem\n",
    "Addressing the Cold Start Problem is crucial for building an effective recommendation system, especially for new users or items with little to no interaction data. \n",
    "\n",
    "## Content-Based Filtering\n",
    "This is an excellent approach to tackle this issue by utilizing the inherent features of the items and users.\n",
    "\n",
    "We have movie genres and movie tags to work with. \n",
    "\n",
    "First, let's combine genres and tags to create a comprehensive feature set for each movie."
   ]
  },
  {
   "cell_type": "code",
   "execution_count": null,
   "metadata": {},
   "outputs": [],
   "source": [
    "# Merge tags with movies on 'movieId'\n",
    "movies_with_tags = pd.merge(movies_df, tags_df[['movieId', 'tag']], on='movieId', how='left')\n",
    "\n",
    "# Replace NaN tags with empty strings\n",
    "movies_with_tags['tag'] = movies_with_tags['tag'].fillna('')\n"
   ]
  },
  {
   "cell_type": "markdown",
   "metadata": {},
   "source": [
    "Since genres are lists, we'll convert them into strings before combining them with tags.\n",
    "\n"
   ]
  },
  {
   "cell_type": "code",
   "execution_count": null,
   "metadata": {},
   "outputs": [],
   "source": [
    "# Convert genres list to string\n",
    "movies_with_tags['genres_str'] = movies_with_tags['genres'].apply(lambda x: ' '.join(x))\n",
    "\n",
    "# Combine genres and tags into a single string\n",
    "movies_with_tags['genres_tags'] = movies_with_tags['genres_str'] + ' ' + movies_with_tags['tag']\n"
   ]
  },
  {
   "cell_type": "markdown",
   "metadata": {},
   "source": [
    "We'll preprocess the text data by converting it to lowercase and removing special characters.\n",
    "\n"
   ]
  },
  {
   "cell_type": "code",
   "execution_count": null,
   "metadata": {},
   "outputs": [],
   "source": [
    "import re\n",
    "\n",
    "def preprocess(text):\n",
    "    # Convert to lowercase\n",
    "    text = text.lower()\n",
    "    # Remove special characters and digits\n",
    "    text = re.sub(r'[^a-zA-Z\\s]', '', text)\n",
    "    return text\n",
    "\n",
    "movies_with_tags['genres_tags'] = movies_with_tags['genres_tags'].apply(preprocess)\n"
   ]
  },
  {
   "cell_type": "markdown",
   "metadata": {},
   "source": [
    "We'll use TF-IDF Vectorization to convert the combined genres and tags text into numerical feature vectors."
   ]
  },
  {
   "cell_type": "code",
   "execution_count": null,
   "metadata": {},
   "outputs": [
    {
     "name": "stdout",
     "output_type": "stream",
     "text": [
      "TF-IDF matrix shape: (11853, 1677)\n"
     ]
    }
   ],
   "source": [
    "from sklearn.feature_extraction.text import TfidfVectorizer\n",
    "\n",
    "# Initialize the TF-IDF Vectorizer\n",
    "tfidf = TfidfVectorizer(stop_words='english')\n",
    "\n",
    "# Fit and transform the genres_tags column\n",
    "tfidf_matrix = tfidf.fit_transform(movies_with_tags['genres_tags'])\n",
    "\n",
    "# Check the shape of the TF-IDF matrix\n",
    "print(f'TF-IDF matrix shape: {tfidf_matrix.shape}')\n"
   ]
  },
  {
   "cell_type": "markdown",
   "metadata": {},
   "source": [
    "Collect User Preferences\n",
    "For new users, we'll simulate collecting their preferences. For example, let's assume a user likes \"Action\" and \"Sci-Fi\" movies and is interested in tags like \"space\" and \"future\"."
   ]
  },
  {
   "cell_type": "code",
   "execution_count": null,
   "metadata": {},
   "outputs": [
    {
     "name": "stdout",
     "output_type": "stream",
     "text": [
      "User profile text: action scifi space future\n"
     ]
    }
   ],
   "source": [
    "# Example user preferences\n",
    "user_genres = ['Action', 'Sci-Fi']\n",
    "user_tags = ['space', 'future']\n",
    "\n",
    "# Combine preferences into a single string\n",
    "user_profile_text = ' '.join(user_genres + user_tags)\n",
    "user_profile_text = preprocess(user_profile_text)\n",
    "print(f'User profile text: {user_profile_text}')\n"
   ]
  },
  {
   "cell_type": "markdown",
   "metadata": {},
   "source": [
    "Transform the user profile text into a TF-IDF vector using the same vectorizer we used for the movies."
   ]
  },
  {
   "cell_type": "code",
   "execution_count": null,
   "metadata": {},
   "outputs": [],
   "source": [
    "# Transform the user profile text using the TF-IDF vectorizer\n",
    "user_profile_vector = tfidf.transform([user_profile_text])\n"
   ]
  },
  {
   "cell_type": "markdown",
   "metadata": {},
   "source": [
    "Compute the cosine similarity between the user profile vector and each movie's feature vector."
   ]
  },
  {
   "cell_type": "code",
   "execution_count": null,
   "metadata": {},
   "outputs": [],
   "source": [
    "from sklearn.metrics.pairwise import cosine_similarity\n",
    "\n",
    "# Calculate cosine similarity\n",
    "cosine_similarities = cosine_similarity(user_profile_vector, tfidf_matrix).flatten()\n"
   ]
  },
  {
   "cell_type": "code",
   "execution_count": null,
   "metadata": {},
   "outputs": [
    {
     "name": "stdout",
     "output_type": "stream",
     "text": [
      "Top 10 Movie Recommendations:\n",
      "                                           title  \\\n",
      "306    Star Wars: Episode IV - A New Hope (1977)   \n",
      "295    Star Wars: Episode IV - A New Hope (1977)   \n",
      "8619                            Star Trek (2009)   \n",
      "11653       Black Mirror: White Christmas (2014)   \n",
      "1860                              Gattaca (1997)   \n",
      "1145                2001: A Space Odyssey (1968)   \n",
      "839                          Blade Runner (1982)   \n",
      "4966                      Minority Report (2002)   \n",
      "10608                             Taken 3 (2015)   \n",
      "9874                     Django Unchained (2012)   \n",
      "\n",
      "                                     genres  similarity_score  \n",
      "306                 Action|Adventure|Sci-Fi          0.680008  \n",
      "295                 Action|Adventure|Sci-Fi          0.680008  \n",
      "8619           Action|Adventure|Sci-Fi|IMAX          0.567017  \n",
      "11653  Drama|Horror|Mystery|Sci-Fi|Thriller          0.567017  \n",
      "1860                  Drama|Sci-Fi|Thriller          0.567017  \n",
      "1145                 Adventure|Drama|Sci-Fi          0.567017  \n",
      "839                  Action|Sci-Fi|Thriller          0.567017  \n",
      "4966   Action|Crime|Mystery|Sci-Fi|Thriller          0.567017  \n",
      "10608                 Action|Crime|Thriller          0.490034  \n",
      "9874                   Action|Drama|Western          0.490034  \n"
     ]
    }
   ],
   "source": [
    "# Add similarity scores to the movies DataFrame\n",
    "movies_with_tags['similarity_score'] = cosine_similarities\n",
    "\n",
    "# Sort movies based on similarity scores in descending order\n",
    "recommendations = movies_with_tags.sort_values(by='similarity_score', ascending=False)\n",
    "\n",
    "# Get the top 10 recommendations\n",
    "top_10_recommendations = recommendations[['title', 'genres', 'similarity_score']].head(10)\n",
    "\n",
    "print(\"Top 10 Movie Recommendations:\")\n",
    "print(top_10_recommendations)\n"
   ]
  },
  {
   "cell_type": "markdown",
   "metadata": {},
   "source": [
    "- Genres and Tags: We've utilized both genres and tags to create a rich feature representation of each movie. Since genres are categorical and tags are user-generated, combining them provides a comprehensive view of the movie's content.\n",
    "\n",
    "- User Profile: The user's preferences are encoded into the same feature space as the movies, allowing for direct comparison.\n",
    "\n",
    "- Cosine Similarity: By computing the cosine similarity, we measure how closely a movie's content aligns with the user's preferences."
   ]
  },
  {
   "cell_type": "markdown",
   "metadata": {},
   "source": [
    "# Adding Content Based Filtering to our hybrid Collaborative filtering algorithm\n",
    "\n",
    "Combining both collaborative filtering and content-based filtering into a hybrid recommendation system can leverage the strengths of both approaches to provide more accurate and personalized recommendations. \n",
    "\n",
    "We can do this by blending predictions, combining the scores from both collaborative and content-based methods, and using weighted averages to adjust the influence of each method.\n",
    "\n",
    "Weights can be adjusted based on the amount of available data (e.g., number of ratings) to ensure that the more reliable method (collaborative filtering in this case) has a greater impact on the final recommendation."
   ]
  },
  {
   "cell_type": "markdown",
   "metadata": {},
   "source": [
    "First, we predict the ratings of the items that the user has not rated before using collaborative filtering."
   ]
  },
  {
   "cell_type": "code",
   "execution_count": null,
   "metadata": {},
   "outputs": [],
   "source": [
    "# Get a list of all movie IDs\n",
    "all_movie_ids = movies_df['movieId'].unique()\n",
    "\n",
    "# Assume we have a target user\n",
    "target_user_id = 1  # Replace with the actual user ID\n",
    "\n",
    "# Get movies the user has already rated\n",
    "rated_movies = ratings_df[ratings_df['userId'] == target_user_id]['movieId'].tolist()\n",
    "\n",
    "# Get movies the user hasn't rated yet\n",
    "unrated_movies = [movie_id for movie_id in all_movie_ids if movie_id not in rated_movies]\n",
    "\n",
    "# Assign weights for SVD and KNN\n",
    "weight_svd = 0.5\n",
    "weight_knn = 0.5\n",
    "\n",
    "# Predict ratings for unrated movies using the hybrid CF model\n",
    "cf_predictions = []\n",
    "for movie_id in unrated_movies:\n",
    "    # Get SVD prediction\n",
    "    svd_pred = best_svd_model.predict(target_user_id, movie_id).est\n",
    "    # Get KNN prediction\n",
    "    knn_pred = best_knn_model.predict(target_user_id, movie_id).est\n",
    "    # Combine predictions using the assigned weights\n",
    "    cf_hybrid_pred = (weight_svd * svd_pred) + (weight_knn * knn_pred)\n",
    "    cf_predictions.append((movie_id, cf_hybrid_pred))\n"
   ]
  },
  {
   "cell_type": "markdown",
   "metadata": {},
   "source": [
    "Then we compute similarity scores between the user profile and all movies."
   ]
  },
  {
   "cell_type": "code",
   "execution_count": null,
   "metadata": {},
   "outputs": [],
   "source": [
    "# Build user profile based on their rated movies\n",
    "user_ratings = ratings_df[ratings_df['userId'] == target_user_id]\n",
    "\n",
    "# Merge with movies to get genres and tags\n",
    "user_movies = pd.merge(user_ratings, movies_with_tags, on='movieId', how='left')\n",
    "\n",
    "# Weighted sum of TF-IDF vectors based on ratings\n",
    "user_profile_tfidf = np.zeros(tfidf_matrix.shape[1])\n",
    "\n",
    "for idx, row in user_movies.iterrows():\n",
    "    # Get the TF-IDF vector for this movie\n",
    "    movie_idx = movies_with_tags.index[movies_with_tags['movieId'] == row['movieId']][0]\n",
    "    movie_tfidf = tfidf_matrix[movie_idx].toarray().flatten()\n",
    "    # Weight by the user's rating\n",
    "    user_profile_tfidf += movie_tfidf * row['rating']\n",
    "\n",
    "# Normalize the user profile vector\n",
    "user_profile_tfidf = user_profile_tfidf / np.linalg.norm(user_profile_tfidf)\n",
    "\n",
    "# Compute cosine similarity between user profile and all movie vectors\n",
    "content_similarities = cosine_similarity([user_profile_tfidf], tfidf_matrix).flatten()\n",
    "\n",
    "# Create a list of content-based predictions for unrated movies\n",
    "cb_predictions = []\n",
    "for idx, movie_id in enumerate(movies_with_tags['movieId']):\n",
    "    if movie_id in unrated_movies:\n",
    "        cb_predictions.append((movie_id, content_similarities[idx]))\n"
   ]
  },
  {
   "cell_type": "markdown",
   "metadata": {},
   "source": [
    "We'll combine the collaborative filtering and content-based predictions.\n",
    "\n"
   ]
  },
  {
   "cell_type": "code",
   "execution_count": null,
   "metadata": {},
   "outputs": [],
   "source": [
    "# Convert predictions to DataFrames\n",
    "cf_pred_df = pd.DataFrame(cf_predictions, columns=['movieId', 'cf_score'])\n",
    "cb_pred_df = pd.DataFrame(cb_predictions, columns=['movieId', 'cb_score'])\n",
    "\n",
    "# Merge the predictions on 'movieId'\n",
    "hybrid_pred_df = pd.merge(cf_pred_df, cb_pred_df, on='movieId', how='inner')\n"
   ]
  },
  {
   "cell_type": "markdown",
   "metadata": {},
   "source": [
    "Since the CF scores (predicted ratings) and CB scores (cosine similarities) are on different scales, we need to normalize them to ensure fair weighting."
   ]
  },
  {
   "cell_type": "code",
   "execution_count": null,
   "metadata": {},
   "outputs": [],
   "source": [
    "# Normalize CF scores to range [0, 1]\n",
    "cf_min = cf_pred_df['cf_score'].min()\n",
    "cf_max = cf_pred_df['cf_score'].max()\n",
    "cf_pred_df['cf_score_normalized'] = (cf_pred_df['cf_score'] - cf_min) / (cf_max - cf_min)\n",
    "\n",
    "# CB scores are cosine similarities between 0 and 1 (ensure they are within this range)\n",
    "cb_pred_df['cb_score_normalized'] = cb_pred_df['cb_score']\n",
    "\n",
    "# Update the merged DataFrame with normalized scores\n",
    "hybrid_pred_df = pd.merge(cf_pred_df[['movieId', 'cf_score_normalized']], cb_pred_df[['movieId', 'cb_score_normalized']], on='movieId')\n"
   ]
  },
  {
   "cell_type": "markdown",
   "metadata": {},
   "source": [
    "Then we calculate the weighhts for CF and CB components based on user activity, i.e if the user has rated many movies, we give more weight to collaborative filtering.\n",
    "\n",
    "- Users with more ratings get a higher cf_weight since collaborative filtering is more effective with more data.\n",
    "- Conversely, users with fewer ratings rely more on content-based filtering."
   ]
  },
  {
   "cell_type": "code",
   "execution_count": null,
   "metadata": {},
   "outputs": [],
   "source": [
    "# Calculate weights based on user activity\n",
    "num_user_ratings = len(user_ratings)\n",
    "max_ratings = ratings_df['userId'].value_counts().max()\n",
    "cf_weight = num_user_ratings / max_ratings\n",
    "cb_weight = 1 - cf_weight"
   ]
  },
  {
   "cell_type": "markdown",
   "metadata": {},
   "source": [
    "Then we compute the final hybrid score by combining the CF and CB predictions using the computed weights:"
   ]
  },
  {
   "cell_type": "code",
   "execution_count": null,
   "metadata": {},
   "outputs": [],
   "source": [
    "# Compute the final hybrid score\n",
    "hybrid_pred_df['hybrid_score'] = (cf_weight * hybrid_pred_df['cf_score_normalized']) + (cb_weight * hybrid_pred_df['cb_score_normalized'])\n"
   ]
  },
  {
   "cell_type": "markdown",
   "metadata": {},
   "source": [
    "Finally, we merge the hybrid predictions with the movies DataFrame to get the titles and sort the results by the hybrid score in descending order to get the top 10 recommendations."
   ]
  },
  {
   "cell_type": "code",
   "execution_count": null,
   "metadata": {},
   "outputs": [
    {
     "name": "stdout",
     "output_type": "stream",
     "text": [
      "Top 10 Movie Recommendations:\n",
      "                                                   title  hybrid_score\n",
      "6719                          Kiss Kiss Bang Bang (2005)      0.807932\n",
      "1075                                 12 Angry Men (1957)      0.802459\n",
      "8425                          Social Network, The (2010)      0.790437\n",
      "3600                                         More (1998)      0.578585\n",
      "10031                           The Hateful Eight (2015)      0.574903\n",
      "1505                                       Sphere (1998)      0.558262\n",
      "695    Dr. Strangelove or: How I Learned to Stop Worr...      0.480472\n",
      "698    Dr. Strangelove or: How I Learned to Stop Worr...      0.480472\n",
      "703    Dr. Strangelove or: How I Learned to Stop Worr...      0.480472\n",
      "716                                 Trainspotting (1996)      0.473237\n"
     ]
    }
   ],
   "source": [
    "# Merge with movies DataFrame to get titles\n",
    "hybrid_pred_df = pd.merge(hybrid_pred_df, movies_df[['movieId', 'title']], on='movieId', how='left')\n",
    "\n",
    "# Sort by hybrid score in descending order\n",
    "hybrid_pred_df = hybrid_pred_df.sort_values(by='hybrid_score', ascending=False)\n",
    "\n",
    "# Get top 10 recommendations\n",
    "top_10_recommendations = hybrid_pred_df.head(10)\n",
    "\n",
    "print(\"Top 10 Movie Recommendations:\")\n",
    "print(top_10_recommendations[['title', 'hybrid_score']])\n"
   ]
  },
  {
   "cell_type": "markdown",
   "metadata": {},
   "source": [
    "Putting it all into a function"
   ]
  },
  {
   "cell_type": "markdown",
   "metadata": {},
   "source": [
    "Now we can modify the get_user_recommendations() function to allow users to select preferred genres or tags, which will be used to generate movie recommendations. \n",
    "\n",
    "The function will accommodate three scenarios:\n",
    "\n",
    "1. Existing Users with Ratings: If a user_id is provided and exists in the dataset, the function will generate recommendations based on both the user's past ratings and the specified genres or tags.\n",
    "\n",
    "2. New Users or Users without Ratings: If a user_id is not provided or the user has no ratings, the function will rely solely on the preferred genres or tags to generate recommendations.\n",
    "\n",
    "3. Users Providing Only Preferences: If a user_id is not provided, but preferred genres or tags are specified, the function will use these preferences to generate recommendations."
   ]
  },
  {
   "cell_type": "code",
   "execution_count": null,
   "metadata": {},
   "outputs": [],
   "source": [
    "\n",
    "from sklearn.metrics.pairwise import cosine_similarity\n",
    "from surprise import Prediction\n",
    "\n",
    "def get_user_recommendations(user_id=None, num_recommendations=10, preferred_genres=None, preferred_tags=None):\n",
    "    \"\"\"\n",
    "    Generate personalized movie recommendations for a given user or based on preferred genres/tags.\n",
    "\n",
    "    Parameters:\n",
    "    - user_id (int, optional): The ID of the user. If None, recommendations will be based on preferred genres/tags.\n",
    "    - num_recommendations (int): The number of recommendations to return.\n",
    "    - preferred_genres (list, optional): A list of preferred genres.\n",
    "    - preferred_tags (list, optional): A list of preferred tags.\n",
    "\n",
    "    Returns:\n",
    "    - recommendations_df (DataFrame): A DataFrame containing the recommended movies,\n",
    "      their hybrid scores, and explanations.\n",
    "    \"\"\"\n",
    "    # Validate inputs\n",
    "    if user_id is not None and user_id not in ratings_df['userId'].unique():\n",
    "        print(f\"User ID {user_id} not found. Recommendations will be based on preferred genres/tags.\")\n",
    "        user_id = None\n",
    "\n",
    "    # Initialize variables\n",
    "    all_movie_ids = movies_df['movieId'].unique()\n",
    "\n",
    "    # Movies the user has already rated\n",
    "    if user_id is not None:\n",
    "        user_ratings = ratings_df[ratings_df['userId'] == user_id]\n",
    "        rated_movies = user_ratings['movieId'].tolist()\n",
    "    else:\n",
    "        user_ratings = pd.DataFrame()\n",
    "        rated_movies = []\n",
    "\n",
    "    # Movies the user hasn't rated yet\n",
    "    unrated_movies = [movie_id for movie_id in all_movie_ids if movie_id not in rated_movies]\n",
    "\n",
    "    # **Collaborative Filtering Predictions using Hybrid CF (SVD + KNN)**\n",
    "    if user_id is not None and not user_ratings.empty:\n",
    "        cf_predictions = []\n",
    "        for movie_id in unrated_movies:\n",
    "            # Get SVD prediction\n",
    "            svd_pred = best_svd_model.predict(user_id, movie_id).est\n",
    "            # Get KNNBaseline prediction\n",
    "            knn_pred = best_knn_model.predict(user_id, movie_id).est\n",
    "            # Combine predictions using equal weights (can be adjusted)\n",
    "            cf_hybrid_pred = (0.5 * svd_pred) + (0.5 * knn_pred)\n",
    "            cf_predictions.append((movie_id, cf_hybrid_pred))\n",
    "        cf_pred_df = pd.DataFrame(cf_predictions, columns=['movieId', 'cf_score'])\n",
    "    else:\n",
    "        cf_pred_df = pd.DataFrame(columns=['movieId', 'cf_score'])\n",
    "\n",
    "    # **Content-Based Filtering Scores**\n",
    "    # Build user profile vector based on preferences\n",
    "    if not user_ratings.empty:\n",
    "        # Build profile from rated movies\n",
    "        user_movies = pd.merge(user_ratings, movies_with_tags, on='movieId', how='left')\n",
    "        user_profile_tfidf = np.zeros(tfidf_matrix.shape[1])\n",
    "        for _, row in user_movies.iterrows():\n",
    "            try:\n",
    "                # Get the index of the movie in movies_with_tags\n",
    "                movie_idx = movies_with_tags.index[movies_with_tags['movieId'] == row['movieId']][0]\n",
    "                movie_tfidf = tfidf_matrix[movie_idx].toarray().flatten()\n",
    "                user_profile_tfidf += movie_tfidf * row['rating']\n",
    "            except IndexError:\n",
    "                continue  # Skip if movie_id not found\n",
    "    else:\n",
    "        user_profile_tfidf = np.zeros(tfidf_matrix.shape[1])\n",
    "\n",
    "    # Incorporate preferred genres and tags\n",
    "    preference_text = ''\n",
    "    if preferred_genres:\n",
    "        preference_text += ' '.join(preferred_genres) + ' '\n",
    "    if preferred_tags:\n",
    "        preference_text += ' '.join(preferred_tags)\n",
    "    preference_text = preprocess(preference_text)\n",
    "\n",
    "    if preference_text:\n",
    "        # Transform preference text into TF-IDF vector\n",
    "        preference_vector = tfidf.transform([preference_text]).toarray().flatten()\n",
    "        # Combine with user profile\n",
    "        user_profile_tfidf += preference_vector * 2  # Weight preferences more heavily\n",
    "    else:\n",
    "        if user_profile_tfidf.sum() == 0:\n",
    "            print(\"No user ratings or preferences provided. Cannot generate recommendations.\")\n",
    "            return None\n",
    "\n",
    "    # Normalize the user profile vector\n",
    "    norm = np.linalg.norm(user_profile_tfidf)\n",
    "    if norm != 0:\n",
    "        user_profile_tfidf_normalized = user_profile_tfidf / norm\n",
    "    else:\n",
    "        user_profile_tfidf_normalized = user_profile_tfidf\n",
    "\n",
    "    # Compute cosine similarity between user profile and all movie vectors\n",
    "    content_similarities = cosine_similarity([user_profile_tfidf_normalized], tfidf_matrix).flatten()\n",
    "\n",
    "    # Create content-based predictions for unrated movies\n",
    "    cb_predictions = []\n",
    "    for idx, movie_id in enumerate(movies_with_tags['movieId']):\n",
    "        if movie_id in unrated_movies:\n",
    "            cb_predictions.append((movie_id, content_similarities[idx]))\n",
    "    cb_pred_df = pd.DataFrame(cb_predictions, columns=['movieId', 'cb_score'])\n",
    "\n",
    "    # **Normalize CF Scores to [0, 1]**\n",
    "    if not cf_pred_df.empty:\n",
    "        cf_min = cf_pred_df['cf_score'].min()\n",
    "        cf_max = cf_pred_df['cf_score'].max()\n",
    "        if cf_max - cf_min != 0:\n",
    "            cf_pred_df['cf_score_normalized'] = (cf_pred_df['cf_score'] - cf_min) / (cf_max - cf_min)\n",
    "        else:\n",
    "            cf_pred_df['cf_score_normalized'] = 0.5  # Assign middle value if no variance\n",
    "    else:\n",
    "        cf_pred_df['cf_score_normalized'] = 0.0  # Placeholder\n",
    "\n",
    "    # CB scores are already between 0 and 1 (cosine similarity)\n",
    "    cb_pred_df['cb_score_normalized'] = cb_pred_df['cb_score']\n",
    "\n",
    "    # **Merge Predictions**\n",
    "    if not cf_pred_df.empty:\n",
    "        hybrid_pred_df = pd.merge(cf_pred_df, cb_pred_df, on='movieId', how='inner')\n",
    "    else:\n",
    "        hybrid_pred_df = cb_pred_df.copy()\n",
    "        hybrid_pred_df['cf_score'] = np.nan  # Placeholder for consistency\n",
    "\n",
    "    # **Calculate Weights for CF and CB Components**\n",
    "    if user_id is not None and not user_ratings.empty:\n",
    "        num_user_ratings = len(user_ratings)\n",
    "        max_ratings = ratings_df['userId'].value_counts().max()\n",
    "        cf_weight = num_user_ratings / max_ratings\n",
    "        cb_weight = 1 - cf_weight\n",
    "        # Normalize weights to sum to 1\n",
    "        if (cf_weight + cb_weight) != 0:\n",
    "            cf_weight = cf_weight / (cf_weight + cb_weight)\n",
    "            cb_weight = cb_weight / (cf_weight + cb_weight)\n",
    "        else:\n",
    "            cf_weight = 0.5\n",
    "            cb_weight = 0.5\n",
    "    else:\n",
    "        cf_weight = 0.0\n",
    "        cb_weight = 1.0\n",
    "\n",
    "    # **Compute Hybrid Score**\n",
    "    hybrid_pred_df['hybrid_score'] = (cf_weight * hybrid_pred_df['cf_score'].fillna(0)) + \\\n",
    "                                     (cb_weight * hybrid_pred_df['cb_score'])\n",
    "\n",
    "    # **Merge with Movies DataFrame to Get Titles and Genres**\n",
    "    hybrid_pred_df = pd.merge(hybrid_pred_df, movies_df[['movieId', 'title', 'genres']], on='movieId', how='left')\n",
    "\n",
    "    # **Remove Duplicate Recommendations**\n",
    "    # Ensure that each movieId appears only once\n",
    "    hybrid_pred_df = hybrid_pred_df.drop_duplicates(subset=['movieId'], keep='first')\n",
    "\n",
    "    # **Sort by Hybrid Score in Descending Order**\n",
    "    hybrid_pred_df = hybrid_pred_df.sort_values(by='hybrid_score', ascending=False)\n",
    "\n",
    "    # **Select the Top N Recommendations**\n",
    "    top_recommendations = hybrid_pred_df.head(num_recommendations)\n",
    "\n",
    "    # **Generate Explanations**\n",
    "    explanations = []\n",
    "    for _, row in top_recommendations.iterrows():\n",
    "        explanation = \"\"\n",
    "        # High predicted CF score\n",
    "        if not np.isnan(row['cf_score']) and row['cf_score'] >= 4.0:\n",
    "            explanation += \"High predicted rating. \"\n",
    "        # Matching genres\n",
    "        if preferred_genres:\n",
    "            movie_genres = set(row['genres'].split('|'))\n",
    "            matching_genres = set(preferred_genres) & movie_genres\n",
    "            if matching_genres:\n",
    "                explanation += f\"Includes your preferred genres: {', '.join(matching_genres)}. \"\n",
    "        # Similar content\n",
    "        if row['cb_score'] >= 0.5:\n",
    "            explanation += \"Similar content based on your preferences. \"\n",
    "        explanations.append(explanation.strip())\n",
    "\n",
    "    # **Add Explanations to the DataFrame**\n",
    "    top_recommendations['explanation'] = explanations\n",
    "\n",
    "    # **Reorder and Select Relevant Columns**\n",
    "    recommendations_df = top_recommendations[['movieId', 'title', 'hybrid_score', 'explanation']]\n",
    "\n",
    "    return recommendations_df.reset_index(drop=True)\n"
   ]
  },
  {
   "cell_type": "markdown",
   "metadata": {},
   "source": [
    "Usage Examples"
   ]
  },
  {
   "cell_type": "code",
   "execution_count": null,
   "metadata": {},
   "outputs": [
    {
     "name": "stdout",
     "output_type": "stream",
     "text": [
      "Top 10 Movie Recommendations:\n",
      "   movieId                                              title  hybrid_score  \\\n",
      "0    80463                         Social Network, The (2010)      1.101213   \n",
      "1     1779                                      Sphere (1998)      0.839513   \n",
      "2      750  Dr. Strangelove or: How I Learned to Stop Worr...      0.822450   \n",
      "3    61323                          Burn After Reading (2008)      0.752908   \n",
      "4    27706  Lemony Snicket's A Series of Unfortunate Event...      0.747619   \n",
      "5     7013                    Night of the Hunter, The (1955)      0.712638   \n",
      "6     4226                                     Memento (2000)      0.691822   \n",
      "7   168252                                       Logan (2017)      0.691640   \n",
      "8     6214                 Irreversible (Irréversible) (2002)      0.666141   \n",
      "9    61024                           Pineapple Express (2008)      0.659677   \n",
      "\n",
      "                                         explanation  \n",
      "0  High predicted rating. Similar content based o...  \n",
      "1  Includes your preferred genres: Sci-Fi. Simila...  \n",
      "2                             High predicted rating.  \n",
      "3                             High predicted rating.  \n",
      "4                             High predicted rating.  \n",
      "5                             High predicted rating.  \n",
      "6                             High predicted rating.  \n",
      "7  High predicted rating. Includes your preferred...  \n",
      "8                             High predicted rating.  \n",
      "9  High predicted rating. Includes your preferred...  \n"
     ]
    }
   ],
   "source": [
    "# Example Usage\n",
    "user_id = 1\n",
    "preferred_genres = ['Action', 'Sci-Fi']\n",
    "preferred_tags = ['space', 'future']\n",
    "num_recommendations = 10\n",
    "\n",
    "recommendations = get_user_recommendations(\n",
    "    user_id=user_id,\n",
    "    num_recommendations=num_recommendations,\n",
    "    preferred_genres=preferred_genres,\n",
    "    preferred_tags=preferred_tags\n",
    ")\n",
    "\n",
    "print(\"Top 10 Movie Recommendations:\")\n",
    "print(recommendations)\n"
   ]
  },
  {
   "cell_type": "code",
   "execution_count": null,
   "metadata": {},
   "outputs": [
    {
     "name": "stdout",
     "output_type": "stream",
     "text": [
      "Recommendations Based on Your Preferences:\n",
      "   movieId                                           title  hybrid_score  \\\n",
      "0    42422  Voices of a Distant Star (Hoshi no koe) (2003)      0.565374   \n",
      "1   126548                                 The DUFF (2015)      0.470097   \n",
      "2   148626                           Big Short, The (2015)      0.470097   \n",
      "3   134170                                Kung Fury (2015)      0.470097   \n",
      "4   167746                    The Lego Batman Movie (2017)      0.470097   \n",
      "\n",
      "                                         explanation  \n",
      "0  Includes your preferred genres: Romance. Simil...  \n",
      "1            Includes your preferred genres: Comedy.  \n",
      "2                                                     \n",
      "3            Includes your preferred genres: Comedy.  \n",
      "4            Includes your preferred genres: Comedy.  \n"
     ]
    }
   ],
   "source": [
    "# New user without a user ID, specifying preferred genres and tags\n",
    "preferred_genres = ['Comedy', 'Romance']\n",
    "preferred_tags = ['love', 'funny']\n",
    "num_recommendations = 5\n",
    "\n",
    "recommendations = get_user_recommendations(user_id=None, num_recommendations=num_recommendations,\n",
    "                                           preferred_genres=preferred_genres, preferred_tags=preferred_tags)\n",
    "\n",
    "print(\"Recommendations Based on Your Preferences:\")\n",
    "print(recommendations)\n"
   ]
  },
  {
   "cell_type": "code",
   "execution_count": null,
   "metadata": {},
   "outputs": [
    {
     "name": "stdout",
     "output_type": "stream",
     "text": [
      "Personalized Recommendations:\n",
      "   movieId                                              title  hybrid_score  \\\n",
      "0    80463                         Social Network, The (2010)      0.790437   \n",
      "1     1779                                      Sphere (1998)      0.558262   \n",
      "2      750  Dr. Strangelove or: How I Learned to Stop Worr...      0.480472   \n",
      "3    61323                          Burn After Reading (2008)      0.451503   \n",
      "4    27706  Lemony Snicket's A Series of Unfortunate Event...      0.449300   \n",
      "\n",
      "                                         explanation  \n",
      "0  High predicted rating. Similar content based o...  \n",
      "1         Similar content based on your preferences.  \n",
      "2                             High predicted rating.  \n",
      "3                             High predicted rating.  \n",
      "4                             High predicted rating.  \n"
     ]
    }
   ],
   "source": [
    "# Existing user relying solely on past ratings\n",
    "user_id = 1\n",
    "num_recommendations = 5\n",
    "\n",
    "recommendations = get_user_recommendations(user_id=user_id, num_recommendations=num_recommendations)\n",
    "\n",
    "print(\"Personalized Recommendations:\")\n",
    "print(recommendations)\n"
   ]
  },
  {
   "cell_type": "code",
   "execution_count": null,
   "metadata": {},
   "outputs": [
    {
     "name": "stdout",
     "output_type": "stream",
     "text": [
      "RMSE: 0.4156\n",
      "MAE:  0.3122\n",
      "Hybrid Model RMSE: 0.4156\n",
      "Hybrid Model MAE: 0.3122\n"
     ]
    }
   ],
   "source": [
    "from surprise import Prediction\n",
    "from surprise import accuracy\n",
    "\n",
    "def evaluate_hybrid_model(test_set):\n",
    "    \"\"\"\n",
    "    Evaluate the hybrid model using RMSE and MAE.\n",
    "\n",
    "    Parameters:\n",
    "    - test_set (list): A list of (user_id, movie_id, true_rating) tuples.\n",
    "\n",
    "    Returns:\n",
    "    - rmse (float): Root Mean Squared Error.\n",
    "    - mae (float): Mean Absolute Error.\n",
    "    \"\"\"\n",
    "    hybrid_predictions = []\n",
    "    for uid, iid, true_r in test_set:\n",
    "        # Get SVD prediction\n",
    "        svd_pred = best_svd_model.predict(uid, iid).est\n",
    "        # Get KNNBaseline prediction\n",
    "        knn_pred = best_knn_model.predict(uid, iid).est\n",
    "        # Combine predictions using equal weights\n",
    "        est_hybrid = (0.5 * svd_pred) + (0.5 * knn_pred)\n",
    "\n",
    "        hybrid_predictions = [\n",
    "            Prediction(uid=row['uid'], iid=row['iid'], r_ui=row['true_r'], est=row['est_hybrid'], details={})\n",
    "            for _, row in merged_pred_df.iterrows()\n",
    "        ]\n",
    "\n",
    "    # Calculate RMSE and MAE\n",
    "    rmse = accuracy.rmse(hybrid_predictions, verbose=True)\n",
    "    mae = accuracy.mae(hybrid_predictions, verbose=True)\n",
    "    return rmse, mae\n",
    "\n",
    "# Example Usage\n",
    "# Assume test_testset is your test set\n",
    "rmse, mae = evaluate_hybrid_model(test_testset)\n",
    "print(f\"Hybrid Model RMSE: {rmse:.4f}\")\n",
    "print(f\"Hybrid Model MAE: {mae:.4f}\")\n"
   ]
  },
  {
   "cell_type": "code",
   "execution_count": null,
   "metadata": {},
   "outputs": [
    {
     "name": "stdout",
     "output_type": "stream",
     "text": [
      "Hybrid Model Precision@10: 0.9583\n",
      "Hybrid Model Recall@10: 0.6863\n"
     ]
    }
   ],
   "source": [
    "from collections import defaultdict\n",
    "\n",
    "def precision_recall_at_k(predictions, k=10, threshold=3.5):\n",
    "    \"\"\"\n",
    "    Return precision and recall at k metrics for each user.\n",
    "\n",
    "    Parameters:\n",
    "    - predictions (list of Prediction objects): The list of predictions.\n",
    "    - k (int): The number of top items to consider.\n",
    "    - threshold (float): The rating threshold to consider an item as relevant.\n",
    "\n",
    "    Returns:\n",
    "    - precision (float): Average precision at k.\n",
    "    - recall (float): Average recall at k.\n",
    "    \"\"\"\n",
    "    # Map the predictions to each user\n",
    "    user_est_true = defaultdict(list)\n",
    "    for pred in predictions:\n",
    "        user_est_true[pred.uid].append((pred.est, pred.r_ui))\n",
    "\n",
    "    precisions = dict()\n",
    "    recalls = dict()\n",
    "\n",
    "    for uid, user_ratings in user_est_true.items():\n",
    "        # Sort user ratings by estimated value\n",
    "        user_ratings.sort(key=lambda x: x[0], reverse=True)\n",
    "\n",
    "        # Number of relevant items\n",
    "        n_rel = sum((true_r >= threshold) for (_, true_r) in user_ratings)\n",
    "\n",
    "        # Number of recommended items in top k\n",
    "        n_rec_k = sum((est >= threshold) for (est, _) in user_ratings[:k])\n",
    "\n",
    "        # Number of relevant and recommended items in top k\n",
    "        n_rel_and_rec_k = sum(((true_r >= threshold) and (est >= threshold))\n",
    "                              for (est, true_r) in user_ratings[:k])\n",
    "\n",
    "        # Precision@K\n",
    "        precisions[uid] = n_rel_and_rec_k / n_rec_k if n_rec_k != 0 else 0\n",
    "\n",
    "        # Recall@K\n",
    "        recalls[uid] = n_rel_and_rec_k / n_rel if n_rel != 0 else 0\n",
    "\n",
    "    # Calculate average precision and recall\n",
    "    avg_precision = np.mean(list(precisions.values()))\n",
    "    avg_recall = np.mean(list(recalls.values()))\n",
    "\n",
    "    return avg_precision, avg_recall\n",
    "\n",
    "# Example Usage\n",
    "def evaluate_precision_recall(test_set):\n",
    "    hybrid_predictions = []\n",
    "    for uid, iid, true_r in test_set:\n",
    "        # Get SVD prediction\n",
    "        svd_pred = best_svd_model.predict(uid, iid).est\n",
    "        # Get KNNBaseline prediction\n",
    "        knn_pred = best_knn_model.predict(uid, iid).est\n",
    "        # Combine predictions using equal weights\n",
    "        est_hybrid = (0.5 * svd_pred) + (0.5 * knn_pred)\n",
    "        hybrid_predictions.append(Prediction(uid, iid, true_r, est_hybrid, {}))\n",
    "\n",
    "    precision, recall = precision_recall_at_k(hybrid_predictions, k=10, threshold=3.5)\n",
    "    print(f\"Hybrid Model Precision@10: {precision:.4f}\")\n",
    "    print(f\"Hybrid Model Recall@10: {recall:.4f}\")\n",
    "\n",
    "# Call the evaluation function\n",
    "evaluate_precision_recall(test_testset)\n"
   ]
  },
  {
   "cell_type": "code",
   "execution_count": null,
   "metadata": {},
   "outputs": [
    {
     "name": "stdout",
     "output_type": "stream",
     "text": [
      "T-test between Hybrid and SVD: t=-67.9817, p=0.0000\n",
      "T-test between Hybrid and KNN: t=34.4939, p=0.0000\n",
      "The hybrid model significantly outperforms the SVD model.\n",
      "The hybrid model significantly outperforms the KNN model.\n"
     ]
    }
   ],
   "source": [
    "from scipy.stats import ttest_rel\n",
    "\n",
    "def statistical_significance_test(test_set):\n",
    "    \"\"\"\n",
    "    Perform paired t-tests between the hybrid model and individual models.\n",
    "\n",
    "    Parameters:\n",
    "    - test_set (list): A list of (user_id, movie_id, true_rating) tuples.\n",
    "\n",
    "    Returns:\n",
    "    - None: Prints the test results.\n",
    "    \"\"\"\n",
    "    errors_hybrid = []\n",
    "    errors_svd = []\n",
    "    errors_knn = []\n",
    "\n",
    "    for uid, iid, true_r in test_set:\n",
    "        # Hybrid prediction\n",
    "        svd_pred = best_svd_model.predict(uid, iid).est\n",
    "        knn_pred = best_knn_model.predict(uid, iid).est\n",
    "        est_hybrid = (0.5 * svd_pred) + (0.5 * knn_pred)\n",
    "        errors_hybrid.append((true_r - est_hybrid) ** 2)\n",
    "\n",
    "        # Individual model errors\n",
    "        errors_svd.append((true_r - svd_pred) ** 2)\n",
    "        errors_knn.append((true_r - knn_pred) ** 2)\n",
    "\n",
    "    # Perform paired t-test between Hybrid and SVD\n",
    "    t_stat_svd, p_val_svd = ttest_rel(errors_hybrid, errors_svd)\n",
    "    print(f\"T-test between Hybrid and SVD: t={t_stat_svd:.4f}, p={p_val_svd:.4f}\")\n",
    "\n",
    "    # Perform paired t-test between Hybrid and KNN\n",
    "    t_stat_knn, p_val_knn = ttest_rel(errors_hybrid, errors_knn)\n",
    "    print(f\"T-test between Hybrid and KNN: t={t_stat_knn:.4f}, p={p_val_knn:.4f}\")\n",
    "\n",
    "    # Interpretation\n",
    "    alpha = 0.05\n",
    "    if p_val_svd < alpha:\n",
    "        print(\"The hybrid model significantly outperforms the SVD model.\")\n",
    "    else:\n",
    "        print(\"No significant difference between the hybrid and SVD models.\")\n",
    "\n",
    "    if p_val_knn < alpha:\n",
    "        print(\"The hybrid model significantly outperforms the KNN model.\")\n",
    "    else:\n",
    "        print(\"No significant difference between the hybrid and KNN models.\")\n",
    "\n",
    "# Example Usage\n",
    "statistical_significance_test(test_testset)\n"
   ]
  },
  {
   "cell_type": "markdown",
   "metadata": {},
   "source": [
    "Integration into a User Interface\n",
    "To make the function more interactive and user-friendly, consider integrating it into a user interface where users can:\n",
    "\n",
    "1. Select Preferred Genres and Tags:\n",
    "\n",
    "    - Provide checkboxes or dropdowns for users to select from available genres and tags.\n",
    "2. Receive Real-Time Recommendations:\n",
    "\n",
    "    - Display recommendations dynamically as users select their preferences.\n",
    "3. Provide Feedback:\n",
    "\n",
    "    - Allow users to rate the recommended movies, which can be used to update their profiles and improve future recommendations."
   ]
  },
  {
   "cell_type": "markdown",
   "metadata": {},
   "source": [
    "# Advanced Modeling, Incorporating Neural Networks\n",
    "\n",
    "Incorporating neural networks into recommendation systems can help capture complex, non-linear patterns in the data, potentially improving recommendation accuracy.\n",
    "\n",
    "We will implement: \n",
    "1. Autoencoders for Collaborative Filtering:\n",
    "2. Neural Collaborative Filtering (NCF) Models:\n",
    "3. Deep Learning for Content-Based Filtering:\n",
    "\n",
    "First, we create a user-item interaction matrix, which we will use to train our autoencoder."
   ]
  },
  {
   "cell_type": "code",
   "execution_count": null,
   "metadata": {},
   "outputs": [],
   "source": [
    "# Create a user-item interaction matrix\n",
    "user_item_matrix = ratings_df.pivot(index='userId', columns='movieId', values='rating').fillna(0)\n",
    "\n",
    "# Normalize the ratings\n",
    "user_ratings_mean = np.mean(user_item_matrix.values, axis=1)\n",
    "user_item_matrix_normalized = user_item_matrix.values - user_ratings_mean.reshape(-1, 1)\n",
    "\n",
    "# Get user and item mappings\n",
    "user_ids = user_item_matrix.index.tolist()\n",
    "movie_ids = user_item_matrix.columns.tolist()\n",
    "user_id_to_idx = {user_id: idx for idx, user_id in enumerate(user_ids)}\n",
    "movie_id_to_idx = {movie_id: idx for idx, movie_id in enumerate(movie_ids)}"
   ]
  },
  {
   "cell_type": "markdown",
   "metadata": {},
   "source": [
    "We'll use Keras to build the autoencoder model.\n",
    "\n"
   ]
  },
  {
   "cell_type": "code",
   "execution_count": null,
   "metadata": {},
   "outputs": [],
   "source": [
    "import tensorflow as tf\n",
    "from tensorflow.keras.layers import Input, Dense\n",
    "from tensorflow.keras.models import Model\n",
    "from tensorflow.keras.layers import Dropout\n",
    "from tensorflow.keras.callbacks import EarlyStopping\n",
    "\n",
    "num_items = user_item_matrix.shape[1]\n",
    "\n",
    "# Define the encoding dimension\n",
    "encoding_dim = 64\n",
    "\n",
    "# Input placeholder\n",
    "input_ratings = Input(shape=(num_items,))\n",
    "\n",
    "# Encoder layers\n",
    "encoded = Dense(512, activation='relu')(input_ratings)\n",
    "encoded = Dropout(0.3)(encoded)  # Dropout layer with a 30% rate\n",
    "encoded = Dense(256, activation='relu')(encoded)\n",
    "encoded = Dense(encoding_dim, activation='relu')(encoded)\n",
    "encoded = Dropout(0.3)(encoded)\n",
    "\n",
    "# Decoder layers\n",
    "decoded = Dense(256, activation='relu')(encoded)\n",
    "decoded = Dense(512, activation='relu')(decoded)\n",
    "decoded = Dense(num_items, activation='linear')(decoded)\n",
    "\n",
    "# Autoencoder model\n",
    "autoencoder = Model(inputs=input_ratings, outputs=decoded)\n",
    "\n",
    "# Compile the model\n",
    "autoencoder.compile(optimizer='adam', loss='mean_squared_error')\n",
    "\n",
    "# Implement Early stopping to prevent overfitting\n",
    "early_stopping = EarlyStopping(monitor='val_loss', patience=5, restore_best_weights=True)"
   ]
  },
  {
   "cell_type": "markdown",
   "metadata": {},
   "source": [
    "Training the autoencoder"
   ]
  },
  {
   "cell_type": "code",
   "execution_count": null,
   "metadata": {},
   "outputs": [
    {
     "name": "stdout",
     "output_type": "stream",
     "text": [
      "Epoch 1/50\n",
      "\u001b[1m9/9\u001b[0m \u001b[32m━━━━━━━━━━━━━━━━━━━━\u001b[0m\u001b[37m\u001b[0m \u001b[1m1s\u001b[0m 76ms/step - loss: 0.2102 - val_loss: 0.2708\n",
      "Epoch 2/50\n",
      "\u001b[1m9/9\u001b[0m \u001b[32m━━━━━━━━━━━━━━━━━━━━\u001b[0m\u001b[37m\u001b[0m \u001b[1m1s\u001b[0m 55ms/step - loss: 0.1901 - val_loss: 0.2655\n",
      "Epoch 3/50\n",
      "\u001b[1m9/9\u001b[0m \u001b[32m━━━━━━━━━━━━━━━━━━━━\u001b[0m\u001b[37m\u001b[0m \u001b[1m0s\u001b[0m 53ms/step - loss: 0.1802 - val_loss: 0.2673\n",
      "Epoch 4/50\n",
      "\u001b[1m9/9\u001b[0m \u001b[32m━━━━━━━━━━━━━━━━━━━━\u001b[0m\u001b[37m\u001b[0m \u001b[1m0s\u001b[0m 48ms/step - loss: 0.1637 - val_loss: 0.2649\n",
      "Epoch 5/50\n",
      "\u001b[1m9/9\u001b[0m \u001b[32m━━━━━━━━━━━━━━━━━━━━\u001b[0m\u001b[37m\u001b[0m \u001b[1m0s\u001b[0m 44ms/step - loss: 0.1604 - val_loss: 0.2623\n",
      "Epoch 6/50\n",
      "\u001b[1m9/9\u001b[0m \u001b[32m━━━━━━━━━━━━━━━━━━━━\u001b[0m\u001b[37m\u001b[0m \u001b[1m1s\u001b[0m 139ms/step - loss: 0.1552 - val_loss: 0.2622\n",
      "Epoch 7/50\n",
      "\u001b[1m9/9\u001b[0m \u001b[32m━━━━━━━━━━━━━━━━━━━━\u001b[0m\u001b[37m\u001b[0m \u001b[1m1s\u001b[0m 78ms/step - loss: 0.1590 - val_loss: 0.2612\n",
      "Epoch 8/50\n",
      "\u001b[1m9/9\u001b[0m \u001b[32m━━━━━━━━━━━━━━━━━━━━\u001b[0m\u001b[37m\u001b[0m \u001b[1m0s\u001b[0m 48ms/step - loss: 0.1580 - val_loss: 0.2573\n",
      "Epoch 9/50\n",
      "\u001b[1m9/9\u001b[0m \u001b[32m━━━━━━━━━━━━━━━━━━━━\u001b[0m\u001b[37m\u001b[0m \u001b[1m1s\u001b[0m 57ms/step - loss: 0.1549 - val_loss: 0.2550\n",
      "Epoch 10/50\n",
      "\u001b[1m9/9\u001b[0m \u001b[32m━━━━━━━━━━━━━━━━━━━━\u001b[0m\u001b[37m\u001b[0m \u001b[1m1s\u001b[0m 69ms/step - loss: 0.1658 - val_loss: 0.2631\n",
      "Epoch 11/50\n",
      "\u001b[1m9/9\u001b[0m \u001b[32m━━━━━━━━━━━━━━━━━━━━\u001b[0m\u001b[37m\u001b[0m \u001b[1m0s\u001b[0m 51ms/step - loss: 0.1630 - val_loss: 0.2556\n",
      "Epoch 12/50\n",
      "\u001b[1m9/9\u001b[0m \u001b[32m━━━━━━━━━━━━━━━━━━━━\u001b[0m\u001b[37m\u001b[0m \u001b[1m0s\u001b[0m 45ms/step - loss: 0.1647 - val_loss: 0.2576\n",
      "Epoch 13/50\n",
      "\u001b[1m9/9\u001b[0m \u001b[32m━━━━━━━━━━━━━━━━━━━━\u001b[0m\u001b[37m\u001b[0m \u001b[1m0s\u001b[0m 53ms/step - loss: 0.1548 - val_loss: 0.2485\n",
      "Epoch 14/50\n",
      "\u001b[1m9/9\u001b[0m \u001b[32m━━━━━━━━━━━━━━━━━━━━\u001b[0m\u001b[37m\u001b[0m \u001b[1m0s\u001b[0m 54ms/step - loss: 0.1619 - val_loss: 0.2538\n",
      "Epoch 15/50\n",
      "\u001b[1m9/9\u001b[0m \u001b[32m━━━━━━━━━━━━━━━━━━━━\u001b[0m\u001b[37m\u001b[0m \u001b[1m0s\u001b[0m 44ms/step - loss: 0.1609 - val_loss: 0.2555\n",
      "Epoch 16/50\n",
      "\u001b[1m9/9\u001b[0m \u001b[32m━━━━━━━━━━━━━━━━━━━━\u001b[0m\u001b[37m\u001b[0m \u001b[1m0s\u001b[0m 45ms/step - loss: 0.1516 - val_loss: 0.2507\n",
      "Epoch 17/50\n",
      "\u001b[1m9/9\u001b[0m \u001b[32m━━━━━━━━━━━━━━━━━━━━\u001b[0m\u001b[37m\u001b[0m \u001b[1m1s\u001b[0m 134ms/step - loss: 0.1452 - val_loss: 0.2489\n",
      "Epoch 18/50\n",
      "\u001b[1m9/9\u001b[0m \u001b[32m━━━━━━━━━━━━━━━━━━━━\u001b[0m\u001b[37m\u001b[0m \u001b[1m1s\u001b[0m 59ms/step - loss: 0.1489 - val_loss: 0.2476\n",
      "Epoch 19/50\n",
      "\u001b[1m9/9\u001b[0m \u001b[32m━━━━━━━━━━━━━━━━━━━━\u001b[0m\u001b[37m\u001b[0m \u001b[1m0s\u001b[0m 48ms/step - loss: 0.1528 - val_loss: 0.2464\n",
      "Epoch 20/50\n",
      "\u001b[1m9/9\u001b[0m \u001b[32m━━━━━━━━━━━━━━━━━━━━\u001b[0m\u001b[37m\u001b[0m \u001b[1m0s\u001b[0m 45ms/step - loss: 0.1448 - val_loss: 0.2590\n",
      "Epoch 21/50\n",
      "\u001b[1m9/9\u001b[0m \u001b[32m━━━━━━━━━━━━━━━━━━━━\u001b[0m\u001b[37m\u001b[0m \u001b[1m0s\u001b[0m 44ms/step - loss: 0.1592 - val_loss: 0.2489\n",
      "Epoch 22/50\n",
      "\u001b[1m9/9\u001b[0m \u001b[32m━━━━━━━━━━━━━━━━━━━━\u001b[0m\u001b[37m\u001b[0m \u001b[1m0s\u001b[0m 44ms/step - loss: 0.1469 - val_loss: 0.2496\n",
      "Epoch 23/50\n",
      "\u001b[1m9/9\u001b[0m \u001b[32m━━━━━━━━━━━━━━━━━━━━\u001b[0m\u001b[37m\u001b[0m \u001b[1m0s\u001b[0m 47ms/step - loss: 0.1567 - val_loss: 0.2516\n",
      "Epoch 24/50\n",
      "\u001b[1m9/9\u001b[0m \u001b[32m━━━━━━━━━━━━━━━━━━━━\u001b[0m\u001b[37m\u001b[0m \u001b[1m0s\u001b[0m 44ms/step - loss: 0.1562 - val_loss: 0.2488\n"
     ]
    }
   ],
   "source": [
    "# Prepare training data\n",
    "X = user_item_matrix_normalized\n",
    "\n",
    "# Train the autoencoder\n",
    "history = autoencoder.fit(\n",
    "    X,\n",
    "    X,\n",
    "    epochs=50,\n",
    "    batch_size=64,\n",
    "    shuffle=True,\n",
    "    validation_split=0.1,\n",
    "    callbacks=[early_stopping]\n",
    ")"
   ]
  },
  {
   "cell_type": "markdown",
   "metadata": {},
   "source": [
    "Evaluating the autoencoder"
   ]
  },
  {
   "cell_type": "code",
   "execution_count": null,
   "metadata": {},
   "outputs": [
    {
     "data": {
      "image/png": "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",
      "text/plain": [
       "<Figure size 640x480 with 1 Axes>"
      ]
     },
     "metadata": {},
     "output_type": "display_data"
    }
   ],
   "source": [
    "plt.plot(history.history['loss'], label='Training Loss')\n",
    "plt.plot(history.history['val_loss'], label='Validation Loss')\n",
    "plt.xlabel('Epochs')\n",
    "plt.ylabel('Loss')\n",
    "plt.legend()\n",
    "plt.show()"
   ]
  },
  {
   "cell_type": "markdown",
   "metadata": {},
   "source": [
    "For a given user, generate recommendations by reconstructing their ratings."
   ]
  },
  {
   "cell_type": "code",
   "execution_count": null,
   "metadata": {},
   "outputs": [],
   "source": [
    "def recommend_movies(user_id, user_item_matrix, model, user_id_to_idx, movie_ids, num_recommendations=10):\n",
    "    # Get the user index\n",
    "    user_idx = user_id_to_idx[user_id]\n",
    "    \n",
    "    # Get the user's ratings\n",
    "    user_ratings = user_item_matrix.values[user_idx].reshape(1, -1)\n",
    "    user_ratings_mean = np.mean(user_ratings)\n",
    "    user_ratings_normalized = user_ratings - user_ratings_mean\n",
    "    \n",
    "    # Predict ratings\n",
    "    reconstructed_ratings = model.predict(user_ratings_normalized)\n",
    "    reconstructed_ratings = reconstructed_ratings + user_ratings_mean\n",
    "    \n",
    "    # Get unrated movies\n",
    "    unrated_items = np.where(user_ratings.flatten() == 0)[0]\n",
    "    \n",
    "    # Get predicted ratings for unrated movies\n",
    "    predicted_ratings = reconstructed_ratings.flatten()[unrated_items]\n",
    "    \n",
    "    # Get top recommendations\n",
    "    top_indices = unrated_items[np.argsort(predicted_ratings)[::-1][:num_recommendations]]\n",
    "    recommended_movie_ids = [movie_ids[i] for i in top_indices]\n",
    "    \n",
    "    # Get movie titles\n",
    "    movies_df = pd.read_csv('movies.csv')\n",
    "    recommended_movies = movies_df[movies_df['movieId'].isin(recommended_movie_ids)]\n",
    "    \n",
    "    return recommended_movies[['movieId', 'title', 'genres']]\n"
   ]
  },
  {
   "cell_type": "code",
   "execution_count": null,
   "metadata": {},
   "outputs": [
    {
     "name": "stdout",
     "output_type": "stream",
     "text": [
      "\u001b[1m1/1\u001b[0m \u001b[32m━━━━━━━━━━━━━━━━━━━━\u001b[0m\u001b[37m\u001b[0m \u001b[1m0s\u001b[0m 124ms/step\n",
      "Recommended Movies for User ID 1\n",
      "      movieId                             title                  genres\n",
      "68         76                  Screamers (1995)  Action|Sci-Fi|Thriller\n",
      "412       474        In the Line of Fire (1993)         Action|Thriller\n",
      "455       520  Robin Hood: Men in Tights (1993)                  Comedy\n",
      "485       553                  Tombstone (1993)    Action|Drama|Western\n",
      "662       867                    Carpool (1996)            Comedy|Crime\n",
      "932      1232                    Stalker (1979)    Drama|Mystery|Sci-Fi\n",
      "2945     3949        Requiem for a Dream (2000)                   Drama\n",
      "4389     6440                Barton Fink (1991)          Drama|Thriller\n",
      "6439    51834              Becoming Jane (2007)           Drama|Romance\n",
      "7171    72011              Up in the Air (2009)           Drama|Romance\n"
     ]
    }
   ],
   "source": [
    "user_id = 1  # Replace with a valid user ID\n",
    "recommended_movies = recommend_movies(user_id, user_item_matrix, autoencoder, user_id_to_idx, movie_ids)\n",
    "print(\"Recommended Movies for User ID\", user_id)\n",
    "print(recommended_movies)\n"
   ]
  },
  {
   "cell_type": "markdown",
   "metadata": {},
   "source": [
    "Implementing Neural Collaborative Filtering (NCF)\n",
    "\n",
    "This replaces traditional matrix factorization with neural networks to model non-linear user-item interactions."
   ]
  },
  {
   "cell_type": "code",
   "execution_count": null,
   "metadata": {},
   "outputs": [],
   "source": [
    "# Binarize ratings: 1 if rating >= 4.0, else 0 to create positive and negative interactions\n",
    "ratings_df['rating'] = ratings_df['rating'].apply(lambda x: 1 if x >= 4.0 else 0)\n",
    "\n",
    "# Map user and item IDs to indices\n",
    "user_ids = ratings_df['userId'].unique().tolist()\n",
    "movie_ids = ratings_df['movieId'].unique().tolist()\n",
    "user_id_to_idx = {user_id: idx for idx, user_id in enumerate(user_ids)}\n",
    "movie_id_to_idx = {movie_id: idx for idx, movie_id in enumerate(movie_ids)}\n"
   ]
  },
  {
   "cell_type": "markdown",
   "metadata": {},
   "source": [
    "Generate negative interactions for training"
   ]
  },
  {
   "cell_type": "code",
   "execution_count": null,
   "metadata": {},
   "outputs": [],
   "source": [
    "import random\n",
    "random.seed(42)\n",
    "\n",
    "def get_negative_samples(ratings, num_negatives):\n",
    "    user_item_set = set(zip(ratings['userId'], ratings['movieId']))\n",
    "    all_items = set(movie_ids)\n",
    "    negative_samples = []\n",
    "    for user_id in user_ids:\n",
    "        user_negative_items = all_items - set(ratings_df[ratings_df['userId'] == user_id]['movieId'])\n",
    "        user_negative_items = random.sample(user_negative_items, num_negatives)\n",
    "        for item_id in user_negative_items:\n",
    "            negative_samples.append([user_id, item_id, 0])  # Negative sample\n",
    "    return negative_samples\n",
    "\n",
    "# Generate negative samples\n",
    "negative_samples = get_negative_samples(ratings_df[ratings_df['rating'] == 1], num_negatives=4)\n"
   ]
  },
  {
   "cell_type": "markdown",
   "metadata": {},
   "source": [
    "- Positive and Negative Interactions: In recommendation systems, especially those based on implicit feedback, it's common to have mostly positive interactions (e.g., likes or purchases) but very few explicit negative interactions. To address this, negative samples (items that the user has not interacted with) are generated artificially and labeled as negative (interaction value of 0).\n",
    "\n",
    "- Negative Sampling: For each user, the function randomly selects a fixed number of items (num_negatives) that the user has not interacted with, treating these as negative samples. This helps the model learn the difference between positive interactions (items the user likes) and negative interactions (items the user doesn't engage with).\n",
    "\n",
    "Possible Improvements:\n",
    "- Dynamic Number of Negative Samples: Instead of selecting a fixed number of negative samples (e.g., 4), you might want to vary this based on the user's activity. Users with more interactions could have more negative samples, while less active users might need fewer.\n",
    "\n",
    "- Weighted Sampling: You could improve the sampling process by biasing the selection towards items that are more popular or recently released, as users are more likely to encounter these in practice.\n",
    "\n",
    "- Negative Sample Filtering: Sometimes, negative samples might include items the user hasn't rated yet but may still like. Additional logic could be added to filter out items that are too similar to the positively rated items (e.g., based on genre or metadata)."
   ]
  },
  {
   "cell_type": "markdown",
   "metadata": {},
   "source": [
    "- Weighted Sampling: Popular movies are more likely to be selected as negative samples, as users are more likely to encounter these items.\n",
    "- Efficiency: Since we're using numpy's random.choice with weights, the sampling is efficient even with large numbers of items.\n",
    "- Recency-based Sampling: This method can be adapted to use movie recency instead of popularity by calculating weights based on how recently the movies were released (e.g., movies released within the last year could get higher weights).\n",
    "\n",
    "Further Improvements:\n",
    "- Hybrid Weighting (Popularity + Recency): You can combine both popularity and recency into a single weighting scheme by, for example, multiplying the popularity score by a factor that decays based on the release date of the movie.\n",
    "\n",
    "- Dynamic num_negatives: You could dynamically adjust the number of negative samples based on the number of positive interactions each user has (more active users may require more negative samples)."
   ]
  },
  {
   "cell_type": "markdown",
   "metadata": {},
   "source": [
    "- Dynamically Adjusted num_negatives: Users with more positive interactions will receive proportionally more negative samples, while users with fewer interactions will receive fewer negative samples. This approach ensures that more active users (who are likely to have engaged with more content) have a more balanced training set.\n",
    "\n",
    "- Weighted Sampling Based on Popularity: The negative samples are drawn using a weighted sampling mechanism, giving more popular movies a higher likelihood of being selected as negative samples.\n",
    "\n",
    "Customizations:\n",
    "- Recency Weighting: You can adjust the weights to incorporate recency along with popularity by calculating a combined score that includes both the popularity of a movie and how recently it was released.\n",
    "\n",
    "- User-specific Ratios: Instead of using a fixed neg_to_pos_ratio, you can define different ratios for different groups of users based on their behavior or interaction history.\n",
    "\n",
    "This approach helps in building a more representative dataset, ensuring that users with high activity levels (more positive interactions) receive an appropriate number of negative samples for training, while also incorporating the popularity of items in the selection process."
   ]
  },
  {
   "cell_type": "markdown",
   "metadata": {},
   "source": [
    "Combine Positive and Negative Samples"
   ]
  },
  {
   "cell_type": "code",
   "execution_count": null,
   "metadata": {},
   "outputs": [],
   "source": [
    "positive_samples = ratings_df[ratings_df['rating'] == 1][['userId', 'movieId', 'rating']].values.tolist()\n",
    "all_samples = positive_samples + negative_samples\n",
    "all_samples_df = pd.DataFrame(all_samples, columns=['userId', 'movieId', 'rating'])\n",
    "\n",
    "# Shuffle the data\n",
    "all_samples_df = all_samples_df.sample(frac=1, random_state=42).reset_index(drop=True)\n"
   ]
  },
  {
   "cell_type": "markdown",
   "metadata": {},
   "source": [
    "Split into Training and Test Sets\n"
   ]
  },
  {
   "cell_type": "code",
   "execution_count": null,
   "metadata": {},
   "outputs": [],
   "source": [
    "from sklearn.model_selection import train_test_split\n",
    "\n",
    "train_df, test_df = train_test_split(all_samples_df, test_size=0.2, random_state=42)"
   ]
  },
  {
   "cell_type": "markdown",
   "metadata": {},
   "source": [
    "Defining the NCF Model in Keras\n"
   ]
  },
  {
   "cell_type": "code",
   "execution_count": null,
   "metadata": {},
   "outputs": [],
   "source": [
    "from tensorflow.keras.layers import Input, Embedding, Flatten, Multiply, Concatenate, Dense\n",
    "from tensorflow.keras.models import Model\n",
    "\n",
    "num_users = len(user_ids)\n",
    "num_items = len(movie_ids)\n",
    "mf_dim = 10  # Dimensionality of the embeddings\n",
    "\n",
    "# Inputs\n",
    "user_input = Input(shape=(1,), name='user_input')\n",
    "item_input = Input(shape=(1,), name='item_input')\n",
    "\n",
    "# Embeddings for GMF\n",
    "user_embedding_gmf = Embedding(num_users, mf_dim, name='user_embedding_gmf')(user_input)\n",
    "item_embedding_gmf = Embedding(num_items, mf_dim, name='item_embedding_gmf')(item_input)\n",
    "\n",
    "# Flatten embeddings\n",
    "user_embedding_gmf = Flatten()(user_embedding_gmf)\n",
    "item_embedding_gmf = Flatten()(item_embedding_gmf)\n",
    "\n",
    "# Element-wise multiplication\n",
    "gmf_vector = Multiply()([user_embedding_gmf, item_embedding_gmf])\n",
    "\n",
    "# Embeddings for MLP\n",
    "user_embedding_mlp = Embedding(num_users, mf_dim * 2, name='user_embedding_mlp')(user_input)\n",
    "item_embedding_mlp = Embedding(num_items, mf_dim * 2, name='item_embedding_mlp')(item_input)\n",
    "\n",
    "user_embedding_mlp = Flatten()(user_embedding_mlp)\n",
    "item_embedding_mlp = Flatten()(item_embedding_mlp)\n",
    "\n",
    "# Concatenate user and item embeddings\n",
    "mlp_vector = Concatenate()([user_embedding_mlp, item_embedding_mlp])\n",
    "\n",
    "# MLP layers\n",
    "mlp_vector = Dense(64, activation='relu')(mlp_vector)\n",
    "mlp_vector = Dense(32, activation='relu')(mlp_vector)\n",
    "mlp_vector = Dense(16, activation='relu')(mlp_vector)\n",
    "mlp_vector = Dense(8, activation='relu')(mlp_vector)\n",
    "\n",
    "# Concatenate GMF and MLP parts\n",
    "neuMF_vector = Concatenate()([gmf_vector, mlp_vector])\n",
    "\n",
    "# Final output layer\n",
    "prediction = Dense(1, activation='sigmoid', name='prediction')(neuMF_vector)\n",
    "\n",
    "# Define the model\n",
    "model = Model(inputs=[user_input, item_input], outputs=prediction)\n",
    "\n",
    "# Compile the model\n",
    "model.compile(optimizer='adam', loss='binary_crossentropy')\n"
   ]
  },
  {
   "cell_type": "markdown",
   "metadata": {},
   "source": [
    "This code implements the NeuMF (Neural Matrix Factorization) model, which is a hybrid recommendation model combining Generalized Matrix Factorization (GMF) and Multi-Layer Perceptron (MLP):\n",
    "\n",
    "- The GMF branch captures linear interactions between users and items through element-wise multiplication of embeddings.\n",
    "- The MLP branch captures non-linear, complex interactions between users and items through a series of fully connected layers.\n",
    "- Both branches are concatenated to form a final interaction vector, which is passed through a sigmoid output layer to predict the probability of a user interacting with an item.\n",
    "\n",
    "The model is designed for tasks like implicit feedback in recommendation systems, where the goal is to predict whether a user will interact with (e.g., watch, rate, or like) a given item."
   ]
  },
  {
   "cell_type": "markdown",
   "metadata": {},
   "source": [
    "Preparing Input Data"
   ]
  },
  {
   "cell_type": "code",
   "execution_count": null,
   "metadata": {},
   "outputs": [],
   "source": [
    "# Map IDs to indices\n",
    "train_user_indices = train_df['userId'].map(user_id_to_idx).values\n",
    "train_item_indices = train_df['movieId'].map(movie_id_to_idx).values\n",
    "train_labels = train_df['rating'].values\n",
    "\n",
    "test_user_indices = test_df['userId'].map(user_id_to_idx).values\n",
    "test_item_indices = test_df['movieId'].map(movie_id_to_idx).values\n",
    "test_labels = test_df['rating'].values\n"
   ]
  },
  {
   "cell_type": "markdown",
   "metadata": {},
   "source": [
    "Training the model"
   ]
  },
  {
   "cell_type": "code",
   "execution_count": null,
   "metadata": {},
   "outputs": [
    {
     "name": "stdout",
     "output_type": "stream",
     "text": [
      "Epoch 1/10\n",
      "\u001b[1m8/8\u001b[0m \u001b[32m━━━━━━━━━━━━━━━━━━━━\u001b[0m\u001b[37m\u001b[0m \u001b[1m1s\u001b[0m 16ms/step - loss: 0.6901 - val_loss: 0.6707\n",
      "Epoch 2/10\n",
      "\u001b[1m8/8\u001b[0m \u001b[32m━━━━━━━━━━━━━━━━━━━━\u001b[0m\u001b[37m\u001b[0m \u001b[1m0s\u001b[0m 4ms/step - loss: 0.6629 - val_loss: 0.6381\n",
      "Epoch 3/10\n",
      "\u001b[1m8/8\u001b[0m \u001b[32m━━━━━━━━━━━━━━━━━━━━\u001b[0m\u001b[37m\u001b[0m \u001b[1m0s\u001b[0m 4ms/step - loss: 0.6262 - val_loss: 0.5924\n",
      "Epoch 4/10\n",
      "\u001b[1m8/8\u001b[0m \u001b[32m━━━━━━━━━━━━━━━━━━━━\u001b[0m\u001b[37m\u001b[0m \u001b[1m0s\u001b[0m 34ms/step - loss: 0.5727 - val_loss: 0.5251\n",
      "Epoch 5/10\n",
      "\u001b[1m8/8\u001b[0m \u001b[32m━━━━━━━━━━━━━━━━━━━━\u001b[0m\u001b[37m\u001b[0m \u001b[1m0s\u001b[0m 29ms/step - loss: 0.4917 - val_loss: 0.4263\n",
      "Epoch 6/10\n",
      "\u001b[1m8/8\u001b[0m \u001b[32m━━━━━━━━━━━━━━━━━━━━\u001b[0m\u001b[37m\u001b[0m \u001b[1m0s\u001b[0m 4ms/step - loss: 0.3719 - val_loss: 0.2940\n",
      "Epoch 7/10\n",
      "\u001b[1m8/8\u001b[0m \u001b[32m━━━━━━━━━━━━━━━━━━━━\u001b[0m\u001b[37m\u001b[0m \u001b[1m0s\u001b[0m 4ms/step - loss: 0.2211 - val_loss: 0.1561\n",
      "Epoch 8/10\n",
      "\u001b[1m8/8\u001b[0m \u001b[32m━━━━━━━━━━━━━━━━━━━━\u001b[0m\u001b[37m\u001b[0m \u001b[1m0s\u001b[0m 5ms/step - loss: 0.0904 - val_loss: 0.0639\n",
      "Epoch 9/10\n",
      "\u001b[1m8/8\u001b[0m \u001b[32m━━━━━━━━━━━━━━━━━━━━\u001b[0m\u001b[37m\u001b[0m \u001b[1m0s\u001b[0m 10ms/step - loss: 0.0260 - val_loss: 0.0257\n",
      "Epoch 10/10\n",
      "\u001b[1m8/8\u001b[0m \u001b[32m━━━━━━━━━━━━━━━━━━━━\u001b[0m\u001b[37m\u001b[0m \u001b[1m0s\u001b[0m 6ms/step - loss: 0.0075 - val_loss: 0.0127\n"
     ]
    }
   ],
   "source": [
    "# Define the batch size and epochs\n",
    "batch_size = 256\n",
    "epochs = 10\n",
    "\n",
    "# Train the model\n",
    "history = model.fit(\n",
    "    [train_user_indices, train_item_indices],  # Input: user and item indices\n",
    "    train_labels,  # Output: labels (ratings)\n",
    "    batch_size=batch_size,\n",
    "    epochs=epochs,\n",
    "    validation_data=([test_user_indices, test_item_indices], test_labels),\n",
    "    callbacks=[EarlyStopping(monitor='val_loss', patience=3, restore_best_weights=True)]\n",
    ")\n"
   ]
  },
  {
   "cell_type": "markdown",
   "metadata": {},
   "source": [
    "Evaluating the NCF Model"
   ]
  },
  {
   "cell_type": "code",
   "execution_count": null,
   "metadata": {},
   "outputs": [
    {
     "data": {
      "image/png": "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",
      "text/plain": [
       "<Figure size 640x480 with 1 Axes>"
      ]
     },
     "metadata": {},
     "output_type": "display_data"
    }
   ],
   "source": [
    "plt.plot(history.history['loss'], label='Training Loss')\n",
    "plt.plot(history.history['val_loss'], label='Validation Loss')\n",
    "plt.xlabel('Epochs')\n",
    "plt.ylabel('Loss')\n",
    "plt.legend()\n",
    "plt.show()\n"
   ]
  },
  {
   "cell_type": "markdown",
   "metadata": {},
   "source": [
    "Generating Recommendations"
   ]
  },
  {
   "cell_type": "code",
   "execution_count": null,
   "metadata": {},
   "outputs": [],
   "source": [
    "def recommend_movies_ncf(user_id, model, user_id_to_idx, movie_id_to_idx, movies_df, num_recommendations=10):\n",
    "    user_idx = user_id_to_idx[user_id]\n",
    "    \n",
    "    # Get items the user hasn't interacted with\n",
    "    user_rated_items = ratings_df[ratings_df['userId'] == user_id]['movieId'].tolist()\n",
    "    user_rated_item_indices = [movie_id_to_idx[i] for i in user_rated_items]\n",
    "    all_item_indices = list(movie_id_to_idx.values())\n",
    "    unrated_item_indices = [i for i in all_item_indices if i not in user_rated_item_indices]\n",
    "    \n",
    "    # Prepare input data\n",
    "    user_indices = np.full(len(unrated_item_indices), user_idx)\n",
    "    item_indices = np.array(unrated_item_indices)\n",
    "    \n",
    "    # Predict scores\n",
    "    predictions = model.predict([user_indices, item_indices], batch_size=1024).flatten()\n",
    "    \n",
    "    # Get top recommendations\n",
    "    top_indices = predictions.argsort()[::-1][:num_recommendations]\n",
    "    recommended_item_indices = item_indices[top_indices]\n",
    "    recommended_movie_ids = [list(movie_id_to_idx.keys())[list(movie_id_to_idx.values()).index(i)] for i in recommended_item_indices]\n",
    "    \n",
    "    recommended_movies = movies_df[movies_df['movieId'].isin(recommended_movie_ids)]\n",
    "    return recommended_movies[['movieId', 'title', 'genres']]\n"
   ]
  },
  {
   "cell_type": "markdown",
   "metadata": {},
   "source": [
    "Example Usage"
   ]
  },
  {
   "cell_type": "code",
   "execution_count": null,
   "metadata": {},
   "outputs": [
    {
     "name": "stdout",
     "output_type": "stream",
     "text": [
      "\u001b[1m10/10\u001b[0m \u001b[32m━━━━━━━━━━━━━━━━━━━━\u001b[0m\u001b[37m\u001b[0m \u001b[1m0s\u001b[0m 963us/step\n",
      "Recommended Movies for User ID 1\n",
      "      movieId                                         title  \\\n",
      "225       261                           Little Women (1994)   \n",
      "473       540                                 Sliver (1993)   \n",
      "3039     4067                          Untamed Heart (1993)   \n",
      "3385     4605        How to Get Ahead in Advertising (1989)   \n",
      "3896     5472                                   1776 (1972)   \n",
      "6420    51167  My Father and My Son (Babam ve oglum) (2005)   \n",
      "7062    69516                 Limits of Control, The (2009)   \n",
      "8260   104944                          Short Term 12 (2013)   \n",
      "8454   112303                   Think Like a Man Too (2014)   \n",
      "9105   144522                               Sky High (2003)   \n",
      "\n",
      "                      genres  \n",
      "225                    Drama  \n",
      "473                 Thriller  \n",
      "3039           Drama|Romance  \n",
      "3385          Comedy|Fantasy  \n",
      "3896  Children|Drama|Musical  \n",
      "6420                   Drama  \n",
      "7062   Crime|Drama|Film-Noir  \n",
      "8260                   Drama  \n",
      "8454          Comedy|Romance  \n",
      "9105  Action|Horror|Thriller  \n"
     ]
    }
   ],
   "source": [
    "user_id = 1  # Replace with a valid user ID\n",
    "movies_df = pd.read_csv('movies.csv')\n",
    "recommended_movies = recommend_movies_ncf(user_id, model, user_id_to_idx, movie_id_to_idx, movies_df)\n",
    "print(\"Recommended Movies for User ID\", user_id)\n",
    "print(recommended_movies)\n"
   ]
  },
  {
   "cell_type": "markdown",
   "metadata": {},
   "source": [
    "Evaluating the Neural Network Model Using AUC"
   ]
  },
  {
   "cell_type": "code",
   "execution_count": null,
   "metadata": {},
   "outputs": [],
   "source": [
    "# Prepare input data for testing\n",
    "test_user_indices = test_df['userId'].map(user_id_to_idx).values\n",
    "test_item_indices = test_df['movieId'].map(movie_id_to_idx).values\n",
    "test_labels = test_df['rating'].values"
   ]
  },
  {
   "cell_type": "markdown",
   "metadata": {},
   "source": [
    "Use the trained NCF model to make predictions on the test set:"
   ]
  },
  {
   "cell_type": "code",
   "execution_count": null,
   "metadata": {},
   "outputs": [
    {
     "name": "stdout",
     "output_type": "stream",
     "text": [
      "\u001b[1m1/1\u001b[0m \u001b[32m━━━━━━━━━━━━━━━━━━━━\u001b[0m\u001b[37m\u001b[0m \u001b[1m0s\u001b[0m 23ms/step\n"
     ]
    }
   ],
   "source": [
    "# Make predictions\n",
    "test_predictions = model.predict([test_user_indices, test_item_indices], batch_size=1024).flatten()\n"
   ]
  },
  {
   "cell_type": "markdown",
   "metadata": {},
   "source": [
    "Now let's modify the get_user_recommendations() function to use the neural network model (Neural Collaborative Filtering (NCF) implemented with TensorFlow/Keras) instead of the SVD model\n",
    "\n",
    "The function will:\n",
    "\n",
    "- Use the neural network model for collaborative filtering predictions.\n",
    "- Integrate content-based filtering as before.\n",
    "- Combine both methods to generate hybrid recommendations.\n",
    "- Provide explanations for the recommendations."
   ]
  },
  {
   "cell_type": "code",
   "execution_count": null,
   "metadata": {},
   "outputs": [],
   "source": [
    "def get_user_recommendations(user_id=None, num_recommendations=10, preferred_genres=None, preferred_tags=None):\n",
    "    \"\"\"\n",
    "    Generate personalized movie recommendations for a given user or based on preferred genres/tags.\n",
    "\n",
    "    Parameters:\n",
    "    - user_id (int, optional): The ID of the user. If None, recommendations will be based on preferred genres/tags.\n",
    "    - num_recommendations (int): The number of recommendations to return.\n",
    "    - preferred_genres (list, optional): A list of preferred genres.\n",
    "    - preferred_tags (list, optional): A list of preferred tags.\n",
    "\n",
    "    Returns:\n",
    "    - recommendations_df (DataFrame): A DataFrame containing the recommended movies,\n",
    "      their hybrid scores, and explanations.\n",
    "    \"\"\"\n",
    "    # Validate inputs\n",
    "    if user_id is not None and user_id not in ratings_df['userId'].unique():\n",
    "        print(f\"User ID {user_id} not found. Recommendations will be based on preferred genres/tags.\")\n",
    "        user_id = None\n",
    "\n",
    "    # Initialize variables\n",
    "    all_movie_ids = movies_df['movieId'].unique()\n",
    "\n",
    "    # Movies the user has already rated\n",
    "    if user_id is not None:\n",
    "        user_ratings = ratings_df[ratings_df['userId'] == user_id]\n",
    "        rated_movies = user_ratings['movieId'].tolist()\n",
    "    else:\n",
    "        user_ratings = pd.DataFrame()\n",
    "        rated_movies = []\n",
    "\n",
    "    # Movies the user hasn't rated yet\n",
    "    unrated_movies = [movie_id for movie_id in all_movie_ids if movie_id not in rated_movies]\n",
    "\n",
    "    # Collaborative Filtering Predictions using Neural Network Model\n",
    "    if user_id is not None and not user_ratings.empty:\n",
    "        # Map user_id to user_idx\n",
    "        if user_id in user_id_to_idx:\n",
    "            user_idx = user_id_to_idx[user_id]\n",
    "        else:\n",
    "            print(f\"User ID {user_id} not found in neural network model.\")\n",
    "            return None\n",
    "\n",
    "        # Map movie IDs to item indices\n",
    "        unrated_movie_indices = []\n",
    "        valid_movie_ids = []\n",
    "        for movie_id in unrated_movies:\n",
    "            if movie_id in movie_id_to_idx:\n",
    "                item_idx = movie_id_to_idx[movie_id]\n",
    "                unrated_movie_indices.append(item_idx)\n",
    "                valid_movie_ids.append(movie_id)\n",
    "\n",
    "        # Prepare input arrays\n",
    "        user_indices = np.full(len(unrated_movie_indices), user_idx)\n",
    "        item_indices = np.array(unrated_movie_indices)\n",
    "\n",
    "        # Make predictions using the neural network model\n",
    "        cf_scores = model.predict([user_indices, item_indices], batch_size=1024).flatten()\n",
    "\n",
    "        # Create DataFrame of predictions\n",
    "        cf_pred_df = pd.DataFrame({'movieId': valid_movie_ids, 'cf_score': cf_scores})\n",
    "    else:\n",
    "        cf_pred_df = pd.DataFrame(columns=['movieId', 'cf_score'])\n",
    "\n",
    "    # Content-Based Filtering Scores\n",
    "    # Build user profile vector based on preferences\n",
    "    # If user has ratings, combine their profile with preferred genres/tags\n",
    "    if not user_ratings.empty:\n",
    "        # Build profile from rated movies\n",
    "        user_movies = pd.merge(user_ratings, movies_with_tags, on='movieId', how='left')\n",
    "        user_profile_tfidf = np.zeros(tfidf_matrix.shape[1])\n",
    "        for idx, row in user_movies.iterrows():\n",
    "            movie_idx = movies_with_tags.index[movies_with_tags['movieId'] == row['movieId']][0]\n",
    "            movie_tfidf = tfidf_matrix[movie_idx].toarray().flatten()\n",
    "            user_profile_tfidf += movie_tfidf * row['rating']\n",
    "    else:\n",
    "        user_profile_tfidf = np.zeros(tfidf_matrix.shape[1])\n",
    "\n",
    "    # Incorporate preferred genres and tags\n",
    "    preference_text = ''\n",
    "    if preferred_genres:\n",
    "        preference_text += ' '.join(preferred_genres) + ' '\n",
    "    if preferred_tags:\n",
    "        preference_text += ' '.join(preferred_tags)\n",
    "    preference_text = preprocess(preference_text)\n",
    "\n",
    "    if preference_text:\n",
    "        # Transform preference text into TF-IDF vector\n",
    "        preference_vector = tfidf.transform([preference_text]).toarray().flatten()\n",
    "        # Combine with user profile\n",
    "        user_profile_tfidf += preference_vector * 2  # Weight preferences more heavily\n",
    "    else:\n",
    "        if user_profile_tfidf.sum() == 0:\n",
    "            print(\"No user ratings or preferences provided. Cannot generate recommendations.\")\n",
    "            return None\n",
    "\n",
    "    # Normalize the user profile vector\n",
    "    if np.linalg.norm(user_profile_tfidf) == 0:\n",
    "        user_profile_tfidf_normalized = user_profile_tfidf\n",
    "    else:\n",
    "        user_profile_tfidf_normalized = user_profile_tfidf / np.linalg.norm(user_profile_tfidf)\n",
    "\n",
    "    # Compute cosine similarity between user profile and all movie vectors\n",
    "    content_similarities = cosine_similarity([user_profile_tfidf_normalized], tfidf_matrix).flatten()\n",
    "\n",
    "    # Create content-based predictions for unrated movies\n",
    "    cb_predictions = []\n",
    "    for idx, movie_id in enumerate(movies_with_tags['movieId']):\n",
    "        if movie_id in unrated_movies:\n",
    "            cb_predictions.append((movie_id, content_similarities[idx]))\n",
    "    cb_pred_df = pd.DataFrame(cb_predictions, columns=['movieId', 'cb_score'])\n",
    "\n",
    "    # Merge predictions\n",
    "    if not cf_pred_df.empty:\n",
    "        hybrid_pred_df = pd.merge(cf_pred_df, cb_pred_df, on='movieId', how='inner')\n",
    "    else:\n",
    "        hybrid_pred_df = cb_pred_df.copy()\n",
    "        hybrid_pred_df['cf_score'] = np.nan  # Placeholder for consistency\n",
    "\n",
    "    # Calculate weights\n",
    "    if user_id is not None and not user_ratings.empty:\n",
    "        num_user_ratings = len(user_ratings)\n",
    "        max_ratings = ratings_df['userId'].value_counts().max()\n",
    "        cf_weight = num_user_ratings / max_ratings\n",
    "        cb_weight = 1 - cf_weight\n",
    "        # Ensure weights sum to 1\n",
    "        cf_weight = cf_weight / (cf_weight + cb_weight)\n",
    "        cb_weight = 1 - cf_weight\n",
    "    else:\n",
    "        cf_weight = 0.0\n",
    "        cb_weight = 1.0\n",
    "\n",
    "    # Compute hybrid score\n",
    "    hybrid_pred_df['hybrid_score'] = (cf_weight * hybrid_pred_df['cf_score'].fillna(0)) + (cb_weight * hybrid_pred_df['cb_score'])\n",
    "\n",
    "    # Merge with movies DataFrame to get titles and genres\n",
    "    hybrid_pred_df = pd.merge(hybrid_pred_df, movies_df[['movieId', 'title', 'genres']], on='movieId', how='left')\n",
    "\n",
    "    # Sort by hybrid score\n",
    "    hybrid_pred_df = hybrid_pred_df.sort_values(by='hybrid_score', ascending=False)\n",
    "\n",
    "    # Select the top N recommendations\n",
    "    top_recommendations = hybrid_pred_df.head(num_recommendations)\n",
    "\n",
    "    # Generate explanations\n",
    "    explanations = []\n",
    "    for idx, row in top_recommendations.iterrows():\n",
    "        explanation = \"\"\n",
    "        # High predicted rating\n",
    "        if not np.isnan(row['cf_score']) and row['cf_score'] >= 0.5:\n",
    "            explanation += \"High predicted preference score. \"\n",
    "        # Matching genres\n",
    "        movie_genres = set(row['genres'].split('|'))\n",
    "        matching_genres = set(preferred_genres or []) & movie_genres\n",
    "        if matching_genres:\n",
    "            explanation += f\"Includes your preferred genres: {', '.join(matching_genres)}. \"\n",
    "        # Similar content\n",
    "        if row['cb_score'] >= 0.5:\n",
    "            explanation += \"Similar content based on your preferences. \"\n",
    "        explanations.append(explanation.strip())\n",
    "\n",
    "    # Add explanations to the DataFrame\n",
    "    top_recommendations['explanation'] = explanations\n",
    "\n",
    "    # Reorder columns\n",
    "    recommendations_df = top_recommendations[['movieId', 'title', 'hybrid_score', 'explanation']]\n",
    "\n",
    "    return recommendations_df.reset_index(drop=True)\n"
   ]
  },
  {
   "cell_type": "code",
   "execution_count": null,
   "metadata": {},
   "outputs": [
    {
     "name": "stdout",
     "output_type": "stream",
     "text": [
      "\u001b[1m10/10\u001b[0m \u001b[32m━━━━━━━━━━━━━━━━━━━━\u001b[0m\u001b[37m\u001b[0m \u001b[1m0s\u001b[0m 895us/step\n",
      "Personalized Recommendations:\n",
      "   movieId                                 title  hybrid_score  \\\n",
      "0      924          2001: A Space Odyssey (1968)      0.502495   \n",
      "1      541                   Blade Runner (1982)      0.502477   \n",
      "2    68358                      Star Trek (2009)      0.502455   \n",
      "3   174053  Black Mirror: White Christmas (2014)      0.502331   \n",
      "4     5445                Minority Report (2002)      0.502190   \n",
      "\n",
      "                                         explanation  \n",
      "0  Includes your preferred genres: Adventure. Sim...  \n",
      "1  Includes your preferred genres: Action. Simila...  \n",
      "2  Includes your preferred genres: Action, Advent...  \n",
      "3         Similar content based on your preferences.  \n",
      "4  Includes your preferred genres: Action. Simila...  \n"
     ]
    }
   ],
   "source": [
    "# Example usage\n",
    "user_id = 1  # Replace with the target user ID\n",
    "preferred_genres = ['Action', 'Adventure']\n",
    "preferred_tags = ['space', 'future']\n",
    "num_recommendations = 5\n",
    "\n",
    "recommendations = get_user_recommendations(\n",
    "    user_id=user_id,\n",
    "    num_recommendations=num_recommendations,\n",
    "    preferred_genres=preferred_genres,\n",
    "    preferred_tags=preferred_tags\n",
    ")\n",
    "\n",
    "print(\"Personalized Recommendations:\")\n",
    "print(recommendations)"
   ]
  },
  {
   "cell_type": "markdown",
   "metadata": {},
   "source": [
    "Extracting Valid Genres"
   ]
  },
  {
   "cell_type": "code",
   "execution_count": null,
   "metadata": {},
   "outputs": [
    {
     "name": "stdout",
     "output_type": "stream",
     "text": [
      "Available Genres:\n",
      "[' ', '(', ')', '-', 'A', 'C', 'D', 'F', 'H', 'I', 'M', 'N', 'R', 'S', 'T', 'W', 'X', 'a', 'c', 'd', 'e', 'g', 'h', 'i', 'l', 'm', 'n', 'o', 'r', 's', 't', 'u', 'v', 'y', '|']\n"
     ]
    }
   ],
   "source": [
    "unique_genres = set()\n",
    "for genres_list in movies_df['genres']:\n",
    "    unique_genres.update(genres_list)\n",
    "\n",
    "# Convert the set to a sorted list\n",
    "unique_genres = sorted(unique_genres)\n",
    "\n",
    "print(\"Available Genres:\")\n",
    "print(unique_genres)\n"
   ]
  },
  {
   "cell_type": "code",
   "execution_count": null,
   "metadata": {},
   "outputs": [
    {
     "data": {
      "text/plain": [
       "35"
      ]
     },
     "metadata": {},
     "output_type": "display_data"
    }
   ],
   "source": [
    "len(unique_genres)"
   ]
  },
  {
   "cell_type": "markdown",
   "metadata": {},
   "source": [
    "Extracting valid tags"
   ]
  },
  {
   "cell_type": "code",
   "execution_count": null,
   "metadata": {},
   "outputs": [
    {
     "name": "stdout",
     "output_type": "stream",
     "text": [
      "Available Tags:\n",
      "['\"artsy\"', '06 oscar nominated best movie - animation', '1900s', '1920s', '1950s', '1960s', '1970s', '1980s', '1990s', '2001-like', '2d animation', '70mm', \"80's\", 'a clever chef rat', 'a dingo ate my baby', 'aardman', 'abortion', 'absorbing', 'abstract', 'academy award (best supporting actress)', 'accident', 'achronological', 'acting', 'action', 'action choreography', 'action packed', 'adam sandler', 'addiction', 'adolescence', 'adoption', 'adorable', 'adrien brody', 'adult humor', 'adultery', 'adventure', 'afghanistan', 'africa', 'agatha christie', 'aggressive', 'aging', 'aids', 'al pacino', 'alan rickman', 'alcatraz', 'alcoholism', 'alfred hitchcock', 'alicia vikander', 'aliens', 'allegorical', 'alone in the world', 'alter ego', 'alternate endings', 'alternate reality', 'alternate universe', 'amazing', 'amazing artwork', 'amazing cinematography', 'amazing dialogues', 'american idolatry', 'american indians', 'american propaganda', 'amish', 'amnesia', 'amtrak', 'amy adams', 'ancient rome', 'andrew lloyd weber', 'android(s)/cyborg(s)', 'androids', 'andy garcia', 'andy kaufman', 'andy samberg', 'angelina jolie', 'anger', 'animal movie', 'animation', 'anime', 'anne boleyn', 'anne hathaway', 'annoying', 'anthology', 'anthony hopkins', 'anti-intellectual', 'anti-semitism', 'anti-war', 'apes', 'apocalypse', 'aquarium', 'archaeology', 'ark of the covenant', 'arnold schwarzenegger', 'art', 'art house', 'arthouse', 'arthur c. clarke', 'arthur miller', 'artificial intelligence', 'artistic', 'artsy', 'as byatt', 'assassin', 'assassin-in-training (scene)', 'assassination', 'assassins', 'astaire and rogers', 'asylum', 'atmospheric', 'atomic bomb', 'audience intelligence underestimated', 'audrey tautou', 'austere', 'australia', 'autism', 'avant-garde romantic comedy', 'aviation', 'awesome', 'awkward', 'awkward romance', 'babies', 'backwards. memory', 'bad', 'bad acting', 'bad ass', 'bad dialogue', 'bad humor', 'bad jokes', 'bad language', 'bad music', 'bad plot', 'bad science', 'bad script', 'bad story', 'bad writing', 'bad-ass', 'ballet', 'ballroom dance', 'bank', 'baseball', 'based on a book', 'based on a play', 'based on a true story', 'based on a tv show', 'basketball', 'batman', 'bears', 'beat poetry', 'beatles', 'beautiful', 'beautiful cinematography', 'beautiful scenery', 'beautiful visuals', 'beautifully filmed', 'bechdel test:fail', 'beethoven', 'ben affleck', 'ben kingsley', 'ben stiller', 'best comedy', 'best picture', 'bette davis', 'bible', 'biblical references', 'big boys with guns', 'big brothers', 'big budget', 'big corporations', 'big name actors', 'big top', 'big wave', 'biking', 'bill murray', 'biography', 'biopic', 'birds', 'bittersweet', 'bizarre', 'bizzare', 'black and white', 'black comedy', 'black hole', 'black humor', 'black humour', 'black-and-white', 'bleak', 'blind', 'blindness', 'blood', 'blood splatters', 'bloody', 'bluegrass', 'boksdrama', 'bombs', 'books', 'borg', 'boring', 'boston', 'bowling', 'boxing', 'boxing story', 'brad pitt', 'brainwashing', 'brilliant', 'british', 'british comedy', 'british gangster', 'britpop', 'brittany murphy', 'broadway', 'bromance', 'bromantic', 'brooch', 'brothers', 'bruce willis', 'brutal', 'brutality', 'bubba gump shrimp', 'bugs bunny', 'building a family', 'bus', 'business', 'busniess', 'butler', 'c.s. lewis', 'california', 'cambodia', 'camels', 'cameo:whoopi goldberg', 'camp', 'canada', 'cancer', 'capone', 'capote', 'captain america', 'captain kirk', 'captain nemo', 'carnival', 'cartoon', 'casey affleck', 'casino', 'casual violence', 'cate blanchett', 'cattle drive', 'celebrity fetishism', 'cerebral', 'cgi', 'challenging', 'character development', 'character study', 'characters', 'charles dickens', 'charlize theron', 'charlotte bronte', 'cheating', 'cheeky', 'cheesy', 'chess', 'chick flick', 'child abuse', 'childish naivity', 'children', 'chile', 'chilly', 'china', 'chris evans', 'chris klein', 'christian bale', 'christina ricci', 'christmas', 'christoph waltz', 'christopher lloyd', 'christopher nolan', 'chuck palahniuk', 'cia', 'cinematography', 'circus', 'city politics', 'civil war', 'claims to be true', 'class', 'classic', 'classic movie', 'classic sci-fi', 'claustrophobic', 'claymation', 'clever', 'cliche characters', 'clock', 'clousseau', 'coen bros', 'coen brothers', 'coke', 'cold', 'cold war', 'cole porter', 'colin farrell', 'college', 'colorful', 'colourful', 'coma', 'comedy', 'comic book', 'comics', 'complicated', 'computer', 'computer animation', 'computers', 'con artists', 'con men', 'conan', 'confrontational', 'confusing', 'confusing ending', 'conspiracy', 'conspiracy theory', 'consumerism', 'contemplative', 'controversial', 'convent', 'conversation', 'cool', 'cool style', 'corruption', 'costume drama', 'coulda been a contender', 'court', 'courtroom drama', 'crappy sequel', 'crazy', 'creative', 'creativity', 'creature feature', 'creepy', 'crime', 'crime scene scrubbing', 'cross dressing', 'crucifixion', 'crude humor', 'cruel characters', 'cryptic', 'cult', 'cult classic', 'cult film', 'cyberpunk', 'cynical', 'dan aykroyd', 'dance', 'dance marathon', 'dancing', 'daniel craig', 'daniel radcliffe', 'dark', 'dark comedy', 'dark fairy tale', 'dark hero', 'dark humor', 'darth vader', 'dating', 'david bowie', 'david fincher', 'david thewlis', 'day and hudson', 'dc', 'dc comics', 'dead wife', 'deadpan', 'deaf', 'deafness', 'death', 'death penalty', 'deep throat', 'demons', 'denzel washington', 'depressing', 'depression', 'diabetes', 'dialogue', 'dickens', 'different', 'diner', 'dinosaur', 'dinosaurs', 'directorial debut', 'disability', 'disappointing', 'disaster', 'disjointed timeline', 'disney', 'disney animated feature', 'disturbing', 'divorce', 'doc ock', 'doctors', 'documentary', 'dodie smith', 'dogs', 'doll', 'domestic violence', 'donkey', 'dorothy', 'double life', 'downbeat', 'dr. seuss', 'dr. strange', 'drama', 'dreamlike', 'dreams', 'dreamy', 'drug abuse', 'drug overdose', 'drugs', 'drugs & music', 'dull', 'dumas', 'dumb', 'dumpster diving', 'dust bowl', 'dwayne johnson', 'dystopia', 'e-mail', 'e. m. forster', 'e.m. forster', 'earnest', 'easygoing', 'eccentric', 'economics', 'ed harris', 'edith wharton', 'edward norton', 'eerie', 'einstein', 'elegant', 'elegiac', 'embarassing scenes', 'emilia clarke', 'emma', 'emma stone', 'emma thompson', 'emotional', 'empire state building', 'end of the world', 'ending', 'england', 'engrossing adventure', 'enigmatic', 'enjoyable', 'ensemble cast', 'enterprise', 'entertaining', 'entirely dialogue', 'epic', 'episodic', 'eric bana', 'espionage', 'ethics', \"eugene o'neill\", 'europe', 'eva green', 'everything you want is here', 'evil children', 'evolution', 'ewan mcgregor', 'ex-con', 'exciting', 'existential', 'existentialism', 'exquisite plotting.', 'factory', 'faerie tale', 'fairy tale', 'fairy tales', 'falling', 'families', 'family', 'fantasy', 'fantasy world', 'far fetched', 'fast paced', 'fast-paced', 'fast-paced dialogue', 'fatalistic', 'father-son relationship', 'fatherhood', 'favelas', 'fbi', 'feel-good', 'ferris wheel', 'fighting', 'fighting the system', 'figure skating', 'film history', 'film noir', 'film-noir', 'financial crisis', 'firefly', 'first was much better', 'fish', 'flood', 'food', 'football', 'for katie', 'foul language', 'france', 'franchise', 'francis ford coppola', 'freaks', 'free speech', 'free to download', 'freedom', 'freedom of expression', 'french', 'friendship', 'fucked up', 'fugitive', 'fun', 'fun family movie', 'funny', 'future', 'futuristic', 'gal gadot', 'gambling', 'game', 'gangs', 'gangster', 'gangsters', 'gary oldman', 'geeky', 'general motors', 'generation x', 'genius', 'genocide', 'gentle', 'george bernard shaw', 'george clooney', 'george lucas', 'ghost', 'ghosts', 'gintama', 'girl power', 'give me back my son!', 'gold', 'golden watch', 'golf', 'golfing', 'good', 'good and evil', 'good cinematography', 'good dialogue', 'good music', 'good soundtrack', 'good writing', 'goofy', 'gore', 'goretastic', 'gothic', 'governess', 'grace', 'graham greene', 'graphic design', 'great acting', 'great cinematography', 'great dialogue', 'great ending', 'great humor', 'great movie', 'great performances', 'great screenplay', 'great soundtrack', 'great villain', 'great visuals', 'grim', 'gritty', 'gruesome', 'guardians of the galaxy', 'gulf war', 'gun fu', 'gun tactics', 'gun-fu', 'gunfight', 'guns', 'hal', 'halle berry', 'halloween', 'hallucinatory', 'hammett', 'hannibal lecter', 'hannibal lector', 'happpiness', 'happy ending', 'harley quinn', \"harley quinn's ass\", 'harper lee', 'harrison ford', 'harry potter', 'harsh', 'harvey keitel', 'haunting', 'hawkeye', 'hayao miyazaki', 'hearst', 'heartbreaking', 'heartwarming', 'heavy metal', 'heist', 'helena bonham carter', 'hemingway', 'henry darger', 'henry james', 'hepburn and tracy', 'heroic bloodshed', 'heroin', 'heroine in tight suit', 'high fantasy', 'high school', 'highly quotable', 'highschool', 'hilarious', 'hilary swank', 'hip hop', 'hippies', 'historical', 'history', 'hit men', 'hitman', 'hollywood', 'holocaust', 'holy grail', 'homeless', 'homosexuality', 'hope', 'horrible acting', 'horrible directing', 'horrid characterisation', 'horror', 'horses', 'hostage', 'hot actress', 'hotel', 'housekeeper', 'howard hughes', 'huey long', 'hugh jackman', 'hula hoop', 'human rights', 'humane', 'humor', 'humorous', 'humour', 'hungary', 'i am your father', 'i see dead people', 'ichabod crane', 'iconic', 'illusions', 'imaginary friend', 'imagination', 'imaginative', 'imdb top 250', 'immigrants', 'immigration', 'immortality', 'in netflix queue', 'in your eyes', 'incest', 'independent', 'independent film', 'india', 'indiana jones', 'indie record label', 'individualism', 'indonesia', 'infertility', 'inhumane', 'inigo montoya', 'innovative', 'insane', 'insanity', 'insightful', 'insomnia', 'inspirational', 'inspiring', 'insurance', 'intellectual', 'intelligent', 'intelligent sci-fi', 'intense', 'interesting', 'interesting characters', 'interesting scenario', 'interracial marriage', 'interracial romance', 'intertwining storylines', 'interwoven storylines', 'intimate', 'introspection', 'investor corruption', 'invisibility', 'ireland', 'ironic', 'irony', 'irreverent', 'island', 'istanbul', 'it was melodramatic and kind of dumb', 'italy', 'jack nicholson', 'jackie chan', 'jaime pressly', 'jake gyllenhaal', 'james cameron', 'james fennimore cooper', 'james franco', 'james stewart', 'jane austen', 'japan', 'jared leto', 'jason', 'jason biggs', 'jason segel', 'jay and silent bob', 'jazz', 'jean grey', 'jean reno', 'jeff bridges', 'jekyll and hyde', 'jennifer connelly', 'jennifer lawrence', 'jesse eisenberg', 'jesse ventura', 'jessica alba', 'jim carrey', 'jim morrison', 'john cusack', 'john goodman', 'john grisham', 'john malkovich', 'john travolta', 'johnny cash', 'johnny depp', 'joker', 'jon hamm', 'josh brolin', 'joss whedon', 'journalism', 'judaism', 'jude law', 'julianne moore', 'juliette lewis', 'jungle', 'justice', 'justin timberlake', 'katzanzakis', 'keanu reeves', 'kevin costner', 'kevin smith', 'kevin spacey', 'kidnapping', 'kids', 'killer', 'killer-as-protagonist', 'king arthur', 'klingons', 'knights', 'kung fu', 'kurt russell', 'l.a.', 'lack of development', 'lack of plot', 'lack of story', 'large cast', 'las vegas', 'last man on earth', 'lawn mower', 'lawyer', 'lawyers', 'leonardo dicaprio', 'leonardo dicarpio', 'leopard', 'lesbian', 'lesbian subtext', 'liam neeson', 'lies', 'lieutenant dan', 'lion', 'lions', 'live action/animation', 'lloyd dobbler', 'lolita theme', 'loneliness', 'lonesome polecat', 'long shots', 'long takes', 'longing', 'lord of the rings', 'loretta lynn', 'los angeles', 'lou gehrig', 'louisa may alcott', 'love', 'love story', 'lovely', 'luc besson', 'luke skywalker', 'lyrical', 'm. night shyamalan', 'macaulay culkin', 'macbeth', 'macho', 'mad scientist', 'made me cry', 'mafia', 'maggie gyllenhaal', 'magic', 'magic board game', 'magneto', 'male nudity', 'margot robbie', 'marijuana', 'marion cotillard', 'mark ruffalo', 'mark wahlberg', 'marriage', 'martial arts', 'martin scorsese', 'marvel', 'marx brothers', 'masculinity', 'masterpiece', 'matchmaker', 'mathematics', 'matrix', 'matt damon', 'may-december romance', 'mccarthy hearings', 'mcdonalds', 'mcu', 'meaningless violence', 'mecha', 'mediacentralism', 'medieval', 'meditative', 'mel gibson', 'melancholic', 'melancholy', 'memory', 'memory loss', 'men in drag', 'menacing', 'mental hospital', 'mental illness', 'mermaid', 'meryl streep', 'metaphorical', 'mexico', 'mice', 'michael bay', 'michael cera', 'michael crichton', 'michigan', 'middle east', 'mila kunis', 'military', 'milkshake', 'mind-bending', 'mind-blowing', 'mindfuck', 'mindless one liners', 'mining', 'mirrors', 'missing children', 'missionary', 'mma', 'mobster', 'mobsters', 'mockumentary', 'modern fantasy', 'modern war', 'moldy', 'money', 'monologue', 'monty python', 'moody', 'moon', 'morality', 'morgan freeman', 'morrow', 'moses', 'motherfucker', 'motherhood', 'motivational', 'mount rushmore', 'mountain climbing', 'movie business', 'movies', 'movies about movies', 'moving', 'mozart', 'mrs. dewinter', 'multiple personalities', 'multiple roles', 'multiple short stories', 'multiple stories', 'multiple storylines', 'muppets', 'murder', 'music', 'music business', 'music industry', 'mystery', 'myth', 'mythology', 'nabokov', 'nanny', 'narnia', 'narrated', 'narrative pisstake', 'nasa', 'natalie portman', 'nathan fillion', 'native americans', 'navy', 'nazis', 'needed more autobots', 'neil patrick harris', 'neo-noir', 'nerd', 'nerds', 'new composer', 'new society', 'new york', 'new york city', 'nick and nora charles', 'nick hornby', 'nicolas cage', 'nightclub', 'nightmare', 'ninotchka remake', 'no dialogue', 'no dvd at netflix', 'nocturnal', 'noir', 'non-linear', 'non-linear timeline', 'nonlinear', 'nonlinear narrative', 'nonlinear storyline', 'nonlinear timeline', 'nonsense', 'norman bates', 'nostalgia', 'not available from netflix', 'not funny', 'not linear', 'not seen', 'notable nudity', 'notable soundtrack', 'nuclear disaster', 'nuclear war', 'nudity (full frontal)', 'nudity (topless)', 'nun', 'nuns', 'obsession', 'ocean', 'off-beat comedy', 'offensive', 'ogres', 'oil', 'old', 'oldie but goodie', 'olympics', 'oninous', 'opera', 'organised crime', 'organized crime', 'original', 'original plot', 'orlando bloom', 'orphans', 'oscar (best actress)', 'oscar (best cinematography)', 'oscar (best effects - visual effects)', 'oscar (best music - original score)', 'oscar (best supporting actress)', 'oscar wilde', 'othello', 'out of order', 'overcomplicated', 'overrated', 'pageant', 'painter', 'palahnuik', \"palme d'or\", 'paranoia', 'paranoid', 'parenthood', 'paris', 'parody', 'parrots', 'passion', 'paul giamatti', 'paul rudd', 'peace corp', 'pearl s buck', 'pee wee herman', 'personals ads', 'peta wilson', 'peter pan', 'philip k. dick', 'philip seymour hoffman', 'philosophical', 'philosophical issues', 'philosophy', 'philosopical', 'photographer', 'photography', 'pigs', 'pixar', 'pizza beer', 'planes', 'plastic surgery', 'plot holes', 'plot twist', 'poetic', 'poignant', 'police', 'police corruption', 'political commentary', 'political right versus left', 'politics', 'pool', 'poor dialogue', 'poor plot development', 'poor story', 'poorly paced', 'pop culture references', 'post apocalyptic', 'post-apocalyptic', 'post-college', 'postmodern', 'pow', 'powerful ending', 'preacher', 'predictable', 'predictible plot', 'pregnancy', 'prejudice', 'prequel', 'president', 'priest', 'prince', 'prison', 'procedural', 'prodigies', 'prom', 'prostitution', 'psychedelic', 'psychiatrist', 'psychological', 'psychological thriller', 'psychology', 'psychopaths', 'ptsd', 'pudding', 'pulp', 'purity of essence', 'purposefulness', 'quakers', 'queen victoria', 'quentin tarantino', 'quick cuts', 'quirky', 'quirky romantic', 'quotable', 'r language', 'r:disturbing violent content including rape', 'r:disturbing violent images', 'r:graphic sexuality', 'r:some violence', 'r:strong bloody violence', 'r:strong language', 'r:sustained strong stylized violence', 'r:violence', 'rabbi', 'race', 'rachel mcadams', 'rachel weisz', 'racism', 'radio', 'ralph fiennes', 'random', 'ransom', 'rap', 'rape', 'rasicm', 'ray bradbury', 'real estate', 'realistic', 'reality tv', 'really bad', 'rebellion', 'recap', 'reciprocal spectator', 'reflective', 'relaxing', 'religion', 'remade', 'remake', 'remaster', 'remix culture', 'renee zellweger', 'representation of children', 'restaurant', 'retro', 'reunion', 'revenge', 'revolution', 'revolutionary', 'rich guy - poor girl', 'ridiculous', 'rita hayworth can dance!', 'river', 'road trip', 'roald dahl', 'rob zombie', 'robbery', 'robert de niro', 'robert downey jr.', 'robert ludlum', 'robert penn warren', 'robin williams', 'robots', 'robots and androids', 'roger avary', 'rogers and hammerstein', 'rogue', 'rolling stone', 'romance', 'romans', 'romantic', 'romantic comedy', 'rome', 'rosebud', 'royal with cheese', 'royalty', 'rug', 'russell crowe', 'russia', 'ryan reynolds', 's.e. hinton', 'sad', 'saint', 'saints', 'salieri', 'salute to douglas sirk', 'samuel l. jackson', 'samurai', 'sarcasm', 'satire', 'satirical', 'saturday night live', 'savannah', 'scandal', 'scary', 'scenic', 'schizophrenia', 'school', 'sci-fi', 'science fiction', 'scifi', 'scifi cult', 'scifi masterpiece', 'scotland', 'scott turow', 'screwball', 'sean connery', 'seann william scott', 'secret society', 'secrets', 'seen at the cinema', 'seen more than once', 'self discovery', 'sentimental', 'sequel', 'serial killer', 'seth macfarlane', 'seth rogen', 'setting:space/space ship', 'sex', 'sexual humor', 'sexuality', 'sexy', 'sexy female scientist', 'shakespeare', 'shakespeare sort of', 'shangri-la', 'shark', 'shenanigans', 'shia labeouf', 'ships', 'shipwreck', 'short films', 'short stories', 'show business', 'shrimp', 'siam', 'silly', 'simon and garfunkel', 'simon pegg', 'simple', 'sinbad', 'singers', 'singletons', 'sisterhood', 'sisters', 'six-fingered man', 'skiing', 'slasher', 'slavery', 'slick', 'slim pickens', 'slow', 'slow action', 'slow paced', 'small time criminals', 'small towns', 'smart', 'smart writing', 'sniper', 'snl', 'soccer', 'social commentary', 'societal criticism', 'sofia coppola', 'solitude', 'somber', 'something for everyone in this one... saw it without and plan on seeing it with kids!', 'sophisticated', 'soundtrack', 'south africa', 'south america', 'south park', 'southern us', 'space', 'space action', 'space adventure', 'space craft', 'space epic', 'space opera', 'space station', 'space travel', 'spacecraft', 'spaghetti western', 'special effects', 'spelling bee', 'spiders', 'spies', 'splatter', 'spoof', 'sports', 'spying', 'stage', 'stand up', 'stand-up comedy', 'stanley kubrick', 'stapler', 'star trek', 'star wars', 'start of a beautiful friendship', 'statue', 'stephen crane', 'stephen king', 'steve buscemi', 'steve carell', 'steven spielberg', 'stiller', 'stock market', 'stone age', 'stoner movie', 'stones of summer', 'stop looking at me swan', 'stop using useless characters for filler', 'storytelling', 'stranded', 'strange', 'strangers on a train', 'studio ghibli', 'stupid', 'stupid but funny', 'stupid ending', 'stupid is as stupid does', 'stylish', 'stylized', 'submarine', 'suburbia', 'subway', 'suicide', 'sundance award winner', 'superb soundtrack', 'superficial plot', 'superhero', 'superhero team', 'superman', 'surfing', 'surprise ending', 'surreal', 'surrealism', 'survival', 'suspense', 'suspenseful', 'sustainability', 'swashbuckler', 'sweet', 'sword fight', 'symbolic', 'symbolism', 'system holism', 'tarantino', 'teacher', 'teachers', 'tear jerker', 'tearjerking', 'technology', 'tedious', 'teen', 'teen movie', 'teenage pregnancy', 'teenagers', 'televangelist', 'television', 'tennessee williams', 'tense', 'tension', 'tension building', 'terminal illness', 'terrorism', 'test tag', 'thanksgiving', 'thanos', 'the catholic church is the most corrupt organization in history', 'the entertainer', 'the force', 'theater', 'they might be giants', 'thor', 'thought provoking', 'thought-provoking', 'threesome', 'thriller', 'thrilling', 'tilda swinton', 'tim burton', 'time travel', 'time-travel', 'titanic', 'tobacco', 'toga', 'tokyo', 'tolkein', 'tolkien', 'tolstoy', 'tom clancy', 'tom hanks', 'tom hardy', 'too long', 'too many characters', 'too much love interest', 'toto', 'touching', 'tradition!', 'tragedy', 'tragic', 'train', 'trains', 'transplants', 'transvestite', 'travolta', 'treasure hunt', 'trey parker', 'tricky', 'trippy', 'truckers', 'true story', 'truman capote', 'truth', 'turkey', 'tv', 'twins', 'twist', 'twist ending', 'twisted', 'twists & turns', 'uma thurman', 'ummarti2006', 'uncomfortable', 'unconventional', 'undercover cop', 'understated', 'unexplained', 'unintelligent', 'union', 'unique', 'unlikely hero', 'unnecessary sequel', 'unoriginal', 'unpredictable', 'unsettling', 'unusual', 'up series', 'updated classics', 'uplifting', 'vampire', 'vampires', 'van gogh', 'venice', 'vertriloquism', 'very funny', 'veterinarian', 'video', 'video game adaptation', 'video games', 'vietnam', 'viggo mortensen', 'villain nonexistent or not needed for good story', 'violence', 'violence in america', 'violent', 'virginity', 'virtual reality', 'visual', 'visually appealing', 'visually striking', 'visually stunning', 'von bulow', 'voyeurism', 'vulgar', 'wall street', 'wapendrama', 'war', 'watergate', 'way too long', 'weak plot', 'weather forecaster', 'wedding', 'weddings', 'weird', 'well done', 'werewolf', 'wesley snipes', 'western', 'whales', 'whimsical', 'white guilt', 'widows/widowers', 'will ferrell', 'will smith', 'wine', 'winona ryder', 'wistful', 'witty', 'wizards', 'wolverine', 'women', 'wonderwoman', 'woody harrelson', 'workplace', 'world war i', 'world war ii', 'writing', 'wrongful imprisonment', 'wry', 'younger men', 'zither', 'zoe kazan', 'zombies', 'zooey deschanel']\n"
     ]
    }
   ],
   "source": [
    "# Fill NaN values in 'tag' column with empty strings\n",
    "tags_df['tag'] = tags_df['tag'].fillna('')\n",
    "\n",
    "# Convert tags to lowercase and strip whitespace\n",
    "tags_df['tag'] = tags_df['tag'].str.lower().str.strip()\n",
    "\n",
    "# Remove empty strings\n",
    "tags_df = tags_df[tags_df['tag'] != '']\n",
    "\n",
    "# Get unique tags\n",
    "unique_tags = tags_df['tag'].unique()\n",
    "\n",
    "# Convert to a list and sort\n",
    "unique_tags = sorted(unique_tags)\n",
    "\n",
    "print(\"Available Tags:\")\n",
    "print(unique_tags)\n"
   ]
  },
  {
   "cell_type": "code",
   "execution_count": null,
   "metadata": {},
   "outputs": [
    {
     "data": {
      "text/plain": [
       "1475"
      ]
     },
     "metadata": {},
     "output_type": "display_data"
    }
   ],
   "source": [
    "len(unique_tags)"
   ]
  },
  {
   "cell_type": "markdown",
   "metadata": {},
   "source": [
    "The available tags are numerous and sometimes overlapping or redundant, making it difficult for users to select from them.\n",
    "\n",
    "We can use NLP to analyze the tags and group them into meaningful categories or clusters, resulting in a condensed list of tags that users can easily select from.\n",
    "\n",
    "We will:\n",
    "\n",
    "1. Preprocess the Tags: Clean and normalize the tags for consistent processing.\n",
    "2. Represent Tags Using Word Embeddings: Convert tags into numerical vectors that capture semantic meaning.\n",
    "3. Cluster Similar Tags: Group tags based on their semantic similarity.\n",
    "4. Generate Condensed Tag List: Select representative tags or create labels for each cluster.\n",
    "5. Present the Condensed List: Provide the condensed list to the user."
   ]
  },
  {
   "cell_type": "markdown",
   "metadata": {},
   "source": [
    "Preprocessing the Tags\n",
    "- Convert to Lowercase: Ensure all tags are in lowercase.\n",
    "- Remove Punctuation: Clean tags of any punctuation.\n",
    "- Tokenization: Split multi-word tags into individual words.\n",
    "- Lemmatization: Reduce words to their base form.\n",
    "- Remove Stopwords: Eliminate common words that don't add meaning.\n"
   ]
  },
  {
   "cell_type": "code",
   "execution_count": null,
   "metadata": {},
   "outputs": [
    {
     "name": "stderr",
     "output_type": "stream",
     "text": [
      "[nltk_data] Downloading package punkt to /Users/user/nltk_data...\n",
      "[nltk_data]   Package punkt is already up-to-date!\n",
      "[nltk_data] Downloading package wordnet to /Users/user/nltk_data...\n",
      "[nltk_data]   Package wordnet is already up-to-date!\n",
      "[nltk_data] Downloading package stopwords to /Users/user/nltk_data...\n",
      "[nltk_data]   Package stopwords is already up-to-date!\n"
     ]
    }
   ],
   "source": [
    "import nltk\n",
    "import string\n",
    "import pandas as pd\n",
    "import numpy as np\n",
    "import gensim.downloader as api\n",
    "from sklearn.cluster import AgglomerativeClustering\n",
    "from sklearn.metrics.pairwise import cosine_similarity\n",
    "\n",
    "# Download necessary NLTK data files\n",
    "nltk.download('punkt')\n",
    "nltk.download('wordnet')\n",
    "nltk.download('stopwords')\n",
    "\n",
    "from nltk.tokenize import word_tokenize\n",
    "from nltk.corpus import stopwords\n",
    "from nltk.stem import WordNetLemmatizer\n",
    "\n",
    "# Initialize lemmatizer and stopwords\n",
    "lemmatizer = WordNetLemmatizer()\n",
    "stop_words = set(stopwords.words('english'))\n",
    "\n",
    "# Sample list of tags (replace this with your actual list)\n",
    "tags_list = unique_tags\n",
    "\n",
    "# Preprocess tags\n",
    "def preprocess_tag(tag):\n",
    "    # Remove punctuation\n",
    "    tag = tag.translate(str.maketrans('', '', string.punctuation))\n",
    "    # Convert to lowercase\n",
    "    tag = tag.lower()\n",
    "    # Tokenize\n",
    "    tokens = word_tokenize(tag)\n",
    "    # Remove stopwords and lemmatize\n",
    "    tokens = [lemmatizer.lemmatize(word) for word in tokens if word not in stop_words]\n",
    "    # Rejoin tokens\n",
    "    preprocessed_tag = ' '.join(tokens)\n",
    "    return preprocessed_tag\n",
    "\n",
    "preprocessed_tags = [preprocess_tag(tag) for tag in tags_list]\n"
   ]
  },
  {
   "cell_type": "markdown",
   "metadata": {},
   "source": [
    "Represent Tags Using Word Embeddings\n",
    "- We will use pre-trained word embeddings from Gensim's word2vec-google-news-300 model to represent each tag as a vector.\n",
    "\n",
    "- Handle Multi-word Tags: For tags with multiple words, we'll compute the average of the word vectors."
   ]
  },
  {
   "cell_type": "code",
   "execution_count": null,
   "metadata": {},
   "outputs": [],
   "source": [
    "# Load pre-trained word2vec model (this may take a few minutes and requires internet access)\n",
    "model = api.load('word2vec-google-news-300')  # 300-dimensional vectors\n",
    "\n",
    "# Function to get vector for a tag\n",
    "def get_tag_vector(tag):\n",
    "    tokens = tag.split()\n",
    "    vectors = []\n",
    "    for token in tokens:\n",
    "        if token in model:\n",
    "            vectors.append(model[token])\n",
    "    if vectors:\n",
    "        # Compute average vector\n",
    "        tag_vector = np.mean(vectors, axis=0)\n",
    "        return tag_vector\n",
    "    else:\n",
    "        # If none of the words are in the model, return a zero vector\n",
    "        return np.zeros(model.vector_size)\n",
    "\n",
    "# Get vectors for all tags\n",
    "tag_vectors = []\n",
    "valid_tags = []\n",
    "for tag in preprocessed_tags:\n",
    "    vector = get_tag_vector(tag)\n",
    "    if np.any(vector):\n",
    "        tag_vectors.append(vector)\n",
    "        valid_tags.append(tag)\n",
    "    else:\n",
    "        # Skip tags that cannot be vectorized\n",
    "        pass\n",
    "\n",
    "# Convert list to numpy array\n",
    "tag_vectors = np.array(tag_vectors)\n"
   ]
  },
  {
   "cell_type": "markdown",
   "metadata": {},
   "source": [
    "Clustering Similar Tags\n",
    "- We'll use Agglomerative Hierarchical Clustering to cluster the tags based on their semantic similarity."
   ]
  },
  {
   "cell_type": "code",
   "execution_count": null,
   "metadata": {},
   "outputs": [
    {
     "name": "stdout",
     "output_type": "stream",
     "text": [
      "Number of clusters formed: 50\n"
     ]
    }
   ],
   "source": [
    "# Clustering Similar Tags\n",
    "from sklearn.cluster import AgglomerativeClustering\n",
    "\n",
    "# Decide on the number of clusters (adjust as needed)\n",
    "num_clusters = 50\n",
    "\n",
    "# Perform clustering\n",
    "clustering_model = AgglomerativeClustering(\n",
    "    n_clusters=num_clusters,\n",
    "    metric='euclidean',\n",
    "    linkage='ward'\n",
    ")\n",
    "clustering_model.fit(tag_vectors)\n",
    "\n",
    "# Get cluster labels\n",
    "labels = clustering_model.labels_\n",
    "\n",
    "# Create a DataFrame to hold tags and their cluster labels\n",
    "tag_cluster_df = pd.DataFrame({'tag': valid_tags, 'cluster': labels})\n",
    "\n",
    "print(f\"Number of clusters formed: {len(set(labels))}\")\n"
   ]
  },
  {
   "cell_type": "markdown",
   "metadata": {},
   "source": [
    "Generating Condensed Tag List\n",
    "- We'll select a representative tag for each cluster by finding the tag closest to the cluster centroid."
   ]
  },
  {
   "cell_type": "code",
   "execution_count": null,
   "metadata": {},
   "outputs": [],
   "source": [
    "from sklearn.metrics.pairwise import cosine_distances\n",
    "\n",
    "# Initialize list to store representative tags\n",
    "condensed_tags = []\n",
    "\n",
    "for cluster_num in range(num_clusters):\n",
    "    # Get all tags in this cluster\n",
    "    cluster_tags = tag_cluster_df[tag_cluster_df['cluster'] == cluster_num]\n",
    "    indices = cluster_tags.index\n",
    "    cluster_vectors = tag_vectors[indices]\n",
    "    \n",
    "    # Compute the centroid of the cluster\n",
    "    centroid = np.mean(cluster_vectors, axis=0)\n",
    "    \n",
    "    # Calculate distances from each tag vector to the centroid\n",
    "    distances = cosine_distances(cluster_vectors, [centroid]).flatten()\n",
    "    \n",
    "    # Find the index of the tag closest to the centroid\n",
    "    closest_index = distances.argmin()\n",
    "    representative_tag = cluster_tags.iloc[closest_index]['tag']\n",
    "    \n",
    "    condensed_tags.append(representative_tag)\n"
   ]
  },
  {
   "cell_type": "markdown",
   "metadata": {},
   "source": [
    "Presenting the Condensed List\n",
    "- Displaying the Condensed Tag List"
   ]
  },
  {
   "cell_type": "code",
   "execution_count": null,
   "metadata": {},
   "outputs": [
    {
     "name": "stdout",
     "output_type": "stream",
     "text": [
      "Condensed Tag List:\n",
      "beautiful cinematography\n",
      "beautiful visuals\n",
      "boxing\n",
      "bubba gump shrimp\n",
      "casino\n",
      "child\n",
      "classic movie\n",
      "classic scifi\n",
      "cliche character\n",
      "comedy\n",
      "computer animation\n",
      "crime\n",
      "dance\n",
      "dark fairy tale\n",
      "depression\n",
      "dialogue\n",
      "dinosaur\n",
      "drug\n",
      "europe\n",
      "gangster\n",
      "gun\n",
      "humor\n",
      "interracial romance\n",
      "kevin smith\n",
      "kidnapping\n",
      "lawyer\n",
      "melancholic\n",
      "morality\n",
      "nerd\n",
      "nonlinear narrative\n",
      "ocean\n",
      "parenthood\n",
      "philip seymour hoffman\n",
      "poignant\n",
      "priest\n",
      "rich guy poor girl\n",
      "robot android\n",
      "rstrong bloody violence\n",
      "ryan reynolds\n",
      "sex\n",
      "something everyone one saw without plan seeing kid\n",
      "spying\n",
      "stephen king\n",
      "strange\n",
      "stupid funny\n",
      "tragedy\n",
      "train\n",
      "vampire\n",
      "war\n",
      "wedding\n"
     ]
    }
   ],
   "source": [
    "# Sort the condensed tags alphabetically\n",
    "condensed_tags_sorted = sorted(condensed_tags)\n",
    "\n",
    "print(\"Condensed Tag List:\")\n",
    "for tag in condensed_tags_sorted:\n",
    "    print(tag)\n"
   ]
  },
  {
   "cell_type": "code",
   "execution_count": null,
   "metadata": {},
   "outputs": [
    {
     "data": {
      "text/plain": [
       "50"
      ]
     },
     "metadata": {},
     "output_type": "display_data"
    }
   ],
   "source": [
    "len(condensed_tags_sorted)"
   ]
  },
  {
   "cell_type": "code",
   "execution_count": null,
   "metadata": {},
   "outputs": [
    {
     "name": "stdout",
     "output_type": "stream",
     "text": [
      "\n",
      "Clusters and Their Tags:\n",
      "Cluster 0: Representative Tag - 'philip seymour hoffman'\n",
      "Tags: agatha christie, al pacino, alfred hitchcock, alicia vikander, american idolatry, american indian, american propaganda, ancient rome, arnold schwarzenegger, beatles, ben affleck, ben kingsley, bill murray, borg, british, british comedy, british gangster, broadway, cameowhoopi goldberg, cate blanchett, charlotte bronte, christian bale, christmas, cia, dan aykroyd, day hudson, dc, disney, doc ock, dorothy, email, e forster, einstein, eugene oneill, eva green, fbi, hal, halle berry, halloween, harley quinn, harley quinns as, hawkeye, hollywood, netflix queue, jaime pressly, jay silent bob, jeff bridge, jekyll hyde, jessica alba, johnny cash, johnny depp, kung fu, la, la vega, leonardo dicaprio, leonardo dicarpio, lieutenant dan, los angeles, luc besson, matt damon, mcu, mila kunis, moses, nasa, natalie portman, native american, new york, new york city, nick nora charles, dvd netflix, norman bates, available netflix, olympics, orlando bloom, palme dor, paris, pee wee herman, philip k dick, philip seymour hoffman, renee zellweger, roald dahl, robin williams, rome, rosebud, se hinton, salute douglas sirk, scotland, seth macfarlane, seth rogen, shia labeouf, snl, sofia coppola, thor, toto, uma thurman, venice, wesley snipe, winona ryder, zoe kazan\n",
      "\n",
      "Cluster 1: Representative Tag - 'something everyone one saw without plan seeing kid'\n",
      "Tags: academy award best supporting actress, action, action choreography, action packed, adoption, aid, alone world, alter ego, alternate ending, alternate reality, alternate universe, artificial intelligence, audience intelligence underestimated, bank, based book, based play, based tv show, best picture, big budget, big corporation, big name actor, big top, big wave, building family, business, cattle drive, chilly, class, clock, cold, cold war, confusing ending, coulda contender, disability, double life, duma, earnest, empire state building, end world, ending, ensemble cast, enterprise, everything want, evolution, factory, fast paced, fastpaced, fighting system, financial crisis, first much better, franchise, free speech, free download, future, game, general motor, generation x, gold, golden watch, great ending, great villain, happy ending, heroine tight suit, hope, huey long, human right, imdb top 250, independent, independent film, insurance, large cast, long shot, long take, louisa may alcott, made cry, magic board game, mark ruffalo, mark wahlberg, mindless one liner, mining, money, moon, mount rushmore, multiple personality, multiple role, needed autobots, new society, seen, offensive, oil, oscar best effect visual effect, order, peace corp, personal ad, plot twist, political right versus left, poorly paced, pop culture reference, postcollege, powerful ending, quick cut, race, random, real estate, reciprocal spectator, rogue, royalty, secret society, seen cinema, seen, self discovery, show business, slim pickens, slow, slow action, slow paced, small time criminal, small town, societal criticism, something everyone one saw without plan seeing kid, space, space action, space adventure, space craft, space epic, space station, space travel, spacecraft, special effect, stage, stock market, stop using useless character filler, stupid ending, sundance award winner, surprise ending, survival, sustainability, system holism, tear jerker, technology, test tag, catholic church corrupt organization history, force, might giant, thought provoking, time travel, long, trey parker, twin, twist, twist ending, twist turn, union, series, video, video game adaptation, video game, villain nonexistent needed good story, virtual reality, way long, weather forecaster, well done, workplace\n",
      "\n",
      "Cluster 2: Representative Tag - 'computer animation'\n",
      "Tags: 2d animation, animation, beat poetry, claymation, college, computer, computer animation, computer, economics, foul language, high school, highschool, journalism, mathematics, mouse, psychology, r language, rstrong language, radio, reality tv, school, science fiction, spelling bee, teacher, teacher, television, tv\n",
      "\n",
      "Cluster 3: Representative Tag - 'beautiful cinematography'\n",
      "Tags: amazing cinematography, art, art house, artistic, beautiful cinematography, cinematography, creative, creativity, good cinematography, great cinematography, imagination, martial art, painter, photographer, photography\n",
      "\n",
      "Cluster 4: Representative Tag - 'cliche character'\n",
      "Tags: abstract, allegorical, bad plot, bad story, based true story, biblical reference, character development, character study, character, claim true, classic, cliche character, conspiracy, conspiracy theory, cruel character, epic, ethic, exquisite plotting, historical, history, iconic, illusion, interesting character, invisibility, lack development, lack plot, lack story, love, love story, metaphorical, multiple short story, multiple story, myth, mythology, new composer, original, original plot, passion, philosophy, poor plot development, poor story, post apocalyptic, predictible plot, purity essence, short story, start beautiful friendship, stylized, superficial plot, symbolic, symbolism, titanic, many character, much love interest, tradition, true story, truth, updated classic, weak plot\n",
      "\n",
      "Cluster 5: Representative Tag - 'lawyer'\n",
      "Tags: butler, doctor, governess, housekeeper, lawyer, lawyer, nanny, psychiatrist, veterinarian\n",
      "\n",
      "Cluster 6: Representative Tag - 'ocean'\n",
      "Tags: aviation, favelas, island, jungle, keanu reef, military, navy, ocean, plane, river, savannah, scenic, settingspacespace ship, ship, shipwreck, submarine\n",
      "\n",
      "Cluster 7: Representative Tag - 'war'\n",
      "Tags: antisemitism, civil war, genocide, gulf war, holocaust, modern war, nuclear disaster, nuclear war, prejudice, racism, rebellion, revolution, revolutionary, slavery, star war, war, world war, world war ii\n",
      "\n",
      "Cluster 8: Representative Tag - 'depression'\n",
      "Tags: addiction, alcoholism, autism, blind, blindness, cancer, deaf, deafness, depression, diabetes, emotional, insomnia, mental hospital, mental illness, psychological, psychological thriller, schizophrenia, terminal illness, transplant\n",
      "\n",
      "Cluster 9: Representative Tag - 'stupid funny'\n",
      "Tags: acting, bad, bad acting, bad as, bad joke, bad language, bad science, bad script, bad writing, childish naivity, cynical, dumb, good, good writing, great acting, great performance, horrible acting, horrible directing, melodramatic kind dumb, nonsense, overrated, really bad, ridiculous, silly, smart writing, stupid, stupid funny, stupid stupid, unintelligent, unoriginal, vulgar, writing\n",
      "\n",
      "Cluster 10: Representative Tag - 'beautiful visuals'\n",
      "Tags: absorbing, adorable, adventure, amazing, amazing artwork, annoying, awesome, beautiful, beautiful scenery, beautiful visuals, beautifully filmed, brilliant, cheeky, cheesy, clever, colorful, cool, cool style, creepy, easygoing, eccentric, elegant, engrossing adventure, enjoyable, entertaining, exciting, fun, futuristic, gentle, goofy, graphic design, great visuals, gritty, imaginative, eye, innovative, intelligent, intelligent scifi, lovely, mindblowing, mirror, quirky, quirky romantic, realistic, reflective, relaxing, retro, simple, slick, smart, sophisticated, stylish, sweet, thrilling, unconventional, understated, unique, visual, visually appealing, visually striking, visually stunning, whimsical\n",
      "\n",
      "Cluster 11: Representative Tag - 'boxing'\n",
      "Tags: baseball, basketball, biking, bowling, boxing, boxing story, chess, football, golf, golfing, mma, skiing, soccer, sport, surfing\n",
      "\n",
      "Cluster 12: Representative Tag - 'interracial romance'\n",
      "Tags: avantgarde romantic comedy, bromance, chick flick, coen bros, dating, divorce, fatherson relationship, friendship, gal gadot, hot actress, interracial marriage, interracial romance, lesbian, lesbian subtext, marriage, matchmaker, maydecember romance, oldie goodie, romance, romantic, romantic comedy, sexy, shenanigan, singleton, sisterhood, threesome, transvestite\n",
      "\n",
      "Cluster 13: Representative Tag - 'poignant'\n",
      "Tags: bittersweet, bleak, downbeat, grim, heartbreaking, heartwarming, inspirational, inspiring, motivational, poignant, sad, sentimental, somber, uplifting\n",
      "\n",
      "Cluster 14: Representative Tag - 'morality'\n",
      "Tags: brainwashing, celebrity fetishism, cerebral, city politics, consumerism, existential, fatalistic, freedom, freedom expression, grace, immortality, individualism, insanity, intellectual, introspection, loneliness, longing, macho, masculinity, morality, nostalgia, obsession, paranoia, paranoid, philosophical, philosophical issue, political commentary, politics, purposefulness, religion, revenge, social commentary, solitude\n",
      "\n",
      "Cluster 15: Representative Tag - 'dinosaur'\n",
      "Tags: ape, aquarium, bird, camel, cartoon, dinosaur, dinosaur, dog, doll, donkey, firefly, horse, ichabod crane, leopard, lion, lion, mermaid, nocturnal, parrot, shark, spider, statue, stephen crane, whale, wolverine\n",
      "\n",
      "Cluster 16: Representative Tag - 'crime'\n",
      "Tags: asylum, corruption, court, crime, crime scene scrubbing, death, death penalty, fugitive, humane, immigrant, immigration, inhumane, investor corruption, justice, organised crime, organized crime, police, police corruption, prison, procedural, terrorism, undercover cop, wrongful imprisonment\n",
      "\n",
      "Cluster 17: Representative Tag - 'stephen king'\n",
      "Tags: ark covenant, bible, brooch, china, crucifixion, jean grey, jean reno, king arthur, knight, medieval, morrow, prince, queen victoria, rabbi, roman, royal cheese, rug, stephen king, thanksgiving\n",
      "\n",
      "Cluster 18: Representative Tag - 'comedy'\n",
      "Tags: anthology, best comedy, biography, biopic, black comedy, book, comedy, comic book, comic, costume drama, courtroom drama, dark comedy, dc comic, documentary, drama, mockumentary, offbeat comedy, parody, satire, satirical, spoof, standup comedy, suspense, suspenseful, thriller\n",
      "\n",
      "Cluster 19: Representative Tag - 'vampire'\n",
      "Tags: blood, blood splatter, gore, rob zombie, slasher, splatter, vampire, vampire, werewolf, zombie\n",
      "\n",
      "Cluster 20: Representative Tag - 'nonlinear narrative'\n",
      "Tags: atmospheric, disjointed timeline, episodic, intertwining storyline, interwoven storyline, magneto, matrix, multiple storyline, narrated, narrative pisstake, nonlinear, nonlinear timeline, nonlinear, nonlinear narrative, nonlinear storyline, nonlinear timeline, linear, recap, storytelling\n",
      "\n",
      "Cluster 21: Representative Tag - 'nerd'\n",
      "Tags: antiwar, badass, batman, charles dickens, dickens, em forster, fucked, geeky, hippy, joker, motherfucker, muppets, nazi, nerd, nerd, pow, superhero, superhero team, superman, swashbuckler, toga\n",
      "\n",
      "Cluster 22: Representative Tag - 'dark fairy tale'\n",
      "Tags: alien, cryptic, dark fairy tale, demon, dream, enigmatic, evil child, faerie tale, fairy tale, fairy tale, fantasy, fantasy world, genius, ghost, ghost, good evil, guardian galaxy, high fantasy, magic, marvel, masterpiece, modern fantasy, mystery, nightmare, ogre, prodigy, ray bradbury, secret, unexplained, wizard\n",
      "\n",
      "Cluster 23: Representative Tag - 'gun'\n",
      "Tags: atomic bomb, bomb, gun fu, gun tactic, gunfight, gun, sniper, stapler\n",
      "\n",
      "Cluster 24: Representative Tag - 'casino'\n",
      "Tags: casino, diner, gambling, hotel, nightclub, restaurant\n",
      "\n",
      "Cluster 25: Representative Tag - 'priest'\n",
      "Tags: convent, hannibal lector, nun, nun, preacher, priest, saint, saint, televangelist\n",
      "\n",
      "Cluster 26: Representative Tag - 'ryan reynolds'\n",
      "Tags: adam sandler, alan rickman, amy adam, andrew lloyd weber, andy garcia, andy kaufman, andy samberg, angelina jolie, anne boleyn, anne hathaway, anthony hopkins, arthur c clarke, arthur miller, bette davis, brad pitt, brittany murphy, bruce willis, c lewis, casey affleck, christina ricci, christopher lloyd, christopher nolan, cole porter, colin farrell, conan, david bowie, dr seuss, dr strange, dwayne johnson, ed harris, edward norton, emilia clarke, emma, emma thompson, eric bana, katie, francis ford coppola, gary oldman, george bernard shaw, george clooney, george lucas, graham greene, harper lee, harrison ford, harry potter, harvey keitel, helena bonham carter, hepburn tracy, howard hughes, indiana jones, indonesia, jackie chan, jake gyllenhaal, jane austen, jared leto, jason biggs, jennifer connelly, jennifer lawrence, jesse eisenberg, jesse ventura, john cusack, john goodman, john grisham, john malkovich, john travolta, josh brolin, julianne moore, justin timberlake, kurt russell, liam neeson, lloyd dobbler, loretta lynn, lou gehrig, luke skywalker, maggie gyllenhaal, margot robbie, marion cotillard, mcdonalds, mel gibson, morgan freeman, nathan fillion, neil patrick harris, peta wilson, rachel mcadams, rachel weisz, ralph fiennes, robert downey jr, robert penn warren, russell crowe, ryan reynolds, samuel l jackson, simon garfunkel, simon pegg, stanley kubrick, steven spielberg, tennessee williams, tim burton, tokyo, tom clancy, tom hank, tom hardy, woody harrelson\n",
      "\n",
      "Cluster 27: Representative Tag - 'melancholic'\n",
      "Tags: contemplative, dreamlike, dreamy, eerie, elegiac, hallucinatory, haunting, lyrical, meditative, melancholic, melancholy, moody, poetic, psychedelic, trippy, wistful\n",
      "\n",
      "Cluster 28: Representative Tag - 'classic movie'\n",
      "Tags: 06 oscar nominated best movie animation, animal movie, bromantic, cgi, classic movie, crappy sequel, creature feature, directorial debut, disney animated feature, feelgood, film history, fun family movie, good soundtrack, great movie, great screenplay, great soundtrack, horror, lolita theme, mindbending, mindfuck, movie business, movie, movie movie, ninotchka remake, notable soundtrack, oscar best actress, oscar best cinematography, oscar best music original score, oscar best supporting actress, oscar wilde, pixar, prequel, remade, remake, remaster, sequel, short film, soundtrack, stoner movie, studio ghibli, superb soundtrack, tearjerking, unnecessary sequel\n",
      "\n",
      "Cluster 29: Representative Tag - 'europe'\n",
      "Tags: afghanistan, africa, australia, boston, california, canada, denzel washington, england, europe, france, french, india, ireland, italy, japan, mexico, michigan, russia, vietnam\n",
      "\n",
      "Cluster 30: Representative Tag - 'dialogue'\n",
      "Tags: amazing dialogue, bad dialogue, conversation, dialogue, entirely dialogue, fastpaced dialogue, good dialogue, great dialogue, dialogue, poor dialogue\n",
      "\n",
      "Cluster 31: Representative Tag - 'kidnapping'\n",
      "Tags: assassination, heist, hostage, kidnapping, murder, ransom, rape, robbery, suicide\n",
      "\n",
      "Cluster 32: Representative Tag - 'humor'\n",
      "Tags: adult humor, bad humor, black humor, crude humor, dark humor, deadpan, funny, great humor, highly quotable, hilarious, humor, humorous, insightful, ironic, irony, irreverent, monologue, funny, quotable, sarcasm, sexual humor, funny, witty, wry\n",
      "\n",
      "Cluster 33: Representative Tag - 'dance'\n",
      "Tags: bad music, ballet, ballroom dance, bluegrass, christoph waltz, dance, dance marathon, dancing, good music, hula hoop, indie record label, jazz, music, music business, music industry, opera, rap, remix culture, rita hayworth dance, singer, space opera, entertainer, theater, zither\n",
      "\n",
      "Cluster 34: Representative Tag - 'sex'\n",
      "Tags: abortion, adultery, cheating, homosexuality, incest, male nudity, notable nudity, nudity full frontal, nudity topless, prostitution, rgraphic sexuality, scandal, sex, sexuality, virginity, voyeurism\n",
      "\n",
      "Cluster 35: Representative Tag - 'classic scifi'\n",
      "Tags: artsy, apocalypse, arthouse, artsy, classic scifi, cult, cult classic, cult film, cyberpunk, dystopia, existentialism, film noir, gothic, noir, postapocalyptic, postmodern, scifi, scifi, scifi cult, scifi masterpiece, screwball, suburbia, surrealism\n",
      "\n",
      "Cluster 36: Representative Tag - 'drug'\n",
      "Tags: drug abuse, drug overdose, drug, drug music, heroin, marijuana, tobacco\n",
      "\n",
      "Cluster 37: Representative Tag - 'strange'\n",
      "Tags: aggressive, austere, awkward, awkward romance, bizarre, bizzare, boring, challenging, claustrophobic, complicated, confrontational, confusing, controversial, crazy, depressing, different, disappointing, disturbing, dull, freak, harsh, horrid characterisation, insane, intense, interesting, interesting scenario, intimate, menacing, overcomplicated, predictable, scary, strange, surreal, tedious, tricky, twisted, uncomfortable, unpredictable, unsettling, unusual, weird\n",
      "\n",
      "Cluster 38: Representative Tag - 'tragedy'\n",
      "Tags: accident, amnesia, assassinintraining scene, backwards memory, coma, disaster, embarassing scene, flood, memory, memory loss, tragedy, tragic\n",
      "\n",
      "Cluster 39: Representative Tag - 'rich guy poor girl'\n",
      "Tags: clever chef rat, aging, amish, amtrak, bear, ben stiller, big boy gun, big brother, black white, black hole, black humour, bug bunny, busniess, camp, captain america, captain kirk, captain nemo, chuck palahniuk, con artist, con men, cross dressing, dark, dark hero, darth vader, dead wife, deep throat, dumpster diving, dust bowl, emma stone, ewan mcgregor, falling, far fetched, ferris wheel, fighting, figure skating, girl power, give back son, heavy metal, hilary swank, hip hop, hit men, holy grail, hugh jackman, hungary, see dead people, imaginary friend, istanbul, jack nicholson, joss whedon, judaism, jude law, last man earth, lawn mower, lie, live actionanimation, lonesome polecat, lord ring, night shyamalan, mad scientist, marx brother, mccarthy hearing, men drag, middle east, moldy, monty python, mountain climbing, moving, nick hornby, nicolas cage, old, pearl buck, peter pan, plastic surgery, plot hole, pool, president, quaker, rich guy poor girl, road trip, rolling stone, saturday night live, sexy female scientist, shakespeare, shakespeare sort, siam, south africa, south america, south park, southern u, spaghetti western, stand, star trek, stiller, stone age, stone summer, stop looking swan, sword fight, touching, travolta, treasure hunt, unlikely hero, violence america, von bulow, wall street, watergate, western, white guilt, younger men\n",
      "\n",
      "Cluster 40: Representative Tag - 'bubba gump shrimp'\n",
      "Tags: bubba gump shrimp, chile, coke, fish, food, milkshake, pig, pizza beer, pudding, pulp, shrimp, turkey, wine\n",
      "\n",
      "Cluster 41: Representative Tag - 'parenthood'\n",
      "Tags: adolescence, fatherhood, infertility, motherhood, parenthood, pregnancy, teenage pregnancy\n",
      "\n",
      "Cluster 42: Representative Tag - 'spying'\n",
      "Tags: espionage, spy, spying\n",
      "\n",
      "Cluster 43: Representative Tag - 'rstrong bloody violence'\n",
      "Tags: anger, bloody, brutal, brutality, casual violence, domestic violence, gruesome, heroic bloodshed, meaningless violence, rdisturbing violent content including rape, rdisturbing violent image, rsome violence, rstrong bloody violence, rsustained strong stylized violence, tense, tension, tension building, violence, violent\n",
      "\n",
      "Cluster 44: Representative Tag - 'kevin smith'\n",
      "Tags: astaire rogers, chris evans, chris klein, daniel craig, daniel radcliffe, david fincher, david thewlis, dodie smith, henry darger, henry james, james cameron, james fennimore cooper, james franco, james stewart, jason, jason segel, jim carrey, jim morrison, jon hamm, juliette lewis, kevin costner, kevin smith, kevin spacey, martin scorsese, michael bay, michael cera, michael crichton, mr dewinter, paul giamatti, paul rudd, robert de niro, robert ludlum, roger avary, rogers hammerstein, scott turow, sean connery, seann william scott, steve buscemi, steve carell, smith\n",
      "\n",
      "Cluster 45: Representative Tag - 'child'\n",
      "Tags: dingo ate baby, baby, brother, child abuse, child, coen brother, family, family, homeless, father, kid, missing child, missionary, orphan, representation child, sister, sixfingered man, stranded, teen, teen movie, teenager, trucker, woman\n",
      "\n",
      "Cluster 46: Representative Tag - 'gangster'\n",
      "Tags: assassin, assassin, gang, gangster, gangster, hitman, killer, mafia, mobster, mobster, psychopath, serial killer\n",
      "\n",
      "Cluster 47: Representative Tag - 'robot android'\n",
      "Tags: android, anime, mecha, robot, robot android, samurai\n",
      "\n",
      "Cluster 48: Representative Tag - 'wedding'\n",
      "Tags: carnival, circus, pageant, prom, reunion, wedding, wedding\n",
      "\n",
      "Cluster 49: Representative Tag - 'train'\n",
      "Tags: bus, stranger train, subway, train, train, van gogh\n",
      "\n"
     ]
    }
   ],
   "source": [
    "print(\"\\nClusters and Their Tags:\")\n",
    "for cluster_num in range(num_clusters):\n",
    "    cluster_tags = tag_cluster_df[tag_cluster_df['cluster'] == cluster_num]['tag'].tolist()\n",
    "    representative_tag = condensed_tags[cluster_num]\n",
    "    print(f\"Cluster {cluster_num}: Representative Tag - '{representative_tag}'\")\n",
    "    print(f\"Tags: {', '.join(cluster_tags)}\\n\")\n"
   ]
  },
  {
   "cell_type": "markdown",
   "metadata": {},
   "source": [
    "Using contextual embeddings like BERT can capture the semantic meaning of tags more effectively than traditional word embeddings. This can lead to more accurate clustering and a condensed tag list that makes sense."
   ]
  },
  {
   "cell_type": "markdown",
   "metadata": {},
   "source": [
    "Preprocess the Tags\n",
    "\n",
    "We'll start by preprocessing the tags to ensure consistency."
   ]
  },
  {
   "cell_type": "code",
   "execution_count": null,
   "metadata": {},
   "outputs": [
    {
     "name": "stderr",
     "output_type": "stream",
     "text": [
      "[nltk_data] Downloading package punkt to /Users/user/nltk_data...\n",
      "[nltk_data]   Package punkt is already up-to-date!\n",
      "[nltk_data] Downloading package wordnet to /Users/user/nltk_data...\n",
      "[nltk_data]   Package wordnet is already up-to-date!\n",
      "[nltk_data] Downloading package stopwords to /Users/user/nltk_data...\n",
      "[nltk_data]   Package stopwords is already up-to-date!\n"
     ]
    }
   ],
   "source": [
    "import nltk\n",
    "import string\n",
    "import pandas as pd\n",
    "import numpy as np\n",
    "\n",
    "# Download necessary NLTK data files\n",
    "nltk.download('punkt')\n",
    "nltk.download('wordnet')\n",
    "nltk.download('stopwords')\n",
    "\n",
    "from nltk.tokenize import word_tokenize\n",
    "from nltk.corpus import stopwords\n",
    "from nltk.stem import WordNetLemmatizer\n",
    "\n",
    "# Initialize lemmatizer and stopwords\n",
    "lemmatizer = WordNetLemmatizer()\n",
    "stop_words = set(stopwords.words('english'))\n",
    "\n",
    "# Your list of unique tags (ensure 'unique_tags' is defined with your tags)\n",
    "tags_list = unique_tags  # Replace 'unique_tags' with your actual list\n",
    "\n",
    "# Preprocess tags\n",
    "def preprocess_tag(tag):\n",
    "    # Remove punctuation\n",
    "    tag = tag.translate(str.maketrans('', '', string.punctuation))\n",
    "    # Convert to lowercase\n",
    "    tag = tag.lower()\n",
    "    # Tokenize\n",
    "    tokens = word_tokenize(tag)\n",
    "    # Remove stopwords and lemmatize\n",
    "    tokens = [lemmatizer.lemmatize(word) for word in tokens if word not in stop_words]\n",
    "    # Rejoin tokens\n",
    "    preprocessed_tag = ' '.join(tokens)\n",
    "    return preprocessed_tag\n",
    "\n",
    "preprocessed_tags = [preprocess_tag(tag) for tag in tags_list]\n"
   ]
  },
  {
   "cell_type": "markdown",
   "metadata": {},
   "source": [
    "Generate BERT Embeddings for Tags\n",
    "\n",
    "We'll use the pre-trained BERT model from Hugging Face's transformers library to generate embeddings."
   ]
  },
  {
   "cell_type": "markdown",
   "metadata": {},
   "source": [
    "Load BERT Model\n",
    "\n",
    "We'll use the sentence-transformers library, which simplifies obtaining embeddings for sentences or phrases using BERT."
   ]
  },
  {
   "cell_type": "code",
   "execution_count": null,
   "metadata": {},
   "outputs": [],
   "source": [
    "from sentence_transformers import SentenceTransformer\n",
    "\n",
    "# Load the pre-trained BERT model (this may take some time)\n",
    "model = SentenceTransformer('all-MiniLM-L6-v2')  # A smaller, efficient model\n"
   ]
  },
  {
   "cell_type": "markdown",
   "metadata": {},
   "source": [
    "Generate Embeddings"
   ]
  },
  {
   "cell_type": "code",
   "execution_count": null,
   "metadata": {},
   "outputs": [],
   "source": [
    "# Generate embeddings for all preprocessed tags\n",
    "tag_embeddings = model.encode(preprocessed_tags)\n"
   ]
  },
  {
   "cell_type": "markdown",
   "metadata": {},
   "source": [
    "Cluster Similar Tags\n",
    "\n",
    "- We'll use Agglomerative Hierarchical Clustering to cluster the tag embeddings.\n"
   ]
  },
  {
   "cell_type": "code",
   "execution_count": null,
   "metadata": {},
   "outputs": [
    {
     "name": "stdout",
     "output_type": "stream",
     "text": [
      "Number of clusters formed: 50\n"
     ]
    }
   ],
   "source": [
    "from sklearn.cluster import AgglomerativeClustering\n",
    "\n",
    "# Decide on the number of clusters (adjust as needed)\n",
    "num_clusters = 50\n",
    "\n",
    "# Perform clustering\n",
    "clustering_model = AgglomerativeClustering(\n",
    "    n_clusters=num_clusters,\n",
    "    metric='euclidean',\n",
    "    linkage='ward'\n",
    ")\n",
    "clustering_model.fit(tag_embeddings)\n",
    "\n",
    "# Get cluster labels\n",
    "labels = clustering_model.labels_\n",
    "\n",
    "# Create a DataFrame to hold tags and their cluster labels\n",
    "tag_cluster_df = pd.DataFrame({'tag': preprocessed_tags, 'cluster': labels})\n",
    "\n",
    "print(f\"Number of clusters formed: {len(set(labels))}\")\n"
   ]
  },
  {
   "cell_type": "markdown",
   "metadata": {},
   "source": [
    "Generate Condensed Tag List\n",
    "- We'll select a representative tag for each cluster."
   ]
  },
  {
   "cell_type": "code",
   "execution_count": null,
   "metadata": {},
   "outputs": [],
   "source": [
    "from sklearn.metrics.pairwise import cosine_distances\n",
    "\n",
    "# Initialize list to store representative tags\n",
    "condensed_tags = []\n",
    "\n",
    "for cluster_num in range(num_clusters):\n",
    "    # Get all tags in this cluster\n",
    "    cluster_tags = tag_cluster_df[tag_cluster_df['cluster'] == cluster_num]\n",
    "    indices = cluster_tags.index\n",
    "    cluster_vectors = tag_embeddings[indices]\n",
    "    \n",
    "    # Compute the centroid of the cluster\n",
    "    centroid = np.mean(cluster_vectors, axis=0)\n",
    "    \n",
    "    # Calculate distances from each tag vector to the centroid\n",
    "    distances = cosine_distances(cluster_vectors, [centroid]).flatten()\n",
    "    \n",
    "    # Find the index of the tag closest to the centroid\n",
    "    closest_index = distances.argmin()\n",
    "    representative_tag = cluster_tags.iloc[closest_index]['tag']\n",
    "    \n",
    "    condensed_tags.append(representative_tag)\n"
   ]
  },
  {
   "cell_type": "markdown",
   "metadata": {},
   "source": [
    "Display the Condensed Tag List"
   ]
  },
  {
   "cell_type": "code",
   "execution_count": null,
   "metadata": {},
   "outputs": [
    {
     "name": "stdout",
     "output_type": "stream",
     "text": [
      "Condensed Tag List:\n",
      "1980s\n",
      "acting\n",
      "amazing\n",
      "artistic\n",
      "australia\n",
      "bad story\n",
      "business\n",
      "cartoon\n",
      "character\n",
      "comedy\n",
      "crime\n",
      "dialogue\n",
      "drug\n",
      "emma thompson\n",
      "ending\n",
      "fairy tale\n",
      "food\n",
      "funny\n",
      "gold\n",
      "gunfight\n",
      "horror\n",
      "imagination\n",
      "james cameron\n",
      "killer\n",
      "lawyer\n",
      "marion cotillard\n",
      "movie movie\n",
      "multiple story\n",
      "music\n",
      "nonlinear timeline\n",
      "oscar best actress\n",
      "parenthood\n",
      "philosophical\n",
      "poetic\n",
      "poor plot development\n",
      "priest\n",
      "racism\n",
      "romance\n",
      "scifi masterpiece\n",
      "scott turow\n",
      "sentimental\n",
      "singer\n",
      "space\n",
      "sport\n",
      "stylish\n",
      "superhero\n",
      "twist\n",
      "violence\n",
      "war\n",
      "whale\n"
     ]
    }
   ],
   "source": [
    "# Sort the condensed tags alphabetically\n",
    "condensed_tags_sorted = sorted(condensed_tags)\n",
    "\n",
    "print(\"Condensed Tag List:\")\n",
    "for tag in condensed_tags_sorted:\n",
    "    print(tag)\n"
   ]
  },
  {
   "cell_type": "markdown",
   "metadata": {},
   "source": [
    "Display Clusters and Their Tags"
   ]
  },
  {
   "cell_type": "code",
   "execution_count": null,
   "metadata": {},
   "outputs": [
    {
     "name": "stdout",
     "output_type": "stream",
     "text": [
      "\n",
      "Clusters and Their Tags:\n",
      "Cluster 0: Representative Tag - 'funny'\n",
      "Tags: annoying, bizarre, clever, crazy, dumb, funny, genius, hilarious, humorous, insane, insanity, insightful, interesting, interesting scenario, ironic, irony, nonsense, funny, parody, ridiculous, sarcasm, satire, satirical, silly, strange, stupid, stupid funny, stupid stupid, unconventional, unusual, funny, weird, witty\n",
      "\n",
      "Cluster 1: Representative Tag - 'philosophical'\n",
      "Tags: abstract, achronological, allegorical, american propaganda, antiintellectual, antisemitism, antiwar, consumerism, contemplative, dystopia, ethic, existential, existentialism, fighting system, free speech, freedom, freedom expression, genocide, holocaust, human right, humane, individualism, inhumane, journalism, mediacentralism, metaphorical, morality, motivational, nazi, new society, philosophical, philosophical issue, philosophy, philosopical, political commentary, political right versus left, psychological, psychology, purposefulness, r language, rstrong language, rebellion, revolution, revolutionary, slavery, social commentary, societal criticism, sustainability, symbolic, symbolism, system holism, terrorism\n",
      "\n",
      "Cluster 2: Representative Tag - 'romance'\n",
      "Tags: adultery, alone world, avantgarde romantic comedy, awkward, awkward romance, celebrity fetishism, cheating, dating, divorce, double life, embarassing scene, friendship, homosexuality, imaginary friend, lesbian, lesbian subtext, loneliness, male nudity, marriage, masculinity, maydecember romance, multiple personality, multiple role, notable nudity, nudity full frontal, nudity topless, prostitution, quirky romantic, rgraphic sexuality, romance, romantic, romantic comedy, sex, sexuality, singleton, solitude, start beautiful friendship, threesome, twin, virginity, voyeurism, wedding, wedding\n",
      "\n",
      "Cluster 3: Representative Tag - 'scifi masterpiece'\n",
      "Tags: alien, classic scifi, crappy sequel, darth vader, firefly, george lucas, guardian galaxy, indiana jones, intelligent scifi, luke skywalker, prequel, remade, remake, remaster, rogue, scifi, science fiction, scifi, scifi masterpiece, sequel, steven spielberg, unnecessary sequel\n",
      "\n",
      "Cluster 4: Representative Tag - 'priest'\n",
      "Tags: ancient rome, archaeology, ark covenant, bible, biblical reference, convent, cult, cult classic, cult film, demon, historical, history, judaism, medieval, missionary, moses, nun, nun, preacher, priest, prince, prodigy, queen victoria, rabbi, religion, roman, rome, royal cheese, royalty, saint, saint, scifi cult, televangelist\n",
      "\n",
      "Cluster 5: Representative Tag - 'scott turow'\n",
      "Tags: aardman, adam sandler, alan rickman, amy adam, andy garcia, andy kaufman, andy samberg, anthony hopkins, ben affleck, cameowhoopi goldberg, casey affleck, chris evans, chris klein, christian bale, chuck palahniuk, cole porter, dan aykroyd, david fincher, david thewlis, doc ock, dodie smith, dwayne johnson, ed harris, edward norton, einstein, eric bana, gary oldman, hal, harper lee, harrison ford, harvey keitel, henry darger, howard hughes, hugh jackman, ichabod crane, jack nicholson, jake gyllenhaal, jared leto, jason, jason biggs, jason segel, jay silent bob, jeff bridge, jesse eisenberg, jesse ventura, john cusack, john goodman, john grisham, josh brolin, justin timberlake, kevin costner, kevin smith, kevin spacey, kurt russell, lieutenant dan, lou gehrig, maggie gyllenhaal, mark ruffalo, mark wahlberg, michael bay, michael cera, michael crichton, neil patrick harris, nick nora charles, nick hornby, nicolas cage, palahnuik, paul giamatti, paul rudd, peter pan, philip k dick, philip seymour hoffman, robert de niro, robert downey jr, robert ludlum, robert penn warren, roger avary, rosebud, russell crowe, ryan reynolds, salute douglas sirk, scott turow, seth macfarlane, seth rogen, simon garfunkel, simon pegg, stephen crane, steve buscemi, steve carell, tom clancy, wesley snipe, smith\n",
      "\n",
      "Cluster 6: Representative Tag - 'marion cotillard'\n",
      "Tags: 2001like, clever chef rat, dingo ate baby, al pacino, andrew lloyd weber, byatt, astaire rogers, atmospheric, austere, ben stiller, bette davis, big name actor, big top, bizzare, borg, butler, capone, capote, captain nemo, chilly, christopher lloyd, clock, clousseau, cold, coulda contender, day hudson, duma, ensemble cast, eugene oneill, favelas, francis ford coppola, hammett, hawkeye, huey long, imdb top 250, inigo montoya, jean grey, jean reno, jekyll hyde, jon hamm, joss whedon, katzanzakis, klingons, large cast, lloyd dobbler, lonesome polecat, luc besson, macaulay culkin, macho, magneto, marion cotillard, mccarthy hearing, morrow, mr dewinter, nabokov, nathan fillion, nerd, nerd, ninotchka remake, ogre, oninous, othello, palme dor, peta wilson, radio, rasicm, rogers hammerstein, rug, se hinton, salieri, shenanigan, shia labeouf, sixfingered man, slasher, slim pickens, sofia coppola, stiller, thanos, might giant, thor, toga, tolkein, tolstoy, toto, trucker, truman capote, uma thurman, ummarti2006, viggo mortensen, von bulow, weather forecaster, wolverine, zither, zooey deschanel\n",
      "\n",
      "Cluster 7: Representative Tag - '1980s'\n",
      "Tags: 1900s, 1920s, 1950s, 1960s, 1970s, 1980s, 1990s, adolescence, college, high school, highschool, school, teen, teen movie, teenager\n",
      "\n",
      "Cluster 8: Representative Tag - 'drug'\n",
      "Tags: accident, addiction, alcoholism, autism, blind, blindness, cancer, cerebral, coma, deaf, deafness, diabetes, disability, drug abuse, drug overdose, drug, heroin, eye, insurance, marijuana, mental hospital, mental illness, plastic surgery, psychedelic, psychopath, ptsd, schizophrenia, terminal illness, tobacco, transplant\n",
      "\n",
      "Cluster 9: Representative Tag - 'sentimental'\n",
      "Tags: bittersweet, bleak, boring, brutal, claustrophobic, cryptic, depressing, depression, disappointing, dull, enjoyable, entertaining, exciting, fun, gentle, grim, gruesome, happpiness, harsh, heartbreaking, hope, intense, intimate, longing, love, love story, meditative, melancholy, moody, nostalgia, obsession, passion, poignant, relaxing, sad, sentimental, somber, suicide, thrilling, much love interest, touching, tragic, uncomfortable, unsettling, wry\n",
      "\n",
      "Cluster 10: Representative Tag - 'whale'\n",
      "Tags: ape, aquarium, bear, big wave, bird, bug bunny, camel, cattle drive, creature feature, dinosaur, dinosaur, dog, donkey, evolution, fish, flood, horse, island, keanu reef, leopard, lion, lion, mermaid, moon, ocean, parrot, pig, pool, river, shark, spelling bee, spider, surfing, veterinarian, werewolf, whale\n",
      "\n",
      "Cluster 11: Representative Tag - 'parenthood'\n",
      "Tags: abortion, adoption, baby, big brother, brother, building family, child, family, family, fatherson relationship, fatherhood, give back son, father, incest, infertility, kid, lack development, lack story, marx brother, missing child, motherhood, orphan, parenthood, pregnancy, sisterhood, sister, teenage pregnancy\n",
      "\n",
      "Cluster 12: Representative Tag - 'crime'\n",
      "Tags: alcatraz, child abuse, cia, conspiracy, conspiracy theory, corruption, crime, crime scene scrubbing, espionage, fbi, fugitive, hostage, investor corruption, kidnapping, organised crime, organized crime, paranoia, paranoid, police, police corruption, prison, ransom, rape, robbery, scandal, secret society, secret, small time criminal, spy, spying, catholic church corrupt organization history, undercover cop, wrongful imprisonment\n",
      "\n",
      "Cluster 13: Representative Tag - 'comedy'\n",
      "Tags: adult humor, bad humor, best comedy, black comedy, black humor, black humour, british comedy, comedy, crude humor, dark comedy, dark humor, great humor, humor, humour, offbeat comedy, sexual humor, standup comedy\n",
      "\n",
      "Cluster 14: Representative Tag - 'artistic'\n",
      "Tags: artsy, amazing artwork, art, art house, arthouse, artistic, artsy, beautiful scenery, beautiful visuals, beautifully filmed, best picture, graphic design, great performance, great visuals, masterpiece, painter, photographer, photography, scenic, van gogh, virtual reality, visual, visually appealing, visually striking, visually stunning\n",
      "\n",
      "Cluster 15: Representative Tag - 'imagination'\n",
      "Tags: alternate reality, alternate universe, amnesia, androidscyborgs, android, artificial intelligence, audience intelligence underestimated, backwards memory, computer, computer, creative, creativity, future, futuristic, illusion, imagination, imaginative, innovative, intellectual, intelligent, magic, memory, memory loss, needed autobots, predictable, random, realistic, retro, robot, robot android, self discovery, smart, surreal, surrealism, technology, unintelligent, unpredictable, wizard\n",
      "\n",
      "Cluster 16: Representative Tag - 'australia'\n",
      "Tags: afghanistan, africa, australia, boston, british, california, cambodia, canada, chile, china, england, europe, france, french, hungary, india, indonesia, ireland, istanbul, italy, japan, jungle, la, la vega, los angeles, mexico, michigan, middle east, new york, new york city, paris, russia, savannah, scotland, siam, small town, south africa, south america, southern u, suburbia, tokyo, turkey, venice, vietnam\n",
      "\n",
      "Cluster 17: Representative Tag - 'business'\n",
      "Tags: amtrak, bank, big corporation, business, captain america, captain kirk, city politics, dc, economics, empire state building, enterprise, financial crisis, franchise, governess, jazz, mathematics, mcu, military, mount rushmore, navy, peace corp, politics, president, real estate, ship, shipwreck, show business, star trek, stock market, stranger train, submarine, subway, titanic, train, train, union, wall street, watergate, workplace\n",
      "\n",
      "Cluster 18: Representative Tag - 'food'\n",
      "Tags: amish, asylum, bluegrass, bowling, bubba gump shrimp, bus, busniess, camp, christmas, coke, deep throat, diner, dumpster diving, dust bowl, food, gritty, halloween, homeless, hotel, mcdonalds, milkshake, moldy, muppets, nightclub, pizza beer, prom, pudding, pulp, quaker, recap, restaurant, reunion, shrimp, stapler, thanksgiving, tradition, wine\n",
      "\n",
      "Cluster 19: Representative Tag - 'gold'\n",
      "Tags: 70mm, 80, aging, aid, bechdel testfail, big budget, black hole, blood, blood splatter, bloody, class, classic, classic movie, cyberpunk, email, epic, everything want, excon, factory, falling, ferris wheel, first much better, general motor, gold, golden watch, heavy metal, heist, holy grail, hula hoop, immortality, lawn mower, long shot, long take, matchmaker, mouse, mining, money, moving, oil, old, oldie goodie, order, personal ad, postapocalyptic, postcollege, pow, quick cut, rich guy poor girl, screwball, sinbad, slick, slow, something everyone one saw without plan seeing kid, south park, space epic, splatter, spoof, stand, stop looking swan, swashbuckler, test tag, force, long, treasure hunt, series, updated classic, way long\n",
      "\n",
      "Cluster 20: Representative Tag - 'acting'\n",
      "Tags: acting, action, action choreography, action packed, bad acting, ballet, ballroom dance, broadway, costume drama, dance, dance marathon, dancing, drama, fast paced, great acting, horrible acting, horrible directing, live actionanimation, opera, poorly paced, slow action, slow paced, space action, space opera, stage, theater\n",
      "\n",
      "Cluster 21: Representative Tag - 'poetic'\n",
      "Tags: absorbing, beat poetry, boksdrama, brainwashing, claymation, cross dressing, crucifixion, downbeat, eccentric, elegiac, enigmatic, episodic, far fetched, feelgood, gore, goretastic, hallucinatory, heartwarming, highly quotable, inspirational, inspiring, introspection, invisibility, irreverent, melodramatic kind dumb, lyrical, made cry, melancholic, mindbending, mindblowing, mindfuck, mindless one liner, mirror, mockumentary, mystery, overcomplicated, overrated, poetic, procedural, purity essence, quotable, rviolence, reciprocal spectator, reflective, spaghetti western, special effect, tear jerker, tearjerking, tense, thought provoking, thoughtprovoking, transvestite, understated, unexplained, unoriginal, uplifting, vertriloquism, wapendrama, western, whimsical, wistful\n",
      "\n",
      "Cluster 22: Representative Tag - 'gunfight'\n",
      "Tags: big boy gun, boxing, boxing story, bromance, bromantic, brooch, coen bros, coen brother, con artist, con men, gun fu, gun tactic, gunfu, gunfight, gun, hit men, hitman, kung fu, martial art, men drag, mma, motherfucker, samurai, sniper, sword fight, younger men\n",
      "\n",
      "Cluster 23: Representative Tag - 'fairy tale'\n",
      "Tags: based book, based play, based true story, biography, book, dark fairy tale, faerie tale, fairy tale, fairy tale, fantasy, fantasy world, harry potter, high fantasy, lord ring, macbeth, modern fantasy, myth, mythology, narnia, shakespeare, shakespeare sort, tolkien\n",
      "\n",
      "Cluster 24: Representative Tag - 'multiple story'\n",
      "Tags: anthology, bad writing, good writing, intertwining storyline, interwoven storyline, monologue, multiple short story, multiple story, multiple storyline, narrated, nonlinear narrative, nonlinear storyline, short story, smart writing, storytelling, writing\n",
      "\n",
      "Cluster 25: Representative Tag - 'superhero'\n",
      "Tags: batman, comic book, comic, dc comic, harley quinn, harley quinns as, joker, knight, margot robbie, marvel, superhero, superhero team, superman\n",
      "\n",
      "Cluster 26: Representative Tag - 'poor plot development'\n",
      "Tags: bad plot, exquisite plotting, lack plot, original plot, plot hole, poor plot development, predictible plot, superficial plot, weak plot\n",
      "\n",
      "Cluster 27: Representative Tag - 'ending'\n",
      "Tags: alternate ending, confusing ending, ending, great ending, happy ending, powerful ending, stupid ending, surprise ending\n",
      "\n",
      "Cluster 28: Representative Tag - 'horror'\n",
      "Tags: creepy, dark, dark hero, disturbing, dreamlike, dream, dreamy, eerie, film noir, freak, ghost, ghost, haunting, horror, insomnia, night shyamalan, neonoir, nightmare, nocturnal, noir, psychological thriller, scary, suspense, suspenseful, thriller, vampire, vampire\n",
      "\n",
      "Cluster 29: Representative Tag - 'sport'\n",
      "Tags: adventure, baseball, basketball, biking, carnival, casino, chess, circus, engrossing adventure, figure skating, football, gambling, game, golf, golfing, magic board game, mountain climbing, olympics, road trip, skiing, soccer, space adventure, sport, video game adaptation, video game\n",
      "\n",
      "Cluster 30: Representative Tag - 'amazing'\n",
      "Tags: adorable, amazing, awesome, beautiful, brilliant, cool, fucked, good, lovely, mecha, sexy, sweet, well done\n",
      "\n",
      "Cluster 31: Representative Tag - 'music'\n",
      "Tags: bad music, beatles, beethoven, david bowie, drug music, good music, good soundtrack, great soundtrack, hip hop, indie record label, mozart, music, music business, music industry, new composer, notable soundtrack, rap, soundtrack, superb soundtrack\n",
      "\n",
      "Cluster 32: Representative Tag - 'war'\n",
      "Tags: apocalypse, atomic bomb, bomb, civil war, cold war, disaster, end world, fighting, gulf war, last man earth, modern war, nuclear disaster, nuclear war, post apocalyptic, star war, stranded, survival, tragedy, war, world war, world war ii\n",
      "\n",
      "Cluster 33: Representative Tag - 'violence'\n",
      "Tags: brutality, casual violence, domestic violence, meaningless violence, rdisturbing violent content including rape, rdisturbing violent image, rsome violence, rstrong bloody violence, violence, violence america, violent\n",
      "\n",
      "Cluster 34: Representative Tag - 'bad story'\n",
      "Tags: bad, bad as, bad joke, bad language, bad science, bad script, bad story, badass, claim true, evil child, foul language, good evil, lie, poor story, really bad, true story, truth\n",
      "\n",
      "Cluster 35: Representative Tag - 'nonlinear timeline'\n",
      "Tags: disjointed timeline, matrix, nonlinear, nonlinear timeline, nonlinear, nonlinear timeline, linear, time travel, timetravel\n",
      "\n",
      "Cluster 36: Representative Tag - 'cartoon'\n",
      "Tags: 2d animation, animation, anime, based tv show, biopic, cartoon, cgi, computer animation, conan, disney, disney animated feature, documentary, free download, netflix queue, dvd netflix, available netflix, pixar, reality tv, saturday night live, snl, television, tv, video\n",
      "\n",
      "Cluster 37: Representative Tag - 'dialogue'\n",
      "Tags: amazing dialogue, bad dialogue, conversation, dialogue, entirely dialogue, good dialogue, great dialogue, dialogue, poor dialogue\n",
      "\n",
      "Cluster 38: Representative Tag - 'racism'\n",
      "Tags: american indian, black white, blackandwhite, immigrant, immigration, interracial marriage, interracial romance, native american, prejudice, race, racism, white guilt\n",
      "\n",
      "Cluster 39: Representative Tag - 'twist'\n",
      "Tags: challenging, complicated, confusing, plot twist, simple, tedious, tension, tension building, tricky, twist, twist ending, twisted, twist turn\n",
      "\n",
      "Cluster 40: Representative Tag - 'singer'\n",
      "Tags: american idolatry, britpop, doll, dorothy, gal gadot, generation x, gintama, girl power, grace, halle berry, hayao miyazaki, hearst, hepburn tracy, heroine tight suit, jackie chan, lolita theme, loretta lynn, narrative pisstake, pageant, pearl buck, pee wee herman, pop culture reference, remix culture, rita hayworth dance, rolling stone, shangrila, singer, statue, stone age, stoner movie, stone summer, studio ghibli, entertainer, wonderwoman\n",
      "\n",
      "Cluster 41: Representative Tag - 'james cameron'\n",
      "Tags: adrien brody, alfred hitchcock, arnold schwarzenegger, arthur miller, ben kingsley, bill murray, bruce willis, charles dickens, christoph waltz, christopher nolan, colin farrell, daniel craig, daniel radcliffe, denzel washington, dickens, e forster, em forster, earnest, ewan mcgregor, george bernard shaw, george clooney, graham greene, hemingway, henry james, jaime pressly, james cameron, james fennimore cooper, james franco, james stewart, jim carrey, jim morrison, john malkovich, john travolta, johnny cash, johnny depp, king arthur, leonardo dicaprio, leonardo dicarpio, liam neeson, martin scorsese, matt damon, mel gibson, monty python, morgan freeman, norman bates, orlando bloom, oscar wilde, quentin tarantino, ralph fiennes, ray bradbury, roald dahl, robin williams, samuel l jackson, sean connery, seann william scott, stanley kubrick, stephen king, sundance award winner, tarantino, tennessee williams, tim burton, tom hank, tom hardy, travolta, trey parker, ferrell, woody harrelson\n",
      "\n",
      "Cluster 42: Representative Tag - 'oscar best actress'\n",
      "Tags: 06 oscar nominated best movie animation, academy award best supporting actress, oscar best actress, oscar best cinematography, oscar best effect visual effect, oscar best music original score, oscar best supporting actress\n",
      "\n",
      "Cluster 43: Representative Tag - 'killer'\n",
      "Tags: assassin, assassinintraining scene, assassination, assassin, british gangster, dead wife, deadpan, death, death penalty, fatalistic, gang, gangster, gangster, see dead people, killer, killerasprotagonist, mafia, mobster, mobster, murder, rob zombie, serial killer, zombie\n",
      "\n",
      "Cluster 44: Representative Tag - 'space'\n",
      "Tags: aviation, fastpaced, fastpaced dialogue, nasa, plane, settingspacespace ship, space, space craft, space station, space travel, spacecraft\n",
      "\n",
      "Cluster 45: Representative Tag - 'movie movie'\n",
      "Tags: amazing cinematography, animal movie, beautiful cinematography, chick flick, cinematography, directorial debut, film history, filmnoir, fun family movie, good cinematography, great cinematography, great movie, great screenplay, hollywood, independent film, movie business, movie, movie movie, seen cinema, short film\n",
      "\n",
      "Cluster 46: Representative Tag - 'stylish'\n",
      "Tags: aggressive, alter ego, anger, cheeky, cheesy, childish naivity, colorful, colourful, confrontational, controversial, cool style, cynical, different, easygoing, elegant, emotional, geeky, goofy, gothic, hippy, horrid characterisation, iconic, independent, menacing, seen, offensive, original, postmodern, quirky, rsustained strong stylized violence, revenge, seen, sophisticated, stylish, stylized, trippy, unique, vulgar\n",
      "\n",
      "Cluster 47: Representative Tag - 'character'\n",
      "Tags: character development, character study, character, cliche character, cruel character, great villain, hannibal lecter, hannibal lector, heroic bloodshed, interesting character, representation child, stop using useless character filler, many character, unlikely hero, villain nonexistent needed good story\n",
      "\n",
      "Cluster 48: Representative Tag - 'emma thompson'\n",
      "Tags: agatha christie, alicia vikander, angelina jolie, anne boleyn, anne hathaway, arthur c clarke, audrey tautou, brad pitt, brittany murphy, c lewis, cate blanchett, charlize theron, charlotte bronte, christina ricci, edith wharton, emilia clarke, emma, emma stone, emma thompson, eva green, katie, helena bonham carter, hilary swank, hot actress, jane austen, jennifer connelly, jennifer lawrence, jessica alba, julianne moore, juliette lewis, louisa may alcott, meryl streep, mila kunis, natalie portman, rachel mcadams, rachel weisz, renee zellweger, sexy female scientist, tilda swinton, winona ryder, woman, zoe kazan\n",
      "\n",
      "Cluster 49: Representative Tag - 'lawyer'\n",
      "Tags: court, courtroom drama, doctor, dr seuss, dr strange, housekeeper, jude law, justice, lawyer, lawyer, mad scientist, nanny, psychiatrist, teacher, teacher, widowswidowers\n",
      "\n"
     ]
    }
   ],
   "source": [
    "print(\"\\nClusters and Their Tags:\")\n",
    "for cluster_num in range(num_clusters):\n",
    "    cluster_tags_list = tag_cluster_df[tag_cluster_df['cluster'] == cluster_num]['tag'].tolist()\n",
    "    representative_tag = condensed_tags[cluster_num]\n",
    "    print(f\"Cluster {cluster_num}: Representative Tag - '{representative_tag}'\")\n",
    "    print(f\"Tags: {', '.join(cluster_tags_list)}\\n\")\n"
   ]
  },
  {
   "cell_type": "markdown",
   "metadata": {},
   "source": [
    "Additional Considerations\n",
    "Adjusting Clustering Parameters: If the condensed tag list doesn't make sense, try adjusting num_clusters or using different clustering algorithms (e.g., KMeans, DBSCAN).\n",
    "Semantic Cohesion: Use metrics like Silhouette Score to evaluate the quality of the clusters.\n",
    "Interactive Visualization: Tools like t-SNE or UMAP can help visualize high-dimensional embeddings in 2D space for inspection.\n",
    "\n",
    "Final Thoughts\n",
    "\n",
    "By using BERT embeddings, we've improved the semantic representation of tags, leading to more meaningful clustering and a condensed tag list that makes sense. This list can enhance the user experience by simplifying the selection of tags for personalized recommendations.\n",
    "\n"
   ]
  },
  {
   "cell_type": "markdown",
   "metadata": {},
   "source": [
    "Updated get_user_recommendations Function"
   ]
  },
  {
   "cell_type": "code",
   "execution_count": null,
   "metadata": {},
   "outputs": [],
   "source": [
    "def get_user_recommendations(user_id=None, num_recommendations=10, preferred_genres=None, preferred_tags=None):\n",
    "    \"\"\"\n",
    "    Generate personalized movie recommendations for a given user or based on preferred genres/tags.\n",
    "\n",
    "    Parameters:\n",
    "    - user_id (int, optional): The ID of the user. If None, recommendations will be based on preferred genres/tags.\n",
    "    - num_recommendations (int): The number of recommendations to return.\n",
    "    - preferred_genres (list, optional): A list of preferred genres.\n",
    "    - preferred_tags (list, optional): A list of preferred tags.\n",
    "\n",
    "    Returns:\n",
    "    - recommendations_df (DataFrame): A DataFrame containing the recommended movies,\n",
    "      their hybrid scores, and explanations.\n",
    "    \"\"\"\n",
    "    # Validate inputs\n",
    "    if user_id is not None and user_id not in ratings_df['userId'].unique():\n",
    "        print(f\"User ID {user_id} not found. Recommendations will be based on preferred genres/tags.\")\n",
    "        user_id = None\n",
    "\n",
    "    # Initialize variables\n",
    "    all_movie_ids = movies_df['movieId'].unique()\n",
    "\n",
    "    # Movies the user has already rated\n",
    "    if user_id is not None:\n",
    "        user_ratings = ratings_df[ratings_df['userId'] == user_id]\n",
    "        rated_movies = user_ratings['movieId'].tolist()\n",
    "    else:\n",
    "        user_ratings = pd.DataFrame()\n",
    "        rated_movies = []\n",
    "\n",
    "    # Movies the user hasn't rated yet\n",
    "    unrated_movies = [movie_id for movie_id in all_movie_ids if movie_id not in rated_movies]\n",
    "\n",
    "    # Collaborative Filtering Predictions using Neural Network Model\n",
    "    if user_id is not None and not user_ratings.empty:\n",
    "        # Map user_id to user_idx\n",
    "        if user_id in user_id_to_idx:\n",
    "            user_idx = user_id_to_idx[user_id]\n",
    "        else:\n",
    "            print(f\"User ID {user_id} not found in neural network model.\")\n",
    "            return None\n",
    "\n",
    "        # Map movie IDs to item indices\n",
    "        unrated_movie_indices = []\n",
    "        valid_movie_ids = []\n",
    "        for movie_id in unrated_movies:\n",
    "            if movie_id in movie_id_to_idx:\n",
    "                item_idx = movie_id_to_idx[movie_id]\n",
    "                unrated_movie_indices.append(item_idx)\n",
    "                valid_movie_ids.append(movie_id)\n",
    "\n",
    "        # Prepare input arrays\n",
    "        user_indices = np.full(len(unrated_movie_indices), user_idx)\n",
    "        item_indices = np.array(unrated_movie_indices)\n",
    "\n",
    "        # Make predictions using the neural network model\n",
    "        cf_scores = model.predict([user_indices, item_indices], batch_size=1024).flatten()\n",
    "\n",
    "        # Create DataFrame of predictions\n",
    "        cf_pred_df = pd.DataFrame({'movieId': valid_movie_ids, 'cf_score': cf_scores})\n",
    "    else:\n",
    "        cf_pred_df = pd.DataFrame(columns=['movieId', 'cf_score'])\n",
    "\n",
    "    # Content-Based Filtering Scores\n",
    "    # Build user profile vector based on preferences\n",
    "    # If user has ratings, combine their profile with preferred genres/tags\n",
    "    user_profile_tfidf = np.zeros(tfidf_matrix.shape[1])\n",
    "\n",
    "    # Incorporate preferred genres and tags\n",
    "    preference_text = ''\n",
    "    if preferred_genres:\n",
    "        # Ensure genres are in the unique genres list\n",
    "        valid_genres = [genre for genre in preferred_genres if genre in unique_genres]\n",
    "        preference_text += ' '.join(valid_genres) + ' '\n",
    "    if preferred_tags:\n",
    "        # Ensure tags are in the condensed tags list\n",
    "        valid_tags = [tag for tag in preferred_tags if tag in condensed_tags]\n",
    "        preference_text += ' '.join(valid_tags)\n",
    "    preference_text = preprocess(preference_text)\n",
    "\n",
    "    if preference_text:\n",
    "        # Transform preference text into TF-IDF vector\n",
    "        preference_vector = tfidf.transform([preference_text]).toarray().flatten()\n",
    "        # Combine with user profile\n",
    "        user_profile_tfidf += preference_vector * 2  # Weight preferences more heavily\n",
    "    else:\n",
    "        if user_profile_tfidf.sum() == 0:\n",
    "            print(\"No user ratings or valid preferences provided. Cannot generate recommendations.\")\n",
    "            return None\n",
    "\n",
    "    # Normalize the user profile vector\n",
    "    if np.linalg.norm(user_profile_tfidf) == 0:\n",
    "        user_profile_tfidf_normalized = user_profile_tfidf\n",
    "    else:\n",
    "        user_profile_tfidf_normalized = user_profile_tfidf / np.linalg.norm(user_profile_tfidf)\n",
    "\n",
    "    # Compute cosine similarity between user profile and all movie vectors\n",
    "    content_similarities = cosine_similarity([user_profile_tfidf_normalized], tfidf_matrix).flatten()\n",
    "\n",
    "    # Create content-based predictions for unrated movies\n",
    "    cb_predictions = []\n",
    "    for idx, movie_id in enumerate(movies_with_tags['movieId']):\n",
    "        if movie_id in unrated_movies:\n",
    "            cb_predictions.append((movie_id, content_similarities[idx]))\n",
    "    cb_pred_df = pd.DataFrame(cb_predictions, columns=['movieId', 'cb_score'])\n",
    "\n",
    "    # Merge predictions\n",
    "    if not cf_pred_df.empty:\n",
    "        hybrid_pred_df = pd.merge(cf_pred_df, cb_pred_df, on='movieId', how='inner')\n",
    "    else:\n",
    "        hybrid_pred_df = cb_pred_df.copy()\n",
    "        hybrid_pred_df['cf_score'] = np.nan  # Placeholder for consistency\n",
    "\n",
    "    # Calculate weights\n",
    "    if user_id is not None and not user_ratings.empty:\n",
    "        num_user_ratings = len(user_ratings)\n",
    "        max_ratings = ratings_df['userId'].value_counts().max()\n",
    "        cf_weight = num_user_ratings / max_ratings\n",
    "        cb_weight = 1 - cf_weight\n",
    "        # Ensure weights sum to 1\n",
    "        cf_weight = cf_weight / (cf_weight + cb_weight)\n",
    "        cb_weight = 1 - cf_weight\n",
    "    else:\n",
    "        cf_weight = 0.0\n",
    "        cb_weight = 1.0\n",
    "\n",
    "    # Compute hybrid score\n",
    "    hybrid_pred_df['hybrid_score'] = (cf_weight * hybrid_pred_df['cf_score'].fillna(0)) + (cb_weight * hybrid_pred_df['cb_score'])\n",
    "\n",
    "    # Merge with movies DataFrame to get titles and genres\n",
    "    hybrid_pred_df = pd.merge(hybrid_pred_df, movies_df[['movieId', 'title', 'genres']], on='movieId', how='left')\n",
    "\n",
    "    # Sort by hybrid score\n",
    "    hybrid_pred_df = hybrid_pred_df.sort_values(by='hybrid_score', ascending=False)\n",
    "\n",
    "    # Select the top N recommendations\n",
    "    top_recommendations = hybrid_pred_df.head(num_recommendations)\n",
    "\n",
    "    # Generate explanations\n",
    "    explanations = []\n",
    "    for idx, row in top_recommendations.iterrows():\n",
    "        explanation = \"\"\n",
    "        # High predicted preference score\n",
    "        if not np.isnan(row['cf_score']) and row['cf_score'] >= 0.5:\n",
    "            explanation += \"High predicted preference score. \"\n",
    "        # Matching genres\n",
    "        movie_genres = set(row['genres'])\n",
    "        matching_genres = set(preferred_genres or []) & movie_genres\n",
    "        if matching_genres:\n",
    "            explanation += f\"Includes your preferred genres: {', '.join(matching_genres)}. \"\n",
    "        # Similar content\n",
    "        if row['cb_score'] >= 0.5:\n",
    "            explanation += \"Similar content based on your preferences. \"\n",
    "        explanations.append(explanation.strip())\n",
    "\n",
    "    # Add explanations to the DataFrame\n",
    "    top_recommendations['explanation'] = explanations\n",
    "\n",
    "    # Reorder columns\n",
    "    recommendations_df = top_recommendations[['movieId', 'title', 'hybrid_score', 'explanation']]\n",
    "\n",
    "    return recommendations_df.reset_index(drop=True)\n"
   ]
  },
  {
   "cell_type": "code",
   "execution_count": null,
   "metadata": {},
   "outputs": [
    {
     "data": {
      "text/plain": [
       "['funny',\n",
       " 'philosophical',\n",
       " 'romance',\n",
       " 'scifi masterpiece',\n",
       " 'priest',\n",
       " 'scott turow',\n",
       " 'marion cotillard',\n",
       " '1980s',\n",
       " 'drug',\n",
       " 'sentimental',\n",
       " 'whale',\n",
       " 'parenthood',\n",
       " 'crime',\n",
       " 'comedy',\n",
       " 'artistic',\n",
       " 'imagination',\n",
       " 'australia',\n",
       " 'business',\n",
       " 'food',\n",
       " 'gold',\n",
       " 'acting',\n",
       " 'poetic',\n",
       " 'gunfight',\n",
       " 'fairy tale',\n",
       " 'multiple story',\n",
       " 'superhero',\n",
       " 'poor plot development',\n",
       " 'ending',\n",
       " 'horror',\n",
       " 'sport',\n",
       " 'amazing',\n",
       " 'music',\n",
       " 'war',\n",
       " 'violence',\n",
       " 'bad story',\n",
       " 'nonlinear timeline',\n",
       " 'cartoon',\n",
       " 'dialogue',\n",
       " 'racism',\n",
       " 'twist',\n",
       " 'singer',\n",
       " 'james cameron',\n",
       " 'oscar best actress',\n",
       " 'killer',\n",
       " 'space',\n",
       " 'movie movie',\n",
       " 'stylish',\n",
       " 'character',\n",
       " 'emma thompson',\n",
       " 'lawyer']"
      ]
     },
     "metadata": {},
     "output_type": "display_data"
    }
   ],
   "source": [
    "condensed_tags"
   ]
  },
  {
   "cell_type": "code",
   "execution_count": null,
   "metadata": {},
   "outputs": [
    {
     "name": "stdout",
     "output_type": "stream",
     "text": [
      "Recommendations Based on Your Preferences:\n",
      "   movieId                                         title  hybrid_score  \\\n",
      "0    69122                          Hangover, The (2009)           1.0   \n",
      "1   193565                     Gintama: The Movie (2010)           1.0   \n",
      "2     1732                      Big Lebowski, The (1998)           1.0   \n",
      "3      296                           Pulp Fiction (1994)           1.0   \n",
      "4    85565                            Chalet Girl (2011)           1.0   \n",
      "5   183611                             Game Night (2018)           1.0   \n",
      "6      413                               Airheads (1994)           1.0   \n",
      "7    67087                        I Love You, Man (2009)           1.0   \n",
      "8     4816                              Zoolander (2001)           1.0   \n",
      "9     8641  Anchorman: The Legend of Ron Burgundy (2004)           1.0   \n",
      "\n",
      "                                  explanation  \n",
      "0  Similar content based on your preferences.  \n",
      "1  Similar content based on your preferences.  \n",
      "2  Similar content based on your preferences.  \n",
      "3  Similar content based on your preferences.  \n",
      "4  Similar content based on your preferences.  \n",
      "5  Similar content based on your preferences.  \n",
      "6  Similar content based on your preferences.  \n",
      "7  Similar content based on your preferences.  \n",
      "8  Similar content based on your preferences.  \n",
      "9  Similar content based on your preferences.  \n"
     ]
    }
   ],
   "source": [
    "# Example usage\n",
    "preferred_genres = ['Romance', 'Action']  # User-selected genres\n",
    "preferred_tags = ['comedy']     # User-selected tags from condensed_tags\n",
    "num_recommendations = 10\n",
    "\n",
    "recommendations = get_user_recommendations(\n",
    "    user_id=None,  # or specify a user_id if available\n",
    "    num_recommendations=num_recommendations,\n",
    "    preferred_genres=preferred_genres,\n",
    "    preferred_tags=preferred_tags\n",
    ")\n",
    "\n",
    "print(\"Recommendations Based on Your Preferences:\")\n",
    "print(recommendations)"
   ]
  },
  {
   "cell_type": "markdown",
   "metadata": {},
   "source": [
    "Conclusion\n",
    "By incorporating the unique genres and the condensed tags into the get_user_recommendations function, we've enhanced its ability to generate personalized movie recommendations based on the user's specified interests. The function now:\n",
    "\n",
    "Validates and uses the user's preferred genres and tags.\n",
    "Combines collaborative filtering (if user ratings are available) with content-based filtering.\n",
    "Provides explanations for each recommendation, improving transparency and user trust."
   ]
  },
  {
   "cell_type": "code",
   "execution_count": null,
   "metadata": {},
   "outputs": [],
   "source": []
  }
 ],
 "metadata": {
  "kernelspec": {
   "display_name": "learn-env",
   "language": "python",
   "name": "python3"
  },
  "language_info": {
   "codemirror_mode": {
    "name": "ipython",
    "version": 3
   },
   "file_extension": ".py",
   "mimetype": "text/x-python",
   "name": "python",
   "nbconvert_exporter": "python",
   "pygments_lexer": "ipython3",
   "version": "3.8.5"
  }
 },
 "nbformat": 4,
 "nbformat_minor": 2
}
