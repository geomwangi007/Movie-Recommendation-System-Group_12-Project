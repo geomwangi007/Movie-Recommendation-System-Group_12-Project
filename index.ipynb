{
 "cells": [
  {
   "cell_type": "markdown",
   "metadata": {},
   "source": [
    "# The Flick Pick Engine"
   ]
  },
  {
   "cell_type": "markdown",
   "metadata": {},
   "source": [
    "# \"Intelligent Movie Recommendations with Neural Networks and NLP\""
   ]
  },
  {
   "cell_type": "markdown",
   "metadata": {},
   "source": [
    "## Problem Statement\n",
    "In today's digital age, the sheer volume of available movies has grown exponentially, leading to an overwhelming choice paralysis for viewers seeking content that aligns with their personal tastes. Traditional recommendation systems often fall short by providing generic suggestions based on popularity or simplistic user behaviors, failing to capture the nuanced preferences of individual users. This lack of personalization results in a suboptimal viewing experience, where users spend more time searching for movies than enjoying them.\n",
    "\n",
    "The FlickPick Engine aims to solve this problem by developing an intelligent movie recommendation system that delivers highly personalized and relevant suggestions to users. By leveraging advanced machine learning techniques—specifically neural networks for collaborative filtering and Natural Language Processing (NLP) for content analysis—the system can understand and interpret both user preferences and movie attributes on a deeper level.\n",
    "\n",
    "By addressing the challenges of information overload and impersonal recommendations, the FlickPick Engine enhances the movie discovery process. It empowers users to effortlessly find films that resonate with their unique tastes, thereby improving user satisfaction and engagement with the platform."
   ]
  },
  {
   "cell_type": "markdown",
   "metadata": {},
   "source": [
    "## Data Understanding\n",
    "To develop the FlickPick Engine, we utilized the MovieLens 25M Dataset, a widely recognized dataset in the recommendation systems domain. This dataset provides a rich source of user ratings, movie metadata, and user-generated tags, enabling the creation of a robust and personalized movie recommendation system.\n",
    "\n",
    "### Data Sources\n",
    "1. Ratings Data (ratings.csv): Contains 25 million ratings ranging from 0.5 to 5.0, provided by 162,541 users on 62,423 movies.\n",
    "2. Movies Data (movies.csv): Includes movie IDs, titles, and genres for all movies rated in the dataset.\n",
    "3. Tags Data (tags.csv): Consists of 1.1 million user-generated tags applied to movies, offering additional contextual information.\n",
    "4. Links Data (links.csv): Provides identifiers that link MovieLens movie IDs with IDs from other databases like IMDb and TMDb."
   ]
  },
  {
   "cell_type": "markdown",
   "metadata": {},
   "source": [
    "## Data Loading"
   ]
  },
  {
   "cell_type": "code",
   "execution_count": 1,
   "metadata": {},
   "outputs": [],
   "source": [
    "# Importing the necessary libraries\n",
    "import pandas as pd\n",
    "import numpy as np\n",
    "import matplotlib.pyplot as plt\n",
    "import seaborn as sns\n",
    "from wordcloud import WordCloud\n",
    "import warnings\n",
    "warnings.filterwarnings('ignore')"
   ]
  },
  {
   "cell_type": "code",
   "execution_count": 10,
   "metadata": {},
   "outputs": [],
   "source": [
    "# load the datasets\n",
    "links_df = pd.read_csv('Data/ml-latest-small/links.csv')\n",
    "movies_df = pd.read_csv('Data/ml-latest-small/movies.csv')\n",
    "ratings_df = pd.read_csv('Data/ml-latest-small/ratings.csv')\n",
    "tags_df = pd.read_csv('Data/ml-latest-small/tags.csv')"
   ]
  },
  {
   "cell_type": "markdown",
   "metadata": {},
   "source": [
    "### Inspecting the structure of the datasets"
   ]
  },
  {
   "cell_type": "code",
   "execution_count": 11,
   "metadata": {},
   "outputs": [
    {
     "name": "stdout",
     "output_type": "stream",
     "text": [
      "<class 'pandas.core.frame.DataFrame'>\n",
      "RangeIndex: 9742 entries, 0 to 9741\n",
      "Data columns (total 3 columns):\n",
      " #   Column   Non-Null Count  Dtype  \n",
      "---  ------   --------------  -----  \n",
      " 0   movieId  9742 non-null   int64  \n",
      " 1   imdbId   9742 non-null   int64  \n",
      " 2   tmdbId   9734 non-null   float64\n",
      "dtypes: float64(1), int64(2)\n",
      "memory usage: 228.5 KB\n"
     ]
    }
   ],
   "source": [
    "links_df.info()"
   ]
  },
  {
   "cell_type": "code",
   "execution_count": 12,
   "metadata": {},
   "outputs": [
    {
     "name": "stdout",
     "output_type": "stream",
     "text": [
      "<class 'pandas.core.frame.DataFrame'>\n",
      "RangeIndex: 9742 entries, 0 to 9741\n",
      "Data columns (total 3 columns):\n",
      " #   Column   Non-Null Count  Dtype \n",
      "---  ------   --------------  ----- \n",
      " 0   movieId  9742 non-null   int64 \n",
      " 1   title    9742 non-null   object\n",
      " 2   genres   9742 non-null   object\n",
      "dtypes: int64(1), object(2)\n",
      "memory usage: 228.5+ KB\n"
     ]
    }
   ],
   "source": [
    "movies_df.info()"
   ]
  },
  {
   "cell_type": "code",
   "execution_count": 13,
   "metadata": {},
   "outputs": [
    {
     "name": "stdout",
     "output_type": "stream",
     "text": [
      "<class 'pandas.core.frame.DataFrame'>\n",
      "RangeIndex: 100836 entries, 0 to 100835\n",
      "Data columns (total 4 columns):\n",
      " #   Column     Non-Null Count   Dtype  \n",
      "---  ------     --------------   -----  \n",
      " 0   userId     100836 non-null  int64  \n",
      " 1   movieId    100836 non-null  int64  \n",
      " 2   rating     100836 non-null  float64\n",
      " 3   timestamp  100836 non-null  int64  \n",
      "dtypes: float64(1), int64(3)\n",
      "memory usage: 3.1 MB\n"
     ]
    }
   ],
   "source": [
    "ratings_df.info()"
   ]
  },
  {
   "cell_type": "code",
   "execution_count": 14,
   "metadata": {},
   "outputs": [
    {
     "name": "stdout",
     "output_type": "stream",
     "text": [
      "<class 'pandas.core.frame.DataFrame'>\n",
      "RangeIndex: 3683 entries, 0 to 3682\n",
      "Data columns (total 4 columns):\n",
      " #   Column     Non-Null Count  Dtype \n",
      "---  ------     --------------  ----- \n",
      " 0   userId     3683 non-null   int64 \n",
      " 1   movieId    3683 non-null   int64 \n",
      " 2   tag        3683 non-null   object\n",
      " 3   timestamp  3683 non-null   int64 \n",
      "dtypes: int64(3), object(1)\n",
      "memory usage: 115.2+ KB\n"
     ]
    }
   ],
   "source": [
    "tags_df.info()"
   ]
  },
  {
   "cell_type": "markdown",
   "metadata": {},
   "source": [
    "### Checking for missing values and duplicates"
   ]
  },
  {
   "cell_type": "code",
   "execution_count": 24,
   "metadata": {},
   "outputs": [
    {
     "data": {
      "text/plain": [
       "({'missing_values': movieId    0\n",
       "  imdbId     0\n",
       "  tmdbId     0\n",
       "  dtype: int64,\n",
       "  'duplicates': 0},\n",
       " {'missing_values': movieId       0\n",
       "  title         0\n",
       "  genres     9729\n",
       "  year          0\n",
       "  dtype: int64,\n",
       "  'duplicates': 0},\n",
       " {'missing_values': userId       0\n",
       "  movieId      0\n",
       "  rating       0\n",
       "  timestamp    0\n",
       "  dtype: int64,\n",
       "  'duplicates': 0,\n",
       "  'invalid_ratings': 0},\n",
       " {'missing_values': userId       0\n",
       "  movieId      0\n",
       "  tag          0\n",
       "  timestamp    0\n",
       "  dtype: int64,\n",
       "  'duplicates': 0})"
      ]
     },
     "execution_count": 24,
     "metadata": {},
     "output_type": "execute_result"
    }
   ],
   "source": [
    "# Check for missing values and duplicates\n",
    "links_info = {\n",
    "    \"missing_values\": links_df.isnull().sum(),\n",
    "    \"duplicates\": links_df.duplicated().sum()\n",
    "}\n",
    "\n",
    "movies_info = {\n",
    "    \"missing_values\": movies_df.isnull().sum(),\n",
    "    \"duplicates\": movies_df.duplicated().sum()\n",
    "}\n",
    "\n",
    "ratings_info = {\n",
    "    \"missing_values\": ratings_df.isnull().sum(),\n",
    "    \"duplicates\": ratings_df.duplicated().sum(),\n",
    "    \"invalid_ratings\": ratings_df[~ratings_df['rating'].between(0.5, 5)].shape[0]\n",
    "}\n",
    "\n",
    "tags_info = {\n",
    "    \"missing_values\": tags_df.isnull().sum(),\n",
    "    \"duplicates\": tags_df.duplicated().sum()\n",
    "}\n",
    "\n",
    "# Output the inspection results for each dataset\n",
    "links_info, movies_info, ratings_info, tags_info"
   ]
  },
  {
   "cell_type": "markdown",
   "metadata": {},
   "source": [
    "1. links.csv:\n",
    "\n",
    "- Missing Values: There are 8 missing values in the tmdbId column.\n",
    "- Duplicates: There are no duplicate rows.\n",
    "2. movies.csv:\n",
    "\n",
    "- Missing Values: No missing values were found.\n",
    "- Duplicates: There are no duplicate rows.\n",
    "3. ratings.csv:\n",
    "\n",
    "- Missing Values: No missing values were found.\n",
    "- Duplicates: There are no duplicate rows.\n",
    "- Invalid Ratings: All ratings are valid, meaning they fall within the expected range (0.5 to 5).\n",
    "4. tags.csv:\n",
    "\n",
    "- Missing Values: No missing values were found.\n",
    "- Duplicates: There are no duplicate rows."
   ]
  },
  {
   "cell_type": "code",
   "execution_count": 16,
   "metadata": {},
   "outputs": [],
   "source": [
    "# Drop rows with missing tmdbId\n",
    "links_df = links_df.dropna(subset=['tmdbId'])"
   ]
  },
  {
   "cell_type": "code",
   "execution_count": 17,
   "metadata": {},
   "outputs": [
    {
     "data": {
      "text/plain": [
       "(movieId      int64\n",
       " imdbId       int64\n",
       " tmdbId     float64\n",
       " dtype: object,\n",
       " movieId     int64\n",
       " title      object\n",
       " genres     object\n",
       " dtype: object,\n",
       " userId         int64\n",
       " movieId        int64\n",
       " rating       float64\n",
       " timestamp      int64\n",
       " dtype: object,\n",
       " userId        int64\n",
       " movieId       int64\n",
       " tag          object\n",
       " timestamp     int64\n",
       " dtype: object)"
      ]
     },
     "execution_count": 17,
     "metadata": {},
     "output_type": "execute_result"
    }
   ],
   "source": [
    "# Check the current data types of each column in the datasets\n",
    "links_dtypes = links_df.dtypes\n",
    "movies_dtypes = movies_df.dtypes\n",
    "ratings_dtypes = ratings_df.dtypes\n",
    "tags_dtypes = tags_df.dtypes\n",
    "\n",
    "# Review data types\n",
    "links_dtypes, movies_dtypes, ratings_dtypes, tags_dtypes"
   ]
  },
  {
   "cell_type": "markdown",
   "metadata": {},
   "source": [
    "1. links.csv:\n",
    "\n",
    "- movieId: int64 (appropriate)\n",
    "- imdbId: int64 (appropriate)\n",
    "- tmdbId: float64 (should be int64, as tmdbId is an identifier and doesn't need decimal precision)\n",
    "2. movies.csv:\n",
    "\n",
    "- movieId: int64 (appropriate)\n",
    "- title: object (appropriate for movie titles)\n",
    "- genres: object (appropriate for genres, which are stored as strings)\n",
    "3. ratings.csv:\n",
    "\n",
    "- userId: int64 (appropriate)\n",
    "- movieId: int64 (appropriate)\n",
    "- rating: float64 (appropriate since ratings have decimal points)\n",
    "- timestamp: int64 (appropriate for Unix timestamps)\n",
    "4. tags.csv:\n",
    "\n",
    "- userId: int64 (appropriate)\n",
    "- movieId: int64 (appropriate)\n",
    "- tag: object (appropriate for textual tags)\n",
    "- timestamp: int64 (appropriate for Unix timestamps)\n",
    "\n",
    "Adjustment:\n",
    "\n",
    "In links.csv, the tmdbId column should be converted to int64 because it represents a unique identifier"
   ]
  },
  {
   "cell_type": "code",
   "execution_count": 18,
   "metadata": {},
   "outputs": [],
   "source": [
    "# Convert tmdbId to int64\n",
    "links_df['tmdbId'] = links_df['tmdbId'].astype('int64')"
   ]
  },
  {
   "cell_type": "markdown",
   "metadata": {},
   "source": [
    "## Data Visualization"
   ]
  },
  {
   "cell_type": "markdown",
   "metadata": {},
   "source": [
    "First Lets look at the distribution of movie ratings\n",
    "\n",
    "Purpose:\n",
    "\n",
    "Understand the overall distribution of movie ratings.\n",
    "\n",
    "Identify any biases (e.g., users tending to give higher ratings).\n",
    "\n",
    "Identify the most common ratings (e.g., peaks at whole numbers like 4.0 or 5.0).\n",
    "\n",
    "Assess whether the distribution is skewed toward higher or lower ratings."
   ]
  },
  {
   "cell_type": "code",
   "execution_count": 19,
   "metadata": {},
   "outputs": [
    {
     "data": {
      "image/png": "[encoded data removed]",
      "text/plain": [
       "<Figure size 576x432 with 1 Axes>"
      ]
     },
     "metadata": {
      "needs_background": "light"
     },
     "output_type": "display_data"
    }
   ],
   "source": [
    "# Plot histogram\n",
    "plt.figure(figsize=(8, 6))\n",
    "sns.histplot(ratings_df['rating'], bins=10)\n",
    "plt.title('Distribution of Movie Ratings')\n",
    "plt.xlabel('Rating')\n",
    "plt.ylabel('Count')\n",
    "plt.show()"
   ]
  },
  {
   "cell_type": "markdown",
   "metadata": {},
   "source": [
    "- Skew Towards Higher Ratings: The distribution is right-skewed, with most ratings clustering around 3, 4, and 5. Ratings of 4 are the most frequent, indicating that users generally rate movies quite positively.\n",
    "\n",
    "- Few Low Ratings: There are relatively few ratings of 1 and 2, which suggests that users may be less likely to give movies extremely low scores, or that most of the movies in the dataset are well-regarded.\n",
    "\n",
    "- Peak at Rating 4: The highest count of ratings is around 4, suggesting that many users find the movies to be above average but not necessarily perfect.\n",
    "\n",
    "This type of distribution is common in user-driven ratings, where users tend to be more inclined to rate items positively than negatively.\n"
   ]
  },
  {
   "cell_type": "markdown",
   "metadata": {},
   "source": [
    "Now let's have a look at the Distribution of Ratings per User\n",
    "\n",
    "Examine how many ratings each user has provided.\n",
    "\n",
    "Identify active users versus casual users."
   ]
  },
  {
   "cell_type": "code",
   "execution_count": 20,
   "metadata": {},
   "outputs": [
    {
     "data": {
      "image/png": "[encoded data removed]",
      "text/plain": [
       "<Figure size 720x432 with 1 Axes>"
      ]
     },
     "metadata": {
      "needs_background": "light"
     },
     "output_type": "display_data"
    }
   ],
   "source": [
    "# Calculate number of ratings per user\n",
    "user_rating_counts = ratings_df.groupby('userId')['rating'].count()\n",
    "\n",
    "# Plot histogram\n",
    "plt.figure(figsize=(10, 6))\n",
    "sns.histplot(user_rating_counts, bins=50, log_scale=(False, True))\n",
    "plt.title('Number of Ratings per User')\n",
    "plt.xlabel('Number of Ratings')\n",
    "plt.ylabel('Number of Users (log scale)')\n",
    "plt.show()\n"
   ]
  },
  {
   "cell_type": "markdown",
   "metadata": {},
   "source": [
    "The distribution is often long-tailed, with a few users providing many ratings and many users providing few ratings.\n",
    "- Power-Law Distribution: The distribution exhibits a power-law trend, where most users rate very few movies, and only a few users provide a large number of ratings. This type of behavior is typical in user-generated content datasets, often referred to as the \"long tail.\"\n",
    "\n",
    "- Majority Have Rated Few Movies: A significant number of users have rated fewer than 100 movies, which suggests that casual users dominate the dataset.\n",
    "\n",
    "- Heavy Users: There are a small number of users who have rated over 500 movies, with some even rating over 1000. These \"heavy users\" contribute disproportionately to the number of total ratings in the dataset."
   ]
  },
  {
   "cell_type": "markdown",
   "metadata": {},
   "source": [
    "Next we look at the Distribution of Ratings per Movie\n",
    "\n",
    "To determine how many ratings each movie has received.and identify popular movies versus obscure ones."
   ]
  },
  {
   "cell_type": "code",
   "execution_count": 21,
   "metadata": {},
   "outputs": [
    {
     "data": {
      "image/png": "[encoded data removed]",
      "text/plain": [
       "<Figure size 720x432 with 1 Axes>"
      ]
     },
     "metadata": {
      "needs_background": "light"
     },
     "output_type": "display_data"
    }
   ],
   "source": [
    "# Calculate number of ratings per movie\n",
    "movie_rating_counts = ratings_df.groupby('movieId')['rating'].count()\n",
    "\n",
    "# Plot histogram\n",
    "plt.figure(figsize=(10, 6))\n",
    "sns.histplot(movie_rating_counts, bins=50, log_scale=(False, True))\n",
    "plt.title('Number of Ratings per Movie')\n",
    "plt.xlabel('Number of Ratings')\n",
    "plt.ylabel('Number of Movies (log scale)')\n",
    "plt.show()\n"
   ]
  },
  {
   "cell_type": "markdown",
   "metadata": {},
   "source": [
    "Similar to users, movies often follow a long-tailed distribution.\n",
    "\n",
    "Important for understanding the sparsity of the dataset.\n",
    "\n",
    "- Many Movies with Few Ratings: There is a large count of movies that have fewer than 50 ratings, highlighting the long tail effect, where many niche or less popular movies do not receive much feedback.\n",
    "\n",
    "- Highly Rated Movies are Few: A smaller number of movies have received over 200 ratings. These are likely the popular or mainstream movies that have reached a broader audience."
   ]
  },
  {
   "cell_type": "markdown",
   "metadata": {},
   "source": [
    "Genre Popularity\n",
    "\n",
    "To identify the most common genres in the dataset and understand genre distribution to inform content-based filtering."
   ]
  },
  {
   "cell_type": "code",
   "execution_count": 22,
   "metadata": {},
   "outputs": [
    {
     "data": {
      "image/png": "[encoded data removed]",
      "text/plain": [
       "<Figure size 864x432 with 1 Axes>"
      ]
     },
     "metadata": {
      "needs_background": "light"
     },
     "output_type": "display_data"
    }
   ],
   "source": [
    "# Split genres and explode into individual rows\n",
    "movies_df['genres'] = movies_df['genres'].str.split('|')\n",
    "genres_exploded = movies_df.explode('genres')\n",
    "\n",
    "# Count genres\n",
    "genre_counts = genres_exploded['genres'].value_counts()\n",
    "\n",
    "# Plot bar chart\n",
    "plt.figure(figsize=(12, 6))\n",
    "sns.barplot(x=genre_counts.index, y=genre_counts.values)\n",
    "plt.title('Genre Popularity')\n",
    "plt.xlabel('Genre')\n",
    "plt.ylabel('Number of Movies')\n",
    "plt.xticks(rotation=45)\n",
    "plt.show()"
   ]
  },
  {
   "cell_type": "markdown",
   "metadata": {},
   "source": [
    "Identify dominant genres (e.g., Drama, Comedy).\n",
    "Helps in balancing genre representation in recommendations."
   ]
  },
  {
   "cell_type": "markdown",
   "metadata": {},
   "source": [
    "Next lets look at the Genre Distribution Over Time and analyze how genre popularity has changed over the years.\n",
    "Spot trends in movie production."
   ]
  },
  {
   "cell_type": "code",
   "execution_count": 23,
   "metadata": {},
   "outputs": [
    {
     "ename": "ValueError",
     "evalue": "min() arg is an empty sequence",
     "output_type": "error",
     "traceback": [
      "\u001b[1;31m---------------------------------------------------------------------------\u001b[0m",
      "\u001b[1;31mValueError\u001b[0m                                Traceback (most recent call last)",
      "\u001b[1;32m<ipython-input-23-b22a504eac77>\u001b[0m in \u001b[0;36m<module>\u001b[1;34m\u001b[0m\n\u001b[0;32m     17\u001b[0m \u001b[1;31m# Plot genre counts over time\u001b[0m\u001b[1;33m\u001b[0m\u001b[1;33m\u001b[0m\u001b[1;33m\u001b[0m\u001b[0m\n\u001b[0;32m     18\u001b[0m \u001b[0mplt\u001b[0m\u001b[1;33m.\u001b[0m\u001b[0mfigure\u001b[0m\u001b[1;33m(\u001b[0m\u001b[0mfigsize\u001b[0m\u001b[1;33m=\u001b[0m\u001b[1;33m(\u001b[0m\u001b[1;36m12\u001b[0m\u001b[1;33m,\u001b[0m \u001b[1;36m6\u001b[0m\u001b[1;33m)\u001b[0m\u001b[1;33m)\u001b[0m\u001b[1;33m\u001b[0m\u001b[1;33m\u001b[0m\u001b[0m\n\u001b[1;32m---> 19\u001b[1;33m \u001b[0msns\u001b[0m\u001b[1;33m.\u001b[0m\u001b[0mcountplot\u001b[0m\u001b[1;33m(\u001b[0m\u001b[0mdata\u001b[0m\u001b[1;33m=\u001b[0m\u001b[0mgenre_year\u001b[0m\u001b[1;33m,\u001b[0m \u001b[0mx\u001b[0m\u001b[1;33m=\u001b[0m\u001b[1;34m'year'\u001b[0m\u001b[1;33m,\u001b[0m \u001b[0mhue\u001b[0m\u001b[1;33m=\u001b[0m\u001b[1;34m'genres'\u001b[0m\u001b[1;33m,\u001b[0m \u001b[0mpalette\u001b[0m\u001b[1;33m=\u001b[0m\u001b[1;34m'tab10'\u001b[0m\u001b[1;33m)\u001b[0m\u001b[1;33m\u001b[0m\u001b[1;33m\u001b[0m\u001b[0m\n\u001b[0m\u001b[0;32m     20\u001b[0m \u001b[1;33m\u001b[0m\u001b[0m\n\u001b[0;32m     21\u001b[0m \u001b[0mplt\u001b[0m\u001b[1;33m.\u001b[0m\u001b[0mtitle\u001b[0m\u001b[1;33m(\u001b[0m\u001b[1;34m'Genre Distribution Over Time'\u001b[0m\u001b[1;33m)\u001b[0m\u001b[1;33m\u001b[0m\u001b[1;33m\u001b[0m\u001b[0m\n",
      "\u001b[1;32mc:\\Users\\Hp\\AppData\\Local\\anaconda3\\envs\\learn-env\\lib\\site-packages\\seaborn\\_decorators.py\u001b[0m in \u001b[0;36minner_f\u001b[1;34m(*args, **kwargs)\u001b[0m\n\u001b[0;32m     44\u001b[0m             )\n\u001b[0;32m     45\u001b[0m         \u001b[0mkwargs\u001b[0m\u001b[1;33m.\u001b[0m\u001b[0mupdate\u001b[0m\u001b[1;33m(\u001b[0m\u001b[1;33m{\u001b[0m\u001b[0mk\u001b[0m\u001b[1;33m:\u001b[0m \u001b[0marg\u001b[0m \u001b[1;32mfor\u001b[0m \u001b[0mk\u001b[0m\u001b[1;33m,\u001b[0m \u001b[0marg\u001b[0m \u001b[1;32min\u001b[0m \u001b[0mzip\u001b[0m\u001b[1;33m(\u001b[0m\u001b[0msig\u001b[0m\u001b[1;33m.\u001b[0m\u001b[0mparameters\u001b[0m\u001b[1;33m,\u001b[0m \u001b[0margs\u001b[0m\u001b[1;33m)\u001b[0m\u001b[1;33m}\u001b[0m\u001b[1;33m)\u001b[0m\u001b[1;33m\u001b[0m\u001b[1;33m\u001b[0m\u001b[0m\n\u001b[1;32m---> 46\u001b[1;33m         \u001b[1;32mreturn\u001b[0m \u001b[0mf\u001b[0m\u001b[1;33m(\u001b[0m\u001b[1;33m**\u001b[0m\u001b[0mkwargs\u001b[0m\u001b[1;33m)\u001b[0m\u001b[1;33m\u001b[0m\u001b[1;33m\u001b[0m\u001b[0m\n\u001b[0m\u001b[0;32m     47\u001b[0m     \u001b[1;32mreturn\u001b[0m \u001b[0minner_f\u001b[0m\u001b[1;33m\u001b[0m\u001b[1;33m\u001b[0m\u001b[0m\n\u001b[0;32m     48\u001b[0m \u001b[1;33m\u001b[0m\u001b[0m\n",
      "\u001b[1;32mc:\\Users\\Hp\\AppData\\Local\\anaconda3\\envs\\learn-env\\lib\\site-packages\\seaborn\\categorical.py\u001b[0m in \u001b[0;36mcountplot\u001b[1;34m(x, y, hue, data, order, hue_order, orient, color, palette, saturation, dodge, ax, **kwargs)\u001b[0m\n\u001b[0;32m   3583\u001b[0m         \u001b[1;32mraise\u001b[0m \u001b[0mValueError\u001b[0m\u001b[1;33m(\u001b[0m\u001b[1;34m\"Cannot pass values for both `x` and `y`\"\u001b[0m\u001b[1;33m)\u001b[0m\u001b[1;33m\u001b[0m\u001b[1;33m\u001b[0m\u001b[0m\n\u001b[0;32m   3584\u001b[0m \u001b[1;33m\u001b[0m\u001b[0m\n\u001b[1;32m-> 3585\u001b[1;33m     plotter = _CountPlotter(\n\u001b[0m\u001b[0;32m   3586\u001b[0m         \u001b[0mx\u001b[0m\u001b[1;33m,\u001b[0m \u001b[0my\u001b[0m\u001b[1;33m,\u001b[0m \u001b[0mhue\u001b[0m\u001b[1;33m,\u001b[0m \u001b[0mdata\u001b[0m\u001b[1;33m,\u001b[0m \u001b[0morder\u001b[0m\u001b[1;33m,\u001b[0m \u001b[0mhue_order\u001b[0m\u001b[1;33m,\u001b[0m\u001b[1;33m\u001b[0m\u001b[1;33m\u001b[0m\u001b[0m\n\u001b[0;32m   3587\u001b[0m         \u001b[0mestimator\u001b[0m\u001b[1;33m,\u001b[0m \u001b[0mci\u001b[0m\u001b[1;33m,\u001b[0m \u001b[0mn_boot\u001b[0m\u001b[1;33m,\u001b[0m \u001b[0munits\u001b[0m\u001b[1;33m,\u001b[0m \u001b[0mseed\u001b[0m\u001b[1;33m,\u001b[0m\u001b[1;33m\u001b[0m\u001b[1;33m\u001b[0m\u001b[0m\n",
      "\u001b[1;32mc:\\Users\\Hp\\AppData\\Local\\anaconda3\\envs\\learn-env\\lib\\site-packages\\seaborn\\categorical.py\u001b[0m in \u001b[0;36m__init__\u001b[1;34m(self, x, y, hue, data, order, hue_order, estimator, ci, n_boot, units, seed, orient, color, palette, saturation, errcolor, errwidth, capsize, dodge)\u001b[0m\n\u001b[0;32m   1584\u001b[0m         self.establish_variables(x, y, hue, data, orient,\n\u001b[0;32m   1585\u001b[0m                                  order, hue_order, units)\n\u001b[1;32m-> 1586\u001b[1;33m         \u001b[0mself\u001b[0m\u001b[1;33m.\u001b[0m\u001b[0mestablish_colors\u001b[0m\u001b[1;33m(\u001b[0m\u001b[0mcolor\u001b[0m\u001b[1;33m,\u001b[0m \u001b[0mpalette\u001b[0m\u001b[1;33m,\u001b[0m \u001b[0msaturation\u001b[0m\u001b[1;33m)\u001b[0m\u001b[1;33m\u001b[0m\u001b[1;33m\u001b[0m\u001b[0m\n\u001b[0m\u001b[0;32m   1587\u001b[0m         \u001b[0mself\u001b[0m\u001b[1;33m.\u001b[0m\u001b[0mestimate_statistic\u001b[0m\u001b[1;33m(\u001b[0m\u001b[0mestimator\u001b[0m\u001b[1;33m,\u001b[0m \u001b[0mci\u001b[0m\u001b[1;33m,\u001b[0m \u001b[0mn_boot\u001b[0m\u001b[1;33m,\u001b[0m \u001b[0mseed\u001b[0m\u001b[1;33m)\u001b[0m\u001b[1;33m\u001b[0m\u001b[1;33m\u001b[0m\u001b[0m\n\u001b[0;32m   1588\u001b[0m \u001b[1;33m\u001b[0m\u001b[0m\n",
      "\u001b[1;32mc:\\Users\\Hp\\AppData\\Local\\anaconda3\\envs\\learn-env\\lib\\site-packages\\seaborn\\categorical.py\u001b[0m in \u001b[0;36mestablish_colors\u001b[1;34m(self, color, palette, saturation)\u001b[0m\n\u001b[0;32m    317\u001b[0m         \u001b[1;31m# Determine the gray color to use for the lines framing the plot\u001b[0m\u001b[1;33m\u001b[0m\u001b[1;33m\u001b[0m\u001b[1;33m\u001b[0m\u001b[0m\n\u001b[0;32m    318\u001b[0m         \u001b[0mlight_vals\u001b[0m \u001b[1;33m=\u001b[0m \u001b[1;33m[\u001b[0m\u001b[0mcolorsys\u001b[0m\u001b[1;33m.\u001b[0m\u001b[0mrgb_to_hls\u001b[0m\u001b[1;33m(\u001b[0m\u001b[1;33m*\u001b[0m\u001b[0mc\u001b[0m\u001b[1;33m)\u001b[0m\u001b[1;33m[\u001b[0m\u001b[1;36m1\u001b[0m\u001b[1;33m]\u001b[0m \u001b[1;32mfor\u001b[0m \u001b[0mc\u001b[0m \u001b[1;32min\u001b[0m \u001b[0mrgb_colors\u001b[0m\u001b[1;33m]\u001b[0m\u001b[1;33m\u001b[0m\u001b[1;33m\u001b[0m\u001b[0m\n\u001b[1;32m--> 319\u001b[1;33m         \u001b[0mlum\u001b[0m \u001b[1;33m=\u001b[0m \u001b[0mmin\u001b[0m\u001b[1;33m(\u001b[0m\u001b[0mlight_vals\u001b[0m\u001b[1;33m)\u001b[0m \u001b[1;33m*\u001b[0m \u001b[1;36m.6\u001b[0m\u001b[1;33m\u001b[0m\u001b[1;33m\u001b[0m\u001b[0m\n\u001b[0m\u001b[0;32m    320\u001b[0m         \u001b[0mgray\u001b[0m \u001b[1;33m=\u001b[0m \u001b[0mmpl\u001b[0m\u001b[1;33m.\u001b[0m\u001b[0mcolors\u001b[0m\u001b[1;33m.\u001b[0m\u001b[0mrgb2hex\u001b[0m\u001b[1;33m(\u001b[0m\u001b[1;33m(\u001b[0m\u001b[0mlum\u001b[0m\u001b[1;33m,\u001b[0m \u001b[0mlum\u001b[0m\u001b[1;33m,\u001b[0m \u001b[0mlum\u001b[0m\u001b[1;33m)\u001b[0m\u001b[1;33m)\u001b[0m\u001b[1;33m\u001b[0m\u001b[1;33m\u001b[0m\u001b[0m\n\u001b[0;32m    321\u001b[0m \u001b[1;33m\u001b[0m\u001b[0m\n",
      "\u001b[1;31mValueError\u001b[0m: min() arg is an empty sequence"
     ]
    },
    {
     "data": {
      "text/plain": [
       "<Figure size 864x432 with 0 Axes>"
      ]
     },
     "metadata": {},
     "output_type": "display_data"
    }
   ],
   "source": [
    "# Extract release year from title\n",
    "movies_df['year'] = movies_df['title'].str.extract(r'\\((\\d{4})\\)', expand=False)\n",
    "movies_df = movies_df.dropna(subset=['year'])\n",
    "movies_df['year'] = movies_df['year'].astype(int)\n",
    "\n",
    "# Split genres and explode into individual rows\n",
    "movies_df['genres'] = movies_df['genres'].str.split('|')\n",
    "movies_exploded = movies_df.explode('genres')\n",
    "\n",
    "# Filter for specific genres\n",
    "selected_genres = ['Action', 'Drama', 'Comedy']\n",
    "genre_year = movies_exploded[movies_exploded['genres'].isin(selected_genres)]\n",
    "\n",
    "# Optionally, filter for a specific year range\n",
    "genre_year = genre_year[(genre_year['year'] >= 1980) & (genre_year['year'] <= 2020)]\n",
    "\n",
    "# Plot genre counts over time\n",
    "plt.figure(figsize=(12, 6))\n",
    "sns.countplot(data=genre_year, x='year', hue='genres', palette='tab10')\n",
    "\n",
    "plt.title('Genre Distribution Over Time')\n",
    "plt.xlabel('Year')\n",
    "plt.ylabel('Number of Movies')\n",
    "plt.legend(title='Genre')\n",
    "plt.xticks(rotation=90)\n",
    "plt.show()"
   ]
  },
  {
   "cell_type": "markdown",
   "metadata": {},
   "source": [
    "- Growth and Decline in Movie Releases: There is a noticeable increase in the number of movies produced across all genres from 1980, peaking around the early 2000s, after which there is a gradual decline. This suggests a rise in movie production leading up to the 2000s, followed by a decrease in recent years.\n",
    "\n",
    "- Drama Dominates: Drama appears to be the most consistently produced genre, with the highest number of releases each year, particularly from the late 1990s to the mid-2000s. It often has more releases compared to Comedy and Action.\n",
    "\n",
    "- Comedy as the Second Leading Genre: Comedy is the second most produced genre over the years, closely following Drama in terms of the number of movies produced annually. It maintains a relatively steady presence throughout the period.\n",
    "\n",
    "- Action Genre: Action movies have consistently fewer releases compared to Drama and Comedy. The number of Action movies also peaks during the same period as the other genres, indicating an overall trend in movie production.\n",
    "\n",
    "- Overall Trends: The increase in production from 1980 until the early 2000s, followed by a decline, might indicate changes in the film industry, such as shifts in audience preferences, economic factors, or the impact of streaming services in recent years."
   ]
  },
  {
   "cell_type": "markdown",
   "metadata": {},
   "source": [
    "Now lets create aWord Cloud of Tags to visualize the most common words in user-generated tags and understand the themes and attributes users associate with movies."
   ]
  },
  {
   "cell_type": "code",
   "execution_count": 25,
   "metadata": {},
   "outputs": [
    {
     "ename": "ModuleNotFoundError",
     "evalue": "No module named 'wordcloud'",
     "output_type": "error",
     "traceback": [
      "\u001b[1;31m---------------------------------------------------------------------------\u001b[0m",
      "\u001b[1;31mModuleNotFoundError\u001b[0m                       Traceback (most recent call last)",
      "\u001b[1;32m<ipython-input-25-d49c1e315f3e>\u001b[0m in \u001b[0;36m<module>\u001b[1;34m\u001b[0m\n\u001b[1;32m----> 1\u001b[1;33m \u001b[1;32mfrom\u001b[0m \u001b[0mwordcloud\u001b[0m \u001b[1;32mimport\u001b[0m \u001b[0mWordCloud\u001b[0m\u001b[1;33m\u001b[0m\u001b[1;33m\u001b[0m\u001b[0m\n\u001b[0m\u001b[0;32m      2\u001b[0m \u001b[1;33m\u001b[0m\u001b[0m\n\u001b[0;32m      3\u001b[0m \u001b[1;31m# Combine all tags into a single string\u001b[0m\u001b[1;33m\u001b[0m\u001b[1;33m\u001b[0m\u001b[1;33m\u001b[0m\u001b[0m\n\u001b[0;32m      4\u001b[0m \u001b[0mall_tags\u001b[0m \u001b[1;33m=\u001b[0m \u001b[1;34m' '\u001b[0m\u001b[1;33m.\u001b[0m\u001b[0mjoin\u001b[0m\u001b[1;33m(\u001b[0m\u001b[0mtags_df\u001b[0m\u001b[1;33m[\u001b[0m\u001b[1;34m'tag'\u001b[0m\u001b[1;33m]\u001b[0m\u001b[1;33m.\u001b[0m\u001b[0mastype\u001b[0m\u001b[1;33m(\u001b[0m\u001b[0mstr\u001b[0m\u001b[1;33m)\u001b[0m\u001b[1;33m)\u001b[0m\u001b[1;33m\u001b[0m\u001b[1;33m\u001b[0m\u001b[0m\n\u001b[0;32m      5\u001b[0m \u001b[1;33m\u001b[0m\u001b[0m\n",
      "\u001b[1;31mModuleNotFoundError\u001b[0m: No module named 'wordcloud'"
     ]
    }
   ],
   "source": [
    "\n",
    "\n",
    "# Combine all tags into a single string\n",
    "all_tags = ' '.join(tags_df['tag'].astype(str))\n",
    "\n",
    "# Generate word cloud\n",
    "wordcloud = WordCloud(width=800, height=400, background_color='white').generate(all_tags)\n",
    "\n",
    "# Display the word cloud\n",
    "plt.figure(figsize=(15, 7.5))\n",
    "plt.imshow(wordcloud, interpolation='bilinear')\n",
    "plt.axis('off')\n",
    "plt.title('Word Cloud of Movie Tags')\n",
    "plt.show()\n",
    "``"
   ]
  },
  {
   "cell_type": "markdown",
   "metadata": {},
   "source": [
    "1. Popular Tags:\n",
    "\n",
    "- \"Netflix queue\" is the most prominent tag, suggesting that users frequently associate movies with Netflix, likely indicating movies added to their watchlist.\n",
    "- Other large tags include \"classic,\" \"atmospheric,\" \"superhero,\" \"dark,\" \"action,\" \"comedy,\" and \"thought provoking,\" indicating these are common themes or descriptors that users find noteworthy.\n",
    "2. Diverse Themes:\n",
    "\n",
    "- The word cloud highlights a broad range of topics, including genres (e.g., \"sci-fi,\" \"comedy,\" \"action,\"), emotions (e.g., \"funny,\" \"disturbing,\" \"suspense,\"), and atmosphere (e.g., \"dark,\" \"dreamlike,\" \"quirky,\").\n",
    "- Tags like \"politics,\" \"psychology,\" \"religion,\" and \"music\" suggest that movies covering these topics are also frequently tagged, indicating user interest in thematic depth.\n",
    "3. Popular Genres and Elements:\n",
    "\n",
    "- The prevalence of tags like \"sci-fi,\" \"superhero,\" \"crime,\" and \"animation\" suggests that these genres are commonly represented in the dataset.\n",
    "- Descriptive terms like \"thought provoking,\" \"surreal,\" \"visually appealing,\" and \"twist ending\" reflect viewers' interests in movies that challenge perceptions or have notable cinematic qualities.\n",
    "4. Negative and Mixed Sentiments:\n",
    "\n",
    "- Tags like \"bad,\" \"dark,\" \"disturbing,\" and \"violence\" imply that some viewers also focus on negative aspects or intense themes of movies.\n",
    "\n",
    "Overall, this word cloud provides a snapshot of the wide variety of topics, genres, and characteristics that viewers find important or memorable in movies. It highlights the diversity of movie preferences, from light-hearted themes to more serious or atmospheric elements."
   ]
  },
  {
   "cell_type": "markdown",
   "metadata": {},
   "source": [
    "Now lets create a User-Item Ratings Heatmap to visualize the sparsity of the user-item rating matrix and understand the distribution of ratings across users and movies."
   ]
  },
  {
   "cell_type": "code",
   "execution_count": 33,
   "metadata": {},
   "outputs": [
    {
     "data": {
      "image/png": "[encoded data removed]",
      "text/plain": [
       "<Figure size 864x576 with 2 Axes>"
      ]
     },
     "metadata": {
      "needs_background": "light"
     },
     "output_type": "display_data"
    }
   ],
   "source": [
    "# Create a sample of users and movies\n",
    "sample_users = ratings_df['userId'].drop_duplicates().sample(100, random_state=42)\n",
    "sample_movies = ratings_df['movieId'].drop_duplicates().sample(100, random_state=42)\n",
    "\n",
    "# Create a pivot table\n",
    "sample_ratings = ratings_df[ratings_df['userId'].isin(sample_users) & ratings_df['movieId'].isin(sample_movies)]\n",
    "user_item_matrix = sample_ratings.pivot(index='userId', columns='movieId', values='rating')\n",
    "\n",
    "# Plot heatmap\n",
    "plt.figure(figsize=(12, 8))\n",
    "sns.heatmap(user_item_matrix, cmap='viridis')\n",
    "plt.title('User-Item Ratings Heatmap')\n",
    "plt.xlabel('Movies')\n",
    "plt.ylabel('Users')\n",
    "plt.show()\n"
   ]
  },
  {
   "cell_type": "markdown",
   "metadata": {},
   "source": [
    "Eeach cell indicates a user's rating for a specific movie, with colors ranging from dark (lower ratings) to bright yellow (higher ratings). Here are some insights:\n",
    "\n",
    "1. Sparse Matrix: The heatmap is quite sparse, indicating that most users rate only a small subset of available movies. This pattern is common in user-item rating matrices for movie recommendation systems.\n",
    "\n",
    "2. Ratings Distribution:\n",
    "\n",
    "- Ratings are distributed across a range of values from around 0.5 to 5.\n",
    "- The color gradient represents different ratings, with dark blue for low ratings (close to 0.5) and bright yellow for high ratings (close to 5).\n",
    "3. Few Highly Rated Items: There are only a few instances of bright yellow cells, implying that while there are high ratings, they are not very common. Users tend to rate movies more conservatively or moderately.\n",
    "\n",
    "4. Clusters of Activity: There are small clusters of ratings, which might indicate a group of popular movies that have been rated by multiple users. This suggests that some movies have broader appeal while many others have only a handful of ratings.\n",
    "\n",
    "5. Recommendation System Implication: The sparsity in the matrix is a common challenge in recommendation systems, making collaborative filtering techniques ideal since they can leverage the similarities between users or items to fill in the missing ratings."
   ]
  },
  {
   "cell_type": "markdown",
   "metadata": {},
   "source": [
    "Next lets look at the Ratings Over Time and analyze how the volume of ratings changes over time.\n",
    "\n",
    "Identify trends or seasonal patterns in user activity."
   ]
  },
  {
   "cell_type": "code",
   "execution_count": 34,
   "metadata": {},
   "outputs": [
    {
     "data": {
      "image/png": "[encoded data removed]",
      "text/plain": [
       "<Figure size 864x432 with 1 Axes>"
      ]
     },
     "metadata": {
      "needs_background": "light"
     },
     "output_type": "display_data"
    }
   ],
   "source": [
    "# Convert timestamp to datetime\n",
    "ratings_df['timestamp'] = pd.to_datetime(ratings_df['timestamp'], unit='s')\n",
    "\n",
    "# Aggregate ratings by month\n",
    "ratings_df['year_month'] = ratings_df['timestamp'].dt.to_period('M')\n",
    "\n",
    "# Count number of ratings per month\n",
    "ratings_per_month = ratings_df.groupby('year_month').size().reset_index(name='num_ratings')\n",
    "\n",
    "# Convert 'year_month' to string or datetime\n",
    "ratings_per_month['year_month_str'] = ratings_per_month['year_month'].astype(str)\n",
    "# Alternatively, convert to datetime\n",
    "ratings_per_month['year_month_dt'] = ratings_per_month['year_month'].dt.to_timestamp()\n",
    "\n",
    "# Ensure 'num_ratings' is numeric\n",
    "ratings_per_month['num_ratings'] = pd.to_numeric(ratings_per_month['num_ratings'], errors='coerce')\n",
    "ratings_per_month = ratings_per_month.dropna(subset=['num_ratings'])\n",
    "\n",
    "# Aggregate by year\n",
    "ratings_df['year'] = ratings_df['timestamp'].dt.year\n",
    "ratings_per_year = ratings_df.groupby('year').size().reset_index(name='num_ratings')\n",
    "\n",
    "# Plot\n",
    "plt.figure(figsize=(12, 6))\n",
    "sns.lineplot(data=ratings_per_year, x='year', y='num_ratings')\n",
    "plt.title('Number of Ratings Over Years')\n",
    "plt.xlabel('Year')\n",
    "plt.ylabel('Number of Ratings')\n",
    "plt.xticks(rotation=45)\n",
    "plt.show()\n"
   ]
  },
  {
   "cell_type": "markdown",
   "metadata": {},
   "source": [
    "- Initial Spike Around Late 1990s: There is a significant increase in ratings leading up to the late 1990s, with a peak around the year 2000. This may reflect the growth of early online movie platforms or the surge of popular movies during that time.\n",
    "\n",
    "- Fluctuating Trends: After the peak around 2000, the number of ratings drops sharply and fluctuates over the years. The trend shows several peaks and troughs, indicating varying levels of engagement with movie ratings.\n",
    "\n",
    "- Decline Around 2010: There is a noticeable decline in the number of ratings around 2010, reaching one of the lowest points. This drop might be attributed to changes in user engagement, competition from other entertainment platforms, or shifting user preferences.\n",
    "\n",
    "- Recent Increase: Starting around 2015, there is an upward trend in ratings, suggesting renewed interest in movie rating activity, possibly driven by increased accessibility through streaming services like Netflix and user engagement through recommendation systems.\n",
    "\n",
    "- Volatile Engagement: The fluctuations indicate that the number of ratings has not been consistent over the years. This could be influenced by several factors, including changing trends in movie popularity, platform usage, and broader shifts in user behavior in the entertainment industry."
   ]
  },
  {
   "cell_type": "markdown",
   "metadata": {},
   "source": [
    "\n",
    "Next lets look at the Average Ratings per User and understand individual user rating tendencies.\n",
    "\n",
    "Identify harsh versus lenient raters."
   ]
  },
  {
   "cell_type": "code",
   "execution_count": 35,
   "metadata": {},
   "outputs": [
    {
     "data": {
      "image/png": "[encoded data removed]",
      "text/plain": [
       "<Figure size 720x432 with 1 Axes>"
      ]
     },
     "metadata": {
      "needs_background": "light"
     },
     "output_type": "display_data"
    }
   ],
   "source": [
    "# Calculate average rating per user\n",
    "user_avg_ratings = ratings_df.groupby('userId')['rating'].mean()\n",
    "\n",
    "# Plot histogram\n",
    "plt.figure(figsize=(10, 6))\n",
    "sns.histplot(user_avg_ratings, bins=50)\n",
    "plt.title('Average User Ratings Distribution')\n",
    "plt.xlabel('Average Rating')\n",
    "plt.ylabel('Number of Users')\n",
    "plt.show()\n"
   ]
  },
  {
   "cell_type": "markdown",
   "metadata": {},
   "source": [
    "- The distribution indicates that users tend to rate movies positively, with a preference for ratings between 3 and 4, suggesting that the majority of movies are viewed as generally enjoyable or above average. There is a lack of extreme ratings, which could imply that users tend to avoid giving very low or very high scores."
   ]
  },
  {
   "cell_type": "markdown",
   "metadata": {},
   "source": [
    "Now lets look at the Relationship Between Number of Ratings and Average Rating and explore whether popular movies tend to have higher or lower average ratings.\n",
    "\n",
    "Detect any correlations between popularity and perceived quality."
   ]
  },
  {
   "cell_type": "code",
   "execution_count": 36,
   "metadata": {},
   "outputs": [
    {
     "data": {
      "image/png": "[encoded data removed]",
      "text/plain": [
       "<Figure size 720x432 with 1 Axes>"
      ]
     },
     "metadata": {
      "needs_background": "light"
     },
     "output_type": "display_data"
    }
   ],
   "source": [
    "# Calculate average rating and number of ratings per movie\n",
    "movie_stats = ratings_df.groupby('movieId')['rating'].agg(['mean', 'count']).reset_index()\n",
    "movie_stats = movie_stats.merge(movies_df[['movieId', 'title']], on='movieId')\n",
    "\n",
    "# Plot scatter plot\n",
    "plt.figure(figsize=(10, 6))\n",
    "sns.scatterplot(data=movie_stats, x='count', y='mean')\n",
    "plt.title('Number of Ratings vs. Average Rating')\n",
    "plt.xlabel('Number of Ratings')\n",
    "plt.ylabel('Average Rating')\n",
    "plt.xscale('log')\n",
    "plt.show()\n"
   ]
  },
  {
   "cell_type": "markdown",
   "metadata": {},
   "source": [
    "Highly Rated vs. Lowly Rated Movies:\n",
    "\n",
    "- Movies with very few ratings have more variability in their average ratings, often appearing as extremes (either very low or very high).\n",
    "- As the number of ratings increases, the average ratings converge more around a value between 3.0 and 4.0. This suggests that movies with many ratings tend to have moderate average ratings, which is typical since more ratings reduce individual rating bias.\n",
    "\n",
    "Popular Movies:\n",
    "\n",
    "- Popular movies (those with high rating counts) tend to have average ratings that are close to the middle of the scale (often around 3 to 4), indicating that as more users rate a movie, the ratings tend to balance out towards an average consensus.\n",
    "\n",
    "User Behavior:\n",
    "\n",
    "- The plot highlights the challenge of movie rating predictions. Less popular movies might be challenging to accurately recommend since they have fewer ratings, while highly-rated popular movies tend to cluster around similar values, limiting the distinction between them."
   ]
  },
  {
   "cell_type": "markdown",
   "metadata": {},
   "source": [
    "# Modeling\n",
    "\n",
    "To ensure a solid foundation for model evaluation, we should split the dataset into three parts: training, validation, and testing.\n",
    "\n",
    "- Training Set: Used for fitting the model.\n",
    "- Validation Set: Used to tune hyperparameters and evaluate performance during training.\n",
    "- Test Set: Held out to assess the final performance after the model is tuned.\n",
    "\n",
    "We can split the data as follows:\n",
    "\n",
    "- 70% for training.\n",
    "- 15% for validation.\n",
    "- 15% for testing."
   ]
  },
  {
   "cell_type": "code",
   "execution_count": 37,
   "metadata": {},
   "outputs": [
    {
     "data": {
      "text/plain": [
       "(0.6999980165813796, 0.14999603316275933, 0.150005950255861)"
      ]
     },
     "execution_count": 37,
     "metadata": {},
     "output_type": "execute_result"
    }
   ],
   "source": [
    "from sklearn.model_selection import train_test_split\n",
    "\n",
    "# Split into training (70%) and temp (30%) sets first\n",
    "train_data, temp_data = train_test_split(ratings_df, test_size=0.3, random_state=42)\n",
    "\n",
    "# Split temp_data into validation (15% of the whole) and test (15% of the whole) sets\n",
    "validation_data, test_data = train_test_split(temp_data, test_size=0.5, random_state=42)\n",
    "\n",
    "# Verify the split sizes\n",
    "train_size = train_data.shape[0] / ratings_df.shape[0]\n",
    "validation_size = validation_data.shape[0] / ratings_df.shape[0]\n",
    "test_size = test_data.shape[0] / ratings_df.shape[0]\n",
    "\n",
    "(train_size, validation_size, test_size)\n"
   ]
  },
  {
   "cell_type": "markdown",
   "metadata": {},
   "source": [
    "## Initial SVD Model"
   ]
  },
  {
   "cell_type": "code",
   "execution_count": null,
   "metadata": {},
   "outputs": [
    {
     "name": "stdout",
     "output_type": "stream",
     "text": [
      "RMSE: 0.8833\n",
      "RMSE: 0.8847\n",
      "RMSE for Validation Set: 0.8833\n",
      "RMSE for Test Set: 0.8847\n"
     ]
    }
   ],
   "source": [
    "from surprise import Dataset, Reader, SVD\n",
    "from surprise.model_selection import train_test_split\n",
    "from surprise import accuracy\n",
    "\n",
    "# Prepare the data for 'surprise' from the split datasets\n",
    "reader = Reader(rating_scale=(0.5, 5.0))\n",
    "\n",
    "# Convert training, validation, and test data to the surprise format\n",
    "train_data_surprise = Dataset.load_from_df(train_data[['userId', 'movieId', 'rating']], reader)\n",
    "validation_data_surprise = Dataset.load_from_df(validation_data[['userId', 'movieId', 'rating']], reader)\n",
    "test_data_surprise = Dataset.load_from_df(test_data[['userId', 'movieId', 'rating']], reader)\n",
    "\n",
    "# Build the trainset for SVD model\n",
    "training_set = train_data_surprise.build_full_trainset()\n",
    "\n",
    "# Initialize and train the SVD model\n",
    "svd_model = SVD()\n",
    "svd_model.fit(training_set)\n",
    "\n",
    "# Build validation testset from validation_data (list of tuples of userId, movieId, and actual rating)\n",
    "validation_testset = validation_data[['userId', 'movieId', 'rating']].values.tolist()\n",
    "\n",
    "# Validate the model on the validation set\n",
    "validation_predictions = svd_model.test(validation_testset)\n",
    "\n",
    "# Calculate RMSE for validation set\n",
    "validation_rmse = accuracy.rmse(validation_predictions)\n",
    "\n",
    "# Build test testset from test_data (list of tuples of userId, movieId, and actual rating)\n",
    "test_testset = test_data[['userId', 'movieId', 'rating']].values.tolist()\n",
    "\n",
    "# Test the model on the final test set\n",
    "test_predictions = svd_model.test(test_testset)\n",
    "\n",
    "# Calculate RMSE for test set\n",
    "test_rmse = accuracy.rmse(test_predictions)\n",
    "\n",
    "# Print results with labels\n",
    "print(f\"RMSE for Validation Set: {validation_rmse:.4f}\")\n",
    "print(f\"RMSE for Test Set: {test_rmse:.4f}\")\n"
   ]
  },
  {
   "cell_type": "markdown",
   "metadata": {},
   "source": [
    "Performance Consistency:\n",
    "\n",
    "- The RMSE values for the validation and test sets are very close to each other (0.8833 and 0.8847).\n",
    "- This consistency suggests that the model generalizes well and that there is no significant overfitting or underfitting. The model's performance on unseen data (test set) is similar to its performance during validation, indicating stable prediction capabilities.\n",
    "\n",
    "Model Accuracy:\n",
    "\n",
    "- An RMSE of around 0.88 suggests that, on average, the model's predicted rating deviates from the actual rating by approximately 0.88 units on a scale of 0.5 to 5.\n",
    "- Given that the rating scale ranges from 0.5 to 5.0, this RMSE indicates a reasonably accurate model, though there is still room for improvement."
   ]
  },
  {
   "cell_type": "markdown",
   "metadata": {},
   "source": [
    "## Hyperparameter Tuning of the SVD model\n",
    "\n",
    "To tune the hyperparameters of the SVD model and optimize its performance, we can use a grid search or random search method. The goal is to find the best combination of hyperparameters that minimize the Root Mean Squared Error (RMSE)."
   ]
  },
  {
   "cell_type": "code",
   "execution_count": null,
   "metadata": {},
   "outputs": [
    {
     "name": "stdout",
     "output_type": "stream",
     "text": [
      "Best RMSE: 0.8504\n",
      "Best Hyperparameters: {'n_factors': 100, 'n_epochs': 100, 'lr_all': 0.005, 'reg_all': 0.1}\n"
     ]
    }
   ],
   "source": [
    "from surprise.model_selection import GridSearchCV\n",
    "\n",
    "# Prepare the data in the 'surprise' format\n",
    "reader = Reader(rating_scale=(0.5, 5.0))\n",
    "ratings_data = Dataset.load_from_df(ratings_df[['userId', 'movieId', 'rating']], reader)\n",
    "\n",
    "# Define the parameter grid for SVD\n",
    "param_grid = {\n",
    "    'n_factors': [20, 50, 100],      # Number of latent factors\n",
    "    'n_epochs': [20, 50, 100],       # Number of epochs\n",
    "    'lr_all': [0.002, 0.005, 0.01],  # Learning rate\n",
    "    'reg_all': [0.02, 0.1, 0.4]      # Regularization term\n",
    "}\n",
    "\n",
    "# Perform grid search to find the best parameters\n",
    "grid_search = GridSearchCV(SVD, param_grid, measures=['rmse'], cv=5)\n",
    "grid_search.fit(ratings_data)\n",
    "\n",
    "# Extract the best RMSE and corresponding hyperparameters\n",
    "best_rmse = grid_search.best_score['rmse']\n",
    "best_params = grid_search.best_params['rmse']\n",
    "\n",
    "print(f\"Best RMSE: {best_rmse:.4f}\")\n",
    "print(f\"Best Hyperparameters: {best_params}\")"
   ]
  },
  {
   "cell_type": "code",
   "execution_count": null,
   "metadata": {},
   "outputs": [
    {
     "name": "stdout",
     "output_type": "stream",
     "text": [
      "RMSE: 0.8589\n",
      "Validation RMSE: 0.8589\n",
      "RMSE: 0.8603\n",
      "Final Test RMSE: 0.8603\n"
     ]
    }
   ],
   "source": [
    "# Use the best parameters to train the final SVD model\n",
    "best_svd_model = SVD(n_factors=best_params['n_factors'], \n",
    "                     n_epochs=best_params['n_epochs'], \n",
    "                     lr_all=best_params['lr_all'], \n",
    "                     reg_all=best_params['reg_all'])\n",
    "\n",
    "# Train the model on the training set\n",
    "best_svd_model.fit(training_set)\n",
    "\n",
    "# Test the model on the validation set\n",
    "validation_predictions = best_svd_model.test(validation_testset)\n",
    "\n",
    "# Calculate RMSE on the validation set\n",
    "validation_rmse = accuracy.rmse(validation_predictions)\n",
    "print(f\"Validation RMSE: {validation_rmse:.4f}\")\n",
    "\n",
    "# Test the model on the test set\n",
    "test_predictions = best_svd_model.test(test_testset)\n",
    "\n",
    "# Calculate RMSE on the test set\n",
    "test_rmse = accuracy.rmse(test_predictions)\n",
    "print(f\"Final Test RMSE: {test_rmse:.4f}\")\n"
   ]
  },
  {
   "cell_type": "markdown",
   "metadata": {},
   "source": [
    "Now a Function to predict ratings using the SVD model"
   ]
  },
  {
   "cell_type": "code",
   "execution_count": null,
   "metadata": {},
   "outputs": [
    {
     "name": "stdout",
     "output_type": "stream",
     "text": [
      "Predicted rating for user 1 on movie 1: 4.56\n"
     ]
    }
   ],
   "source": [
    "# Predict ratings for all user-item pairs\n",
    "def svd_predict(user_id, movie_id):\n",
    "    return best_svd_model.predict(user_id, movie_id).est\n",
    "\n",
    "# Example prediction\n",
    "user_id = 1\n",
    "movie_id = 1\n",
    "predicted_rating = svd_predict(user_id, movie_id)\n",
    "print(f\"Predicted rating for user {user_id} on movie {movie_id}: {predicted_rating:.2f}\")"
   ]
  },
  {
   "cell_type": "markdown",
   "metadata": {},
   "source": [
    "### Summary of Results\n",
    "Initial Model Performance:\n",
    "\n",
    "- Validation RMSE: 0.8822\n",
    "- Test RMSE: 0.8838\n",
    "\n",
    "Optimized Model Performance:\n",
    "\n",
    "- Best RMSE from Grid Search (Cross-Validation): 0.8504\n",
    "- Validation RMSE: 0.8589\n",
    "- Final Test RMSE: 0.8603\n",
    "\n",
    "Improvements\n",
    "\n",
    "The optimized model shows a significant reduction in RMSE on both validation and test sets.\n",
    "\n",
    "This improvement demonstrates that hyperparameter tuning can enhance the model's predictive accuracy."
   ]
  },
  {
   "cell_type": "markdown",
   "metadata": {},
   "source": [
    "## KNNBaseline Model\n",
    "Let’s try a different collaborative filtering algorithm to compare its performance with the SVD model. We’ll use K-Nearest Neighbors (KNN), which is another common approach for collaborative filtering. Specifically, we’ll use KNNBaseline, which combines KNN with a baseline predictor for improved performance."
   ]
  },
  {
   "cell_type": "code",
   "execution_count": null,
   "metadata": {},
   "outputs": [
    {
     "name": "stdout",
     "output_type": "stream",
     "text": [
      "Estimating biases using als...\n",
      "Computing the cosine similarity matrix...\n",
      "Done computing similarity matrix.\n",
      "Estimating biases using als...\n",
      "Computing the cosine similarity matrix...\n",
      "Done computing similarity matrix.\n",
      "Estimating biases using als...\n",
      "Computing the cosine similarity matrix...\n",
      "Done computing similarity matrix.\n",
      "Estimating biases using als...\n",
      "Computing the cosine similarity matrix...\n",
      "Done computing similarity matrix.\n",
      "Estimating biases using als...\n",
      "Computing the cosine similarity matrix...\n",
      "Done computing similarity matrix.\n",
      "Estimating biases using als...\n",
      "Computing the cosine similarity matrix...\n",
      "Done computing similarity matrix.\n",
      "Estimating biases using als...\n",
      "Computing the cosine similarity matrix...\n",
      "Done computing similarity matrix.\n",
      "Estimating biases using als...\n",
      "Computing the cosine similarity matrix...\n",
      "Done computing similarity matrix.\n",
      "Estimating biases using als...\n",
      "Computing the cosine similarity matrix...\n",
      "Done computing similarity matrix.\n",
      "Estimating biases using als...\n",
      "Computing the cosine similarity matrix...\n",
      "Done computing similarity matrix.\n",
      "Estimating biases using als...\n",
      "Computing the pearson_baseline similarity matrix...\n",
      "Done computing similarity matrix.\n",
      "Estimating biases using als...\n",
      "Computing the pearson_baseline similarity matrix...\n",
      "Done computing similarity matrix.\n",
      "Estimating biases using als...\n",
      "Computing the pearson_baseline similarity matrix...\n",
      "Done computing similarity matrix.\n",
      "Estimating biases using als...\n",
      "Computing the pearson_baseline similarity matrix...\n",
      "Done computing similarity matrix.\n",
      "Estimating biases using als...\n",
      "Computing the pearson_baseline similarity matrix...\n",
      "Done computing similarity matrix.\n",
      "Estimating biases using als...\n",
      "Computing the pearson_baseline similarity matrix...\n",
      "Done computing similarity matrix.\n",
      "Estimating biases using als...\n",
      "Computing the pearson_baseline similarity matrix...\n",
      "Done computing similarity matrix.\n",
      "Estimating biases using als...\n",
      "Computing the pearson_baseline similarity matrix...\n",
      "Done computing similarity matrix.\n",
      "Estimating biases using als...\n",
      "Computing the pearson_baseline similarity matrix...\n",
      "Done computing similarity matrix.\n",
      "Estimating biases using als...\n",
      "Computing the pearson_baseline similarity matrix...\n",
      "Done computing similarity matrix.\n",
      "Estimating biases using als...\n",
      "Computing the cosine similarity matrix...\n",
      "Done computing similarity matrix.\n",
      "Estimating biases using als...\n",
      "Computing the cosine similarity matrix...\n",
      "Done computing similarity matrix.\n",
      "Estimating biases using als...\n",
      "Computing the cosine similarity matrix...\n",
      "Done computing similarity matrix.\n",
      "Estimating biases using als...\n",
      "Computing the cosine similarity matrix...\n",
      "Done computing similarity matrix.\n",
      "Estimating biases using als...\n",
      "Computing the cosine similarity matrix...\n",
      "Done computing similarity matrix.\n",
      "Estimating biases using als...\n",
      "Computing the cosine similarity matrix...\n",
      "Done computing similarity matrix.\n",
      "Estimating biases using als...\n",
      "Computing the cosine similarity matrix...\n",
      "Done computing similarity matrix.\n",
      "Estimating biases using als...\n",
      "Computing the cosine similarity matrix...\n",
      "Done computing similarity matrix.\n",
      "Estimating biases using als...\n",
      "Computing the cosine similarity matrix...\n",
      "Done computing similarity matrix.\n",
      "Estimating biases using als...\n",
      "Computing the cosine similarity matrix...\n",
      "Done computing similarity matrix.\n",
      "Estimating biases using als...\n",
      "Computing the pearson_baseline similarity matrix...\n",
      "Done computing similarity matrix.\n",
      "Estimating biases using als...\n",
      "Computing the pearson_baseline similarity matrix...\n",
      "Done computing similarity matrix.\n",
      "Estimating biases using als...\n",
      "Computing the pearson_baseline similarity matrix...\n",
      "Done computing similarity matrix.\n",
      "Estimating biases using als...\n",
      "Computing the pearson_baseline similarity matrix...\n",
      "Done computing similarity matrix.\n",
      "Estimating biases using als...\n",
      "Computing the pearson_baseline similarity matrix...\n",
      "Done computing similarity matrix.\n",
      "Estimating biases using als...\n",
      "Computing the pearson_baseline similarity matrix...\n",
      "Done computing similarity matrix.\n",
      "Estimating biases using als...\n",
      "Computing the pearson_baseline similarity matrix...\n",
      "Done computing similarity matrix.\n",
      "Estimating biases using als...\n",
      "Computing the pearson_baseline similarity matrix...\n",
      "Done computing similarity matrix.\n",
      "Estimating biases using als...\n",
      "Computing the pearson_baseline similarity matrix...\n",
      "Done computing similarity matrix.\n",
      "Estimating biases using als...\n",
      "Computing the pearson_baseline similarity matrix...\n",
      "Done computing similarity matrix.\n",
      "Estimating biases using als...\n",
      "Computing the cosine similarity matrix...\n",
      "Done computing similarity matrix.\n",
      "Estimating biases using als...\n",
      "Computing the cosine similarity matrix...\n",
      "Done computing similarity matrix.\n",
      "Estimating biases using als...\n",
      "Computing the cosine similarity matrix...\n",
      "Done computing similarity matrix.\n",
      "Estimating biases using als...\n",
      "Computing the cosine similarity matrix...\n",
      "Done computing similarity matrix.\n",
      "Estimating biases using als...\n",
      "Computing the cosine similarity matrix...\n",
      "Done computing similarity matrix.\n",
      "Estimating biases using als...\n",
      "Computing the cosine similarity matrix...\n",
      "Done computing similarity matrix.\n",
      "Estimating biases using als...\n",
      "Computing the cosine similarity matrix...\n",
      "Done computing similarity matrix.\n",
      "Estimating biases using als...\n",
      "Computing the cosine similarity matrix...\n",
      "Done computing similarity matrix.\n",
      "Estimating biases using als...\n",
      "Computing the cosine similarity matrix...\n",
      "Done computing similarity matrix.\n",
      "Estimating biases using als...\n",
      "Computing the cosine similarity matrix...\n",
      "Done computing similarity matrix.\n",
      "Estimating biases using als...\n",
      "Computing the pearson_baseline similarity matrix...\n",
      "Done computing similarity matrix.\n",
      "Estimating biases using als...\n",
      "Computing the pearson_baseline similarity matrix...\n",
      "Done computing similarity matrix.\n",
      "Estimating biases using als...\n",
      "Computing the pearson_baseline similarity matrix...\n",
      "Done computing similarity matrix.\n",
      "Estimating biases using als...\n",
      "Computing the pearson_baseline similarity matrix...\n",
      "Done computing similarity matrix.\n",
      "Estimating biases using als...\n",
      "Computing the pearson_baseline similarity matrix...\n",
      "Done computing similarity matrix.\n",
      "Estimating biases using als...\n",
      "Computing the pearson_baseline similarity matrix...\n",
      "Done computing similarity matrix.\n",
      "Estimating biases using als...\n",
      "Computing the pearson_baseline similarity matrix...\n",
      "Done computing similarity matrix.\n",
      "Estimating biases using als...\n",
      "Computing the pearson_baseline similarity matrix...\n",
      "Done computing similarity matrix.\n",
      "Estimating biases using als...\n",
      "Computing the pearson_baseline similarity matrix...\n",
      "Done computing similarity matrix.\n",
      "Estimating biases using als...\n",
      "Computing the pearson_baseline similarity matrix...\n",
      "Done computing similarity matrix.\n",
      "Estimating biases using als...\n",
      "Computing the cosine similarity matrix...\n",
      "Done computing similarity matrix.\n",
      "Estimating biases using als...\n",
      "Computing the cosine similarity matrix...\n",
      "Done computing similarity matrix.\n",
      "Estimating biases using als...\n",
      "Computing the cosine similarity matrix...\n",
      "Done computing similarity matrix.\n",
      "Estimating biases using als...\n",
      "Computing the cosine similarity matrix...\n",
      "Done computing similarity matrix.\n",
      "Estimating biases using als...\n",
      "Computing the cosine similarity matrix...\n",
      "Done computing similarity matrix.\n",
      "Estimating biases using als...\n",
      "Computing the cosine similarity matrix...\n",
      "Done computing similarity matrix.\n",
      "Estimating biases using als...\n",
      "Computing the cosine similarity matrix...\n",
      "Done computing similarity matrix.\n",
      "Estimating biases using als...\n",
      "Computing the cosine similarity matrix...\n",
      "Done computing similarity matrix.\n",
      "Estimating biases using als...\n",
      "Computing the cosine similarity matrix...\n",
      "Done computing similarity matrix.\n",
      "Estimating biases using als...\n",
      "Computing the cosine similarity matrix...\n",
      "Done computing similarity matrix.\n",
      "Estimating biases using als...\n",
      "Computing the pearson_baseline similarity matrix...\n",
      "Done computing similarity matrix.\n",
      "Estimating biases using als...\n",
      "Computing the pearson_baseline similarity matrix...\n",
      "Done computing similarity matrix.\n",
      "Estimating biases using als...\n",
      "Computing the pearson_baseline similarity matrix...\n",
      "Done computing similarity matrix.\n",
      "Estimating biases using als...\n",
      "Computing the pearson_baseline similarity matrix...\n",
      "Done computing similarity matrix.\n",
      "Estimating biases using als...\n",
      "Computing the pearson_baseline similarity matrix...\n",
      "Done computing similarity matrix.\n",
      "Estimating biases using als...\n",
      "Computing the pearson_baseline similarity matrix...\n",
      "Done computing similarity matrix.\n",
      "Estimating biases using als...\n",
      "Computing the pearson_baseline similarity matrix...\n",
      "Done computing similarity matrix.\n",
      "Estimating biases using als...\n",
      "Computing the pearson_baseline similarity matrix...\n",
      "Done computing similarity matrix.\n",
      "Estimating biases using als...\n",
      "Computing the pearson_baseline similarity matrix...\n",
      "Done computing similarity matrix.\n",
      "Estimating biases using als...\n",
      "Computing the pearson_baseline similarity matrix...\n",
      "Done computing similarity matrix.\n",
      "Estimating biases using als...\n",
      "Computing the cosine similarity matrix...\n",
      "Done computing similarity matrix.\n",
      "Estimating biases using als...\n",
      "Computing the cosine similarity matrix...\n",
      "Done computing similarity matrix.\n",
      "Estimating biases using als...\n",
      "Computing the cosine similarity matrix...\n",
      "Done computing similarity matrix.\n",
      "Estimating biases using als...\n",
      "Computing the cosine similarity matrix...\n",
      "Done computing similarity matrix.\n",
      "Estimating biases using als...\n",
      "Computing the cosine similarity matrix...\n",
      "Done computing similarity matrix.\n",
      "Estimating biases using als...\n",
      "Computing the cosine similarity matrix...\n",
      "Done computing similarity matrix.\n",
      "Estimating biases using als...\n",
      "Computing the cosine similarity matrix...\n",
      "Done computing similarity matrix.\n",
      "Estimating biases using als...\n",
      "Computing the cosine similarity matrix...\n",
      "Done computing similarity matrix.\n",
      "Estimating biases using als...\n",
      "Computing the cosine similarity matrix...\n",
      "Done computing similarity matrix.\n",
      "Estimating biases using als...\n",
      "Computing the cosine similarity matrix...\n",
      "Done computing similarity matrix.\n",
      "Estimating biases using als...\n",
      "Computing the pearson_baseline similarity matrix...\n",
      "Done computing similarity matrix.\n",
      "Estimating biases using als...\n",
      "Computing the pearson_baseline similarity matrix...\n",
      "Done computing similarity matrix.\n",
      "Estimating biases using als...\n",
      "Computing the pearson_baseline similarity matrix...\n",
      "Done computing similarity matrix.\n",
      "Estimating biases using als...\n",
      "Computing the pearson_baseline similarity matrix...\n",
      "Done computing similarity matrix.\n",
      "Estimating biases using als...\n",
      "Computing the pearson_baseline similarity matrix...\n",
      "Done computing similarity matrix.\n",
      "Estimating biases using als...\n",
      "Computing the pearson_baseline similarity matrix...\n",
      "Done computing similarity matrix.\n",
      "Estimating biases using als...\n",
      "Computing the pearson_baseline similarity matrix...\n",
      "Done computing similarity matrix.\n",
      "Estimating biases using als...\n",
      "Computing the pearson_baseline similarity matrix...\n",
      "Done computing similarity matrix.\n",
      "Estimating biases using als...\n",
      "Computing the pearson_baseline similarity matrix...\n",
      "Done computing similarity matrix.\n",
      "Estimating biases using als...\n",
      "Computing the pearson_baseline similarity matrix...\n",
      "Done computing similarity matrix.\n",
      "Estimating biases using als...\n",
      "Computing the cosine similarity matrix...\n",
      "Done computing similarity matrix.\n",
      "Estimating biases using als...\n",
      "Computing the cosine similarity matrix...\n",
      "Done computing similarity matrix.\n",
      "Estimating biases using als...\n",
      "Computing the cosine similarity matrix...\n",
      "Done computing similarity matrix.\n",
      "Estimating biases using als...\n",
      "Computing the cosine similarity matrix...\n",
      "Done computing similarity matrix.\n",
      "Estimating biases using als...\n",
      "Computing the cosine similarity matrix...\n",
      "Done computing similarity matrix.\n",
      "Estimating biases using als...\n",
      "Computing the cosine similarity matrix...\n",
      "Done computing similarity matrix.\n",
      "Estimating biases using als...\n",
      "Computing the cosine similarity matrix...\n",
      "Done computing similarity matrix.\n",
      "Estimating biases using als...\n",
      "Computing the cosine similarity matrix...\n",
      "Done computing similarity matrix.\n",
      "Estimating biases using als...\n",
      "Computing the cosine similarity matrix...\n",
      "Done computing similarity matrix.\n",
      "Estimating biases using als...\n",
      "Computing the cosine similarity matrix...\n",
      "Done computing similarity matrix.\n",
      "Estimating biases using als...\n",
      "Computing the pearson_baseline similarity matrix...\n",
      "Done computing similarity matrix.\n",
      "Estimating biases using als...\n",
      "Computing the pearson_baseline similarity matrix...\n",
      "Done computing similarity matrix.\n",
      "Estimating biases using als...\n",
      "Computing the pearson_baseline similarity matrix...\n",
      "Done computing similarity matrix.\n",
      "Estimating biases using als...\n",
      "Computing the pearson_baseline similarity matrix...\n",
      "Done computing similarity matrix.\n",
      "Estimating biases using als...\n",
      "Computing the pearson_baseline similarity matrix...\n",
      "Done computing similarity matrix.\n",
      "Estimating biases using als...\n",
      "Computing the pearson_baseline similarity matrix...\n",
      "Done computing similarity matrix.\n",
      "Estimating biases using als...\n",
      "Computing the pearson_baseline similarity matrix...\n",
      "Done computing similarity matrix.\n",
      "Estimating biases using als...\n",
      "Computing the pearson_baseline similarity matrix...\n",
      "Done computing similarity matrix.\n",
      "Estimating biases using als...\n",
      "Computing the pearson_baseline similarity matrix...\n",
      "Done computing similarity matrix.\n",
      "Estimating biases using als...\n",
      "Computing the pearson_baseline similarity matrix...\n",
      "Done computing similarity matrix.\n",
      "Estimating biases using als...\n",
      "Computing the cosine similarity matrix...\n",
      "Done computing similarity matrix.\n",
      "Estimating biases using als...\n",
      "Computing the cosine similarity matrix...\n",
      "Done computing similarity matrix.\n",
      "Estimating biases using als...\n",
      "Computing the cosine similarity matrix...\n",
      "Done computing similarity matrix.\n",
      "Estimating biases using als...\n",
      "Computing the cosine similarity matrix...\n",
      "Done computing similarity matrix.\n",
      "Estimating biases using als...\n",
      "Computing the cosine similarity matrix...\n",
      "Done computing similarity matrix.\n",
      "Estimating biases using als...\n",
      "Computing the cosine similarity matrix...\n",
      "Done computing similarity matrix.\n",
      "Estimating biases using als...\n",
      "Computing the cosine similarity matrix...\n",
      "Done computing similarity matrix.\n",
      "Estimating biases using als...\n",
      "Computing the cosine similarity matrix...\n",
      "Done computing similarity matrix.\n",
      "Estimating biases using als...\n",
      "Computing the cosine similarity matrix...\n",
      "Done computing similarity matrix.\n",
      "Estimating biases using als...\n",
      "Computing the cosine similarity matrix...\n",
      "Done computing similarity matrix.\n",
      "Estimating biases using als...\n",
      "Computing the pearson_baseline similarity matrix...\n",
      "Done computing similarity matrix.\n",
      "Estimating biases using als...\n",
      "Computing the pearson_baseline similarity matrix...\n",
      "Done computing similarity matrix.\n",
      "Estimating biases using als...\n",
      "Computing the pearson_baseline similarity matrix...\n",
      "Done computing similarity matrix.\n",
      "Estimating biases using als...\n",
      "Computing the pearson_baseline similarity matrix...\n",
      "Done computing similarity matrix.\n",
      "Estimating biases using als...\n",
      "Computing the pearson_baseline similarity matrix...\n",
      "Done computing similarity matrix.\n",
      "Estimating biases using als...\n",
      "Computing the pearson_baseline similarity matrix...\n",
      "Done computing similarity matrix.\n",
      "Estimating biases using als...\n",
      "Computing the pearson_baseline similarity matrix...\n",
      "Done computing similarity matrix.\n",
      "Estimating biases using als...\n",
      "Computing the pearson_baseline similarity matrix...\n",
      "Done computing similarity matrix.\n",
      "Estimating biases using als...\n",
      "Computing the pearson_baseline similarity matrix...\n",
      "Done computing similarity matrix.\n",
      "Estimating biases using als...\n",
      "Computing the pearson_baseline similarity matrix...\n",
      "Done computing similarity matrix.\n",
      "Estimating biases using als...\n",
      "Computing the cosine similarity matrix...\n",
      "Done computing similarity matrix.\n",
      "Estimating biases using als...\n",
      "Computing the cosine similarity matrix...\n",
      "Done computing similarity matrix.\n",
      "Estimating biases using als...\n",
      "Computing the cosine similarity matrix...\n",
      "Done computing similarity matrix.\n",
      "Estimating biases using als...\n",
      "Computing the cosine similarity matrix...\n",
      "Done computing similarity matrix.\n",
      "Estimating biases using als...\n",
      "Computing the cosine similarity matrix...\n",
      "Done computing similarity matrix.\n",
      "Estimating biases using als...\n",
      "Computing the cosine similarity matrix...\n",
      "Done computing similarity matrix.\n",
      "Estimating biases using als...\n",
      "Computing the cosine similarity matrix...\n",
      "Done computing similarity matrix.\n",
      "Estimating biases using als...\n",
      "Computing the cosine similarity matrix...\n",
      "Done computing similarity matrix.\n",
      "Estimating biases using als...\n",
      "Computing the cosine similarity matrix...\n",
      "Done computing similarity matrix.\n",
      "Estimating biases using als...\n",
      "Computing the cosine similarity matrix...\n",
      "Done computing similarity matrix.\n",
      "Estimating biases using als...\n",
      "Computing the pearson_baseline similarity matrix...\n",
      "Done computing similarity matrix.\n",
      "Estimating biases using als...\n",
      "Computing the pearson_baseline similarity matrix...\n",
      "Done computing similarity matrix.\n",
      "Estimating biases using als...\n",
      "Computing the pearson_baseline similarity matrix...\n",
      "Done computing similarity matrix.\n",
      "Estimating biases using als...\n",
      "Computing the pearson_baseline similarity matrix...\n",
      "Done computing similarity matrix.\n",
      "Estimating biases using als...\n",
      "Computing the pearson_baseline similarity matrix...\n",
      "Done computing similarity matrix.\n",
      "Estimating biases using als...\n",
      "Computing the pearson_baseline similarity matrix...\n",
      "Done computing similarity matrix.\n",
      "Estimating biases using als...\n",
      "Computing the pearson_baseline similarity matrix...\n",
      "Done computing similarity matrix.\n",
      "Estimating biases using als...\n",
      "Computing the pearson_baseline similarity matrix...\n",
      "Done computing similarity matrix.\n",
      "Estimating biases using als...\n",
      "Computing the pearson_baseline similarity matrix...\n",
      "Done computing similarity matrix.\n",
      "Estimating biases using als...\n",
      "Computing the pearson_baseline similarity matrix...\n",
      "Done computing similarity matrix.\n",
      "Estimating biases using als...\n",
      "Computing the cosine similarity matrix...\n",
      "Done computing similarity matrix.\n",
      "Estimating biases using als...\n",
      "Computing the cosine similarity matrix...\n",
      "Done computing similarity matrix.\n",
      "Estimating biases using als...\n",
      "Computing the cosine similarity matrix...\n",
      "Done computing similarity matrix.\n",
      "Estimating biases using als...\n",
      "Computing the cosine similarity matrix...\n",
      "Done computing similarity matrix.\n",
      "Estimating biases using als...\n",
      "Computing the cosine similarity matrix...\n",
      "Done computing similarity matrix.\n",
      "Estimating biases using als...\n",
      "Computing the cosine similarity matrix...\n",
      "Done computing similarity matrix.\n",
      "Estimating biases using als...\n",
      "Computing the cosine similarity matrix...\n",
      "Done computing similarity matrix.\n",
      "Estimating biases using als...\n",
      "Computing the cosine similarity matrix...\n",
      "Done computing similarity matrix.\n",
      "Estimating biases using als...\n",
      "Computing the cosine similarity matrix...\n",
      "Done computing similarity matrix.\n",
      "Estimating biases using als...\n",
      "Computing the cosine similarity matrix...\n",
      "Done computing similarity matrix.\n",
      "Estimating biases using als...\n",
      "Computing the pearson_baseline similarity matrix...\n",
      "Done computing similarity matrix.\n",
      "Estimating biases using als...\n",
      "Computing the pearson_baseline similarity matrix...\n",
      "Done computing similarity matrix.\n",
      "Estimating biases using als...\n",
      "Computing the pearson_baseline similarity matrix...\n",
      "Done computing similarity matrix.\n",
      "Estimating biases using als...\n",
      "Computing the pearson_baseline similarity matrix...\n",
      "Done computing similarity matrix.\n",
      "Estimating biases using als...\n",
      "Computing the pearson_baseline similarity matrix...\n",
      "Done computing similarity matrix.\n",
      "Estimating biases using als...\n",
      "Computing the pearson_baseline similarity matrix...\n",
      "Done computing similarity matrix.\n",
      "Estimating biases using als...\n",
      "Computing the pearson_baseline similarity matrix...\n",
      "Done computing similarity matrix.\n",
      "Estimating biases using als...\n",
      "Computing the pearson_baseline similarity matrix...\n",
      "Done computing similarity matrix.\n",
      "Estimating biases using als...\n",
      "Computing the pearson_baseline similarity matrix...\n",
      "Done computing similarity matrix.\n",
      "Estimating biases using als...\n",
      "Computing the pearson_baseline similarity matrix...\n",
      "Done computing similarity matrix.\n",
      "Best RMSE (KNN): 0.8502\n",
      "Best Hyperparameters (KNN): {'k': 60, 'min_k': 5, 'sim_options': {'name': 'pearson_baseline', 'user_based': False}}\n",
      "Estimating biases using als...\n",
      "Computing the pearson_baseline similarity matrix...\n",
      "Done computing similarity matrix.\n",
      "RMSE: 0.8598\n",
      "Test RMSE (KNN): 0.8598\n",
      "Test RMSE (SVD): 0.8597\n"
     ]
    }
   ],
   "source": [
    "from surprise import KNNBaseline\n",
    "\n",
    "# Define the parameter grid for KNNBaseline\n",
    "param_grid_knn = {\n",
    "    'k': [20, 40, 60],           # Number of neighbors\n",
    "    'min_k': [1, 3, 5],          # Minimum number of neighbors\n",
    "    'sim_options': {\n",
    "        'name': ['cosine', 'pearson_baseline'],  # Similarity metrics\n",
    "        'user_based': [True, False]              # User-based or Item-based\n",
    "    }\n",
    "}\n",
    "\n",
    "# Perform grid search to find the best parameters for KNNBaseline\n",
    "grid_search_knn = GridSearchCV(KNNBaseline, param_grid_knn, measures=['rmse'], cv=5)\n",
    "grid_search_knn.fit(ratings_data)\n",
    "\n",
    "# Extract the best RMSE and corresponding hyperparameters for KNN\n",
    "best_rmse_knn = grid_search_knn.best_score['rmse']\n",
    "best_params_knn = grid_search_knn.best_params['rmse']\n",
    "\n",
    "print(f\"Best RMSE (KNN): {best_rmse_knn:.4f}\")\n",
    "print(f\"Best Hyperparameters (KNN): {best_params_knn}\")\n",
    "\n",
    "# Now, let's compare the performance of the best KNN model with the SVD model\n",
    "\n",
    "# Train the best KNN model\n",
    "best_knn_model = KNNBaseline(k=best_params_knn['k'], \n",
    "                             min_k=best_params_knn['min_k'],\n",
    "                             sim_options=best_params_knn['sim_options'])\n",
    "\n",
    "# Train the model on the training set\n",
    "best_knn_model.fit(training_set)\n",
    "\n",
    "# Test the KNN model on the test set\n",
    "knn_test_predictions = best_knn_model.test(test_testset)\n",
    "\n",
    "# Calculate RMSE for the KNN model on the test set\n",
    "knn_test_rmse = accuracy.rmse(knn_test_predictions)\n",
    "print(f\"Test RMSE (KNN): {knn_test_rmse:.4f}\")\n",
    "\n",
    "# Finally, compare with the SVD model's performance\n",
    "print(f\"Test RMSE (SVD): {test_rmse:.4f}\")\n"
   ]
  },
  {
   "cell_type": "markdown",
   "metadata": {},
   "source": [
    "Interpretation:\n",
    "\n",
    "The KNNBaseline model's RMSE is 0.8598, which is almost identical to the SVD model's RMSE of 0.8597.\n",
    "\n",
    "The performance difference is negligible, indicating that both models perform similarly on this dataset."
   ]
  },
  {
   "cell_type": "code",
   "execution_count": null,
   "metadata": {},
   "outputs": [
    {
     "name": "stdout",
     "output_type": "stream",
     "text": [
      "Predicted rating for user 1 on movie 1: 4.56\n"
     ]
    }
   ],
   "source": [
    "# Predict ratings for all user-item pairs\n",
    "def knn_predict(user_id, movie_id):\n",
    "    return best_knn_model.predict(user_id, movie_id).est\n",
    "\n",
    "# Example prediction\n",
    "user_id = 1\n",
    "movie_id = 1\n",
    "predicted_rating = svd_predict(user_id, movie_id)\n",
    "print(f\"Predicted rating for user {user_id} on movie {movie_id}: {predicted_rating:.2f}\")"
   ]
  },
  {
   "cell_type": "markdown",
   "metadata": {},
   "source": [
    "## SVD++ Model\n",
    "\n",
    "SVD++ is an extension of the standard SVD algorithm that incorporates implicit feedback by considering not only the ratings provided by users but also the items they have interacted with, regardless of whether they have rated them. This can lead to better accuracy in predictions."
   ]
  },
  {
   "cell_type": "code",
   "execution_count": null,
   "metadata": {},
   "outputs": [
    {
     "name": "stdout",
     "output_type": "stream",
     "text": [
      "Best RMSE (SVD++): 0.8674\n",
      "Best Hyperparameters (SVD++): {'n_factors': 100, 'n_epochs': 30, 'lr_all': 0.005, 'reg_all': 0.1}\n",
      "RMSE: 0.8685\n",
      "Validation RMSE (SVD++): 0.8685\n",
      "RMSE: 0.8692\n",
      "Final Test RMSE (SVD++): 0.8692\n"
     ]
    }
   ],
   "source": [
    "from surprise import SVDpp\n",
    "from surprise.model_selection import GridSearchCV\n",
    "from surprise import accuracy\n",
    "\n",
    "# Prepare the data in the 'surprise' format\n",
    "reader = Reader(rating_scale=(0.5, 5.0))\n",
    "ratings_data = Dataset.load_from_df(ratings_df[['userId', 'movieId', 'rating']], reader)\n",
    "\n",
    "# Define the parameter grid for SVD++\n",
    "param_grid_svdpp = {\n",
    "    'n_factors': [20, 50, 100],      # Number of latent factors\n",
    "    'n_epochs': [10, 20, 30],        # Number of epochs\n",
    "    'lr_all': [0.002, 0.005],        # Learning rate\n",
    "    'reg_all': [0.02, 0.1]           # Regularization term\n",
    "}\n",
    "\n",
    "# Perform grid search to find the best parameters for SVD++\n",
    "grid_search_svdpp = GridSearchCV(SVDpp, param_grid_svdpp, measures=['rmse'], cv=3, n_jobs=-1)\n",
    "grid_search_svdpp.fit(ratings_data)\n",
    "\n",
    "# Extract the best RMSE and corresponding hyperparameters for SVD++\n",
    "best_rmse_svdpp = grid_search_svdpp.best_score['rmse']\n",
    "best_params_svdpp = grid_search_svdpp.best_params['rmse']\n",
    "\n",
    "print(f\"Best RMSE (SVD++): {best_rmse_svdpp:.4f}\")\n",
    "print(f\"Best Hyperparameters (SVD++): {best_params_svdpp}\")\n",
    "\n",
    "# Use the best parameters to train the final SVD++ model\n",
    "best_svdpp_model = SVDpp(n_factors=best_params_svdpp['n_factors'], \n",
    "                         n_epochs=best_params_svdpp['n_epochs'], \n",
    "                         lr_all=best_params_svdpp['lr_all'], \n",
    "                         reg_all=best_params_svdpp['reg_all'])\n",
    "\n",
    "# Build the trainset for SVD++ model\n",
    "training_set = train_data_surprise.build_full_trainset()\n",
    "\n",
    "# Train the model on the training set\n",
    "best_svdpp_model.fit(training_set)\n",
    "\n",
    "# Build validation and test testsets\n",
    "validation_testset = validation_data[['userId', 'movieId', 'rating']].values.tolist()\n",
    "test_testset = test_data[['userId', 'movieId', 'rating']].values.tolist()\n",
    "\n",
    "# Test the model on the validation set\n",
    "validation_predictions = best_svdpp_model.test(validation_testset)\n",
    "\n",
    "# Calculate RMSE on the validation set\n",
    "validation_rmse_svdpp = accuracy.rmse(validation_predictions)\n",
    "print(f\"Validation RMSE (SVD++): {validation_rmse_svdpp:.4f}\")\n",
    "\n",
    "# Test the model on the test set\n",
    "test_predictions = best_svdpp_model.test(test_testset)\n",
    "\n",
    "# Calculate RMSE on the test set\n",
    "test_rmse_svdpp = accuracy.rmse(test_predictions)\n",
    "print(f\"Final Test RMSE (SVD++): {test_rmse_svdpp:.4f}\")\n"
   ]
  },
  {
   "cell_type": "code",
   "execution_count": null,
   "metadata": {},
   "outputs": [
    {
     "name": "stdout",
     "output_type": "stream",
     "text": [
      "Predicted rating for user 1 on movie 1: 4.56\n"
     ]
    }
   ],
   "source": [
    "# Predict ratings for all user-item pairs\n",
    "def svd_pp_predict(user_id, movie_id):\n",
    "    return best_svdpp_model.predict(user_id, movie_id).est\n",
    "\n",
    "# Example prediction\n",
    "user_id = 1\n",
    "movie_id = 1\n",
    "predicted_rating = svd_predict(user_id, movie_id)\n",
    "print(f\"Predicted rating for user {user_id} on movie {movie_id}: {predicted_rating:.2f}\")"
   ]
  },
  {
   "cell_type": "markdown",
   "metadata": {},
   "source": [
    "## Creating a Hybrid Recommendation System\n",
    "\n",
    "- The SVD model performed the best among the three, achieving the lowest RMSE on both validation and test sets.\n",
    "- The KNNBaseline model performed slightly better than SVD on the test set, but the difference is minimal.\n",
    "- The SVD++ model did not outperform the SVD model, possibly due to overfitting or the complexity of the model given the data.\n",
    "\n",
    "Since the SVD and KNN models have similar performances, combining them might capture different latent factors and similarities, potentially improving recommendations.\n",
    "SVD++ considers implicit feedback (e.g., which items users have interacted with) but may not have added significant value in this case.\n",
    "\n",
    "- Complementary Strengths: SVD captures latent factors through matrix factorization, while KNN captures neighborhood-based similarities.\n",
    "- Mitigating Weaknesses: By blending models, we can mitigate individual weaknesses, such as overemphasis on popular items or sparsity issues.\n",
    "\n",
    "\n",
    "We'll proceed with the following steps:\n",
    "\n",
    "1. Generate Predictions from Each Model:\n",
    "Obtain predicted ratings for the test set from SVD and KNN models.\n",
    "2. Combine Predictions:\n",
    "Merge the predictions based on userId and movieId.\n",
    "Compute a weighted average of the predictions.\n",
    "3. Evaluate the Hybrid Model:\n",
    "Calculate RMSE for the hybrid predictions on the test set.\n",
    "Compare the performance with individual models."
   ]
  },
  {
   "cell_type": "code",
   "execution_count": null,
   "metadata": {},
   "outputs": [
    {
     "name": "stdout",
     "output_type": "stream",
     "text": [
      "RMSE: 0.4156\n",
      "Hybrid Model RMSE: 0.4156\n"
     ]
    }
   ],
   "source": [
    "# Test the SVD model on the test set\n",
    "svd_test_predictions = best_svd_model.test(test_testset)\n",
    "\n",
    "# Test the KNN model on the test set\n",
    "knn_test_predictions = best_knn_model.test(test_testset)\n",
    "\n",
    "def predictions_to_df(predictions, model_name):\n",
    "    pred_df = pd.DataFrame(predictions, columns=['uid', 'iid', 'true_r', 'est', 'details'])\n",
    "    pred_df['model'] = model_name\n",
    "    return pred_df\n",
    "\n",
    "# Convert predictions to DataFrames\n",
    "svd_pred_df = predictions_to_df(svd_test_predictions, 'SVD')\n",
    "knn_pred_df = predictions_to_df(knn_test_predictions, 'KNN')\n",
    "\n",
    "# Merge SVD and KNN predictions\n",
    "merged_pred_df = pd.merge(svd_pred_df, knn_pred_df, on=['uid', 'iid', 'true_r'], suffixes=('_svd', '_knn'))\n",
    "\n",
    "# Assign weights\n",
    "weight_svd = 0.5\n",
    "weight_knn = 0.5\n",
    "\n",
    "# Compute the hybrid prediction\n",
    "merged_pred_df['est_hybrid'] = (weight_svd * merged_pred_df['est_svd']) + (weight_knn * merged_pred_df['est_knn'])\n",
    "\n",
    "# Create a list of Prediction objects for the hybrid model\n",
    "from surprise import Prediction\n",
    "\n",
    "hybrid_predictions = [\n",
    "    Prediction(uid=row['uid'], iid=row['iid'], r_ui=row['true_r'], est=row['est_hybrid'], details={})\n",
    "    for _, row in merged_pred_df.iterrows()\n",
    "]\n",
    "\n",
    "# Calculate RMSE for the hybrid model\n",
    "hybrid_rmse = accuracy.rmse(hybrid_predictions)\n",
    "print(f\"Hybrid Model RMSE: {hybrid_rmse:.4f}\")"
   ]
  },
  {
   "cell_type": "markdown",
   "metadata": {},
   "source": [
    "Next we can adjust weights to find the optimal combination that results in the lowest RMSE"
   ]
  },
  {
   "cell_type": "code",
   "execution_count": null,
   "metadata": {},
   "outputs": [
    {
     "name": "stdout",
     "output_type": "stream",
     "text": [
      "Weights - SVD: 0.0, KNN: 1.0 => Hybrid RMSE: 0.3380\n",
      "Weights - SVD: 0.1, KNN: 0.9 => Hybrid RMSE: 0.3481\n",
      "Weights - SVD: 0.2, KNN: 0.8 => Hybrid RMSE: 0.3611\n",
      "Weights - SVD: 0.3, KNN: 0.7 => Hybrid RMSE: 0.3770\n",
      "Weights - SVD: 0.4, KNN: 0.6 => Hybrid RMSE: 0.3953\n",
      "Weights - SVD: 0.5, KNN: 0.5 => Hybrid RMSE: 0.4156\n",
      "Weights - SVD: 0.6, KNN: 0.4 => Hybrid RMSE: 0.4378\n",
      "Weights - SVD: 0.7, KNN: 0.30000000000000004 => Hybrid RMSE: 0.4615\n",
      "Weights - SVD: 0.8, KNN: 0.19999999999999996 => Hybrid RMSE: 0.4866\n",
      "Weights - SVD: 0.9, KNN: 0.09999999999999998 => Hybrid RMSE: 0.5128\n",
      "Weights - SVD: 1.0, KNN: 0.0 => Hybrid RMSE: 0.5399\n"
     ]
    }
   ],
   "source": [
    "# Function to compute RMSE for given weights\n",
    "def compute_hybrid_rmse(weight_svd, weight_knn):\n",
    "    merged_pred_df['est_hybrid'] = (weight_svd * merged_pred_df['est_svd']) + (weight_knn * merged_pred_df['est_knn'])\n",
    "    hybrid_predictions = [\n",
    "        Prediction(uid=row['uid'], iid=row['iid'], r_ui=row['true_r'], est=row['est_hybrid'], details={})\n",
    "        for _, row in merged_pred_df.iterrows()\n",
    "    ]\n",
    "    hybrid_rmse = accuracy.rmse(hybrid_predictions, verbose=False)\n",
    "    return hybrid_rmse\n",
    "\n",
    "# Test different weight combinations\n",
    "weights = [(w / 10.0, 1 - w / 10.0) for w in range(11)]\n",
    "for w_svd, w_knn in weights:\n",
    "    rmse = compute_hybrid_rmse(w_svd, w_knn)\n",
    "    print(f\"Weights - SVD: {w_svd}, KNN: {w_knn} => Hybrid RMSE: {rmse:.4f}\")\n"
   ]
  },
  {
   "cell_type": "markdown",
   "metadata": {},
   "source": [
    "To evaluate how well the hybrid model performs in ranking items, you can compute Precision@K and Recall@K."
   ]
  },
  {
   "cell_type": "code",
   "execution_count": null,
   "metadata": {},
   "outputs": [
    {
     "name": "stdout",
     "output_type": "stream",
     "text": [
      "Hybrid Model Precision@10: 0.9583\n",
      "Hybrid Model Recall@10: 0.6863\n"
     ]
    }
   ],
   "source": [
    "def precision_recall_at_k(predictions, k=10, threshold=3.5):\n",
    "    from collections import defaultdict\n",
    "    \n",
    "    # Map the predictions to each user\n",
    "    user_est_true = defaultdict(list)\n",
    "    for uid, _, true_r, est, _ in predictions:\n",
    "        user_est_true[uid].append((est, true_r))\n",
    "    \n",
    "    precisions = dict()\n",
    "    recalls = dict()\n",
    "    for uid, user_ratings in user_est_true.items():\n",
    "        # Sort user ratings by estimated value\n",
    "        user_ratings.sort(key=lambda x: x[0], reverse=True)\n",
    "        \n",
    "        # Number of relevant items\n",
    "        n_rel = sum((true_r >= threshold) for (_, true_r) in user_ratings)\n",
    "        \n",
    "        # Number of recommended items in top k\n",
    "        n_rec_k = sum((est >= threshold) for (est, _) in user_ratings[:k])\n",
    "        \n",
    "        # Number of relevant and recommended items in top k\n",
    "        n_rel_and_rec_k = sum(((true_r >= threshold) and (est >= threshold))\n",
    "                              for (est, true_r) in user_ratings[:k])\n",
    "        \n",
    "        # Precision@K\n",
    "        precisions[uid] = n_rel_and_rec_k / n_rec_k if n_rec_k != 0 else 0\n",
    "        \n",
    "        # Recall@K\n",
    "        recalls[uid] = n_rel_and_rec_k / n_rel if n_rel != 0 else 0\n",
    "    \n",
    "    # Average precision and recall\n",
    "    avg_precision = sum(prec for prec in precisions.values()) / len(precisions)\n",
    "    avg_recall = sum(rec for rec in recalls.values()) / len(recalls)\n",
    "    return avg_precision, avg_recall\n",
    "\n",
    "# Compute Precision@K and Recall@K for the hybrid model\n",
    "precision, recall = precision_recall_at_k(hybrid_predictions, k=10, threshold=3.5)\n",
    "print(f\"Hybrid Model Precision@10: {precision:.4f}\")\n",
    "print(f\"Hybrid Model Recall@10: {recall:.4f}\")\n"
   ]
  },
  {
   "cell_type": "markdown",
   "metadata": {},
   "source": [
    "# Adressing the Cold Start Problem\n",
    "Addressing the Cold Start Problem is crucial for building an effective recommendation system, especially for new users or items with little to no interaction data. \n",
    "\n",
    "## Content-Based Filtering\n",
    "This is an excellent approach to tackle this issue by utilizing the inherent features of the items and users.\n",
    "\n",
    "We have movie genres and movie tags to work with. \n",
    "\n",
    "First, let's combine genres and tags to create a comprehensive feature set for each movie."
   ]
  },
  {
   "cell_type": "code",
   "execution_count": null,
   "metadata": {},
   "outputs": [],
   "source": [
    "# Merge tags with movies on 'movieId'\n",
    "movies_with_tags = pd.merge(movies_df, tags_df[['movieId', 'tag']], on='movieId', how='left')\n",
    "\n",
    "# Replace NaN tags with empty strings\n",
    "movies_with_tags['tag'] = movies_with_tags['tag'].fillna('')\n"
   ]
  },
  {
   "cell_type": "markdown",
   "metadata": {},
   "source": [
    "Since genres are lists, we'll convert them into strings before combining them with tags.\n",
    "\n"
   ]
  },
  {
   "cell_type": "code",
   "execution_count": null,
   "metadata": {},
   "outputs": [],
   "source": [
    "# Convert genres list to string\n",
    "movies_with_tags['genres_str'] = movies_with_tags['genres'].apply(lambda x: ' '.join(x))\n",
    "\n",
    "# Combine genres and tags into a single string\n",
    "movies_with_tags['genres_tags'] = movies_with_tags['genres_str'] + ' ' + movies_with_tags['tag']\n"
   ]
  },
  {
   "cell_type": "markdown",
   "metadata": {},
   "source": [
    "We'll preprocess the text data by converting it to lowercase and removing special characters.\n",
    "\n"
   ]
  },
  {
   "cell_type": "code",
   "execution_count": null,
   "metadata": {},
   "outputs": [],
   "source": [
    "import re\n",
    "\n",
    "def preprocess(text):\n",
    "    # Convert to lowercase\n",
    "    text = text.lower()\n",
    "    # Remove special characters and digits\n",
    "    text = re.sub(r'[^a-zA-Z\\s]', '', text)\n",
    "    return text\n",
    "\n",
    "movies_with_tags['genres_tags'] = movies_with_tags['genres_tags'].apply(preprocess)\n"
   ]
  },
  {
   "cell_type": "markdown",
   "metadata": {},
   "source": [
    "We'll use TF-IDF Vectorization to convert the combined genres and tags text into numerical feature vectors."
   ]
  },
  {
   "cell_type": "code",
   "execution_count": null,
   "metadata": {},
   "outputs": [
    {
     "name": "stdout",
     "output_type": "stream",
     "text": [
      "TF-IDF matrix shape: (11853, 1677)\n"
     ]
    }
   ],
   "source": [
    "from sklearn.feature_extraction.text import TfidfVectorizer\n",
    "\n",
    "# Initialize the TF-IDF Vectorizer\n",
    "tfidf = TfidfVectorizer(stop_words='english')\n",
    "\n",
    "# Fit and transform the genres_tags column\n",
    "tfidf_matrix = tfidf.fit_transform(movies_with_tags['genres_tags'])\n",
    "\n",
    "# Check the shape of the TF-IDF matrix\n",
    "print(f'TF-IDF matrix shape: {tfidf_matrix.shape}')\n"
   ]
  },
  {
   "cell_type": "markdown",
   "metadata": {},
   "source": [
    "Collect User Preferences\n",
    "For new users, we'll simulate collecting their preferences. For example, let's assume a user likes \"Action\" and \"Sci-Fi\" movies and is interested in tags like \"space\" and \"future\"."
   ]
  },
  {
   "cell_type": "code",
   "execution_count": null,
   "metadata": {},
   "outputs": [
    {
     "name": "stdout",
     "output_type": "stream",
     "text": [
      "User profile text: action scifi space future\n"
     ]
    }
   ],
   "source": [
    "# Example user preferences\n",
    "user_genres = ['Action', 'Sci-Fi']\n",
    "user_tags = ['space', 'future']\n",
    "\n",
    "# Combine preferences into a single string\n",
    "user_profile_text = ' '.join(user_genres + user_tags)\n",
    "user_profile_text = preprocess(user_profile_text)\n",
    "print(f'User profile text: {user_profile_text}')\n"
   ]
  },
  {
   "cell_type": "markdown",
   "metadata": {},
   "source": [
    "Transform the user profile text into a TF-IDF vector using the same vectorizer we used for the movies."
   ]
  },
  {
   "cell_type": "code",
   "execution_count": null,
   "metadata": {},
   "outputs": [],
   "source": [
    "# Transform the user profile text using the TF-IDF vectorizer\n",
    "user_profile_vector = tfidf.transform([user_profile_text])\n"
   ]
  },
  {
   "cell_type": "markdown",
   "metadata": {},
   "source": [
    "Compute the cosine similarity between the user profile vector and each movie's feature vector."
   ]
  },
  {
   "cell_type": "code",
   "execution_count": null,
   "metadata": {},
   "outputs": [],
   "source": [
    "from sklearn.metrics.pairwise import cosine_similarity\n",
    "\n",
    "# Calculate cosine similarity\n",
    "cosine_similarities = cosine_similarity(user_profile_vector, tfidf_matrix).flatten()\n"
   ]
  },
  {
   "cell_type": "code",
   "execution_count": null,
   "metadata": {},
   "outputs": [
    {
     "name": "stdout",
     "output_type": "stream",
     "text": [
      "Top 10 Movie Recommendations:\n",
      "                                           title  \\\n",
      "306    Star Wars: Episode IV - A New Hope (1977)   \n",
      "295    Star Wars: Episode IV - A New Hope (1977)   \n",
      "8619                            Star Trek (2009)   \n",
      "11653       Black Mirror: White Christmas (2014)   \n",
      "1860                              Gattaca (1997)   \n",
      "1145                2001: A Space Odyssey (1968)   \n",
      "839                          Blade Runner (1982)   \n",
      "4966                      Minority Report (2002)   \n",
      "10608                             Taken 3 (2015)   \n",
      "9874                     Django Unchained (2012)   \n",
      "\n",
      "                                     genres  similarity_score  \n",
      "306                 Action|Adventure|Sci-Fi          0.680008  \n",
      "295                 Action|Adventure|Sci-Fi          0.680008  \n",
      "8619           Action|Adventure|Sci-Fi|IMAX          0.567017  \n",
      "11653  Drama|Horror|Mystery|Sci-Fi|Thriller          0.567017  \n",
      "1860                  Drama|Sci-Fi|Thriller          0.567017  \n",
      "1145                 Adventure|Drama|Sci-Fi          0.567017  \n",
      "839                  Action|Sci-Fi|Thriller          0.567017  \n",
      "4966   Action|Crime|Mystery|Sci-Fi|Thriller          0.567017  \n",
      "10608                 Action|Crime|Thriller          0.490034  \n",
      "9874                   Action|Drama|Western          0.490034  \n"
     ]
    }
   ],
   "source": [
    "# Add similarity scores to the movies DataFrame\n",
    "movies_with_tags['similarity_score'] = cosine_similarities\n",
    "\n",
    "# Sort movies based on similarity scores in descending order\n",
    "recommendations = movies_with_tags.sort_values(by='similarity_score', ascending=False)\n",
    "\n",
    "# Get the top 10 recommendations\n",
    "top_10_recommendations = recommendations[['title', 'genres', 'similarity_score']].head(10)\n",
    "\n",
    "print(\"Top 10 Movie Recommendations:\")\n",
    "print(top_10_recommendations)\n"
   ]
  },
  {
   "cell_type": "markdown",
   "metadata": {},
   "source": [
    "- Genres and Tags: We've utilized both genres and tags to create a rich feature representation of each movie. Since genres are categorical and tags are user-generated, combining them provides a comprehensive view of the movie's content.\n",
    "\n",
    "- User Profile: The user's preferences are encoded into the same feature space as the movies, allowing for direct comparison.\n",
    "\n",
    "- Cosine Similarity: By computing the cosine similarity, we measure how closely a movie's content aligns with the user's preferences."
   ]
  },
  {
   "cell_type": "markdown",
   "metadata": {},
   "source": [
    "# Adding Content Based Filtering to our hybrid Collaborative filtering algorithm\n",
    "\n",
    "Combining both collaborative filtering and content-based filtering into a hybrid recommendation system can leverage the strengths of both approaches to provide more accurate and personalized recommendations. \n",
    "\n",
    "We can do this by blending predictions, combining the scores from both collaborative and content-based methods, and using weighted averages to adjust the influence of each method.\n",
    "\n",
    "Weights can be adjusted based on the amount of available data (e.g., number of ratings) to ensure that the more reliable method (collaborative filtering in this case) has a greater impact on the final recommendation."
   ]
  },
  {
   "cell_type": "markdown",
   "metadata": {},
   "source": [
    "First, we predict the ratings of the items that the user has not rated before using collaborative filtering."
   ]
  },
  {
   "cell_type": "code",
   "execution_count": null,
   "metadata": {},
   "outputs": [],
   "source": [
    "# Get a list of all movie IDs\n",
    "all_movie_ids = movies_df['movieId'].unique()\n",
    "\n",
    "# Assume we have a target user\n",
    "target_user_id = 1  # Replace with the actual user ID\n",
    "\n",
    "# Get movies the user has already rated\n",
    "rated_movies = ratings_df[ratings_df['userId'] == target_user_id]['movieId'].tolist()\n",
    "\n",
    "# Get movies the user hasn't rated yet\n",
    "unrated_movies = [movie_id for movie_id in all_movie_ids if movie_id not in rated_movies]\n",
    "\n",
    "# Assign weights for SVD and KNN\n",
    "weight_svd = 0.5\n",
    "weight_knn = 0.5\n",
    "\n",
    "# Predict ratings for unrated movies using the hybrid CF model\n",
    "cf_predictions = []\n",
    "for movie_id in unrated_movies:\n",
    "    # Get SVD prediction\n",
    "    svd_pred = best_svd_model.predict(target_user_id, movie_id).est\n",
    "    # Get KNN prediction\n",
    "    knn_pred = best_knn_model.predict(target_user_id, movie_id).est\n",
    "    # Combine predictions using the assigned weights\n",
    "    cf_hybrid_pred = (weight_svd * svd_pred) + (weight_knn * knn_pred)\n",
    "    cf_predictions.append((movie_id, cf_hybrid_pred))\n"
   ]
  },
  {
   "cell_type": "markdown",
   "metadata": {},
   "source": [
    "Then we compute similarity scores between the user profile and all movies."
   ]
  },
  {
   "cell_type": "code",
   "execution_count": null,
   "metadata": {},
   "outputs": [],
   "source": [
    "# Build user profile based on their rated movies\n",
    "user_ratings = ratings_df[ratings_df['userId'] == target_user_id]\n",
    "\n",
    "# Merge with movies to get genres and tags\n",
    "user_movies = pd.merge(user_ratings, movies_with_tags, on='movieId', how='left')\n",
    "\n",
    "# Weighted sum of TF-IDF vectors based on ratings\n",
    "user_profile_tfidf = np.zeros(tfidf_matrix.shape[1])\n",
    "\n",
    "for idx, row in user_movies.iterrows():\n",
    "    # Get the TF-IDF vector for this movie\n",
    "    movie_idx = movies_with_tags.index[movies_with_tags['movieId'] == row['movieId']][0]\n",
    "    movie_tfidf = tfidf_matrix[movie_idx].toarray().flatten()\n",
    "    # Weight by the user's rating\n",
    "    user_profile_tfidf += movie_tfidf * row['rating']\n",
    "\n",
    "# Normalize the user profile vector\n",
    "user_profile_tfidf = user_profile_tfidf / np.linalg.norm(user_profile_tfidf)\n",
    "\n",
    "# Compute cosine similarity between user profile and all movie vectors\n",
    "content_similarities = cosine_similarity([user_profile_tfidf], tfidf_matrix).flatten()\n",
    "\n",
    "# Create a list of content-based predictions for unrated movies\n",
    "cb_predictions = []\n",
    "for idx, movie_id in enumerate(movies_with_tags['movieId']):\n",
    "    if movie_id in unrated_movies:\n",
    "        cb_predictions.append((movie_id, content_similarities[idx]))\n"
   ]
  },
  {
   "cell_type": "markdown",
   "metadata": {},
   "source": [
    "We'll combine the collaborative filtering and content-based predictions.\n",
    "\n"
   ]
  },
  {
   "cell_type": "code",
   "execution_count": null,
   "metadata": {},
   "outputs": [],
   "source": [
    "# Convert predictions to DataFrames\n",
    "cf_pred_df = pd.DataFrame(cf_predictions, columns=['movieId', 'cf_score'])\n",
    "cb_pred_df = pd.DataFrame(cb_predictions, columns=['movieId', 'cb_score'])\n",
    "\n",
    "# Merge the predictions on 'movieId'\n",
    "hybrid_pred_df = pd.merge(cf_pred_df, cb_pred_df, on='movieId', how='inner')\n"
   ]
  },
  {
   "cell_type": "markdown",
   "metadata": {},
   "source": [
    "Since the CF scores (predicted ratings) and CB scores (cosine similarities) are on different scales, we need to normalize them to ensure fair weighting."
   ]
  },
  {
   "cell_type": "code",
   "execution_count": null,
   "metadata": {},
   "outputs": [],
   "source": [
    "# Normalize CF scores to range [0, 1]\n",
    "cf_min = cf_pred_df['cf_score'].min()\n",
    "cf_max = cf_pred_df['cf_score'].max()\n",
    "cf_pred_df['cf_score_normalized'] = (cf_pred_df['cf_score'] - cf_min) / (cf_max - cf_min)\n",
    "\n",
    "# CB scores are cosine similarities between 0 and 1 (ensure they are within this range)\n",
    "cb_pred_df['cb_score_normalized'] = cb_pred_df['cb_score']\n",
    "\n",
    "# Update the merged DataFrame with normalized scores\n",
    "hybrid_pred_df = pd.merge(cf_pred_df[['movieId', 'cf_score_normalized']], cb_pred_df[['movieId', 'cb_score_normalized']], on='movieId')\n"
   ]
  },
  {
   "cell_type": "markdown",
   "metadata": {},
   "source": [
    "Then we calculate the weighhts for CF and CB components based on user activity, i.e if the user has rated many movies, we give more weight to collaborative filtering.\n",
    "\n",
    "- Users with more ratings get a higher cf_weight since collaborative filtering is more effective with more data.\n",
    "- Conversely, users with fewer ratings rely more on content-based filtering."
   ]
  },
  {
   "cell_type": "code",
   "execution_count": null,
   "metadata": {},
   "outputs": [],
   "source": [
    "# Calculate weights based on user activity\n",
    "num_user_ratings = len(user_ratings)\n",
    "max_ratings = ratings_df['userId'].value_counts().max()\n",
    "cf_weight = num_user_ratings / max_ratings\n",
    "cb_weight = 1 - cf_weight"
   ]
  },
  {
   "cell_type": "markdown",
   "metadata": {},
   "source": [
    "Then we compute the final hybrid score by combining the CF and CB predictions using the computed weights:"
   ]
  },
  {
   "cell_type": "code",
   "execution_count": null,
   "metadata": {},
   "outputs": [],
   "source": [
    "# Compute the final hybrid score\n",
    "hybrid_pred_df['hybrid_score'] = (cf_weight * hybrid_pred_df['cf_score_normalized']) + (cb_weight * hybrid_pred_df['cb_score_normalized'])\n"
   ]
  },
  {
   "cell_type": "markdown",
   "metadata": {},
   "source": [
    "Finally, we merge the hybrid predictions with the movies DataFrame to get the titles and sort the results by the hybrid score in descending order to get the top 10 recommendations."
   ]
  },
  {
   "cell_type": "code",
   "execution_count": null,
   "metadata": {},
   "outputs": [
    {
     "name": "stdout",
     "output_type": "stream",
     "text": [
      "Top 10 Movie Recommendations:\n",
      "                                                   title  hybrid_score\n",
      "6719                          Kiss Kiss Bang Bang (2005)      0.807932\n",
      "1075                                 12 Angry Men (1957)      0.802459\n",
      "8425                          Social Network, The (2010)      0.790437\n",
      "3600                                         More (1998)      0.578585\n",
      "10031                           The Hateful Eight (2015)      0.574903\n",
      "1505                                       Sphere (1998)      0.558262\n",
      "695    Dr. Strangelove or: How I Learned to Stop Worr...      0.480472\n",
      "698    Dr. Strangelove or: How I Learned to Stop Worr...      0.480472\n",
      "703    Dr. Strangelove or: How I Learned to Stop Worr...      0.480472\n",
      "716                                 Trainspotting (1996)      0.473237\n"
     ]
    }
   ],
   "source": [
    "# Merge with movies DataFrame to get titles\n",
    "hybrid_pred_df = pd.merge(hybrid_pred_df, movies_df[['movieId', 'title']], on='movieId', how='left')\n",
    "\n",
    "# Sort by hybrid score in descending order\n",
    "hybrid_pred_df = hybrid_pred_df.sort_values(by='hybrid_score', ascending=False)\n",
    "\n",
    "# Get top 10 recommendations\n",
    "top_10_recommendations = hybrid_pred_df.head(10)\n",
    "\n",
    "print(\"Top 10 Movie Recommendations:\")\n",
    "print(top_10_recommendations[['title', 'hybrid_score']])\n"
   ]
  },
  {
   "cell_type": "markdown",
   "metadata": {},
   "source": [
    "Putting it all into a function"
   ]
  },
  {
   "cell_type": "markdown",
   "metadata": {},
   "source": [
    "Now we can modify the get_user_recommendations() function to allow users to select preferred genres or tags, which will be used to generate movie recommendations. \n",
    "\n",
    "The function will accommodate three scenarios:\n",
    "\n",
    "1. Existing Users with Ratings: If a user_id is provided and exists in the dataset, the function will generate recommendations based on both the user's past ratings and the specified genres or tags.\n",
    "\n",
    "2. New Users or Users without Ratings: If a user_id is not provided or the user has no ratings, the function will rely solely on the preferred genres or tags to generate recommendations.\n",
    "\n",
    "3. Users Providing Only Preferences: If a user_id is not provided, but preferred genres or tags are specified, the function will use these preferences to generate recommendations."
   ]
  },
  {
   "cell_type": "code",
   "execution_count": null,
   "metadata": {},
   "outputs": [],
   "source": [
    "import pandas as pd\n",
    "import numpy as np\n",
    "from sklearn.metrics.pairwise import cosine_similarity\n",
    "from surprise import Prediction\n",
    "\n",
    "def get_user_recommendations(user_id=None, num_recommendations=10, preferred_genres=None, preferred_tags=None):\n",
    "    \"\"\"\n",
    "    Generate personalized movie recommendations for a given user or based on preferred genres/tags.\n",
    "\n",
    "    Parameters:\n",
    "    - user_id (int, optional): The ID of the user. If None, recommendations will be based on preferred genres/tags.\n",
    "    - num_recommendations (int): The number of recommendations to return.\n",
    "    - preferred_genres (list, optional): A list of preferred genres.\n",
    "    - preferred_tags (list, optional): A list of preferred tags.\n",
    "\n",
    "    Returns:\n",
    "    - recommendations_df (DataFrame): A DataFrame containing the recommended movies,\n",
    "      their hybrid scores, and explanations.\n",
    "    \"\"\"\n",
    "    # Validate inputs\n",
    "    if user_id is not None and user_id not in ratings_df['userId'].unique():\n",
    "        print(f\"User ID {user_id} not found. Recommendations will be based on preferred genres/tags.\")\n",
    "        user_id = None\n",
    "\n",
    "    # Initialize variables\n",
    "    all_movie_ids = movies_df['movieId'].unique()\n",
    "\n",
    "    # Movies the user has already rated\n",
    "    if user_id is not None:\n",
    "        user_ratings = ratings_df[ratings_df['userId'] == user_id]\n",
    "        rated_movies = user_ratings['movieId'].tolist()\n",
    "    else:\n",
    "        user_ratings = pd.DataFrame()\n",
    "        rated_movies = []\n",
    "\n",
    "    # Movies the user hasn't rated yet\n",
    "    unrated_movies = [movie_id for movie_id in all_movie_ids if movie_id not in rated_movies]\n",
    "\n",
    "    # **Collaborative Filtering Predictions using Hybrid CF (SVD + KNN)**\n",
    "    if user_id is not None and not user_ratings.empty:\n",
    "        cf_predictions = []\n",
    "        for movie_id in unrated_movies:\n",
    "            # Get SVD prediction\n",
    "            svd_pred = best_svd_model.predict(user_id, movie_id).est\n",
    "            # Get KNNBaseline prediction\n",
    "            knn_pred = best_knn_model.predict(user_id, movie_id).est\n",
    "            # Combine predictions using equal weights (can be adjusted)\n",
    "            cf_hybrid_pred = (0.5 * svd_pred) + (0.5 * knn_pred)\n",
    "            cf_predictions.append((movie_id, cf_hybrid_pred))\n",
    "        cf_pred_df = pd.DataFrame(cf_predictions, columns=['movieId', 'cf_score'])\n",
    "    else:\n",
    "        cf_pred_df = pd.DataFrame(columns=['movieId', 'cf_score'])\n",
    "\n",
    "    # **Content-Based Filtering Scores**\n",
    "    # Build user profile vector based on preferences\n",
    "    if not user_ratings.empty:\n",
    "        # Build profile from rated movies\n",
    "        user_movies = pd.merge(user_ratings, movies_with_tags, on='movieId', how='left')\n",
    "        user_profile_tfidf = np.zeros(tfidf_matrix.shape[1])\n",
    "        for _, row in user_movies.iterrows():\n",
    "            try:\n",
    "                # Get the index of the movie in movies_with_tags\n",
    "                movie_idx = movies_with_tags.index[movies_with_tags['movieId'] == row['movieId']][0]\n",
    "                movie_tfidf = tfidf_matrix[movie_idx].toarray().flatten()\n",
    "                user_profile_tfidf += movie_tfidf * row['rating']\n",
    "            except IndexError:\n",
    "                continue  # Skip if movie_id not found\n",
    "    else:\n",
    "        user_profile_tfidf = np.zeros(tfidf_matrix.shape[1])\n",
    "\n",
    "    # Incorporate preferred genres and tags\n",
    "    preference_text = ''\n",
    "    if preferred_genres:\n",
    "        preference_text += ' '.join(preferred_genres) + ' '\n",
    "    if preferred_tags:\n",
    "        preference_text += ' '.join(preferred_tags)\n",
    "    preference_text = preprocess(preference_text)\n",
    "\n",
    "    if preference_text:\n",
    "        # Transform preference text into TF-IDF vector\n",
    "        preference_vector = tfidf.transform([preference_text]).toarray().flatten()\n",
    "        # Combine with user profile\n",
    "        user_profile_tfidf += preference_vector * 2  # Weight preferences more heavily\n",
    "    else:\n",
    "        if user_profile_tfidf.sum() == 0:\n",
    "            print(\"No user ratings or preferences provided. Cannot generate recommendations.\")\n",
    "            return None\n",
    "\n",
    "    # Normalize the user profile vector\n",
    "    norm = np.linalg.norm(user_profile_tfidf)\n",
    "    if norm != 0:\n",
    "        user_profile_tfidf_normalized = user_profile_tfidf / norm\n",
    "    else:\n",
    "        user_profile_tfidf_normalized = user_profile_tfidf\n",
    "\n",
    "    # Compute cosine similarity between user profile and all movie vectors\n",
    "    content_similarities = cosine_similarity([user_profile_tfidf_normalized], tfidf_matrix).flatten()\n",
    "\n",
    "    # Create content-based predictions for unrated movies\n",
    "    cb_predictions = []\n",
    "    for idx, movie_id in enumerate(movies_with_tags['movieId']):\n",
    "        if movie_id in unrated_movies:\n",
    "            cb_predictions.append((movie_id, content_similarities[idx]))\n",
    "    cb_pred_df = pd.DataFrame(cb_predictions, columns=['movieId', 'cb_score'])\n",
    "\n",
    "    # **Normalize CF Scores to [0, 1]**\n",
    "    if not cf_pred_df.empty:\n",
    "        cf_min = cf_pred_df['cf_score'].min()\n",
    "        cf_max = cf_pred_df['cf_score'].max()\n",
    "        if cf_max - cf_min != 0:\n",
    "            cf_pred_df['cf_score_normalized'] = (cf_pred_df['cf_score'] - cf_min) / (cf_max - cf_min)\n",
    "        else:\n",
    "            cf_pred_df['cf_score_normalized'] = 0.5  # Assign middle value if no variance\n",
    "    else:\n",
    "        cf_pred_df['cf_score_normalized'] = 0.0  # Placeholder\n",
    "\n",
    "    # CB scores are already between 0 and 1 (cosine similarity)\n",
    "    cb_pred_df['cb_score_normalized'] = cb_pred_df['cb_score']\n",
    "\n",
    "    # **Merge Predictions**\n",
    "    if not cf_pred_df.empty:\n",
    "        hybrid_pred_df = pd.merge(cf_pred_df, cb_pred_df, on='movieId', how='inner')\n",
    "    else:\n",
    "        hybrid_pred_df = cb_pred_df.copy()\n",
    "        hybrid_pred_df['cf_score'] = np.nan  # Placeholder for consistency\n",
    "\n",
    "    # **Calculate Weights for CF and CB Components**\n",
    "    if user_id is not None and not user_ratings.empty:\n",
    "        num_user_ratings = len(user_ratings)\n",
    "        max_ratings = ratings_df['userId'].value_counts().max()\n",
    "        cf_weight = num_user_ratings / max_ratings\n",
    "        cb_weight = 1 - cf_weight\n",
    "        # Normalize weights to sum to 1\n",
    "        if (cf_weight + cb_weight) != 0:\n",
    "            cf_weight = cf_weight / (cf_weight + cb_weight)\n",
    "            cb_weight = cb_weight / (cf_weight + cb_weight)\n",
    "        else:\n",
    "            cf_weight = 0.5\n",
    "            cb_weight = 0.5\n",
    "    else:\n",
    "        cf_weight = 0.0\n",
    "        cb_weight = 1.0\n",
    "\n",
    "    # **Compute Hybrid Score**\n",
    "    hybrid_pred_df['hybrid_score'] = (cf_weight * hybrid_pred_df['cf_score'].fillna(0)) + \\\n",
    "                                     (cb_weight * hybrid_pred_df['cb_score'])\n",
    "\n",
    "    # **Merge with Movies DataFrame to Get Titles and Genres**\n",
    "    hybrid_pred_df = pd.merge(hybrid_pred_df, movies_df[['movieId', 'title', 'genres']], on='movieId', how='left')\n",
    "\n",
    "    # **Remove Duplicate Recommendations**\n",
    "    # Ensure that each movieId appears only once\n",
    "    hybrid_pred_df = hybrid_pred_df.drop_duplicates(subset=['movieId'], keep='first')\n",
    "\n",
    "    # **Sort by Hybrid Score in Descending Order**\n",
    "    hybrid_pred_df = hybrid_pred_df.sort_values(by='hybrid_score', ascending=False)\n",
    "\n",
    "    # **Select the Top N Recommendations**\n",
    "    top_recommendations = hybrid_pred_df.head(num_recommendations)\n",
    "\n",
    "    # **Generate Explanations**\n",
    "    explanations = []\n",
    "    for _, row in top_recommendations.iterrows():\n",
    "        explanation = \"\"\n",
    "        # High predicted CF score\n",
    "        if not np.isnan(row['cf_score']) and row['cf_score'] >= 4.0:\n",
    "            explanation += \"High predicted rating. \"\n",
    "        # Matching genres\n",
    "        if preferred_genres:\n",
    "            movie_genres = set(row['genres'].split('|'))\n",
    "            matching_genres = set(preferred_genres) & movie_genres\n",
    "            if matching_genres:\n",
    "                explanation += f\"Includes your preferred genres: {', '.join(matching_genres)}. \"\n",
    "        # Similar content\n",
    "        if row['cb_score'] >= 0.5:\n",
    "            explanation += \"Similar content based on your preferences. \"\n",
    "        explanations.append(explanation.strip())\n",
    "\n",
    "    # **Add Explanations to the DataFrame**\n",
    "    top_recommendations['explanation'] = explanations\n",
    "\n",
    "    # **Reorder and Select Relevant Columns**\n",
    "    recommendations_df = top_recommendations[['movieId', 'title', 'hybrid_score', 'explanation']]\n",
    "\n",
    "    return recommendations_df.reset_index(drop=True)\n"
   ]
  },
  {
   "cell_type": "markdown",
   "metadata": {},
   "source": [
    "Usage Examples"
   ]
  },
  {
   "cell_type": "code",
   "execution_count": null,
   "metadata": {},
   "outputs": [
    {
     "name": "stdout",
     "output_type": "stream",
     "text": [
      "Top 10 Movie Recommendations:\n",
      "   movieId                                              title  hybrid_score  \\\n",
      "0    80463                         Social Network, The (2010)      1.101213   \n",
      "1     1779                                      Sphere (1998)      0.839513   \n",
      "2      750  Dr. Strangelove or: How I Learned to Stop Worr...      0.822450   \n",
      "3    61323                          Burn After Reading (2008)      0.752908   \n",
      "4    27706  Lemony Snicket's A Series of Unfortunate Event...      0.747619   \n",
      "5     7013                    Night of the Hunter, The (1955)      0.712638   \n",
      "6     4226                                     Memento (2000)      0.691822   \n",
      "7   168252                                       Logan (2017)      0.691640   \n",
      "8     6214                 Irreversible (Irréversible) (2002)      0.666141   \n",
      "9    61024                           Pineapple Express (2008)      0.659677   \n",
      "\n",
      "                                         explanation  \n",
      "0  High predicted rating. Similar content based o...  \n",
      "1  Includes your preferred genres: Sci-Fi. Simila...  \n",
      "2                             High predicted rating.  \n",
      "3                             High predicted rating.  \n",
      "4                             High predicted rating.  \n",
      "5                             High predicted rating.  \n",
      "6                             High predicted rating.  \n",
      "7  High predicted rating. Includes your preferred...  \n",
      "8                             High predicted rating.  \n",
      "9  High predicted rating. Includes your preferred...  \n"
     ]
    }
   ],
   "source": [
    "# Example Usage\n",
    "user_id = 1\n",
    "preferred_genres = ['Action', 'Sci-Fi']\n",
    "preferred_tags = ['space', 'future']\n",
    "num_recommendations = 10\n",
    "\n",
    "recommendations = get_user_recommendations(\n",
    "    user_id=user_id,\n",
    "    num_recommendations=num_recommendations,\n",
    "    preferred_genres=preferred_genres,\n",
    "    preferred_tags=preferred_tags\n",
    ")\n",
    "\n",
    "print(\"Top 10 Movie Recommendations:\")\n",
    "print(recommendations)\n"
   ]
  },
  {
   "cell_type": "code",
   "execution_count": null,
   "metadata": {},
   "outputs": [
    {
     "name": "stdout",
     "output_type": "stream",
     "text": [
      "Recommendations Based on Your Preferences:\n",
      "   movieId                                           title  hybrid_score  \\\n",
      "0    42422  Voices of a Distant Star (Hoshi no koe) (2003)      0.565374   \n",
      "1   126548                                 The DUFF (2015)      0.470097   \n",
      "2   148626                           Big Short, The (2015)      0.470097   \n",
      "3   134170                                Kung Fury (2015)      0.470097   \n",
      "4   167746                    The Lego Batman Movie (2017)      0.470097   \n",
      "\n",
      "                                         explanation  \n",
      "0  Includes your preferred genres: Romance. Simil...  \n",
      "1            Includes your preferred genres: Comedy.  \n",
      "2                                                     \n",
      "3            Includes your preferred genres: Comedy.  \n",
      "4            Includes your preferred genres: Comedy.  \n"
     ]
    }
   ],
   "source": [
    "# New user without a user ID, specifying preferred genres and tags\n",
    "preferred_genres = ['Comedy', 'Romance']\n",
    "preferred_tags = ['love', 'funny']\n",
    "num_recommendations = 5\n",
    "\n",
    "recommendations = get_user_recommendations(user_id=None, num_recommendations=num_recommendations,\n",
    "                                           preferred_genres=preferred_genres, preferred_tags=preferred_tags)\n",
    "\n",
    "print(\"Recommendations Based on Your Preferences:\")\n",
    "print(recommendations)\n"
   ]
  },
  {
   "cell_type": "code",
   "execution_count": null,
   "metadata": {},
   "outputs": [
    {
     "name": "stdout",
     "output_type": "stream",
     "text": [
      "Personalized Recommendations:\n",
      "   movieId                                              title  hybrid_score  \\\n",
      "0    80463                         Social Network, The (2010)      0.790437   \n",
      "1     1779                                      Sphere (1998)      0.558262   \n",
      "2      750  Dr. Strangelove or: How I Learned to Stop Worr...      0.480472   \n",
      "3    61323                          Burn After Reading (2008)      0.451503   \n",
      "4    27706  Lemony Snicket's A Series of Unfortunate Event...      0.449300   \n",
      "\n",
      "                                         explanation  \n",
      "0  High predicted rating. Similar content based o...  \n",
      "1         Similar content based on your preferences.  \n",
      "2                             High predicted rating.  \n",
      "3                             High predicted rating.  \n",
      "4                             High predicted rating.  \n"
     ]
    }
   ],
   "source": [
    "# Existing user relying solely on past ratings\n",
    "user_id = 1\n",
    "num_recommendations = 5\n",
    "\n",
    "recommendations = get_user_recommendations(user_id=user_id, num_recommendations=num_recommendations)\n",
    "\n",
    "print(\"Personalized Recommendations:\")\n",
    "print(recommendations)\n"
   ]
  },
  {
   "cell_type": "code",
   "execution_count": null,
   "metadata": {},
   "outputs": [
    {
     "name": "stdout",
     "output_type": "stream",
     "text": [
      "RMSE: 0.4156\n",
      "MAE:  0.3122\n",
      "Hybrid Model RMSE: 0.4156\n",
      "Hybrid Model MAE: 0.3122\n"
     ]
    }
   ],
   "source": [
    "from surprise import Prediction\n",
    "from surprise import accuracy\n",
    "\n",
    "def evaluate_hybrid_model(test_set):\n",
    "    \"\"\"\n",
    "    Evaluate the hybrid model using RMSE and MAE.\n",
    "\n",
    "    Parameters:\n",
    "    - test_set (list): A list of (user_id, movie_id, true_rating) tuples.\n",
    "\n",
    "    Returns:\n",
    "    - rmse (float): Root Mean Squared Error.\n",
    "    - mae (float): Mean Absolute Error.\n",
    "    \"\"\"\n",
    "    hybrid_predictions = []\n",
    "    for uid, iid, true_r in test_set:\n",
    "        # Get SVD prediction\n",
    "        svd_pred = best_svd_model.predict(uid, iid).est\n",
    "        # Get KNNBaseline prediction\n",
    "        knn_pred = best_knn_model.predict(uid, iid).est\n",
    "        # Combine predictions using equal weights\n",
    "        est_hybrid = (0.5 * svd_pred) + (0.5 * knn_pred)\n",
    "\n",
    "        hybrid_predictions = [\n",
    "            Prediction(uid=row['uid'], iid=row['iid'], r_ui=row['true_r'], est=row['est_hybrid'], details={})\n",
    "            for _, row in merged_pred_df.iterrows()\n",
    "        ]\n",
    "\n",
    "    # Calculate RMSE and MAE\n",
    "    rmse = accuracy.rmse(hybrid_predictions, verbose=True)\n",
    "    mae = accuracy.mae(hybrid_predictions, verbose=True)\n",
    "    return rmse, mae\n",
    "\n",
    "# Example Usage\n",
    "# Assume test_testset is your test set\n",
    "rmse, mae = evaluate_hybrid_model(test_testset)\n",
    "print(f\"Hybrid Model RMSE: {rmse:.4f}\")\n",
    "print(f\"Hybrid Model MAE: {mae:.4f}\")\n"
   ]
  },
  {
   "cell_type": "code",
   "execution_count": null,
   "metadata": {},
   "outputs": [
    {
     "name": "stdout",
     "output_type": "stream",
     "text": [
      "Hybrid Model Precision@10: 0.9583\n",
      "Hybrid Model Recall@10: 0.6863\n"
     ]
    }
   ],
   "source": [
    "from collections import defaultdict\n",
    "\n",
    "def precision_recall_at_k(predictions, k=10, threshold=3.5):\n",
    "    \"\"\"\n",
    "    Return precision and recall at k metrics for each user.\n",
    "\n",
    "    Parameters:\n",
    "    - predictions (list of Prediction objects): The list of predictions.\n",
    "    - k (int): The number of top items to consider.\n",
    "    - threshold (float): The rating threshold to consider an item as relevant.\n",
    "\n",
    "    Returns:\n",
    "    - precision (float): Average precision at k.\n",
    "    - recall (float): Average recall at k.\n",
    "    \"\"\"\n",
    "    # Map the predictions to each user\n",
    "    user_est_true = defaultdict(list)\n",
    "    for pred in predictions:\n",
    "        user_est_true[pred.uid].append((pred.est, pred.r_ui))\n",
    "\n",
    "    precisions = dict()\n",
    "    recalls = dict()\n",
    "\n",
    "    for uid, user_ratings in user_est_true.items():\n",
    "        # Sort user ratings by estimated value\n",
    "        user_ratings.sort(key=lambda x: x[0], reverse=True)\n",
    "\n",
    "        # Number of relevant items\n",
    "        n_rel = sum((true_r >= threshold) for (_, true_r) in user_ratings)\n",
    "\n",
    "        # Number of recommended items in top k\n",
    "        n_rec_k = sum((est >= threshold) for (est, _) in user_ratings[:k])\n",
    "\n",
    "        # Number of relevant and recommended items in top k\n",
    "        n_rel_and_rec_k = sum(((true_r >= threshold) and (est >= threshold))\n",
    "                              for (est, true_r) in user_ratings[:k])\n",
    "\n",
    "        # Precision@K\n",
    "        precisions[uid] = n_rel_and_rec_k / n_rec_k if n_rec_k != 0 else 0\n",
    "\n",
    "        # Recall@K\n",
    "        recalls[uid] = n_rel_and_rec_k / n_rel if n_rel != 0 else 0\n",
    "\n",
    "    # Calculate average precision and recall\n",
    "    avg_precision = np.mean(list(precisions.values()))\n",
    "    avg_recall = np.mean(list(recalls.values()))\n",
    "\n",
    "    return avg_precision, avg_recall\n",
    "\n",
    "# Example Usage\n",
    "def evaluate_precision_recall(test_set):\n",
    "    hybrid_predictions = []\n",
    "    for uid, iid, true_r in test_set:\n",
    "        # Get SVD prediction\n",
    "        svd_pred = best_svd_model.predict(uid, iid).est\n",
    "        # Get KNNBaseline prediction\n",
    "        knn_pred = best_knn_model.predict(uid, iid).est\n",
    "        # Combine predictions using equal weights\n",
    "        est_hybrid = (0.5 * svd_pred) + (0.5 * knn_pred)\n",
    "        hybrid_predictions.append(Prediction(uid, iid, true_r, est_hybrid, {}))\n",
    "\n",
    "    precision, recall = precision_recall_at_k(hybrid_predictions, k=10, threshold=3.5)\n",
    "    print(f\"Hybrid Model Precision@10: {precision:.4f}\")\n",
    "    print(f\"Hybrid Model Recall@10: {recall:.4f}\")\n",
    "\n",
    "# Call the evaluation function\n",
    "evaluate_precision_recall(test_testset)\n"
   ]
  },
  {
   "cell_type": "code",
   "execution_count": null,
   "metadata": {},
   "outputs": [
    {
     "name": "stdout",
     "output_type": "stream",
     "text": [
      "T-test between Hybrid and SVD: t=-67.9817, p=0.0000\n",
      "T-test between Hybrid and KNN: t=34.4939, p=0.0000\n",
      "The hybrid model significantly outperforms the SVD model.\n",
      "The hybrid model significantly outperforms the KNN model.\n"
     ]
    }
   ],
   "source": [
    "from scipy.stats import ttest_rel\n",
    "\n",
    "def statistical_significance_test(test_set):\n",
    "    \"\"\"\n",
    "    Perform paired t-tests between the hybrid model and individual models.\n",
    "\n",
    "    Parameters:\n",
    "    - test_set (list): A list of (user_id, movie_id, true_rating) tuples.\n",
    "\n",
    "    Returns:\n",
    "    - None: Prints the test results.\n",
    "    \"\"\"\n",
    "    errors_hybrid = []\n",
    "    errors_svd = []\n",
    "    errors_knn = []\n",
    "\n",
    "    for uid, iid, true_r in test_set:\n",
    "        # Hybrid prediction\n",
    "        svd_pred = best_svd_model.predict(uid, iid).est\n",
    "        knn_pred = best_knn_model.predict(uid, iid).est\n",
    "        est_hybrid = (0.5 * svd_pred) + (0.5 * knn_pred)\n",
    "        errors_hybrid.append((true_r - est_hybrid) ** 2)\n",
    "\n",
    "        # Individual model errors\n",
    "        errors_svd.append((true_r - svd_pred) ** 2)\n",
    "        errors_knn.append((true_r - knn_pred) ** 2)\n",
    "\n",
    "    # Perform paired t-test between Hybrid and SVD\n",
    "    t_stat_svd, p_val_svd = ttest_rel(errors_hybrid, errors_svd)\n",
    "    print(f\"T-test between Hybrid and SVD: t={t_stat_svd:.4f}, p={p_val_svd:.4f}\")\n",
    "\n",
    "    # Perform paired t-test between Hybrid and KNN\n",
    "    t_stat_knn, p_val_knn = ttest_rel(errors_hybrid, errors_knn)\n",
    "    print(f\"T-test between Hybrid and KNN: t={t_stat_knn:.4f}, p={p_val_knn:.4f}\")\n",
    "\n",
    "    # Interpretation\n",
    "    alpha = 0.05\n",
    "    if p_val_svd < alpha:\n",
    "        print(\"The hybrid model significantly outperforms the SVD model.\")\n",
    "    else:\n",
    "        print(\"No significant difference between the hybrid and SVD models.\")\n",
    "\n",
    "    if p_val_knn < alpha:\n",
    "        print(\"The hybrid model significantly outperforms the KNN model.\")\n",
    "    else:\n",
    "        print(\"No significant difference between the hybrid and KNN models.\")\n",
    "\n",
    "# Example Usage\n",
    "statistical_significance_test(test_testset)\n"
   ]
  },
  {
   "cell_type": "markdown",
   "metadata": {},
   "source": [
    "Integration into a User Interface\n",
    "To make the function more interactive and user-friendly, consider integrating it into a user interface where users can:\n",
    "\n",
    "1. Select Preferred Genres and Tags:\n",
    "\n",
    "    - Provide checkboxes or dropdowns for users to select from available genres and tags.\n",
    "2. Receive Real-Time Recommendations:\n",
    "\n",
    "    - Display recommendations dynamically as users select their preferences.\n",
    "3. Provide Feedback:\n",
    "\n",
    "    - Allow users to rate the recommended movies, which can be used to update their profiles and improve future recommendations."
   ]
  },
  {
   "cell_type": "markdown",
   "metadata": {},
   "source": [
    "# Advanced Modeling, Incorporating Neural Networks\n",
    "\n",
    "Incorporating neural networks into recommendation systems can help capture complex, non-linear patterns in the data, potentially improving recommendation accuracy.\n",
    "\n",
    "We will implement: \n",
    "1. Autoencoders for Collaborative Filtering:\n",
    "2. Neural Collaborative Filtering (NCF) Models:\n",
    "3. Deep Learning for Content-Based Filtering:\n",
    "\n",
    "First, we create a user-item interaction matrix, which we will use to train our autoencoder."
   ]
  },
  {
   "cell_type": "code",
   "execution_count": null,
   "metadata": {},
   "outputs": [],
   "source": [
    "# Create a user-item interaction matrix\n",
    "user_item_matrix = ratings_df.pivot(index='userId', columns='movieId', values='rating').fillna(0)\n",
    "\n",
    "# Normalize the ratings\n",
    "user_ratings_mean = np.mean(user_item_matrix.values, axis=1)\n",
    "user_item_matrix_normalized = user_item_matrix.values - user_ratings_mean.reshape(-1, 1)\n",
    "\n",
    "# Get user and item mappings\n",
    "user_ids = user_item_matrix.index.tolist()\n",
    "movie_ids = user_item_matrix.columns.tolist()\n",
    "user_id_to_idx = {user_id: idx for idx, user_id in enumerate(user_ids)}\n",
    "movie_id_to_idx = {movie_id: idx for idx, movie_id in enumerate(movie_ids)}"
   ]
  },
  {
   "cell_type": "markdown",
   "metadata": {},
   "source": [
    "We'll use Keras to build the autoencoder model.\n",
    "\n"
   ]
  },
  {
   "cell_type": "code",
   "execution_count": null,
   "metadata": {},
   "outputs": [],
   "source": [
    "import tensorflow as tf\n",
    "from tensorflow.keras.layers import Input, Dense\n",
    "from tensorflow.keras.models import Model\n",
    "from tensorflow.keras.layers import Dropout\n",
    "from tensorflow.keras.callbacks import EarlyStopping\n",
    "\n",
    "num_items = user_item_matrix.shape[1]\n",
    "\n",
    "# Define the encoding dimension\n",
    "encoding_dim = 64\n",
    "\n",
    "# Input placeholder\n",
    "input_ratings = Input(shape=(num_items,))\n",
    "\n",
    "# Encoder layers\n",
    "encoded = Dense(512, activation='relu')(input_ratings)\n",
    "encoded = Dropout(0.3)(encoded)  # Dropout layer with a 30% rate\n",
    "encoded = Dense(256, activation='relu')(encoded)\n",
    "encoded = Dense(encoding_dim, activation='relu')(encoded)\n",
    "encoded = Dropout(0.3)(encoded)\n",
    "\n",
    "# Decoder layers\n",
    "decoded = Dense(256, activation='relu')(encoded)\n",
    "decoded = Dense(512, activation='relu')(decoded)\n",
    "decoded = Dense(num_items, activation='linear')(decoded)\n",
    "\n",
    "# Autoencoder model\n",
    "autoencoder = Model(inputs=input_ratings, outputs=decoded)\n",
    "\n",
    "# Compile the model\n",
    "autoencoder.compile(optimizer='adam', loss='mean_squared_error')\n",
    "\n",
    "# Implement Early stopping to prevent overfitting\n",
    "early_stopping = EarlyStopping(monitor='val_loss', patience=5, restore_best_weights=True)"
   ]
  },
  {
   "cell_type": "markdown",
   "metadata": {},
   "source": [
    "Training the autoencoder"
   ]
  },
  {
   "cell_type": "code",
   "execution_count": null,
   "metadata": {},
   "outputs": [
    {
     "name": "stdout",
     "output_type": "stream",
     "text": [
      "Epoch 1/50\n",
      "\u001b[1m9/9\u001b[0m \u001b[32m━━━━━━━━━━━━━━━━━━━━\u001b[0m\u001b[37m\u001b[0m \u001b[1m1s\u001b[0m 76ms/step - loss: 0.2102 - val_loss: 0.2708\n",
      "Epoch 2/50\n",
      "\u001b[1m9/9\u001b[0m \u001b[32m━━━━━━━━━━━━━━━━━━━━\u001b[0m\u001b[37m\u001b[0m \u001b[1m1s\u001b[0m 55ms/step - loss: 0.1901 - val_loss: 0.2655\n",
      "Epoch 3/50\n",
      "\u001b[1m9/9\u001b[0m \u001b[32m━━━━━━━━━━━━━━━━━━━━\u001b[0m\u001b[37m\u001b[0m \u001b[1m0s\u001b[0m 53ms/step - loss: 0.1802 - val_loss: 0.2673\n",
      "Epoch 4/50\n",
      "\u001b[1m9/9\u001b[0m \u001b[32m━━━━━━━━━━━━━━━━━━━━\u001b[0m\u001b[37m\u001b[0m \u001b[1m0s\u001b[0m 48ms/step - loss: 0.1637 - val_loss: 0.2649\n",
      "Epoch 5/50\n",
      "\u001b[1m9/9\u001b[0m \u001b[32m━━━━━━━━━━━━━━━━━━━━\u001b[0m\u001b[37m\u001b[0m \u001b[1m0s\u001b[0m 44ms/step - loss: 0.1604 - val_loss: 0.2623\n",
      "Epoch 6/50\n",
      "\u001b[1m9/9\u001b[0m \u001b[32m━━━━━━━━━━━━━━━━━━━━\u001b[0m\u001b[37m\u001b[0m \u001b[1m1s\u001b[0m 139ms/step - loss: 0.1552 - val_loss: 0.2622\n",
      "Epoch 7/50\n",
      "\u001b[1m9/9\u001b[0m \u001b[32m━━━━━━━━━━━━━━━━━━━━\u001b[0m\u001b[37m\u001b[0m \u001b[1m1s\u001b[0m 78ms/step - loss: 0.1590 - val_loss: 0.2612\n",
      "Epoch 8/50\n",
      "\u001b[1m9/9\u001b[0m \u001b[32m━━━━━━━━━━━━━━━━━━━━\u001b[0m\u001b[37m\u001b[0m \u001b[1m0s\u001b[0m 48ms/step - loss: 0.1580 - val_loss: 0.2573\n",
      "Epoch 9/50\n",
      "\u001b[1m9/9\u001b[0m \u001b[32m━━━━━━━━━━━━━━━━━━━━\u001b[0m\u001b[37m\u001b[0m \u001b[1m1s\u001b[0m 57ms/step - loss: 0.1549 - val_loss: 0.2550\n",
      "Epoch 10/50\n",
      "\u001b[1m9/9\u001b[0m \u001b[32m━━━━━━━━━━━━━━━━━━━━\u001b[0m\u001b[37m\u001b[0m \u001b[1m1s\u001b[0m 69ms/step - loss: 0.1658 - val_loss: 0.2631\n",
      "Epoch 11/50\n",
      "\u001b[1m9/9\u001b[0m \u001b[32m━━━━━━━━━━━━━━━━━━━━\u001b[0m\u001b[37m\u001b[0m \u001b[1m0s\u001b[0m 51ms/step - loss: 0.1630 - val_loss: 0.2556\n",
      "Epoch 12/50\n",
      "\u001b[1m9/9\u001b[0m \u001b[32m━━━━━━━━━━━━━━━━━━━━\u001b[0m\u001b[37m\u001b[0m \u001b[1m0s\u001b[0m 45ms/step - loss: 0.1647 - val_loss: 0.2576\n",
      "Epoch 13/50\n",
      "\u001b[1m9/9\u001b[0m \u001b[32m━━━━━━━━━━━━━━━━━━━━\u001b[0m\u001b[37m\u001b[0m \u001b[1m0s\u001b[0m 53ms/step - loss: 0.1548 - val_loss: 0.2485\n",
      "Epoch 14/50\n",
      "\u001b[1m9/9\u001b[0m \u001b[32m━━━━━━━━━━━━━━━━━━━━\u001b[0m\u001b[37m\u001b[0m \u001b[1m0s\u001b[0m 54ms/step - loss: 0.1619 - val_loss: 0.2538\n",
      "Epoch 15/50\n",
      "\u001b[1m9/9\u001b[0m \u001b[32m━━━━━━━━━━━━━━━━━━━━\u001b[0m\u001b[37m\u001b[0m \u001b[1m0s\u001b[0m 44ms/step - loss: 0.1609 - val_loss: 0.2555\n",
      "Epoch 16/50\n",
      "\u001b[1m9/9\u001b[0m \u001b[32m━━━━━━━━━━━━━━━━━━━━\u001b[0m\u001b[37m\u001b[0m \u001b[1m0s\u001b[0m 45ms/step - loss: 0.1516 - val_loss: 0.2507\n",
      "Epoch 17/50\n",
      "\u001b[1m9/9\u001b[0m \u001b[32m━━━━━━━━━━━━━━━━━━━━\u001b[0m\u001b[37m\u001b[0m \u001b[1m1s\u001b[0m 134ms/step - loss: 0.1452 - val_loss: 0.2489\n",
      "Epoch 18/50\n",
      "\u001b[1m9/9\u001b[0m \u001b[32m━━━━━━━━━━━━━━━━━━━━\u001b[0m\u001b[37m\u001b[0m \u001b[1m1s\u001b[0m 59ms/step - loss: 0.1489 - val_loss: 0.2476\n",
      "Epoch 19/50\n",
      "\u001b[1m9/9\u001b[0m \u001b[32m━━━━━━━━━━━━━━━━━━━━\u001b[0m\u001b[37m\u001b[0m \u001b[1m0s\u001b[0m 48ms/step - loss: 0.1528 - val_loss: 0.2464\n",
      "Epoch 20/50\n",
      "\u001b[1m9/9\u001b[0m \u001b[32m━━━━━━━━━━━━━━━━━━━━\u001b[0m\u001b[37m\u001b[0m \u001b[1m0s\u001b[0m 45ms/step - loss: 0.1448 - val_loss: 0.2590\n",
      "Epoch 21/50\n",
      "\u001b[1m9/9\u001b[0m \u001b[32m━━━━━━━━━━━━━━━━━━━━\u001b[0m\u001b[37m\u001b[0m \u001b[1m0s\u001b[0m 44ms/step - loss: 0.1592 - val_loss: 0.2489\n",
      "Epoch 22/50\n",
      "\u001b[1m9/9\u001b[0m \u001b[32m━━━━━━━━━━━━━━━━━━━━\u001b[0m\u001b[37m\u001b[0m \u001b[1m0s\u001b[0m 44ms/step - loss: 0.1469 - val_loss: 0.2496\n",
      "Epoch 23/50\n",
      "\u001b[1m9/9\u001b[0m \u001b[32m━━━━━━━━━━━━━━━━━━━━\u001b[0m\u001b[37m\u001b[0m \u001b[1m0s\u001b[0m 47ms/step - loss: 0.1567 - val_loss: 0.2516\n",
      "Epoch 24/50\n",
      "\u001b[1m9/9\u001b[0m \u001b[32m━━━━━━━━━━━━━━━━━━━━\u001b[0m\u001b[37m\u001b[0m \u001b[1m0s\u001b[0m 44ms/step - loss: 0.1562 - val_loss: 0.2488\n"
     ]
    }
   ],
   "source": [
    "# Prepare training data\n",
    "X = user_item_matrix_normalized\n",
    "\n",
    "# Train the autoencoder\n",
    "history = autoencoder.fit(\n",
    "    X,\n",
    "    X,\n",
    "    epochs=50,\n",
    "    batch_size=64,\n",
    "    shuffle=True,\n",
    "    validation_split=0.1,\n",
    "    callbacks=[early_stopping]\n",
    ")"
   ]
  },
  {
   "cell_type": "markdown",
   "metadata": {},
   "source": [
    "Evaluating the autoencoder"
   ]
  },
  {
   "cell_type": "code",
   "execution_count": null,
   "metadata": {},
   "outputs": [
    {
     "data": {
      "image/png": "[encoded data removed]",
      "text/plain": [
       "<Figure size 640x480 with 1 Axes>"
      ]
     },
     "metadata": {},
     "output_type": "display_data"
    }
   ],
   "source": [
    "plt.plot(history.history['loss'], label='Training Loss')\n",
    "plt.plot(history.history['val_loss'], label='Validation Loss')\n",
    "plt.xlabel('Epochs')\n",
    "plt.ylabel('Loss')\n",
    "plt.legend()\n",
    "plt.show()"
   ]
  },
  {
   "cell_type": "markdown",
   "metadata": {},
   "source": [
    "For a given user, generate recommendations by reconstructing their ratings."
   ]
  },
  {
   "cell_type": "code",
   "execution_count": null,
   "metadata": {},
   "outputs": [],
   "source": [
    "def recommend_movies(user_id, user_item_matrix, model, user_id_to_idx, movie_ids, num_recommendations=10):\n",
    "    # Get the user index\n",
    "    user_idx = user_id_to_idx[user_id]\n",
    "    \n",
    "    # Get the user's ratings\n",
    "    user_ratings = user_item_matrix.values[user_idx].reshape(1, -1)\n",
    "    user_ratings_mean = np.mean(user_ratings)\n",
    "    user_ratings_normalized = user_ratings - user_ratings_mean\n",
    "    \n",
    "    # Predict ratings\n",
    "    reconstructed_ratings = model.predict(user_ratings_normalized)\n",
    "    reconstructed_ratings = reconstructed_ratings + user_ratings_mean\n",
    "    \n",
    "    # Get unrated movies\n",
    "    unrated_items = np.where(user_ratings.flatten() == 0)[0]\n",
    "    \n",
    "    # Get predicted ratings for unrated movies\n",
    "    predicted_ratings = reconstructed_ratings.flatten()[unrated_items]\n",
    "    \n",
    "    # Get top recommendations\n",
    "    top_indices = unrated_items[np.argsort(predicted_ratings)[::-1][:num_recommendations]]\n",
    "    recommended_movie_ids = [movie_ids[i] for i in top_indices]\n",
    "    \n",
    "    # Get movie titles\n",
    "    movies_df = pd.read_csv('movies.csv')\n",
    "    recommended_movies = movies_df[movies_df['movieId'].isin(recommended_movie_ids)]\n",
    "    \n",
    "    return recommended_movies[['movieId', 'title', 'genres']]\n"
   ]
  },
  {
   "cell_type": "code",
   "execution_count": null,
   "metadata": {},
   "outputs": [
    {
     "name": "stdout",
     "output_type": "stream",
     "text": [
      "\u001b[1m1/1\u001b[0m \u001b[32m━━━━━━━━━━━━━━━━━━━━\u001b[0m\u001b[37m\u001b[0m \u001b[1m0s\u001b[0m 124ms/step\n",
      "Recommended Movies for User ID 1\n",
      "      movieId                             title                  genres\n",
      "68         76                  Screamers (1995)  Action|Sci-Fi|Thriller\n",
      "412       474        In the Line of Fire (1993)         Action|Thriller\n",
      "455       520  Robin Hood: Men in Tights (1993)                  Comedy\n",
      "485       553                  Tombstone (1993)    Action|Drama|Western\n",
      "662       867                    Carpool (1996)            Comedy|Crime\n",
      "932      1232                    Stalker (1979)    Drama|Mystery|Sci-Fi\n",
      "2945     3949        Requiem for a Dream (2000)                   Drama\n",
      "4389     6440                Barton Fink (1991)          Drama|Thriller\n",
      "6439    51834              Becoming Jane (2007)           Drama|Romance\n",
      "7171    72011              Up in the Air (2009)           Drama|Romance\n"
     ]
    }
   ],
   "source": [
    "user_id = 1  # Replace with a valid user ID\n",
    "recommended_movies = recommend_movies(user_id, user_item_matrix, autoencoder, user_id_to_idx, movie_ids)\n",
    "print(\"Recommended Movies for User ID\", user_id)\n",
    "print(recommended_movies)\n"
   ]
  },
  {
   "cell_type": "markdown",
   "metadata": {},
   "source": [
    "Implementing Neural Collaborative Filtering (NCF)\n",
    "\n",
    "This replaces traditional matrix factorization with neural networks to model non-linear user-item interactions."
   ]
  },
  {
   "cell_type": "code",
   "execution_count": null,
   "metadata": {},
   "outputs": [],
   "source": [
    "# Binarize ratings: 1 if rating >= 4.0, else 0 to create positive and negative interactions\n",
    "ratings_df['rating'] = ratings_df['rating'].apply(lambda x: 1 if x >= 4.0 else 0)\n",
    "\n",
    "# Map user and item IDs to indices\n",
    "user_ids = ratings_df['userId'].unique().tolist()\n",
    "movie_ids = ratings_df['movieId'].unique().tolist()\n",
    "user_id_to_idx = {user_id: idx for idx, user_id in enumerate(user_ids)}\n",
    "movie_id_to_idx = {movie_id: idx for idx, movie_id in enumerate(movie_ids)}\n"
   ]
  },
  {
   "cell_type": "markdown",
   "metadata": {},
   "source": [
    "Generate negative interactions for training"
   ]
  },
  {
   "cell_type": "code",
   "execution_count": null,
   "metadata": {},
   "outputs": [],
   "source": [
    "import random\n",
    "random.seed(42)\n",
    "\n",
    "def get_negative_samples(ratings, num_negatives):\n",
    "    user_item_set = set(zip(ratings['userId'], ratings['movieId']))\n",
    "    all_items = set(movie_ids)\n",
    "    negative_samples = []\n",
    "    for user_id in user_ids:\n",
    "        user_negative_items = all_items - set(ratings_df[ratings_df['userId'] == user_id]['movieId'])\n",
    "        user_negative_items = random.sample(user_negative_items, num_negatives)\n",
    "        for item_id in user_negative_items:\n",
    "            negative_samples.append([user_id, item_id, 0])  # Negative sample\n",
    "    return negative_samples\n",
    "\n",
    "# Generate negative samples\n",
    "negative_samples = get_negative_samples(ratings_df[ratings_df['rating'] == 1], num_negatives=4)\n"
   ]
  },
  {
   "cell_type": "markdown",
   "metadata": {},
   "source": [
    "- Positive and Negative Interactions: In recommendation systems, especially those based on implicit feedback, it's common to have mostly positive interactions (e.g., likes or purchases) but very few explicit negative interactions. To address this, negative samples (items that the user has not interacted with) are generated artificially and labeled as negative (interaction value of 0).\n",
    "\n",
    "- Negative Sampling: For each user, the function randomly selects a fixed number of items (num_negatives) that the user has not interacted with, treating these as negative samples. This helps the model learn the difference between positive interactions (items the user likes) and negative interactions (items the user doesn't engage with).\n",
    "\n",
    "Possible Improvements:\n",
    "- Dynamic Number of Negative Samples: Instead of selecting a fixed number of negative samples (e.g., 4), you might want to vary this based on the user's activity. Users with more interactions could have more negative samples, while less active users might need fewer.\n",
    "\n",
    "- Weighted Sampling: You could improve the sampling process by biasing the selection towards items that are more popular or recently released, as users are more likely to encounter these in practice.\n",
    "\n",
    "- Negative Sample Filtering: Sometimes, negative samples might include items the user hasn't rated yet but may still like. Additional logic could be added to filter out items that are too similar to the positively rated items (e.g., based on genre or metadata)."
   ]
  },
  {
   "cell_type": "markdown",
   "metadata": {},
   "source": [
    "- Weighted Sampling: Popular movies are more likely to be selected as negative samples, as users are more likely to encounter these items.\n",
    "- Efficiency: Since we're using numpy's random.choice with weights, the sampling is efficient even with large numbers of items.\n",
    "- Recency-based Sampling: This method can be adapted to use movie recency instead of popularity by calculating weights based on how recently the movies were released (e.g., movies released within the last year could get higher weights).\n",
    "\n",
    "Further Improvements:\n",
    "- Hybrid Weighting (Popularity + Recency): You can combine both popularity and recency into a single weighting scheme by, for example, multiplying the popularity score by a factor that decays based on the release date of the movie.\n",
    "\n",
    "- Dynamic num_negatives: You could dynamically adjust the number of negative samples based on the number of positive interactions each user has (more active users may require more negative samples)."
   ]
  },
  {
   "cell_type": "markdown",
   "metadata": {},
   "source": [
    "- Dynamically Adjusted num_negatives: Users with more positive interactions will receive proportionally more negative samples, while users with fewer interactions will receive fewer negative samples. This approach ensures that more active users (who are likely to have engaged with more content) have a more balanced training set.\n",
    "\n",
    "- Weighted Sampling Based on Popularity: The negative samples are drawn using a weighted sampling mechanism, giving more popular movies a higher likelihood of being selected as negative samples.\n",
    "\n",
    "Customizations:\n",
    "- Recency Weighting: You can adjust the weights to incorporate recency along with popularity by calculating a combined score that includes both the popularity of a movie and how recently it was released.\n",
    "\n",
    "- User-specific Ratios: Instead of using a fixed neg_to_pos_ratio, you can define different ratios for different groups of users based on their behavior or interaction history.\n",
    "\n",
    "This approach helps in building a more representative dataset, ensuring that users with high activity levels (more positive interactions) receive an appropriate number of negative samples for training, while also incorporating the popularity of items in the selection process."
   ]
  },
  {
   "cell_type": "markdown",
   "metadata": {},
   "source": [
    "Combine Positive and Negative Samples"
   ]
  },
  {
   "cell_type": "code",
   "execution_count": null,
   "metadata": {},
   "outputs": [],
   "source": [
    "positive_samples = ratings_df[ratings_df['rating'] == 1][['userId', 'movieId', 'rating']].values.tolist()\n",
    "all_samples = positive_samples + negative_samples\n",
    "all_samples_df = pd.DataFrame(all_samples, columns=['userId', 'movieId', 'rating'])\n",
    "\n",
    "# Shuffle the data\n",
    "all_samples_df = all_samples_df.sample(frac=1, random_state=42).reset_index(drop=True)\n"
   ]
  },
  {
   "cell_type": "markdown",
   "metadata": {},
   "source": [
    "Split into Training and Test Sets\n"
   ]
  },
  {
   "cell_type": "code",
   "execution_count": null,
   "metadata": {},
   "outputs": [],
   "source": [
    "from sklearn.model_selection import train_test_split\n",
    "\n",
    "train_df, test_df = train_test_split(all_samples_df, test_size=0.2, random_state=42)"
   ]
  },
  {
   "cell_type": "markdown",
   "metadata": {},
   "source": [
    "Defining the NCF Model in Keras\n"
   ]
  },
  {
   "cell_type": "code",
   "execution_count": null,
   "metadata": {},
   "outputs": [],
   "source": [
    "from tensorflow.keras.layers import Input, Embedding, Flatten, Multiply, Concatenate, Dense\n",
    "from tensorflow.keras.models import Model\n",
    "\n",
    "num_users = len(user_ids)\n",
    "num_items = len(movie_ids)\n",
    "mf_dim = 10  # Dimensionality of the embeddings\n",
    "\n",
    "# Inputs\n",
    "user_input = Input(shape=(1,), name='user_input')\n",
    "item_input = Input(shape=(1,), name='item_input')\n",
    "\n",
    "# Embeddings for GMF\n",
    "user_embedding_gmf = Embedding(num_users, mf_dim, name='user_embedding_gmf')(user_input)\n",
    "item_embedding_gmf = Embedding(num_items, mf_dim, name='item_embedding_gmf')(item_input)\n",
    "\n",
    "# Flatten embeddings\n",
    "user_embedding_gmf = Flatten()(user_embedding_gmf)\n",
    "item_embedding_gmf = Flatten()(item_embedding_gmf)\n",
    "\n",
    "# Element-wise multiplication\n",
    "gmf_vector = Multiply()([user_embedding_gmf, item_embedding_gmf])\n",
    "\n",
    "# Embeddings for MLP\n",
    "user_embedding_mlp = Embedding(num_users, mf_dim * 2, name='user_embedding_mlp')(user_input)\n",
    "item_embedding_mlp = Embedding(num_items, mf_dim * 2, name='item_embedding_mlp')(item_input)\n",
    "\n",
    "user_embedding_mlp = Flatten()(user_embedding_mlp)\n",
    "item_embedding_mlp = Flatten()(item_embedding_mlp)\n",
    "\n",
    "# Concatenate user and item embeddings\n",
    "mlp_vector = Concatenate()([user_embedding_mlp, item_embedding_mlp])\n",
    "\n",
    "# MLP layers\n",
    "mlp_vector = Dense(64, activation='relu')(mlp_vector)\n",
    "mlp_vector = Dense(32, activation='relu')(mlp_vector)\n",
    "mlp_vector = Dense(16, activation='relu')(mlp_vector)\n",
    "mlp_vector = Dense(8, activation='relu')(mlp_vector)\n",
    "\n",
    "# Concatenate GMF and MLP parts\n",
    "neuMF_vector = Concatenate()([gmf_vector, mlp_vector])\n",
    "\n",
    "# Final output layer\n",
    "prediction = Dense(1, activation='sigmoid', name='prediction')(neuMF_vector)\n",
    "\n",
    "# Define the model\n",
    "model = Model(inputs=[user_input, item_input], outputs=prediction)\n",
    "\n",
    "# Compile the model\n",
    "model.compile(optimizer='adam', loss='binary_crossentropy')\n"
   ]
  },
  {
   "cell_type": "markdown",
   "metadata": {},
   "source": [
    "This code implements the NeuMF (Neural Matrix Factorization) model, which is a hybrid recommendation model combining Generalized Matrix Factorization (GMF) and Multi-Layer Perceptron (MLP):\n",
    "\n",
    "- The GMF branch captures linear interactions between users and items through element-wise multiplication of embeddings.\n",
    "- The MLP branch captures non-linear, complex interactions between users and items through a series of fully connected layers.\n",
    "- Both branches are concatenated to form a final interaction vector, which is passed through a sigmoid output layer to predict the probability of a user interacting with an item.\n",
    "\n",
    "The model is designed for tasks like implicit feedback in recommendation systems, where the goal is to predict whether a user will interact with (e.g., watch, rate, or like) a given item."
   ]
  },
  {
   "cell_type": "markdown",
   "metadata": {},
   "source": [
    "Preparing Input Data"
   ]
  },
  {
   "cell_type": "code",
   "execution_count": null,
   "metadata": {},
   "outputs": [],
   "source": [
    "# Map IDs to indices\n",
    "train_user_indices = train_df['userId'].map(user_id_to_idx).values\n",
    "train_item_indices = train_df['movieId'].map(movie_id_to_idx).values\n",
    "train_labels = train_df['rating'].values\n",
    "\n",
    "test_user_indices = test_df['userId'].map(user_id_to_idx).values\n",
    "test_item_indices = test_df['movieId'].map(movie_id_to_idx).values\n",
    "test_labels = test_df['rating'].values\n"
   ]
  },
  {
   "cell_type": "markdown",
   "metadata": {},
   "source": [
    "Training the model"
   ]
  },
  {
   "cell_type": "code",
   "execution_count": null,
   "metadata": {},
   "outputs": [
    {
     "name": "stdout",
     "output_type": "stream",
     "text": [
      "Epoch 1/10\n",
      "\u001b[1m8/8\u001b[0m \u001b[32m━━━━━━━━━━━━━━━━━━━━\u001b[0m\u001b[37m\u001b[0m \u001b[1m1s\u001b[0m 16ms/step - loss: 0.6901 - val_loss: 0.6707\n",
      "Epoch 2/10\n",
      "\u001b[1m8/8\u001b[0m \u001b[32m━━━━━━━━━━━━━━━━━━━━\u001b[0m\u001b[37m\u001b[0m \u001b[1m0s\u001b[0m 4ms/step - loss: 0.6629 - val_loss: 0.6381\n",
      "Epoch 3/10\n",
      "\u001b[1m8/8\u001b[0m \u001b[32m━━━━━━━━━━━━━━━━━━━━\u001b[0m\u001b[37m\u001b[0m \u001b[1m0s\u001b[0m 4ms/step - loss: 0.6262 - val_loss: 0.5924\n",
      "Epoch 4/10\n",
      "\u001b[1m8/8\u001b[0m \u001b[32m━━━━━━━━━━━━━━━━━━━━\u001b[0m\u001b[37m\u001b[0m \u001b[1m0s\u001b[0m 34ms/step - loss: 0.5727 - val_loss: 0.5251\n",
      "Epoch 5/10\n",
      "\u001b[1m8/8\u001b[0m \u001b[32m━━━━━━━━━━━━━━━━━━━━\u001b[0m\u001b[37m\u001b[0m \u001b[1m0s\u001b[0m 29ms/step - loss: 0.4917 - val_loss: 0.4263\n",
      "Epoch 6/10\n",
      "\u001b[1m8/8\u001b[0m \u001b[32m━━━━━━━━━━━━━━━━━━━━\u001b[0m\u001b[37m\u001b[0m \u001b[1m0s\u001b[0m 4ms/step - loss: 0.3719 - val_loss: 0.2940\n",
      "Epoch 7/10\n",
      "\u001b[1m8/8\u001b[0m \u001b[32m━━━━━━━━━━━━━━━━━━━━\u001b[0m\u001b[37m\u001b[0m \u001b[1m0s\u001b[0m 4ms/step - loss: 0.2211 - val_loss: 0.1561\n",
      "Epoch 8/10\n",
      "\u001b[1m8/8\u001b[0m \u001b[32m━━━━━━━━━━━━━━━━━━━━\u001b[0m\u001b[37m\u001b[0m \u001b[1m0s\u001b[0m 5ms/step - loss: 0.0904 - val_loss: 0.0639\n",
      "Epoch 9/10\n",
      "\u001b[1m8/8\u001b[0m \u001b[32m━━━━━━━━━━━━━━━━━━━━\u001b[0m\u001b[37m\u001b[0m \u001b[1m0s\u001b[0m 10ms/step - loss: 0.0260 - val_loss: 0.0257\n",
      "Epoch 10/10\n",
      "\u001b[1m8/8\u001b[0m \u001b[32m━━━━━━━━━━━━━━━━━━━━\u001b[0m\u001b[37m\u001b[0m \u001b[1m0s\u001b[0m 6ms/step - loss: 0.0075 - val_loss: 0.0127\n"
     ]
    }
   ],
   "source": [
    "# Define the batch size and epochs\n",
    "batch_size = 256\n",
    "epochs = 10\n",
    "\n",
    "# Train the model\n",
    "history = model.fit(\n",
    "    [train_user_indices, train_item_indices],  # Input: user and item indices\n",
    "    train_labels,  # Output: labels (ratings)\n",
    "    batch_size=batch_size,\n",
    "    epochs=epochs,\n",
    "    validation_data=([test_user_indices, test_item_indices], test_labels),\n",
    "    callbacks=[EarlyStopping(monitor='val_loss', patience=3, restore_best_weights=True)]\n",
    ")\n"
   ]
  },
  {
   "cell_type": "markdown",
   "metadata": {},
   "source": [
    "Evaluating the NCF Model"
   ]
  },
  {
   "cell_type": "code",
   "execution_count": null,
   "metadata": {},
   "outputs": [
    {
     "data": {
      "image/png": "[encoded data removed]",
      "text/plain": [
       "<Figure size 640x480 with 1 Axes>"
      ]
     },
     "metadata": {},
     "output_type": "display_data"
    }
   ],
   "source": [
    "plt.plot(history.history['loss'], label='Training Loss')\n",
    "plt.plot(history.history['val_loss'], label='Validation Loss')\n",
    "plt.xlabel('Epochs')\n",
    "plt.ylabel('Loss')\n",
    "plt.legend()\n",
    "plt.show()\n"
   ]
  },
  {
   "cell_type": "markdown",
   "metadata": {},
   "source": [
    "Generating Recommendations"
   ]
  },
  {
   "cell_type": "code",
   "execution_count": null,
   "metadata": {},
   "outputs": [],
   "source": [
    "def recommend_movies_ncf(user_id, model, user_id_to_idx, movie_id_to_idx, movies_df, num_recommendations=10):\n",
    "    user_idx = user_id_to_idx[user_id]\n",
    "    \n",
    "    # Get items the user hasn't interacted with\n",
    "    user_rated_items = ratings_df[ratings_df['userId'] == user_id]['movieId'].tolist()\n",
    "    user_rated_item_indices = [movie_id_to_idx[i] for i in user_rated_items]\n",
    "    all_item_indices = list(movie_id_to_idx.values())\n",
    "    unrated_item_indices = [i for i in all_item_indices if i not in user_rated_item_indices]\n",
    "    \n",
    "    # Prepare input data\n",
    "    user_indices = np.full(len(unrated_item_indices), user_idx)\n",
    "    item_indices = np.array(unrated_item_indices)\n",
    "    \n",
    "    # Predict scores\n",
    "    predictions = model.predict([user_indices, item_indices], batch_size=1024).flatten()\n",
    "    \n",
    "    # Get top recommendations\n",
    "    top_indices = predictions.argsort()[::-1][:num_recommendations]\n",
    "    recommended_item_indices = item_indices[top_indices]\n",
    "    recommended_movie_ids = [list(movie_id_to_idx.keys())[list(movie_id_to_idx.values()).index(i)] for i in recommended_item_indices]\n",
    "    \n",
    "    recommended_movies = movies_df[movies_df['movieId'].isin(recommended_movie_ids)]\n",
    "    return recommended_movies[['movieId', 'title', 'genres']]\n"
   ]
  },
  {
   "cell_type": "markdown",
   "metadata": {},
   "source": [
    "Example Usage"
   ]
  },
  {
   "cell_type": "code",
   "execution_count": null,
   "metadata": {},
   "outputs": [
    {
     "name": "stdout",
     "output_type": "stream",
     "text": [
      "\u001b[1m10/10\u001b[0m \u001b[32m━━━━━━━━━━━━━━━━━━━━\u001b[0m\u001b[37m\u001b[0m \u001b[1m0s\u001b[0m 963us/step\n",
      "Recommended Movies for User ID 1\n",
      "      movieId                                         title  \\\n",
      "225       261                           Little Women (1994)   \n",
      "473       540                                 Sliver (1993)   \n",
      "3039     4067                          Untamed Heart (1993)   \n",
      "3385     4605        How to Get Ahead in Advertising (1989)   \n",
      "3896     5472                                   1776 (1972)   \n",
      "6420    51167  My Father and My Son (Babam ve oglum) (2005)   \n",
      "7062    69516                 Limits of Control, The (2009)   \n",
      "8260   104944                          Short Term 12 (2013)   \n",
      "8454   112303                   Think Like a Man Too (2014)   \n",
      "9105   144522                               Sky High (2003)   \n",
      "\n",
      "                      genres  \n",
      "225                    Drama  \n",
      "473                 Thriller  \n",
      "3039           Drama|Romance  \n",
      "3385          Comedy|Fantasy  \n",
      "3896  Children|Drama|Musical  \n",
      "6420                   Drama  \n",
      "7062   Crime|Drama|Film-Noir  \n",
      "8260                   Drama  \n",
      "8454          Comedy|Romance  \n",
      "9105  Action|Horror|Thriller  \n"
     ]
    }
   ],
   "source": [
    "user_id = 1  # Replace with a valid user ID\n",
    "movies_df = pd.read_csv('movies.csv')\n",
    "recommended_movies = recommend_movies_ncf(user_id, model, user_id_to_idx, movie_id_to_idx, movies_df)\n",
    "print(\"Recommended Movies for User ID\", user_id)\n",
    "print(recommended_movies)\n"
   ]
  },
  {
   "cell_type": "markdown",
   "metadata": {},
   "source": [
    "Evaluating the Neural Network Model Using AUC"
   ]
  },
  {
   "cell_type": "code",
   "execution_count": null,
   "metadata": {},
   "outputs": [],
   "source": [
    "# Prepare input data for testing\n",
    "test_user_indices = test_df['userId'].map(user_id_to_idx).values\n",
    "test_item_indices = test_df['movieId'].map(movie_id_to_idx).values\n",
    "test_labels = test_df['rating'].values"
   ]
  },
  {
   "cell_type": "markdown",
   "metadata": {},
   "source": [
    "Use the trained NCF model to make predictions on the test set:"
   ]
  },
  {
   "cell_type": "code",
   "execution_count": null,
   "metadata": {},
   "outputs": [
    {
     "name": "stdout",
     "output_type": "stream",
     "text": [
      "\u001b[1m1/1\u001b[0m \u001b[32m━━━━━━━━━━━━━━━━━━━━\u001b[0m\u001b[37m\u001b[0m \u001b[1m0s\u001b[0m 23ms/step\n"
     ]
    }
   ],
   "source": [
    "# Make predictions\n",
    "test_predictions = model.predict([test_user_indices, test_item_indices], batch_size=1024).flatten()\n"
   ]
  },
  {
   "cell_type": "markdown",
   "metadata": {},
   "source": [
    "Now let's modify the get_user_recommendations() function to use the neural network model (Neural Collaborative Filtering (NCF) implemented with TensorFlow/Keras) instead of the SVD model\n",
    "\n",
    "The function will:\n",
    "\n",
    "- Use the neural network model for collaborative filtering predictions.\n",
    "- Integrate content-based filtering as before.\n",
    "- Combine both methods to generate hybrid recommendations.\n",
    "- Provide explanations for the recommendations."
   ]
  },
  {
   "cell_type": "code",
   "execution_count": null,
   "metadata": {},
   "outputs": [],
   "source": [
    "def get_user_recommendations(user_id=None, num_recommendations=10, preferred_genres=None, preferred_tags=None):\n",
    "    \"\"\"\n",
    "    Generate personalized movie recommendations for a given user or based on preferred genres/tags.\n",
    "\n",
    "    Parameters:\n",
    "    - user_id (int, optional): The ID of the user. If None, recommendations will be based on preferred genres/tags.\n",
    "    - num_recommendations (int): The number of recommendations to return.\n",
    "    - preferred_genres (list, optional): A list of preferred genres.\n",
    "    - preferred_tags (list, optional): A list of preferred tags.\n",
    "\n",
    "    Returns:\n",
    "    - recommendations_df (DataFrame): A DataFrame containing the recommended movies,\n",
    "      their hybrid scores, and explanations.\n",
    "    \"\"\"\n",
    "    # Validate inputs\n",
    "    if user_id is not None and user_id not in ratings_df['userId'].unique():\n",
    "        print(f\"User ID {user_id} not found. Recommendations will be based on preferred genres/tags.\")\n",
    "        user_id = None\n",
    "\n",
    "    # Initialize variables\n",
    "    all_movie_ids = movies_df['movieId'].unique()\n",
    "\n",
    "    # Movies the user has already rated\n",
    "    if user_id is not None:\n",
    "        user_ratings = ratings_df[ratings_df['userId'] == user_id]\n",
    "        rated_movies = user_ratings['movieId'].tolist()\n",
    "    else:\n",
    "        user_ratings = pd.DataFrame()\n",
    "        rated_movies = []\n",
    "\n",
    "    # Movies the user hasn't rated yet\n",
    "    unrated_movies = [movie_id for movie_id in all_movie_ids if movie_id not in rated_movies]\n",
    "\n",
    "    # Collaborative Filtering Predictions using Neural Network Model\n",
    "    if user_id is not None and not user_ratings.empty:\n",
    "        # Map user_id to user_idx\n",
    "        if user_id in user_id_to_idx:\n",
    "            user_idx = user_id_to_idx[user_id]\n",
    "        else:\n",
    "            print(f\"User ID {user_id} not found in neural network model.\")\n",
    "            return None\n",
    "\n",
    "        # Map movie IDs to item indices\n",
    "        unrated_movie_indices = []\n",
    "        valid_movie_ids = []\n",
    "        for movie_id in unrated_movies:\n",
    "            if movie_id in movie_id_to_idx:\n",
    "                item_idx = movie_id_to_idx[movie_id]\n",
    "                unrated_movie_indices.append(item_idx)\n",
    "                valid_movie_ids.append(movie_id)\n",
    "\n",
    "        # Prepare input arrays\n",
    "        user_indices = np.full(len(unrated_movie_indices), user_idx)\n",
    "        item_indices = np.array(unrated_movie_indices)\n",
    "\n",
    "        # Make predictions using the neural network model\n",
    "        cf_scores = model.predict([user_indices, item_indices], batch_size=1024).flatten()\n",
    "\n",
    "        # Create DataFrame of predictions\n",
    "        cf_pred_df = pd.DataFrame({'movieId': valid_movie_ids, 'cf_score': cf_scores})\n",
    "    else:\n",
    "        cf_pred_df = pd.DataFrame(columns=['movieId', 'cf_score'])\n",
    "\n",
    "    # Content-Based Filtering Scores\n",
    "    # Build user profile vector based on preferences\n",
    "    # If user has ratings, combine their profile with preferred genres/tags\n",
    "    if not user_ratings.empty:\n",
    "        # Build profile from rated movies\n",
    "        user_movies = pd.merge(user_ratings, movies_with_tags, on='movieId', how='left')\n",
    "        user_profile_tfidf = np.zeros(tfidf_matrix.shape[1])\n",
    "        for idx, row in user_movies.iterrows():\n",
    "            movie_idx = movies_with_tags.index[movies_with_tags['movieId'] == row['movieId']][0]\n",
    "            movie_tfidf = tfidf_matrix[movie_idx].toarray().flatten()\n",
    "            user_profile_tfidf += movie_tfidf * row['rating']\n",
    "    else:\n",
    "        user_profile_tfidf = np.zeros(tfidf_matrix.shape[1])\n",
    "\n",
    "    # Incorporate preferred genres and tags\n",
    "    preference_text = ''\n",
    "    if preferred_genres:\n",
    "        preference_text += ' '.join(preferred_genres) + ' '\n",
    "    if preferred_tags:\n",
    "        preference_text += ' '.join(preferred_tags)\n",
    "    preference_text = preprocess(preference_text)\n",
    "\n",
    "    if preference_text:\n",
    "        # Transform preference text into TF-IDF vector\n",
    "        preference_vector = tfidf.transform([preference_text]).toarray().flatten()\n",
    "        # Combine with user profile\n",
    "        user_profile_tfidf += preference_vector * 2  # Weight preferences more heavily\n",
    "    else:\n",
    "        if user_profile_tfidf.sum() == 0:\n",
    "            print(\"No user ratings or preferences provided. Cannot generate recommendations.\")\n",
    "            return None\n",
    "\n",
    "    # Normalize the user profile vector\n",
    "    if np.linalg.norm(user_profile_tfidf) == 0:\n",
    "        user_profile_tfidf_normalized = user_profile_tfidf\n",
    "    else:\n",
    "        user_profile_tfidf_normalized = user_profile_tfidf / np.linalg.norm(user_profile_tfidf)\n",
    "\n",
    "    # Compute cosine similarity between user profile and all movie vectors\n",
    "    content_similarities = cosine_similarity([user_profile_tfidf_normalized], tfidf_matrix).flatten()\n",
    "\n",
    "    # Create content-based predictions for unrated movies\n",
    "    cb_predictions = []\n",
    "    for idx, movie_id in enumerate(movies_with_tags['movieId']):\n",
    "        if movie_id in unrated_movies:\n",
    "            cb_predictions.append((movie_id, content_similarities[idx]))\n",
    "    cb_pred_df = pd.DataFrame(cb_predictions, columns=['movieId', 'cb_score'])\n",
    "\n",
    "    # Merge predictions\n",
    "    if not cf_pred_df.empty:\n",
    "        hybrid_pred_df = pd.merge(cf_pred_df, cb_pred_df, on='movieId', how='inner')\n",
    "    else:\n",
    "        hybrid_pred_df = cb_pred_df.copy()\n",
    "        hybrid_pred_df['cf_score'] = np.nan  # Placeholder for consistency\n",
    "\n",
    "    # Calculate weights\n",
    "    if user_id is not None and not user_ratings.empty:\n",
    "        num_user_ratings = len(user_ratings)\n",
    "        max_ratings = ratings_df['userId'].value_counts().max()\n",
    "        cf_weight = num_user_ratings / max_ratings\n",
    "        cb_weight = 1 - cf_weight\n",
    "        # Ensure weights sum to 1\n",
    "        cf_weight = cf_weight / (cf_weight + cb_weight)\n",
    "        cb_weight = 1 - cf_weight\n",
    "    else:\n",
    "        cf_weight = 0.0\n",
    "        cb_weight = 1.0\n",
    "\n",
    "    # Compute hybrid score\n",
    "    hybrid_pred_df['hybrid_score'] = (cf_weight * hybrid_pred_df['cf_score'].fillna(0)) + (cb_weight * hybrid_pred_df['cb_score'])\n",
    "\n",
    "    # Merge with movies DataFrame to get titles and genres\n",
    "    hybrid_pred_df = pd.merge(hybrid_pred_df, movies_df[['movieId', 'title', 'genres']], on='movieId', how='left')\n",
    "\n",
    "    # Sort by hybrid score\n",
    "    hybrid_pred_df = hybrid_pred_df.sort_values(by='hybrid_score', ascending=False)\n",
    "\n",
    "    # Select the top N recommendations\n",
    "    top_recommendations = hybrid_pred_df.head(num_recommendations)\n",
    "\n",
    "    # Generate explanations\n",
    "    explanations = []\n",
    "    for idx, row in top_recommendations.iterrows():\n",
    "        explanation = \"\"\n",
    "        # High predicted rating\n",
    "        if not np.isnan(row['cf_score']) and row['cf_score'] >= 0.5:\n",
    "            explanation += \"High predicted preference score. \"\n",
    "        # Matching genres\n",
    "        movie_genres = set(row['genres'].split('|'))\n",
    "        matching_genres = set(preferred_genres or []) & movie_genres\n",
    "        if matching_genres:\n",
    "            explanation += f\"Includes your preferred genres: {', '.join(matching_genres)}. \"\n",
    "        # Similar content\n",
    "        if row['cb_score'] >= 0.5:\n",
    "            explanation += \"Similar content based on your preferences. \"\n",
    "        explanations.append(explanation.strip())\n",
    "\n",
    "    # Add explanations to the DataFrame\n",
    "    top_recommendations['explanation'] = explanations\n",
    "\n",
    "    # Reorder columns\n",
    "    recommendations_df = top_recommendations[['movieId', 'title', 'hybrid_score', 'explanation']]\n",
    "\n",
    "    return recommendations_df.reset_index(drop=True)\n"
   ]
  },
  {
   "cell_type": "code",
   "execution_count": null,
   "metadata": {},
   "outputs": [
    {
     "name": "stdout",
     "output_type": "stream",
     "text": [
      "\u001b[1m10/10\u001b[0m \u001b[32m━━━━━━━━━━━━━━━━━━━━\u001b[0m\u001b[37m\u001b[0m \u001b[1m0s\u001b[0m 895us/step\n",
      "Personalized Recommendations:\n",
      "   movieId                                 title  hybrid_score  \\\n",
      "0      924          2001: A Space Odyssey (1968)      0.502495   \n",
      "1      541                   Blade Runner (1982)      0.502477   \n",
      "2    68358                      Star Trek (2009)      0.502455   \n",
      "3   174053  Black Mirror: White Christmas (2014)      0.502331   \n",
      "4     5445                Minority Report (2002)      0.502190   \n",
      "\n",
      "                                         explanation  \n",
      "0  Includes your preferred genres: Adventure. Sim...  \n",
      "1  Includes your preferred genres: Action. Simila...  \n",
      "2  Includes your preferred genres: Action, Advent...  \n",
      "3         Similar content based on your preferences.  \n",
      "4  Includes your preferred genres: Action. Simila...  \n"
     ]
    }
   ],
   "source": [
    "# Example usage\n",
    "user_id = 1  # Replace with the target user ID\n",
    "preferred_genres = ['Action', 'Adventure']\n",
    "preferred_tags = ['space', 'future']\n",
    "num_recommendations = 5\n",
    "\n",
    "recommendations = get_user_recommendations(\n",
    "    user_id=user_id,\n",
    "    num_recommendations=num_recommendations,\n",
    "    preferred_genres=preferred_genres,\n",
    "    preferred_tags=preferred_tags\n",
    ")\n",
    "\n",
    "print(\"Personalized Recommendations:\")\n",
    "print(recommendations)"
   ]
  },
  {
   "cell_type": "markdown",
   "metadata": {},
   "source": [
    "Extracting Valid Genres"
   ]
  },
  {
   "cell_type": "code",
   "execution_count": null,
   "metadata": {},
   "outputs": [
    {
     "name": "stdout",
     "output_type": "stream",
     "text": [
      "Available Genres:\n",
      "[' ', '(', ')', '-', 'A', 'C', 'D', 'F', 'H', 'I', 'M', 'N', 'R', 'S', 'T', 'W', 'X', 'a', 'c', 'd', 'e', 'g', 'h', 'i', 'l', 'm', 'n', 'o', 'r', 's', 't', 'u', 'v', 'y', '|']\n"
     ]
    }
   ],
   "source": [
    "unique_genres = set()\n",
    "for genres_list in movies_df['genres']:\n",
    "    unique_genres.update(genres_list)\n",
    "\n",
    "# Convert the set to a sorted list\n",
    "unique_genres = sorted(unique_genres)\n",
    "\n",
    "print(\"Available Genres:\")\n",
    "print(unique_genres)\n"
   ]
  },
  {
   "cell_type": "code",
   "execution_count": null,
   "metadata": {},
   "outputs": [
    {
     "data": {
      "text/plain": [
       "35"
      ]
     },
     "metadata": {},
     "output_type": "display_data"
    }
   ],
   "source": [
    "len(unique_genres)"
   ]
  },
  {
   "cell_type": "markdown",
   "metadata": {},
   "source": [
    "Extracting valid tags"
   ]
  },
  {
   "cell_type": "code",
   "execution_count": null,
   "metadata": {},
   "outputs": [
    {
     "name": "stdout",
     "output_type": "stream",
     "text": [
      "Available Tags:\n",
      "['\"artsy\"', '06 oscar nominated best movie - animation', '1900s', '1920s', '1950s', '1960s', '1970s', '1980s', '1990s', '2001-like', '2d animation', '70mm', \"80's\", 'a clever chef rat', 'a dingo ate my baby', 'aardman', 'abortion', 'absorbing', 'abstract', 'academy award (best supporting actress)', 'accident', 'achronological', 'acting', 'action', 'action choreography', 'action packed', 'adam sandler', 'addiction', 'adolescence', 'adoption', 'adorable', 'adrien brody', 'adult humor', 'adultery', 'adventure', 'afghanistan', 'africa', 'agatha christie', 'aggressive', 'aging', 'aids', 'al pacino', 'alan rickman', 'alcatraz', 'alcoholism', 'alfred hitchcock', 'alicia vikander', 'aliens', 'allegorical', 'alone in the world', 'alter ego', 'alternate endings', 'alternate reality', 'alternate universe', 'amazing', 'amazing artwork', 'amazing cinematography', 'amazing dialogues', 'american idolatry', 'american indians', 'american propaganda', 'amish', 'amnesia', 'amtrak', 'amy adams', 'ancient rome', 'andrew lloyd weber', 'android(s)/cyborg(s)', 'androids', 'andy garcia', 'andy kaufman', 'andy samberg', 'angelina jolie', 'anger', 'animal movie', 'animation', 'anime', 'anne boleyn', 'anne hathaway', 'annoying', 'anthology', 'anthony hopkins', 'anti-intellectual', 'anti-semitism', 'anti-war', 'apes', 'apocalypse', 'aquarium', 'archaeology', 'ark of the covenant', 'arnold schwarzenegger', 'art', 'art house', 'arthouse', 'arthur c. clarke', 'arthur miller', 'artificial intelligence', 'artistic', 'artsy', 'as byatt', 'assassin', 'assassin-in-training (scene)', 'assassination', 'assassins', 'astaire and rogers', 'asylum', 'atmospheric', 'atomic bomb', 'audience intelligence underestimated', 'audrey tautou', 'austere', 'australia', 'autism', 'avant-garde romantic comedy', 'aviation', 'awesome', 'awkward', 'awkward romance', 'babies', 'backwards. memory', 'bad', 'bad acting', 'bad ass', 'bad dialogue', 'bad humor', 'bad jokes', 'bad language', 'bad music', 'bad plot', 'bad science', 'bad script', 'bad story', 'bad writing', 'bad-ass', 'ballet', 'ballroom dance', 'bank', 'baseball', 'based on a book', 'based on a play', 'based on a true story', 'based on a tv show', 'basketball', 'batman', 'bears', 'beat poetry', 'beatles', 'beautiful', 'beautiful cinematography', 'beautiful scenery', 'beautiful visuals', 'beautifully filmed', 'bechdel test:fail', 'beethoven', 'ben affleck', 'ben kingsley', 'ben stiller', 'best comedy', 'best picture', 'bette davis', 'bible', 'biblical references', 'big boys with guns', 'big brothers', 'big budget', 'big corporations', 'big name actors', 'big top', 'big wave', 'biking', 'bill murray', 'biography', 'biopic', 'birds', 'bittersweet', 'bizarre', 'bizzare', 'black and white', 'black comedy', 'black hole', 'black humor', 'black humour', 'black-and-white', 'bleak', 'blind', 'blindness', 'blood', 'blood splatters', 'bloody', 'bluegrass', 'boksdrama', 'bombs', 'books', 'borg', 'boring', 'boston', 'bowling', 'boxing', 'boxing story', 'brad pitt', 'brainwashing', 'brilliant', 'british', 'british comedy', 'british gangster', 'britpop', 'brittany murphy', 'broadway', 'bromance', 'bromantic', 'brooch', 'brothers', 'bruce willis', 'brutal', 'brutality', 'bubba gump shrimp', 'bugs bunny', 'building a family', 'bus', 'business', 'busniess', 'butler', 'c.s. lewis', 'california', 'cambodia', 'camels', 'cameo:whoopi goldberg', 'camp', 'canada', 'cancer', 'capone', 'capote', 'captain america', 'captain kirk', 'captain nemo', 'carnival', 'cartoon', 'casey affleck', 'casino', 'casual violence', 'cate blanchett', 'cattle drive', 'celebrity fetishism', 'cerebral', 'cgi', 'challenging', 'character development', 'character study', 'characters', 'charles dickens', 'charlize theron', 'charlotte bronte', 'cheating', 'cheeky', 'cheesy', 'chess', 'chick flick', 'child abuse', 'childish naivity', 'children', 'chile', 'chilly', 'china', 'chris evans', 'chris klein', 'christian bale', 'christina ricci', 'christmas', 'christoph waltz', 'christopher lloyd', 'christopher nolan', 'chuck palahniuk', 'cia', 'cinematography', 'circus', 'city politics', 'civil war', 'claims to be true', 'class', 'classic', 'classic movie', 'classic sci-fi', 'claustrophobic', 'claymation', 'clever', 'cliche characters', 'clock', 'clousseau', 'coen bros', 'coen brothers', 'coke', 'cold', 'cold war', 'cole porter', 'colin farrell', 'college', 'colorful', 'colourful', 'coma', 'comedy', 'comic book', 'comics', 'complicated', 'computer', 'computer animation', 'computers', 'con artists', 'con men', 'conan', 'confrontational', 'confusing', 'confusing ending', 'conspiracy', 'conspiracy theory', 'consumerism', 'contemplative', 'controversial', 'convent', 'conversation', 'cool', 'cool style', 'corruption', 'costume drama', 'coulda been a contender', 'court', 'courtroom drama', 'crappy sequel', 'crazy', 'creative', 'creativity', 'creature feature', 'creepy', 'crime', 'crime scene scrubbing', 'cross dressing', 'crucifixion', 'crude humor', 'cruel characters', 'cryptic', 'cult', 'cult classic', 'cult film', 'cyberpunk', 'cynical', 'dan aykroyd', 'dance', 'dance marathon', 'dancing', 'daniel craig', 'daniel radcliffe', 'dark', 'dark comedy', 'dark fairy tale', 'dark hero', 'dark humor', 'darth vader', 'dating', 'david bowie', 'david fincher', 'david thewlis', 'day and hudson', 'dc', 'dc comics', 'dead wife', 'deadpan', 'deaf', 'deafness', 'death', 'death penalty', 'deep throat', 'demons', 'denzel washington', 'depressing', 'depression', 'diabetes', 'dialogue', 'dickens', 'different', 'diner', 'dinosaur', 'dinosaurs', 'directorial debut', 'disability', 'disappointing', 'disaster', 'disjointed timeline', 'disney', 'disney animated feature', 'disturbing', 'divorce', 'doc ock', 'doctors', 'documentary', 'dodie smith', 'dogs', 'doll', 'domestic violence', 'donkey', 'dorothy', 'double life', 'downbeat', 'dr. seuss', 'dr. strange', 'drama', 'dreamlike', 'dreams', 'dreamy', 'drug abuse', 'drug overdose', 'drugs', 'drugs & music', 'dull', 'dumas', 'dumb', 'dumpster diving', 'dust bowl', 'dwayne johnson', 'dystopia', 'e-mail', 'e. m. forster', 'e.m. forster', 'earnest', 'easygoing', 'eccentric', 'economics', 'ed harris', 'edith wharton', 'edward norton', 'eerie', 'einstein', 'elegant', 'elegiac', 'embarassing scenes', 'emilia clarke', 'emma', 'emma stone', 'emma thompson', 'emotional', 'empire state building', 'end of the world', 'ending', 'england', 'engrossing adventure', 'enigmatic', 'enjoyable', 'ensemble cast', 'enterprise', 'entertaining', 'entirely dialogue', 'epic', 'episodic', 'eric bana', 'espionage', 'ethics', \"eugene o'neill\", 'europe', 'eva green', 'everything you want is here', 'evil children', 'evolution', 'ewan mcgregor', 'ex-con', 'exciting', 'existential', 'existentialism', 'exquisite plotting.', 'factory', 'faerie tale', 'fairy tale', 'fairy tales', 'falling', 'families', 'family', 'fantasy', 'fantasy world', 'far fetched', 'fast paced', 'fast-paced', 'fast-paced dialogue', 'fatalistic', 'father-son relationship', 'fatherhood', 'favelas', 'fbi', 'feel-good', 'ferris wheel', 'fighting', 'fighting the system', 'figure skating', 'film history', 'film noir', 'film-noir', 'financial crisis', 'firefly', 'first was much better', 'fish', 'flood', 'food', 'football', 'for katie', 'foul language', 'france', 'franchise', 'francis ford coppola', 'freaks', 'free speech', 'free to download', 'freedom', 'freedom of expression', 'french', 'friendship', 'fucked up', 'fugitive', 'fun', 'fun family movie', 'funny', 'future', 'futuristic', 'gal gadot', 'gambling', 'game', 'gangs', 'gangster', 'gangsters', 'gary oldman', 'geeky', 'general motors', 'generation x', 'genius', 'genocide', 'gentle', 'george bernard shaw', 'george clooney', 'george lucas', 'ghost', 'ghosts', 'gintama', 'girl power', 'give me back my son!', 'gold', 'golden watch', 'golf', 'golfing', 'good', 'good and evil', 'good cinematography', 'good dialogue', 'good music', 'good soundtrack', 'good writing', 'goofy', 'gore', 'goretastic', 'gothic', 'governess', 'grace', 'graham greene', 'graphic design', 'great acting', 'great cinematography', 'great dialogue', 'great ending', 'great humor', 'great movie', 'great performances', 'great screenplay', 'great soundtrack', 'great villain', 'great visuals', 'grim', 'gritty', 'gruesome', 'guardians of the galaxy', 'gulf war', 'gun fu', 'gun tactics', 'gun-fu', 'gunfight', 'guns', 'hal', 'halle berry', 'halloween', 'hallucinatory', 'hammett', 'hannibal lecter', 'hannibal lector', 'happpiness', 'happy ending', 'harley quinn', \"harley quinn's ass\", 'harper lee', 'harrison ford', 'harry potter', 'harsh', 'harvey keitel', 'haunting', 'hawkeye', 'hayao miyazaki', 'hearst', 'heartbreaking', 'heartwarming', 'heavy metal', 'heist', 'helena bonham carter', 'hemingway', 'henry darger', 'henry james', 'hepburn and tracy', 'heroic bloodshed', 'heroin', 'heroine in tight suit', 'high fantasy', 'high school', 'highly quotable', 'highschool', 'hilarious', 'hilary swank', 'hip hop', 'hippies', 'historical', 'history', 'hit men', 'hitman', 'hollywood', 'holocaust', 'holy grail', 'homeless', 'homosexuality', 'hope', 'horrible acting', 'horrible directing', 'horrid characterisation', 'horror', 'horses', 'hostage', 'hot actress', 'hotel', 'housekeeper', 'howard hughes', 'huey long', 'hugh jackman', 'hula hoop', 'human rights', 'humane', 'humor', 'humorous', 'humour', 'hungary', 'i am your father', 'i see dead people', 'ichabod crane', 'iconic', 'illusions', 'imaginary friend', 'imagination', 'imaginative', 'imdb top 250', 'immigrants', 'immigration', 'immortality', 'in netflix queue', 'in your eyes', 'incest', 'independent', 'independent film', 'india', 'indiana jones', 'indie record label', 'individualism', 'indonesia', 'infertility', 'inhumane', 'inigo montoya', 'innovative', 'insane', 'insanity', 'insightful', 'insomnia', 'inspirational', 'inspiring', 'insurance', 'intellectual', 'intelligent', 'intelligent sci-fi', 'intense', 'interesting', 'interesting characters', 'interesting scenario', 'interracial marriage', 'interracial romance', 'intertwining storylines', 'interwoven storylines', 'intimate', 'introspection', 'investor corruption', 'invisibility', 'ireland', 'ironic', 'irony', 'irreverent', 'island', 'istanbul', 'it was melodramatic and kind of dumb', 'italy', 'jack nicholson', 'jackie chan', 'jaime pressly', 'jake gyllenhaal', 'james cameron', 'james fennimore cooper', 'james franco', 'james stewart', 'jane austen', 'japan', 'jared leto', 'jason', 'jason biggs', 'jason segel', 'jay and silent bob', 'jazz', 'jean grey', 'jean reno', 'jeff bridges', 'jekyll and hyde', 'jennifer connelly', 'jennifer lawrence', 'jesse eisenberg', 'jesse ventura', 'jessica alba', 'jim carrey', 'jim morrison', 'john cusack', 'john goodman', 'john grisham', 'john malkovich', 'john travolta', 'johnny cash', 'johnny depp', 'joker', 'jon hamm', 'josh brolin', 'joss whedon', 'journalism', 'judaism', 'jude law', 'julianne moore', 'juliette lewis', 'jungle', 'justice', 'justin timberlake', 'katzanzakis', 'keanu reeves', 'kevin costner', 'kevin smith', 'kevin spacey', 'kidnapping', 'kids', 'killer', 'killer-as-protagonist', 'king arthur', 'klingons', 'knights', 'kung fu', 'kurt russell', 'l.a.', 'lack of development', 'lack of plot', 'lack of story', 'large cast', 'las vegas', 'last man on earth', 'lawn mower', 'lawyer', 'lawyers', 'leonardo dicaprio', 'leonardo dicarpio', 'leopard', 'lesbian', 'lesbian subtext', 'liam neeson', 'lies', 'lieutenant dan', 'lion', 'lions', 'live action/animation', 'lloyd dobbler', 'lolita theme', 'loneliness', 'lonesome polecat', 'long shots', 'long takes', 'longing', 'lord of the rings', 'loretta lynn', 'los angeles', 'lou gehrig', 'louisa may alcott', 'love', 'love story', 'lovely', 'luc besson', 'luke skywalker', 'lyrical', 'm. night shyamalan', 'macaulay culkin', 'macbeth', 'macho', 'mad scientist', 'made me cry', 'mafia', 'maggie gyllenhaal', 'magic', 'magic board game', 'magneto', 'male nudity', 'margot robbie', 'marijuana', 'marion cotillard', 'mark ruffalo', 'mark wahlberg', 'marriage', 'martial arts', 'martin scorsese', 'marvel', 'marx brothers', 'masculinity', 'masterpiece', 'matchmaker', 'mathematics', 'matrix', 'matt damon', 'may-december romance', 'mccarthy hearings', 'mcdonalds', 'mcu', 'meaningless violence', 'mecha', 'mediacentralism', 'medieval', 'meditative', 'mel gibson', 'melancholic', 'melancholy', 'memory', 'memory loss', 'men in drag', 'menacing', 'mental hospital', 'mental illness', 'mermaid', 'meryl streep', 'metaphorical', 'mexico', 'mice', 'michael bay', 'michael cera', 'michael crichton', 'michigan', 'middle east', 'mila kunis', 'military', 'milkshake', 'mind-bending', 'mind-blowing', 'mindfuck', 'mindless one liners', 'mining', 'mirrors', 'missing children', 'missionary', 'mma', 'mobster', 'mobsters', 'mockumentary', 'modern fantasy', 'modern war', 'moldy', 'money', 'monologue', 'monty python', 'moody', 'moon', 'morality', 'morgan freeman', 'morrow', 'moses', 'motherfucker', 'motherhood', 'motivational', 'mount rushmore', 'mountain climbing', 'movie business', 'movies', 'movies about movies', 'moving', 'mozart', 'mrs. dewinter', 'multiple personalities', 'multiple roles', 'multiple short stories', 'multiple stories', 'multiple storylines', 'muppets', 'murder', 'music', 'music business', 'music industry', 'mystery', 'myth', 'mythology', 'nabokov', 'nanny', 'narnia', 'narrated', 'narrative pisstake', 'nasa', 'natalie portman', 'nathan fillion', 'native americans', 'navy', 'nazis', 'needed more autobots', 'neil patrick harris', 'neo-noir', 'nerd', 'nerds', 'new composer', 'new society', 'new york', 'new york city', 'nick and nora charles', 'nick hornby', 'nicolas cage', 'nightclub', 'nightmare', 'ninotchka remake', 'no dialogue', 'no dvd at netflix', 'nocturnal', 'noir', 'non-linear', 'non-linear timeline', 'nonlinear', 'nonlinear narrative', 'nonlinear storyline', 'nonlinear timeline', 'nonsense', 'norman bates', 'nostalgia', 'not available from netflix', 'not funny', 'not linear', 'not seen', 'notable nudity', 'notable soundtrack', 'nuclear disaster', 'nuclear war', 'nudity (full frontal)', 'nudity (topless)', 'nun', 'nuns', 'obsession', 'ocean', 'off-beat comedy', 'offensive', 'ogres', 'oil', 'old', 'oldie but goodie', 'olympics', 'oninous', 'opera', 'organised crime', 'organized crime', 'original', 'original plot', 'orlando bloom', 'orphans', 'oscar (best actress)', 'oscar (best cinematography)', 'oscar (best effects - visual effects)', 'oscar (best music - original score)', 'oscar (best supporting actress)', 'oscar wilde', 'othello', 'out of order', 'overcomplicated', 'overrated', 'pageant', 'painter', 'palahnuik', \"palme d'or\", 'paranoia', 'paranoid', 'parenthood', 'paris', 'parody', 'parrots', 'passion', 'paul giamatti', 'paul rudd', 'peace corp', 'pearl s buck', 'pee wee herman', 'personals ads', 'peta wilson', 'peter pan', 'philip k. dick', 'philip seymour hoffman', 'philosophical', 'philosophical issues', 'philosophy', 'philosopical', 'photographer', 'photography', 'pigs', 'pixar', 'pizza beer', 'planes', 'plastic surgery', 'plot holes', 'plot twist', 'poetic', 'poignant', 'police', 'police corruption', 'political commentary', 'political right versus left', 'politics', 'pool', 'poor dialogue', 'poor plot development', 'poor story', 'poorly paced', 'pop culture references', 'post apocalyptic', 'post-apocalyptic', 'post-college', 'postmodern', 'pow', 'powerful ending', 'preacher', 'predictable', 'predictible plot', 'pregnancy', 'prejudice', 'prequel', 'president', 'priest', 'prince', 'prison', 'procedural', 'prodigies', 'prom', 'prostitution', 'psychedelic', 'psychiatrist', 'psychological', 'psychological thriller', 'psychology', 'psychopaths', 'ptsd', 'pudding', 'pulp', 'purity of essence', 'purposefulness', 'quakers', 'queen victoria', 'quentin tarantino', 'quick cuts', 'quirky', 'quirky romantic', 'quotable', 'r language', 'r:disturbing violent content including rape', 'r:disturbing violent images', 'r:graphic sexuality', 'r:some violence', 'r:strong bloody violence', 'r:strong language', 'r:sustained strong stylized violence', 'r:violence', 'rabbi', 'race', 'rachel mcadams', 'rachel weisz', 'racism', 'radio', 'ralph fiennes', 'random', 'ransom', 'rap', 'rape', 'rasicm', 'ray bradbury', 'real estate', 'realistic', 'reality tv', 'really bad', 'rebellion', 'recap', 'reciprocal spectator', 'reflective', 'relaxing', 'religion', 'remade', 'remake', 'remaster', 'remix culture', 'renee zellweger', 'representation of children', 'restaurant', 'retro', 'reunion', 'revenge', 'revolution', 'revolutionary', 'rich guy - poor girl', 'ridiculous', 'rita hayworth can dance!', 'river', 'road trip', 'roald dahl', 'rob zombie', 'robbery', 'robert de niro', 'robert downey jr.', 'robert ludlum', 'robert penn warren', 'robin williams', 'robots', 'robots and androids', 'roger avary', 'rogers and hammerstein', 'rogue', 'rolling stone', 'romance', 'romans', 'romantic', 'romantic comedy', 'rome', 'rosebud', 'royal with cheese', 'royalty', 'rug', 'russell crowe', 'russia', 'ryan reynolds', 's.e. hinton', 'sad', 'saint', 'saints', 'salieri', 'salute to douglas sirk', 'samuel l. jackson', 'samurai', 'sarcasm', 'satire', 'satirical', 'saturday night live', 'savannah', 'scandal', 'scary', 'scenic', 'schizophrenia', 'school', 'sci-fi', 'science fiction', 'scifi', 'scifi cult', 'scifi masterpiece', 'scotland', 'scott turow', 'screwball', 'sean connery', 'seann william scott', 'secret society', 'secrets', 'seen at the cinema', 'seen more than once', 'self discovery', 'sentimental', 'sequel', 'serial killer', 'seth macfarlane', 'seth rogen', 'setting:space/space ship', 'sex', 'sexual humor', 'sexuality', 'sexy', 'sexy female scientist', 'shakespeare', 'shakespeare sort of', 'shangri-la', 'shark', 'shenanigans', 'shia labeouf', 'ships', 'shipwreck', 'short films', 'short stories', 'show business', 'shrimp', 'siam', 'silly', 'simon and garfunkel', 'simon pegg', 'simple', 'sinbad', 'singers', 'singletons', 'sisterhood', 'sisters', 'six-fingered man', 'skiing', 'slasher', 'slavery', 'slick', 'slim pickens', 'slow', 'slow action', 'slow paced', 'small time criminals', 'small towns', 'smart', 'smart writing', 'sniper', 'snl', 'soccer', 'social commentary', 'societal criticism', 'sofia coppola', 'solitude', 'somber', 'something for everyone in this one... saw it without and plan on seeing it with kids!', 'sophisticated', 'soundtrack', 'south africa', 'south america', 'south park', 'southern us', 'space', 'space action', 'space adventure', 'space craft', 'space epic', 'space opera', 'space station', 'space travel', 'spacecraft', 'spaghetti western', 'special effects', 'spelling bee', 'spiders', 'spies', 'splatter', 'spoof', 'sports', 'spying', 'stage', 'stand up', 'stand-up comedy', 'stanley kubrick', 'stapler', 'star trek', 'star wars', 'start of a beautiful friendship', 'statue', 'stephen crane', 'stephen king', 'steve buscemi', 'steve carell', 'steven spielberg', 'stiller', 'stock market', 'stone age', 'stoner movie', 'stones of summer', 'stop looking at me swan', 'stop using useless characters for filler', 'storytelling', 'stranded', 'strange', 'strangers on a train', 'studio ghibli', 'stupid', 'stupid but funny', 'stupid ending', 'stupid is as stupid does', 'stylish', 'stylized', 'submarine', 'suburbia', 'subway', 'suicide', 'sundance award winner', 'superb soundtrack', 'superficial plot', 'superhero', 'superhero team', 'superman', 'surfing', 'surprise ending', 'surreal', 'surrealism', 'survival', 'suspense', 'suspenseful', 'sustainability', 'swashbuckler', 'sweet', 'sword fight', 'symbolic', 'symbolism', 'system holism', 'tarantino', 'teacher', 'teachers', 'tear jerker', 'tearjerking', 'technology', 'tedious', 'teen', 'teen movie', 'teenage pregnancy', 'teenagers', 'televangelist', 'television', 'tennessee williams', 'tense', 'tension', 'tension building', 'terminal illness', 'terrorism', 'test tag', 'thanksgiving', 'thanos', 'the catholic church is the most corrupt organization in history', 'the entertainer', 'the force', 'theater', 'they might be giants', 'thor', 'thought provoking', 'thought-provoking', 'threesome', 'thriller', 'thrilling', 'tilda swinton', 'tim burton', 'time travel', 'time-travel', 'titanic', 'tobacco', 'toga', 'tokyo', 'tolkein', 'tolkien', 'tolstoy', 'tom clancy', 'tom hanks', 'tom hardy', 'too long', 'too many characters', 'too much love interest', 'toto', 'touching', 'tradition!', 'tragedy', 'tragic', 'train', 'trains', 'transplants', 'transvestite', 'travolta', 'treasure hunt', 'trey parker', 'tricky', 'trippy', 'truckers', 'true story', 'truman capote', 'truth', 'turkey', 'tv', 'twins', 'twist', 'twist ending', 'twisted', 'twists & turns', 'uma thurman', 'ummarti2006', 'uncomfortable', 'unconventional', 'undercover cop', 'understated', 'unexplained', 'unintelligent', 'union', 'unique', 'unlikely hero', 'unnecessary sequel', 'unoriginal', 'unpredictable', 'unsettling', 'unusual', 'up series', 'updated classics', 'uplifting', 'vampire', 'vampires', 'van gogh', 'venice', 'vertriloquism', 'very funny', 'veterinarian', 'video', 'video game adaptation', 'video games', 'vietnam', 'viggo mortensen', 'villain nonexistent or not needed for good story', 'violence', 'violence in america', 'violent', 'virginity', 'virtual reality', 'visual', 'visually appealing', 'visually striking', 'visually stunning', 'von bulow', 'voyeurism', 'vulgar', 'wall street', 'wapendrama', 'war', 'watergate', 'way too long', 'weak plot', 'weather forecaster', 'wedding', 'weddings', 'weird', 'well done', 'werewolf', 'wesley snipes', 'western', 'whales', 'whimsical', 'white guilt', 'widows/widowers', 'will ferrell', 'will smith', 'wine', 'winona ryder', 'wistful', 'witty', 'wizards', 'wolverine', 'women', 'wonderwoman', 'woody harrelson', 'workplace', 'world war i', 'world war ii', 'writing', 'wrongful imprisonment', 'wry', 'younger men', 'zither', 'zoe kazan', 'zombies', 'zooey deschanel']\n"
     ]
    }
   ],
   "source": [
    "# Fill NaN values in 'tag' column with empty strings\n",
    "tags_df['tag'] = tags_df['tag'].fillna('')\n",
    "\n",
    "# Convert tags to lowercase and strip whitespace\n",
    "tags_df['tag'] = tags_df['tag'].str.lower().str.strip()\n",
    "\n",
    "# Remove empty strings\n",
    "tags_df = tags_df[tags_df['tag'] != '']\n",
    "\n",
    "# Get unique tags\n",
    "unique_tags = tags_df['tag'].unique()\n",
    "\n",
    "# Convert to a list and sort\n",
    "unique_tags = sorted(unique_tags)\n",
    "\n",
    "print(\"Available Tags:\")\n",
    "print(unique_tags)\n"
   ]
  },
  {
   "cell_type": "code",
   "execution_count": null,
   "metadata": {},
   "outputs": [
    {
     "data": {
      "text/plain": [
       "1475"
      ]
     },
     "metadata": {},
     "output_type": "display_data"
    }
   ],
   "source": [
    "len(unique_tags)"
   ]
  },
  {
   "cell_type": "markdown",
   "metadata": {},
   "source": [
    "The available tags are numerous and sometimes overlapping or redundant, making it difficult for users to select from them.\n",
    "\n",
    "We can use NLP to analyze the tags and group them into meaningful categories or clusters, resulting in a condensed list of tags that users can easily select from.\n",
    "\n",
    "We will:\n",
    "\n",
    "1. Preprocess the Tags: Clean and normalize the tags for consistent processing.\n",
    "2. Represent Tags Using Word Embeddings: Convert tags into numerical vectors that capture semantic meaning.\n",
    "3. Cluster Similar Tags: Group tags based on their semantic similarity.\n",
    "4. Generate Condensed Tag List: Select representative tags or create labels for each cluster.\n",
    "5. Present the Condensed List: Provide the condensed list to the user."
   ]
  },
  {
   "cell_type": "markdown",
   "metadata": {},
   "source": [
    "Preprocessing the Tags\n",
    "- Convert to Lowercase: Ensure all tags are in lowercase.\n",
    "- Remove Punctuation: Clean tags of any punctuation.\n",
    "- Tokenization: Split multi-word tags into individual words.\n",
    "- Lemmatization: Reduce words to their base form.\n",
    "- Remove Stopwords: Eliminate common words that don't add meaning.\n"
   ]
  },
  {
   "cell_type": "code",
   "execution_count": null,
   "metadata": {},
   "outputs": [
    {
     "name": "stderr",
     "output_type": "stream",
     "text": [
      "[nltk_data] Downloading package punkt to /Users/user/nltk_data...\n",
      "[nltk_data]   Package punkt is already up-to-date!\n",
      "[nltk_data] Downloading package wordnet to /Users/user/nltk_data...\n",
      "[nltk_data]   Package wordnet is already up-to-date!\n",
      "[nltk_data] Downloading package stopwords to /Users/user/nltk_data...\n",
      "[nltk_data]   Package stopwords is already up-to-date!\n"
     ]
    }
   ],
   "source": [
    "import nltk\n",
    "import string\n",
    "import pandas as pd\n",
    "import numpy as np\n",
    "import gensim.downloader as api\n",
    "from sklearn.cluster import AgglomerativeClustering\n",
    "from sklearn.metrics.pairwise import cosine_similarity\n",
    "\n",
    "# Download necessary NLTK data files\n",
    "nltk.download('punkt')\n",
    "nltk.download('wordnet')\n",
    "nltk.download('stopwords')\n",
    "\n",
    "from nltk.tokenize import word_tokenize\n",
    "from nltk.corpus import stopwords\n",
    "from nltk.stem import WordNetLemmatizer\n",
    "\n",
    "# Initialize lemmatizer and stopwords\n",
    "lemmatizer = WordNetLemmatizer()\n",
    "stop_words = set(stopwords.words('english'))\n",
    "\n",
    "# Sample list of tags (replace this with your actual list)\n",
    "tags_list = unique_tags\n",
    "\n",
    "# Preprocess tags\n",
    "def preprocess_tag(tag):\n",
    "    # Remove punctuation\n",
    "    tag = tag.translate(str.maketrans('', '', string.punctuation))\n",
    "    # Convert to lowercase\n",
    "    tag = tag.lower()\n",
    "    # Tokenize\n",
    "    tokens = word_tokenize(tag)\n",
    "    # Remove stopwords and lemmatize\n",
    "    tokens = [lemmatizer.lemmatize(word) for word in tokens if word not in stop_words]\n",
    "    # Rejoin tokens\n",
    "    preprocessed_tag = ' '.join(tokens)\n",
    "    return preprocessed_tag\n",
    "\n",
    "preprocessed_tags = [preprocess_tag(tag) for tag in tags_list]\n"
   ]
  },
  {
   "cell_type": "markdown",
   "metadata": {},
   "source": [
    "Represent Tags Using Word Embeddings\n",
    "- We will use pre-trained word embeddings from Gensim's word2vec-google-news-300 model to represent each tag as a vector.\n",
    "\n",
    "- Handle Multi-word Tags: For tags with multiple words, we'll compute the average of the word vectors."
   ]
  },
  {
   "cell_type": "code",
   "execution_count": null,
   "metadata": {},
   "outputs": [],
   "source": [
    "# Load pre-trained word2vec model (this may take a few minutes and requires internet access)\n",
    "model = api.load('word2vec-google-news-300')  # 300-dimensional vectors\n",
    "\n",
    "# Function to get vector for a tag\n",
    "def get_tag_vector(tag):\n",
    "    tokens = tag.split()\n",
    "    vectors = []\n",
    "    for token in tokens:\n",
    "        if token in model:\n",
    "            vectors.append(model[token])\n",
    "    if vectors:\n",
    "        # Compute average vector\n",
    "        tag_vector = np.mean(vectors, axis=0)\n",
    "        return tag_vector\n",
    "    else:\n",
    "        # If none of the words are in the model, return a zero vector\n",
    "        return np.zeros(model.vector_size)\n",
    "\n",
    "# Get vectors for all tags\n",
    "tag_vectors = []\n",
    "valid_tags = []\n",
    "for tag in preprocessed_tags:\n",
    "    vector = get_tag_vector(tag)\n",
    "    if np.any(vector):\n",
    "        tag_vectors.append(vector)\n",
    "        valid_tags.append(tag)\n",
    "    else:\n",
    "        # Skip tags that cannot be vectorized\n",
    "        pass\n",
    "\n",
    "# Convert list to numpy array\n",
    "tag_vectors = np.array(tag_vectors)\n"
   ]
  },
  {
   "cell_type": "markdown",
   "metadata": {},
   "source": [
    "Clustering Similar Tags\n",
    "- We'll use Agglomerative Hierarchical Clustering to cluster the tags based on their semantic similarity."
   ]
  },
  {
   "cell_type": "code",
   "execution_count": null,
   "metadata": {},
   "outputs": [
    {
     "name": "stdout",
     "output_type": "stream",
     "text": [
      "Number of clusters formed: 50\n"
     ]
    }
   ],
   "source": [
    "# Clustering Similar Tags\n",
    "from sklearn.cluster import AgglomerativeClustering\n",
    "\n",
    "# Decide on the number of clusters (adjust as needed)\n",
    "num_clusters = 50\n",
    "\n",
    "# Perform clustering\n",
    "clustering_model = AgglomerativeClustering(\n",
    "    n_clusters=num_clusters,\n",
    "    metric='euclidean',\n",
    "    linkage='ward'\n",
    ")\n",
    "clustering_model.fit(tag_vectors)\n",
    "\n",
    "# Get cluster labels\n",
    "labels = clustering_model.labels_\n",
    "\n",
    "# Create a DataFrame to hold tags and their cluster labels\n",
    "tag_cluster_df = pd.DataFrame({'tag': valid_tags, 'cluster': labels})\n",
    "\n",
    "print(f\"Number of clusters formed: {len(set(labels))}\")\n"
   ]
  },
  {
   "cell_type": "markdown",
   "metadata": {},
   "source": [
    "Generating Condensed Tag List\n",
    "- We'll select a representative tag for each cluster by finding the tag closest to the cluster centroid."
   ]
  },
  {
   "cell_type": "code",
   "execution_count": null,
   "metadata": {},
   "outputs": [],
   "source": [
    "from sklearn.metrics.pairwise import cosine_distances\n",
    "\n",
    "# Initialize list to store representative tags\n",
    "condensed_tags = []\n",
    "\n",
    "for cluster_num in range(num_clusters):\n",
    "    # Get all tags in this cluster\n",
    "    cluster_tags = tag_cluster_df[tag_cluster_df['cluster'] == cluster_num]\n",
    "    indices = cluster_tags.index\n",
    "    cluster_vectors = tag_vectors[indices]\n",
    "    \n",
    "    # Compute the centroid of the cluster\n",
    "    centroid = np.mean(cluster_vectors, axis=0)\n",
    "    \n",
    "    # Calculate distances from each tag vector to the centroid\n",
    "    distances = cosine_distances(cluster_vectors, [centroid]).flatten()\n",
    "    \n",
    "    # Find the index of the tag closest to the centroid\n",
    "    closest_index = distances.argmin()\n",
    "    representative_tag = cluster_tags.iloc[closest_index]['tag']\n",
    "    \n",
    "    condensed_tags.append(representative_tag)\n"
   ]
  },
  {
   "cell_type": "markdown",
   "metadata": {},
   "source": [
    "Presenting the Condensed List\n",
    "- Displaying the Condensed Tag List"
   ]
  },
  {
   "cell_type": "code",
   "execution_count": null,
   "metadata": {},
   "outputs": [
    {
     "name": "stdout",
     "output_type": "stream",
     "text": [
      "Condensed Tag List:\n",
      "beautiful cinematography\n",
      "beautiful visuals\n",
      "boxing\n",
      "bubba gump shrimp\n",
      "casino\n",
      "child\n",
      "classic movie\n",
      "classic scifi\n",
      "cliche character\n",
      "comedy\n",
      "computer animation\n",
      "crime\n",
      "dance\n",
      "dark fairy tale\n",
      "depression\n",
      "dialogue\n",
      "dinosaur\n",
      "drug\n",
      "europe\n",
      "gangster\n",
      "gun\n",
      "humor\n",
      "interracial romance\n",
      "kevin smith\n",
      "kidnapping\n",
      "lawyer\n",
      "melancholic\n",
      "morality\n",
      "nerd\n",
      "nonlinear narrative\n",
      "ocean\n",
      "parenthood\n",
      "philip seymour hoffman\n",
      "poignant\n",
      "priest\n",
      "rich guy poor girl\n",
      "robot android\n",
      "rstrong bloody violence\n",
      "ryan reynolds\n",
      "sex\n",
      "something everyone one saw without plan seeing kid\n",
      "spying\n",
      "stephen king\n",
      "strange\n",
      "stupid funny\n",
      "tragedy\n",
      "train\n",
      "vampire\n",
      "war\n",
      "wedding\n"
     ]
    }
   ],
   "source": [
    "# Sort the condensed tags alphabetically\n",
    "condensed_tags_sorted = sorted(condensed_tags)\n",
    "\n",
    "print(\"Condensed Tag List:\")\n",
    "for tag in condensed_tags_sorted:\n",
    "    print(tag)\n"
   ]
  },
  {
   "cell_type": "code",
   "execution_count": null,
   "metadata": {},
   "outputs": [
    {
     "data": {
      "text/plain": [
       "50"
      ]
     },
     "metadata": {},
     "output_type": "display_data"
    }
   ],
   "source": [
    "len(condensed_tags_sorted)"
   ]
  },
  {
   "cell_type": "code",
   "execution_count": null,
   "metadata": {},
   "outputs": [
    {
     "name": "stdout",
     "output_type": "stream",
     "text": [
      "\n",
      "Clusters and Their Tags:\n",
      "Cluster 0: Representative Tag - 'philip seymour hoffman'\n",
      "Tags: agatha christie, al pacino, alfred hitchcock, alicia vikander, american idolatry, american indian, american propaganda, ancient rome, arnold schwarzenegger, beatles, ben affleck, ben kingsley, bill murray, borg, british, british comedy, british gangster, broadway, cameowhoopi goldberg, cate blanchett, charlotte bronte, christian bale, christmas, cia, dan aykroyd, day hudson, dc, disney, doc ock, dorothy, email, e forster, einstein, eugene oneill, eva green, fbi, hal, halle berry, halloween, harley quinn, harley quinns as, hawkeye, hollywood, netflix queue, jaime pressly, jay silent bob, jeff bridge, jekyll hyde, jessica alba, johnny cash, johnny depp, kung fu, la, la vega, leonardo dicaprio, leonardo dicarpio, lieutenant dan, los angeles, luc besson, matt damon, mcu, mila kunis, moses, nasa, natalie portman, native american, new york, new york city, nick nora charles, dvd netflix, norman bates, available netflix, olympics, orlando bloom, palme dor, paris, pee wee herman, philip k dick, philip seymour hoffman, renee zellweger, roald dahl, robin williams, rome, rosebud, se hinton, salute douglas sirk, scotland, seth macfarlane, seth rogen, shia labeouf, snl, sofia coppola, thor, toto, uma thurman, venice, wesley snipe, winona ryder, zoe kazan\n",
      "\n",
      "Cluster 1: Representative Tag - 'something everyone one saw without plan seeing kid'\n",
      "Tags: academy award best supporting actress, action, action choreography, action packed, adoption, aid, alone world, alter ego, alternate ending, alternate reality, alternate universe, artificial intelligence, audience intelligence underestimated, bank, based book, based play, based tv show, best picture, big budget, big corporation, big name actor, big top, big wave, building family, business, cattle drive, chilly, class, clock, cold, cold war, confusing ending, coulda contender, disability, double life, duma, earnest, empire state building, end world, ending, ensemble cast, enterprise, everything want, evolution, factory, fast paced, fastpaced, fighting system, financial crisis, first much better, franchise, free speech, free download, future, game, general motor, generation x, gold, golden watch, great ending, great villain, happy ending, heroine tight suit, hope, huey long, human right, imdb top 250, independent, independent film, insurance, large cast, long shot, long take, louisa may alcott, made cry, magic board game, mark ruffalo, mark wahlberg, mindless one liner, mining, money, moon, mount rushmore, multiple personality, multiple role, needed autobots, new society, seen, offensive, oil, oscar best effect visual effect, order, peace corp, personal ad, plot twist, political right versus left, poorly paced, pop culture reference, postcollege, powerful ending, quick cut, race, random, real estate, reciprocal spectator, rogue, royalty, secret society, seen cinema, seen, self discovery, show business, slim pickens, slow, slow action, slow paced, small time criminal, small town, societal criticism, something everyone one saw without plan seeing kid, space, space action, space adventure, space craft, space epic, space station, space travel, spacecraft, special effect, stage, stock market, stop using useless character filler, stupid ending, sundance award winner, surprise ending, survival, sustainability, system holism, tear jerker, technology, test tag, catholic church corrupt organization history, force, might giant, thought provoking, time travel, long, trey parker, twin, twist, twist ending, twist turn, union, series, video, video game adaptation, video game, villain nonexistent needed good story, virtual reality, way long, weather forecaster, well done, workplace\n",
      "\n",
      "Cluster 2: Representative Tag - 'computer animation'\n",
      "Tags: 2d animation, animation, beat poetry, claymation, college, computer, computer animation, computer, economics, foul language, high school, highschool, journalism, mathematics, mouse, psychology, r language, rstrong language, radio, reality tv, school, science fiction, spelling bee, teacher, teacher, television, tv\n",
      "\n",
      "Cluster 3: Representative Tag - 'beautiful cinematography'\n",
      "Tags: amazing cinematography, art, art house, artistic, beautiful cinematography, cinematography, creative, creativity, good cinematography, great cinematography, imagination, martial art, painter, photographer, photography\n",
      "\n",
      "Cluster 4: Representative Tag - 'cliche character'\n",
      "Tags: abstract, allegorical, bad plot, bad story, based true story, biblical reference, character development, character study, character, claim true, classic, cliche character, conspiracy, conspiracy theory, cruel character, epic, ethic, exquisite plotting, historical, history, iconic, illusion, interesting character, invisibility, lack development, lack plot, lack story, love, love story, metaphorical, multiple short story, multiple story, myth, mythology, new composer, original, original plot, passion, philosophy, poor plot development, poor story, post apocalyptic, predictible plot, purity essence, short story, start beautiful friendship, stylized, superficial plot, symbolic, symbolism, titanic, many character, much love interest, tradition, true story, truth, updated classic, weak plot\n",
      "\n",
      "Cluster 5: Representative Tag - 'lawyer'\n",
      "Tags: butler, doctor, governess, housekeeper, lawyer, lawyer, nanny, psychiatrist, veterinarian\n",
      "\n",
      "Cluster 6: Representative Tag - 'ocean'\n",
      "Tags: aviation, favelas, island, jungle, keanu reef, military, navy, ocean, plane, river, savannah, scenic, settingspacespace ship, ship, shipwreck, submarine\n",
      "\n",
      "Cluster 7: Representative Tag - 'war'\n",
      "Tags: antisemitism, civil war, genocide, gulf war, holocaust, modern war, nuclear disaster, nuclear war, prejudice, racism, rebellion, revolution, revolutionary, slavery, star war, war, world war, world war ii\n",
      "\n",
      "Cluster 8: Representative Tag - 'depression'\n",
      "Tags: addiction, alcoholism, autism, blind, blindness, cancer, deaf, deafness, depression, diabetes, emotional, insomnia, mental hospital, mental illness, psychological, psychological thriller, schizophrenia, terminal illness, transplant\n",
      "\n",
      "Cluster 9: Representative Tag - 'stupid funny'\n",
      "Tags: acting, bad, bad acting, bad as, bad joke, bad language, bad science, bad script, bad writing, childish naivity, cynical, dumb, good, good writing, great acting, great performance, horrible acting, horrible directing, melodramatic kind dumb, nonsense, overrated, really bad, ridiculous, silly, smart writing, stupid, stupid funny, stupid stupid, unintelligent, unoriginal, vulgar, writing\n",
      "\n",
      "Cluster 10: Representative Tag - 'beautiful visuals'\n",
      "Tags: absorbing, adorable, adventure, amazing, amazing artwork, annoying, awesome, beautiful, beautiful scenery, beautiful visuals, beautifully filmed, brilliant, cheeky, cheesy, clever, colorful, cool, cool style, creepy, easygoing, eccentric, elegant, engrossing adventure, enjoyable, entertaining, exciting, fun, futuristic, gentle, goofy, graphic design, great visuals, gritty, imaginative, eye, innovative, intelligent, intelligent scifi, lovely, mindblowing, mirror, quirky, quirky romantic, realistic, reflective, relaxing, retro, simple, slick, smart, sophisticated, stylish, sweet, thrilling, unconventional, understated, unique, visual, visually appealing, visually striking, visually stunning, whimsical\n",
      "\n",
      "Cluster 11: Representative Tag - 'boxing'\n",
      "Tags: baseball, basketball, biking, bowling, boxing, boxing story, chess, football, golf, golfing, mma, skiing, soccer, sport, surfing\n",
      "\n",
      "Cluster 12: Representative Tag - 'interracial romance'\n",
      "Tags: avantgarde romantic comedy, bromance, chick flick, coen bros, dating, divorce, fatherson relationship, friendship, gal gadot, hot actress, interracial marriage, interracial romance, lesbian, lesbian subtext, marriage, matchmaker, maydecember romance, oldie goodie, romance, romantic, romantic comedy, sexy, shenanigan, singleton, sisterhood, threesome, transvestite\n",
      "\n",
      "Cluster 13: Representative Tag - 'poignant'\n",
      "Tags: bittersweet, bleak, downbeat, grim, heartbreaking, heartwarming, inspirational, inspiring, motivational, poignant, sad, sentimental, somber, uplifting\n",
      "\n",
      "Cluster 14: Representative Tag - 'morality'\n",
      "Tags: brainwashing, celebrity fetishism, cerebral, city politics, consumerism, existential, fatalistic, freedom, freedom expression, grace, immortality, individualism, insanity, intellectual, introspection, loneliness, longing, macho, masculinity, morality, nostalgia, obsession, paranoia, paranoid, philosophical, philosophical issue, political commentary, politics, purposefulness, religion, revenge, social commentary, solitude\n",
      "\n",
      "Cluster 15: Representative Tag - 'dinosaur'\n",
      "Tags: ape, aquarium, bird, camel, cartoon, dinosaur, dinosaur, dog, doll, donkey, firefly, horse, ichabod crane, leopard, lion, lion, mermaid, nocturnal, parrot, shark, spider, statue, stephen crane, whale, wolverine\n",
      "\n",
      "Cluster 16: Representative Tag - 'crime'\n",
      "Tags: asylum, corruption, court, crime, crime scene scrubbing, death, death penalty, fugitive, humane, immigrant, immigration, inhumane, investor corruption, justice, organised crime, organized crime, police, police corruption, prison, procedural, terrorism, undercover cop, wrongful imprisonment\n",
      "\n",
      "Cluster 17: Representative Tag - 'stephen king'\n",
      "Tags: ark covenant, bible, brooch, china, crucifixion, jean grey, jean reno, king arthur, knight, medieval, morrow, prince, queen victoria, rabbi, roman, royal cheese, rug, stephen king, thanksgiving\n",
      "\n",
      "Cluster 18: Representative Tag - 'comedy'\n",
      "Tags: anthology, best comedy, biography, biopic, black comedy, book, comedy, comic book, comic, costume drama, courtroom drama, dark comedy, dc comic, documentary, drama, mockumentary, offbeat comedy, parody, satire, satirical, spoof, standup comedy, suspense, suspenseful, thriller\n",
      "\n",
      "Cluster 19: Representative Tag - 'vampire'\n",
      "Tags: blood, blood splatter, gore, rob zombie, slasher, splatter, vampire, vampire, werewolf, zombie\n",
      "\n",
      "Cluster 20: Representative Tag - 'nonlinear narrative'\n",
      "Tags: atmospheric, disjointed timeline, episodic, intertwining storyline, interwoven storyline, magneto, matrix, multiple storyline, narrated, narrative pisstake, nonlinear, nonlinear timeline, nonlinear, nonlinear narrative, nonlinear storyline, nonlinear timeline, linear, recap, storytelling\n",
      "\n",
      "Cluster 21: Representative Tag - 'nerd'\n",
      "Tags: antiwar, badass, batman, charles dickens, dickens, em forster, fucked, geeky, hippy, joker, motherfucker, muppets, nazi, nerd, nerd, pow, superhero, superhero team, superman, swashbuckler, toga\n",
      "\n",
      "Cluster 22: Representative Tag - 'dark fairy tale'\n",
      "Tags: alien, cryptic, dark fairy tale, demon, dream, enigmatic, evil child, faerie tale, fairy tale, fairy tale, fantasy, fantasy world, genius, ghost, ghost, good evil, guardian galaxy, high fantasy, magic, marvel, masterpiece, modern fantasy, mystery, nightmare, ogre, prodigy, ray bradbury, secret, unexplained, wizard\n",
      "\n",
      "Cluster 23: Representative Tag - 'gun'\n",
      "Tags: atomic bomb, bomb, gun fu, gun tactic, gunfight, gun, sniper, stapler\n",
      "\n",
      "Cluster 24: Representative Tag - 'casino'\n",
      "Tags: casino, diner, gambling, hotel, nightclub, restaurant\n",
      "\n",
      "Cluster 25: Representative Tag - 'priest'\n",
      "Tags: convent, hannibal lector, nun, nun, preacher, priest, saint, saint, televangelist\n",
      "\n",
      "Cluster 26: Representative Tag - 'ryan reynolds'\n",
      "Tags: adam sandler, alan rickman, amy adam, andrew lloyd weber, andy garcia, andy kaufman, andy samberg, angelina jolie, anne boleyn, anne hathaway, anthony hopkins, arthur c clarke, arthur miller, bette davis, brad pitt, brittany murphy, bruce willis, c lewis, casey affleck, christina ricci, christopher lloyd, christopher nolan, cole porter, colin farrell, conan, david bowie, dr seuss, dr strange, dwayne johnson, ed harris, edward norton, emilia clarke, emma, emma thompson, eric bana, katie, francis ford coppola, gary oldman, george bernard shaw, george clooney, george lucas, graham greene, harper lee, harrison ford, harry potter, harvey keitel, helena bonham carter, hepburn tracy, howard hughes, indiana jones, indonesia, jackie chan, jake gyllenhaal, jane austen, jared leto, jason biggs, jennifer connelly, jennifer lawrence, jesse eisenberg, jesse ventura, john cusack, john goodman, john grisham, john malkovich, john travolta, josh brolin, julianne moore, justin timberlake, kurt russell, liam neeson, lloyd dobbler, loretta lynn, lou gehrig, luke skywalker, maggie gyllenhaal, margot robbie, marion cotillard, mcdonalds, mel gibson, morgan freeman, nathan fillion, neil patrick harris, peta wilson, rachel mcadams, rachel weisz, ralph fiennes, robert downey jr, robert penn warren, russell crowe, ryan reynolds, samuel l jackson, simon garfunkel, simon pegg, stanley kubrick, steven spielberg, tennessee williams, tim burton, tokyo, tom clancy, tom hank, tom hardy, woody harrelson\n",
      "\n",
      "Cluster 27: Representative Tag - 'melancholic'\n",
      "Tags: contemplative, dreamlike, dreamy, eerie, elegiac, hallucinatory, haunting, lyrical, meditative, melancholic, melancholy, moody, poetic, psychedelic, trippy, wistful\n",
      "\n",
      "Cluster 28: Representative Tag - 'classic movie'\n",
      "Tags: 06 oscar nominated best movie animation, animal movie, bromantic, cgi, classic movie, crappy sequel, creature feature, directorial debut, disney animated feature, feelgood, film history, fun family movie, good soundtrack, great movie, great screenplay, great soundtrack, horror, lolita theme, mindbending, mindfuck, movie business, movie, movie movie, ninotchka remake, notable soundtrack, oscar best actress, oscar best cinematography, oscar best music original score, oscar best supporting actress, oscar wilde, pixar, prequel, remade, remake, remaster, sequel, short film, soundtrack, stoner movie, studio ghibli, superb soundtrack, tearjerking, unnecessary sequel\n",
      "\n",
      "Cluster 29: Representative Tag - 'europe'\n",
      "Tags: afghanistan, africa, australia, boston, california, canada, denzel washington, england, europe, france, french, india, ireland, italy, japan, mexico, michigan, russia, vietnam\n",
      "\n",
      "Cluster 30: Representative Tag - 'dialogue'\n",
      "Tags: amazing dialogue, bad dialogue, conversation, dialogue, entirely dialogue, fastpaced dialogue, good dialogue, great dialogue, dialogue, poor dialogue\n",
      "\n",
      "Cluster 31: Representative Tag - 'kidnapping'\n",
      "Tags: assassination, heist, hostage, kidnapping, murder, ransom, rape, robbery, suicide\n",
      "\n",
      "Cluster 32: Representative Tag - 'humor'\n",
      "Tags: adult humor, bad humor, black humor, crude humor, dark humor, deadpan, funny, great humor, highly quotable, hilarious, humor, humorous, insightful, ironic, irony, irreverent, monologue, funny, quotable, sarcasm, sexual humor, funny, witty, wry\n",
      "\n",
      "Cluster 33: Representative Tag - 'dance'\n",
      "Tags: bad music, ballet, ballroom dance, bluegrass, christoph waltz, dance, dance marathon, dancing, good music, hula hoop, indie record label, jazz, music, music business, music industry, opera, rap, remix culture, rita hayworth dance, singer, space opera, entertainer, theater, zither\n",
      "\n",
      "Cluster 34: Representative Tag - 'sex'\n",
      "Tags: abortion, adultery, cheating, homosexuality, incest, male nudity, notable nudity, nudity full frontal, nudity topless, prostitution, rgraphic sexuality, scandal, sex, sexuality, virginity, voyeurism\n",
      "\n",
      "Cluster 35: Representative Tag - 'classic scifi'\n",
      "Tags: artsy, apocalypse, arthouse, artsy, classic scifi, cult, cult classic, cult film, cyberpunk, dystopia, existentialism, film noir, gothic, noir, postapocalyptic, postmodern, scifi, scifi, scifi cult, scifi masterpiece, screwball, suburbia, surrealism\n",
      "\n",
      "Cluster 36: Representative Tag - 'drug'\n",
      "Tags: drug abuse, drug overdose, drug, drug music, heroin, marijuana, tobacco\n",
      "\n",
      "Cluster 37: Representative Tag - 'strange'\n",
      "Tags: aggressive, austere, awkward, awkward romance, bizarre, bizzare, boring, challenging, claustrophobic, complicated, confrontational, confusing, controversial, crazy, depressing, different, disappointing, disturbing, dull, freak, harsh, horrid characterisation, insane, intense, interesting, interesting scenario, intimate, menacing, overcomplicated, predictable, scary, strange, surreal, tedious, tricky, twisted, uncomfortable, unpredictable, unsettling, unusual, weird\n",
      "\n",
      "Cluster 38: Representative Tag - 'tragedy'\n",
      "Tags: accident, amnesia, assassinintraining scene, backwards memory, coma, disaster, embarassing scene, flood, memory, memory loss, tragedy, tragic\n",
      "\n",
      "Cluster 39: Representative Tag - 'rich guy poor girl'\n",
      "Tags: clever chef rat, aging, amish, amtrak, bear, ben stiller, big boy gun, big brother, black white, black hole, black humour, bug bunny, busniess, camp, captain america, captain kirk, captain nemo, chuck palahniuk, con artist, con men, cross dressing, dark, dark hero, darth vader, dead wife, deep throat, dumpster diving, dust bowl, emma stone, ewan mcgregor, falling, far fetched, ferris wheel, fighting, figure skating, girl power, give back son, heavy metal, hilary swank, hip hop, hit men, holy grail, hugh jackman, hungary, see dead people, imaginary friend, istanbul, jack nicholson, joss whedon, judaism, jude law, last man earth, lawn mower, lie, live actionanimation, lonesome polecat, lord ring, night shyamalan, mad scientist, marx brother, mccarthy hearing, men drag, middle east, moldy, monty python, mountain climbing, moving, nick hornby, nicolas cage, old, pearl buck, peter pan, plastic surgery, plot hole, pool, president, quaker, rich guy poor girl, road trip, rolling stone, saturday night live, sexy female scientist, shakespeare, shakespeare sort, siam, south africa, south america, south park, southern u, spaghetti western, stand, star trek, stiller, stone age, stone summer, stop looking swan, sword fight, touching, travolta, treasure hunt, unlikely hero, violence america, von bulow, wall street, watergate, western, white guilt, younger men\n",
      "\n",
      "Cluster 40: Representative Tag - 'bubba gump shrimp'\n",
      "Tags: bubba gump shrimp, chile, coke, fish, food, milkshake, pig, pizza beer, pudding, pulp, shrimp, turkey, wine\n",
      "\n",
      "Cluster 41: Representative Tag - 'parenthood'\n",
      "Tags: adolescence, fatherhood, infertility, motherhood, parenthood, pregnancy, teenage pregnancy\n",
      "\n",
      "Cluster 42: Representative Tag - 'spying'\n",
      "Tags: espionage, spy, spying\n",
      "\n",
      "Cluster 43: Representative Tag - 'rstrong bloody violence'\n",
      "Tags: anger, bloody, brutal, brutality, casual violence, domestic violence, gruesome, heroic bloodshed, meaningless violence, rdisturbing violent content including rape, rdisturbing violent image, rsome violence, rstrong bloody violence, rsustained strong stylized violence, tense, tension, tension building, violence, violent\n",
      "\n",
      "Cluster 44: Representative Tag - 'kevin smith'\n",
      "Tags: astaire rogers, chris evans, chris klein, daniel craig, daniel radcliffe, david fincher, david thewlis, dodie smith, henry darger, henry james, james cameron, james fennimore cooper, james franco, james stewart, jason, jason segel, jim carrey, jim morrison, jon hamm, juliette lewis, kevin costner, kevin smith, kevin spacey, martin scorsese, michael bay, michael cera, michael crichton, mr dewinter, paul giamatti, paul rudd, robert de niro, robert ludlum, roger avary, rogers hammerstein, scott turow, sean connery, seann william scott, steve buscemi, steve carell, smith\n",
      "\n",
      "Cluster 45: Representative Tag - 'child'\n",
      "Tags: dingo ate baby, baby, brother, child abuse, child, coen brother, family, family, homeless, father, kid, missing child, missionary, orphan, representation child, sister, sixfingered man, stranded, teen, teen movie, teenager, trucker, woman\n",
      "\n",
      "Cluster 46: Representative Tag - 'gangster'\n",
      "Tags: assassin, assassin, gang, gangster, gangster, hitman, killer, mafia, mobster, mobster, psychopath, serial killer\n",
      "\n",
      "Cluster 47: Representative Tag - 'robot android'\n",
      "Tags: android, anime, mecha, robot, robot android, samurai\n",
      "\n",
      "Cluster 48: Representative Tag - 'wedding'\n",
      "Tags: carnival, circus, pageant, prom, reunion, wedding, wedding\n",
      "\n",
      "Cluster 49: Representative Tag - 'train'\n",
      "Tags: bus, stranger train, subway, train, train, van gogh\n",
      "\n"
     ]
    }
   ],
   "source": [
    "print(\"\\nClusters and Their Tags:\")\n",
    "for cluster_num in range(num_clusters):\n",
    "    cluster_tags = tag_cluster_df[tag_cluster_df['cluster'] == cluster_num]['tag'].tolist()\n",
    "    representative_tag = condensed_tags[cluster_num]\n",
    "    print(f\"Cluster {cluster_num}: Representative Tag - '{representative_tag}'\")\n",
    "    print(f\"Tags: {', '.join(cluster_tags)}\\n\")\n"
   ]
  },
  {
   "cell_type": "markdown",
   "metadata": {},
   "source": [
    "Using contextual embeddings like BERT can capture the semantic meaning of tags more effectively than traditional word embeddings. This can lead to more accurate clustering and a condensed tag list that makes sense."
   ]
  },
  {
   "cell_type": "markdown",
   "metadata": {},
   "source": [
    "Preprocess the Tags\n",
    "\n",
    "We'll start by preprocessing the tags to ensure consistency."
   ]
  },
  {
   "cell_type": "code",
   "execution_count": null,
   "metadata": {},
   "outputs": [
    {
     "name": "stderr",
     "output_type": "stream",
     "text": [
      "[nltk_data] Downloading package punkt to /Users/user/nltk_data...\n",
      "[nltk_data]   Package punkt is already up-to-date!\n",
      "[nltk_data] Downloading package wordnet to /Users/user/nltk_data...\n",
      "[nltk_data]   Package wordnet is already up-to-date!\n",
      "[nltk_data] Downloading package stopwords to /Users/user/nltk_data...\n",
      "[nltk_data]   Package stopwords is already up-to-date!\n"
     ]
    }
   ],
   "source": [
    "import nltk\n",
    "import string\n",
    "import pandas as pd\n",
    "import numpy as np\n",
    "\n",
    "# Download necessary NLTK data files\n",
    "nltk.download('punkt')\n",
    "nltk.download('wordnet')\n",
    "nltk.download('stopwords')\n",
    "\n",
    "from nltk.tokenize import word_tokenize\n",
    "from nltk.corpus import stopwords\n",
    "from nltk.stem import WordNetLemmatizer\n",
    "\n",
    "# Initialize lemmatizer and stopwords\n",
    "lemmatizer = WordNetLemmatizer()\n",
    "stop_words = set(stopwords.words('english'))\n",
    "\n",
    "# Your list of unique tags (ensure 'unique_tags' is defined with your tags)\n",
    "tags_list = unique_tags  # Replace 'unique_tags' with your actual list\n",
    "\n",
    "# Preprocess tags\n",
    "def preprocess_tag(tag):\n",
    "    # Remove punctuation\n",
    "    tag = tag.translate(str.maketrans('', '', string.punctuation))\n",
    "    # Convert to lowercase\n",
    "    tag = tag.lower()\n",
    "    # Tokenize\n",
    "    tokens = word_tokenize(tag)\n",
    "    # Remove stopwords and lemmatize\n",
    "    tokens = [lemmatizer.lemmatize(word) for word in tokens if word not in stop_words]\n",
    "    # Rejoin tokens\n",
    "    preprocessed_tag = ' '.join(tokens)\n",
    "    return preprocessed_tag\n",
    "\n",
    "preprocessed_tags = [preprocess_tag(tag) for tag in tags_list]\n"
   ]
  },
  {
   "cell_type": "markdown",
   "metadata": {},
   "source": [
    "Generate BERT Embeddings for Tags\n",
    "\n",
    "We'll use the pre-trained BERT model from Hugging Face's transformers library to generate embeddings."
   ]
  },
  {
   "cell_type": "markdown",
   "metadata": {},
   "source": [
    "Load BERT Model\n",
    "\n",
    "We'll use the sentence-transformers library, which simplifies obtaining embeddings for sentences or phrases using BERT."
   ]
  },
  {
   "cell_type": "code",
   "execution_count": null,
   "metadata": {},
   "outputs": [],
   "source": [
    "from sentence_transformers import SentenceTransformer\n",
    "\n",
    "# Load the pre-trained BERT model (this may take some time)\n",
    "model = SentenceTransformer('all-MiniLM-L6-v2')  # A smaller, efficient model\n"
   ]
  },
  {
   "cell_type": "markdown",
   "metadata": {},
   "source": [
    "Generate Embeddings"
   ]
  },
  {
   "cell_type": "code",
   "execution_count": null,
   "metadata": {},
   "outputs": [],
   "source": [
    "# Generate embeddings for all preprocessed tags\n",
    "tag_embeddings = model.encode(preprocessed_tags)\n"
   ]
  },
  {
   "cell_type": "markdown",
   "metadata": {},
   "source": [
    "Cluster Similar Tags\n",
    "\n",
    "- We'll use Agglomerative Hierarchical Clustering to cluster the tag embeddings.\n"
   ]
  },
  {
   "cell_type": "code",
   "execution_count": null,
   "metadata": {},
   "outputs": [
    {
     "name": "stdout",
     "output_type": "stream",
     "text": [
      "Number of clusters formed: 50\n"
     ]
    }
   ],
   "source": [
    "from sklearn.cluster import AgglomerativeClustering\n",
    "\n",
    "# Decide on the number of clusters (adjust as needed)\n",
    "num_clusters = 50\n",
    "\n",
    "# Perform clustering\n",
    "clustering_model = AgglomerativeClustering(\n",
    "    n_clusters=num_clusters,\n",
    "    metric='euclidean',\n",
    "    linkage='ward'\n",
    ")\n",
    "clustering_model.fit(tag_embeddings)\n",
    "\n",
    "# Get cluster labels\n",
    "labels = clustering_model.labels_\n",
    "\n",
    "# Create a DataFrame to hold tags and their cluster labels\n",
    "tag_cluster_df = pd.DataFrame({'tag': preprocessed_tags, 'cluster': labels})\n",
    "\n",
    "print(f\"Number of clusters formed: {len(set(labels))}\")\n"
   ]
  },
  {
   "cell_type": "markdown",
   "metadata": {},
   "source": [
    "Generate Condensed Tag List\n",
    "- We'll select a representative tag for each cluster."
   ]
  },
  {
   "cell_type": "code",
   "execution_count": null,
   "metadata": {},
   "outputs": [],
   "source": [
    "from sklearn.metrics.pairwise import cosine_distances\n",
    "\n",
    "# Initialize list to store representative tags\n",
    "condensed_tags = []\n",
    "\n",
    "for cluster_num in range(num_clusters):\n",
    "    # Get all tags in this cluster\n",
    "    cluster_tags = tag_cluster_df[tag_cluster_df['cluster'] == cluster_num]\n",
    "    indices = cluster_tags.index\n",
    "    cluster_vectors = tag_embeddings[indices]\n",
    "    \n",
    "    # Compute the centroid of the cluster\n",
    "    centroid = np.mean(cluster_vectors, axis=0)\n",
    "    \n",
    "    # Calculate distances from each tag vector to the centroid\n",
    "    distances = cosine_distances(cluster_vectors, [centroid]).flatten()\n",
    "    \n",
    "    # Find the index of the tag closest to the centroid\n",
    "    closest_index = distances.argmin()\n",
    "    representative_tag = cluster_tags.iloc[closest_index]['tag']\n",
    "    \n",
    "    condensed_tags.append(representative_tag)\n"
   ]
  },
  {
   "cell_type": "markdown",
   "metadata": {},
   "source": [
    "Display the Condensed Tag List"
   ]
  },
  {
   "cell_type": "code",
   "execution_count": null,
   "metadata": {},
   "outputs": [
    {
     "name": "stdout",
     "output_type": "stream",
     "text": [
      "Condensed Tag List:\n",
      "1980s\n",
      "acting\n",
      "amazing\n",
      "artistic\n",
      "australia\n",
      "bad story\n",
      "business\n",
      "cartoon\n",
      "character\n",
      "comedy\n",
      "crime\n",
      "dialogue\n",
      "drug\n",
      "emma thompson\n",
      "ending\n",
      "fairy tale\n",
      "food\n",
      "funny\n",
      "gold\n",
      "gunfight\n",
      "horror\n",
      "imagination\n",
      "james cameron\n",
      "killer\n",
      "lawyer\n",
      "marion cotillard\n",
      "movie movie\n",
      "multiple story\n",
      "music\n",
      "nonlinear timeline\n",
      "oscar best actress\n",
      "parenthood\n",
      "philosophical\n",
      "poetic\n",
      "poor plot development\n",
      "priest\n",
      "racism\n",
      "romance\n",
      "scifi masterpiece\n",
      "scott turow\n",
      "sentimental\n",
      "singer\n",
      "space\n",
      "sport\n",
      "stylish\n",
      "superhero\n",
      "twist\n",
      "violence\n",
      "war\n",
      "whale\n"
     ]
    }
   ],
   "source": [
    "# Sort the condensed tags alphabetically\n",
    "condensed_tags_sorted = sorted(condensed_tags)\n",
    "\n",
    "print(\"Condensed Tag List:\")\n",
    "for tag in condensed_tags_sorted:\n",
    "    print(tag)\n"
   ]
  },
  {
   "cell_type": "markdown",
   "metadata": {},
   "source": [
    "Display Clusters and Their Tags"
   ]
  },
  {
   "cell_type": "code",
   "execution_count": null,
   "metadata": {},
   "outputs": [
    {
     "name": "stdout",
     "output_type": "stream",
     "text": [
      "\n",
      "Clusters and Their Tags:\n",
      "Cluster 0: Representative Tag - 'funny'\n",
      "Tags: annoying, bizarre, clever, crazy, dumb, funny, genius, hilarious, humorous, insane, insanity, insightful, interesting, interesting scenario, ironic, irony, nonsense, funny, parody, ridiculous, sarcasm, satire, satirical, silly, strange, stupid, stupid funny, stupid stupid, unconventional, unusual, funny, weird, witty\n",
      "\n",
      "Cluster 1: Representative Tag - 'philosophical'\n",
      "Tags: abstract, achronological, allegorical, american propaganda, antiintellectual, antisemitism, antiwar, consumerism, contemplative, dystopia, ethic, existential, existentialism, fighting system, free speech, freedom, freedom expression, genocide, holocaust, human right, humane, individualism, inhumane, journalism, mediacentralism, metaphorical, morality, motivational, nazi, new society, philosophical, philosophical issue, philosophy, philosopical, political commentary, political right versus left, psychological, psychology, purposefulness, r language, rstrong language, rebellion, revolution, revolutionary, slavery, social commentary, societal criticism, sustainability, symbolic, symbolism, system holism, terrorism\n",
      "\n",
      "Cluster 2: Representative Tag - 'romance'\n",
      "Tags: adultery, alone world, avantgarde romantic comedy, awkward, awkward romance, celebrity fetishism, cheating, dating, divorce, double life, embarassing scene, friendship, homosexuality, imaginary friend, lesbian, lesbian subtext, loneliness, male nudity, marriage, masculinity, maydecember romance, multiple personality, multiple role, notable nudity, nudity full frontal, nudity topless, prostitution, quirky romantic, rgraphic sexuality, romance, romantic, romantic comedy, sex, sexuality, singleton, solitude, start beautiful friendship, threesome, twin, virginity, voyeurism, wedding, wedding\n",
      "\n",
      "Cluster 3: Representative Tag - 'scifi masterpiece'\n",
      "Tags: alien, classic scifi, crappy sequel, darth vader, firefly, george lucas, guardian galaxy, indiana jones, intelligent scifi, luke skywalker, prequel, remade, remake, remaster, rogue, scifi, science fiction, scifi, scifi masterpiece, sequel, steven spielberg, unnecessary sequel\n",
      "\n",
      "Cluster 4: Representative Tag - 'priest'\n",
      "Tags: ancient rome, archaeology, ark covenant, bible, biblical reference, convent, cult, cult classic, cult film, demon, historical, history, judaism, medieval, missionary, moses, nun, nun, preacher, priest, prince, prodigy, queen victoria, rabbi, religion, roman, rome, royal cheese, royalty, saint, saint, scifi cult, televangelist\n",
      "\n",
      "Cluster 5: Representative Tag - 'scott turow'\n",
      "Tags: aardman, adam sandler, alan rickman, amy adam, andy garcia, andy kaufman, andy samberg, anthony hopkins, ben affleck, cameowhoopi goldberg, casey affleck, chris evans, chris klein, christian bale, chuck palahniuk, cole porter, dan aykroyd, david fincher, david thewlis, doc ock, dodie smith, dwayne johnson, ed harris, edward norton, einstein, eric bana, gary oldman, hal, harper lee, harrison ford, harvey keitel, henry darger, howard hughes, hugh jackman, ichabod crane, jack nicholson, jake gyllenhaal, jared leto, jason, jason biggs, jason segel, jay silent bob, jeff bridge, jesse eisenberg, jesse ventura, john cusack, john goodman, john grisham, josh brolin, justin timberlake, kevin costner, kevin smith, kevin spacey, kurt russell, lieutenant dan, lou gehrig, maggie gyllenhaal, mark ruffalo, mark wahlberg, michael bay, michael cera, michael crichton, neil patrick harris, nick nora charles, nick hornby, nicolas cage, palahnuik, paul giamatti, paul rudd, peter pan, philip k dick, philip seymour hoffman, robert de niro, robert downey jr, robert ludlum, robert penn warren, roger avary, rosebud, russell crowe, ryan reynolds, salute douglas sirk, scott turow, seth macfarlane, seth rogen, simon garfunkel, simon pegg, stephen crane, steve buscemi, steve carell, tom clancy, wesley snipe, smith\n",
      "\n",
      "Cluster 6: Representative Tag - 'marion cotillard'\n",
      "Tags: 2001like, clever chef rat, dingo ate baby, al pacino, andrew lloyd weber, byatt, astaire rogers, atmospheric, austere, ben stiller, bette davis, big name actor, big top, bizzare, borg, butler, capone, capote, captain nemo, chilly, christopher lloyd, clock, clousseau, cold, coulda contender, day hudson, duma, ensemble cast, eugene oneill, favelas, francis ford coppola, hammett, hawkeye, huey long, imdb top 250, inigo montoya, jean grey, jean reno, jekyll hyde, jon hamm, joss whedon, katzanzakis, klingons, large cast, lloyd dobbler, lonesome polecat, luc besson, macaulay culkin, macho, magneto, marion cotillard, mccarthy hearing, morrow, mr dewinter, nabokov, nathan fillion, nerd, nerd, ninotchka remake, ogre, oninous, othello, palme dor, peta wilson, radio, rasicm, rogers hammerstein, rug, se hinton, salieri, shenanigan, shia labeouf, sixfingered man, slasher, slim pickens, sofia coppola, stiller, thanos, might giant, thor, toga, tolkein, tolstoy, toto, trucker, truman capote, uma thurman, ummarti2006, viggo mortensen, von bulow, weather forecaster, wolverine, zither, zooey deschanel\n",
      "\n",
      "Cluster 7: Representative Tag - '1980s'\n",
      "Tags: 1900s, 1920s, 1950s, 1960s, 1970s, 1980s, 1990s, adolescence, college, high school, highschool, school, teen, teen movie, teenager\n",
      "\n",
      "Cluster 8: Representative Tag - 'drug'\n",
      "Tags: accident, addiction, alcoholism, autism, blind, blindness, cancer, cerebral, coma, deaf, deafness, diabetes, disability, drug abuse, drug overdose, drug, heroin, eye, insurance, marijuana, mental hospital, mental illness, plastic surgery, psychedelic, psychopath, ptsd, schizophrenia, terminal illness, tobacco, transplant\n",
      "\n",
      "Cluster 9: Representative Tag - 'sentimental'\n",
      "Tags: bittersweet, bleak, boring, brutal, claustrophobic, cryptic, depressing, depression, disappointing, dull, enjoyable, entertaining, exciting, fun, gentle, grim, gruesome, happpiness, harsh, heartbreaking, hope, intense, intimate, longing, love, love story, meditative, melancholy, moody, nostalgia, obsession, passion, poignant, relaxing, sad, sentimental, somber, suicide, thrilling, much love interest, touching, tragic, uncomfortable, unsettling, wry\n",
      "\n",
      "Cluster 10: Representative Tag - 'whale'\n",
      "Tags: ape, aquarium, bear, big wave, bird, bug bunny, camel, cattle drive, creature feature, dinosaur, dinosaur, dog, donkey, evolution, fish, flood, horse, island, keanu reef, leopard, lion, lion, mermaid, moon, ocean, parrot, pig, pool, river, shark, spelling bee, spider, surfing, veterinarian, werewolf, whale\n",
      "\n",
      "Cluster 11: Representative Tag - 'parenthood'\n",
      "Tags: abortion, adoption, baby, big brother, brother, building family, child, family, family, fatherson relationship, fatherhood, give back son, father, incest, infertility, kid, lack development, lack story, marx brother, missing child, motherhood, orphan, parenthood, pregnancy, sisterhood, sister, teenage pregnancy\n",
      "\n",
      "Cluster 12: Representative Tag - 'crime'\n",
      "Tags: alcatraz, child abuse, cia, conspiracy, conspiracy theory, corruption, crime, crime scene scrubbing, espionage, fbi, fugitive, hostage, investor corruption, kidnapping, organised crime, organized crime, paranoia, paranoid, police, police corruption, prison, ransom, rape, robbery, scandal, secret society, secret, small time criminal, spy, spying, catholic church corrupt organization history, undercover cop, wrongful imprisonment\n",
      "\n",
      "Cluster 13: Representative Tag - 'comedy'\n",
      "Tags: adult humor, bad humor, best comedy, black comedy, black humor, black humour, british comedy, comedy, crude humor, dark comedy, dark humor, great humor, humor, humour, offbeat comedy, sexual humor, standup comedy\n",
      "\n",
      "Cluster 14: Representative Tag - 'artistic'\n",
      "Tags: artsy, amazing artwork, art, art house, arthouse, artistic, artsy, beautiful scenery, beautiful visuals, beautifully filmed, best picture, graphic design, great performance, great visuals, masterpiece, painter, photographer, photography, scenic, van gogh, virtual reality, visual, visually appealing, visually striking, visually stunning\n",
      "\n",
      "Cluster 15: Representative Tag - 'imagination'\n",
      "Tags: alternate reality, alternate universe, amnesia, androidscyborgs, android, artificial intelligence, audience intelligence underestimated, backwards memory, computer, computer, creative, creativity, future, futuristic, illusion, imagination, imaginative, innovative, intellectual, intelligent, magic, memory, memory loss, needed autobots, predictable, random, realistic, retro, robot, robot android, self discovery, smart, surreal, surrealism, technology, unintelligent, unpredictable, wizard\n",
      "\n",
      "Cluster 16: Representative Tag - 'australia'\n",
      "Tags: afghanistan, africa, australia, boston, british, california, cambodia, canada, chile, china, england, europe, france, french, hungary, india, indonesia, ireland, istanbul, italy, japan, jungle, la, la vega, los angeles, mexico, michigan, middle east, new york, new york city, paris, russia, savannah, scotland, siam, small town, south africa, south america, southern u, suburbia, tokyo, turkey, venice, vietnam\n",
      "\n",
      "Cluster 17: Representative Tag - 'business'\n",
      "Tags: amtrak, bank, big corporation, business, captain america, captain kirk, city politics, dc, economics, empire state building, enterprise, financial crisis, franchise, governess, jazz, mathematics, mcu, military, mount rushmore, navy, peace corp, politics, president, real estate, ship, shipwreck, show business, star trek, stock market, stranger train, submarine, subway, titanic, train, train, union, wall street, watergate, workplace\n",
      "\n",
      "Cluster 18: Representative Tag - 'food'\n",
      "Tags: amish, asylum, bluegrass, bowling, bubba gump shrimp, bus, busniess, camp, christmas, coke, deep throat, diner, dumpster diving, dust bowl, food, gritty, halloween, homeless, hotel, mcdonalds, milkshake, moldy, muppets, nightclub, pizza beer, prom, pudding, pulp, quaker, recap, restaurant, reunion, shrimp, stapler, thanksgiving, tradition, wine\n",
      "\n",
      "Cluster 19: Representative Tag - 'gold'\n",
      "Tags: 70mm, 80, aging, aid, bechdel testfail, big budget, black hole, blood, blood splatter, bloody, class, classic, classic movie, cyberpunk, email, epic, everything want, excon, factory, falling, ferris wheel, first much better, general motor, gold, golden watch, heavy metal, heist, holy grail, hula hoop, immortality, lawn mower, long shot, long take, matchmaker, mouse, mining, money, moving, oil, old, oldie goodie, order, personal ad, postapocalyptic, postcollege, pow, quick cut, rich guy poor girl, screwball, sinbad, slick, slow, something everyone one saw without plan seeing kid, south park, space epic, splatter, spoof, stand, stop looking swan, swashbuckler, test tag, force, long, treasure hunt, series, updated classic, way long\n",
      "\n",
      "Cluster 20: Representative Tag - 'acting'\n",
      "Tags: acting, action, action choreography, action packed, bad acting, ballet, ballroom dance, broadway, costume drama, dance, dance marathon, dancing, drama, fast paced, great acting, horrible acting, horrible directing, live actionanimation, opera, poorly paced, slow action, slow paced, space action, space opera, stage, theater\n",
      "\n",
      "Cluster 21: Representative Tag - 'poetic'\n",
      "Tags: absorbing, beat poetry, boksdrama, brainwashing, claymation, cross dressing, crucifixion, downbeat, eccentric, elegiac, enigmatic, episodic, far fetched, feelgood, gore, goretastic, hallucinatory, heartwarming, highly quotable, inspirational, inspiring, introspection, invisibility, irreverent, melodramatic kind dumb, lyrical, made cry, melancholic, mindbending, mindblowing, mindfuck, mindless one liner, mirror, mockumentary, mystery, overcomplicated, overrated, poetic, procedural, purity essence, quotable, rviolence, reciprocal spectator, reflective, spaghetti western, special effect, tear jerker, tearjerking, tense, thought provoking, thoughtprovoking, transvestite, understated, unexplained, unoriginal, uplifting, vertriloquism, wapendrama, western, whimsical, wistful\n",
      "\n",
      "Cluster 22: Representative Tag - 'gunfight'\n",
      "Tags: big boy gun, boxing, boxing story, bromance, bromantic, brooch, coen bros, coen brother, con artist, con men, gun fu, gun tactic, gunfu, gunfight, gun, hit men, hitman, kung fu, martial art, men drag, mma, motherfucker, samurai, sniper, sword fight, younger men\n",
      "\n",
      "Cluster 23: Representative Tag - 'fairy tale'\n",
      "Tags: based book, based play, based true story, biography, book, dark fairy tale, faerie tale, fairy tale, fairy tale, fantasy, fantasy world, harry potter, high fantasy, lord ring, macbeth, modern fantasy, myth, mythology, narnia, shakespeare, shakespeare sort, tolkien\n",
      "\n",
      "Cluster 24: Representative Tag - 'multiple story'\n",
      "Tags: anthology, bad writing, good writing, intertwining storyline, interwoven storyline, monologue, multiple short story, multiple story, multiple storyline, narrated, nonlinear narrative, nonlinear storyline, short story, smart writing, storytelling, writing\n",
      "\n",
      "Cluster 25: Representative Tag - 'superhero'\n",
      "Tags: batman, comic book, comic, dc comic, harley quinn, harley quinns as, joker, knight, margot robbie, marvel, superhero, superhero team, superman\n",
      "\n",
      "Cluster 26: Representative Tag - 'poor plot development'\n",
      "Tags: bad plot, exquisite plotting, lack plot, original plot, plot hole, poor plot development, predictible plot, superficial plot, weak plot\n",
      "\n",
      "Cluster 27: Representative Tag - 'ending'\n",
      "Tags: alternate ending, confusing ending, ending, great ending, happy ending, powerful ending, stupid ending, surprise ending\n",
      "\n",
      "Cluster 28: Representative Tag - 'horror'\n",
      "Tags: creepy, dark, dark hero, disturbing, dreamlike, dream, dreamy, eerie, film noir, freak, ghost, ghost, haunting, horror, insomnia, night shyamalan, neonoir, nightmare, nocturnal, noir, psychological thriller, scary, suspense, suspenseful, thriller, vampire, vampire\n",
      "\n",
      "Cluster 29: Representative Tag - 'sport'\n",
      "Tags: adventure, baseball, basketball, biking, carnival, casino, chess, circus, engrossing adventure, figure skating, football, gambling, game, golf, golfing, magic board game, mountain climbing, olympics, road trip, skiing, soccer, space adventure, sport, video game adaptation, video game\n",
      "\n",
      "Cluster 30: Representative Tag - 'amazing'\n",
      "Tags: adorable, amazing, awesome, beautiful, brilliant, cool, fucked, good, lovely, mecha, sexy, sweet, well done\n",
      "\n",
      "Cluster 31: Representative Tag - 'music'\n",
      "Tags: bad music, beatles, beethoven, david bowie, drug music, good music, good soundtrack, great soundtrack, hip hop, indie record label, mozart, music, music business, music industry, new composer, notable soundtrack, rap, soundtrack, superb soundtrack\n",
      "\n",
      "Cluster 32: Representative Tag - 'war'\n",
      "Tags: apocalypse, atomic bomb, bomb, civil war, cold war, disaster, end world, fighting, gulf war, last man earth, modern war, nuclear disaster, nuclear war, post apocalyptic, star war, stranded, survival, tragedy, war, world war, world war ii\n",
      "\n",
      "Cluster 33: Representative Tag - 'violence'\n",
      "Tags: brutality, casual violence, domestic violence, meaningless violence, rdisturbing violent content including rape, rdisturbing violent image, rsome violence, rstrong bloody violence, violence, violence america, violent\n",
      "\n",
      "Cluster 34: Representative Tag - 'bad story'\n",
      "Tags: bad, bad as, bad joke, bad language, bad science, bad script, bad story, badass, claim true, evil child, foul language, good evil, lie, poor story, really bad, true story, truth\n",
      "\n",
      "Cluster 35: Representative Tag - 'nonlinear timeline'\n",
      "Tags: disjointed timeline, matrix, nonlinear, nonlinear timeline, nonlinear, nonlinear timeline, linear, time travel, timetravel\n",
      "\n",
      "Cluster 36: Representative Tag - 'cartoon'\n",
      "Tags: 2d animation, animation, anime, based tv show, biopic, cartoon, cgi, computer animation, conan, disney, disney animated feature, documentary, free download, netflix queue, dvd netflix, available netflix, pixar, reality tv, saturday night live, snl, television, tv, video\n",
      "\n",
      "Cluster 37: Representative Tag - 'dialogue'\n",
      "Tags: amazing dialogue, bad dialogue, conversation, dialogue, entirely dialogue, good dialogue, great dialogue, dialogue, poor dialogue\n",
      "\n",
      "Cluster 38: Representative Tag - 'racism'\n",
      "Tags: american indian, black white, blackandwhite, immigrant, immigration, interracial marriage, interracial romance, native american, prejudice, race, racism, white guilt\n",
      "\n",
      "Cluster 39: Representative Tag - 'twist'\n",
      "Tags: challenging, complicated, confusing, plot twist, simple, tedious, tension, tension building, tricky, twist, twist ending, twisted, twist turn\n",
      "\n",
      "Cluster 40: Representative Tag - 'singer'\n",
      "Tags: american idolatry, britpop, doll, dorothy, gal gadot, generation x, gintama, girl power, grace, halle berry, hayao miyazaki, hearst, hepburn tracy, heroine tight suit, jackie chan, lolita theme, loretta lynn, narrative pisstake, pageant, pearl buck, pee wee herman, pop culture reference, remix culture, rita hayworth dance, rolling stone, shangrila, singer, statue, stone age, stoner movie, stone summer, studio ghibli, entertainer, wonderwoman\n",
      "\n",
      "Cluster 41: Representative Tag - 'james cameron'\n",
      "Tags: adrien brody, alfred hitchcock, arnold schwarzenegger, arthur miller, ben kingsley, bill murray, bruce willis, charles dickens, christoph waltz, christopher nolan, colin farrell, daniel craig, daniel radcliffe, denzel washington, dickens, e forster, em forster, earnest, ewan mcgregor, george bernard shaw, george clooney, graham greene, hemingway, henry james, jaime pressly, james cameron, james fennimore cooper, james franco, james stewart, jim carrey, jim morrison, john malkovich, john travolta, johnny cash, johnny depp, king arthur, leonardo dicaprio, leonardo dicarpio, liam neeson, martin scorsese, matt damon, mel gibson, monty python, morgan freeman, norman bates, orlando bloom, oscar wilde, quentin tarantino, ralph fiennes, ray bradbury, roald dahl, robin williams, samuel l jackson, sean connery, seann william scott, stanley kubrick, stephen king, sundance award winner, tarantino, tennessee williams, tim burton, tom hank, tom hardy, travolta, trey parker, ferrell, woody harrelson\n",
      "\n",
      "Cluster 42: Representative Tag - 'oscar best actress'\n",
      "Tags: 06 oscar nominated best movie animation, academy award best supporting actress, oscar best actress, oscar best cinematography, oscar best effect visual effect, oscar best music original score, oscar best supporting actress\n",
      "\n",
      "Cluster 43: Representative Tag - 'killer'\n",
      "Tags: assassin, assassinintraining scene, assassination, assassin, british gangster, dead wife, deadpan, death, death penalty, fatalistic, gang, gangster, gangster, see dead people, killer, killerasprotagonist, mafia, mobster, mobster, murder, rob zombie, serial killer, zombie\n",
      "\n",
      "Cluster 44: Representative Tag - 'space'\n",
      "Tags: aviation, fastpaced, fastpaced dialogue, nasa, plane, settingspacespace ship, space, space craft, space station, space travel, spacecraft\n",
      "\n",
      "Cluster 45: Representative Tag - 'movie movie'\n",
      "Tags: amazing cinematography, animal movie, beautiful cinematography, chick flick, cinematography, directorial debut, film history, filmnoir, fun family movie, good cinematography, great cinematography, great movie, great screenplay, hollywood, independent film, movie business, movie, movie movie, seen cinema, short film\n",
      "\n",
      "Cluster 46: Representative Tag - 'stylish'\n",
      "Tags: aggressive, alter ego, anger, cheeky, cheesy, childish naivity, colorful, colourful, confrontational, controversial, cool style, cynical, different, easygoing, elegant, emotional, geeky, goofy, gothic, hippy, horrid characterisation, iconic, independent, menacing, seen, offensive, original, postmodern, quirky, rsustained strong stylized violence, revenge, seen, sophisticated, stylish, stylized, trippy, unique, vulgar\n",
      "\n",
      "Cluster 47: Representative Tag - 'character'\n",
      "Tags: character development, character study, character, cliche character, cruel character, great villain, hannibal lecter, hannibal lector, heroic bloodshed, interesting character, representation child, stop using useless character filler, many character, unlikely hero, villain nonexistent needed good story\n",
      "\n",
      "Cluster 48: Representative Tag - 'emma thompson'\n",
      "Tags: agatha christie, alicia vikander, angelina jolie, anne boleyn, anne hathaway, arthur c clarke, audrey tautou, brad pitt, brittany murphy, c lewis, cate blanchett, charlize theron, charlotte bronte, christina ricci, edith wharton, emilia clarke, emma, emma stone, emma thompson, eva green, katie, helena bonham carter, hilary swank, hot actress, jane austen, jennifer connelly, jennifer lawrence, jessica alba, julianne moore, juliette lewis, louisa may alcott, meryl streep, mila kunis, natalie portman, rachel mcadams, rachel weisz, renee zellweger, sexy female scientist, tilda swinton, winona ryder, woman, zoe kazan\n",
      "\n",
      "Cluster 49: Representative Tag - 'lawyer'\n",
      "Tags: court, courtroom drama, doctor, dr seuss, dr strange, housekeeper, jude law, justice, lawyer, lawyer, mad scientist, nanny, psychiatrist, teacher, teacher, widowswidowers\n",
      "\n"
     ]
    }
   ],
   "source": [
    "print(\"\\nClusters and Their Tags:\")\n",
    "for cluster_num in range(num_clusters):\n",
    "    cluster_tags_list = tag_cluster_df[tag_cluster_df['cluster'] == cluster_num]['tag'].tolist()\n",
    "    representative_tag = condensed_tags[cluster_num]\n",
    "    print(f\"Cluster {cluster_num}: Representative Tag - '{representative_tag}'\")\n",
    "    print(f\"Tags: {', '.join(cluster_tags_list)}\\n\")\n"
   ]
  },
  {
   "cell_type": "markdown",
   "metadata": {},
   "source": [
    "Additional Considerations\n",
    "Adjusting Clustering Parameters: If the condensed tag list doesn't make sense, try adjusting num_clusters or using different clustering algorithms (e.g., KMeans, DBSCAN).\n",
    "Semantic Cohesion: Use metrics like Silhouette Score to evaluate the quality of the clusters.\n",
    "Interactive Visualization: Tools like t-SNE or UMAP can help visualize high-dimensional embeddings in 2D space for inspection.\n",
    "\n",
    "Final Thoughts\n",
    "\n",
    "By using BERT embeddings, we've improved the semantic representation of tags, leading to more meaningful clustering and a condensed tag list that makes sense. This list can enhance the user experience by simplifying the selection of tags for personalized recommendations.\n",
    "\n"
   ]
  },
  {
   "cell_type": "markdown",
   "metadata": {},
   "source": [
    "Updated get_user_recommendations Function"
   ]
  },
  {
   "cell_type": "code",
   "execution_count": null,
   "metadata": {},
   "outputs": [],
   "source": [
    "def get_user_recommendations(user_id=None, num_recommendations=10, preferred_genres=None, preferred_tags=None):\n",
    "    \"\"\"\n",
    "    Generate personalized movie recommendations for a given user or based on preferred genres/tags.\n",
    "\n",
    "    Parameters:\n",
    "    - user_id (int, optional): The ID of the user. If None, recommendations will be based on preferred genres/tags.\n",
    "    - num_recommendations (int): The number of recommendations to return.\n",
    "    - preferred_genres (list, optional): A list of preferred genres.\n",
    "    - preferred_tags (list, optional): A list of preferred tags.\n",
    "\n",
    "    Returns:\n",
    "    - recommendations_df (DataFrame): A DataFrame containing the recommended movies,\n",
    "      their hybrid scores, and explanations.\n",
    "    \"\"\"\n",
    "    # Validate inputs\n",
    "    if user_id is not None and user_id not in ratings_df['userId'].unique():\n",
    "        print(f\"User ID {user_id} not found. Recommendations will be based on preferred genres/tags.\")\n",
    "        user_id = None\n",
    "\n",
    "    # Initialize variables\n",
    "    all_movie_ids = movies_df['movieId'].unique()\n",
    "\n",
    "    # Movies the user has already rated\n",
    "    if user_id is not None:\n",
    "        user_ratings = ratings_df[ratings_df['userId'] == user_id]\n",
    "        rated_movies = user_ratings['movieId'].tolist()\n",
    "    else:\n",
    "        user_ratings = pd.DataFrame()\n",
    "        rated_movies = []\n",
    "\n",
    "    # Movies the user hasn't rated yet\n",
    "    unrated_movies = [movie_id for movie_id in all_movie_ids if movie_id not in rated_movies]\n",
    "\n",
    "    # Collaborative Filtering Predictions using Neural Network Model\n",
    "    if user_id is not None and not user_ratings.empty:\n",
    "        # Map user_id to user_idx\n",
    "        if user_id in user_id_to_idx:\n",
    "            user_idx = user_id_to_idx[user_id]\n",
    "        else:\n",
    "            print(f\"User ID {user_id} not found in neural network model.\")\n",
    "            return None\n",
    "\n",
    "        # Map movie IDs to item indices\n",
    "        unrated_movie_indices = []\n",
    "        valid_movie_ids = []\n",
    "        for movie_id in unrated_movies:\n",
    "            if movie_id in movie_id_to_idx:\n",
    "                item_idx = movie_id_to_idx[movie_id]\n",
    "                unrated_movie_indices.append(item_idx)\n",
    "                valid_movie_ids.append(movie_id)\n",
    "\n",
    "        # Prepare input arrays\n",
    "        user_indices = np.full(len(unrated_movie_indices), user_idx)\n",
    "        item_indices = np.array(unrated_movie_indices)\n",
    "\n",
    "        # Make predictions using the neural network model\n",
    "        cf_scores = model.predict([user_indices, item_indices], batch_size=1024).flatten()\n",
    "\n",
    "        # Create DataFrame of predictions\n",
    "        cf_pred_df = pd.DataFrame({'movieId': valid_movie_ids, 'cf_score': cf_scores})\n",
    "    else:\n",
    "        cf_pred_df = pd.DataFrame(columns=['movieId', 'cf_score'])\n",
    "\n",
    "    # Content-Based Filtering Scores\n",
    "    # Build user profile vector based on preferences\n",
    "    # If user has ratings, combine their profile with preferred genres/tags\n",
    "    user_profile_tfidf = np.zeros(tfidf_matrix.shape[1])\n",
    "\n",
    "    # Incorporate preferred genres and tags\n",
    "    preference_text = ''\n",
    "    if preferred_genres:\n",
    "        # Ensure genres are in the unique genres list\n",
    "        valid_genres = [genre for genre in preferred_genres if genre in unique_genres]\n",
    "        preference_text += ' '.join(valid_genres) + ' '\n",
    "    if preferred_tags:\n",
    "        # Ensure tags are in the condensed tags list\n",
    "        valid_tags = [tag for tag in preferred_tags if tag in condensed_tags]\n",
    "        preference_text += ' '.join(valid_tags)\n",
    "    preference_text = preprocess(preference_text)\n",
    "\n",
    "    if preference_text:\n",
    "        # Transform preference text into TF-IDF vector\n",
    "        preference_vector = tfidf.transform([preference_text]).toarray().flatten()\n",
    "        # Combine with user profile\n",
    "        user_profile_tfidf += preference_vector * 2  # Weight preferences more heavily\n",
    "    else:\n",
    "        if user_profile_tfidf.sum() == 0:\n",
    "            print(\"No user ratings or valid preferences provided. Cannot generate recommendations.\")\n",
    "            return None\n",
    "\n",
    "    # Normalize the user profile vector\n",
    "    if np.linalg.norm(user_profile_tfidf) == 0:\n",
    "        user_profile_tfidf_normalized = user_profile_tfidf\n",
    "    else:\n",
    "        user_profile_tfidf_normalized = user_profile_tfidf / np.linalg.norm(user_profile_tfidf)\n",
    "\n",
    "    # Compute cosine similarity between user profile and all movie vectors\n",
    "    content_similarities = cosine_similarity([user_profile_tfidf_normalized], tfidf_matrix).flatten()\n",
    "\n",
    "    # Create content-based predictions for unrated movies\n",
    "    cb_predictions = []\n",
    "    for idx, movie_id in enumerate(movies_with_tags['movieId']):\n",
    "        if movie_id in unrated_movies:\n",
    "            cb_predictions.append((movie_id, content_similarities[idx]))\n",
    "    cb_pred_df = pd.DataFrame(cb_predictions, columns=['movieId', 'cb_score'])\n",
    "\n",
    "    # Merge predictions\n",
    "    if not cf_pred_df.empty:\n",
    "        hybrid_pred_df = pd.merge(cf_pred_df, cb_pred_df, on='movieId', how='inner')\n",
    "    else:\n",
    "        hybrid_pred_df = cb_pred_df.copy()\n",
    "        hybrid_pred_df['cf_score'] = np.nan  # Placeholder for consistency\n",
    "\n",
    "    # Calculate weights\n",
    "    if user_id is not None and not user_ratings.empty:\n",
    "        num_user_ratings = len(user_ratings)\n",
    "        max_ratings = ratings_df['userId'].value_counts().max()\n",
    "        cf_weight = num_user_ratings / max_ratings\n",
    "        cb_weight = 1 - cf_weight\n",
    "        # Ensure weights sum to 1\n",
    "        cf_weight = cf_weight / (cf_weight + cb_weight)\n",
    "        cb_weight = 1 - cf_weight\n",
    "    else:\n",
    "        cf_weight = 0.0\n",
    "        cb_weight = 1.0\n",
    "\n",
    "    # Compute hybrid score\n",
    "    hybrid_pred_df['hybrid_score'] = (cf_weight * hybrid_pred_df['cf_score'].fillna(0)) + (cb_weight * hybrid_pred_df['cb_score'])\n",
    "\n",
    "    # Merge with movies DataFrame to get titles and genres\n",
    "    hybrid_pred_df = pd.merge(hybrid_pred_df, movies_df[['movieId', 'title', 'genres']], on='movieId', how='left')\n",
    "\n",
    "    # Sort by hybrid score\n",
    "    hybrid_pred_df = hybrid_pred_df.sort_values(by='hybrid_score', ascending=False)\n",
    "\n",
    "    # Select the top N recommendations\n",
    "    top_recommendations = hybrid_pred_df.head(num_recommendations)\n",
    "\n",
    "    # Generate explanations\n",
    "    explanations = []\n",
    "    for idx, row in top_recommendations.iterrows():\n",
    "        explanation = \"\"\n",
    "        # High predicted preference score\n",
    "        if not np.isnan(row['cf_score']) and row['cf_score'] >= 0.5:\n",
    "            explanation += \"High predicted preference score. \"\n",
    "        # Matching genres\n",
    "        movie_genres = set(row['genres'])\n",
    "        matching_genres = set(preferred_genres or []) & movie_genres\n",
    "        if matching_genres:\n",
    "            explanation += f\"Includes your preferred genres: {', '.join(matching_genres)}. \"\n",
    "        # Similar content\n",
    "        if row['cb_score'] >= 0.5:\n",
    "            explanation += \"Similar content based on your preferences. \"\n",
    "        explanations.append(explanation.strip())\n",
    "\n",
    "    # Add explanations to the DataFrame\n",
    "    top_recommendations['explanation'] = explanations\n",
    "\n",
    "    # Reorder columns\n",
    "    recommendations_df = top_recommendations[['movieId', 'title', 'hybrid_score', 'explanation']]\n",
    "\n",
    "    return recommendations_df.reset_index(drop=True)\n"
   ]
  },
  {
   "cell_type": "code",
   "execution_count": null,
   "metadata": {},
   "outputs": [
    {
     "data": {
      "text/plain": [
       "['funny',\n",
       " 'philosophical',\n",
       " 'romance',\n",
       " 'scifi masterpiece',\n",
       " 'priest',\n",
       " 'scott turow',\n",
       " 'marion cotillard',\n",
       " '1980s',\n",
       " 'drug',\n",
       " 'sentimental',\n",
       " 'whale',\n",
       " 'parenthood',\n",
       " 'crime',\n",
       " 'comedy',\n",
       " 'artistic',\n",
       " 'imagination',\n",
       " 'australia',\n",
       " 'business',\n",
       " 'food',\n",
       " 'gold',\n",
       " 'acting',\n",
       " 'poetic',\n",
       " 'gunfight',\n",
       " 'fairy tale',\n",
       " 'multiple story',\n",
       " 'superhero',\n",
       " 'poor plot development',\n",
       " 'ending',\n",
       " 'horror',\n",
       " 'sport',\n",
       " 'amazing',\n",
       " 'music',\n",
       " 'war',\n",
       " 'violence',\n",
       " 'bad story',\n",
       " 'nonlinear timeline',\n",
       " 'cartoon',\n",
       " 'dialogue',\n",
       " 'racism',\n",
       " 'twist',\n",
       " 'singer',\n",
       " 'james cameron',\n",
       " 'oscar best actress',\n",
       " 'killer',\n",
       " 'space',\n",
       " 'movie movie',\n",
       " 'stylish',\n",
       " 'character',\n",
       " 'emma thompson',\n",
       " 'lawyer']"
      ]
     },
     "metadata": {},
     "output_type": "display_data"
    }
   ],
   "source": [
    "condensed_tags"
   ]
  },
  {
   "cell_type": "code",
   "execution_count": null,
   "metadata": {},
   "outputs": [
    {
     "name": "stdout",
     "output_type": "stream",
     "text": [
      "Recommendations Based on Your Preferences:\n",
      "   movieId                                         title  hybrid_score  \\\n",
      "0    69122                          Hangover, The (2009)           1.0   \n",
      "1   193565                     Gintama: The Movie (2010)           1.0   \n",
      "2     1732                      Big Lebowski, The (1998)           1.0   \n",
      "3      296                           Pulp Fiction (1994)           1.0   \n",
      "4    85565                            Chalet Girl (2011)           1.0   \n",
      "5   183611                             Game Night (2018)           1.0   \n",
      "6      413                               Airheads (1994)           1.0   \n",
      "7    67087                        I Love You, Man (2009)           1.0   \n",
      "8     4816                              Zoolander (2001)           1.0   \n",
      "9     8641  Anchorman: The Legend of Ron Burgundy (2004)           1.0   \n",
      "\n",
      "                                  explanation  \n",
      "0  Similar content based on your preferences.  \n",
      "1  Similar content based on your preferences.  \n",
      "2  Similar content based on your preferences.  \n",
      "3  Similar content based on your preferences.  \n",
      "4  Similar content based on your preferences.  \n",
      "5  Similar content based on your preferences.  \n",
      "6  Similar content based on your preferences.  \n",
      "7  Similar content based on your preferences.  \n",
      "8  Similar content based on your preferences.  \n",
      "9  Similar content based on your preferences.  \n"
     ]
    }
   ],
   "source": [
    "# Example usage\n",
    "preferred_genres = ['Romance', 'Action']  # User-selected genres\n",
    "preferred_tags = ['comedy']     # User-selected tags from condensed_tags\n",
    "num_recommendations = 10\n",
    "\n",
    "recommendations = get_user_recommendations(\n",
    "    user_id=None,  # or specify a user_id if available\n",
    "    num_recommendations=num_recommendations,\n",
    "    preferred_genres=preferred_genres,\n",
    "    preferred_tags=preferred_tags\n",
    ")\n",
    "\n",
    "print(\"Recommendations Based on Your Preferences:\")\n",
    "print(recommendations)"
   ]
  },
  {
   "cell_type": "markdown",
   "metadata": {},
   "source": [
    "Conclusion\n",
    "By incorporating the unique genres and the condensed tags into the get_user_recommendations function, we've enhanced its ability to generate personalized movie recommendations based on the user's specified interests. The function now:\n",
    "\n",
    "Validates and uses the user's preferred genres and tags.\n",
    "Combines collaborative filtering (if user ratings are available) with content-based filtering.\n",
    "Provides explanations for each recommendation, improving transparency and user trust."
   ]
  },
  {
   "cell_type": "code",
   "execution_count": null,
   "metadata": {},
   "outputs": [],
   "source": []
  }
 ],
 "metadata": {
  "kernelspec": {
   "display_name": "learn-env",
   "language": "python",
   "name": "python3"
  },
  "language_info": {
   "codemirror_mode": {
    "name": "ipython",
    "version": 3
   },
   "file_extension": ".py",
   "mimetype": "text/x-python",
   "name": "python",
   "nbconvert_exporter": "python",
   "pygments_lexer": "ipython3",
   "version": "3.8.5"
  }
 },
 "nbformat": 4,
 "nbformat_minor": 2
}
